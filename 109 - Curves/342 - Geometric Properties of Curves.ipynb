{
 "cells": [
  {
   "cell_type": "code",
   "execution_count": null,
   "metadata": {},
   "outputs": [],
   "source": [
    "from decodes.core import *\n",
    "from decodes.io.jupyter_out import JupyterOut\n",
    "import math\n",
    "\n",
    "out = JupyterOut.unit_square( )"
   ]
  },
  {
   "cell_type": "markdown",
   "metadata": {},
   "source": [
    "# Geometric Properties of Curves\n",
    "\n",
    "To move beyond visual evaluations of a curve we require means of quantification. Here we describe the essential mathematical quantities that capture the geometric features of curves most often used in design.\n",
    "\n",
    "These include quantities such as ***length***, ***curvature***, and ***Frenet frame*** (which includes the ***unit tangent*** and ***normal*** vectors).\n",
    "\n",
    "All of These are typically expressed using calculus and implemented using numerical methods. Here we will limit ourselves to a discrete setting where the curve is thought of as a sampling of points, sometimes called ***discrete approximation***.\n",
    "\n",
    "An easy way to understand how this works is to look at how curve length is calculated."
   ]
  },
  {
   "cell_type": "markdown",
   "metadata": {},
   "source": [
    "<img src=\"http://geometric-computation-images.s3-website-us-east-1.amazonaws.com/1.11.P10.jpg\" style=\"width: 200px; display: inline;\">"
   ]
  },
  {
   "cell_type": "markdown",
   "metadata": {},
   "source": [
    "### Curve Length\n",
    "\n",
    "The simplest way of calculating the length of a curve is to sample the curve to produce a dense collection of points, and then sum up the distance between each pair of points.\n",
    "\n",
    "In code, this would be expressed as such:"
   ]
  },
  {
   "cell_type": "code",
   "execution_count": null,
   "metadata": {},
   "outputs": [],
   "source": [
    "\"\"\"\n",
    "Curve Length\n",
    "\"\"\"\n",
    "def appx_length(self): \n",
    "    length = 0\n",
    "    for ival in Interval() // resolution:\n",
    "        length += self.eval(ival.a).distance(self.eval(ival.b))\n",
    "    return length"
   ]
  },
  {
   "cell_type": "markdown",
   "metadata": {},
   "source": [
    "The more samples we take, the more accurate our length calculation. \n",
    "\n",
    "Take, for example, a series of length calculations for a parabolic curve, each with an increasing number of samples. The results are shown in the table bleow, which demonstrates two properties of this discrete approach to calculating curve length:\n",
    "* the additional number of samples required to achieve an additional decimal point of precision increases exponentially\n",
    "* the calculated length increases with additional samples, converging from below on the actual length of the Curve."
   ]
  },
  {
   "cell_type": "markdown",
   "metadata": {},
   "source": [
    "<table style=\"width:600px\">\n",
    "    <tr>\n",
    "        <th colspan=\"2\" style=\"text-align:left\">*Curve Length Accuracy*</th>\n",
    "    </tr>\n",
    "    <tr>\n",
    "        <th style=\"text-align:left\">*Number of Divisions*</th>\n",
    "        <th style=\"text-align:left\">*Calculated Length*</th>\n",
    "    </tr>\n",
    "    <tr>\n",
    "        <td>2</td>\n",
    "        <td><span style=\"color:blue\">4.57649122254</span></td>\n",
    "    </tr>\n",
    "    <tr>\n",
    "        <td>4</td>\n",
    "        <td>4.<span style=\"color:blue\">62672348734</span></td>\n",
    "    </tr>\n",
    "    <tr>\n",
    "        <td>16</td>\n",
    "        <td>4.6<span style=\"color:blue\">4552053219</span></td>\n",
    "    </tr>\n",
    "    <tr>\n",
    "        <td>32</td>\n",
    "        <td>4.64<span style=\"color:blue\">646795934</span></td>\n",
    "    </tr>\n",
    "    <tr>\n",
    "        <td>128</td>\n",
    "        <td>4.646<span style=\"color:blue\">76402483</span></td>\n",
    "    </tr>\n",
    "    <tr>\n",
    "        <td>512</td>\n",
    "        <td>4.6467<span style=\"color:blue\">8252883</span></td>\n",
    "    </tr>\n",
    "    <tr>\n",
    "        <td>1084</td>\n",
    "        <td>4.64678<span style=\"color:blue\">345403</span></td>\n",
    "    </tr>\n",
    "</table>"
   ]
  },
  {
   "cell_type": "markdown",
   "metadata": {},
   "source": [
    "## Calculating Properties by Nearest Neighbors Approximation\n",
    "\n",
    "To illustrate and compute the remainder of the geometric properties, we build upon this basic logic of extracting information on neighboring points, usually in groups of three points at a time.\n",
    "\n",
    "The properties of ***curvature***, ***unit tangent***, ***normal vector***, and ***Frenet frame*** all describe certain local qualities of a curve near a particular point. The discrete approximation of these local properties requires additional information besides the point itself; the addition of two of its ***nearest neighbors***, points that are just ahead and just behind our point of interest.\n",
    "\n",
    "To ensure that the neighboring points are close, we set the step-size $\\Delta t$ to be a fraction of `Curve.tol`."
   ]
  },
  {
   "cell_type": "code",
   "execution_count": null,
   "metadata": {},
   "outputs": [],
   "source": [
    "\"\"\"\n",
    "Calculation of Nearest Neighbors \n",
    "Returns a Point on the Curve and two neighboring Points on either side at a distance related to \n",
    "the tolerance of the Curve \n",
    "\"\"\"\n",
    "def nearest_neighbors(crv,t):\n",
    "    pt = crv.eval(t)\n",
    "    pt_plus = crv.eval(t + crv.tol_nudge)\n",
    "    pt_minus = crv.eval(t - crv.tol_nudge)\n",
    "    return pt, Vec(pt_plus,pt), Vec(pt,pt_minus)"
   ]
  },
  {
   "cell_type": "markdown",
   "metadata": {},
   "source": [
    "<img src=\"http://geometric-computation-images.s3-website-us-east-1.amazonaws.com/1.11.P16.jpg\" style=\"width: 200px; display: inline;\">"
   ]
  },
  {
   "cell_type": "markdown",
   "metadata": {},
   "source": [
    "### Tangent Vector\n",
    "\n",
    "The ***tangent vector*** at a curve point measures the rate of change of the curve.\n",
    "\n",
    "Geometrically, this is a vector that just touches the curve at the curve point. In a discrete setting, the vectors that connect the point to its nearest neighbors are approximately vectors tangent to the curve. \n",
    "\n",
    "If all we want is the direction of the tangent, then normalizing any one of these vectors gives an approximation for the ***unit tangent vector***, denoted as $\\vec{T}$"
   ]
  },
  {
   "cell_type": "code",
   "execution_count": null,
   "metadata": {},
   "outputs": [],
   "source": [
    "\"\"\"\n",
    "Unit Tangent Approximation\n",
    "\"\"\"\n",
    "pt_t, vec_plus, vec_minus = nearest_neighbors(crv,t)\n",
    "unit_tangent = vec_plus.normalized() "
   ]
  },
  {
   "cell_type": "markdown",
   "metadata": {},
   "source": [
    "<img src=\"http://geometric-computation-images.s3-website-us-east-1.amazonaws.com/1.11.P07.jpg\" style=\"width: 200px; display: inline;\">"
   ]
  },
  {
   "cell_type": "markdown",
   "metadata": {},
   "source": [
    "### Normal Vector\n",
    "\n",
    "Unlike a tangent vector, ***there are many possible normal vectors*** to a curve. In fact, when the curve is in three dimensions, there is *an entire plane of eligible vectors*.\n",
    "\n",
    "To define a *special normal vector* using a discrete approach, take three points – the point and its nearest neighbors – which determine a plane and a circle. These are called the ***osculating plane*** and ***osculating circle*** at the curve point. \n",
    "\n",
    "The vector that *connects the curve point to the center of the circle* is perpendicular to the tangent vector, and is thus normal to the curve. \n",
    "\n",
    "The unit vector in this normal direction is called the ***principal normal vector***, denoted as $\\vec{N}$"
   ]
  },
  {
   "cell_type": "markdown",
   "metadata": {},
   "source": [
    "<img src=\"http://geometric-computation-images.s3-website-us-east-1.amazonaws.com/1.11.P09.jpg\" style=\"width: 200px; display: inline;\">"
   ]
  },
  {
   "cell_type": "markdown",
   "metadata": {},
   "source": [
    "### Curvature\n",
    "\n",
    "The curvature at a curve point gives a numerical measurement of the turning of a curve, and is defined to be the reciprocal value $x = 1/R$, where $R$ is the radius of the osculating circle at the curve point.\n",
    "\n",
    "The smaller the circle, the tighter the turning and in turn, the bigger the curvature becomes.\n",
    "\n",
    "Calculating curvature using nearest neighbor vectors is a built-in method of the Curve class and amounts to finding the center and radius of the approximate osculating circle."
   ]
  },
  {
   "cell_type": "code",
   "execution_count": 1,
   "metadata": {},
   "outputs": [],
   "source": [
    "\"\"\"\n",
    "Curvature From Vectors Method in Curve Class\n",
    "Returns curvature and circle determined by point and nearest neighbors on either side\n",
    "\"\"\"\n",
    "def _curvature_from_vecs(pt, vec_pos, vec_neg, calc_circles=False):\n",
    "    pt_plus = pt + vec_pos\n",
    "    pt_minus = pt + vec_neg\n",
    "    \n",
    "    v1 = vec_pos\n",
    "    v2 = vec_neg\n",
    "    v3 = Vec(vec_pos - vec_neg)\n",
    "    \n",
    "    xl = v1.cross(v3).length\n",
    "    if xl == 0 : return 0,Ray(pt,vec_pos)\n",
    "    \n",
    "    rad_osc = 0.5*v1.length*v2.length*v3.length/xl\n",
    "    if not calc_circles: return 1/rad_osc\n",
    "   \n",
    "    denom = 2*xl*xl\n",
    "    a1 = v3.length*v3.length*v1.dot(v2)/denom\n",
    "    a2 = v2.length*v2.length*v1.dot(v3)/denom\n",
    "    a3 = v1.length*v1.length*(-v2.dot(v3))/denom\n",
    "    center_osc = pt*a1 + pt_plus*a2 + pt_minus*a3\n",
    "    \n",
    "    pln_out = Plane(center_osc, v1.cross(v2))\n",
    "    circ_out = Circle(pln_out,rad_osc)\n",
    "    return (1/rad_osc, circ_out)"
   ]
  },
  {
   "cell_type": "code",
   "execution_count": null,
   "metadata": {},
   "outputs": [],
   "source": [
    "\"\"\"\n",
    "Curvature \n",
    "Evaluates curvature at at given t-value\n",
    "\"\"\"        \n",
    "def deval_crv(self,t):\n",
    "    pt, vec_pos, vec_neg = self._nudged(t)\n",
    "\n",
    "    # nudge vectors to avoid zero curvature at endpoints\n",
    "    if (t-self.tol_nudge <= self.domain.a):\n",
    "        nhood = self._nudged(self.tol_nudge)\n",
    "        vec_pos = nhood[1]\n",
    "        vec_neg = nhood[2]\n",
    "    if (t+self.tol_nudge >= self.domain.b):\n",
    "        nhood = self._nudged(self.domain.b-self.tol_nudge)\n",
    "        vec_pos = nhood[1]\n",
    "        vec_neg = nhood[2]\n",
    "\n",
    "    return Curve._curvature_from_vecs(pt,vec_pos,vec_neg)"
   ]
  },
  {
   "cell_type": "code",
   "execution_count": null,
   "metadata": {},
   "outputs": [],
   "source": [
    "\"\"\"\n",
    "Curvature\n",
    "Evaluates curvature at normalized t-value\n",
    "\"\"\"         \n",
    "def eval_crv(self,t):\n",
    "    return self.deval_crv(Interval.remap(t,Interval(),self.domain))  "
   ]
  },
  {
   "cell_type": "markdown",
   "metadata": {},
   "source": [
    "<img src=\"http://geometric-computation-images.s3-website-us-east-1.amazonaws.com/1.11.P18.jpg\" style=\"width: 800px; display: inline;\">"
   ]
  },
  {
   "cell_type": "markdown",
   "metadata": {},
   "source": [
    "### Frenet Frame\n",
    "\n",
    "The Frenet frame is linked to the shape of the curve, and describes how it turns and twists in space. It is composed of a set of three orthonormal vectors. \n",
    "\n",
    "We have already seen two of these vectors: the ***unit tangent vector $\\vec{T}$*** and the ***principal unit normal $\\vec{N}$***. \n",
    "\n",
    "The third vector in the set, called the ***binormal vector***, is a simple product of  these first two. Denoted by $\\vec{B}$, the binormal vector results from taking the cross product $\\vec{T} \\times \\vec{N}$ ."
   ]
  },
  {
   "cell_type": "markdown",
   "metadata": {},
   "source": [
    "<img src=\"http://geometric-computation-images.s3-website-us-east-1.amazonaws.com/1.11.P11.jpg\" style=\"width: 200px; display: inline;\">"
   ]
  },
  {
   "cell_type": "code",
   "execution_count": null,
   "metadata": {},
   "outputs": [],
   "source": [
    "\"\"\"\n",
    "Curve CS\n",
    "Evaluates a CS aligned with Frenet Frame at given t-value\n",
    "\"\"\"  \n",
    "def deval_cs(self,t):\n",
    "    pt, vec_pos, vec_neg = self._nudged(t)\n",
    "\n",
    "    # nudge vectors to avoid zero curvature at endpoints\n",
    "    if (t-self.tol_nudge <= self.domain.a):\n",
    "        nhood = self._nudged(self.tol_nudge)\n",
    "        vec_pos = nhood[1]\n",
    "        vec_neg = nhood[2]\n",
    "    if (t+self.tol_nudge >= self.domain.b):\n",
    "        nhood = self._nudged(self.domain.b-self.tol_nudge)\n",
    "        vec_pos = nhood[1]\n",
    "        vec_neg = nhood[2]\n",
    "    vec_T = self.tangent(t)\n",
    "    k, circ = Curve._curvature_from_vecs(pt,vec_pos,vec_neg,calc_circles=True)\n",
    "    center_osc = circ.plane.origin\n",
    "    vec_N = Vec(center_osc-pt).normalized()\n",
    "    vec_B = vec_T.cross(vec_N)\n",
    "    return CS(pt, vec_N, vec_B)"
   ]
  },
  {
   "cell_type": "code",
   "execution_count": null,
   "metadata": {},
   "outputs": [],
   "source": [
    "\"\"\"\n",
    "Curve CS\n",
    "Evaluates a CS aligned with Frenet Frame at normalized t-value\n",
    "\"\"\"          \n",
    "def eval_cs(self,t):\n",
    "    return self.deval_cs(Interval.remap(t,Interval(),self.domain))"
   ]
  },
  {
   "cell_type": "markdown",
   "metadata": {},
   "source": [
    "<img src=\"http://geometric-computation-images.s3-website-us-east-1.amazonaws.com/1.11.P12.jpg\" style=\"width: 200px; display: inline;\">"
   ]
  },
  {
   "cell_type": "code",
   "execution_count": null,
   "metadata": {},
   "outputs": [],
   "source": [
    "\"\"\"\n",
    "Propagate Polygons Along Curve\n",
    "Generates a collection of polygons using the built-in CS evaluated along curve\n",
    "\"\"\"\n",
    "pgons = []\n",
    "for t in Interval().divide(pgon_count):\n",
    "    cs = crv.eval_cs(t)\n",
    "    rad_out = Interval(r1,r0*0.25).eval(t**(1/pow))\n",
    "    rad_in = Interval(r0,r1*0.25).eval(t**(1/pow))\n",
    "    pgon = PGon.doughnut(cs,Interval(rad_out,rad_in),res=edge_count)\n",
    "    pgons.append(pgon)\n",
    "\n",
    "\"\"\"\n",
    "Variable Pipe Around Curve\n",
    "Meshes Resulting Collection of Polygons\n",
    "\"\"\"\n",
    "for n in range(len(pgons)-1):\n",
    "    pgon_a = pgons[n]\n",
    "    pgon_b = pgons[n+1]\n",
    "    off = len(pgon_a.pts)\n",
    "    \n",
    "    msh = Mesh()\n",
    "    msh.append(pgon_a.pts)\n",
    "    msh.append(pgon_b.pts)\n",
    "    \n",
    "    for e in range(off):\n",
    "        if e != (off/2)-1:\n",
    "            msh.add_face(e,e+1,e+off+1)\n",
    "            msh.add_face(e+off+1,e+off,e)"
   ]
  },
  {
   "cell_type": "markdown",
   "metadata": {},
   "source": [
    "<img src=\"http://geometric-computation-images.s3-website-us-east-1.amazonaws.com/1.11.P17.jpg\" style=\"width: 800px; display: inline;\">"
   ]
  },
  {
   "cell_type": "code",
   "execution_count": null,
   "metadata": {},
   "outputs": [],
   "source": []
  }
 ],
 "metadata": {
  "kernelspec": {
   "display_name": "Python 3",
   "language": "python",
   "name": "python3"
  },
  "language_info": {
   "codemirror_mode": {
    "name": "ipython",
    "version": 3
   },
   "file_extension": ".py",
   "mimetype": "text/x-python",
   "name": "python",
   "nbconvert_exporter": "python",
   "pygments_lexer": "ipython3",
   "version": "3.6.4"
  }
 },
 "nbformat": 4,
 "nbformat_minor": 2
}
