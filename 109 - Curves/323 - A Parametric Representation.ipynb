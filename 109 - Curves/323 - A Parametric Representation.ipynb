{
 "cells": [
  {
   "cell_type": "code",
   "execution_count": null,
   "metadata": {},
   "outputs": [],
   "source": [
    "from decodes.core import *\n",
    "from decodes.io.jupyter_out import JupyterOut\n",
    "import math\n",
    "\n",
    "out = JupyterOut.unit_square( )"
   ]
  },
  {
   "cell_type": "markdown",
   "metadata": {},
   "source": [
    "# A Parametric Representation\n",
    "\n",
    "The parametric form of a curve is nothing more than ***a machine for making points.*** It arises through ***the application of a function that maps an interval of real numbers to a set of points in space***. \n"
   ]
  },
  {
   "cell_type": "markdown",
   "metadata": {},
   "source": [
    "<img src=\"http://geometric-computation-images.s3-website-us-east-1.amazonaws.com/1.11.P01.jpg\" style=\"width: 600px; display: inline;\">"
   ]
  },
  {
   "cell_type": "markdown",
   "metadata": {},
   "source": [
    "By mathematical convention, the function (a vector function) is denoted as $c$ and the set of points by $c(t)$ for $t$ varying in the interval $[a,b]$. \n",
    "\n",
    "Taken together, these three elements – ***a function, an interval, and a resulting set of points*** – define what we call a curve."
   ]
  },
  {
   "cell_type": "markdown",
   "metadata": {},
   "source": [
    "There is ***a natural orientation*** to the curve since we start from one endpoint $c(a)$ and proceed along the curve in the direction of increasing $t$ until reaching the other endpoint $c(b)$. \n",
    "\n",
    "If we were speaking more formally, ***the function $c$ parameterizes a curve $C$ *** . \n",
    "\n",
    "If $C$ is a curve in the plane, our function would only need to produce points with $x$ and $y$ coordinates, and we could describe our curve mathematically with coordinate functions: \n",
    "\n",
    "$c(t) = (x(t), y(t)) $ \n",
    "\n",
    "A curve in space needs to define three coordinates of each resulting point, and would be written as:\n",
    "\n",
    "$c(t) = (x(t), y(t), z(t)) $ "
   ]
  },
  {
   "cell_type": "markdown",
   "metadata": {},
   "source": [
    "## Mathematical Monsters Redux\n",
    "\n",
    "Reflecting back on our Mathematical Monsters example will shed some light on these ideas."
   ]
  },
  {
   "cell_type": "code",
   "execution_count": null,
   "metadata": {},
   "outputs": [],
   "source": [
    "\"\"\"\n",
    "Mathematical Monsters Template\n",
    "Plots a set of points in space by hybridizing formulas for known curves\n",
    "\"\"\"\n",
    "ival = Interval(a,b)\n",
    "pts = []\n",
    "for t in ival / count:\n",
    "    x = some_math\n",
    "    y = some_more_math\n",
    "    pts.append(Point(x,y))\n"
   ]
  },
  {
   "cell_type": "code",
   "execution_count": null,
   "metadata": {},
   "outputs": [],
   "source": [
    "# an evaluation function\n",
    "def evaluate_monster_at(t):\n",
    "    x = some_math\n",
    "    y = some_more_math\n",
    "    return Point(x,y)"
   ]
  },
  {
   "cell_type": "code",
   "execution_count": null,
   "metadata": {},
   "outputs": [],
   "source": [
    "# a set of points\n",
    "pts = []\n",
    "# a loop that iterates across a given interval\n",
    "for t in Interval(a,b) / count: \n",
    "    pts.append( evaluate_monster_at(t) )"
   ]
  },
  {
   "cell_type": "markdown",
   "metadata": {},
   "source": [
    "We may notice some similarities between this code and the mathematical description of parametric curves presented above. \n",
    "\n",
    "* The function `evaluate_monster_at()` may be understood as a parameterization function which describes a smooth curve.\n",
    "* The interval called for in the definition of a parametric curve is expressed in code as `Interval(a,b)`.\n",
    "\n",
    "Practically, we can only call upon the evaluation function so many times. In order to define a curve in our own scripts or in software, we must also define the size of this sample set, a quantity which determines the effective ***tolerance*** of our curve."
   ]
  },
  {
   "cell_type": "markdown",
   "metadata": {},
   "source": [
    "<img src=\"http://geometric-computation-images.s3-website-us-east-1.amazonaws.com/1.11.P03.jpg\" style=\"width: 200px; display: inline;\">"
   ]
  },
  {
   "cell_type": "markdown",
   "metadata": {},
   "source": [
    "A comment regarding notation.\n",
    "\n",
    "We will often describe curves using the following modified (and unorthodox) mathematical notation for describing curves:"
   ]
  },
  {
   "cell_type": "markdown",
   "metadata": {},
   "source": [
    "\\begin{align}\n",
    "x = \\ldots \\\\\n",
    "y = \\ldots \\\\\n",
    "z = \\ldots \\\\\n",
    "t\\colon a\\rightarrow b\n",
    "\\end{align}"
   ]
  },
  {
   "cell_type": "markdown",
   "metadata": {},
   "source": [
    "## Curve Objects in Decod.es\n",
    "\n",
    "How can we go about constructing a Curve class that formalizes the constructions and operations we may want to perform on curves? \n",
    "\n",
    "We might begin by defining the three basic elements: \n",
    "* a function\n",
    "* an interval\n",
    "* a resulting set of points.\n",
    "\n",
    "Since functions are first-class objects in Python, our Curve class can easily store the ***function*** and ***Interval*** as members, and require them to be provided to the Curve constructor. \n",
    "\n",
    "The last element, the ***resulting set of points***, is less straightforward. Here we offer a method for constructing Points at whatever position along our Curve that we wish, an operation referred to as ***evaluating the Curve***. As this is more of an operation than data to be stored, we can structure this as a method."
   ]
  },
  {
   "cell_type": "markdown",
   "metadata": {},
   "source": [
    "<img src=\"http://geometric-computation-images.s3-website-us-east-1.amazonaws.com/3.00.D72 Curve Large.jpg\" style=\"width: 800px; display: inline;\">"
   ]
  },
  {
   "cell_type": "markdown",
   "metadata": {},
   "source": [
    "<table style=\"width:600px\">\n",
    "    <tr>\n",
    "        <th colspan=\"3\" style=\"text-align:left\">*Basic Curve Members*</th>\n",
    "    </tr>\n",
    "    <tr>\n",
    "        <td style=\"width:20%\">`crv._func`<br>`crv.func`</td>\n",
    "        <td style=\"width:20%\">Function</td>\n",
    "        <td style=\"width:60%\">A function that, given a single parameter `t`, returns a Point in space.</td>\n",
    "    </tr>\n",
    "    <tr>\n",
    "        <td style=\"width:20%\">`crv._dom`<br>`crv.domain`</td>\n",
    "        <td style=\"width:20%\">Interval</td>\n",
    "        <td style=\"width:60%\">An Interval of valid t-values to evaluate.</td>\n",
    "    </tr>\n",
    "    <tr>\n",
    "        <td style=\"width:20%\">`crv._tol`<br>`crv.tol`</td>\n",
    "        <td style=\"width:20%\">Float</td>\n",
    "        <td style=\"width:60%\">The tolerance of the curve expressed in domain space.</td>\n",
    "    </tr>\n",
    "</table>"
   ]
  },
  {
   "cell_type": "markdown",
   "metadata": {},
   "source": [
    "Note that the three basic members (`crv._func`, `crv._dom`, and `crv._tol`) are private, but made accessible via similarly named properties (`crv.func`, `crv.domain`, `crv.tol`), and that in the constructor the tolerance parameter has been made optional."
   ]
  },
  {
   "cell_type": "code",
   "execution_count": null,
   "metadata": {},
   "outputs": [],
   "source": [
    "\"\"\"\n",
    "Curve Initialization\n",
    "A Curve is constructed of an evaluation function, a domain Interval, and a tolerance value.\n",
    "\"\"\"\n",
    "class Curve():\n",
    "    def __init__(self, function, domain=Interval(0,1), tolerance=None):\n",
    "        self.func = function\n",
    "        self.domain = domain\n",
    "        self.tol = tolerance"
   ]
  },
  {
   "cell_type": "markdown",
   "metadata": {},
   "source": [
    "Evaluating the Curve is simple enough: given a parameter `t` that falls within the defined domain, we can simply call the stored function and return the resulting Point."
   ]
  },
  {
   "cell_type": "markdown",
   "metadata": {},
   "source": [
    "<table style=\"width:600px\">\n",
    "    <tr>\n",
    "        <th colspan=\"3\" style=\"text-align:left\">*Basic Curve Methods*</th>\n",
    "    </tr>\n",
    "    <tr>\n",
    "        <td style=\"width:20%\">`crv.eval(t)`</td>\n",
    "        <td style=\"width:20%\">Point</td>\n",
    "        <td style=\"width:60%\">Given a parameter `t`, returns a Point that falls on this Curve within the defined domain.</td>\n",
    "    </tr>\n",
    "    <tr>\n",
    "        <td style=\"width:20%\">`crv.deval(t)`</td>\n",
    "        <td style=\"width:20%\">Point</td>\n",
    "        <td style=\"width:60%\">Given a parameter `t`, returns a Point that falls on this Curve within a normalized domain.</td>\n",
    "    </tr>\n",
    "</table>"
   ]
  },
  {
   "cell_type": "code",
   "execution_count": null,
   "metadata": {},
   "outputs": [],
   "source": [
    "\"\"\"\n",
    "Normalized Evaluation\n",
    "Evaluates this Curve and returns a Point. The argument t is a normalized float value (0-\\>1) which \n",
    "will be remapped to the domain defined by this Curve.\n",
    "\"\"\"\n",
    "    def eval(self,t):\n",
    "        return self.deval(Interval.remap(t,Interval(),self.domain))"
   ]
  },
  {
   "cell_type": "code",
   "execution_count": null,
   "metadata": {},
   "outputs": [],
   "source": [
    "\"\"\"\n",
    "Domain Evaluation\n",
    "Evaluates this Curve and returns a Point. The argument t is a float value that falls within the \n",
    "defined domain of this Curve.\n",
    "\"\"\"    \n",
    "    def deval(self,t):\n",
    "        pt = self.func(t)\n",
    "        return pt"
   ]
  },
  {
   "cell_type": "markdown",
   "metadata": {},
   "source": [
    "Given that we are working with a discrete approximation of a curve, it is useful to access a polyline representation that has been constructed out of sample points with resolution set by `crv.tol`. This approximation is a useful “surrogate” to a Curve and can be added as a property."
   ]
  },
  {
   "cell_type": "markdown",
   "metadata": {},
   "source": [
    "<table style=\"width:600px\">\n",
    "    <tr>\n",
    "        <th colspan=\"3\" style=\"text-align:left\">*Basic Curve Properties*</th>\n",
    "    </tr>\n",
    "    <tr>\n",
    "        <td style=\"width:20%\">`crv.surrogate`</td>\n",
    "        <td style=\"width:20%\">PLine</td>\n",
    "        <td style=\"width:60%\">Returns a Polyline representation of this Curve constructed of a sub-sampling of Points. The number of points in this Polyline is determined by dividing `crv.domain.delta` by `crv.tol`.</td>\n",
    "    </tr>\n",
    "</table>"
   ]
  },
  {
   "cell_type": "code",
   "execution_count": null,
   "metadata": {},
   "outputs": [],
   "source": [
    "\"\"\"\n",
    "Curve Surrogate\n",
    "Returns a polyline representation of this Curve\n",
    "\"\"\"\n",
    "    @property\n",
    "    def surrogate(self):\n",
    "        res = int(math.ceil(self.domain.delta/self.tol))\n",
    "        t_vals = self.domain.divide(res,True)\n",
    "        return PLine([self.deval(t) for t in t_vals])"
   ]
  },
  {
   "cell_type": "markdown",
   "metadata": {},
   "source": [
    "With this basic framework in place, we can draw a clear correlation mapping between the general notation we have been using to describe curves and the functional description using this Curve class. \n",
    "\n",
    "A curve in the plane can be expressed as:"
   ]
  },
  {
   "cell_type": "markdown",
   "metadata": {},
   "source": [
    "\\begin{align}\n",
    "x = \\ldots \\\\\n",
    "y = \\ldots \\\\\n",
    "t\\colon a\\rightarrow b\n",
    "\\end{align}"
   ]
  },
  {
   "cell_type": "markdown",
   "metadata": {},
   "source": [
    "Holds a direct mapping to code as:"
   ]
  },
  {
   "cell_type": "code",
   "execution_count": null,
   "metadata": {},
   "outputs": [],
   "source": [
    "def func(t):\n",
    "    x = ...\n",
    "    y = ...\n",
    "    return Point(x,y)\n",
    "\n",
    "ival = Interval(a,b)\n",
    "crv = Curve(func,ival)"
   ]
  },
  {
   "cell_type": "markdown",
   "metadata": {},
   "source": [
    "### Visualizing Curves\n",
    "\n",
    "While many of the geometric types we have discussed thus far have had\n",
    "direct analogs in CAD, this does not hold true for the Decod.es Curve. This makes translation from a general description of curves via a Python function much less straightforward, as the representation of curves is so bound up in the code we use to define it.\n",
    "\n",
    "Decod.es Curves can be approximately visualized through the built-in polyline representation `crv.surrogate`, or by manually plotting points at evenly spaced parameter values in the domain interval. \n",
    "\n",
    "***To see a Decod.es curve in CAD, we must plot it***."
   ]
  },
  {
   "cell_type": "markdown",
   "metadata": {},
   "source": [
    "<img src=\"http://geometric-computation-images.s3-website-us-east-1.amazonaws.com/1.11.P04.jpg\" style=\"width: 200px; display: inline;\">"
   ]
  },
  {
   "cell_type": "code",
   "execution_count": null,
   "metadata": {},
   "outputs": [],
   "source": [
    "\"\"\"\n",
    "Plotting a Curve\n",
    "A Curve object may be visualized by accessing its surrogate, a PLine with a number of Points \n",
    "related to Curve.tol, or by successively evaluating the Curve using eval or deval. Each of the \n",
    "following bits of code are more-or-less equivalent.\n",
    "\"\"\"\n",
    "# plot via crv.surrogate\n",
    "crv.surrogate\n",
    "\n",
    "# plot via crv.eval()\n",
    "pts = []\n",
    "for t in Interval()/30: \n",
    "    pts.append(crv.eval(t))\n",
    "\t\n",
    "# plot via crv.deval()\n",
    "pts = []\n",
    "for t in crv.domain/30: \n",
    "    pts.append(crv.deval(t))"
   ]
  },
  {
   "cell_type": "markdown",
   "metadata": {},
   "source": [
    "# Features and Idiosyncrasies\n",
    "\n",
    "Here we consider some features that naturally come with the territory of the parametric representation, and that may not immediately align with our assumptions about curves."
   ]
  },
  {
   "cell_type": "markdown",
   "metadata": {},
   "source": [
    "### Unequal Division\n",
    "\n",
    "Equally-spaced points along a parameterized curve are not always 'natural'. \n",
    "\n",
    "Take, for example, the parabola:"
   ]
  },
  {
   "cell_type": "markdown",
   "metadata": {},
   "source": [
    "\\begin{align*}\n",
    "x &= t\\\\\n",
    "y &= t^2\\\\\n",
    "t\\colon 0&\\rightarrow 2\n",
    "\\end{align*}"
   ]
  },
  {
   "cell_type": "markdown",
   "metadata": {},
   "source": [
    "From the point of view of the parameterization, the most natural points to access are those corresponding to equally-spaced parameter values in the domain interval.\n",
    "\n",
    "We can see that these points are not equally spaced along the curve.\n",
    "\n",
    "The underlying representation of all but the most simple of curves exhibits this feature."
   ]
  },
  {
   "cell_type": "markdown",
   "metadata": {},
   "source": [
    "<img src=\"http://geometric-computation-images.s3-website-us-east-1.amazonaws.com/1.11.P02.jpg\" style=\"width: 200px; display: inline;\">"
   ]
  },
  {
   "cell_type": "markdown",
   "metadata": {},
   "source": [
    "Uneven divsion is not usually felt when working in CAD environments, thanks to built-in commands such as `“Divide”` which distributes equally spaced points along a curve. \n",
    "\n",
    "At this lower level representation, however, it is important to understand that there is nothing automatic about this functionality."
   ]
  },
  {
   "cell_type": "markdown",
   "metadata": {},
   "source": [
    "### Non-Unique Parameterizations\n",
    "\n",
    "***A curve can always be described by multiple parameterizations.***\n",
    "\n",
    "The fact that a curve can have multiple parameterizations is one that holds tremendous conceptual and practical implications for design. Armed with this knowledge, we can construct a parameterization with points that we wish to easily access in mind.\n",
    "\n",
    "We demonstrate this on the simplest of curves: the line and the circle."
   ]
  },
  {
   "cell_type": "markdown",
   "metadata": {},
   "source": [
    "<img src=\"http://geometric-computation-images.s3-website-us-east-1.amazonaws.com/1.11.P05.jpg\" style=\"width: 600px; display: inline;\">"
   ]
  },
  {
   "cell_type": "code",
   "execution_count": null,
   "metadata": {},
   "outputs": [],
   "source": [
    "\"\"\"\n",
    "A Strange Line Curve\n",
    "Demonstrates a whole family of parametrizations for the line, each with Points spaced along it \n",
    "according to a power function\n",
    "\"\"\"\n",
    "pt_a, pt_b = Point(), Point(1,1)\n",
    "n = 4\n",
    "\n",
    "def func(t):\n",
    "    x = pt_a.x + (pt_b.x - pt_a.x)*t**n\n",
    "    y = pt_a.y + (pt_b.y - pt_a.y)*t**n\n",
    "    return Point(x,y)\n",
    "\n",
    "ival = Interval() \n",
    "tol = 1.0/100\n",
    "strange_line = Curve(func,ival,tol)\n",
    "\n",
    "pts = [strange_line.eval(t) for t in Interval()/100]\n",
    "out.put(pts)\n",
    "\n",
    "out.draw()\n",
    "out.clear()"
   ]
  },
  {
   "cell_type": "markdown",
   "metadata": {},
   "source": [
    "<img src=\"http://geometric-computation-images.s3-website-us-east-1.amazonaws.com/1.11.P06.jpg\" style=\"width: 200px; display: inline;\">"
   ]
  },
  {
   "cell_type": "code",
   "execution_count": null,
   "metadata": {},
   "outputs": [],
   "source": [
    "\"\"\"\n",
    "The \"normal\" parameterization of a circle, as seen in the upper diagram\n",
    "\"\"\"\n",
    "out = JupyterOut.origin_centered( 100.0 )\n",
    "\n",
    "def eval_normal(t):\n",
    "    x = math.cos(t)\n",
    "    y = math.sin(t)\n",
    "    return Point(x,y)\n",
    "\n",
    "ival = Interval.twopi()\n",
    "cir_normal = Curve(eval_normal,ival)\n",
    "\n",
    "pts = [eval_normal(t) for t in ival/100]\n",
    "out.put(pts)\n",
    "\n",
    "out.draw()\n",
    "out.clear()"
   ]
  },
  {
   "cell_type": "code",
   "execution_count": null,
   "metadata": {},
   "outputs": [],
   "source": [
    "\"\"\"\n",
    "The \"goofy\" parameterization of a circle, as seen in the lower diagram\n",
    "\"\"\"\n",
    "def eval_goofy(t):\n",
    "    x = (1 - t**2)/(1 + t**2)\n",
    "    y = 2*t/(1+t**2)\n",
    "    return Point(x,y)\n",
    "\n",
    "ival = Interval(-50,50) \n",
    "cir_goofy = Curve(eval_goofy,ival)\n",
    "\n",
    "pts = [eval_goofy(t) for t in ival/100]\n",
    "out.put(pts)\n",
    "\n",
    "out.draw()\n",
    "out.clear()"
   ]
  },
  {
   "cell_type": "markdown",
   "metadata": {},
   "source": [
    "## Composing with Parametric Curves"
   ]
  },
  {
   "cell_type": "markdown",
   "metadata": {},
   "source": [
    "The functional approach to constructing curves may initially strike a designer as an unintuitive one, as it is quite unlike that of constructing curves via control points.\n",
    "\n",
    "Most modern CAD environments operate more intuitively. In contrast, directly accessing the parametric form requires first deciding on both the properties desired and the best means to describe these properties before anything can\n",
    "be seen.\n",
    "\n",
    "Rather than ***iteratively altering the shape of a curve until it looks right***, this functional approach allows us to ***iteratively alter a description of what the curve does until it acts right***.\n",
    "\n",
    "As such, it is worth becoming comfortable with creating and manipulating geometry in this extraordinarily powerful way."
   ]
  }
 ],
 "metadata": {
  "kernelspec": {
   "display_name": "Python 2",
   "language": "python",
   "name": "python2"
  },
  "language_info": {
   "codemirror_mode": {
    "name": "ipython",
    "version": 2
   },
   "file_extension": ".py",
   "mimetype": "text/x-python",
   "name": "python",
   "nbconvert_exporter": "python",
   "pygments_lexer": "ipython2",
   "version": "2.7.10"
  }
 },
 "nbformat": 4,
 "nbformat_minor": 2
}
