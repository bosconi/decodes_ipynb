{
 "cells": [
  {
   "cell_type": "code",
   "execution_count": null,
   "metadata": {},
   "outputs": [],
   "source": [
    "from decodes.core import *\n",
    "from decodes.io.jupyter_out import JupyterOut\n",
    "import math\n",
    "\n",
    "out = JupyterOut.unit_square( )"
   ]
  },
  {
   "cell_type": "markdown",
   "metadata": {},
   "source": [
    "# A Parametric Representation\n",
    "todo"
   ]
  },
  {
   "cell_type": "markdown",
   "metadata": {},
   "source": [
    "<img src=\"http://geometric-computation-images.s3-website-us-east-1.amazonaws.com/1.11.P01.jpg\" style=\"width: 600px; display: inline;\">"
   ]
  },
  {
   "cell_type": "code",
   "execution_count": null,
   "metadata": {},
   "outputs": [],
   "source": [
    "\"\"\"\n",
    "Mathematical Monsters Template\n",
    "Plots a set of points in space by hybridizing formulas for known curves\n",
    "\"\"\"\n",
    "ival = Interval(a,b)\n",
    "pts = []\n",
    "for t in ival / count:\n",
    "    x = some_math\n",
    "    y = some_more_math\n",
    "    pts.append(Point(x,y))\n"
   ]
  },
  {
   "cell_type": "code",
   "execution_count": null,
   "metadata": {},
   "outputs": [],
   "source": [
    "# an evaluation function\n",
    "def evaluate_monster_at(t):\n",
    "    x = some_math\n",
    "    y = some_more_math\n",
    "    return Point(x,y)"
   ]
  },
  {
   "cell_type": "code",
   "execution_count": null,
   "metadata": {},
   "outputs": [],
   "source": [
    "# a set of points\n",
    "pts = []\n",
    "# a loop that iterates across a given interval\n",
    "for t in Interval(a,b) / count: \n",
    "    pts.append( evaluate_monster_at(t) )"
   ]
  },
  {
   "cell_type": "markdown",
   "metadata": {},
   "source": [
    "<img src=\"http://geometric-computation-images.s3-website-us-east-1.amazonaws.com/1.11.P03.jpg\" style=\"width: 200px; display: inline;\">"
   ]
  },
  {
   "cell_type": "markdown",
   "metadata": {},
   "source": [
    "\\begin{align}\n",
    "x = \\ldots \\\\\n",
    "y = \\ldots \\\\\n",
    "z = \\ldots \\\\\n",
    "t\\colon a\\rightarrow b\n",
    "\\end{align}"
   ]
  },
  {
   "cell_type": "markdown",
   "metadata": {},
   "source": [
    "## Curve Objects in Decod.es"
   ]
  },
  {
   "cell_type": "markdown",
   "metadata": {},
   "source": [
    "<img src=\"http://geometric-computation-images.s3-website-us-east-1.amazonaws.com/3.00.D72 Curve Large.jpg\" style=\"width: 800px; display: inline;\">"
   ]
  },
  {
   "cell_type": "markdown",
   "metadata": {},
   "source": [
    "<table style=\"width:600px\">\n",
    "    <tr>\n",
    "        <th colspan=\"3\" style=\"text-align:left\">*Basic Curve Members*</th>\n",
    "    </tr>\n",
    "    <tr>\n",
    "        <td style=\"width:20%\">`crv._func`<br>`crv.func`</td>\n",
    "        <td style=\"width:20%\">Function</td>\n",
    "        <td style=\"width:60%\">A function that, given a single parameter `t`, returns a Point in space.</td>\n",
    "    </tr>\n",
    "    <tr>\n",
    "        <td style=\"width:20%\">`crv._dom`<br>`crv.domain`</td>\n",
    "        <td style=\"width:20%\">Interval</td>\n",
    "        <td style=\"width:60%\">An Interval of valid t-values to evaluate.</td>\n",
    "    </tr>\n",
    "    <tr>\n",
    "        <td style=\"width:20%\">`crv._tol`<br>`crv.tol`</td>\n",
    "        <td style=\"width:20%\">Float</td>\n",
    "        <td style=\"width:60%\">The tolerance of the curve expressed in domain space.</td>\n",
    "    </tr>\n",
    "</table>"
   ]
  },
  {
   "cell_type": "code",
   "execution_count": null,
   "metadata": {},
   "outputs": [],
   "source": [
    "\"\"\"\n",
    "Curve Initialization\n",
    "A Curve is constructed of an evaluation function, a domain Interval, and a tolerance value.\n",
    "\"\"\"\n",
    "class Curve():\n",
    "    def __init__(self, function, domain=Interval(0,1), tolerance=None):\n",
    "        self.func = function\n",
    "        self.domain = domain\n",
    "        self.tol = tolerance"
   ]
  },
  {
   "cell_type": "markdown",
   "metadata": {},
   "source": [
    "<table style=\"width:600px\">\n",
    "    <tr>\n",
    "        <th colspan=\"3\" style=\"text-align:left\">*Basic Curve Methods*</th>\n",
    "    </tr>\n",
    "    <tr>\n",
    "        <td style=\"width:20%\">`crv.eval(t)`</td>\n",
    "        <td style=\"width:20%\">Point</td>\n",
    "        <td style=\"width:60%\">Given a parameter `t`, returns a Point that falls on this Curve within the defined domain.</td>\n",
    "    </tr>\n",
    "    <tr>\n",
    "        <td style=\"width:20%\">`crv.deval(t)`</td>\n",
    "        <td style=\"width:20%\">Point</td>\n",
    "        <td style=\"width:60%\">Given a parameter `t`, returns a Point that falls on this Curve within a normalized domain.</td>\n",
    "    </tr>\n",
    "</table>"
   ]
  },
  {
   "cell_type": "code",
   "execution_count": null,
   "metadata": {},
   "outputs": [],
   "source": [
    "\"\"\"\n",
    "Normalized Evaluation\n",
    "Evaluates this Curve and returns a Point. The argument t is a normalized float value (0-\\>1) which \n",
    "will be remapped to the domain defined by this Curve.\n",
    "\"\"\"\n",
    "    def eval(self,t):\n",
    "        return self.deval(Interval.remap(t,Interval(),self.domain))"
   ]
  },
  {
   "cell_type": "code",
   "execution_count": null,
   "metadata": {},
   "outputs": [],
   "source": [
    "\"\"\"\n",
    "Domain Evaluation\n",
    "Evaluates this Curve and returns a Point. The argument t is a float value that falls within the \n",
    "defined domain of this Curve.\n",
    "\"\"\"    \n",
    "    def deval(self,t):\n",
    "        pt = self.func(t)\n",
    "        return pt"
   ]
  },
  {
   "cell_type": "markdown",
   "metadata": {},
   "source": [
    "<table style=\"width:600px\">\n",
    "    <tr>\n",
    "        <th colspan=\"3\" style=\"text-align:left\">*Basic Curve Properties*</th>\n",
    "    </tr>\n",
    "    <tr>\n",
    "        <td style=\"width:20%\">`crv.surrogate`</td>\n",
    "        <td style=\"width:20%\">PLine</td>\n",
    "        <td style=\"width:60%\">Returns a Polyline representation of this Curve constructed of a sub-sampling of Points. The number of points in this Polyline is determined by dividing `crv.domain.delta` by `crv.tol`.</td>\n",
    "    </tr>\n",
    "</table>"
   ]
  },
  {
   "cell_type": "code",
   "execution_count": null,
   "metadata": {},
   "outputs": [],
   "source": [
    "\"\"\"\n",
    "Curve Surrogate\n",
    "Returns a polyline representation of this Curve\n",
    "\"\"\"\n",
    "    @property\n",
    "    def surrogate(self):\n",
    "        res = int(math.ceil(self.domain.delta/self.tol))\n",
    "        t_vals = self.domain.divide(res,True)\n",
    "        return PLine([self.deval(t) for t in t_vals])"
   ]
  },
  {
   "cell_type": "code",
   "execution_count": null,
   "metadata": {},
   "outputs": [],
   "source": [
    "\"\"\"\n",
    "\"\"\"\n",
    "def func(t):\n",
    "    x = ...\n",
    "    y = ...\n",
    "    return Point(x,y)\n",
    "\n",
    "ival = Interval(a,b)\n",
    "crv = Curve(func,ival)"
   ]
  },
  {
   "cell_type": "markdown",
   "metadata": {},
   "source": [
    "### Visualizing Curves"
   ]
  },
  {
   "cell_type": "markdown",
   "metadata": {},
   "source": [
    "<img src=\"http://geometric-computation-images.s3-website-us-east-1.amazonaws.com/1.11.P04.jpg\" style=\"width: 200px; display: inline;\">"
   ]
  },
  {
   "cell_type": "code",
   "execution_count": null,
   "metadata": {},
   "outputs": [],
   "source": [
    "\"\"\"\n",
    "Plotting a Curve\n",
    "A Curve object may be visualized by accessing its surrogate, a PLine with a number of Points \n",
    "related to Curve.tol, or by successively evaluating the Curve using eval or deval. Each of the \n",
    "following bits of code are more-or-less equivalent.\n",
    "\"\"\"\n",
    "# plot via crv.surrogate\n",
    "crv.surrogate\n",
    "\n",
    "# plot via crv.eval()\n",
    "pts = []\n",
    "for t in Interval()/30: \n",
    "    pts.append(crv.eval(t))\n",
    "\t\n",
    "# plot via crv.deval()\n",
    "pts = []\n",
    "for t in crv.domain/30: \n",
    "    pts.append(crv.deval(t))"
   ]
  },
  {
   "cell_type": "markdown",
   "metadata": {},
   "source": [
    "# Features and Idiosyncrasies"
   ]
  },
  {
   "cell_type": "markdown",
   "metadata": {},
   "source": [
    "### Unequal Division"
   ]
  },
  {
   "cell_type": "markdown",
   "metadata": {},
   "source": [
    "<img src=\"http://geometric-computation-images.s3-website-us-east-1.amazonaws.com/1.11.P02.jpg\" style=\"width: 200px; display: inline;\">"
   ]
  },
  {
   "cell_type": "markdown",
   "metadata": {},
   "source": [
    "### Non-Unique Parameterizations"
   ]
  },
  {
   "cell_type": "markdown",
   "metadata": {},
   "source": [
    "<img src=\"http://geometric-computation-images.s3-website-us-east-1.amazonaws.com/1.11.P05.jpg\" style=\"width: 600px; display: inline;\">"
   ]
  },
  {
   "cell_type": "code",
   "execution_count": null,
   "metadata": {},
   "outputs": [],
   "source": [
    "\"\"\"\n",
    "A Strange Line Curve\n",
    "Demonstrates a whole family of parametrizations for the line, each with Points spaced along it \n",
    "according to a power function\n",
    "\"\"\"\n",
    "pt_a, pt_b = Point(), Point(1,1)\n",
    "n = 4\n",
    "\n",
    "def func(t):\n",
    "    x = pt_a.x + (pt_b.x - pt_a.x)*t**n\n",
    "    y = pt_a.y + (pt_b.y - pt_a.y)*t**n\n",
    "    return Point(x,y)\n",
    "\n",
    "ival = Interval() \n",
    "tol = 1.0/100\n",
    "strange_line = Curve(func,ival,tol)\n",
    "\n",
    "pts = [strange_line.eval(t) for t in Interval()/100]\n",
    "out.put(pts)\n",
    "\n",
    "out.draw()\n",
    "out.clear()"
   ]
  },
  {
   "cell_type": "markdown",
   "metadata": {},
   "source": [
    "<img src=\"http://geometric-computation-images.s3-website-us-east-1.amazonaws.com/1.11.P06.jpg\" style=\"width: 200px; display: inline;\">"
   ]
  },
  {
   "cell_type": "code",
   "execution_count": null,
   "metadata": {},
   "outputs": [],
   "source": [
    "\"\"\"\n",
    "The \"normal\" parameterization of a circle, as seen in the upper diagram\n",
    "\"\"\"\n",
    "out = JupyterOut.origin_centered( 100.0 )\n",
    "\n",
    "def eval_normal(t):\n",
    "    x = math.cos(t)\n",
    "    y = math.sin(t)\n",
    "    return Point(x,y)\n",
    "\n",
    "ival = Interval.twopi()\n",
    "cir_normal = Curve(eval_normal,ival)\n",
    "\n",
    "pts = [eval_normal(t) for t in ival/100]\n",
    "out.put(pts)\n",
    "\n",
    "out.draw()\n",
    "out.clear()"
   ]
  },
  {
   "cell_type": "code",
   "execution_count": null,
   "metadata": {},
   "outputs": [],
   "source": [
    "\"\"\"\n",
    "The \"goofy\" parameterization of a circle, as seen in the lower diagram\n",
    "\"\"\"\n",
    "def eval_goofy(t):\n",
    "    x = (1 - t**2)/(1 + t**2)\n",
    "    y = 2*t/(1+t**2)\n",
    "    return Point(x,y)\n",
    "\n",
    "ival = Interval(-50,50) \n",
    "cir_goofy = Curve(eval_goofy,ival)\n",
    "\n",
    "pts = [eval_goofy(t) for t in ival/100]\n",
    "out.put(pts)\n",
    "\n",
    "out.draw()\n",
    "out.clear()"
   ]
  },
  {
   "cell_type": "markdown",
   "metadata": {},
   "source": [
    "## Composing with Parametric Curves"
   ]
  },
  {
   "cell_type": "code",
   "execution_count": null,
   "metadata": {},
   "outputs": [],
   "source": []
  }
 ],
 "metadata": {
  "kernelspec": {
   "display_name": "Python 3",
   "language": "python",
   "name": "python3"
  },
  "language_info": {
   "codemirror_mode": {
    "name": "ipython",
    "version": 3
   },
   "file_extension": ".py",
   "mimetype": "text/x-python",
   "name": "python",
   "nbconvert_exporter": "python",
   "pygments_lexer": "ipython3",
   "version": "3.6.4"
  }
 },
 "nbformat": 4,
 "nbformat_minor": 2
}
