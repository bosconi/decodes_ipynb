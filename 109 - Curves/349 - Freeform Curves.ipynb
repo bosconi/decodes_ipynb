{
 "cells": [
  {
   "cell_type": "code",
   "execution_count": null,
   "metadata": {},
   "outputs": [],
   "source": [
    "from decodes.core import *\n",
    "from decodes.io.jupyter_out import JupyterOut\n",
    "import math\n",
    "\n",
    "out = JupyterOut.unit_square( )"
   ]
  },
  {
   "cell_type": "markdown",
   "metadata": {},
   "source": [
    "# Freeform Curves\n",
    "A curve is often assumed to be a freeform curve that is drawn by placing control points and shaped by moving these points around. \n",
    "\n",
    "This general approach to curve-making includes a number of distinct classes of parametric curves each defined by its own function. These include:\n",
    "* Bézier\n",
    "* B-spline\n",
    "* NURBS\n",
    "\n",
    "These are all functions based on ***interpolation methods***, which share the common feature that control points are used as input and curve points are generated somewhere in between."
   ]
  },
  {
   "cell_type": "markdown",
   "metadata": {},
   "source": [
    "<img src=\"http://geometric-computation-images.s3-website-us-east-1.amazonaws.com/1.11.P23.jpg\" style=\"width: 200px; display: inline;\">"
   ]
  },
  {
   "cell_type": "markdown",
   "metadata": {},
   "source": [
    "## Interpolating with Polynomial Functions"
   ]
  },
  {
   "cell_type": "markdown",
   "metadata": {},
   "source": [
    "<img src=\"http://geometric-computation-images.s3-website-us-east-1.amazonaws.com/1.11.P19.jpg\" style=\"width: 200px; display: inline;\">"
   ]
  },
  {
   "cell_type": "markdown",
   "metadata": {},
   "source": [
    "<img src=\"http://geometric-computation-images.s3-website-us-east-1.amazonaws.com/1.11.P20.jpg\" style=\"width: 200px; display: inline;\">"
   ]
  },
  {
   "cell_type": "markdown",
   "metadata": {},
   "source": [
    "## Interpolating with Piecewise Polynomial Functions"
   ]
  },
  {
   "cell_type": "markdown",
   "metadata": {},
   "source": [
    "<img src=\"http://geometric-computation-images.s3-website-us-east-1.amazonaws.com/1.11.P21.jpg\" style=\"width: 200px; display: inline;\">"
   ]
  },
  {
   "cell_type": "markdown",
   "metadata": {},
   "source": [
    "<img src=\"http://geometric-computation-images.s3-website-us-east-1.amazonaws.com/1.11.P22.jpg\" style=\"width: 200px; display: inline;\">"
   ]
  },
  {
   "cell_type": "code",
   "execution_count": null,
   "metadata": {},
   "outputs": [],
   "source": [
    "\"\"\"\n",
    "Curve Through Points\n",
    "Given a set of control Points cpts and a tension value ten, constructs a Curve by hermite cubic\n",
    "interpolation with tension control\n",
    "\"\"\"\n",
    "\n",
    "# sum dists between control pts and construct intervals\n",
    "ivals = []\n",
    "sum = 0\n",
    "for dist in [pa.dist(pb) for pa,pb in zip(cpts[:-1],cpts[1:])]:\n",
    "    ivals.append(Interval(sum,sum+dist))\n",
    "    sum += dist\n",
    "\n",
    "# add tangent control points\n",
    "cpts.insert( 0, cpts[0]+Vec(cpts[1],cpts[0]) )\n",
    "cpts.append( cpts[-1]+Vec(cpts[-2],cpts[-1]) )\n",
    "\n",
    "# a span relates an interval to a set of points\n",
    "spans = {}\n",
    "for n, ival in enumerate(ivals):\n",
    "    spans[ival] = [ cpts[n], cpts[n+1], cpts[n+2], cpts[n+3] ]\n",
    "\n",
    "def func(t):\n",
    "    t = t*sum\n",
    "    for ival in spans:\n",
    "        if t in ival:\n",
    "            # set t to the normalized value for this span\n",
    "            t = ival.deval(t)\n",
    "            # square and cube of t\n",
    "            t2, t3 = t**2, t**3\n",
    "            # the points of the span\n",
    "            p0,p1,p2,p3 = spans[ival]\n",
    "            \n",
    "            # hermite interpolation\n",
    "            tau = 0.5*(1-ten)*(1+bai)\n",
    "            m0, m1 = (p2-p0)*tau, (p3-p1)*tau\n",
    "            a0 = 2*t3 - 3*t2 + 1\n",
    "            a1 = t3 - 2*t2 + t\n",
    "            a2 = t3 - t2\n",
    "            a3 = -2*t3 + 3*t2\n",
    "            return( p1*a0 + m0*a1 + m1*a2 + p2*a3 )\n",
    "            \n",
    "crv = Curve(func)"
   ]
  },
  {
   "cell_type": "markdown",
   "metadata": {},
   "source": [
    "## Interpolating with Rational Functions, Enter NURBS"
   ]
  },
  {
   "cell_type": "code",
   "execution_count": null,
   "metadata": {},
   "outputs": [],
   "source": [
    "def bezier(cpts):\n",
    "    def func(t):\n",
    "        pts = cpts\n",
    "        while len(pts) > 1:\n",
    "            pts = [Point.interpolate(pts[n],pts[n+1],t) for n in range(len(pts)-1)]\n",
    "        return pts[0]\n",
    "    return Curve(func)"
   ]
  }
 ],
 "metadata": {
  "kernelspec": {
   "display_name": "Python 3",
   "language": "python",
   "name": "python3"
  },
  "language_info": {
   "codemirror_mode": {
    "name": "ipython",
    "version": 3
   },
   "file_extension": ".py",
   "mimetype": "text/x-python",
   "name": "python",
   "nbconvert_exporter": "python",
   "pygments_lexer": "ipython3",
   "version": "3.6.4"
  }
 },
 "nbformat": 4,
 "nbformat_minor": 2
}
