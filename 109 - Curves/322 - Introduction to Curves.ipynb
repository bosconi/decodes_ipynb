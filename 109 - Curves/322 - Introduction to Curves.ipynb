{
 "cells": [
  {
   "cell_type": "code",
   "execution_count": null,
   "metadata": {},
   "outputs": [],
   "source": [
    "from decodes.core import *\n",
    "from decodes.io.jupyter_out import JupyterOut\n",
    "import math\n",
    "\n",
    "out = JupyterOut.unit_square( )"
   ]
  },
  {
   "cell_type": "markdown",
   "metadata": {},
   "source": [
    "# Introduction to Curves"
   ]
  },
  {
   "cell_type": "markdown",
   "metadata": {},
   "source": [
    "This chapter presents the mathematical foundations of parametric curves.\n",
    "\n",
    "Most CAD environments provide a means to produce rational curves – those that have a straightforward logic such as circles, ellipses, hyperbolas – as well as freeform curves such as Bézier, Bspline and NURBS curves.\n",
    "\n",
    "While drawing a wide variety of curves is quite easy and intuitive through the interfaces provided by CAD environments, this ***convenience comes at a cost***. The ability to produce gestural forms with ease has not been matched with a comparable level of understanding and control.\n",
    "\n",
    "To engage at this fine-grain level of control, we present in this chapter a lower-level description of a curve than is often presented in CAD: ***the parametric representation***. This offers a lens through which to demonstrate some of the fundamental characteristics and properties of curves most useful in a design context. With this representation, a Curve class will be constructed, key geometric properties will be derived, and typical usage will be demonstrated through examples."
   ]
  },
  {
   "cell_type": "code",
   "execution_count": null,
   "metadata": {},
   "outputs": [],
   "source": []
  }
 ],
 "metadata": {
  "kernelspec": {
   "display_name": "Python 3",
   "language": "python",
   "name": "python3"
  },
  "language_info": {
   "codemirror_mode": {
    "name": "ipython",
    "version": 3
   },
   "file_extension": ".py",
   "mimetype": "text/x-python",
   "name": "python",
   "nbconvert_exporter": "python",
   "pygments_lexer": "ipython3",
   "version": "3.6.4"
  }
 },
 "nbformat": 4,
 "nbformat_minor": 2
}
