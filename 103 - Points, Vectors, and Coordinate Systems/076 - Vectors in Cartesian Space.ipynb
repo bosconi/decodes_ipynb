{
 "cells": [
  {
   "cell_type": "code",
   "execution_count": null,
   "metadata": {},
   "outputs": [],
   "source": [
    "from decodes.core import *\n",
    "from decodes.io.jupyter_out import JupyterOut\n",
    "out = JupyterOut.unit_square( )"
   ]
  },
  {
   "cell_type": "markdown",
   "metadata": {},
   "source": [
    "# Vectors in Cartesian Space\n",
    "\n",
    "A vector in Cartesian three-dimensional space, denoted by $\\mathbb{R}^3$, can be described by a collection of three numbers $(x,y,z)$. As this construction is identical to that of a Cartesian point, it is not surprising that a vector and a point are closely related. In fact, we say that a point in Cartesian space is identified by its corresponding vector. By convention, we will denote a point by a capital letter, such as $P$, and a vector whose head is at that point using the same letter in lower case with an arrow on top, $\\vec{p}$ . Notice that this notational convention holds even when operations are applied; for instance, the head of vector $\\vec{p}_{1} + \\vec{p}_{2}$ is the point $P_{1} + P_{2}$."
   ]
  },
  {
   "cell_type": "markdown",
   "metadata": {},
   "source": [
    "<img src=\"http://geometric-computation-images.s3-website-us-east-1.amazonaws.com/1.03.P09.jpg\" style=\"width: 200px; display: inline;\">"
   ]
  },
  {
   "cell_type": "markdown",
   "metadata": {},
   "source": [
    "In specifying vectors in Cartesian three-dimensional space, we are able to move from a purely diagrammatic representation of a vector to a numerical representation. The operations previously represented geometrically can then be expressed algebraically, and then in code."
   ]
  },
  {
   "cell_type": "markdown",
   "metadata": {},
   "source": [
    "## Vec Objects in Decod.es"
   ]
  },
  {
   "cell_type": "markdown",
   "metadata": {},
   "source": [
    "<img src=\"http://geometric-computation-images.s3-website-us-east-1.amazonaws.com/3.00.D16 Vec Large.jpg\" style=\"width: 600px; display: inline;\">"
   ]
  },
  {
   "cell_type": "markdown",
   "metadata": {},
   "source": [
    "In the Decod.es library, a Vec is an object with three members - `vec.x`, `vec.y`, and `vec.z` - each of which is assigned a numeric value, typically the Python primitive type Float."
   ]
  },
  {
   "cell_type": "markdown",
   "metadata": {},
   "source": [
    "<table style=\"width:600px\">\n",
    "    \n",
    "<tr>\n",
    "    <th colspan=\"3\" style=\"text-align:left\">*Vec Members*</th>\n",
    "</tr>\n",
    "\n",
    "<tr>\n",
    "    <td style=\"width:10%\">`vec.x`<br>`vec.y`<br>`vec.z`</td>\n",
    "    <td style=\"width:10%\">Float</td>\n",
    "    <td style=\"width:80%\">Numeric values that determine the x,y and z coordinates of the head of the vector.</td>\n",
    "</tr>\n",
    "\n",
    "</table>"
   ]
  },
  {
   "cell_type": "markdown",
   "metadata": {},
   "source": [
    "### Vec Initialization\n",
    "\n",
    "A vector in $\\mathbb{R}^3$ could be initialized simply by requesting values for its three coordinates, and assigning these to its three numeric members."
   ]
  },
  {
   "cell_type": "markdown",
   "metadata": {},
   "source": [
    "<img src=\"http://geometric-computation-images.s3-website-us-east-1.amazonaws.com/1.03.P20.jpg\" style=\"width: 200px; display: inline;\">"
   ]
  },
  {
   "cell_type": "code",
   "execution_count": null,
   "metadata": {},
   "outputs": [],
   "source": [
    "\"\"\"\n",
    "Vector Initialization from Coordinates\n",
    "\"\"\"\n",
    "class Vec(Geometry):   \n",
    "    \n",
    "    def __init__(self, a, b, c=0):\n",
    "        self.x = a\n",
    "        self.y = b\n",
    "        self.z = c"
   ]
  },
  {
   "cell_type": "markdown",
   "metadata": {},
   "source": [
    "Alternatively, it is often convenient in practice to initialize a vector by two points, by its tail at a given “start point” and its head at a given “end point”."
   ]
  },
  {
   "cell_type": "code",
   "execution_count": null,
   "metadata": {},
   "outputs": [],
   "source": [
    "\"\"\"\n",
    "Vector Initialization from Points\n",
    "\"\"\"\n",
    "class Vec(Geometry):   \n",
    "    \n",
    "    def __init__(self, a, b):\n",
    "        self.x = b.x - a.x\n",
    "        self.y = b.y - a.y\n",
    "        self.z = b.z - a.z    "
   ]
  },
  {
   "cell_type": "code",
   "execution_count": null,
   "metadata": {},
   "outputs": [],
   "source": [
    "\"\"\"\n",
    "Vector Construction \n",
    "\"\"\"\n",
    "# construction by coordinates\n",
    "vec_a = Vec(0,1,1)\n",
    "\n",
    "# construction by points\n",
    "vec_b = Vec(pt_a,pt_b)"
   ]
  },
  {
   "cell_type": "markdown",
   "metadata": {},
   "source": [
    "### Elemental Vec Methods\n",
    "Each of the elemental vector operations presented diagrammatically may also be defined algebraically using component-wise arithmetic, and thereby implemented in code. This is the basis for some of the most important methods of the Vec class. For example, the addition of two vectors $\\vec{v_{1}} = (x_{1},y_{1},z_{1})$ and $\\vec{v_{2}} = (x_{2},y_{2},z_{2})$ is given by:\n",
    "\n",
    "\\begin{align}\n",
    "\\vec{v_{1}} + \\vec{v_{2}} = (x_{1}+x_{2} , y_{1}+y_{2} , z_{1}+z_{2})\n",
    "\\end{align}\n",
    "\n",
    "An implementation in code immediately follows:"
   ]
  },
  {
   "cell_type": "code",
   "execution_count": null,
   "metadata": {},
   "outputs": [],
   "source": [
    "\"\"\"\n",
    "Vector Addition\n",
    "\"\"\"\n",
    "def vec_plus_vec(vec_a, vec_b):\n",
    "    return Vec(vec_a.x+vec_b.x , vec_a.y+vec_b.y, vec_a.z+vec_b.z)\n",
    "\n",
    "vec_c = vec_a + vec_b"
   ]
  },
  {
   "cell_type": "code",
   "execution_count": null,
   "metadata": {},
   "outputs": [],
   "source": [
    "\"\"\"\n",
    "Vector Scalar Multiplication\n",
    "\"\"\"\n",
    "def vec_times_scalar(vec,scl):\n",
    "    return Vec(vec.x * scl, vec.y * scl, vec.z * scl)\n",
    "\n",
    "vec_b = vec_a * 2.0"
   ]
  },
  {
   "cell_type": "code",
   "execution_count": null,
   "metadata": {},
   "outputs": [],
   "source": [
    "\"\"\"\n",
    "Vector Subtraction\n",
    "\"\"\"\n",
    "def vec_minus_vec(vec_a, vec_b):\n",
    "    return Vec(vec_a.x-vec_b.x , vec_a.y-vec_b.y, vec_a.z-vec_b.z)\n",
    "\n",
    "vec_c = vec_a - vec_b"
   ]
  },
  {
   "cell_type": "markdown",
   "metadata": {},
   "source": [
    "The above methods are so common, they have each been defined as a special method that relates them to a corresponding operator.\n",
    "\n",
    "Besides these operations, the Decod.es Vec object packages a number of other routines as instance methods, static methods, and properties"
   ]
  },
  {
   "cell_type": "markdown",
   "metadata": {},
   "source": [
    "### Other Vec Methods\n",
    "\n",
    "The `vec.inverted()` method is a typical instance method, and offers us a straightforward example of some of the issues involved in structuring a geometric routine as a method of a class. Even in a simple case such as this, questions surrounding implementation arise. \n",
    "\n",
    "For example, the Decod.es Vec class might have defined an inversion method that modifies an existing vector in place. In such a case, no return value would need to be specified:"
   ]
  },
  {
   "cell_type": "code",
   "execution_count": null,
   "metadata": {},
   "outputs": [],
   "source": [
    "\"\"\"\n",
    "Vector Inversion in Place\n",
    "The given vector is modified, and nothing is returned\n",
    "\"\"\"\n",
    "def invert(self):\n",
    "    self.x = -self.x\n",
    "    self.y = -self.y\n",
    "    self.z = -self.z"
   ]
  },
  {
   "cell_type": "markdown",
   "metadata": {},
   "source": [
    "Alternatively, we might define a method that constructs an entirely new Vec based upon a vector on which we are operating, but leaving the latter completely unaltered."
   ]
  },
  {
   "cell_type": "code",
   "execution_count": null,
   "metadata": {},
   "outputs": [],
   "source": [
    "\"\"\"\n",
    "Vector Inversion by Construction\n",
    "Rather than inverting the vector in place, \n",
    "a new vector is constructed and returned\n",
    "\"\"\"\n",
    "def inverted(self):\n",
    "    return Vec(-self.x,-self.y,-self.z)"
   ]
  },
  {
   "cell_type": "markdown",
   "metadata": {},
   "source": [
    "The Vec class defines a host of instance methods in a manner similar to the `Vec.inverted()` method.\n"
   ]
  },
  {
   "cell_type": "markdown",
   "metadata": {},
   "source": [
    "<img src=\"http://geometric-computation-images.s3-website-us-east-1.amazonaws.com/1.03.C01.jpg\" style=\"width: 200px; display: inline;\">"
   ]
  },
  {
   "cell_type": "markdown",
   "metadata": {},
   "source": [
    "<table style=\"width:600px\">\n",
    "    \n",
    "<tr>\n",
    "    <th colspan=\"3\" style=\"text-align:left\">*Selected Vec Methods*</th>\n",
    "</tr>\n",
    "\n",
    "<tr>\n",
    "    <td style=\"width:20%\">`vec.dot(other)`</td>\n",
    "    <td style=\"width:20%\">Float</td>\n",
    "    <td style=\"width:60%\">Computes the dot product of self and other.</td>\n",
    "</tr>\n",
    "\n",
    "<tr>\n",
    "    <td style=\"width:20%\">`vec.cross(other)`</td>\n",
    "    <td style=\"width:20%\">Vec</td>\n",
    "    <td style=\"width:60%\">Returns a new vector that lies at right angles to self and other.</td>\n",
    "</tr>\n",
    "\n",
    "<tr>\n",
    "    <td style=\"width:20%\">`vec.normalized(length)`</td>\n",
    "    <td style=\"width:20%\">Vec</td>\n",
    "    <td style=\"width:60%\">Returns a new vector that lies in the same direction as self, but at a given length.</td>\n",
    "</tr>\n",
    "\n",
    "<tr>\n",
    "    <td style=\"width:20%\">`vec.projected(other)`</td>\n",
    "    <td style=\"width:20%\">Vec</td>\n",
    "    <td style=\"width:60%\">Returns a new vector that results from projecting self onto other.\n",
    "</td>\n",
    "</tr>\n",
    "\n",
    "<tr>\n",
    "    <td style=\"width:20%\">`vec.inverted()`</td>\n",
    "    <td style=\"width:20%\">Vec</td>\n",
    "    <td style=\"width:60%\">Returns a new vector that lies in the opposite direction as self.</td>\n",
    "</tr>\n",
    "\n",
    "<tr>\n",
    "    <td style=\"width:20%\">`vec.angle(other)`</td>\n",
    "    <td style=\"width:20%\">Float</td>\n",
    "    <td style=\"width:60%\">Returns the angle in radians between self and other.</td>\n",
    "</tr>\n",
    "\n",
    "</table>"
   ]
  },
  {
   "cell_type": "markdown",
   "metadata": {},
   "source": [
    "### Vec Properties\n",
    "\n",
    "We may recall that a property is a derivative trait of an object that requires calculation but does not require any external information.\n",
    "\n",
    "Of the properties of a Vec, the `vec.tup` property is typical. This routine fits the mandate of a property: while derivative of more elemental members, this trait is fairly intrinsic to the nature of a Vec, requires only modest amount of computation to produce, and does not require any external information."
   ]
  },
  {
   "cell_type": "code",
   "execution_count": null,
   "metadata": {},
   "outputs": [],
   "source": [
    "\"\"\"\n",
    "The Tup Property of a Vec\n",
    "Returns a list of three numeric values representing the x, y, \n",
    "and z coordinates of this vector\n",
    "\"\"\"\n",
    "@property\n",
    "def tup(self):\n",
    "    return self._x,self._y,self._z"
   ]
  },
  {
   "cell_type": "markdown",
   "metadata": {},
   "source": [
    "<img src=\"http://geometric-computation-images.s3-website-us-east-1.amazonaws.com/1.03.C02.jpg\" style=\"width: 200px; display: inline;\">"
   ]
  },
  {
   "cell_type": "markdown",
   "metadata": {},
   "source": [
    "<table style=\"width:600px\">\n",
    "    \n",
    "<tr>\n",
    "    <th colspan=\"3\" style=\"text-align:left\">*Selected Vec Properties*</th>\n",
    "</tr>\n",
    "\n",
    "<tr>\n",
    "    <td style=\"width:20%\">`vec.tup`</td>\n",
    "    <td style=\"width:20%\">(Float,Float,Float)</td>\n",
    "    <td style=\"width:60%\">The three coordinates of this vector described simply as a Tuple of three numbers.</td>\n",
    "</tr>\n",
    "\n",
    "<tr>\n",
    "    <td style=\"width:20%\">`vec.length2`</td>\n",
    "    <td style=\"width:20%\">Float</td>\n",
    "    <td style=\"width:60%\">The squared length of this vector. Due to the nature of the distance formula, this property is cheaper to calculate than `vec.length`.</td>\n",
    "</tr>\n",
    "\n",
    "<tr>\n",
    "    <td style=\"width:20%\">`vec.length`</td>\n",
    "    <td style=\"width:20%\">Float</td>\n",
    "    <td style=\"width:60%\">The length of this vector.</td>\n",
    "</tr>\n",
    "\n",
    "\n",
    "</table>"
   ]
  },
  {
   "cell_type": "markdown",
   "metadata": {},
   "source": [
    "### Vec Static Methods\n",
    "\n",
    "There are situations in which we want to define a function that is not associated with any one particular member of the class, but is so closely related that it deserves to be *“bundled”* within the class definition. Such functions are termed **static methods**.\n",
    "\n",
    "A good example of a static method is the interpolation function.\n",
    "\n",
    "Mathematically, vector interpolation may be thought of as a kind of weighted average of two vectors. The result of this process is a third vector at some location between the heads of the two given vectors, as determined by a given factor `t`. Since there is no hierarchical distinction between the two input vectors, it is logical that this function belongs to neither of them, but rather acts as a stand-alone function which takes both as arguments:\n"
   ]
  },
  {
   "cell_type": "markdown",
   "metadata": {},
   "source": [
    "<img src=\"http://geometric-computation-images.s3-website-us-east-1.amazonaws.com/1.03.P19.jpg\" style=\"width: 200px; display: inline;\">"
   ]
  },
  {
   "cell_type": "markdown",
   "metadata": {},
   "source": [
    "<img src=\"http://geometric-computation-images.s3-website-us-east-1.amazonaws.com/1.03.C03.jpg\" style=\"width: 200px; display: inline;\">"
   ]
  },
  {
   "cell_type": "code",
   "execution_count": null,
   "metadata": {},
   "outputs": [],
   "source": [
    "\"\"\"\n",
    "Vector Interpolation\n",
    "Calculates and returns the vector that results from an interpolation \n",
    "between two given vectors at parameter t.\n",
    "\"\"\"\n",
    "@staticmethod\n",
    "def interpolate(vec_a,vec_b,t=0.5):\n",
    "    x = (1-t) * vec_a.x + t * vec_b.x\n",
    "    y = (1-t) * vec_a.y + t * vec_b.y\n",
    "    z = (1-t) * vec_a.z + t * vec_b.z\n",
    "    return Vec(x,y,z)"
   ]
  },
  {
   "cell_type": "markdown",
   "metadata": {},
   "source": [
    "Note the `@staticmethod` expression that precedes this function definition, which marks it as a static method belonging to the class rather than an instance method belonging to individual objects of this class.\n",
    "\n",
    "We can treat static methods like any other function, and recognize them in code as a call not on Vec objects, but on the Vec class itself."
   ]
  },
  {
   "cell_type": "code",
   "execution_count": null,
   "metadata": {},
   "outputs": [],
   "source": [
    "\"\"\"\n",
    "Calling a Static Method\n",
    "The static interpolate method of the Vec class may be evoked as seen here\n",
    "\"\"\"\n",
    "Vec.interpolate(some_vector, another_vector, 0.25)"
   ]
  },
  {
   "cell_type": "markdown",
   "metadata": {},
   "source": [
    "<table style=\"width:600px\">\n",
    "    \n",
    "<tr>\n",
    "    <th colspan=\"3\" style=\"text-align:left\">*Vec Static Methods*</th>\n",
    "</tr>\n",
    "\n",
    "<tr>\n",
    "    <td style=\"width:20%\">`vec.interpolate(vec_a, vec_b, t)`</td>\n",
    "    <td style=\"width:20%\">Vec</td>\n",
    "    <td style=\"width:60%\">Returns the weighted average of two given vectors.</td>\n",
    "</tr>\n",
    "\n",
    "</table>"
   ]
  },
  {
   "cell_type": "markdown",
   "metadata": {},
   "source": [
    "## Point Objects in Decod.es\n",
    "\n",
    "A Point is described as a special kind of Vec, such that anything that a Vec can do, so can a Point. This relationship is termed **inheritance**. A majority of the behavior and regular usage of Point objects is colored by this relationship to the Vec class.\n",
    "\n",
    "Point inherits the structure of Vec, storing three members - `pt.x`,\n",
    "`pt.y`, and `pt.z`"
   ]
  },
  {
   "cell_type": "markdown",
   "metadata": {},
   "source": [
    "<img src=\"http://geometric-computation-images.s3-website-us-east-1.amazonaws.com/3.00.D20 Point Large.jpg\" style=\"width: 600px; display: inline;\">"
   ]
  },
  {
   "cell_type": "markdown",
   "metadata": {},
   "source": [
    "Mathematically, we say that a point is identified by the vector whose head lies at that position. From an object-oriented design point of view, a Point and Vec can be represented by an object that stores and manages three numeric coordinates as members."
   ]
  },
  {
   "cell_type": "markdown",
   "metadata": {},
   "source": [
    "<table style=\"width:600px\">\n",
    "    \n",
    "<tr>\n",
    "    <th colspan=\"3\" style=\"text-align:left\">*Point Members*</th>\n",
    "</tr>\n",
    "\n",
    "<tr>\n",
    "    <td style=\"width:10%\">`pt.x`<br>`pt.y`<br>`pt.z`</td>\n",
    "    <td style=\"width:10%\">Float</td>\n",
    "    <td style=\"width:80%\">Numeric values that determine the x,y and z coordinates of the head of the point.</td>\n",
    "</tr>\n",
    "\n",
    "</table>"
   ]
  },
  {
   "cell_type": "markdown",
   "metadata": {},
   "source": [
    "For example, the calculation of the centroid of a set of points is mathematically equivalent to computing the average of the corresponding set of vectors. The implementation of the static `Point.centroid()` method can simply wrap the `Vec.average()` method, converting the return value so that a Point is produced."
   ]
  },
  {
   "cell_type": "code",
   "execution_count": null,
   "metadata": {},
   "outputs": [],
   "source": [
    "\"\"\"\n",
    "The Centroid of a Set of Points\n",
    "Since the centroid of a set of points is equivalent to the average \n",
    "of the corresponding set of vectors, the Point class may evoke the \n",
    "corresponding method of the Vec class.\n",
    "\"\"\"\n",
    "@staticmethod\n",
    "def centroid(points):\n",
    "    return Point( Vec.average(points) )"
   ]
  },
  {
   "cell_type": "markdown",
   "metadata": {},
   "source": [
    "The trade-off to this approach of having a point inherit the behavior of a vector is that some strangeness can occur. This is evident when we consider that one is permitted to “invert” a Point. A call to the `Vec.inverted()` method from a Point object results in a location mirrored about the origin. Furthermore, the `vec.inverted()` method returns a new Vec, so the result of calling `pt.inverted()` will also be a Vec, not a Point."
   ]
  },
  {
   "cell_type": "code",
   "execution_count": null,
   "metadata": {},
   "outputs": [],
   "source": [
    "\"\"\"\n",
    "The Strange Case of Point Inversion\n",
    "Just like a Vec, a Point may be \"inverted\". Strangely, and due to \n",
    "the nature of inheritance, this operation results in a Vec\n",
    "\"\"\"\n",
    "# results in a Vec at (0,-1)\n",
    "vec_a = Vec(0,1).inverted()\n",
    "\n",
    "# also results in a Vec at (0,-1)\n",
    "vec_b = Point(0,1).inverted()"
   ]
  },
  {
   "cell_type": "markdown",
   "metadata": {},
   "source": [
    "At times such behavior is harmless, and at other times unacceptable. \n",
    "\n",
    "For `pt.projected()`, for example, we expect to get the point that results from projecting onto the given vector. Since Point inherits this method from Vec, without intervention, the result would be a Vec. In such a case, we must adjust the superclass method such that the result is cast into the type we desire, a technique termed **method overriding**."
   ]
  },
  {
   "cell_type": "code",
   "execution_count": null,
   "metadata": {},
   "outputs": [],
   "source": [
    "\"\"\"\n",
    "Overriding the Projected Method\n",
    "Points inherit the projected method from the Vec superclass, and \n",
    "override it so that a Point is returned rather than a Vec\n",
    "\"\"\"\n",
    "def projected(self, other):\n",
    "    return Point( Vec(self.x,self.y,self.z).projected(other) )\n",
    "    \n",
    "# results in a Point projected on the given vector    \n",
    "pt_a.projected(vec_a)"
   ]
  },
  {
   "cell_type": "markdown",
   "metadata": {},
   "source": [
    "Most of the routines used by Points are already implimented in Vec. Among the few exceptions are procedures that are unique to points, such as finding nearest neighbors, via the `Point.near()` method shown below."
   ]
  },
  {
   "cell_type": "code",
   "execution_count": null,
   "metadata": {},
   "outputs": [],
   "source": [
    "\"\"\"\n",
    "Nearest Point Method\n",
    "Returns a point from the given list of points which is nearest to \n",
    "the given source point.\n",
    "\"\"\"\n",
    "@staticmethod\n",
    "def near(pt, pts):\n",
    "    # a syntax called 'list comprehension', see Chapter Four\n",
    "    dists = [pt.distance2(p) for p in pts]\n",
    "    near_index = dists.index(min(dists))\n",
    "    return pts[near_index]\n"
   ]
  }
 ],
 "metadata": {
  "kernelspec": {
   "display_name": "Python 3",
   "language": "python",
   "name": "python3"
  },
  "language_info": {
   "codemirror_mode": {
    "name": "ipython",
    "version": 3
   },
   "file_extension": ".py",
   "mimetype": "text/x-python",
   "name": "python",
   "nbconvert_exporter": "python",
   "pygments_lexer": "ipython3",
   "version": "3.6.4"
  }
 },
 "nbformat": 4,
 "nbformat_minor": 2
}
