{
 "cells": [
  {
   "cell_type": "code",
   "execution_count": null,
   "metadata": {},
   "outputs": [],
   "source": [
    "from decodes.core import *\n",
    "from decodes.io.jupyter_out import JupyterOut\n",
    "out = JupyterOut.unit_square( )"
   ]
  },
  {
   "cell_type": "markdown",
   "metadata": {},
   "source": [
    "# Vectors in Cartesian Space\n",
    "todo"
   ]
  },
  {
   "cell_type": "markdown",
   "metadata": {},
   "source": [
    "<img src=\"http://geometric-computation-images.s3-website-us-east-1.amazonaws.com/1.03.P09.jpg\" style=\"width: 200px; display: inline;\">"
   ]
  },
  {
   "cell_type": "markdown",
   "metadata": {},
   "source": [
    "## Vec Objects in Decod.es"
   ]
  },
  {
   "cell_type": "markdown",
   "metadata": {},
   "source": [
    "<img src=\"http://geometric-computation-images.s3-website-us-east-1.amazonaws.com/3.00.D16 Vec Large.jpg\" style=\"width: 600px; display: inline;\">"
   ]
  },
  {
   "cell_type": "markdown",
   "metadata": {},
   "source": [
    "### Vec Initialization"
   ]
  },
  {
   "cell_type": "markdown",
   "metadata": {},
   "source": [
    "<img src=\"http://geometric-computation-images.s3-website-us-east-1.amazonaws.com/1.03.P20.jpg\" style=\"width: 200px; display: inline;\">"
   ]
  },
  {
   "cell_type": "code",
   "execution_count": null,
   "metadata": {},
   "outputs": [],
   "source": [
    "\"\"\"\n",
    "Vector Initialization from Coordinates\n",
    "\"\"\"\n",
    "class Vec(Geometry):   \n",
    "    \n",
    "    def __init__(self, a, b, c=0):\n",
    "        self.x = a\n",
    "        self.y = b\n",
    "        self.z = c"
   ]
  },
  {
   "cell_type": "code",
   "execution_count": null,
   "metadata": {},
   "outputs": [],
   "source": [
    "\"\"\"\n",
    "Vector Initialization from Points\n",
    "\"\"\"\n",
    "class Vec(Geometry):   \n",
    "    \n",
    "    def __init__(self, a, b):\n",
    "        self.x = b.x - a.x\n",
    "        self.y = b.y - a.y\n",
    "        self.z = b.z - a.z    "
   ]
  },
  {
   "cell_type": "code",
   "execution_count": null,
   "metadata": {},
   "outputs": [],
   "source": [
    "\"\"\"\n",
    "Vector Construction \n",
    "\"\"\"\n",
    "# construction by coordinates\n",
    "vec_a = Vec(0,1,1)\n",
    "\n",
    "# construction by points\n",
    "vec_b = Vec(pt_a,pt_b)"
   ]
  },
  {
   "cell_type": "markdown",
   "metadata": {},
   "source": [
    "### Elemental Vec Methods"
   ]
  },
  {
   "cell_type": "code",
   "execution_count": null,
   "metadata": {},
   "outputs": [],
   "source": [
    "\"\"\"\n",
    "Vector Addition\n",
    "\"\"\"\n",
    "def vec_plus_vec(vec_a, vec_b):\n",
    "    return Vec(vec_a.x+vec_b.x , vec_a.y+vec_b.y, vec_a.z+vec_b.z)\n",
    "\n",
    "vec_c = vec_a + vec_b"
   ]
  },
  {
   "cell_type": "code",
   "execution_count": null,
   "metadata": {},
   "outputs": [],
   "source": [
    "\"\"\"\n",
    "Vector Scalar Multiplication\n",
    "\"\"\"\n",
    "def vec_times_scalar(vec,scl):\n",
    "    return Vec(vec.x * scl, vec.y * scl, vec.z * scl)\n",
    "\n",
    "vec_b = vec_a * 2.0"
   ]
  },
  {
   "cell_type": "code",
   "execution_count": null,
   "metadata": {},
   "outputs": [],
   "source": [
    "\"\"\"\n",
    "Vector Subtraction\n",
    "\"\"\"\n",
    "def vec_minus_vec(vec_a, vec_b):\n",
    "    return Vec(vec_a.x-vec_b.x , vec_a.y-vec_b.y, vec_a.z-vec_b.z)\n",
    "\n",
    "vec_c = vec_a - vec_b"
   ]
  },
  {
   "cell_type": "markdown",
   "metadata": {},
   "source": [
    "### Other Vec Methods"
   ]
  },
  {
   "cell_type": "code",
   "execution_count": null,
   "metadata": {},
   "outputs": [],
   "source": [
    "\"\"\"\n",
    "Vector Inversion in Place\n",
    "The given vector is modified, and nothing is returned\n",
    "\"\"\"\n",
    "def invert(self):\n",
    "    self.x = -self.x\n",
    "    self.y = -self.y\n",
    "    self.z = -self.z"
   ]
  },
  {
   "cell_type": "code",
   "execution_count": null,
   "metadata": {},
   "outputs": [],
   "source": [
    "\"\"\"\n",
    "Vector Inversion by Construction\n",
    "Rather than inverting the vector in place, \n",
    "a new vector is constructed and returned\n",
    "\"\"\"\n",
    "def inverted(self):\n",
    "    return Vec(-self.x,-self.y,-self.z)"
   ]
  },
  {
   "cell_type": "markdown",
   "metadata": {},
   "source": [
    "<img src=\"http://geometric-computation-images.s3-website-us-east-1.amazonaws.com/1.03.C01.jpg\" style=\"width: 200px; display: inline;\">"
   ]
  },
  {
   "cell_type": "markdown",
   "metadata": {},
   "source": [
    "### Vec Properties"
   ]
  },
  {
   "cell_type": "markdown",
   "metadata": {},
   "source": [
    "<img src=\"http://geometric-computation-images.s3-website-us-east-1.amazonaws.com/1.03.C02.jpg\" style=\"width: 200px; display: inline;\">"
   ]
  },
  {
   "cell_type": "code",
   "execution_count": null,
   "metadata": {},
   "outputs": [],
   "source": [
    "\"\"\"\n",
    "The Tup Property of a Vec\n",
    "Returns a list of three numeric values representing the x, y, \n",
    "and z coordinates of this vector\n",
    "\"\"\"\n",
    "@property\n",
    "def tup(self):\n",
    "    return self._x,self._y,self._z"
   ]
  },
  {
   "cell_type": "markdown",
   "metadata": {},
   "source": [
    "### Vec Static Methods"
   ]
  },
  {
   "cell_type": "markdown",
   "metadata": {},
   "source": [
    "<img src=\"http://geometric-computation-images.s3-website-us-east-1.amazonaws.com/1.03.P19.jpg\" style=\"width: 200px; display: inline;\">"
   ]
  },
  {
   "cell_type": "markdown",
   "metadata": {},
   "source": [
    "<img src=\"http://geometric-computation-images.s3-website-us-east-1.amazonaws.com/1.03.C03.jpg\" style=\"width: 200px; display: inline;\">"
   ]
  },
  {
   "cell_type": "code",
   "execution_count": null,
   "metadata": {},
   "outputs": [],
   "source": [
    "\"\"\"\n",
    "Vector Interpolation\n",
    "Calculates and returns the vector that results from an interpolation \n",
    "between two given vectors at parameter t.\n",
    "\"\"\"\n",
    "@staticmethod\n",
    "def interpolate(vec_a,vec_b,t=0.5):\n",
    "    x = (1-t) * vec_a.x + t * vec_b.x\n",
    "    y = (1-t) * vec_a.y + t * vec_b.y\n",
    "    z = (1-t) * vec_a.z + t * vec_b.z\n",
    "    return Vec(x,y,z)"
   ]
  },
  {
   "cell_type": "code",
   "execution_count": null,
   "metadata": {},
   "outputs": [],
   "source": [
    "\"\"\"\n",
    "Calling a Static Method\n",
    "The static interpolate method of the Vec class may be evoked as seen here\n",
    "\"\"\"\n",
    "Vec.interpolate(some_vector, another_vector, 0.25)"
   ]
  },
  {
   "cell_type": "markdown",
   "metadata": {},
   "source": [
    "## Point Objects in Decod.es"
   ]
  },
  {
   "cell_type": "markdown",
   "metadata": {},
   "source": [
    "<img src=\"http://geometric-computation-images.s3-website-us-east-1.amazonaws.com/3.00.D20 Point Large.jpg\" style=\"width: 600px; display: inline;\">"
   ]
  },
  {
   "cell_type": "code",
   "execution_count": null,
   "metadata": {},
   "outputs": [],
   "source": [
    "\"\"\"\n",
    "The Centroid of a Set of Points\n",
    "Since the centroid of a set of points is equivalent to the average \n",
    "of the corresponding set of vectors, the Point class may evoke the \n",
    "corresponding method of the Vec class.\n",
    "\"\"\"\n",
    "@staticmethod\n",
    "def centroid(points):\n",
    "    return Point( Vec.average(points) )"
   ]
  },
  {
   "cell_type": "code",
   "execution_count": null,
   "metadata": {},
   "outputs": [],
   "source": [
    "\"\"\"\n",
    "The Strange Case of Point Inversion\n",
    "Just like a Vec, a Point may be \"inverted\". Strangely, and due to \n",
    "the nature of inheritance, this operation results in a Vec\n",
    "\"\"\"\n",
    "# results in a Vec at (0,-1)\n",
    "vec_a = Vec(0,1).inverted()\n",
    "\n",
    "# also results in a Vec at (0,-1)\n",
    "vec_b = Point(0,1).inverted()"
   ]
  },
  {
   "cell_type": "code",
   "execution_count": null,
   "metadata": {},
   "outputs": [],
   "source": [
    "\"\"\"\n",
    "Overriding the Projected Method\n",
    "Points inherit the projected method from the Vec superclass, and \n",
    "override it so that a Point is returned rather than a Vec\n",
    "\"\"\"\n",
    "def projected(self, other):\n",
    "    return Point( Vec(self.x,self.y,self.z).projected(other) )\n",
    "    \n",
    "# results in a Point projected on the given vector    \n",
    "pt_a.projected(vec_a)"
   ]
  },
  {
   "cell_type": "code",
   "execution_count": null,
   "metadata": {},
   "outputs": [],
   "source": [
    "\"\"\"\n",
    "Nearest Point Method\n",
    "Returns a point from the given list of points which is nearest to \n",
    "the given source point.\n",
    "\"\"\"\n",
    "@staticmethod\n",
    "def near(pt, pts):\n",
    "    # a syntax called 'list comprehension', see Chapter Four\n",
    "    dists = [pt.distance2(p) for p in pts]\n",
    "    near_index = dists.index(min(dists))\n",
    "    return pts[near_index]\n"
   ]
  }
 ],
 "metadata": {
  "kernelspec": {
   "display_name": "Python 3",
   "language": "python",
   "name": "python3"
  },
  "language_info": {
   "codemirror_mode": {
    "name": "ipython",
    "version": 3
   },
   "file_extension": ".py",
   "mimetype": "text/x-python",
   "name": "python",
   "nbconvert_exporter": "python",
   "pygments_lexer": "ipython3",
   "version": "3.6.4"
  }
 },
 "nbformat": 4,
 "nbformat_minor": 2
}
