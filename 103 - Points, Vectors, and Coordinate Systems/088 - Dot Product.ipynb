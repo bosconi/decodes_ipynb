{
 "cells": [
  {
   "cell_type": "code",
   "execution_count": null,
   "metadata": {},
   "outputs": [],
   "source": [
    "from decodes.core import *\n",
    "from decodes.io.jupyter_out import JupyterOut\n",
    "out = JupyterOut.unit_square( )"
   ]
  },
  {
   "cell_type": "markdown",
   "metadata": {},
   "source": [
    "# Dot Product\n",
    "todo"
   ]
  },
  {
   "cell_type": "code",
   "execution_count": null,
   "metadata": {},
   "outputs": [],
   "source": [
    "\"\"\"\n",
    "Dot Product\n",
    "\"\"\"\n",
    "def dot(self,other): \n",
    "    return float(self.x * other.x + self.y * other.y + self.z * other.z)\n"
   ]
  },
  {
   "cell_type": "markdown",
   "metadata": {},
   "source": [
    "## Applications of the Dot Product"
   ]
  },
  {
   "cell_type": "markdown",
   "metadata": {},
   "source": [
    "### Dot Product in Angle Calculation"
   ]
  },
  {
   "cell_type": "markdown",
   "metadata": {},
   "source": [
    "<img src=\"http://geometric-computation-images.s3-website-us-east-1.amazonaws.com/1.03.P13.jpg\" style=\"width: 600px; display: inline;\">"
   ]
  },
  {
   "cell_type": "markdown",
   "metadata": {},
   "source": [
    "A more precise way to capture this relationship can be done by invoking another law of trigonometry – the law of cosines – which gives a relationship between the lengths of the sides of the triangle determined by two vectors $\\vec{v_{1}}$ and $\\vec{v_{2}}$ and $\\theta$, the smaller of the angles between the two vectors:\n",
    "\n",
    "\\begin{align}\n",
    "\\lvert \\vec{v_{1}}\\rvert^2 + \\lvert \\vec{v_{2}}\\rvert^2 - 2 \\lvert \\vec{v_{1}}\\rvert \\lvert \\vec{v_{2}}\\rvert cos \\theta = \\lvert \\vec{v_{1}} - \\vec{v_{2}}\\rvert^2\n",
    "\\end{align}\n",
    "\n",
    "Notice that when the vectors are perpendicular to each other, this expression reduces to Pythagoras’ theorem. \n",
    "\n",
    "Expanding out in coordinates as before, and then consolidating terms, we arrive at the following simplified identity that links the dot product to the cosine of the angle (in radians):\n",
    "\n",
    "\\begin{align}\n",
    "\\vec{v_{1}} \\bullet \\vec{v_{2}} = \\lvert \\vec{v_{1}}\\rvert \\lvert \\vec{v_{2}}\\rvert cos \\theta\n",
    "\\end{align}\n",
    "\n"
   ]
  },
  {
   "cell_type": "code",
   "execution_count": null,
   "metadata": {},
   "outputs": [],
   "source": [
    "\"\"\"\n",
    "Angle Between Two Vectors\n",
    "Returns the angle in radians, value constrained to the range [-PI,PI].\n",
    "\"\"\"\n",
    "def angle(self,other):\n",
    "    vdot = self.dot(other) / (self.length * other.length)\n",
    "    # ensures that vdot is between -1.0 and 1.0\n",
    "    vdot = Interval(-1.0,1.0).limit_val(vdot)\n",
    "    return math.acos(vdot)\n"
   ]
  },
  {
   "cell_type": "markdown",
   "metadata": {},
   "source": [
    "### Dot Product in Vector Projections"
   ]
  },
  {
   "cell_type": "markdown",
   "metadata": {},
   "source": [
    "<img src=\"http://geometric-computation-images.s3-website-us-east-1.amazonaws.com/1.03.P21.jpg\" style=\"width: 200px; display: inline;\">"
   ]
  },
  {
   "cell_type": "markdown",
   "metadata": {},
   "source": [
    "In our projection scenario, the projected length is the length measured along $\\vec{v_{2}}$ at which the head of $\\vec{v_{1}}$ falls when projected orthogonally. Using basic trigonometry, this length is given by $\\lvert \\vec{v_{1}} \\rvert cos \\theta$. \n",
    "\n",
    "Using the relationship between the angle and the dot product, we can see that when $\\vec{v_{2}}$ is normalized to unit length, this length may be reduced down to a dot product.\n",
    "\n",
    "\\begin{align}\n",
    "L = \\vec{v_{1}} \\bullet \\frac{\\vec{v_{2}}}{\\lvert \\vec{v_{2}} \\rvert} = \\vec{v_{1}} \\bullet \\vec{u_{2}}\n",
    "\\end{align}\n",
    "\n",
    "This combination of terms is now manifest as something concrete, and ***the dot product is often defined as the projected length of one vector upon another.***\n",
    "\n",
    "Associated to the projected length is the projected vector, defined as a vector in the direction of $\\vec{v_{2}}$ that has been scaled to the projected length. This may be calculated as the product of the projected length and the unit vector in the direction of $\\vec{v_{2}}$:\n",
    "\n",
    "\\begin{align}\n",
    "L\\vec{u_{2}} = (\\vec{v_{1}} \\bullet \\vec{u_{2}}) \\vec{u_{2}}\n",
    "\\end{align}\n",
    "\n",
    "These mathematical formulae translate readily into the object methods `vec.projected_length()` and `vec.projected()`:"
   ]
  },
  {
   "cell_type": "code",
   "execution_count": null,
   "metadata": {},
   "outputs": [],
   "source": [
    "\"\"\"\n",
    "\n",
    "Projected Length Method\n",
    "Returns the length of the vector which results from projecting this vector \n",
    "onto a destination vector.\n",
    "\"\"\"\n",
    "def projected_length(self,other):\n",
    "    return self.dot(other.normalized())"
   ]
  },
  {
   "cell_type": "code",
   "execution_count": null,
   "metadata": {},
   "outputs": [],
   "source": [
    "\"\"\"\n",
    "Projected  Method\n",
    "Returns a new vector which results from projecting this vector onto a \n",
    "destination vector.\n",
    "\"\"\"    \n",
    "def projected(self,other): \n",
    "    return other * ( self.dot(other) / other.dot(other) )"
   ]
  },
  {
   "cell_type": "markdown",
   "metadata": {},
   "source": [
    "### Dot Product in Nearest Point Projection"
   ]
  },
  {
   "cell_type": "code",
   "execution_count": null,
   "metadata": {},
   "outputs": [],
   "source": [
    "\"\"\"\n",
    "Nearest Point on a Line Segment\n",
    "Given a line segment (with start-point, end-point, and vector members), \n",
    "finds the point on this line which is nearest to a given point\n",
    "\"\"\"\n",
    "vec = Vec(seg.spt, pt)\n",
    "pt_near = seg.spt + vec.projected(seg.ept)\n"
   ]
  },
  {
   "cell_type": "markdown",
   "metadata": {},
   "source": [
    "<img src=\"http://geometric-computation-images.s3-website-us-east-1.amazonaws.com/1.03.P23.jpg\" style=\"width: 200px; display: inline;\">"
   ]
  },
  {
   "cell_type": "code",
   "execution_count": null,
   "metadata": {},
   "outputs": [],
   "source": [
    "\"\"\"\n",
    "Mirror Reflection Across Line\n",
    "\"\"\"\n",
    "pt_mirror = pt_near + Vec(pt, pt_near)\n"
   ]
  },
  {
   "cell_type": "markdown",
   "metadata": {},
   "source": [
    "### Dot Product in Calculating Local Coordinates"
   ]
  },
  {
   "cell_type": "markdown",
   "metadata": {},
   "source": [
    "<img src=\"http://geometric-computation-images.s3-website-us-east-1.amazonaws.com/1.03.P27.jpg\" style=\"width: 200px; display: inline;\">"
   ]
  },
  {
   "cell_type": "code",
   "execution_count": null,
   "metadata": {},
   "outputs": [],
   "source": [
    "\"\"\"\n",
    "Local Coordinates as Projections\n",
    "\"\"\"\n",
    "v = Vec(origin, pt_world)\n",
    "x_coord = v.projected_length(vec_x)\n",
    "y_coord = v.projected_length(vec_y)"
   ]
  }
 ],
 "metadata": {
  "kernelspec": {
   "display_name": "Python 3",
   "language": "python",
   "name": "python3"
  },
  "language_info": {
   "codemirror_mode": {
    "name": "ipython",
    "version": 3
   },
   "file_extension": ".py",
   "mimetype": "text/x-python",
   "name": "python",
   "nbconvert_exporter": "python",
   "pygments_lexer": "ipython3",
   "version": "3.6.4"
  }
 },
 "nbformat": 4,
 "nbformat_minor": 2
}
