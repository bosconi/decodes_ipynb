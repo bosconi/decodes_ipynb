{
 "cells": [
  {
   "cell_type": "markdown",
   "metadata": {},
   "source": [
    "# Vectors, Points, and Coordinate Systems\n",
    "\n"
   ]
  },
  {
   "cell_type": "markdown",
   "metadata": {},
   "source": [
    "Three elemental geometric entities are presented in this chapter: \n",
    "\n",
    "* A **point** is a position in space, represented by a dot or an x on the screen\n",
    "* A **vector** is a quantity which has both length and direction, commonly represented graphically as an arrow\n",
    "* A **coordinate system** is a construct that orients us to the view in which we are drawing, often appearing on the screen as a set of Cartesian axes.\n",
    "\n",
    "To move beyond the passive usage of software, and to move toward a deeper engagement with computational geometry, we will need a solid understanding of these three elemental entities."
   ]
  },
  {
   "cell_type": "markdown",
   "metadata": {},
   "source": [
    "## Vectors\n",
    "\n",
    "Of these three, the **vector** may be understood as the most fundamental from both a mathematical and computational point of view, as well as the most concealed by most CAD software. While vectors are implicitly employed for any number of modeling tasks, they rarely make an appearance on the screen.\n",
    "\n",
    "The use of vectors is fundamental to the representation of nearly every geometric object described numerically, and is foundational to computational geometry. The numeric representation of a vector in Cartesian space consists of three numbers that together describe a direction and magnitude.\n",
    "\n",
    "Our discussion of vectors will be guided by an unpacking of the Decod.es Vec class.\n",
    "\n",
    "We will take the time to establish multiple vector representations:  \n",
    "* diagrammatically as arrows\n",
    "* mathematically as a tuple of numbers\n",
    "* in code as an implemented class."
   ]
  },
  {
   "cell_type": "markdown",
   "metadata": {},
   "source": [
    "## Points\n",
    "\n",
    "**Points**, which may seem like the more elemental unit, will be demonstrated to be a derivative concept of a vector when considered numerically and in code. \n",
    "\n",
    "This relationship lends itself to the use of **inheritance** in code, as applied to the implementation of the Decod.es Point which inherits all the attributes of the Decod.es Vec."
   ]
  },
  {
   "cell_type": "markdown",
   "metadata": {},
   "source": [
    "# CS\n",
    "\n",
    "A coordinate system is a geometric entity we see often in CAD represented by a set of vectors in the x, y, and z directions. This description can be generalized to accommodate coordinate systems determined by any set of mutually perpendicular vectors, and extended to include the alternate coordinate geometries described by cylindrical and spherical coordinate systems."
   ]
  }
 ],
 "metadata": {
  "kernelspec": {
   "display_name": "Python 3",
   "language": "python",
   "name": "python3"
  },
  "language_info": {
   "codemirror_mode": {
    "name": "ipython",
    "version": 3
   },
   "file_extension": ".py",
   "mimetype": "text/x-python",
   "name": "python",
   "nbconvert_exporter": "python",
   "pygments_lexer": "ipython3",
   "version": "3.6.4"
  }
 },
 "nbformat": 4,
 "nbformat_minor": 2
}
