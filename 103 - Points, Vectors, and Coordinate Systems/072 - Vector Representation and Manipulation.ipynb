{
 "cells": [
  {
   "cell_type": "code",
   "execution_count": 2,
   "metadata": {},
   "outputs": [
    {
     "name": "stdout",
     "output_type": "stream",
     "text": [
      "http://decod.es/\tv0.2.3\n",
      "io loaded\n"
     ]
    }
   ],
   "source": [
    "from decodes.core import *\n",
    "from decodes.io.jupyter_out import JupyterOut\n",
    "out = JupyterOut.unit_square( )"
   ]
  },
  {
   "cell_type": "markdown",
   "metadata": {},
   "source": [
    "# Vector Representation and Manipulation\n",
    "\n",
    "A vector is an object with a length and direction, typically denoted by\n",
    "a letter with an arrow on top, such as $\\vec{v}$\n",
    "\n",
    "We can further simplify the representation of a vector to be an arrow with its “tail” at a common origin which we denote by $\\vec{0}$.\n"
   ]
  },
  {
   "cell_type": "markdown",
   "metadata": {},
   "source": [
    "<img src=\"http://geometric-computation-images.s3-website-us-east-1.amazonaws.com/1.03.P01.jpg\" style=\"width: 400px; display: inline;\">\n",
    "\n",
    "<img src=\"http://geometric-computation-images.s3-website-us-east-1.amazonaws.com/1.03.P02.jpg\" style=\"width: 400px; display: inline;\">"
   ]
  },
  {
   "cell_type": "markdown",
   "metadata": {},
   "source": [
    "## Elemental Vector Operations"
   ]
  },
  {
   "cell_type": "markdown",
   "metadata": {},
   "source": [
    "### Addition\n",
    "\n",
    "The addition of two vectors $\\vec{v_{1}}$ and $\\vec{v_{2}}$ results in another vector $\\vec{v_{1}} + \\vec{v_{2}}$.\n",
    "\n",
    "In arrows, addition is governed by the parallelogram rule which means that we can draw the parallelogram made by the two arrows and the vector $\\vec{v_{1}} + \\vec{v_{2}}$ is the arrow from $\\vec{0}$ to the far corner of the parallelogram.\n",
    "\n",
    "A practical way of doing this is by the head-to-tail method, placing the tail of $\\vec{v_{2}}$ at the head of $\\vec{v_{1}}$; the point at which the head of $\\vec{v_{2}}$ ends up is the head of $\\vec{v_{1}} + \\vec{v_{2}}$."
   ]
  },
  {
   "cell_type": "markdown",
   "metadata": {},
   "source": [
    "<img src=\"http://geometric-computation-images.s3-website-us-east-1.amazonaws.com/1.03.P03.jpg\" style=\"width: 200px; display: inline;\"> \n",
    "<img src=\"http://geometric-computation-images.s3-website-us-east-1.amazonaws.com/1.03.P04.jpg\" style=\"width: 200px; display: inline;\">"
   ]
  },
  {
   "cell_type": "code",
   "execution_count": 3,
   "metadata": {},
   "outputs": [
    {
     "name": "stdout",
     "output_type": "stream",
     "text": [
      "vec[1,4,0.0]\n"
     ]
    }
   ],
   "source": [
    "vec_a = Vec(1,1)\n",
    "vec_b = Vec(0,3)\n",
    "vec_c = vec_a + vec_b\n",
    "print(vec_c)"
   ]
  },
  {
   "cell_type": "markdown",
   "metadata": {},
   "source": [
    "Two special cases of addition include the **degenerate parallelogram**, and the summation of many vectors."
   ]
  },
  {
   "cell_type": "markdown",
   "metadata": {},
   "source": [
    "<img src=\"http://geometric-computation-images.s3-website-us-east-1.amazonaws.com/1.03.P05.jpg\" style=\"width: 200px; display: inline;\">\n",
    "<img src=\"http://geometric-computation-images.s3-website-us-east-1.amazonaws.com/1.03.P06.jpg\" style=\"width: 200px; display: inline;\">"
   ]
  },
  {
   "cell_type": "markdown",
   "metadata": {},
   "source": [
    "### Scalar Multiplication\n",
    "\n",
    "Next, we can define the multiplication of a vector by a scalar. Multiplying a vector $\\vec{v}$ by a scalar $c$ results in another vector $c\\vec{v}$. This is an arrow that remains on the same line as $\\vec{v}$, but is scaled by the length represented by the scalar multiplier.\n",
    "\n",
    "When the scalar is -1, multiplication results in a vector that is equal in length but opposite in direction; this inverted vector may be more simply denoted by $-\\vec{v}$.\n"
   ]
  },
  {
   "cell_type": "markdown",
   "metadata": {},
   "source": [
    "<img src=\"http://geometric-computation-images.s3-website-us-east-1.amazonaws.com/1.03.P07.jpg\" style=\"width: 200px; display: inline;\">"
   ]
  },
  {
   "cell_type": "code",
   "execution_count": 5,
   "metadata": {},
   "outputs": [
    {
     "name": "stdout",
     "output_type": "stream",
     "text": [
      "vec[2,2,0.0]\n"
     ]
    }
   ],
   "source": [
    "vec_a = Vec(1,1)\n",
    "vec_b = vec_a * 2\n",
    "print(vec_b)"
   ]
  },
  {
   "cell_type": "markdown",
   "metadata": {},
   "source": [
    "### Subtraction and Scalar Division\n",
    "\n",
    "These two other basic operations can be derived from vector addition and scalar multiplication, so mathematically are thought of as less elemental operations. For instance, vector subtraction can be expressed as an addition and a scalar multiplication:\n",
    "\n",
    "\\begin{align}\n",
    "\\vec{v_{1}} - \\vec{v_{2}} = \\vec{v_{1}} + (-1) \\vec{v_{2}}\n",
    "\\end{align}\n",
    "\n",
    "In diagram, we can get this result by first drawing out $-\\vec{v_{2}}$ and then adding this to $\\vec{v_{1}}$ or we can simply see that the resulting vector goes from the head of $\\vec{v_{2}}$ to the head of $\\vec{v_{1}}$. Similarly, division of a vector by a scalar can be rewritten in terms of scalar multiplication as:\n",
    "\n",
    "\\begin{align}\n",
    "\\frac{\\vec{v}}{c} = (\\frac{1}{c})\\vec{v}\n",
    "\\end{align}\n",
    "\n",
    "<img src=\"http://geometric-computation-images.s3-website-us-east-1.amazonaws.com/1.03.P08.jpg\" style=\"width: 200px; display: inline;\">"
   ]
  },
  {
   "cell_type": "code",
   "execution_count": 6,
   "metadata": {},
   "outputs": [
    {
     "name": "stdout",
     "output_type": "stream",
     "text": [
      "vec[1,-2,0.0]\n"
     ]
    }
   ],
   "source": [
    "vec_a = Vec(1,1)\n",
    "vec_b = Vec(0,3)\n",
    "vec_c = vec_a - vec_b\n",
    "print(vec_c)"
   ]
  },
  {
   "cell_type": "markdown",
   "metadata": {},
   "source": [
    "### A Non-Arrow\n",
    "\n",
    "The zero-vector is not an operation per se, but a quantity that we can construct using the elemental operations already at our disposal. \n",
    "\n",
    "This non-arrow, which we have been denoting by $\\vec{0}$ and representing as a dot in our diagrams, is in fact the result of the vector subtraction $\\vec{v}-\\vec{v}$ or the scalar multiplication $0\\vec{v}$. \n",
    "\n",
    "Notice the distinction between $\\vec{0}$ which is a zero-length vector, and $0$, which is a number. \n",
    "\n",
    "<img src=\"http://geometric-computation-images.s3-website-us-east-1.amazonaws.com/1.03.P15.jpg\" style=\"width: 200px; display: inline;\">"
   ]
  },
  {
   "cell_type": "code",
   "execution_count": 7,
   "metadata": {},
   "outputs": [
    {
     "name": "stdout",
     "output_type": "stream",
     "text": [
      "vec[0.0,0.0,0.0]\n"
     ]
    }
   ],
   "source": [
    "vec_zero = Vec()\n",
    "print(vec_zero)"
   ]
  },
  {
   "cell_type": "markdown",
   "metadata": {},
   "source": [
    "The two operations of vector addition and scalar multiplication are particularly fundamental since they can be combined to yield other operations. \n",
    "\n",
    "These two form the basis of the visual metaphor that has structured the diagrammatic language we have been using thus far, which is formally known as a **vector space**.\n",
    "\n",
    "Many other more complex scenarios may also be described using the rules outlined here."
   ]
  }
 ],
 "metadata": {
  "kernelspec": {
   "display_name": "Python 3",
   "language": "python",
   "name": "python3"
  },
  "language_info": {
   "codemirror_mode": {
    "name": "ipython",
    "version": 3
   },
   "file_extension": ".py",
   "mimetype": "text/x-python",
   "name": "python",
   "nbconvert_exporter": "python",
   "pygments_lexer": "ipython3",
   "version": "3.6.4"
  }
 },
 "nbformat": 4,
 "nbformat_minor": 2
}
