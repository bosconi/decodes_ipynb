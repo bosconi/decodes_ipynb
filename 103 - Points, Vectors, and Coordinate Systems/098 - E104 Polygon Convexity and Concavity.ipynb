{
 "cells": [
  {
   "cell_type": "code",
   "execution_count": null,
   "metadata": {},
   "outputs": [],
   "source": [
    "from decodes.core import *\n",
    "from decodes.io.jupyter_out import JupyterOut\n",
    "out = JupyterOut.unit_square( )"
   ]
  },
  {
   "cell_type": "markdown",
   "metadata": {},
   "source": [
    "# E104 Polygon Convexity and Concavity\n",
    "todo"
   ]
  },
  {
   "cell_type": "markdown",
   "metadata": {},
   "source": [
    "<img src=\"http://geometric-computation-images.s3-website-us-east-1.amazonaws.com/1.03.E01.P01.jpg\" style=\"width: 200px; display: inline;\">"
   ]
  },
  {
   "cell_type": "markdown",
   "metadata": {},
   "source": [
    "## Implementation"
   ]
  },
  {
   "cell_type": "code",
   "execution_count": null,
   "metadata": {},
   "outputs": [],
   "source": [
    "\"\"\"\n",
    "Determine Cross Product Direction\n",
    "For each Vertex in the PGon, construct a cross product of vectors \n",
    "oriented toward neighbors, and store a boolean indicating its orientation.\n",
    "\"\"\"\n",
    "cp_points_up = []\n",
    "for n in range(len(pgon)):\n",
    "    ray_a, ray_b = pgon.cnr(n)\n",
    "    vec_crs = ray_a.vec.cross(ray_b.vec)\n",
    "    cp_points_up.append(vec_crs.z > 0)\n"
   ]
  },
  {
   "cell_type": "markdown",
   "metadata": {},
   "source": [
    "<img src=\"http://geometric-computation-images.s3-website-us-east-1.amazonaws.com/1.03.E01.D01.jpg\" style=\"width: 600px; display: inline;\">"
   ]
  },
  {
   "cell_type": "code",
   "execution_count": null,
   "metadata": {},
   "outputs": [],
   "source": [
    "\"\"\"\n",
    "Assign Convexity to Each Vertex\n",
    "Determine if most cross products are up or down, and then label any \n",
    "points in the minority as convex\n",
    "\"\"\"    \n",
    "# if most cross products point up\n",
    "if sum(cp_points_up) >= len(pgon)/2 :\n",
    "    # each pt is convex if cross product points down\n",
    "    is_concave = [not d for d in cp_points_up]\n",
    "# if most cross products point down\n",
    "else:\n",
    "    # each pt is convex if cross product points up\n",
    "    is_concave = cp_points_up\n"
   ]
  },
  {
   "cell_type": "code",
   "execution_count": null,
   "metadata": {},
   "outputs": [],
   "source": [
    "\"\"\"\n",
    "Construct List of Convex Points\n",
    "\"\"\"    \n",
    "concave_pts = []\n",
    "for n in range(len(pgon)):\n",
    "    if is_concave[n]: concave_pts.append(pgon.pts[n])"
   ]
  },
  {
   "cell_type": "code",
   "execution_count": null,
   "metadata": {},
   "outputs": [],
   "source": []
  }
 ],
 "metadata": {
  "kernelspec": {
   "display_name": "Python 3",
   "language": "python",
   "name": "python3"
  },
  "language_info": {
   "codemirror_mode": {
    "name": "ipython",
    "version": 3
   },
   "file_extension": ".py",
   "mimetype": "text/x-python",
   "name": "python",
   "nbconvert_exporter": "python",
   "pygments_lexer": "ipython3",
   "version": "3.6.4"
  }
 },
 "nbformat": 4,
 "nbformat_minor": 2
}
