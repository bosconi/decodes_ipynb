{
 "cells": [
  {
   "cell_type": "code",
   "execution_count": null,
   "metadata": {},
   "outputs": [],
   "source": [
    "from decodes.core import *\n",
    "from decodes.io.jupyter_out import JupyterOut\n",
    "out = JupyterOut.unit_square( )"
   ]
  },
  {
   "cell_type": "markdown",
   "metadata": {},
   "source": [
    "# Coordinate Systems\n",
    "\n",
    "Our experience as users of CAD has trained us to look at coordinate systems in a particular way. We understand that they are generally made up of **three axes**, and are visually represented by **three vectors** that are **mutually perpendicular**.\n",
    "\n",
    "Most CAD packages maintain a single **world coordinate system** that defines the underlying space of the model, but also allows **local coordinate systems** defined at arbitrary positions and orientations within this world space which are typically positioned for convenient drafting or modeling.\n",
    "\n",
    "Our experience in CAD suggests an intimate link between coordinate systems, vectors, and the space they inhabit. In this section, we establish the mathematical foundations that unpacks this relationship: by using two critical concepts:\n",
    "\n",
    "* **span**: the spatial extent that may be “reached” using a set of vectors and a limited means of manipulation. \n",
    "\n",
    "* **basis**: any minimal set of vectors which spans a given space.\n"
   ]
  },
  {
   "cell_type": "markdown",
   "metadata": {},
   "source": [
    "## Basis and Coordinates\n",
    "\n",
    "We already know that we may add and scalar multiply any set of vectors $\\vec{v_{1}},\\ \\vec{v_{2}},\\ \\ldots \\ , \\vec{v_{n}}$, in any order of operation, and that these operations will result in another vector. If the scalars are known, then the vector \n",
    "\n",
    "\\begin{align}\n",
    "\\vec{w} = c_{1}\\vec{v_{1}} \\ + \\ c_{2}\\vec{v_{2}} \\ + \\ \\ldots \\ c_{2}\\vec{v_{2}} \n",
    "\\end{align}\n",
    "\n",
    "can be drawn easily using the “head-to-tail” method. This procedure is called a linear combination of $\\vec{v_{1}},\\ \\vec{v_{2}},\\ \\ldots \\ , \\vec{v_{n}}$.\n",
    "\n",
    "Consider for the moment **all possible linear combinations**. In other words, given some set of vectors, imagine all the locations that can be “reached” by vectors resulting from a combination of both addition and scalar multiplication. Mathematically, this is termed the **span** of $\\vec{v_{1}},\\ \\vec{v_{2}},\\ \\ldots \\ , \\vec{v_{n}}$. \n",
    "\n",
    "To develop our intuition for what the vector span looks like, we might consider three two-dimensional cases:\n",
    "\n",
    "* The span of a single vector\n",
    "* The span of any two (non-paralell) vectors\n",
    "* The span of three (mutually non-paralell) vectors"
   ]
  },
  {
   "cell_type": "markdown",
   "metadata": {},
   "source": [
    "<img src=\"http://geometric-computation-images.s3-website-us-east-1.amazonaws.com/1.03.P41.jpg\" style=\"width: 200px; display: inline;\">"
   ]
  },
  {
   "cell_type": "markdown",
   "metadata": {},
   "source": [
    "The span of a single vector $\\vec{v}$ is the set of scalar multiples $c\\vec{v}$. Since the scalars can be positive or negative, we may scale this vector to reach out infinitely in either direction. \n",
    "\n",
    "***The span of $\\vec{v}$, then, is the entire line through the origin determined by $\\vec{v}$***."
   ]
  },
  {
   "cell_type": "markdown",
   "metadata": {},
   "source": [
    "\n",
    "<img src=\"http://geometric-computation-images.s3-website-us-east-1.amazonaws.com/1.03.P42.jpg\" style=\"width: 200px; display: inline;\">"
   ]
  },
  {
   "cell_type": "markdown",
   "metadata": {},
   "source": [
    "Assuming $\\vec{v_{1}}$ and $\\vec{v_{2}}$ are not parallel, we find that any linear combination $c2\\vec{v_{1}} + c2\\vec{v_{2}}$ may be produced by applying the parallelogram rule and adjusting the scalar multipliers.\n",
    "\n",
    "The span of *any* two vectors in the plane allow us to reach any location in two dimensions, so we say that the span of this set is the ***entirety of the plane***.\n",
    "\n",
    "The third case, more than two vectors, is not necessary. There is only one parallelogram with sides in the directions of v1 and v2 for which the far corner coincides with the desired vector.\n"
   ]
  },
  {
   "cell_type": "markdown",
   "metadata": {},
   "source": [
    "<img src=\"http://geometric-computation-images.s3-website-us-east-1.amazonaws.com/1.03.P24.jpg\" style=\"width: 600px; display: inline;\">"
   ]
  },
  {
   "cell_type": "markdown",
   "metadata": {},
   "source": [
    "This second case is special. \n",
    "\n",
    "For any two non-parallel vectors: \n",
    "* their span is the entire space\n",
    "* any other vector in the space can be expressed as a unique linear combination of this set of vectors. \n",
    "\n",
    "Any set of vectors that exhibits both of these properties is called a **basis** for the space, and ***the number of vectors*** in a basis is the **dimension** of the space. \n",
    "\n",
    "The most standard of bases in R2 contains the vectors (1,0) and (0,1). Notice that any vector (x,y) is easily expressed as a linear combination of these basis vectors. Here we find a formal mathematical\n",
    "account of a common instrument in CAD software, that of ***coordinates***."
   ]
  },
  {
   "cell_type": "markdown",
   "metadata": {},
   "source": [
    "<img src=\"http://geometric-computation-images.s3-website-us-east-1.amazonaws.com/1.03.P26.jpg\" style=\"width: 600px; display: inline;\">"
   ]
  },
  {
   "cell_type": "markdown",
   "metadata": {},
   "source": [
    "### Frames\n",
    "\n",
    "Just as two perpendicular unit vectors make up a special basis for two-dimensions, three mutually perpendicular unit vectors is a special basis in three dimensions. A coordinate system in three dimensions made up of such a basis, together with an origin, is called a **frame**.\n",
    "\n",
    "Further refining this term, an **orthonormal basis** is one in which the contained vectors are unit vectors, and are mutually perpendicular. This is a particularly convenient format in computational geometry."
   ]
  },
  {
   "cell_type": "markdown",
   "metadata": {},
   "source": [
    "\n",
    "\n",
    "\\begin{align}\n",
    "\\vec{w} = L_{1}\\vec{u_{1}} + L_{2}\\vec{u_{2}} + L_{3}\\vec{u_{3}}\n",
    "\\end{align}\n",
    "\n",
    "\n",
    "\n"
   ]
  },
  {
   "cell_type": "markdown",
   "metadata": {},
   "source": [
    "**span**\n",
    "\n",
    "The spatial extent to which a given set of vectors may “reach” by application\n",
    "of vector addition and scalar multiplication.\n",
    "\n",
    "**basis**\n",
    "\n",
    "A set of vectors that spans the entire space in which they are described,\n",
    "with a number of vectors in the set that matches the dimension of the\n",
    "space. A basis in R2 must contain two vectors, and a basis in R3 contains\n",
    "three. A basis can be used to express any desired vector in the space as a\n",
    "unique linear combination of basis vectors.\n",
    "\n",
    "**orthonormal basis**\n",
    "\n",
    "A special kind of basis comprised of a set of mutually perpendicular unit\n",
    "vectors. Orthonormal bases are prevalent in computational geometry, as\n",
    "a basis in this format makes the evaluation of coordinates particularly\n",
    "convenient.\n",
    "\n",
    "**frame**\n",
    "\n",
    "A coordinate system in three dimensions made up of an orthonormal\n",
    "basis (with three vectors) together with a position in space. Throughout\n",
    "this text, we will refer to the mathematical concept as a frame, and the\n",
    "implementation in code or in software as a coordinate system.\n",
    "\n",
    "**coordinate system**\n",
    "\n",
    "A frame implemented in software or in code. Frames implemented in these\n",
    "contexts go by many names, including “construction plane” (Rhino), “user\n",
    "coordinate system” (AutoCAD), “drawing axis” (SketchUp), and, fittingly,\n",
    "“frame” (Grasshopper)."
   ]
  },
  {
   "cell_type": "markdown",
   "metadata": {},
   "source": [
    "<img src=\"http://geometric-computation-images.s3-website-us-east-1.amazonaws.com/1.03.P44.jpg\" style=\"width: 200px; display: inline;\">"
   ]
  },
  {
   "cell_type": "markdown",
   "metadata": {},
   "source": [
    "## CS Objects in Decodes"
   ]
  },
  {
   "cell_type": "markdown",
   "metadata": {},
   "source": [
    "<img src=\"http://geometric-computation-images.s3-website-us-east-1.amazonaws.com/3.00.D04 CS Large.jpg\" style=\"width: 600px; display: inline;\">"
   ]
  },
  {
   "cell_type": "markdown",
   "metadata": {},
   "source": [
    "<table style=\"width:600px\">\n",
    "    \n",
    "<tr>\n",
    "    <th colspan=\"3\" style=\"text-align:left\">*CS Members*</th>\n",
    "</tr>\n",
    "\n",
    "<tr>\n",
    "    <td style=\"width:10%\">`cs.origin`</td>\n",
    "    <td style=\"width:10%\">Point</td>\n",
    "    <td style=\"width:80%\">The local origin of this coordinate system.</td>\n",
    "</tr>\n",
    "\n",
    "<tr>\n",
    "    <td style=\"width:10%\">`cs.x_axis`<br>`cs.y_axis`<br>`cs.z_axis`</td>\n",
    "    <td style=\"width:10%\">Vec</td>\n",
    "    <td style=\"width:80%\">Vectors that represent the axes of this coordinate system. Constrained upon construction to ensure orthonormality.</td>\n",
    "</tr>\n",
    "\n",
    "</table>"
   ]
  },
  {
   "cell_type": "code",
   "execution_count": null,
   "metadata": {},
   "outputs": [],
   "source": [
    "\"\"\"\n",
    "Coordinate System Initialization\n",
    "Shown here is an initialization by a Point and two Vecs which represent \n",
    "the desired orientation of the resulting CS. The first of the given vectors \n",
    "is assigned to the x-axis. The second influences the direction of the \n",
    "y-axis, but is not used to set it directly as to ensure perpendicularity.\n",
    "\"\"\"\n",
    "class CS(Geometry):\n",
    "\n",
    "    def __init__(self, pt, vec_a, vec_b):\n",
    "        self.origin = pt\n",
    "        # set the x-axis to the first given vector, normalized\n",
    "        self.x_axis = vec_a.normalized()\n",
    "        # set the z-axis to a vector perpendicular to both given vectors\n",
    "        self.z_axis = self.x_axis.cross(vec_b).normalized()\n",
    "        # set the y-axis to a vector perpendicular to the x- and z-axes\n",
    "        self.y_axis = self.z_axis.cross(self.x_axis).normalized()"
   ]
  },
  {
   "cell_type": "markdown",
   "metadata": {},
   "source": [
    "<img src=\"http://geometric-computation-images.s3-website-us-east-1.amazonaws.com/1.03.P45.jpg\" style=\"width: 200px; display: inline;\">"
   ]
  },
  {
   "cell_type": "markdown",
   "metadata": {},
   "source": [
    "### Coordinate System Evaluation"
   ]
  },
  {
   "cell_type": "code",
   "execution_count": null,
   "metadata": {},
   "outputs": [],
   "source": [
    "\"\"\"\n",
    "CS Evaluation\n",
    "Returns a Point in \"world\" space that corresponds to the given u,v,w \n",
    "coordinates that are described in the \"local\" space of this CS.\n",
    "\"\"\"\n",
    "def eval(self,u,v,w):\n",
    "    offset_vec = (self.x_axis*u) + (self.y_axis*v) + (self.z_axis*w)\n",
    "    return Point(self.origin + offset_vec)\n"
   ]
  },
  {
   "cell_type": "markdown",
   "metadata": {},
   "source": [
    "### Coordinate System Devaluation"
   ]
  },
  {
   "cell_type": "code",
   "execution_count": null,
   "metadata": {},
   "outputs": [],
   "source": [
    "\"\"\"\n",
    "CS Devaluation\n",
    "Returns a Vec containing coordinates in the \"local\" space of this CS that \n",
    "correspond with the given x,y,z coordinates that are described in \"world\" \n",
    "space.\n",
    "\"\"\"        \n",
    "def deval(self,x,y,z):\n",
    "    pt = Point(x,y,z)\n",
    "    # project the given point onto an axis line, store the distance\n",
    "    xx = Line(self.origin,self.x_axis).near(pt)[1]\n",
    "    yy = Line(self.origin,self.y_axis).near(pt)[1]\n",
    "    zz = Line(self.origin,self.z_axis).near(pt)[1]\n",
    "    return Vec(xx,yy,zz)\n",
    "\n"
   ]
  }
 ],
 "metadata": {
  "kernelspec": {
   "display_name": "Python 3",
   "language": "python",
   "name": "python3"
  },
  "language_info": {
   "codemirror_mode": {
    "name": "ipython",
    "version": 3
   },
   "file_extension": ".py",
   "mimetype": "text/x-python",
   "name": "python",
   "nbconvert_exporter": "python",
   "pygments_lexer": "ipython3",
   "version": "3.6.4"
  }
 },
 "nbformat": 4,
 "nbformat_minor": 2
}
