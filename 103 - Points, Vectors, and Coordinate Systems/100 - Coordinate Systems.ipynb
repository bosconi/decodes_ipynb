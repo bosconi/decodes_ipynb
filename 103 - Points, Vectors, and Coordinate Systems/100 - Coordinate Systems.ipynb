{
 "cells": [
  {
   "cell_type": "code",
   "execution_count": null,
   "metadata": {},
   "outputs": [],
   "source": [
    "from decodes.core import *\n",
    "from decodes.io.jupyter_out import JupyterOut\n",
    "out = JupyterOut.unit_square( )"
   ]
  },
  {
   "cell_type": "markdown",
   "metadata": {},
   "source": [
    "# Coordinate Systems\n",
    "todo"
   ]
  },
  {
   "cell_type": "markdown",
   "metadata": {},
   "source": [
    "## Basis and Coordinates"
   ]
  },
  {
   "cell_type": "markdown",
   "metadata": {},
   "source": [
    "<img src=\"http://geometric-computation-images.s3-website-us-east-1.amazonaws.com/1.03.P41.jpg\" style=\"width: 200px; display: inline;\">\n",
    "<img src=\"http://geometric-computation-images.s3-website-us-east-1.amazonaws.com/1.03.P42.jpg\" style=\"width: 200px; display: inline;\">"
   ]
  },
  {
   "cell_type": "markdown",
   "metadata": {},
   "source": [
    "<img src=\"http://geometric-computation-images.s3-website-us-east-1.amazonaws.com/1.03.P24.jpg\" style=\"width: 600px; display: inline;\">"
   ]
  },
  {
   "cell_type": "markdown",
   "metadata": {},
   "source": [
    "<img src=\"http://geometric-computation-images.s3-website-us-east-1.amazonaws.com/1.03.P26.jpg\" style=\"width: 600px; display: inline;\">"
   ]
  },
  {
   "cell_type": "markdown",
   "metadata": {},
   "source": [
    "### Frames"
   ]
  },
  {
   "cell_type": "markdown",
   "metadata": {},
   "source": [
    "<img src=\"http://geometric-computation-images.s3-website-us-east-1.amazonaws.com/1.03.P44.jpg\" style=\"width: 200px; display: inline;\">"
   ]
  },
  {
   "cell_type": "markdown",
   "metadata": {},
   "source": [
    "## CS Objects in Decodes"
   ]
  },
  {
   "cell_type": "markdown",
   "metadata": {},
   "source": [
    "<img src=\"http://geometric-computation-images.s3-website-us-east-1.amazonaws.com/3.00.D04 CS Large.jpg\" style=\"width: 600px; display: inline;\">"
   ]
  },
  {
   "cell_type": "code",
   "execution_count": null,
   "metadata": {},
   "outputs": [],
   "source": [
    "\"\"\"\n",
    "Coordinate System Initialization\n",
    "Shown here is an initialization by a Point and two Vecs which represent \n",
    "the desired orientation of the resulting CS. The first of the given vectors \n",
    "is assigned to the x-axis. The second influences the direction of the \n",
    "y-axis, but is not used to set it directly as to ensure perpendicularity.\n",
    "\"\"\"\n",
    "class CS(Geometry):\n",
    "\n",
    "    def __init__(self, pt, vec_a, vec_b):\n",
    "        self.origin = pt\n",
    "        # set the x-axis to the first given vector, normalized\n",
    "        self.x_axis = vec_a.normalized()\n",
    "        # set the z-axis to a vector perpendicular to both given vectors\n",
    "        self.z_axis = self.x_axis.cross(vec_b).normalized()\n",
    "        # set the y-axis to a vector perpendicular to the x- and z-axes\n",
    "        self.y_axis = self.z_axis.cross(self.x_axis).normalized()"
   ]
  },
  {
   "cell_type": "markdown",
   "metadata": {},
   "source": [
    "<img src=\"http://geometric-computation-images.s3-website-us-east-1.amazonaws.com/1.03.P45.jpg\" style=\"width: 200px; display: inline;\">"
   ]
  },
  {
   "cell_type": "markdown",
   "metadata": {},
   "source": [
    "### Coordinate System Evaluation"
   ]
  },
  {
   "cell_type": "code",
   "execution_count": null,
   "metadata": {},
   "outputs": [],
   "source": [
    "\"\"\"\n",
    "CS Evaluation\n",
    "Returns a Point in \"world\" space that corresponds to the given u,v,w \n",
    "coordinates that are described in the \"local\" space of this CS.\n",
    "\"\"\"\n",
    "def eval(self,u,v,w):\n",
    "    offset_vec = (self.x_axis*u) + (self.y_axis*v) + (self.z_axis*w)\n",
    "    return Point(self.origin + offset_vec)\n"
   ]
  },
  {
   "cell_type": "markdown",
   "metadata": {},
   "source": [
    "### Coordinate System Devaluation"
   ]
  },
  {
   "cell_type": "code",
   "execution_count": null,
   "metadata": {},
   "outputs": [],
   "source": [
    "\"\"\"\n",
    "CS Devaluation\n",
    "Returns a Vec containing coordinates in the \"local\" space of this CS that \n",
    "correspond with the given x,y,z coordinates that are described in \"world\" \n",
    "space.\n",
    "\"\"\"        \n",
    "def deval(self,x,y,z):\n",
    "    pt = Point(x,y,z)\n",
    "    # project the given point onto an axis line, store the distance\n",
    "    xx = Line(self.origin,self.x_axis).near(pt)[1]\n",
    "    yy = Line(self.origin,self.y_axis).near(pt)[1]\n",
    "    zz = Line(self.origin,self.z_axis).near(pt)[1]\n",
    "    return Vec(xx,yy,zz)\n",
    "\n"
   ]
  }
 ],
 "metadata": {
  "kernelspec": {
   "display_name": "Python 3",
   "language": "python",
   "name": "python3"
  },
  "language_info": {
   "codemirror_mode": {
    "name": "ipython",
    "version": 3
   },
   "file_extension": ".py",
   "mimetype": "text/x-python",
   "name": "python",
   "nbconvert_exporter": "python",
   "pygments_lexer": "ipython3",
   "version": "3.6.4"
  }
 },
 "nbformat": 4,
 "nbformat_minor": 2
}
