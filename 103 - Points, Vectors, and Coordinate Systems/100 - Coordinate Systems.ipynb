{
 "cells": [
  {
   "cell_type": "code",
   "execution_count": null,
   "metadata": {},
   "outputs": [],
   "source": [
    "from decodes.core import *\n",
    "from decodes.io.jupyter_out import JupyterOut\n",
    "out = JupyterOut.unit_square( )"
   ]
  },
  {
   "cell_type": "markdown",
   "metadata": {},
   "source": [
    "# Coordinate Systems\n"
   ]
  },
  {
   "cell_type": "markdown",
   "metadata": {},
   "source": [
    "## Basis and Coordinates\n",
    "\n",
    "We already know that we may add and scalar multiply any set of vectors $\\vec{v_{1}},\\ \\vec{v_{2}},\\ \\ldots \\ , \\vec{v_{n}}$, in any order of operation, and that these operations will result in another vector. If the scalars are known, then the vector \n",
    "\n",
    "\\begin{align}\n",
    "\\vec{w} = c_{1}\\vec{v_{1}} \\ + \\ c_{2}\\vec{v_{2}} \\ + \\ \\ldots \\ c_{2}\\vec{v_{2}} \n",
    "\\end{align}\n",
    "\n",
    "can be drawn easily using the “head-to-tail” method. This procedure is called a linear combination of $\\vec{v_{1}},\\ \\vec{v_{2}},\\ \\ldots \\ , \\vec{v_{n}}$.\n",
    "\n",
    "Consider for the moment **all possible linear combinations**. In other words, given some set of vectors, imagine all the locations that can be “reached” by vectors resulting from a combination of both addition and scalar multiplication. Mathematically, this is termed the **span** of $\\vec{v_{1}},\\ \\vec{v_{2}},\\ \\ldots \\ , \\vec{v_{n}}$. To develop our intuition for what the vector span looks like, we might consider three cases:"
   ]
  },
  {
   "cell_type": "markdown",
   "metadata": {},
   "source": [
    "<img src=\"http://geometric-computation-images.s3-website-us-east-1.amazonaws.com/1.03.P41.jpg\" style=\"width: 200px; display: inline;\">"
   ]
  },
  {
   "cell_type": "markdown",
   "metadata": {},
   "source": [
    "\n",
    "<img src=\"http://geometric-computation-images.s3-website-us-east-1.amazonaws.com/1.03.P42.jpg\" style=\"width: 200px; display: inline;\">"
   ]
  },
  {
   "cell_type": "markdown",
   "metadata": {},
   "source": [
    "<img src=\"http://geometric-computation-images.s3-website-us-east-1.amazonaws.com/1.03.P24.jpg\" style=\"width: 600px; display: inline;\">"
   ]
  },
  {
   "cell_type": "markdown",
   "metadata": {},
   "source": [
    "<img src=\"http://geometric-computation-images.s3-website-us-east-1.amazonaws.com/1.03.P26.jpg\" style=\"width: 600px; display: inline;\">"
   ]
  },
  {
   "cell_type": "markdown",
   "metadata": {},
   "source": [
    "### Frames"
   ]
  },
  {
   "cell_type": "markdown",
   "metadata": {},
   "source": [
    "\n",
    "\n",
    "\\begin{align}\n",
    "\\vec{w} = L_{1}\\vec{u_{1}} + L_{2}\\vec{u_{2}} + L_{3}\\vec{u_{3}}\n",
    "\\end{align}\n",
    "\n",
    "\n",
    "\n"
   ]
  },
  {
   "cell_type": "markdown",
   "metadata": {},
   "source": [
    "<img src=\"http://geometric-computation-images.s3-website-us-east-1.amazonaws.com/1.03.P44.jpg\" style=\"width: 200px; display: inline;\">"
   ]
  },
  {
   "cell_type": "markdown",
   "metadata": {},
   "source": [
    "## CS Objects in Decodes"
   ]
  },
  {
   "cell_type": "markdown",
   "metadata": {},
   "source": [
    "<img src=\"http://geometric-computation-images.s3-website-us-east-1.amazonaws.com/3.00.D04 CS Large.jpg\" style=\"width: 600px; display: inline;\">"
   ]
  },
  {
   "cell_type": "markdown",
   "metadata": {},
   "source": [
    "<table style=\"width:600px\">\n",
    "    \n",
    "<tr>\n",
    "    <th colspan=\"3\" style=\"text-align:left\">*CS Members*</th>\n",
    "</tr>\n",
    "\n",
    "<tr>\n",
    "    <td style=\"width:10%\">`cs.origin`</td>\n",
    "    <td style=\"width:10%\">Point</td>\n",
    "    <td style=\"width:80%\">The local origin of this coordinate system.</td>\n",
    "</tr>\n",
    "\n",
    "<tr>\n",
    "    <td style=\"width:10%\">`cs.x_axis`<br>`cs.y_axis`<br>`cs.z_axis`</td>\n",
    "    <td style=\"width:10%\">Vec</td>\n",
    "    <td style=\"width:80%\">Vectors that represent the axes of this coordinate system. Constrained upon construction to ensure orthonormality.</td>\n",
    "</tr>\n",
    "\n",
    "</table>"
   ]
  },
  {
   "cell_type": "code",
   "execution_count": null,
   "metadata": {},
   "outputs": [],
   "source": [
    "\"\"\"\n",
    "Coordinate System Initialization\n",
    "Shown here is an initialization by a Point and two Vecs which represent \n",
    "the desired orientation of the resulting CS. The first of the given vectors \n",
    "is assigned to the x-axis. The second influences the direction of the \n",
    "y-axis, but is not used to set it directly as to ensure perpendicularity.\n",
    "\"\"\"\n",
    "class CS(Geometry):\n",
    "\n",
    "    def __init__(self, pt, vec_a, vec_b):\n",
    "        self.origin = pt\n",
    "        # set the x-axis to the first given vector, normalized\n",
    "        self.x_axis = vec_a.normalized()\n",
    "        # set the z-axis to a vector perpendicular to both given vectors\n",
    "        self.z_axis = self.x_axis.cross(vec_b).normalized()\n",
    "        # set the y-axis to a vector perpendicular to the x- and z-axes\n",
    "        self.y_axis = self.z_axis.cross(self.x_axis).normalized()"
   ]
  },
  {
   "cell_type": "markdown",
   "metadata": {},
   "source": [
    "<img src=\"http://geometric-computation-images.s3-website-us-east-1.amazonaws.com/1.03.P45.jpg\" style=\"width: 200px; display: inline;\">"
   ]
  },
  {
   "cell_type": "markdown",
   "metadata": {},
   "source": [
    "### Coordinate System Evaluation"
   ]
  },
  {
   "cell_type": "code",
   "execution_count": null,
   "metadata": {},
   "outputs": [],
   "source": [
    "\"\"\"\n",
    "CS Evaluation\n",
    "Returns a Point in \"world\" space that corresponds to the given u,v,w \n",
    "coordinates that are described in the \"local\" space of this CS.\n",
    "\"\"\"\n",
    "def eval(self,u,v,w):\n",
    "    offset_vec = (self.x_axis*u) + (self.y_axis*v) + (self.z_axis*w)\n",
    "    return Point(self.origin + offset_vec)\n"
   ]
  },
  {
   "cell_type": "markdown",
   "metadata": {},
   "source": [
    "### Coordinate System Devaluation"
   ]
  },
  {
   "cell_type": "code",
   "execution_count": null,
   "metadata": {},
   "outputs": [],
   "source": [
    "\"\"\"\n",
    "CS Devaluation\n",
    "Returns a Vec containing coordinates in the \"local\" space of this CS that \n",
    "correspond with the given x,y,z coordinates that are described in \"world\" \n",
    "space.\n",
    "\"\"\"        \n",
    "def deval(self,x,y,z):\n",
    "    pt = Point(x,y,z)\n",
    "    # project the given point onto an axis line, store the distance\n",
    "    xx = Line(self.origin,self.x_axis).near(pt)[1]\n",
    "    yy = Line(self.origin,self.y_axis).near(pt)[1]\n",
    "    zz = Line(self.origin,self.z_axis).near(pt)[1]\n",
    "    return Vec(xx,yy,zz)\n",
    "\n"
   ]
  }
 ],
 "metadata": {
  "kernelspec": {
   "display_name": "Python 3",
   "language": "python",
   "name": "python3"
  },
  "language_info": {
   "codemirror_mode": {
    "name": "ipython",
    "version": 3
   },
   "file_extension": ".py",
   "mimetype": "text/x-python",
   "name": "python",
   "nbconvert_exporter": "python",
   "pygments_lexer": "ipython3",
   "version": "3.6.4"
  }
 },
 "nbformat": 4,
 "nbformat_minor": 2
}
