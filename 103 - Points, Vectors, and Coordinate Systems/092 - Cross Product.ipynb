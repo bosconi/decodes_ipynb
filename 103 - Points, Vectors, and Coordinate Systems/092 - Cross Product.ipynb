{
 "cells": [
  {
   "cell_type": "code",
   "execution_count": 2,
   "metadata": {},
   "outputs": [
    {
     "name": "stdout",
     "output_type": "stream",
     "text": [
      "http://decod.es/\tv0.2.3\n",
      "io loaded\n"
     ]
    }
   ],
   "source": [
    "from decodes.core import *\n",
    "from decodes.io.jupyter_out import JupyterOut\n",
    "out = JupyterOut.unit_square( )"
   ]
  },
  {
   "cell_type": "markdown",
   "metadata": {},
   "source": [
    "# Cross Product\n",
    "todo"
   ]
  },
  {
   "cell_type": "code",
   "execution_count": 3,
   "metadata": {},
   "outputs": [],
   "source": [
    "\"\"\"\n",
    "Cross Product\n",
    "\"\"\"\n",
    "def cross(self, other):\n",
    "    return Vec(\n",
    "        self.y * other.z - self.z * other.y,\n",
    "        self.z * other.x - self.x * other.z,\n",
    "        self.x * other.y - self.y * other.x\n",
    "    )      \n"
   ]
  },
  {
   "cell_type": "markdown",
   "metadata": {},
   "source": [
    "### Cross Product Direction"
   ]
  },
  {
   "cell_type": "markdown",
   "metadata": {},
   "source": [
    "<img src=\"http://geometric-computation-images.s3-website-us-east-1.amazonaws.com/1.03.P14_40.jpg\" style=\"width: 200px; display: inline;\">"
   ]
  },
  {
   "cell_type": "markdown",
   "metadata": {},
   "source": [
    "### Cross Product Length"
   ]
  },
  {
   "cell_type": "markdown",
   "metadata": {},
   "source": [
    "### Cross Product in the Construction of Frames"
   ]
  },
  {
   "cell_type": "markdown",
   "metadata": {},
   "source": [
    "<img src=\"http://geometric-computation-images.s3-website-us-east-1.amazonaws.com/1.03.P28.jpg\" style=\"width: 200px; display: inline;\">"
   ]
  },
  {
   "cell_type": "markdown",
   "metadata": {},
   "source": [
    "<img src=\"http://geometric-computation-images.s3-website-us-east-1.amazonaws.com/1.03.P29.jpg\" style=\"width: 600px; display: inline;\">"
   ]
  },
  {
   "cell_type": "code",
   "execution_count": null,
   "metadata": {},
   "outputs": [],
   "source": [
    "\"\"\" \n",
    "Array of Frames\n",
    "Constructs a frame of three mutually perpendicular unit vectors at a given Point in the plane, each oriented toward a given attractor Point\n",
    "\"\"\"\n",
    "for pt in pts:\n",
    "    vec_x = Vec(pt,attr_pt).normalized()\n",
    "    vec_y = vec_x.cross(Vec(0,0,1)).normalized()\n",
    "    vec_z = vec_x.cross(vec_y).normalized()\n"
   ]
  },
  {
   "cell_type": "markdown",
   "metadata": {},
   "source": [
    "<img src=\"http://geometric-computation-images.s3-website-us-east-1.amazonaws.com/1.03.P43.jpg\" style=\"width: 200px; display: inline;\">"
   ]
  },
  {
   "cell_type": "markdown",
   "metadata": {},
   "source": [
    "<img src=\"http://geometric-computation-images.s3-website-us-east-1.amazonaws.com/1.03.P30.jpg\" style=\"width: 600px; display: inline;\">"
   ]
  },
  {
   "cell_type": "markdown",
   "metadata": {},
   "source": [
    "### Cross Product in the Application of Guide Curves\n",
    "\n"
   ]
  },
  {
   "cell_type": "code",
   "execution_count": null,
   "metadata": {},
   "outputs": [],
   "source": [
    "\"\"\"\n",
    "Curve Function\n",
    "Returns a Ray that describes a point on an ellipse along with a related \n",
    "tangent vector. \n",
    "\"\"\"\n",
    "# a function that returns a point on an arbitrary curve\n",
    "def pt_on_curve(t):\n",
    "    c = math.cos(2*math.pi*t)\n",
    "    s = math.sin(2*math.pi*t)\n",
    "    return Point(len_x*c, len_y*s)\n",
    "    \n",
    "def ray_on_curve(t):\n",
    "    # the EPSILON constant contains a very very small number\n",
    "    nudge = EPSILON\n",
    "    # a point at parameter t\n",
    "    pt_a = pt_on_curve(t)\n",
    "    # a point just past parameter t along the curve\n",
    "    pt_b = pt_on_curve(t+nudge)\n",
    "    vec = Vec(pt_a,pt_b).normalized()\n",
    "    return Ray(pt_a,vec)\n",
    "\n"
   ]
  },
  {
   "cell_type": "markdown",
   "metadata": {},
   "source": [
    "<img src=\"http://geometric-computation-images.s3-website-us-east-1.amazonaws.com/1.03.P33.jpg\" style=\"width: 200px; display: inline;\">"
   ]
  },
  {
   "cell_type": "code",
   "execution_count": null,
   "metadata": {},
   "outputs": [],
   "source": [
    "\"\"\"\n",
    "Frame Construction By Fixed Vector\n",
    "Given a Ray on a curve, constructs the components of a frame using a \n",
    "fixed vector as a reference\n",
    "\"\"\"\n",
    "tangent_ray = ray_on_curve(t)\n",
    "# a vector tangent to the curve\n",
    "frame_x = tangent_ray.vec\n",
    "\n",
    "# a fixed reference vector\n",
    "e_vec = Vec(0,1)\n",
    "frame_z = frame_x.cross(e_vec)\n",
    "frame_y = frame_x.cross(frame_z)\n"
   ]
  },
  {
   "cell_type": "markdown",
   "metadata": {},
   "source": [
    "<img src=\"http://geometric-computation-images.s3-website-us-east-1.amazonaws.com/1.03.P31.jpg\" style=\"width: 200px; display: inline;\">"
   ]
  },
  {
   "cell_type": "markdown",
   "metadata": {},
   "source": [
    "<img src=\"http://geometric-computation-images.s3-website-us-east-1.amazonaws.com/1.03.P34.jpg\" style=\"width: 200px; display: inline;\">"
   ]
  },
  {
   "cell_type": "code",
   "execution_count": null,
   "metadata": {},
   "outputs": [],
   "source": [
    "\"\"\"\n",
    "Frame Construction By Relative Vector\n",
    "Given a Ray on a curve, constructs the components of a frame using a \n",
    "relative vector oriented toward the center of the curve as a reference\n",
    "\"\"\"\n",
    "tangent_ray = ray_on_curve(t)\n",
    "frame_x = tangent_ray.vec\n",
    "\n",
    "# a relative reference vector\n",
    "e_vec = Vec(tangent_ray.spt, Point())\n",
    "\n",
    "frame_z = frame_x.cross(e_vec)\n",
    "frame_y = frame_x.cross(frame_z)\n"
   ]
  },
  {
   "cell_type": "markdown",
   "metadata": {},
   "source": [
    "<img src=\"http://geometric-computation-images.s3-website-us-east-1.amazonaws.com/1.03.P32_100.jpg\" style=\"width: 600px; display: inline;\">"
   ]
  },
  {
   "cell_type": "code",
   "execution_count": null,
   "metadata": {},
   "outputs": [],
   "source": []
  }
 ],
 "metadata": {
  "kernelspec": {
   "display_name": "Python 3",
   "language": "python",
   "name": "python3"
  },
  "language_info": {
   "codemirror_mode": {
    "name": "ipython",
    "version": 3
   },
   "file_extension": ".py",
   "mimetype": "text/x-python",
   "name": "python",
   "nbconvert_exporter": "python",
   "pygments_lexer": "ipython3",
   "version": "3.6.4"
  }
 },
 "nbformat": 4,
 "nbformat_minor": 2
}
