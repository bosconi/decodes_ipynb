{
 "cells": [
  {
   "cell_type": "code",
   "execution_count": 1,
   "metadata": {},
   "outputs": [
    {
     "name": "stdout",
     "output_type": "stream",
     "text": [
      "http://decod.es/\tv0.2.3\n",
      "io loaded\n"
     ]
    }
   ],
   "source": [
    "from decodes.core import *\n",
    "from decodes.io.jupyter_out import JupyterOut\n",
    "out = JupyterOut.unit_square( )"
   ]
  },
  {
   "cell_type": "markdown",
   "metadata": {},
   "source": [
    "# Vector Length and Direction\n",
    "The **length** of a vector $\\vec{v}$ is denoted mathematically as $\\lvert \\vec{v}\\rvert$. Elementary geometry, in particular Pythagoras’ theorem, gives us the length of a vector in two dimensions $\\vec{v} = (x,y)$ as the hypotenuse of a right triangle.\n",
    "\n",
    "\\begin{align}\n",
    "\\lvert \\vec{v}\\rvert = \\sqrt{x^2+y^2}\n",
    "\\end{align}\n",
    "\n",
    "In $\\mathbb{R}^3$, the length of a vector $\\vec{v} = (x,y,z)$ is similarly the result of two applications of Pythagoras and is given by:\n",
    "\n",
    "\\begin{align}\n",
    "\\lvert \\vec{v}\\rvert = \\sqrt{x^2+y^2+z^2}\n",
    "\\end{align}"
   ]
  },
  {
   "cell_type": "markdown",
   "metadata": {},
   "source": [
    "### Vector Length"
   ]
  },
  {
   "cell_type": "markdown",
   "metadata": {},
   "source": [
    "<img src=\"http://geometric-computation-images.s3-website-us-east-1.amazonaws.com/1.03.P10.jpg\" style=\"width: 600px; display: inline;\">"
   ]
  },
  {
   "cell_type": "code",
   "execution_count": null,
   "metadata": {},
   "outputs": [],
   "source": [
    "\"\"\"\n",
    "Vector Length\n",
    "Returns the length and the squared length of this vector.\n",
    "\"\"\"\n",
    "@property\n",
    "def length(self): \n",
    "    return math.sqrt(self.x * self.x + self.y * self.y + self.z * self.z)\n",
    "\n",
    "@property    \n",
    "def length2(self):\n",
    "    return self.x ** 2 + self.y ** 2 + self.z ** 2\n"
   ]
  },
  {
   "cell_type": "code",
   "execution_count": null,
   "metadata": {},
   "outputs": [],
   "source": [
    "\"\"\"\n",
    "Vector Length Setter\n",
    "Sets the length of a vector, working backwards to determine \n",
    "the scale factor to set the appropriate x,y, and z coordinates.\n",
    "\"\"\"        \n",
    "@length.setter\n",
    "def length(self,value): \n",
    "    factor = value / self.length\n",
    "    self.x *= factor\n",
    "    self.y *= factor\n",
    "    self.z *= factor"
   ]
  },
  {
   "cell_type": "markdown",
   "metadata": {},
   "source": [
    "### Vector Normalization\n",
    "In the event that the direction of a vector is the primary concern, it is useful to be able to set the length to some convenient value. Appropriately, a **unit vector** is defined as a vector with a length of exactly one unit, and the act of scaling a vector such that its length is exactly $1.0$ is called **normalization**. Mathematically, a unit vector in the direction of a vector $\\vec{v}$ is given by dividing the vector by its length:\n",
    "\n",
    "\\begin{align}\n",
    "\\vec{u} = \\frac{\\vec{v} }{ \\lvert \\vec{v}\\rvert }\n",
    "\\end{align}\n"
   ]
  },
  {
   "cell_type": "markdown",
   "metadata": {},
   "source": [
    "<img src=\"http://geometric-computation-images.s3-website-us-east-1.amazonaws.com/1.03.P11.jpg\" style=\"width: 200px; display: inline;\">"
   ]
  },
  {
   "cell_type": "code",
   "execution_count": 2,
   "metadata": {},
   "outputs": [],
   "source": [
    "\"\"\"\n",
    "Normalizing a Vector\n",
    "Returns a vector in the same direction as this vector \n",
    "but scaled to given length\n",
    "\"\"\"\n",
    "def normalized(self, length=1.0):\n",
    "    factor = length / self.length\n",
    "    return Vec(self.x * factor, self.y * factor, self.z * factor)   \n"
   ]
  },
  {
   "cell_type": "markdown",
   "metadata": {},
   "source": [
    "### Test for Perpendicularity\n",
    "\n",
    "Normalization gives a simple test to check when two vectors are parallel, but what about a test to check whether two vectors are perpendicular? Two vectors $\\vec{v_{1}}$ and $\\vec{v_{2}}$ are perpendicular if and only if the adjacent diagram is satisfied which, invoking the ever-useful Pythagoras’ theorem, corresponds to the following identity.\n",
    "\n",
    "\\begin{align}\n",
    "\\lvert \\vec{v_{1}}\\rvert^2 + \\lvert \\vec{v_{2}}\\rvert^2 = \\lvert \\vec{v_{1}} - \\vec{v_{2}}\\rvert^2\n",
    "\\end{align}\n",
    "\n",
    "We can expand out this equation in coordinates to get:\n",
    "\n",
    "\\begin{align}\n",
    "x_{1}^2 + y_{1}^2 + z_{1}^2 + x_{2}^2 + y_{2}^2 + z_{2}^2 = (x_{1}-x_{2})^2 + (y_{1}-y_{2})^2 + (z_{1}-z_{2})^2  \n",
    "\\end{align}\n",
    "\n",
    "The left hand side cancels with part of the right hand side, and what is left is the following identity.\n",
    "\n",
    "\\begin{align}\n",
    "x_{1}x_{2} + y_{1}y_{2} + z_{1}z_{2} = 0 \n",
    "\\end{align}\n",
    "\n",
    "This combination of terms on the left hand side is so prevalent in the geometry of three dimensional space that it has a special name, the dot product. This operation is one kind of multiplication of two vectors and is denoted using the dot symbol. The check for perpendicularity can then be succinctly expressed as:\n",
    "\n",
    "\\begin{align}\n",
    "\\vec{v_{1}} \\bullet \\vec{v_{2}} = 0\n",
    "\\end{align}"
   ]
  },
  {
   "cell_type": "markdown",
   "metadata": {},
   "source": [
    "<img src=\"http://geometric-computation-images.s3-website-us-east-1.amazonaws.com/1.03.P12.jpg\" style=\"width: 200px; display: inline;\">"
   ]
  },
  {
   "cell_type": "code",
   "execution_count": null,
   "metadata": {},
   "outputs": [],
   "source": []
  }
 ],
 "metadata": {
  "kernelspec": {
   "display_name": "Python 3",
   "language": "python",
   "name": "python3"
  },
  "language_info": {
   "codemirror_mode": {
    "name": "ipython",
    "version": 3
   },
   "file_extension": ".py",
   "mimetype": "text/x-python",
   "name": "python",
   "nbconvert_exporter": "python",
   "pygments_lexer": "ipython3",
   "version": "3.6.4"
  }
 },
 "nbformat": 4,
 "nbformat_minor": 2
}
