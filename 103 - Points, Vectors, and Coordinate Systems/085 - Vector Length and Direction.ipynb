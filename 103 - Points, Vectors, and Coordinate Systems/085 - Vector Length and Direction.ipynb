{
 "cells": [
  {
   "cell_type": "code",
   "execution_count": 1,
   "metadata": {},
   "outputs": [
    {
     "name": "stdout",
     "output_type": "stream",
     "text": [
      "http://decod.es/\tv0.2.3\n",
      "io loaded\n"
     ]
    }
   ],
   "source": [
    "from decodes.core import *\n",
    "from decodes.io.jupyter_out import JupyterOut\n",
    "out = JupyterOut.unit_square( )"
   ]
  },
  {
   "cell_type": "markdown",
   "metadata": {},
   "source": [
    "# Vector Length and Direction\n",
    "todo"
   ]
  },
  {
   "cell_type": "markdown",
   "metadata": {},
   "source": [
    "### Vector Length"
   ]
  },
  {
   "cell_type": "markdown",
   "metadata": {},
   "source": [
    "<img src=\"http://geometric-computation-images.s3-website-us-east-1.amazonaws.com/1.03.P10.jpg\" style=\"width: 600px; display: inline;\">"
   ]
  },
  {
   "cell_type": "code",
   "execution_count": null,
   "metadata": {},
   "outputs": [],
   "source": [
    "\"\"\"\n",
    "Vector Length\n",
    "Returns the length and the squared length of this vector.\n",
    "\"\"\"\n",
    "@property\n",
    "def length(self): \n",
    "    return math.sqrt(self.x * self.x + self.y * self.y + self.z * self.z)\n",
    "\n",
    "@property    \n",
    "def length2(self):\n",
    "    return self.x ** 2 + self.y ** 2 + self.z ** 2\n"
   ]
  },
  {
   "cell_type": "code",
   "execution_count": null,
   "metadata": {},
   "outputs": [],
   "source": [
    "\"\"\"\n",
    "Vector Length Setter\n",
    "Sets the length of a vector, working backwards to determine \n",
    "the scale factor to set the appropriate x,y, and z coordinates.\n",
    "\"\"\"        \n",
    "@length.setter\n",
    "def length(self,value): \n",
    "    factor = value / self.length\n",
    "    self.x *= factor\n",
    "    self.y *= factor\n",
    "    self.z *= factor"
   ]
  },
  {
   "cell_type": "markdown",
   "metadata": {},
   "source": [
    "### Vector Normalization"
   ]
  },
  {
   "cell_type": "markdown",
   "metadata": {},
   "source": [
    "<img src=\"http://geometric-computation-images.s3-website-us-east-1.amazonaws.com/1.03.P11.jpg\" style=\"width: 200px; display: inline;\">"
   ]
  },
  {
   "cell_type": "code",
   "execution_count": 2,
   "metadata": {},
   "outputs": [],
   "source": [
    "\"\"\"\n",
    "Normalizing a Vector\n",
    "Returns a vector in the same direction as this vector \n",
    "but scaled to given length\n",
    "\"\"\"\n",
    "def normalized(self, length=1.0):\n",
    "    factor = length / self.length\n",
    "    return Vec(self.x * factor, self.y * factor, self.z * factor)   \n"
   ]
  },
  {
   "cell_type": "markdown",
   "metadata": {},
   "source": [
    "### Test for Perpendicularity"
   ]
  },
  {
   "cell_type": "markdown",
   "metadata": {},
   "source": [
    "<img src=\"http://geometric-computation-images.s3-website-us-east-1.amazonaws.com/1.03.P12.jpg\" style=\"width: 200px; display: inline;\">"
   ]
  }
 ],
 "metadata": {
  "kernelspec": {
   "display_name": "Python 3",
   "language": "python",
   "name": "python3"
  },
  "language_info": {
   "codemirror_mode": {
    "name": "ipython",
    "version": 3
   },
   "file_extension": ".py",
   "mimetype": "text/x-python",
   "name": "python",
   "nbconvert_exporter": "python",
   "pygments_lexer": "ipython3",
   "version": "3.6.4"
  }
 },
 "nbformat": 4,
 "nbformat_minor": 2
}
