{
 "cells": [
  {
   "cell_type": "code",
   "execution_count": null,
   "metadata": {},
   "outputs": [],
   "source": [
    "from decodes.core import *\n",
    "from decodes.io.jupyter_out import JupyterOut\n",
    "import math\n",
    "\n",
    "out = JupyterOut.unit_square( )"
   ]
  },
  {
   "cell_type": "markdown",
   "metadata": {},
   "source": [
    "# Introduction to Transformations and Intersections\n",
    "\n",
    "Whereas the topics addressed thus far have all been quite tangible, and objects in memory have held a direct correspondence to geometric entities, the techniques discussed in this and future sections are more challenging to visualize.\n",
    "\n",
    "Both transformations and intersections are represented in code as objects, yet ***neither Xforms and Intersectors correspond to geometric entities***, and do not have a representation on our screen.\n",
    "\n",
    "A ***transformation*** in code is a compact and strikingly elegant mechanism for manipulating geometry, and is based upon the matrix: a mathematical construct that is central to computational geometry.\n",
    "\n",
    "An ***intersection*** in code is described not as the interaction of two objects, but as its own entity: a machine that produces new geometries from existing ones. To implement such a machine, we will rely upon a class structure more abstract than any presented thus far."
   ]
  },
  {
   "cell_type": "markdown",
   "metadata": {},
   "source": [
    "Consider the graphic description of a procedure for constructing a mirror transformation using a compass and straightedge.\n",
    "\n",
    "<img src=\"http://geometric-computation-images.s3-website-us-east-1.amazonaws.com/1.09.P01.jpg\" style=\"width: 200px; display: inline;\">\n",
    "\n",
    "This procedure appears to be straightforward to implement with compass and straightedge, but consider the challenges we might face in representing this elementary operation in vector mathematics or in code. There are implicit operations at work here that are trivial to accomplish by eye, but for which we do not yet have the tools for in formula.\n",
    "\n",
    "* It is easy to find the intersection of the two circles by eye, but we have not discussed how to do so in formula.\n",
    "\n",
    "* The intersection of two circles might result in two points, as it does in the nearby diagrams, but under different conditions will produce a single point, or no intersection at all. Other forms of intersection will produce a greater diversity of geometric types, and dealing with this heterogeneity is a central challenge.\n",
    "\n"
   ]
  },
  {
   "cell_type": "code",
   "execution_count": null,
   "metadata": {},
   "outputs": [],
   "source": []
  }
 ],
 "metadata": {
  "kernelspec": {
   "display_name": "Python 3",
   "language": "python",
   "name": "python3"
  },
  "language_info": {
   "codemirror_mode": {
    "name": "ipython",
    "version": 3
   },
   "file_extension": ".py",
   "mimetype": "text/x-python",
   "name": "python",
   "nbconvert_exporter": "python",
   "pygments_lexer": "ipython3",
   "version": "3.6.4"
  }
 },
 "nbformat": 4,
 "nbformat_minor": 2
}
