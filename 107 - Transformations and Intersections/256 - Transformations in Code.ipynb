{
 "cells": [
  {
   "cell_type": "code",
   "execution_count": null,
   "metadata": {},
   "outputs": [],
   "source": [
    "from decodes.core import *\n",
    "from decodes.io.jupyter_out import JupyterOut\n",
    "import math\n",
    "\n",
    "out = JupyterOut.unit_square( )"
   ]
  },
  {
   "cell_type": "markdown",
   "metadata": {},
   "source": [
    "# Transformations in Code\n",
    "todo"
   ]
  },
  {
   "cell_type": "markdown",
   "metadata": {},
   "source": [
    "## Xform Objects in Decod.es"
   ]
  },
  {
   "cell_type": "markdown",
   "metadata": {},
   "source": [
    "<img src=\"http://geometric-computation-images.s3-website-us-east-1.amazonaws.com/3.00.D96 Xform Large.jpg\" style=\"width: 600px; display: inline;\">"
   ]
  },
  {
   "cell_type": "code",
   "execution_count": null,
   "metadata": {},
   "outputs": [],
   "source": [
    "\"\"\"\n",
    "Xform Initialization\n",
    "An Xform object is initialized with values configured to match those of an \n",
    "identity matrix.\n",
    "\"\"\"\n",
    "\n",
    "class Xform(object):\n",
    "\n",
    "    def __init__(self):\n",
    "        self._m = [0.0]*16\n",
    "        self.c11, self.c22, self.c33, self.c44, = 1.0, 1.0, 1.0, 1.0"
   ]
  },
  {
   "cell_type": "code",
   "execution_count": null,
   "metadata": {},
   "outputs": [],
   "source": [
    "\"\"\"\n",
    "Transformation Management\n",
    "Here, a method is defined that attempts to apply a spatial transformation as \n",
    "described by this Xform matrix to any geometric object given. An appropriate \n",
    "mechanism for doing so is applied on a case-by-case basis, with constituent \n",
    "Points and Vecs transformed separately, stripping away the translation portion \n",
    "of the matrix where needed. If no appropriate means is defined, an error is \n",
    "raised.\n",
    "\"\"\"\n",
    "def transform(self,other):\n",
    "    \n",
    "    # if other is a Point\n",
    "    if isinstance(other, Point): \n",
    "        # apply the transformation and return a new Point\n",
    "        tup = self._xform_tuple(other.to_tuple())\n",
    "        pt = Point(tup[0],tup[1],tup[2])\n",
    "        return pt\n",
    "    \n",
    "    # if other is a Vec\n",
    "    if isinstance(other, Vec):\n",
    "        # apply the transformation and return a new Vec\n",
    "        tup = self._xform_tuple(other.to_tuple())\n",
    "        vec = Vec(tup[0],tup[1],tup[2])\n",
    "        return vec     \n",
    "    \n",
    "    # if other is a LinearEntity\n",
    "    if isinstance(other, LinearEntity):\n",
    "        # apply the transformation to the LinearEntity start point\n",
    "        other._pt = other._pt*self\n",
    "        xf = self.strip_translation()\n",
    "        # apply the transformation to the LinearEntity vector\n",
    "        other._vec = other._vec*xf\n",
    "        # assemble and return a new LinearEntity\n",
    "        return other\n",
    "    \n",
    "    # if other is a CS\n",
    "    if isinstance(other, CS):\n",
    "        cs = other\n",
    "        # apply the transformation to the CS origin\n",
    "        tup = self._xform_tuple(cs.origin.to_tuple())\n",
    "        origin = Point(tup[0],tup[1],tup[2])\n",
    "        xf = self.strip_translation()\n",
    "        # apply the transformation to each of the CS axis Vecs\n",
    "        tup = xf._xform_tuple(cs.x_axis.to_tuple())\n",
    "        x_axis = Vec(tup[0],tup[1],tup[2])\n",
    "        tup = xf._xform_tuple(cs.y_axis.to_tuple())\n",
    "        y_axis = Vec(tup[0],tup[1],tup[2])\n",
    "        # assemble and return a new CS\n",
    "        ret = CS(origin, x_axis, y_axis)\n",
    "        return ret\n",
    "    \n",
    "    # if other is a Circle\n",
    "    if isinstance(other, Circle):\n",
    "        # apply the transformation as if this Circle was a Plane\n",
    "        pln = other.plane * self\n",
    "        cir = Circle(pln,other.rad)\n",
    "        # assemble and return a new Circle\n",
    "        return cir \n",
    "    \n",
    "    # if other is a Plane\n",
    "    if isinstance(other, Plane):\n",
    "        pln = other\n",
    "        # apply the transformation to the Plane origin\n",
    "        tup = self._xform_tuple(pln.origin.to_tuple())\n",
    "        origin = Point(tup[0],tup[1],tup[2])\n",
    "        xf = self.strip_translation()\n",
    "        # apply the transformation to the Plane normal Vec\n",
    "        tup = xf._xform_tuple(pln.normal.to_tuple())\n",
    "        normal = Vec(tup[0],tup[1],tup[2]).normalized()\n",
    "        # assemble and return a new Plane\n",
    "        pln = Plane(origin, normal)\n",
    "        pln.copy_props(other)\n",
    "        return pln\n",
    "\n",
    "    # if no transformation is defined for this object, raise an error.\n",
    "    raise NotImplementedError(\"I'm sorry. I can't transform that.\")\n",
    "    "
   ]
  },
  {
   "cell_type": "code",
   "execution_count": null,
   "metadata": {},
   "outputs": [],
   "source": [
    "\"\"\"\n",
    "A Rotation of a Segment\n",
    "Following an earlier example that defined a matrix for rotating vectors, a \n",
    "given Segment seg is rotated by 90 degrees about the origin.\n",
    "\"\"\"\n",
    "xf = Xform()\n",
    "xf.c11 = 0\n",
    "xf.c12 = -1\n",
    "xf.c21 = 1\n",
    "xf.c22 = 0\n",
    "\n",
    "seg *= xf"
   ]
  },
  {
   "cell_type": "markdown",
   "metadata": {},
   "source": [
    "<img src=\"http://geometric-computation-images.s3-website-us-east-1.amazonaws.com/1.09.P17.jpg\" style=\"width: 200px; display: inline;\">"
   ]
  },
  {
   "cell_type": "code",
   "execution_count": null,
   "metadata": {},
   "outputs": [],
   "source": [
    "\"\"\"\n",
    "Variable Rotation of Segments\n",
    "Here, a function is defined that rotates a given termination Point of a Segment \n",
    "a variable amount as determined by its distance to an attractor Point. For this \n",
    "purpose, a single Xform object is continually altered and applied to each Point. Two given Intervals, ival_dist and ival_spin, control the amount of rotation.\n",
    "\"\"\"\n",
    "xf = Xform()\n",
    "def spin(pt):\n",
    "    # calculate an angle of rotation\n",
    "    ang = Interval.remap(pt.dist(attr_pt),ival_dist,ival_spin)\n",
    "    sint, cost = sin(ang), cos(ang)\n",
    "    # set the components of the matrix to the desired rotation\n",
    "    xf.c11, xf.c12, xf.c21, xf.c22 = cost, -sint, sint, cost\n",
    "    return pt * xf\n",
    "\n",
    "segs = [Segment(spin(seg.spt),spin(seg.ept)) for seg in segs]"
   ]
  },
  {
   "cell_type": "code",
   "execution_count": null,
   "metadata": {},
   "outputs": [],
   "source": [
    "\"\"\"\n",
    "Combining Transformations\n",
    "Xform objects may be combined before being applied to a geometric object. \n",
    "Here, four transformations are defined by calling on static methods of the \n",
    "Xform class, and then combined before being recursively applied to a given \n",
    "collection of Segments. Note that the order of combination plays a significant \n",
    "role in the nature of the result.\n",
    "\"\"\"\n",
    "xf_rot = Xform.rotation(angle = radians(15))\n",
    "xf_trn = Xform.translation(Vec(0.50, 0.33))\n",
    "xf_scl = Xform.scale(1.02)\n",
    "xf_mir = Xform.mirror(\"world_yz\")\n",
    "\n",
    "xf_sum = xf_trn * xf_rot * xf_scl\n",
    "\n",
    "# figure is a given collection of Segments\n",
    "figs = [figure]\n",
    "for i in range(count):\n",
    "    figs.append([xf_sum*seg for seg in figs[-1]])"
   ]
  },
  {
   "cell_type": "markdown",
   "metadata": {},
   "source": [
    "<img src=\"http://geometric-computation-images.s3-website-us-east-1.amazonaws.com/1.09.P18.jpg\" style=\"width: 200px; display: inline;\">"
   ]
  },
  {
   "cell_type": "markdown",
   "metadata": {},
   "source": [
    "## A Library of Spatial Transformations"
   ]
  },
  {
   "cell_type": "markdown",
   "metadata": {},
   "source": [
    "### Change of Basis"
   ]
  },
  {
   "cell_type": "markdown",
   "metadata": {},
   "source": [
    "\\begin{align}\n",
    "     {\\large M_{\\vec{s_{1}},\\vec{s_{2}},\\vec{s_{3}} \\to \\vec{e_{1}},\\vec{e_{2}},\\vec{e_{3}}} } = \n",
    "    \\begin{bmatrix}\n",
    "        s_{1x} & s_{2x} & s_{3x} & 0 \\\\\n",
    "        s_{1y} & s_{2y} & s_{3y} & 0 \\\\\n",
    "        s_{1z} & s_{2z} & s_{3z} & 0 \\\\  \n",
    "        0 & 0 & 0 & 1 \\\\\n",
    "    \\end{bmatrix}\n",
    "\\end{align}"
   ]
  },
  {
   "cell_type": "markdown",
   "metadata": {},
   "source": [
    "\\begin{align}\n",
    "     {\\large M_{\\vec{e_{1}},\\vec{e_{2}},\\vec{e_{3}} \\to \\vec{t_{1}},\\vec{t_{2}},\\vec{t_{3}} } } = \n",
    "    \\begin{bmatrix}\n",
    "        t_{1x} & t_{1x} & t_{1x} & 0 \\\\\n",
    "        t_{2y} & t_{2y} & t_{2y} & 0 \\\\\n",
    "        t_{3z} & t_{3z} & t_{3z} & 0 \\\\  \n",
    "        0 & 0 & 0 & 1 \\\\\n",
    "    \\end{bmatrix}\n",
    "\\end{align}"
   ]
  },
  {
   "cell_type": "markdown",
   "metadata": {},
   "source": [
    "\\begin{align}\n",
    "    \\begin{bmatrix}\n",
    "        1 & 0 & 0 & o_{tx} \\\\\n",
    "        0 & 1 & 0 & o_{ty} \\\\\n",
    "        0 & 0 & 1 & o_{tz} \\\\    \n",
    "        0 & 0 & 0 & 1 \\\\\n",
    "    \\end{bmatrix}\n",
    "     \\times\n",
    "    {\\large M_{\\vec{e_{1}},\\vec{e_{2}},\\vec{e_{3}} \\to \\vec{t_{1}},\\vec{t_{2}},\\vec{t_{3}} } } \n",
    "     \\times\n",
    "     {\\large M_{\\vec{s_{1}},\\vec{s_{2}},\\vec{s_{3}} \\to \\vec{e_{1}},\\vec{e_{2}},\\vec{e_{3}}} }\n",
    "     \\times\n",
    "    \\begin{bmatrix}\n",
    "        1 & 0 & 0 & -o_{sx} \\\\\n",
    "        0 & 1 & 0 & -o_{sy} \\\\\n",
    "        0 & 0 & 1 & -o_{sz} \\\\    \n",
    "        0 & 0 & 0 & 1 \\\\\n",
    "    \\end{bmatrix}     \n",
    "\\end{align}"
   ]
  },
  {
   "cell_type": "markdown",
   "metadata": {},
   "source": [
    "<img src=\"http://geometric-computation-images.s3-website-us-east-1.amazonaws.com/1.09.P27.jpg\" style=\"width: 200px; display: inline;\">"
   ]
  },
  {
   "cell_type": "code",
   "execution_count": null,
   "metadata": {},
   "outputs": [],
   "source": []
  }
 ],
 "metadata": {
  "kernelspec": {
   "display_name": "Python 2",
   "language": "python",
   "name": "python2"
  },
  "language_info": {
   "codemirror_mode": {
    "name": "ipython",
    "version": 2
   },
   "file_extension": ".py",
   "mimetype": "text/x-python",
   "name": "python",
   "nbconvert_exporter": "python",
   "pygments_lexer": "ipython2",
   "version": "2.7.10"
  }
 },
 "nbformat": 4,
 "nbformat_minor": 2
}
