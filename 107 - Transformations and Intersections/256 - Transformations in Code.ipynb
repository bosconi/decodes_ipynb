{
 "cells": [
  {
   "cell_type": "code",
   "execution_count": null,
   "metadata": {},
   "outputs": [],
   "source": [
    "from decodes.core import *\n",
    "from decodes.io.jupyter_out import JupyterOut\n",
    "import math\n",
    "\n",
    "out = JupyterOut.unit_square( )"
   ]
  },
  {
   "cell_type": "markdown",
   "metadata": {},
   "source": [
    "# Transformations in Code\n",
    "todo"
   ]
  },
  {
   "cell_type": "markdown",
   "metadata": {},
   "source": [
    "## Xform Objects in Decod.es"
   ]
  },
  {
   "cell_type": "markdown",
   "metadata": {},
   "source": [
    "<img src=\"http://geometric-computation-images.s3-website-us-east-1.amazonaws.com/3.00.D96 Xform Large.jpg\" style=\"width: 600px; display: inline;\">"
   ]
  },
  {
   "cell_type": "markdown",
   "metadata": {},
   "source": [
    "<img src=\"http://geometric-computation-images.s3-website-us-east-1.amazonaws.com/1.09.P17.jpg\" style=\"width: 200px; display: inline;\">"
   ]
  },
  {
   "cell_type": "markdown",
   "metadata": {},
   "source": [
    "<img src=\"http://geometric-computation-images.s3-website-us-east-1.amazonaws.com/1.09.P18.jpg\" style=\"width: 200px; display: inline;\">"
   ]
  },
  {
   "cell_type": "markdown",
   "metadata": {},
   "source": [
    "## A Library of Spatial Transformations"
   ]
  },
  {
   "cell_type": "markdown",
   "metadata": {},
   "source": [
    "### Change of Basis"
   ]
  },
  {
   "cell_type": "markdown",
   "metadata": {},
   "source": [
    "\\begin{align}\n",
    "     {\\large M_{\\vec{s_{1}},\\vec{s_{2}},\\vec{s_{3}} \\to \\vec{e_{1}},\\vec{e_{2}},\\vec{e_{3}}} } = \n",
    "    \\begin{bmatrix}\n",
    "        s_{1x} & s_{2x} & s_{3x} & 0 \\\\\n",
    "        s_{1y} & s_{2y} & s_{3y} & 0 \\\\\n",
    "        s_{1z} & s_{2z} & s_{3z} & 0 \\\\  \n",
    "        0 & 0 & 0 & 1 \\\\\n",
    "    \\end{bmatrix}\n",
    "\\end{align}"
   ]
  },
  {
   "cell_type": "markdown",
   "metadata": {},
   "source": [
    "\\begin{align}\n",
    "     {\\large M_{\\vec{e_{1}},\\vec{e_{2}},\\vec{e_{3}} \\to \\vec{t_{1}},\\vec{t_{2}},\\vec{t_{3}} } } = \n",
    "    \\begin{bmatrix}\n",
    "        t_{1x} & t_{1x} & t_{1x} & 0 \\\\\n",
    "        t_{2y} & t_{2y} & t_{2y} & 0 \\\\\n",
    "        t_{3z} & t_{3z} & t_{3z} & 0 \\\\  \n",
    "        0 & 0 & 0 & 1 \\\\\n",
    "    \\end{bmatrix}\n",
    "\\end{align}"
   ]
  },
  {
   "cell_type": "markdown",
   "metadata": {},
   "source": [
    "\\begin{align}\n",
    "    \\begin{bmatrix}\n",
    "        1 & 0 & 0 & o_{tx} \\\\\n",
    "        0 & 1 & 0 & o_{ty} \\\\\n",
    "        0 & 0 & 1 & o_{tz} \\\\    \n",
    "        0 & 0 & 0 & 1 \\\\\n",
    "    \\end{bmatrix}\n",
    "     \\times\n",
    "    {\\large M_{\\vec{e_{1}},\\vec{e_{2}},\\vec{e_{3}} \\to \\vec{t_{1}},\\vec{t_{2}},\\vec{t_{3}} } } \n",
    "     \\times\n",
    "     {\\large M_{\\vec{s_{1}},\\vec{s_{2}},\\vec{s_{3}} \\to \\vec{e_{1}},\\vec{e_{2}},\\vec{e_{3}}} }\n",
    "     \\times\n",
    "    \\begin{bmatrix}\n",
    "        1 & 0 & 0 & -o_{sx} \\\\\n",
    "        0 & 1 & 0 & -o_{sy} \\\\\n",
    "        0 & 0 & 1 & -o_{sz} \\\\    \n",
    "        0 & 0 & 0 & 1 \\\\\n",
    "    \\end{bmatrix}     \n",
    "\\end{align}"
   ]
  },
  {
   "cell_type": "markdown",
   "metadata": {},
   "source": [
    "<img src=\"http://geometric-computation-images.s3-website-us-east-1.amazonaws.com/1.09.P27.jpg\" style=\"width: 200px; display: inline;\">"
   ]
  },
  {
   "cell_type": "code",
   "execution_count": null,
   "metadata": {},
   "outputs": [],
   "source": []
  }
 ],
 "metadata": {
  "kernelspec": {
   "display_name": "Python 2",
   "language": "python",
   "name": "python2"
  },
  "language_info": {
   "codemirror_mode": {
    "name": "ipython",
    "version": 2
   },
   "file_extension": ".py",
   "mimetype": "text/x-python",
   "name": "python",
   "nbconvert_exporter": "python",
   "pygments_lexer": "ipython2",
   "version": "2.7.10"
  }
 },
 "nbformat": 4,
 "nbformat_minor": 2
}
