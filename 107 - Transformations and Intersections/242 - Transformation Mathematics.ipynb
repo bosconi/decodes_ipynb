{
 "cells": [
  {
   "cell_type": "code",
   "execution_count": null,
   "metadata": {},
   "outputs": [],
   "source": [
    "from decodes.core import *\n",
    "from decodes.io.jupyter_out import JupyterOut\n",
    "import math\n",
    "\n",
    "out = JupyterOut.unit_square( )"
   ]
  },
  {
   "cell_type": "markdown",
   "metadata": {},
   "source": [
    "# Transformation Mathematics\n",
    "\n",
    "We are familiar with a set of operations in CAD designated by verbs, such as \"Move”, “Mirror”, “Rotate”, and “Scale”, and that ***act upon a geometric object to produce the same kind of object, only transformed***. \n",
    "\n",
    "Operations such as these are termed ***transformations or transforms***. After an object has undergone a transformation, we can observe that certain properties of the object are altered while others are preserved. \n",
    "\n",
    "Mathematicians employ a number of terms (such as ***congruency, isometry, similarity, and affinity***) to classify transformations by the features they preserve and those they distort.\n",
    "\n",
    "Consider, for example, the axonometric projection transformation, which projects geometry onto a plane in such a way that parallel lines are mapped onto parallel lines, thereby maintaining parallelism."
   ]
  },
  {
   "cell_type": "markdown",
   "metadata": {},
   "source": [
    "Mathematically speaking, we say that ***a transformation of a space onto itself is a rule which assigns to every point $P$ in the space another point $P^*$ in the space***.\n",
    "\n",
    "The simple reflection that was constructed by compass and straightedge is an example of a transformation of the plane (or any point on the plane) onto itself (in that all points end up somewhere else on the plane). \n",
    "\n",
    "Notice that, in the case of the mirror reflection, ***the kinds of things that come out after being reflected are the same kinds of things that go in***; namely, a reflected line is still a line with the same length, a reflected circle is still a circle with the same radius, and a reflected curve is still the same curve with all of the same geometric properties.\n",
    "\n",
    "There are other transformations that do not preserve geometric features in the same way. Consider the ***circle inversion transformation***, which can be expressed as the function below."
   ]
  },
  {
   "cell_type": "markdown",
   "metadata": {},
   "source": [
    "\\begin{align}\n",
    "T(x,y) = (\\frac{R^2x}{x^2+y^2},\\frac{R^2y}{x^2+y^2})\n",
    "\\end{align}"
   ]
  },
  {
   "cell_type": "markdown",
   "metadata": {},
   "source": [
    "<img src=\"http://geometric-computation-images.s3-website-us-east-1.amazonaws.com/1.09.P16.jpg\" style=\"width: 200px; display: inline;\">\n"
   ]
  },
  {
   "cell_type": "markdown",
   "metadata": {},
   "source": [
    "The geometric properties that are preserved here may be more difficult to discern. \n",
    "\n",
    "Knowing that the graphic shows the inversion of points on a hexagonal grid, we can understand that while the linearity of lines are not preserved, the angle between two lines or curves is preserved. \n",
    "\n",
    "How and under what circumstances different classes of geometric features are preserved is an important and distinguishing property of transformations."
   ]
  },
  {
   "cell_type": "markdown",
   "metadata": {},
   "source": [
    "Even though a transformation is formally defined as any function that takes a point and gives a point back in return, we will find it beneficial to narrow this definition to include only those transformations that may be represented by a particularly useful mathematical construct: ***the matrix***.\n",
    "\n",
    "A matrix is ***a structure for organizing sets of values in rows and columns, such that\n",
    "these values may be operated upon by a set of algebraic rules***. \n",
    "\n",
    "Matrix algebra underlies much of geometric computation. The expenditure of just a bit of effort in mastering the fundamentals of this potentially imposing mathematical construct will yield a wealth of insight in return."
   ]
  },
  {
   "cell_type": "markdown",
   "metadata": {},
   "source": [
    "## Matrix Fundamentals\n",
    "\n",
    "A brief account of the matrix will serve to ground our understanding of how transformations work in computer graphics in general, and will offer a basis for the implementation of transformations in the Decod.es library in particular.\n",
    "\n",
    "For this we will need a grasp of the basic notation for writing matrices, and a working understanding of how they are used to perform operations. \n",
    "\n",
    "In this section, we:\n",
    "* Detail the relevant notational conventions\n",
    "* Present the algebra of matrices\n",
    "* Demonstrate their basic operation on a simple example of transforming 2d vectors\n",
    "\n"
   ]
  },
  {
   "cell_type": "markdown",
   "metadata": {},
   "source": [
    "### Matrix Notation\n",
    "\n",
    "A mathematical matrix is much like its namesake in code: a two-dimensional array that organizes values into regular rows and columns. \n",
    "\n",
    "An ***m x n matrix*** (read as “*m by n*”) and denoted throughout this chapter as $(m \\times n)$, is an arrangement of elements into ***m rows*** and ***n columns***. Any matrix for which the number of rows and the number of columns are the same may be termed a square matrix."
   ]
  },
  {
   "cell_type": "markdown",
   "metadata": {},
   "source": [
    "<img src=\"http://geometric-computation-images.s3-website-us-east-1.amazonaws.com/1.09.P02.jpg\" style=\"width: 200px; display: inline;\">\n"
   ]
  },
  {
   "cell_type": "markdown",
   "metadata": {},
   "source": [
    "By convention, the notation for a generic element contained within a matrix is $c_{ij}$, with the subscript index $i$ indicating the containing row, and the index $j$ the containing column.\n",
    "\n",
    "Note that the conventional ordering of the indices of a matrix is the reverse of the `(x,y)` convention that we are accustomed to in describing horizontal and vertical positions. \n",
    "\n",
    "Also, positions are numbered starting at the top left, and the indexing starts with `(1,1)`, not with `(0,0)` as we have become accustomed to in code."
   ]
  },
  {
   "cell_type": "markdown",
   "metadata": {},
   "source": [
    "\\begin{bmatrix}\n",
    "    c_{11} & c_{12} & c_{13} & c_{14} \\\\\n",
    "    c_{21} & c_{22} & c_{23} & c_{24} \\\\\n",
    "    c_{31} & c_{32} & c_{33} & c_{34}\n",
    "\\end{bmatrix}"
   ]
  },
  {
   "cell_type": "markdown",
   "metadata": {},
   "source": [
    "### Matrix Algebra "
   ]
  },
  {
   "cell_type": "markdown",
   "metadata": {},
   "source": [
    "<img src=\"http://geometric-computation-images.s3-website-us-east-1.amazonaws.com/1.09.P03.jpg\" style=\"width: 200px; display: inline;\">\n"
   ]
  },
  {
   "cell_type": "markdown",
   "metadata": {},
   "source": [
    "\\begin{align}\n",
    "\\begin{bmatrix} 2 & -1 \\\\ 3 & 0 \\end{bmatrix} + \n",
    "\\begin{bmatrix} -1 & 5 \\\\ 0 & 10 \\end{bmatrix} = \n",
    "\\begin{bmatrix} 1 & 4 \\\\ 3 & 10 \\end{bmatrix}\n",
    "\\end{align}"
   ]
  },
  {
   "cell_type": "markdown",
   "metadata": {},
   "source": [
    "<img src=\"http://geometric-computation-images.s3-website-us-east-1.amazonaws.com/1.09.P04.jpg\" style=\"width: 200px; display: inline;\">\n"
   ]
  },
  {
   "cell_type": "markdown",
   "metadata": {},
   "source": [
    "\\begin{align}\n",
    "3\n",
    "\\begin{bmatrix} 1 & -1 \\\\ -2 & 1 \\\\ 0 & 2 \\end{bmatrix} = \n",
    "\\begin{bmatrix} 3 & -3 \\\\ -6 & 3 \\\\ 0 & 6 \\end{bmatrix}\n",
    "\\end{align}"
   ]
  },
  {
   "cell_type": "markdown",
   "metadata": {},
   "source": [
    "<img src=\"http://geometric-computation-images.s3-website-us-east-1.amazonaws.com/1.09.P05.jpg\" style=\"width: 200px; display: inline;\">\n"
   ]
  },
  {
   "cell_type": "markdown",
   "metadata": {},
   "source": [
    "\\begin{align}\n",
    "(m \\times p)(p \\times n) = (m \\times n)\n",
    "\\end{align}"
   ]
  },
  {
   "cell_type": "markdown",
   "metadata": {},
   "source": [
    "<img src=\"http://geometric-computation-images.s3-website-us-east-1.amazonaws.com/1.09.P06.jpg\" style=\"width:  600px; display: inline;\">\n"
   ]
  },
  {
   "cell_type": "markdown",
   "metadata": {},
   "source": [
    "### Matrices and Vectors"
   ]
  },
  {
   "cell_type": "markdown",
   "metadata": {},
   "source": [
    "\\begin{align}\n",
    "M\\vec{x} = \n",
    "\\begin{bmatrix} c_{11} & c_{12} \\\\ c_{21} & c_{22} \\end{bmatrix}\n",
    "\\begin{bmatrix} x \\\\ y \\end{bmatrix} = \n",
    "\\begin{bmatrix} c_{11}x + c_{12}y \\\\ c_{21}x + c_{22}y \\end{bmatrix}\n",
    "\\end{align}"
   ]
  },
  {
   "cell_type": "markdown",
   "metadata": {},
   "source": [
    "#### Examples of Matrix-Vector Multiplication"
   ]
  },
  {
   "cell_type": "markdown",
   "metadata": {},
   "source": [
    "##### Scaling Matrix\n",
    "$ M = \\begin{bmatrix} s & 0 \\\\ 0 & s \\end{bmatrix} $\n",
    "\n",
    "This matrix scales vectors by a uniform scaling factor as can be seen by multiplying the matrix by a vector, expanded out below. The vector is stretched for values of $s$ greater than one, and contracts for values less than one. For negative values of $s$, the transformed vector is both scaled and flipped across the origin.\n"
   ]
  },
  {
   "cell_type": "markdown",
   "metadata": {},
   "source": [
    "<img src=\"http://geometric-computation-images.s3-website-us-east-1.amazonaws.com/1.09.P20.jpg\" style=\"width: 200px; display: inline;\">"
   ]
  },
  {
   "cell_type": "markdown",
   "metadata": {},
   "source": [
    "\\begin{align}\n",
    "\\begin{bmatrix} s & 0 \\\\ 0 & s \\end{bmatrix}\n",
    "\\begin{bmatrix} x \\\\ y \\end{bmatrix} = \n",
    "\\begin{bmatrix} sx \\\\ sy \\end{bmatrix} = \n",
    "s\\begin{bmatrix} x \\\\ y \\end{bmatrix}\n",
    "\\end{align}"
   ]
  },
  {
   "cell_type": "markdown",
   "metadata": {},
   "source": [
    "##### Rotation Matrix\n",
    "$ M = \\begin{bmatrix} 0 & -1 \\\\ 1 & 0 \\end{bmatrix} $\n",
    "\n",
    "We can see what transformation this matrix represents by looking at how it acts on specific vectors. Multiplying this matrix by a vector rotates the vector by ninety degrees counterclockwise about the origin: \n",
    "* $(1,0)$ is transformed to $(0,1)$\n",
    "* $(0,1)$ is transformed to $(-1,0)$\n",
    "* $(- 1,0)$ is transformed to $(0, -1)$. \n"
   ]
  },
  {
   "cell_type": "markdown",
   "metadata": {},
   "source": [
    "<img src=\"http://geometric-computation-images.s3-website-us-east-1.amazonaws.com/1.09.P21.jpg\" style=\"width: 200px; display: inline;\">"
   ]
  },
  {
   "cell_type": "markdown",
   "metadata": {},
   "source": [
    "\\begin{align}\n",
    "\\begin{bmatrix} 0 & -1 \\\\ 1 & 0 \\end{bmatrix}\n",
    "\\begin{bmatrix} x \\\\ y \\end{bmatrix} = \n",
    "\\begin{bmatrix} (0x) + (-1y) \\\\ (1x) + (0y) \\end{bmatrix} = \n",
    "\\begin{bmatrix} -y \\\\ x \\end{bmatrix}\n",
    "\\end{align}"
   ]
  },
  {
   "cell_type": "markdown",
   "metadata": {},
   "source": [
    "##### Mirror Matrix\n",
    "$ M = \\begin{bmatrix} 0 & 1 \\\\ 1 & 0 \\end{bmatrix} $\n",
    "\n",
    "This matrix transforms the vector $(x,y)$ to $(y,x)$ which is the vector mirrored across the line $y = x$."
   ]
  },
  {
   "cell_type": "markdown",
   "metadata": {},
   "source": [
    "<img src=\"http://geometric-computation-images.s3-website-us-east-1.amazonaws.com/1.09.P22.jpg\" style=\"width: 200px; display: inline;\">"
   ]
  },
  {
   "cell_type": "markdown",
   "metadata": {},
   "source": [
    "\\begin{align}\n",
    "\\begin{bmatrix} 0 & 1 \\\\ 1 & 0 \\end{bmatrix}\n",
    "\\begin{bmatrix} x \\\\ y \\end{bmatrix} = \n",
    "\\begin{bmatrix} (0x) + (1y) \\\\ (1x) + (0y) \\end{bmatrix} = \n",
    "\\begin{bmatrix} y \\\\ x \\end{bmatrix}\n",
    "\\end{align}"
   ]
  },
  {
   "cell_type": "markdown",
   "metadata": {},
   "source": [
    "##### Projection Matrix\n",
    "$ M = \\begin{bmatrix} 1 & 0 \\\\ 0 & 0 \\end{bmatrix} $\n",
    "\n",
    "This matrix maps $(x,y)$ to $(x,0)$, its projection onto the x-axis.\n"
   ]
  },
  {
   "cell_type": "markdown",
   "metadata": {},
   "source": [
    "<img src=\"http://geometric-computation-images.s3-website-us-east-1.amazonaws.com/1.09.P23.jpg\" style=\"width: 200px; display: inline;\">"
   ]
  },
  {
   "cell_type": "markdown",
   "metadata": {},
   "source": [
    "\\begin{align}\n",
    "\\begin{bmatrix} 1 & 0 \\\\ 0 & 0 \\end{bmatrix}\n",
    "\\begin{bmatrix} x \\\\ y \\end{bmatrix} = \n",
    "\\begin{bmatrix} (1x) + (0y) \\\\ (0x) + (0y) \\end{bmatrix} = \n",
    "\\begin{bmatrix} x \\\\ 0 \\end{bmatrix}\n",
    "\\end{align}"
   ]
  },
  {
   "cell_type": "markdown",
   "metadata": {},
   "source": [
    "## Matrix Transformations"
   ]
  },
  {
   "cell_type": "markdown",
   "metadata": {},
   "source": [
    "### Linear Transformations"
   ]
  },
  {
   "cell_type": "markdown",
   "metadata": {},
   "source": [
    "\\begin{align}\n",
    "T(\\vec{x}) = T(x,y) = xT(1,0) + yT(0,1) = xT(\\vec{e_{1}}) + yT(\\vec{e_{2}})\n",
    "\\end{align}"
   ]
  },
  {
   "cell_type": "markdown",
   "metadata": {},
   "source": [
    "\\begin{align}\n",
    "\\begin{bmatrix} 1 & 0 \\\\ 0 & 2 \\end{bmatrix}\n",
    "\\end{align}"
   ]
  },
  {
   "cell_type": "markdown",
   "metadata": {},
   "source": [
    "\\begin{align}\n",
    "\\begin{bmatrix} 1 & 1 \\\\ 0 & 2 \\end{bmatrix}\n",
    "\\end{align}"
   ]
  },
  {
   "cell_type": "markdown",
   "metadata": {},
   "source": [
    "\\begin{align}\n",
    "\\begin{bmatrix} 1 & 0 \\\\ 0 & 1 \\end{bmatrix}\n",
    "\\end{align}"
   ]
  },
  {
   "cell_type": "markdown",
   "metadata": {},
   "source": [
    "<img src=\"http://geometric-computation-images.s3-website-us-east-1.amazonaws.com/1.09.P07.jpg\" style=\"width: 200px; display: inline;\">\n"
   ]
  },
  {
   "cell_type": "markdown",
   "metadata": {},
   "source": [
    "\\begin{align}\n",
    "T(\\vec{x}) = \n",
    "xT(\\vec{e_{1}}) + yT(\\vec{e_{2}}) = \n",
    "\\begin{bmatrix} T(\\vec{e_{1}}) T(\\vec{e_{2}}) \\end{bmatrix} \\vec{x}\n",
    "\\end{align}"
   ]
  },
  {
   "cell_type": "markdown",
   "metadata": {},
   "source": [
    "#### Selected Linear Transformations in the Plane"
   ]
  },
  {
   "cell_type": "markdown",
   "metadata": {},
   "source": [
    "##### Rotation\n",
    "$ \\begin{bmatrix} cos\\theta & -sin\\theta \\\\ sin\\theta & cos\\theta \\end{bmatrix} $\n",
    "\n",
    "Building upon the earlier example representing a rotation by ninety degrees, the above matrix shows a transformation that rotates a vector by an arbitrary angle counter-clockwise about the origin. We’ve seen that all we need in order to construct this matrix is to understand how basis vectors are transformed. \n",
    "\n",
    "Working with the standard basis, we can show that rotating $\\vec{e_{1}} = (1,0)$ by $\\theta$ counterclockwise will result in the vector $(cos\\theta, sin\\theta)$. Similarly, $\\vec{e_{2}} = (0,1)$  transforms to $(-sin\\theta, cos\\theta)$. Putting these transformed basis vectors as columns, we arrive at the nearby matrix."
   ]
  },
  {
   "cell_type": "markdown",
   "metadata": {},
   "source": [
    "<img src=\"http://geometric-computation-images.s3-website-us-east-1.amazonaws.com/1.09.P24.jpg\" style=\"width: 300px; display: inline;\">"
   ]
  },
  {
   "cell_type": "markdown",
   "metadata": {},
   "source": [
    "##### Orthogonal Projection\n",
    "$ \\begin{bmatrix} \n",
    "cos^2\\theta & cos\\theta \\ sin\\theta  \\\\\n",
    "cos\\theta \\ sin\\theta  & sin^2\\theta\n",
    "\\end{bmatrix} $\n",
    "\n",
    "Given a line through the origin rotated at an angle $\\theta$ counterclockwise from the horizontal, we may construct a matrix representing the transformation of the normal projection onto this line. The orthogonal projection of a point onto this line is equivalent to the nearest point on the line. \n",
    "\n",
    "To see how the standard basis vectors are transformed, we will make use of the formula for the projected vector derived using the dot product. Since a unit vector along the projection line is given by $\\vec{u} = (cos\\theta, sin\\theta)$, the projected vector for $\\vec{u_{1}}$ onto this line is given by \n"
   ]
  },
  {
   "cell_type": "markdown",
   "metadata": {},
   "source": [
    "\\begin{align} \n",
    "(\\vec{e_{1}} \\bullet \\vec{u}) \\ \\vec{u} =\n",
    "cos\\theta \\ (cos\\theta, sin\\theta) =\n",
    "(\\ cos^2\\theta, \\ cos\\theta sin\\theta \\ )\n",
    "\\end{align}\n"
   ]
  },
  {
   "cell_type": "markdown",
   "metadata": {},
   "source": [
    "Similarly, the projected vector for $\\vec{e_{2}} = (0,1)$ is $( \\ sin\\theta, \\ cos\\theta sin^2\\theta \\ )$."
   ]
  },
  {
   "cell_type": "markdown",
   "metadata": {},
   "source": [
    "<img src=\"http://geometric-computation-images.s3-website-us-east-1.amazonaws.com/1.09.P25.jpg\" style=\"width: 300px; display: inline;\">"
   ]
  },
  {
   "cell_type": "markdown",
   "metadata": {},
   "source": [
    "##### Mirror\n",
    "$ \\begin{bmatrix} \n",
    "2 \\ cos^2\\theta-1 & 2 \\ cos\\theta \\ sin\\theta  \\\\\n",
    "2 \\ cos\\theta \\ sin\\theta  & 2 \\ sin^2\\theta-1\n",
    "\\end{bmatrix} $\n",
    "\n",
    "Given a line as constructed above, we may express a general mirror transformation across this line in terms of the projection vectors by simple vector subtraction, as given by"
   ]
  },
  {
   "cell_type": "markdown",
   "metadata": {},
   "source": [
    "\\begin{align} \n",
    "\\vec{p_{mirror}} = \\vec{p_{near}} + ( \\vec{p_{near}} - \\vec{p}) = \n",
    "2\\vec{p_{near}} - \\vec{p}\n",
    "\\end{align}\n"
   ]
  },
  {
   "cell_type": "markdown",
   "metadata": {},
   "source": [
    "The reflection across this line of $\\vec{e_{1}} = (1,0)$ is thus given by $2(cos^2 \\theta, cos\\theta sin\\theta) - (1,0)$ and the mirror of $\\vec{e_{1}} = (0,1)$ is given by $2(sin \\theta, cos\\theta sin^2\\theta) - (0,1)$. From these, we arrive at the general mirror transformation above."
   ]
  },
  {
   "cell_type": "markdown",
   "metadata": {},
   "source": [
    "<img src=\"http://geometric-computation-images.s3-website-us-east-1.amazonaws.com/1.09.P26.jpg\" style=\"width: 300px; display: inline;\">"
   ]
  },
  {
   "cell_type": "markdown",
   "metadata": {},
   "source": [
    "\\begin{align}\n",
    "T(\\vec{x} + \\vec{y}) = \n",
    "\\vec{x}+\\vec{y}+\\vec{b} \\neq\n",
    "T(\\vec{x}) + T(\\vec{y})\n",
    "\\end{align}"
   ]
  },
  {
   "cell_type": "markdown",
   "metadata": {},
   "source": [
    "### The Algebra of Transformations in Sequence"
   ]
  },
  {
   "cell_type": "markdown",
   "metadata": {},
   "source": [
    "<img src=\"http://geometric-computation-images.s3-website-us-east-1.amazonaws.com/1.09.P14.jpg\" style=\"width: 200px; display: inline;\">"
   ]
  },
  {
   "cell_type": "markdown",
   "metadata": {},
   "source": [
    "\\begin{align}\n",
    "\\begin{bmatrix} \\frac{1}{\\sqrt{2}} & \\frac{-1}{\\sqrt{2}} \\\\ \\frac{1}{\\sqrt{2}} & \\frac{1}{\\sqrt{2}} \\end{bmatrix}\n",
    "\\begin{bmatrix} -1 & 0 \\\\ 0 & 1 \\end{bmatrix} = \n",
    "\\begin{bmatrix} \\frac{-1}{\\sqrt{2}} & \\frac{-1}{\\sqrt{2}} \\\\ \\frac{-1}{\\sqrt{2}} & \\frac{1}{\\sqrt{2}} \\end{bmatrix}\n",
    "\\end{align}"
   ]
  },
  {
   "cell_type": "markdown",
   "metadata": {},
   "source": [
    "<img src=\"http://geometric-computation-images.s3-website-us-east-1.amazonaws.com/1.09.P15.jpg\" style=\"width: 200px; display: inline;\">"
   ]
  },
  {
   "cell_type": "markdown",
   "metadata": {},
   "source": [
    "\\begin{align}\n",
    "\\begin{bmatrix} -1 & 0 \\\\ 0 & 1 \\end{bmatrix}\n",
    "\\begin{bmatrix} \\frac{1}{\\sqrt{2}} & \\frac{-1}{\\sqrt{2}} \\\\ \\frac{1}{\\sqrt{2}} & \\frac{1}{\\sqrt{2}} \\end{bmatrix} = \n",
    "\\begin{bmatrix} \\frac{-1}{\\sqrt{2}} & \\frac{1}{\\sqrt{2}} \\\\ \\frac{1}{\\sqrt{2}} & \\frac{1}{\\sqrt{2}} \\end{bmatrix}\n",
    "\\end{align}"
   ]
  },
  {
   "cell_type": "markdown",
   "metadata": {},
   "source": [
    "## From Math to Code"
   ]
  },
  {
   "cell_type": "markdown",
   "metadata": {},
   "source": [
    "### The Elevated Matrix"
   ]
  },
  {
   "cell_type": "markdown",
   "metadata": {},
   "source": [
    "\\begin{align}\n",
    "    \\begin{bmatrix}\n",
    "        1 & 0 & 0 & b_{x} \\\\\n",
    "        0 & 1 & 0 & b_{y} \\\\\n",
    "        0 & 0 & 1 & b_{z} \\\\    \n",
    "        0 & 0 & 0 & 1 \\\\\n",
    "    \\end{bmatrix}\n",
    "    \\begin{bmatrix} x \\\\ y \\\\ z \\\\ 1 \\end{bmatrix} = \n",
    "    \\begin{bmatrix} x + b_{x} \\\\ y + b_{y} \\\\ z + b_{z} \\\\ 1 \\end{bmatrix}\n",
    "\\end{align}"
   ]
  },
  {
   "cell_type": "code",
   "execution_count": null,
   "metadata": {},
   "outputs": [],
   "source": []
  }
 ],
 "metadata": {
  "kernelspec": {
   "display_name": "Python 3",
   "language": "python",
   "name": "python3"
  },
  "language_info": {
   "codemirror_mode": {
    "name": "ipython",
    "version": 3
   },
   "file_extension": ".py",
   "mimetype": "text/x-python",
   "name": "python",
   "nbconvert_exporter": "python",
   "pygments_lexer": "ipython3",
   "version": "3.6.4"
  }
 },
 "nbformat": 4,
 "nbformat_minor": 2
}
