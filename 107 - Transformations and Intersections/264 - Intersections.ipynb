{
 "cells": [
  {
   "cell_type": "code",
   "execution_count": null,
   "metadata": {},
   "outputs": [],
   "source": [
    "from decodes.core import *\n",
    "from decodes.io.jupyter_out import JupyterOut\n",
    "import math\n",
    "\n",
    "out = JupyterOut.unit_square( )"
   ]
  },
  {
   "cell_type": "markdown",
   "metadata": {},
   "source": [
    "# Intersections\n",
    "todo"
   ]
  },
  {
   "cell_type": "markdown",
   "metadata": {},
   "source": [
    "## Intersector Objects in Decod.es"
   ]
  },
  {
   "cell_type": "markdown",
   "metadata": {},
   "source": [
    "<img src=\"http://geometric-computation-images.s3-website-us-east-1.amazonaws.com/3.00.D92 Intersector Large.jpg\" style=\"width: 600px; display: inline;\">"
   ]
  },
  {
   "cell_type": "code",
   "execution_count": null,
   "metadata": {},
   "outputs": [],
   "source": [
    "\"\"\"\n",
    "Intersector Initialization\n",
    "Two primary members are defined: _geom that stores the geometric results of an \n",
    "intersection, and log, a String that gives feedback to the calling context. The \n",
    "geometric results are also made available by the property results.\n",
    "\"\"\"\n",
    "class Intersector(object):\n",
    "    def __init__(self):\n",
    "        self._geom = []\n",
    "        self.log = None\n",
    "        self.tol = EPSILON\n",
    "        \n",
    "    @property\n",
    "    def results(self):\n",
    "        return self._geom"
   ]
  },
  {
   "cell_type": "code",
   "execution_count": null,
   "metadata": {},
   "outputs": [],
   "source": [
    "\"\"\"\n",
    "Intersect Method\n",
    "Given two pieces of Decod.es geometry, a and b, this method attempts to \n",
    "intersect them by calling upon the appropriate pairwise intersection method, \n",
    "and returns a success boolean.\n",
    "\"\"\"\n",
    "def of(self,a,b,**kargs):\n",
    "    # clear re-initializes the _geom collection\n",
    "     self.clear()\n",
    "    \n",
    "    # white-list of types supported by intersection methods\n",
    "    supported_types = [Plane,Circle,PGon,RGon,Line,Ray,Segment,PLine,Arc]\n",
    "    # ensures the ordering of a and b by type\n",
    "    a,b = sorted( [a,b], key = lambda obj: supported_types.index(type(obj)) )\n",
    "    \n",
    "    if type(a) == Plane:\n",
    "        if type(b) == Line : return self._line_plane(b,a,**kargs)\n",
    "        if type(b) == Ray : return self._ray_plane(b,a,**kargs)\n",
    "        if type(b) == Segment : return self._seg_plane(b,a)\n",
    "        if type(b) == PLine : return self._pline_plane(b,a)\n",
    "        if type(b) == Circle : return self._circle_plane(b,a)\n",
    "        if type(b) == Arc : return self._arc_plane(b,a)\n",
    "        if type(b) == Plane : return self._plane_plane(b,a)\n",
    "        \n",
    "    if type(a) == Circle:\n",
    "        if type(b) == Circle : return self._circle_circle(b,a)\n",
    "        if isinstance(b, LinearEntity) : return self._line_circle(b,a)\n",
    "    \n",
    "    if type(a) == RGon or type(a) == PGon:\n",
    "        if isinstance(b,LinearEntity) : return self._line_pgon(b,a,**kargs)\n",
    "    \n",
    "    if isinstance(a,LinearEntity) and isinstance(b,LinearEntity):\n",
    "        return self._line_line(a,b)\n",
    "    \n",
    "     raise NotImplementedError(\"I don't know how to intersect these objects.\")"
   ]
  },
  {
   "cell_type": "code",
   "execution_count": null,
   "metadata": {},
   "outputs": [],
   "source": [
    "\"\"\"\n",
    "Intersecting Two Segments\n",
    "The xsec.of() method attempts to intersect any two given objects, and returns a \n",
    "Boolean indicating success. If any geometry results from the intersection \n",
    "operation, it is accessible via the xsec.results property, or by square-bracket \n",
    "index as is in xsec[0].\n",
    "\"\"\"\n",
    "xsec = Intersector()\n",
    "if xsec.of(seg_a, seg_b):\n",
    "    print \"segs intersect at \", xsec.results[0]"
   ]
  },
  {
   "cell_type": "code",
   "execution_count": null,
   "metadata": {},
   "outputs": [],
   "source": [
    "\"\"\"\n",
    "Trimming Two Segments\n",
    "Any useful auxiliary properties that are generated as a by-product of an \n",
    "intersection operation are dynamically assigned as members of an Intersector \n",
    "object. Here, the auxiliary properties of a Line-Line intersection operation \n",
    "are used to rescale the two given Segments in something like a trim operation.\n",
    "\"\"\"\n",
    "xsec = Intersector()\n",
    "if xsec.of(seg_a, seg_b):\n",
    "    print \"segs intersect at \", xsec[0]\n",
    "    seg_a.vec *= xsec.ta\n",
    "    seg_b.vec *= xsec.tb"
   ]
  },
  {
   "cell_type": "markdown",
   "metadata": {},
   "source": [
    "\n",
    "## Elemental Intersections"
   ]
  },
  {
   "cell_type": "markdown",
   "metadata": {},
   "source": [
    "\\begin{align}\n",
    "t^{*} = \\frac{-\\vec{n} \\bullet (\\vec{p_{0}} - \\vec{q_{0}} ) }{\\vec{n} \\bullet \\vec{v}}\n",
    "\\end{align}"
   ]
  },
  {
   "cell_type": "code",
   "execution_count": null,
   "metadata": {},
   "outputs": [],
   "source": [
    "\"\"\"\n",
    "Line-Line Intersection\n",
    "Finds intersection of two given LinearEntitites, returning False if the two \n",
    "are parallel, or if no intersection is found. Collinear lines are handled \n",
    "separately.\n",
    "\"\"\"    \n",
    "def _line_line(self,ln_a,ln_b):\n",
    "    # collinear line-line intersections handled separately\n",
    "    if ln_a.is_collinear(ln_b): return self._line_line_collinear(ln_a,ln_b)\n",
    "    # parallel lines do not intersect\n",
    "    if ln_a.is_parallel(ln_b, self.tol): return False\n",
    "    \n",
    "    va, vb = ln_a.vec, ln_b.vec\n",
    "    vqp = Vec(ln_a.spt-ln_b.spt)\n",
    "    dp = va.dot(vb)\n",
    "    denom = -va.length2*vb.length2 + dp*dp\n",
    "    \n",
    "    self.ta = (vb.length2*(va.dot(vqp)) - dp*(vb.dot(vqp)))/denom\n",
    "    self.tb = (dp*(va.dot(vqp)) - va.length2*(vb.dot(vqp)))/denom\n",
    "    pa, pb = ln_a.eval(self.ta), ln_b.eval(self.tb)   \n",
    "    #if there is an intersection point\n",
    "    if pa.is_equal(pb, self.tol) :\n",
    "        #check parameter interval for separate line types\n",
    "        if type(ln_a) == Ray and self.ta < 0.0 : return False\n",
    "        if type(ln_b) == Ray and self.tb < 0.0 : return False\n",
    "        if type(ln_a) == Segment and (self.ta< 0 or self.ta> 1) : return False\n",
    "        if type(ln_b) == Segment and (self.tb< 0 or self.tb> 1) : return False\n",
    "        self._geom.append(pa)\n",
    "        return True\n",
    "    else: \n",
    "        self.log = \"No intersection found, recording shortest Segment\"\n",
    "        self._geom.append(Segment(pa,pb))\n",
    "        return False"
   ]
  },
  {
   "cell_type": "markdown",
   "metadata": {},
   "source": [
    "<img src=\"http://geometric-computation-images.s3-website-us-east-1.amazonaws.com/1.09.P09.jpg\" style=\"width: 200px; display: inline;\">"
   ]
  },
  {
   "cell_type": "markdown",
   "metadata": {},
   "source": [
    "<img src=\"http://geometric-computation-images.s3-website-us-east-1.amazonaws.com/1.09.P10.jpg\" style=\"width: 200px; display: inline;\">"
   ]
  },
  {
   "cell_type": "code",
   "execution_count": null,
   "metadata": {},
   "outputs": [],
   "source": [
    "\"\"\"\n",
    "Line-Plane Intersection Method\n",
    "\"\"\"\n",
    "def _line_plane(self,line,plane):\n",
    "    # Line lies on the Plane\n",
    "    if plane.contains(line.spt) and plane.contains(line.spt+line.vec):\n",
    "        # store resulting Line intersection\n",
    "        self._geom.append(line)\n",
    "        return True\n",
    "    \n",
    "    denom = plane.normal.dot(line.vec) \n",
    "    #Line lies in a parallel Plane\n",
    "    if denom == 0 : return False \n",
    "    t = plane.normal.dot(plane.origin-line.spt) / denom\n",
    "    # {a} dynamically create a new member\n",
    "    self.dist = t \n",
    "    \n",
    "    #check inclusion of parameter in interval of line type\n",
    "    if type(line) == Ray and (t < 0.0): return False\n",
    "    if type(line) == Segment and ((t < 0.0) or t > 1.0): return False\n",
    "    # store resulting Point intersection\n",
    "    self._geom.append(line.eval(t))\n",
    "    return True"
   ]
  },
  {
   "cell_type": "markdown",
   "metadata": {},
   "source": [
    "<img src=\"http://geometric-computation-images.s3-website-us-east-1.amazonaws.com/1.09.P11.jpg\" style=\"width: 200px; display: inline;\">"
   ]
  },
  {
   "cell_type": "code",
   "execution_count": null,
   "metadata": {},
   "outputs": [],
   "source": [
    "\"\"\"\n",
    "Plane-Plane Intersection Method\n",
    "Finds the intersection of two given Planes, returning False if the two are \n",
    "parallel and do not intersect.\n",
    "\"\"\"\n",
    "def _plane_plane(self,pln_a,pln_b):\n",
    "    # parallel planes do not intersect\n",
    "    if pln_a.normal.is_parallel(pln_b.normal) : return False\n",
    "    n1, n2 = pln_a.normal, pln_b.normal\n",
    "    dot, r1, r2 = n1.dot(n2), n1.dot(pln_a.origin), n2.dot(pln_b.origin)\n",
    "    vec = n1.cross(pln_b.normal)\n",
    "    denom = 1-dot*dot\n",
    "    c1, c2 = (r1 - dot*r2)/denom, (r2 - dot*r1)/denom\n",
    "    p0 = n1*c1 + n2*c2\n",
    "    self._geom.append(Line(p0, vec))    \n",
    "    return True"
   ]
  },
  {
   "cell_type": "markdown",
   "metadata": {},
   "source": [
    "<img src=\"http://geometric-computation-images.s3-website-us-east-1.amazonaws.com/1.09.P12.jpg\" style=\"width: 200px; display: inline;\">"
   ]
  },
  {
   "cell_type": "code",
   "execution_count": null,
   "metadata": {},
   "outputs": [],
   "source": [
    "\"\"\"\n",
    "Circle-Plane Intersection Method\n",
    "Finds the intersection of a Plane and a Circle. First, the intersection of the \n",
    "given Plane and the Circle Plane is found. If successful, the problem reduces \n",
    "to a Line-Circle intersection problem.\n",
    "\"\"\"\n",
    "def _circle_plane(self,circ,plane):\n",
    "    # intersection of the circle plane and the given plane\n",
    "    xsec = Intersector()\n",
    "    plane_success = xsec._plane_plane(circ,plane)\n",
    "    # if planes don't intersect, neither does the circle\n",
    "    if not plane_success :  return False\n",
    "    # record the line of plane-plane intersection\n",
    "    self.line = xsec[0] \n",
    "    # nearest point projection\n",
    "    npt, t, dist = self.line.near(circ.origin)\n",
    "    # nearest point lies outside circle, no intersection\n",
    "    if dist > circ.rad: return False   \n",
    "    # nearest point is on circle, one point of intersection\n",
    "    if (abs(dist-circ.rad) < self.tol):\n",
    "        self._geom.append(npt)\n",
    "        return True  \n",
    "    # nearest point is in circle, two points of intersection        \n",
    "    if dist < circ.rad:\n",
    "        factor = math.sqrt(circ.rad**2-dist**2)/self.line.vec.length\n",
    "        self._geom.append(npt - self.line.vec*factor)\n",
    "        self._geom.append(npt + self.line.vec*factor)\n",
    "        return True"
   ]
  },
  {
   "cell_type": "markdown",
   "metadata": {},
   "source": [
    "<img src=\"http://geometric-computation-images.s3-website-us-east-1.amazonaws.com/1.09.P13.jpg\" style=\"width: 200px; display: inline;\">"
   ]
  },
  {
   "cell_type": "code",
   "execution_count": null,
   "metadata": {},
   "outputs": [],
   "source": []
  }
 ],
 "metadata": {
  "kernelspec": {
   "display_name": "Python 2",
   "language": "python",
   "name": "python2"
  },
  "language_info": {
   "codemirror_mode": {
    "name": "ipython",
    "version": 2
   },
   "file_extension": ".py",
   "mimetype": "text/x-python",
   "name": "python",
   "nbconvert_exporter": "python",
   "pygments_lexer": "ipython2",
   "version": "2.7.10"
  }
 },
 "nbformat": 4,
 "nbformat_minor": 2
}
