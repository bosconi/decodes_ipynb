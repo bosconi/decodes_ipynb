{
 "cells": [
  {
   "cell_type": "code",
   "execution_count": null,
   "metadata": {},
   "outputs": [],
   "source": [
    "from decodes.core import *\n",
    "from decodes.io.jupyter_out import JupyterOut\n",
    "import math\n",
    "\n",
    "out = JupyterOut.unit_square( )"
   ]
  },
  {
   "cell_type": "markdown",
   "metadata": {},
   "source": [
    "# Lines and Planes in Cartesian Space\n",
    "\n",
    "The equation for a line in $\\mathbb{R}^2$ is $y = mx + b$, which describes a line with slope $m$ and y-intercept $b$. It may seem odd at first that this same equation in $\\mathbb{R}^3$ does not describe a line, but rather a plane. Odd, that is, until we consider a line as something like a lower-dimensional section through a higher-dimensional plane.\n",
    "\n",
    "Here we present a representation of lines and planes from the point of view of vectors. Such an approach will lead us away from the familiar ***general equations***, and to the so-called ***parametric equation*** of a line and the ***normal form*** equation of a plane."
   ]
  },
  {
   "cell_type": "markdown",
   "metadata": {},
   "source": [
    "## Line Representation\n",
    "\n",
    "We know that lines are usually represented as an equation such as\n",
    "\n",
    "\\begin{align}\n",
    "y = mx + b\n",
    "\\end{align}\n",
    "\n",
    "Points along the line can then be easily plotted by picking values for $x$ and solving for the corresponding coordinate value $y$.\n",
    "\n",
    "For example, we can easily see that the line \n",
    "\n",
    "\\begin{align}\n",
    "y = 3x - 1 \n",
    "\\end{align}\n",
    "\n",
    "contains the points $(0, -1)$, $(1,2)$, $(2,5)$, as each of these combinations of coordinates satisfy the equation. Conversely, given any two points, this equation can be found by solving for the slope $m$, the ratio with the easy mnemonic “rise over run”. \n",
    "\n",
    "For two points $(3,1)$ and $(2,5)$, $m = (5 - 1) (2 - 3) = -4$ and the equation for the line can be solved for by using one of the given points to get $y - 1 =- 4(x - 3)$, which can then be put in the standard form $y =- 4x + 13$.\n",
    "\n",
    "An important restriction to this representation is that ***these equations only describe lines in two dimensions***. In $\\mathbb{R}^3$, the equation describes a plane."
   ]
  },
  {
   "cell_type": "markdown",
   "metadata": {},
   "source": [
    "A different formulation for a line may be found by returning to our fundamental description of a line: ***an object determined by two points***.\n",
    "\n",
    "We begin with a line $L$ and two points $P_{0}$ and $P_{1}$ that lie upon it. \n",
    "\n",
    "Following the convention used in a previous section, remember that $\\vec{p_{i}}$ refers to the vector from the origin to the point $P_{i}$, with both vector and point having the same coordinates. \n",
    "\n",
    "It then follows that the vector $\\vec{v} = \\vec{p_{1}}-\\vec{p_{0}}$ is in the direction of the line, which, together with a point on the line (we will use $P_{0}$ for this), is enough to determine $L$.\n",
    "\n",
    "With this in hand, ***to arrive at a functional formulation, we need only to be able to express any point $P$ on the line in terms of quantities $\\vec{v}$ and $P_{0}$***.\n"
   ]
  },
  {
   "cell_type": "markdown",
   "metadata": {},
   "source": [
    "<img src=\"http://geometric-computation-images.s3-website-us-east-1.amazonaws.com/1.06.P01.jpg\" style=\"width: 200px; display: inline;\">"
   ]
  },
  {
   "cell_type": "markdown",
   "metadata": {},
   "source": [
    "To this end, we begin by forming a triangle with vertices at the origin,  $P_{0}$ and $P_{1}$. \n",
    "\n",
    "The nearby diagram demonstrates that we can get to $P$ by starting at the origin, moving along $\\vec{p_{0}}$ to  $P_{0}$, and then moving again along a suitable multiple of $\\vec{v}$. \n",
    "\n",
    "In vector notation this can be written as seen below, a relationship that works for any point on the line given a suitable choice of $t$.\n",
    "\n",
    "\\begin{align}\n",
    "\\vec{p} = \\vec{p_{0}} + t\\vec{v}\n",
    "\\end{align}\n",
    "\n",
    "All vectors found in this manner will fall on Line $L$."
   ]
  },
  {
   "cell_type": "markdown",
   "metadata": {},
   "source": [
    "<img src=\"http://geometric-computation-images.s3-website-us-east-1.amazonaws.com/1.06.P02.jpg\" style=\"width: 200px; display: inline;\">"
   ]
  },
  {
   "cell_type": "markdown",
   "metadata": {},
   "source": [
    "To further differentiate between those vectors that fall on Line $L$, by vector addition, the diagram below demonstrates that values of $t$ between $0$ and $1$ will completely fill out the line segment that spans between the two given points. \n",
    "\n",
    "When $t < 0$ points fall on the side of $P_{0}$ away from $P_{1}$, and which we may read as falling “before” the start-point of the segment. \n",
    "\n",
    "For values $t > 1$, the points fall on the side of $P_{1}$ away from $P_{0}$, or “after” the end-point of the segment."
   ]
  },
  {
   "cell_type": "markdown",
   "metadata": {},
   "source": [
    "<img src=\"http://geometric-computation-images.s3-website-us-east-1.amazonaws.com/1.06.P03.jpg\" style=\"width:600px; display: inline;\">"
   ]
  },
  {
   "cell_type": "markdown",
   "metadata": {},
   "source": [
    "The variable $t$ is the only variable in this equation, since $\\vec{v}$ and $P_{0}$ are both fixed quantities for a given line. Applying such an equation, evaluating points along the line is a matter of picking values of $t$, which we call the ***parameter*** for evaluating a line, and this vector equation as a ***parametric equation*** for a line.\n",
    "\n",
    "Note the ***inherent directionality*** to this representation for plotting points on lines corresponding to increasing value of $t$. Since only ***one parameter is required to determine a position on a line***, we may consider it a single dimensional object.\n",
    "\n",
    "Starting with just two points on a line, we have now arrived at a representation that allows us to express this line in terms of a ***point on the line*** and a ***vector***, and to plot points by varying a parameter ***t***. \n",
    "\n",
    "Note that our account thus far captures an infinite line. Building on the diagrams above, we can further define two related entities by simply constraining the value of the parameter.\n",
    "\n",
    "A ***segment*** can be described by limiting the values of t to be in the range $0 <= t <= 1$.\n",
    "\n",
    "Similarly, a ***ray*** can be achieved by letting the parameter vary in the interval $0 <= t < \\infty$ or $-\\infty < t <= 1$."
   ]
  },
  {
   "cell_type": "markdown",
   "metadata": {},
   "source": [
    "## Plane Representation\n",
    "\n",
    "Our formulation of planes takes a similar route as our presentation of lines, again starting with the plotting of points using elementary geometry.\n",
    "\n",
    "In three dimensions, a plane has the general scalar equation $ax + by + cz = d$. Points on a plane can be plotted by picking two coordinate values (say $x$ and $y$) and then solving for the third ($z$).\n",
    "\n",
    "For instance, the plane $-x + 3y - z = 0$ contains the points $(1,0, -1)$, $(0,1,3)$ and $(1,1,2)$, as each of these combinations of coordinates satisfy the equation."
   ]
  },
  {
   "cell_type": "markdown",
   "metadata": {},
   "source": [
    "To represent a plane from a vector point of view, we start by defining a new entity: the ***normal vector***. \n",
    "\n",
    "Given a plane, ***a vector $\\vec{n}$ is said to be normal to the plane if it is perpendicular to any vector which lies in the plane***. \n",
    "\n",
    "This definition can be formulated more precisely by drawing $\\vec{n}$ with its tail at any fixed point $P_{0}$ in the plane, and then taking another vector that connects $P_{0}$ to any point $P$ in the plane. \n",
    "\n",
    "This perpendicularity condition yields the normal form equation for a plane:\n",
    "\n",
    "\\begin{align}\n",
    "\\vec{n} \\bullet (\\vec{p} - \\vec{p_{0}}) = 0\n",
    "\\end{align}\n",
    "\n",
    "This equation states that ***a plane in three dimensions is determined by a point and vector*** - the same two entities that form a line. The text demonstrates the association between the normal (vector) form and the general (scalar) form of this equation."
   ]
  },
  {
   "cell_type": "markdown",
   "metadata": {},
   "source": [
    "<img src=\"http://geometric-computation-images.s3-website-us-east-1.amazonaws.com/1.06.P10.jpg\" style=\"width: 200px; display: inline;\">"
   ]
  },
  {
   "cell_type": "markdown",
   "metadata": {},
   "source": [
    "Here we describe how to find the equation for a plane that encompasses three points. \n",
    "\n",
    "Given three arbitrary (but non-collinear) points, we can find the normal vector, and, using this vector direction, derive the equation of the plane. Let $P_{0}$, $P_{1}$ and $P_{2}$ be points not all lying along the same line. Forming the vectors $\\vec{v_{1}} = \\vec{p_{1}} - \\vec{p_{0}}$ and $\\vec{v_{2}} = \\vec{p_{2}} - \\vec{p_{0}}$ both lying in the plane, the cross product gives a vector that is perpendicular to the plane determined by these two vectors, which is precisely the normal vector of the desired plane."
   ]
  },
  {
   "cell_type": "markdown",
   "metadata": {},
   "source": [
    "<img src=\"http://geometric-computation-images.s3-website-us-east-1.amazonaws.com/1.06.P11.jpg\" style=\"width:600px; display: inline;\">"
   ]
  },
  {
   "cell_type": "markdown",
   "metadata": {},
   "source": [
    "Like a line, there also exists ***a parametric equation for a plane*** that allows for the evaluation of points that fall upon it. However, it arrives with a caveat that will prevent us from incorporating an evaluation method of planes in code. As a two-dimensional object, ***two parameters are required to determine a position on a plane***.\n",
    "\n",
    "Which is to say, evaluating points on the plane is a calculation that requires ***pairs of parameter values***, a process which brings to mind the discussion of coordinates. In fact, when the two vectors in the equation above are orthonormal, the action demonstrated here is exactly the process for evaluating a coordinate system. Given that we will define a Plane as the pairing of one Point and a single Vec, the evaluation of a Plane would require a supplementary vector, which is equivlient to a CS. \n",
    "\n",
    "For this reason, we do not evaluate coordinates on a Plane."
   ]
  }
 ],
 "metadata": {
  "kernelspec": {
   "display_name": "Python 3",
   "language": "python",
   "name": "python3"
  },
  "language_info": {
   "codemirror_mode": {
    "name": "ipython",
    "version": 3
   },
   "file_extension": ".py",
   "mimetype": "text/x-python",
   "name": "python",
   "nbconvert_exporter": "python",
   "pygments_lexer": "ipython3",
   "version": "3.6.4"
  }
 },
 "nbformat": 4,
 "nbformat_minor": 2
}
