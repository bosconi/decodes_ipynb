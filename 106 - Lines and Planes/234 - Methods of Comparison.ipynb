{
 "cells": [
  {
   "cell_type": "code",
   "execution_count": null,
   "metadata": {},
   "outputs": [],
   "source": [
    "from decodes.core import *\n",
    "from decodes.io.jupyter_out import JupyterOut\n",
    "import math\n",
    "\n",
    "out = JupyterOut.unit_square( )"
   ]
  },
  {
   "cell_type": "markdown",
   "metadata": {},
   "source": [
    "# Methods of Comparison\n",
    "todo"
   ]
  },
  {
   "cell_type": "markdown",
   "metadata": {},
   "source": [
    "### Comparing Vectors"
   ]
  },
  {
   "cell_type": "markdown",
   "metadata": {},
   "source": [
    "<img src=\"http://geometric-computation-images.s3-website-us-east-1.amazonaws.com/1.06.P17.jpg\" style=\"width: 200px; display: inline;\">"
   ]
  },
  {
   "cell_type": "markdown",
   "metadata": {},
   "source": [
    "<table style=\"width:600px\">\n",
    "    <tr>\n",
    "        <th colspan=\"3\" style=\"text-align:left\">*Vector Comparison Methods*</th>\n",
    "    </tr>\n",
    "    <tr>\n",
    "        <th style=\"width:20%\">Equality</th>\n",
    "        <td style=\"width:20%\">`va==vb`<br>`va.is_equal(vb,tol)`</td>\n",
    "        <td style=\"width:80%\">True if the two Vecs share the same direction and are of equal length.</td>\n",
    "    </tr>\n",
    "    <tr>\n",
    "        <th style=\"width:20%\">Coincidence</th>\n",
    "        <td style=\"width:20%\">`va.is_coincident(vb,tol)`</td>\n",
    "        <td style=\"width:80%\">True if the two Vecs share the same direction.<br>`vec_a` is coincident only to `vec_b`.</td>\n",
    "    </tr>\n",
    "    <tr>\n",
    "        <th style=\"width:20%\">Parallelism</th>\n",
    "        <td style=\"width:20%\">`va.is_parallel(vb,tol)`</td>\n",
    "        <td style=\"width:80%\">True if the two Vecs exhibit equal or opposite direction. <br>`vec_a` is parallel to `vec_b` and `vec_c`.</td>\n",
    "    </tr>\n",
    "    <tr>\n",
    "        <th style=\"width:20%\">Perpendicularity</th>\n",
    "        <td style=\"width:20%\">`va.is_perpendicular(vb,tol)`</td>\n",
    "        <td style=\"width:80%\">True if the two Vecs are oriented at 90 degrees with respect to one another.<br>`vec_a` is perpendicular to `vec_d`.</td>\n",
    "    </tr>\n",
    "    <tr>\n",
    "        <th style=\"width:20%\">Similarity</th>\n",
    "        <td style=\"width:20%\">`va.is_similar(vb,tol)`</td>\n",
    "        <td style=\"width:80%\">True if the two Vecs point in the general same direction, at 90 degrees or less. Useful in determining if inverting one would bring about better alignment.<br>`vec_a` is similar to `vec_b`, `vec_d`, and `vec_e`.</td>\n",
    "    </tr>\n",
    "</table>"
   ]
  },
  {
   "cell_type": "markdown",
   "metadata": {},
   "source": [
    "### Comparing LinearEntities"
   ]
  },
  {
   "cell_type": "markdown",
   "metadata": {},
   "source": [
    "<img src=\"http://geometric-computation-images.s3-website-us-east-1.amazonaws.com/1.06.P18.jpg\" style=\"width: 200px; display: inline;\">"
   ]
  },
  {
   "cell_type": "markdown",
   "metadata": {},
   "source": [
    "<table style=\"width:600px\">\n",
    "    <tr>\n",
    "        <th colspan=\"3\" style=\"text-align:left\">*LinearEntity Comparison Methods*</th>\n",
    "    </tr>\n",
    "    <tr>\n",
    "        <th style=\"width:20%\">Parallelism</th>\n",
    "        <td style=\"width:20%\">`la.is_parallel(lb,tol)`</td>\n",
    "        <td style=\"width:80%\">True if the vectors of the two LinearEntities exhibit equal or opposite direction; Parallelism is a prerequisite for collinearity.<br>`seg_a` is parallel to `seg_b` and `ray_c`.</td>\n",
    "    </tr>\n",
    "    <tr>\n",
    "        <th style=\"width:20%\">Perpendicularity</th>\n",
    "        <td style=\"width:20%\">`la.is_perpendicular(lb,tol)`</td>\n",
    "        <td style=\"width:80%\">True if the extension of the two LinearEntities intersect and their vectors are oriented at 90 degrees with respect to one another.<br>`seg_a` is perpendicular to `line_d`.</td>\n",
    "    </tr>\n",
    "    <tr>\n",
    "        <th style=\"width:20%\">Collinearity</th>\n",
    "        <td style=\"width:20%\">`la.is_collinear(lb,tol_p,tol_a)`</td>\n",
    "        <td style=\"width:80%\">True if the two LinearEntities lie on the same Line; they are parallel and share a common Point.<br>`seg_a` is collinear only to `seg_b`.</td>\n",
    "    </tr>\n",
    "    <tr>\n",
    "        <th style=\"width:20%\">Point Containment</th>\n",
    "        <td style=\"width:20%\">`pt in la`<br>`la.contains(pt,tol)`</td>\n",
    "        <td style=\"width:80%\">True if the given Point lies on the LinearEntity, such that the projected distance is within the given tolerance.</td>\n",
    "    </tr>\n",
    "</table>"
   ]
  },
  {
   "cell_type": "code",
   "execution_count": null,
   "metadata": {},
   "outputs": [],
   "source": [
    "\"\"\"\n",
    "LinearEntity Parallelism\n",
    "Any two LinearEntities are parallel if their vectors are parallel.\n",
    "\"\"\"\n",
    "def is_parallel(self,other,tol=None):\n",
    "    return self.vec.is_parallel(other.vec,tol)"
   ]
  },
  {
   "cell_type": "code",
   "execution_count": null,
   "metadata": {},
   "outputs": [],
   "source": [
    "\"\"\"\n",
    "LinearEntity Perpendicularity\n",
    "Any two LinearEntities are perpendicular if their vectors are perpendicular \n",
    "and they intersect. We have not yet presented the implementation of \n",
    "intersections in Decod.es, but the two relevant lines of code below may be \n",
    "self-explanatory.\n",
    "\"\"\"\n",
    "def is_perpendicular(self,other, tol=None):\n",
    "    if self.vec.is_perpendicular(other.vec,tol):\n",
    "        # convert both arguments to Lines\n",
    "        la, lb = Line(self.spt, self.vec), Line(other.spt, other.vec)\n",
    "        # determine if lines intersect\n",
    "        xsec = Intersector()\n",
    "        if xsec.of(la,lb): return True\n",
    "    return False"
   ]
  },
  {
   "cell_type": "markdown",
   "metadata": {},
   "source": [
    "### Comparing Comparing Lines, Rays, and Segments"
   ]
  },
  {
   "cell_type": "markdown",
   "metadata": {},
   "source": [
    "<table style=\"width:600px\">\n",
    "    <tr>\n",
    "        <th colspan=\"3\" style=\"text-align:left\">*Line Comparison Methods*</th>\n",
    "    </tr>\n",
    "    <tr>\n",
    "        <th style=\"width:20%\">Equality</th>\n",
    "        <td style=\"width:20%\">`la == lb`<br>`la.is_equal(lb,tol_p,tol_a)`</td>\n",
    "        <td style=\"width:80%\">True if the two Lines share a common reference Point and their vectors are coincident.</td>\n",
    "    </tr>\n",
    "    <tr>\n",
    "        <th style=\"width:20%\">Coincidence</th>\n",
    "        <td style=\"width:20%\">`la.is_coincident(lb,tol_p,tol_a)`</td>\n",
    "        <td style=\"width:80%\">True if the two Lines share any Point along their length and their vectors are coincident. Collinearity is a similar test requiring only parallel vectors.</td>\n",
    "    </tr>\n",
    "</table>\n"
   ]
  },
  {
   "cell_type": "markdown",
   "metadata": {},
   "source": [
    "<table style=\"width:600px\">\n",
    "    <tr>\n",
    "        <th colspan=\"3\" style=\"text-align:left\">*Ray Comparison Methods*</th>\n",
    "    </tr>\n",
    "    <tr>\n",
    "        <th style=\"width:20%\">Equality / Coincidence</th>\n",
    "        <td style=\"width:20%\">`ra == rb`<br>`ra.is_equal(rb,tol_p,tol_a)`<br>`ra.is_coincident(rb,tol_p,tol_a)`</td>\n",
    "        <td style=\"width:80%\">True if the two Rays share a common reference Point and their vectors are coincident.</td>\n",
    "    </tr>\n",
    "</table>"
   ]
  },
  {
   "cell_type": "markdown",
   "metadata": {},
   "source": [
    "<table style=\"width:600px\">\n",
    "    <tr>\n",
    "        <th colspan=\"3\" style=\"text-align:left\">*Segment Comparison Methods*</th>\n",
    "    </tr>\n",
    "    <tr>\n",
    "        <th style=\"width:20%\">Equality</th>\n",
    "        <td style=\"width:20%\">`sa == sb`<br>`sa.is_equal(sb,tol_p,tol_a)`</td>\n",
    "        <td style=\"width:80%\">True if the two Segments share a common reference Point and their vectors are equal. In this condition, `sa.spt == sb.spt` and `sa.ept == sa.ept`.</td>\n",
    "    </tr>\n",
    "    <tr>\n",
    "        <th style=\"width:20%\">Coincidence</th>\n",
    "        <td style=\"width:20%\">`sa.is_coincident(sb,tol_p,tol_a)`</td>\n",
    "        <td style=\"width:80%\">True if the two Segments share some configuration of common termination Points. In this condition, the `spt` of one Segment might match the `ept` of the other Segment. Their vectors may be equal or may be parallel and of equal length.</td>\n",
    "    </tr>\n",
    "    <tr>\n",
    "        <th style=\"width:20%\">Overlap</th>\n",
    "        <td style=\"width:20%\">`sa.is_overlapping(sb,tol)`</td>\n",
    "        <td style=\"width:80%\">True if the two Segments are collinear, and share any Point along their length.</td>\n",
    "    </tr>\n",
    "    <tr>\n",
    "        <th style=\"width:20%\">Encompassment</th>\n",
    "        <td style=\"width:20%\">`sa.is_encompassing(sb,tol)`</td>\n",
    "        <td style=\"width:80%\">True if the two Segments are collinear, and all the Points along the given Segment are shared by this Segment.</td>\n",
    "    </tr>\n",
    "</table>"
   ]
  },
  {
   "cell_type": "markdown",
   "metadata": {},
   "source": [
    "### Merging Line Segments"
   ]
  },
  {
   "cell_type": "markdown",
   "metadata": {},
   "source": [
    "<img src=\"http://geometric-computation-images.s3-website-us-east-1.amazonaws.com/1.06.P19.jpg\" style=\"width: 200px; display: inline;\">"
   ]
  },
  {
   "cell_type": "markdown",
   "metadata": {},
   "source": [
    "<img src=\"http://geometric-computation-images.s3-website-us-east-1.amazonaws.com/1.06.P20.jpg\" style=\"width: 200px; display: inline;\">"
   ]
  },
  {
   "cell_type": "code",
   "execution_count": null,
   "metadata": {},
   "outputs": [],
   "source": [
    "\"\"\"\n",
    "Segment Merge\n",
    "Given two Segments, returns the \"maximal\" Segment that results from merging the \n",
    "two, or False if they do not overlap.\n",
    "\"\"\"\n",
    "@staticmethod\n",
    "def merge(seg_a, seg_b):\n",
    "    # fail if the two given segments don't overlap\n",
    "    if not seg_a.is_overlapping(seg_b):  return False\n",
    "    \n",
    "    lin = seg_a.to_line()\n",
    "    # collect all the termination Points\n",
    "    pts = [seg_a.spt,seg_a.ept,seg_b.spt,seg_b.ept]\n",
    "    # sort termination Points by their projected t-value\n",
    "    t_vals = sorted( [lin.near(p)[1] for p in pts] )\n",
    "    # return the longest spanning Segment\n",
    "    return Segment( lin.eval(t_vals[0]), lin.eval(t_vals[-1]) )"
   ]
  },
  {
   "cell_type": "code",
   "execution_count": null,
   "metadata": {},
   "outputs": [],
   "source": [
    "\"\"\"\n",
    "Segment Mass Merge\n",
    "Given a List of Segments, merges each with every other so that the minimal \n",
    "number of Segments that produce the same visual effect are returned.\n",
    "\"\"\"\n",
    "def merge_overlapping_segments(segs):\n",
    "    ret = []\n",
    "    while len(segs) > 0:\n",
    "        # pop a segment out of the given list\n",
    "        seg_a = segs.pop()\n",
    "        # compare this segment with every other\n",
    "        for n, seg_b in enumerate(segs):\n",
    "            merged = Segment.merge(seg_a,seg_b)\n",
    "            # if a merge succeeds...\n",
    "            if merged:\n",
    "                # remove the other segment from the given list\n",
    "                segs.pop(n)\n",
    "                # add the merged result to those segments to be checked\n",
    "                segs.append(merged)\n",
    "                # flag this segment as having undergone a merge\n",
    "                seg_a = False\n",
    "                break\n",
    "                \n",
    "        # if no merge flag found, prepare to return this segment\n",
    "        if seg_a: ret.append(seg_a)\n",
    "    \n",
    "    return ret\n"
   ]
  },
  {
   "cell_type": "code",
   "execution_count": null,
   "metadata": {},
   "outputs": [],
   "source": [
    "\"\"\"\n",
    "Segment Mass Split\n",
    "\"\"\"\n",
    "def shatter_segments_at_endpoints(segs):\n",
    "    pts = Point.cull_duplicates([s.spt for s in segs]+[s.ept for s in segs])\n",
    "    ret = []\n",
    "    for seg in segs:\n",
    "        rslts = []\n",
    "        for pt in pts:\n",
    "            near = seg.near(pt)\n",
    "            if near[2] < EPSILON: rslts.append( (near[1],pt) )\n",
    "        \n",
    "        rslts.sort()\n",
    "        for a,b in zip(rslts[:-1],rslts[1:]): ret.append( Segment(a[1],b[1]) )\n",
    "    return ret\n",
    "    "
   ]
  },
  {
   "cell_type": "markdown",
   "metadata": {},
   "source": [
    "### Comparing Planes"
   ]
  },
  {
   "cell_type": "markdown",
   "metadata": {},
   "source": [
    "<table style=\"width:600px\">\n",
    "    <tr>\n",
    "        <th colspan=\"3\" style=\"text-align:left\">*Plane Comparison Methods*</th>\n",
    "    </tr>\n",
    "    <tr>\n",
    "        <th style=\"width:20%\">Equality</th>\n",
    "        <td style=\"width:20%\">`pa == pb`<br>`pa.is_equal(pb,tol_p,tol_a)`</td>\n",
    "        <td style=\"width:80%\">True if the two Planes share a common reference Point and their vectors are coincident.</td>\n",
    "    </tr>\n",
    "    <tr>\n",
    "        <th style=\"width:20%\">Coincidence</th>\n",
    "        <td style=\"width:20%\">`pa.is_coincident(pb,tol_p,tol_v)`</td>\n",
    "        <td style=\"width:80%\">True if the two Planes share any Point in common, and their vectors are coincident.</td>\n",
    "    </tr>\n",
    "    <tr>\n",
    "        <th style=\"width:20%\">Coplanarity</th>\n",
    "        <td style=\"width:20%\">`pa.is_parallel(pb,tol)`</td> \n",
    "        <td style=\"width:80%\">True if the two Planes share any Point in common, and their vectors are parallel.</td>\n",
    "    </tr>\n",
    "    <tr>\n",
    "        <th style=\"width:20%\">Parallelism</th>\n",
    "        <td style=\"width:20%\">`sa.is_paralell(sb,tol)`</td>\n",
    "        <td style=\"width:80%\">True if the two Planes share exhibit parallel normal vectors. Note that mathematically speaking, coincident planes are not considered to be parallel.</td>\n",
    "    </tr>\n",
    "    <tr>\n",
    "        <th style=\"width:20%\">Perpendicularity</th>\n",
    "        <td style=\"width:20%\">`pa.is_perpendicular(pb,tol)`</td>\n",
    "        <td style=\"width:80%\">True if the normal vectors of the two Planes are oriented at 90 degrees with respect to one another.</td>\n",
    "    </tr>\n",
    "</table>"
   ]
  },
  {
   "cell_type": "code",
   "execution_count": null,
   "metadata": {},
   "outputs": [],
   "source": [
    "\"\"\"\n",
    "Plane Parallelism and Perpendicularity\n",
    "\"\"\"\n",
    "@staticmethod\n",
    "def is_parallel(pln_a, pln_b):\n",
    "    return pln_a.vec.is_parallel(pln_b.vec)\n",
    "\n",
    "@staticmethod\n",
    "def is_perpendicular(pln_a, pln_b):\n",
    "    return pln_a.vec.dot(pln_b.vec) == 0\n",
    "    "
   ]
  }
 ],
 "metadata": {
  "kernelspec": {
   "display_name": "Python 2",
   "language": "python",
   "name": "python2"
  },
  "language_info": {
   "codemirror_mode": {
    "name": "ipython",
    "version": 2
   },
   "file_extension": ".py",
   "mimetype": "text/x-python",
   "name": "python",
   "nbconvert_exporter": "python",
   "pygments_lexer": "ipython2",
   "version": "2.7.10"
  }
 },
 "nbformat": 4,
 "nbformat_minor": 2
}
