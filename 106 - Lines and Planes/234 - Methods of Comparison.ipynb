{
 "cells": [
  {
   "cell_type": "code",
   "execution_count": null,
   "metadata": {},
   "outputs": [],
   "source": [
    "from decodes.core import *\n",
    "from decodes.io.jupyter_out import JupyterOut\n",
    "import math\n",
    "\n",
    "out = JupyterOut.unit_square( )"
   ]
  },
  {
   "cell_type": "markdown",
   "metadata": {},
   "source": [
    "# Methods of Comparison\n",
    "\n",
    "Quantifying the possible relationships among pairs of lines or planes is a surprisingly nuanced task. \n",
    "\n",
    "We present a detailed discussion of comparison here in order to draw out a latent distinction between the mathematical, programmatic, and visual understandings of these geometries. It turns out that the subtlety of ***drawing comparisons among lines and planes derives not from any mathematical or code property, but from the tension between these formal representations and our expectations of them as visual designers***.\n",
    "\n",
    "Comparison of LinearEntities fall into two categories: general relations that are valid for any sub-type of LinearEntity (e.g. comparing Rays to Segments), and those relationships that are only valid when considering two of the same sub-type (e.g. comparing a Ray to another Ray)."
   ]
  },
  {
   "cell_type": "markdown",
   "metadata": {},
   "source": [
    "### Comparing Vectors\n",
    "\n",
    "The first four of the methods described below faithfully reproduce their mathematical definitions. The last method, `vec.is_similar` is more of a contrivance primarily useful in design applications. Of note for those unfamiliar with these terms is the distinction between equal vectors and coincident vectors."
   ]
  },
  {
   "cell_type": "markdown",
   "metadata": {},
   "source": [
    "<img src=\"http://geometric-computation-images.s3-website-us-east-1.amazonaws.com/1.06.P17.jpg\" style=\"width: 200px; display: inline;\">"
   ]
  },
  {
   "cell_type": "markdown",
   "metadata": {},
   "source": [
    "<table style=\"width:600px\">\n",
    "    <tr>\n",
    "        <th colspan=\"3\" style=\"text-align:left\">*Vector Comparison Methods*</th>\n",
    "    </tr>\n",
    "    <tr>\n",
    "        <th style=\"width:20%\">Equality</th>\n",
    "        <td style=\"width:20%\">`va==vb`<br>`va.is_equal(vb,tol)`</td>\n",
    "        <td style=\"width:80%\">True if the two Vecs share the same direction and are of equal length.</td>\n",
    "    </tr>\n",
    "    <tr>\n",
    "        <th style=\"width:20%\">Coincidence</th>\n",
    "        <td style=\"width:20%\">`va.is_coincident(vb,tol)`</td>\n",
    "        <td style=\"width:80%\">True if the two Vecs share the same direction.<br>`vec_a` is coincident only to `vec_b`.</td>\n",
    "    </tr>\n",
    "    <tr>\n",
    "        <th style=\"width:20%\">Parallelism</th>\n",
    "        <td style=\"width:20%\">`va.is_parallel(vb,tol)`</td>\n",
    "        <td style=\"width:80%\">True if the two Vecs exhibit equal or opposite direction. <br>`vec_a` is parallel to `vec_b` and `vec_c`.</td>\n",
    "    </tr>\n",
    "    <tr>\n",
    "        <th style=\"width:20%\">Perpendicularity</th>\n",
    "        <td style=\"width:20%\">`va.is_perpendicular(vb,tol)`</td>\n",
    "        <td style=\"width:80%\">True if the two Vecs are oriented at 90 degrees with respect to one another.<br>`vec_a` is perpendicular to `vec_d`.</td>\n",
    "    </tr>\n",
    "    <tr>\n",
    "        <th style=\"width:20%\">Similarity</th>\n",
    "        <td style=\"width:20%\">`va.is_similar(vb,tol)`</td>\n",
    "        <td style=\"width:80%\">True if the two Vecs point in the general same direction, at 90 degrees or less. Useful in determining if inverting one would bring about better alignment.<br>`vec_a` is similar to `vec_b`, `vec_d`, and `vec_e`.</td>\n",
    "    </tr>\n",
    "</table>"
   ]
  },
  {
   "cell_type": "markdown",
   "metadata": {},
   "source": [
    "### Comparing LinearEntities\n",
    "\n",
    "More constrained comparisons are best implemented at the subclass level, while less constrained ones are appropriate at the superclass level. The table below presents these less constrained comparisons, valid when applied to any one or combination of LinearEntity."
   ]
  },
  {
   "cell_type": "markdown",
   "metadata": {},
   "source": [
    "<img src=\"http://geometric-computation-images.s3-website-us-east-1.amazonaws.com/1.06.P18.jpg\" style=\"width: 200px; display: inline;\">"
   ]
  },
  {
   "cell_type": "markdown",
   "metadata": {},
   "source": [
    "<table style=\"width:600px\">\n",
    "    <tr>\n",
    "        <th colspan=\"3\" style=\"text-align:left\">*LinearEntity Comparison Methods*</th>\n",
    "    </tr>\n",
    "    <tr>\n",
    "        <th style=\"width:20%\">Parallelism</th>\n",
    "        <td style=\"width:20%\">`la.is_parallel(lb,tol)`</td>\n",
    "        <td style=\"width:80%\">True if the vectors of the two LinearEntities exhibit equal or opposite direction; Parallelism is a prerequisite for collinearity.<br>`seg_a` is parallel to `seg_b` and `ray_c`.</td>\n",
    "    </tr>\n",
    "    <tr>\n",
    "        <th style=\"width:20%\">Perpendicularity</th>\n",
    "        <td style=\"width:20%\">`la.is_perpendicular(lb,tol)`</td>\n",
    "        <td style=\"width:80%\">True if the extension of the two LinearEntities intersect and their vectors are oriented at 90 degrees with respect to one another.<br>`seg_a` is perpendicular to `line_d`.</td>\n",
    "    </tr>\n",
    "    <tr>\n",
    "        <th style=\"width:20%\">Collinearity</th>\n",
    "        <td style=\"width:20%\">`la.is_collinear(lb,tol_p,tol_a)`</td>\n",
    "        <td style=\"width:80%\">True if the two LinearEntities lie on the same Line; they are parallel and share a common Point.<br>`seg_a` is collinear only to `seg_b`.</td>\n",
    "    </tr>\n",
    "    <tr>\n",
    "        <th style=\"width:20%\">Point Containment</th>\n",
    "        <td style=\"width:20%\">`pt in la`<br>`la.contains(pt,tol)`</td>\n",
    "        <td style=\"width:80%\">True if the given Point lies on the LinearEntity, such that the projected distance is within the given tolerance.</td>\n",
    "    </tr>\n",
    "</table>"
   ]
  },
  {
   "cell_type": "markdown",
   "metadata": {},
   "source": [
    "The effort expended in expressing both lines and planes in terms of vectors is rewarded in the savings gained in implementing comparison methods. Using a vector representation for these entities allows us to construct comparison routines which may often simply call the analogous comparisons of vectors. \n",
    "\n",
    "For example, any two LinearEntities are parallel if and only if their vectors are parallel."
   ]
  },
  {
   "cell_type": "code",
   "execution_count": null,
   "metadata": {},
   "outputs": [],
   "source": [
    "\"\"\"\n",
    "LinearEntity Parallelism\n",
    "Any two LinearEntities are parallel if their vectors are parallel.\n",
    "\"\"\"\n",
    "def is_parallel(self,other,tol=None):\n",
    "    return self.vec.is_parallel(other.vec,tol)"
   ]
  },
  {
   "cell_type": "markdown",
   "metadata": {},
   "source": [
    "Two Lines are perpendicular if their two vectors are perpendicular and if they\n",
    "intersect. The perpendicularity of vectors, as we may recall, may be easily checked by $\\vec{u_{1}} \\bullet \\vec{u_{2}} = 0$, but, as we saw in the `is_parallel` method, the code below delegates this functionality to the Vec class."
   ]
  },
  {
   "cell_type": "code",
   "execution_count": null,
   "metadata": {},
   "outputs": [],
   "source": [
    "\"\"\"\n",
    "LinearEntity Perpendicularity\n",
    "Any two LinearEntities are perpendicular if their vectors are perpendicular \n",
    "and they intersect. We have not yet presented the implementation of \n",
    "intersections in Decod.es, but the two relevant lines of code below may be \n",
    "self-explanatory.\n",
    "\"\"\"\n",
    "def is_perpendicular(self,other, tol=None):\n",
    "    if self.vec.is_perpendicular(other.vec,tol):\n",
    "        # convert both arguments to Lines\n",
    "        la, lb = Line(self.spt, self.vec), Line(other.spt, other.vec)\n",
    "        # determine if lines intersect\n",
    "        xsec = Intersector()\n",
    "        if xsec.of(la,lb): return True\n",
    "    return False"
   ]
  },
  {
   "cell_type": "markdown",
   "metadata": {},
   "source": [
    "### Comparing Comparing Lines, Rays, and Segments\n",
    "\n",
    "The particular representation of Lines, Rays, and Segments in code, as a Point and Vec in Decod.es, influences the construction of the relevant methods in ways that feel at odds with the mathematical or visual outlook.\n",
    "\n",
    "For example, it may make sense in code to consider ***two Segments as equal only if they share precisely the same `seg.spt` and `seg.ept`,*** while from a visual standpoint we might simply consider the commonality of termination Points irrespective of the direction of the Segment. Contrast the `seg.is_coincident()` and `seg.is_equal()` methods in the nearby table.\n",
    "\n",
    "Similarly, consider that ***in mathematics, infinite lines manifest no particular reference point***. This is at odds with our representation in code, and foregrounds the question of how to characterize the relation between two Lines that are parallel yet are defined by distinct collinear Points. The Decod.es library takes a position on the matter. Whiel the equality of two Lines `line.is_equal()` is sensitive to the location of reference Points and the magnitude of the underlying vectors, their coincidence `line.is_coincident()` is not.\n",
    "\n",
    "The tables below demonstrate that a host of similar issues arise, each a result of the tension between the mathematical, computational, and visual representations of these elements."
   ]
  },
  {
   "cell_type": "markdown",
   "metadata": {},
   "source": [
    "<table style=\"width:600px\">\n",
    "    <tr>\n",
    "        <th colspan=\"3\" style=\"text-align:left\">*Line Comparison Methods*</th>\n",
    "    </tr>\n",
    "    <tr>\n",
    "        <th style=\"width:20%\">Equality</th>\n",
    "        <td style=\"width:20%\">`la == lb`<br>`la.is_equal(lb,tol_p,tol_a)`</td>\n",
    "        <td style=\"width:80%\">True if the two Lines share a common reference Point and their vectors are coincident.</td>\n",
    "    </tr>\n",
    "    <tr>\n",
    "        <th style=\"width:20%\">Coincidence</th>\n",
    "        <td style=\"width:20%\">`la.is_coincident(lb,tol_p,tol_a)`</td>\n",
    "        <td style=\"width:80%\">True if the two Lines share any Point along their length and their vectors are coincident. Collinearity is a similar test requiring only parallel vectors.</td>\n",
    "    </tr>\n",
    "</table>\n"
   ]
  },
  {
   "cell_type": "markdown",
   "metadata": {},
   "source": [
    "<table style=\"width:600px\">\n",
    "    <tr>\n",
    "        <th colspan=\"3\" style=\"text-align:left\">*Ray Comparison Methods*</th>\n",
    "    </tr>\n",
    "    <tr>\n",
    "        <th style=\"width:20%\">Equality / Coincidence</th>\n",
    "        <td style=\"width:20%\">`ra == rb`<br>`ra.is_equal(rb,tol_p,tol_a)`<br>`ra.is_coincident(rb,tol_p,tol_a)`</td>\n",
    "        <td style=\"width:80%\">True if the two Rays share a common reference Point and their vectors are coincident.</td>\n",
    "    </tr>\n",
    "</table>"
   ]
  },
  {
   "cell_type": "markdown",
   "metadata": {},
   "source": [
    "<table style=\"width:600px\">\n",
    "    <tr>\n",
    "        <th colspan=\"3\" style=\"text-align:left\">*Segment Comparison Methods*</th>\n",
    "    </tr>\n",
    "    <tr>\n",
    "        <th style=\"width:20%\">Equality</th>\n",
    "        <td style=\"width:20%\">`sa == sb`<br>`sa.is_equal(sb,tol_p,tol_a)`</td>\n",
    "        <td style=\"width:80%\">True if the two Segments share a common reference Point and their vectors are equal. In this condition, `sa.spt == sb.spt` and `sa.ept == sa.ept`.</td>\n",
    "    </tr>\n",
    "    <tr>\n",
    "        <th style=\"width:20%\">Coincidence</th>\n",
    "        <td style=\"width:20%\">`sa.is_coincident(sb,tol_p,tol_a)`</td>\n",
    "        <td style=\"width:80%\">True if the two Segments share some configuration of common termination Points. In this condition, the `spt` of one Segment might match the `ept` of the other Segment. Their vectors may be equal or may be parallel and of equal length.</td>\n",
    "    </tr>\n",
    "    <tr>\n",
    "        <th style=\"width:20%\">Overlap</th>\n",
    "        <td style=\"width:20%\">`sa.is_overlapping(sb,tol)`</td>\n",
    "        <td style=\"width:80%\">True if the two Segments are collinear, and share any Point along their length.</td>\n",
    "    </tr>\n",
    "    <tr>\n",
    "        <th style=\"width:20%\">Encompassment</th>\n",
    "        <td style=\"width:20%\">`sa.is_encompassing(sb,tol)`</td>\n",
    "        <td style=\"width:80%\">True if the two Segments are collinear, and all the Points along the given Segment are shared by this Segment.</td>\n",
    "    </tr>\n",
    "</table>"
   ]
  },
  {
   "cell_type": "markdown",
   "metadata": {},
   "source": [
    "### Merging Line Segments\n",
    "\n",
    "Here we examine a particular case in which comparison is useful, and that comes up often in visual design: the merging of line segments.\n",
    "\n",
    "While the discovery of duplicate lines is often supported in CAD, the merging of visually redundant line segments is typically not. The distinction boils down to the nuanced comparisons demonstrated by the table above. Using those methods, we may define a process for “merging” two Segments that overlap, such that the resulting Segment accurately describes their visual combination."
   ]
  },
  {
   "cell_type": "markdown",
   "metadata": {},
   "source": [
    "<img src=\"http://geometric-computation-images.s3-website-us-east-1.amazonaws.com/1.06.P19.jpg\" style=\"width: 200px; display: inline;\">"
   ]
  },
  {
   "cell_type": "markdown",
   "metadata": {},
   "source": [
    "<img src=\"http://geometric-computation-images.s3-website-us-east-1.amazonaws.com/1.06.P20.jpg\" style=\"width: 200px; display: inline;\">"
   ]
  },
  {
   "cell_type": "code",
   "execution_count": null,
   "metadata": {},
   "outputs": [],
   "source": [
    "\"\"\"\n",
    "Segment Merge\n",
    "Given two Segments, returns the \"maximal\" Segment that results from merging the \n",
    "two, or False if they do not overlap.\n",
    "\"\"\"\n",
    "@staticmethod\n",
    "def merge(seg_a, seg_b):\n",
    "    # fail if the two given segments don't overlap\n",
    "    if not seg_a.is_overlapping(seg_b):  return False\n",
    "    \n",
    "    lin = seg_a.to_line()\n",
    "    # collect all the termination Points\n",
    "    pts = [seg_a.spt,seg_a.ept,seg_b.spt,seg_b.ept]\n",
    "    # sort termination Points by their projected t-value\n",
    "    t_vals = sorted( [lin.near(p)[1] for p in pts] )\n",
    "    # return the longest spanning Segment\n",
    "    return Segment( lin.eval(t_vals[0]), lin.eval(t_vals[-1]) )"
   ]
  },
  {
   "cell_type": "code",
   "execution_count": null,
   "metadata": {},
   "outputs": [],
   "source": [
    "\"\"\"\n",
    "Segment Mass Merge\n",
    "Given a List of Segments, merges each with every other so that the minimal \n",
    "number of Segments that produce the same visual effect are returned.\n",
    "\"\"\"\n",
    "def merge_overlapping_segments(segs):\n",
    "    ret = []\n",
    "    while len(segs) > 0:\n",
    "        # pop a segment out of the given list\n",
    "        seg_a = segs.pop()\n",
    "        # compare this segment with every other\n",
    "        for n, seg_b in enumerate(segs):\n",
    "            merged = Segment.merge(seg_a,seg_b)\n",
    "            # if a merge succeeds...\n",
    "            if merged:\n",
    "                # remove the other segment from the given list\n",
    "                segs.pop(n)\n",
    "                # add the merged result to those segments to be checked\n",
    "                segs.append(merged)\n",
    "                # flag this segment as having undergone a merge\n",
    "                seg_a = False\n",
    "                break\n",
    "                \n",
    "        # if no merge flag found, prepare to return this segment\n",
    "        if seg_a: ret.append(seg_a)\n",
    "    \n",
    "    return ret\n"
   ]
  },
  {
   "cell_type": "code",
   "execution_count": null,
   "metadata": {},
   "outputs": [],
   "source": [
    "\"\"\"\n",
    "Segment Mass Split\n",
    "\"\"\"\n",
    "def shatter_segments_at_endpoints(segs):\n",
    "    pts = Point.cull_duplicates([s.spt for s in segs]+[s.ept for s in segs])\n",
    "    ret = []\n",
    "    for seg in segs:\n",
    "        rslts = []\n",
    "        for pt in pts:\n",
    "            near = seg.near(pt)\n",
    "            if near[2] < EPSILON: rslts.append( (near[1],pt) )\n",
    "        \n",
    "        rslts.sort()\n",
    "        for a,b in zip(rslts[:-1],rslts[1:]): ret.append( Segment(a[1],b[1]) )\n",
    "    return ret\n",
    "    "
   ]
  },
  {
   "cell_type": "markdown",
   "metadata": {},
   "source": [
    "### Comparing Planes\n",
    "\n",
    "The methods needed to compare Planes are very much like the analogous methods for LinearEntity. Since a Plane extends infinitely, they are most analogous to Lines. A similar set of issues arises as a result of the tension between the mathematical, computational, and visual representations of Planes.\n",
    "\n",
    "For some comparisons, these representations are in harmony. \n",
    "\n",
    "For example, mathematically speaking, two planes are parallel if their normal vectors are parallel, and are perpendicular if their normal vectors are perpendicular.\n",
    "\n",
    "For other comparisons this does not hold true. \n",
    "\n",
    "For example, mathematically speaking, two planes are not just parallel, but identical if the equations defining them are identical.\n",
    "\n",
    "In code, since Planes are defined by an origin Point, we may distinguish between those that share this Point from those that, while coplanar, do not share an origin. A similar distinction may be made between comparisons that test for the coincidence of Plane normals, and those that test only for parallelism."
   ]
  },
  {
   "cell_type": "markdown",
   "metadata": {},
   "source": [
    "<table style=\"width:600px\">\n",
    "    <tr>\n",
    "        <th colspan=\"3\" style=\"text-align:left\">*Plane Comparison Methods*</th>\n",
    "    </tr>\n",
    "    <tr>\n",
    "        <th style=\"width:20%\">Equality</th>\n",
    "        <td style=\"width:20%\">`pa == pb`<br>`pa.is_equal(pb,tol_p,tol_a)`</td>\n",
    "        <td style=\"width:80%\">True if the two Planes share a common reference Point and their vectors are coincident.</td>\n",
    "    </tr>\n",
    "    <tr>\n",
    "        <th style=\"width:20%\">Coincidence</th>\n",
    "        <td style=\"width:20%\">`pa.is_coincident(pb,tol_p,tol_v)`</td>\n",
    "        <td style=\"width:80%\">True if the two Planes share any Point in common, and their vectors are coincident.</td>\n",
    "    </tr>\n",
    "    <tr>\n",
    "        <th style=\"width:20%\">Coplanarity</th>\n",
    "        <td style=\"width:20%\">`pa.is_parallel(pb,tol)`</td> \n",
    "        <td style=\"width:80%\">True if the two Planes share any Point in common, and their vectors are parallel.</td>\n",
    "    </tr>\n",
    "    <tr>\n",
    "        <th style=\"width:20%\">Parallelism</th>\n",
    "        <td style=\"width:20%\">`sa.is_paralell(sb,tol)`</td>\n",
    "        <td style=\"width:80%\">True if the two Planes share exhibit parallel normal vectors. Note that mathematically speaking, coincident planes are not considered to be parallel.</td>\n",
    "    </tr>\n",
    "    <tr>\n",
    "        <th style=\"width:20%\">Perpendicularity</th>\n",
    "        <td style=\"width:20%\">`pa.is_perpendicular(pb,tol)`</td>\n",
    "        <td style=\"width:80%\">True if the normal vectors of the two Planes are oriented at 90 degrees with respect to one another.</td>\n",
    "    </tr>\n",
    "</table>"
   ]
  },
  {
   "cell_type": "code",
   "execution_count": null,
   "metadata": {},
   "outputs": [],
   "source": [
    "\"\"\"\n",
    "Plane Parallelism and Perpendicularity\n",
    "\"\"\"\n",
    "@staticmethod\n",
    "def is_parallel(pln_a, pln_b):\n",
    "    return pln_a.vec.is_parallel(pln_b.vec)\n",
    "\n",
    "@staticmethod\n",
    "def is_perpendicular(pln_a, pln_b):\n",
    "    return pln_a.vec.dot(pln_b.vec) == 0\n",
    "    "
   ]
  }
 ],
 "metadata": {
  "kernelspec": {
   "display_name": "Python 2",
   "language": "python",
   "name": "python2"
  },
  "language_info": {
   "codemirror_mode": {
    "name": "ipython",
    "version": 2
   },
   "file_extension": ".py",
   "mimetype": "text/x-python",
   "name": "python",
   "nbconvert_exporter": "python",
   "pygments_lexer": "ipython2",
   "version": "2.7.10"
  }
 },
 "nbformat": 4,
 "nbformat_minor": 2
}
