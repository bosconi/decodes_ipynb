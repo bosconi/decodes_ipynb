{
 "cells": [
  {
   "cell_type": "code",
   "execution_count": null,
   "metadata": {},
   "outputs": [],
   "source": [
    "from decodes.core import *\n",
    "from decodes.io.jupyter_out import JupyterOut\n",
    "import math\n",
    "\n",
    "out = JupyterOut.unit_square( )"
   ]
  },
  {
   "cell_type": "markdown",
   "metadata": {},
   "source": [
    "# Methods of Projection\n",
    "\n",
    "The fact that both a line and plane share a vector representation, and may be represented by the pairing of a Decod.es Point and Vec, means that many common operations exhibit similar mathematics.\n"
   ]
  },
  {
   "cell_type": "markdown",
   "metadata": {},
   "source": [
    "### Projection Onto Lines\n",
    "\n",
    "We saw how the vector dot product enables the projection of a vector onto another vector. Through this same method, the projection of Points onto Segments can be achieved.\n",
    "\n",
   ]
  },
  {
   "cell_type": "markdown",
   "metadata": {},
   "source": [
    "<img src=\"http://geometric-computation-images.s3-website-us-east-1.amazonaws.com/1.06.P05.jpg\" style=\"width: 200px; display: inline;\">"
   ]
  },
  {
   "cell_type": "markdown",
   "metadata": {},
   "source": [
    "First, we may observe that the vector connecting $P$ to $P_{near}$ is perpendicular to the line vector $\\vec{v}$. Without relying upon the `vec.projected()` method, we first form the vector connecting $P$ to some known point $P_{0}$ on the line (the start point, for example) and project this in the direction of the line. This can be expressed as:\n",
    "\n",
    "\n",
    "\\begin{align}\n",
    "\\vec{p_{near}} = p_{0} + (( \\vec{p} - \\vec{p_{0}} ) \\bullet \\frac{\\vec{v}}{|\\vec{v}|})\\frac{\\vec{v}}{|\\vec{v}|}\n",
    "\\end{align}"
   ]
  },
  {
   "cell_type": "code",
   "execution_count": null,
   "metadata": {},
   "outputs": [],
   "source": [
    "\"\"\"\n",
    "Line Projection\n",
    "To project a Point to a Line, we take advantage of the utility of the dot \n",
    "product for calculating vector projections. Here, the variable t describes the \n",
    "distance along the given Line, described as a percentage of the Line's vector, \n",
    "at which the projection of proj_pt will fall. Three values are returned as a \n",
    "tuple: the projected Point, the parameter t, and the distance of projection.\n",
    "\"\"\"\n",
    "def near(self, proj_pt):\n",
    "    t = Vec(self.pt, proj_pt).dot(self.vec)/vec.length2\n",
    "    near_pt = self.eval(t)\n",
    "    return (near_pt, t, proj_pt.dist(near_pt))"
   ]
  },
  {
   "cell_type": "code",
   "execution_count": null,
   "metadata": {},
   "outputs": [],
   "source": [
    "\"\"\"\n",
    "Ray Projection\n",
    "To project a Point to a Ray, we first perform a projection onto an analogous \n",
    "Line, and then modify the result if the projected Point falls before the start \n",
    "of the directional Ray.\n",
    "\"\"\"\n",
    "def near(self, proj_pt):\n",
    "    line_result = self.to_line().near(proj_pt)\n",
    "    if line_result[1] < 0: return (self.spt, 0.0, proj_pt.dist(self.spt))\n",
    "    return line_result"
   ]
  },
  {
   "cell_type": "code",
   "execution_count": null,
   "metadata": {},
   "outputs": [],
   "source": [
    "\"\"\"\n",
    "Segment Projection\n",
    "To project a Point to a Segment, we first perform a projection onto an analogous\n",
    "Line, and then modify the result if the projected Point falls outside the bounds \n",
    "of the Segment.\n",
    "\"\"\"    \n",
    "def near(self, proj_pt):\n",
    "    line_result = self.to_line().near(proj_pt)\n",
    "    if line_result[1] < 0: return (self.spt, 0.0, proj_pt.dist(self.spt))\n",
    "    if line_result[1] > 1: return (self.ept, 1.0, proj_pt.dist(self.ept))\n",
    "    return line_result"
   ]
  },
  {
   "cell_type": "markdown",
   "metadata": {},
   "source": [
    "### Projection Onto Planes"
   ]
  },
  {
   "cell_type": "markdown",
   "metadata": {},
   "source": [
    "<img src=\"http://geometric-computation-images.s3-website-us-east-1.amazonaws.com/1.06.P12.jpg\" style=\"width: 200px; display: inline;\">"
   ]
  },
  {
   "cell_type": "code",
   "execution_count": null,
   "metadata": {},
   "outputs": [],
   "source": [
    "\"\"\"\n",
    "Plane Projection\n",
    "The projection of a Point onto a Plane proceeds along the Plane normal. To \n",
    "calculate the distance of projection along this trajectory, we first construct \n",
    "a Line from the Plane origin in the direction of the normal. The projection of \n",
    "the given Point onto this Line yields a parameter that describes the projection \n",
    "distance.\n",
    "\"\"\"\n",
    "def near(self, proj_pt):\n",
    "    t = Line(self.origin, self.normal).near(proj_pt)[1]\n",
    "    tvec = -self.normal*t\n",
    "    return (proj_pt + tvec, t, tvec.length)"
   ]
  },
  {
   "cell_type": "markdown",
   "metadata": {},
   "source": [
    "<img src=\"http://geometric-computation-images.s3-website-us-east-1.amazonaws.com/1.06.P13.jpg\" style=\"width: 200px; display: inline;\">"
   ]
  },
  {
   "cell_type": "code",
   "execution_count": null,
   "metadata": {},
   "outputs": [],
   "source": []
  }
 ],
 "metadata": {
  "kernelspec": {
   "display_name": "Python 2",
   "language": "python",
   "name": "python2"
  },
  "language_info": {
   "codemirror_mode": {
    "name": "ipython",
    "version": 2
   },
   "file_extension": ".py",
   "mimetype": "text/x-python",
   "name": "python",
   "nbconvert_exporter": "python",
   "pygments_lexer": "ipython2",
   "version": "2.7.10"
  }
 },
 "nbformat": 4,
 "nbformat_minor": 2
}
