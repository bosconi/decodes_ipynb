{
 "cells": [
  {
   "cell_type": "code",
   "execution_count": null,
   "metadata": {},
   "outputs": [],
   "source": [
    "from decodes.core import *\n",
    "from decodes.io.jupyter_out import JupyterOut\n",
    "import math\n",
    "\n",
    "out = JupyterOut.unit_square( )"
   ]
  },
  {
   "cell_type": "markdown",
   "metadata": {},
   "source": [
    "# Lines and Planes in Decod.es\n",
    "\n",
    "***Inheritance*** allows related objects to be tied together under a common formulation, with common methods and members, while also providing the flexibility to make distinctions between them."
   ]
  },
  {
   "cell_type": "markdown",
   "metadata": {},
   "source": [
    "## Line-Like Objects in Decod.es\n",
    "\n",
    "In the previous section, we introduced three line-like geometric entities - lines, rays, and segments - and presented an elegant way of limiting the range of the parameter **t** in order to distinguish between them, all the while using a common equation.\n",
    "\n",
    "We discussed how such a distinction may be made between these objects in mathematical equation, but how can a similar-yet-different relationship be implemented in code?\n",
    "\n",
    "Object-oriented programming offers a means to relate similar types via a shared set of features. As we saw in the case of the Point-Vec relationship, the concept of inheritance tells us how ***one class of objects is described as a modified version of another class***, and through this mechanism inherits some number of the attributes of its parent.\n",
    "\n",
    "This case is different. \n",
    "\n",
    "While the Vec-Point pair suggested a natural hierarchy, with Vecs representing the more fundamental “parent” type, the three line types that we seek to define here do not. It is more appropriate to view the Line, Segment, and Ray classes as ***siblings*** rather than parents or children. What is needed is a way of grouping all the functionality common to these classes while relating them in a non-hierarchical way. Ideally, this grouping would be expressed in the traits of a natural common ancestor: ***a meta-line that captures the common features of our three sub-types*** of line. In cases where no practical ancestor naturally exists, OOP provides a mechanism through which to invent one: the ***abstract class***."
   ]
  },
  {
   "cell_type": "markdown",
   "metadata": {},
   "source": [
    "<img src=\"http://geometric-computation-images.s3-website-us-east-1.amazonaws.com/1.06.P15.jpg\" style=\"width: 200px; display: inline;\">"
   ]
  },
  {
   "cell_type": "markdown",
   "metadata": {},
   "source": [
    "An abstract class is a special kind of class that is not intended to be instantiated, but merely to function as a way of grouping attributes that are common to a set of related children. We call this the ***LinearEntity*** class."
   ]
  },
  {
   "cell_type": "markdown",
   "metadata": {},
   "source": [
    "### LinearEntity Initialization\n",
    "\n",
    "Given the vector representation of a line, it follows that an object of type LinearEntity will store two members: a Point and a Vec."
   ]
  },
  {
   "cell_type": "markdown",
   "metadata": {},
   "source": [
    "<table style=\"width:600px\">\n",
    "    <tr>\n",
    "        <th colspan=\"3\" style=\"text-align:left\">*LinearEntity Members*</th>\n",
    "    </tr>\n",
    "    <tr>\n",
    "        <td style=\"width:20%\">`entity.pt`</td>\n",
    "        <td style=\"width:20%\">Point</td>\n",
    "        <td style=\"width:60%\">The starting Point of this LinearEntity.</td>\n",
    "    </tr>\n",
    "    <tr>\n",
    "        <td style=\"width:20%\">`entity.vec`</td>\n",
    "        <td style=\"width:20%\">Vec</td>\n",
    "        <td style=\"width:60%\">A Vec describing the direction of this LinearEntity.</td>\n",
    "    </tr>\n",
    "</table>"
   ]
  },
  {
   "cell_type": "markdown",
   "metadata": {},
   "source": [
    "As Line, Segment, and Ray all possess these same two members, and as members are properly initialized in the `__init__` method, it follows that these three sibling classes should inherit their constructor method from their common abstract parent, LinearEntity. \n",
    "\n",
    "This design seems at odds with our definition of an abstract class, as it is counter-intuitive that we would define a constructor for a class that is not meant to be constructed. We define an initialization method for LinearEntity that we do not expect to be called directly, but rather to be inherited by any subclass."
   ]
  },
  {
   "cell_type": "code",
   "execution_count": null,
   "metadata": {},
   "outputs": [],
   "source": [
    "\"\"\"\n",
    "A Common Constructor for the LinearEntity Family\n",
    "LinearEntities consist of a Point and a Vec, and may be constructed as such or, \n",
    "alternatively, by two Points. The first argument below must be a Point, while \n",
    "the second may be either another Point or a Vec.\n",
    "\"\"\"\n",
    "class LinearEntity(Geometry):\n",
    "    def __init__(self, a, b):\n",
    "        self.pt = a\n",
    "        # if argument b is a Vec, simply assign\n",
    "        if isinstance(b,Vec) : self.vec = b\n",
    "        # otherwise, treat argument b as a Point\n",
    "        else: self.vec = Vec(b-a)\n",
    "        "
   ]
  },
  {
   "cell_type": "markdown",
   "metadata": {},
   "source": [
    "Unlike other methods, the inheritance of an initialization method requires a bit of finesse on the receiving end. The three child classes of LinearEntity must each define their own constructor, and then call upon the routine described above to do the actual work of initialization."
   ]
  },
  {
   "cell_type": "code",
   "execution_count": null,
   "metadata": {},
   "outputs": [],
   "source": [
    "\"\"\"\n",
    "Subclasses of the LinearEntity Family\n",
    "Lines, Rays and Segments are each subclasses of LinearEntity\n",
    "\"\"\" \n",
    "\n",
    "class Line(LinearEntity):\n",
    "    ...\n",
    "\n",
    "class Ray(LinearEntity):\n",
    "    ...\n",
    "\n",
    "class Segment(LinearEntity):\n",
    "    ...\n"
   ]
  },
  {
   "cell_type": "markdown",
   "metadata": {},
   "source": [
    "<img src=\"http://geometric-computation-images.s3-website-us-east-1.amazonaws.com/3.00.D28 LinearEntity Large.jpg\" style=\"width: 600px; display: inline;\">"
   ]
  },
  {
   "cell_type": "markdown",
   "metadata": {},
   "source": [
    "### Common Attributes of LinearEntities"
   ]
  },
  {
   "cell_type": "markdown",
   "metadata": {},
   "source": [
    "Any attributes that are common to all subclasses may be defined in a common superclass. \n",
    "\n",
    "It is advantageous to define as many properties as possible in this way, as it both avoids the duplication of code.\n",
    "\n",
    "A simple example of this principle may be found in the implementation of the `parallel_line()` method, which is applicable to each of the three subclasses of LinearEntity."
   ]
  },
  {
   "cell_type": "code",
   "execution_count": null,
   "metadata": {},
   "outputs": [],
   "source": [
    "\"\"\" \n",
    "Parallel Line\n",
    "Returns a new Line which is parallel to this linear entity and passes through \n",
    "the specified point\n",
    "\"\"\"        \n",
    "def parallel_line_through(self, pt):\n",
    "    return Line(p, self.vec)\n",
    "        "
   ]
  },
  {
   "cell_type": "markdown",
   "metadata": {},
   "source": [
    "A more substantial example of a common method can be seen in the way in which Points are plotted along each of the three subclasses of LinearEntity.\n",
    "\n",
    "We described a means for finding points along a line as a function of parameter `t` . In code, we may refer to this process as an ***evaluation*** of the LinearEntity."
   ]
  },
  {
   "cell_type": "code",
   "execution_count": null,
   "metadata": {},
   "outputs": [],
   "source": [
    "\"\"\"\n",
    "LinearEntity Evaluation\n",
    "Returns a Point plotted on a LinearEntity at a given parameter value\n",
    "\"\"\"\n",
    "def eval(self, t):    \n",
    "    return self.spt + (self.vec * t)"
   ]
  },
  {
   "cell_type": "markdown",
   "metadata": {},
   "source": [
    "<table style=\"width:600px\">\n",
    "    <tr>\n",
    "        <th colspan=\"3\" style=\"text-align:left\">*Selected LinearEntity Methods*</th>\n",
    "    </tr>\n",
    "    <tr>\n",
    "        <td style=\"width:20%\">`entity.eval(t)`</td>\n",
    "        <td style=\"width:20%\">Point</td>\n",
    "        <td style=\"width:60%\">Returns a Point plotted on a LinearEntity at a given parameter value.</td>\n",
    "    </tr>\n",
    "    <tr>\n",
    "        <td style=\"width:20%\">`entity.parallel_line(pt)`</td>\n",
    "        <td style=\"width:20%\">Line</td>\n",
    "        <td style=\"width:60%\">Returns a new Line which is parallel to this LinearEntity and passes through the specified point.</td>\n",
    "    </tr>\n",
    "</table>"
   ]
  },
  {
   "cell_type": "markdown",
   "metadata": {},
   "source": [
    "An abstract parent class may also serve as a useful container for any static methods that apply equally well to all subclasses."
   ]
  },
  {
   "cell_type": "markdown",
   "metadata": {},
   "source": [
    "<table style=\"width:600px\">\n",
    "    <tr>\n",
    "        <th colspan=\"3\" style=\"text-align:left\">*Selected LinearEntity Static Methods*</th>\n",
    "    </tr>\n",
    "    <tr>\n",
    "        <td style=\"width:20%\">`LinearEntity.is_parallel(a,b)`</td>\n",
    "        <td style=\"width:20%\">Boolean</td>\n",
    "        <td style=\"width:60%\">Determines if two LinearEntities are parallel with one another by vector comparison.</td>\n",
    "    </tr>\n",
    "    <tr>\n",
    "        <td style=\"width:20%\">`LinearEntity.angle_between(a,b)`</td>\n",
    "        <td style=\"width:20%\">Float</td>\n",
    "        <td style=\"width:60%\">Calculates the radian angle between two LinearEntities.</td>\n",
    "    </tr>    \n",
    "</table>"
   ]
  },
  {
   "cell_type": "markdown",
   "metadata": {},
   "source": [
    "### Variations by Inheritance\n",
    "\n",
    "While there is advantage to be found in defining routines held in common among sibling types, there are moments that call for differentiation. \n",
    "\n",
    "A child class may differentiate itself from his parent in two ways: \n",
    "\n",
    "* By ***extending***, or acquiring additional members or methods not held by its parent\n",
    "* By ***overriding***, or redefining certain attributes of its parent in order to alter its behavior. \n",
    "\n",
    "The three subtypes in the LinearEntity family exhibit both sorts of differentiation."
   ]
  },
  {
   "cell_type": "markdown",
   "metadata": {},
   "source": [
    "<img src=\"http://geometric-computation-images.s3-website-us-east-1.amazonaws.com/1.06.C01.jpg\" style=\"width: 800px; display: inline;\">"
   ]
  },
  {
   "cell_type": "markdown",
   "metadata": {},
   "source": [
    "#### Segments\n",
    "\n",
    "Segments extend LinearEntity most significantly, with the addition of three properties and one method. Each of these arise from the fact that Segments are ***bounded objects***, and thus possess attributes such as `seg.midpoint`, while Rays and Lines are infinite and do not.\n",
    "\n",
    "Note that ***any members and methods defined by the parent are automatically a part of the child***. Any calls from a child method to a method defined in a parent do not require any special syntax, and follow the typical `self.method()` syntax"
   ]
  },
  {
   "cell_type": "markdown",
   "metadata": {},
   "source": [
    "<img src=\"http://geometric-computation-images.s3-website-us-east-1.amazonaws.com/1.06.P04.jpg\" style=\"width: 200px; display: inline;\">"
   ]
  },
  {
   "cell_type": "markdown",
   "metadata": {},
   "source": [
    "<table style=\"width:600px\">\n",
    "    <tr>\n",
    "        <th colspan=\"3\" style=\"text-align:left\">*Selected Segment Properties*</th>\n",
    "    </tr>\n",
    "    <tr>\n",
    "        <td style=\"width:20%\">`entity.spt`</td>\n",
    "        <td style=\"width:20%\">Point</td>\n",
    "        <td style=\"width:60%\">The start-point of a LinearEntity, equivalent to<br>`entity.pt`</td>\n",
    "    </tr>\n",
    "    <tr>\n",
    "        <td style=\"width:20%\">`seg.midpoint`</td>\n",
    "        <td style=\"width:20%\">Point</td>\n",
    "        <td style=\"width:60%\">The mid-point of a Segment, equivalent to<br>`seg.eval(0.5)`</td>\n",
    "    </tr>\n",
    "    <tr>\n",
    "        <td style=\"width:20%\">`seg.ept`</td>\n",
    "        <td style=\"width:20%\">Point</td>\n",
    "        <td style=\"width:60%\">The end-point of a LinearEntity, equivalent to<br>`seg.pt + seg.vec`</td>\n",
    "    </tr>\n",
    "</table>"
   ]
  },
  {
   "cell_type": "code",
   "execution_count": null,
   "metadata": {},
   "outputs": [],
   "source": [
    "\"\"\"\n",
    "Segment Points as Properties\n",
    "The start, end, and mid-points of a Segment are described as properties\n",
    "\"\"\"\n",
    "@property\n",
    "def spt(self):\n",
    "    return self.pt\n",
    "\n",
    "@property\n",
    "def ept(self):\n",
    "    return self.pt + self.vec \n",
    "\n",
    "@property\n",
    "def midpoint(self):\n",
    "    return self.eval(0.5)"
   ]
  },
  {
   "cell_type": "markdown",
   "metadata": {},
   "source": [
    "The Decod.es Segment type includes two division methods, both of which divide a Segment into a given number of equally-spaced lengths. `seg.divide()`, returns the Points that demarcate these divisions, while `seg.subsegment()`, returns a collection of smaller Segments. Both of these rely upon the evaluation method inherited from LinearEntity."
   ]
  },
  {
   "cell_type": "code",
   "execution_count": null,
   "metadata": {},
   "outputs": [],
   "source": [
    "\"\"\"\n",
    "Segment Division\n",
    "Divides a Segment into a list of Points equally spaced between its start-point \n",
    "and end-point. The number of resulting Points will be one more than the argument \n",
    "provided, such that seg.divide(2) will return three Points.\n",
    "\"\"\"    \n",
    "def divide(self, divs):\n",
    "    tt = Interval().divide(divs, True)\n",
    "    return [self.eval(t) for t in tt]"
   ]
  },
  {
   "cell_type": "markdown",
   "metadata": {},
   "source": [
    "Note the use of List slicing and the `zip` function."
   ]
  },
  {
   "cell_type": "code",
   "execution_count": null,
   "metadata": {},
   "outputs": [],
   "source": [
    "\"\"\"\n",
    "Sub-Segmentation\n",
    "Divides a Segment into a list of smaller equally-sized Segments.\n",
    "\"\"\"\n",
    "def subsegment(self, divs):\n",
    "    pts = self.divide(divs)\n",
    "    return [Segment(pa,pb) for pa,pb in zip(pts[:-1],pts[1:]) ]    "
   ]
  },
  {
   "cell_type": "markdown",
   "metadata": {},
   "source": [
    "Deploying these new classes and methods, the implementation of the construction of a Gosper Curve can be made more succinct."
   ]
  },
  {
   "cell_type": "code",
   "execution_count": null,
   "metadata": {},
   "outputs": [],
   "source": [
    "\"\"\"\n",
    "Gosper Curve Redux\n",
    "\"\"\"\n",
    "for n in range(count):\n",
    "    new_segs = []\n",
    "    for seg in segs:\n",
    "        height = seg.length*height_ratio\n",
    "        d_vec = seg.vec.cross(UZ).normalized(height)\n",
    "        \n",
    "        #{a} divide the segment into four Points\n",
    "        pts = seg.divide(3)\n",
    "        # translate the middle two Points\n",
    "        pts[1] += d_vec\n",
    "        pts[2] -= d_vec\n",
    "        # {b} construct new segments\n",
    "        new_segs.extend([ Segment(pa,pb) for pa,pb in zip(pts[:-1],pts[1:]) ])\n",
    "        \n",
    "    segs = new_segs"
   ]
  },
  {
   "cell_type": "markdown",
   "metadata": {},
   "source": [
    "## Plane Objects in Decod.es\n",
    "\n",
    "Many of the operations in CAD that we associate with Planes, such as the plotting of two-dimensional coordinate locations, are in fact handled by the software equivalent of coordinate systems. This is due to the necessity of an orientation vector to demarcate x- and y-directions (the hallmark of a coordinate system) on an otherwise undifferentiated plane.\n",
    "\n",
    "Divested of the responsibility for evaluating coordinate locations, the Decod.es Plane is used primarily in the service of Point projection, the subject of a section below, and a number of important intersections."
   ]
  },
  {
   "cell_type": "markdown",
   "metadata": {},
   "source": [
    "<img src=\"http://geometric-computation-images.s3-website-us-east-1.amazonaws.com/3.00.D12 Plane Large.jpg\" style=\"width: 600px; display: inline;\">"
   ]
  },
  {
   "cell_type": "markdown",
   "metadata": {},
   "source": [
    "A Plane stores four members: the three coordinates numbers of the origin of the Plane, `x`, `y`, and `z`, and a Vec, `vec`, which represents the normal direction of the Plane. The normal vector is normalized to be a unit vector."
   ]
  },
  {
   "cell_type": "code",
   "execution_count": null,
   "metadata": {},
   "outputs": [],
   "source": [
    "\"\"\"\n",
    "Plane Initialization\n",
    "A Plane is defined as three coordinate values that describe the location of the \n",
    "center of the Plane, and a Vec that describes its normal direction\n",
    "\"\"\"\n",
    "class Plane(Geometry):\n",
    "    def __init__(self, point, normal):\n",
    "        self.x, self.y, self.z = point.tup\n",
    "        self.vec = normal.normalized()"
   ]
  },
  {
   "cell_type": "markdown",
   "metadata": {},
   "source": [
    "The two most commonly accessed attributes of a Plane, the `origin` Point and `normal` vector, wrap these members as the properties origin and normal. Both of these define ***setter methods***, and can be assigned values as if they were members."
   ]
  },
  {
   "cell_type": "code",
   "execution_count": null,
   "metadata": {},
   "outputs": [],
   "source": [
    "\"\"\"\n",
    "Plane Properties\n",
    "Two primary properties are defined for a Plane, origin and normal, each of which\n",
    "offers 'setter' methods. \n",
    "\"\"\"\n",
    "\n",
    "@property\n",
    "def origin(self): \n",
    "    return Point(self.x,self.y,self.z)\n",
    "    \n",
    "@origin.setter\n",
    "def origin(self, pt):\n",
    "    self.x, self.y, self.z = pt.tup    \n",
    "        \n",
    "@property\n",
    "def normal(self):\n",
    "    return self.vec\n",
    "    \n",
    "@normal.setter\n",
    "def normal(self, v): \n",
    "    self.vec = v.normalized()"
   ]
  },
  {
   "cell_type": "markdown",
   "metadata": {},
   "source": [
    "Since it is often more convenient to create a plane using three points, this functionality is provided as a static method. \n",
    "\n",
    "The centroid of the three given Points is calculated, and becomes the center of the resulting Plane. Two Vecs are determined, the cross-product of which determines the normal direction."
   ]
  },
  {
   "cell_type": "code",
   "execution_count": null,
   "metadata": {},
   "outputs": [],
   "source": [
    "\"\"\"\n",
    "Construction by Three Points\n",
    "A static method is defined that allows for the construction of a Plane given \n",
    "three Points which lie upon it.\n",
    "\"\"\"\n",
    "@staticmethod\n",
    "def from_pts(pt_a,pt_b,pt_c):\n",
    "    pt = Point.centroid([pt_a,pt_b,pt_c])\n",
    "    nml = Vec(pt_a,pt_b).cross(Vec(pt_a,pt_c))\n",
    "    return Plane(pt,nml)\n"
   ]
  },
  {
   "cell_type": "markdown",
   "metadata": {},
   "source": [
    "<img src=\"http://geometric-computation-images.s3-website-us-east-1.amazonaws.com/1.06.P16.jpg\" style=\"width: 200px; display: inline;\">"
   ]
  },
  {
   "cell_type": "markdown",
   "metadata": {},
   "source": [
    "Converting an undifferentiated Plane to a CS requires the determination of a direction on the Plane that will serve to orient the x- and y-axes of the resulting coordinate system. \n",
    "\n",
    "The routine below aligns the x-axis of the resulting CS as closely as possible with the given guide_vec while still ensuring that it lies on the Plane. It does so by using a pair of cross-product operations: first, `y_vec` is determined as the product of the Plane `normal` and `guide_vec`, and then `x_vec` is found as the product of the Plane `normal` and `y_vec`."
   ]
  },
  {
   "cell_type": "code",
   "execution_count": null,
   "metadata": {},
   "outputs": [],
   "source": [
    "\"\"\"\n",
    "Conversion to a CS\n",
    "A Plane may be converted into a CS, so long as a guide_vec is provided so that \n",
    "the orientation of the x-axis may be determined. The given guide_vec need not \n",
    "lie on the Plane, as the routine below will automatically project any given \n",
    "Vec (except those that align with the Plane normal) to the Plane.\n",
    "\"\"\"\n",
    "def to_cs(self, guide_vec):\n",
    "    y_vec = self.normal.cross(guide_vec)\n",
    "    #invert so that the CS.z_axis matches the plane normal\n",
    "    x_vec = self.normal.cross(y_vec).inverted()\n",
    "    return CS(self.origin, x_vec, y_vec)    "
   ]
  },
  {
   "cell_type": "markdown",
   "metadata": {},
   "source": [
    "## Circle Objects in Decod.es\n",
    "\n",
    "Returning to the theme of common formulation, we introduce the Decod.es Circle here, not out of interest for its geometric properties, but rather for its affinity with the Plane type. \n",
    "\n",
    "Unlike our previous examples of inheritance for which there appeared a visual correspondence between the related sub-types, the infinite undifferentiated Plane and the curve-like Circle types appear to have little relation to form the basis for a common formulation. That is, until we look past their geometric properties and to their natural structure in code.\n",
    "\n",
    "While it is conceivable that a Circle could store a Plane as a member, ***the Decod.es library opts to define a Circle as a subclass of Plane*** that adds the single radius member `rad`. \n",
    "\n",
    "This design allows for the subclass to automatically inherit appropriate attributes of its parent class, such as *tests for coplanarity*, while overriding others, such as Point *projection*. \n",
    "\n",
    "In this construction, the described Circle sits on the Plane with its center at the plane origin. "
   ]
  },
  {
   "cell_type": "markdown",
   "metadata": {},
   "source": [
    "<img src=\"http://geometric-computation-images.s3-website-us-east-1.amazonaws.com/3.00.D24 Cir Large.jpg\" style=\"width: 600px; display: inline;\">"
   ]
  },
  {
   "cell_type": "code",
   "execution_count": null,
   "metadata": {},
   "outputs": [],
   "source": [
    "\"\"\"\n",
    "Circle Class\n",
    "Inherits all properties of the Plane class, and also happens to require a Plane \n",
    "in its constructor\n",
    "\"\"\"\n",
    "class Circle(Plane):\n",
    "    def __init__(self,plane,radius):\n",
    "        self.x, self.y, self.z = plane.x, plane.y, plane.z\n",
    "        self.vec = plane.vec\n",
    "        self.rad = radius"
   ]
  },
  {
   "cell_type": "code",
   "execution_count": null,
   "metadata": {},
   "outputs": [],
   "source": [
    "\"\"\"\n",
    "Circles Along a Line Segment \n",
    "\"\"\"\n",
    "circs = []\n",
    "for t in Interval()/20:\n",
    "    circ = Circle(Plane(seg.eval(t), seg.vec), (1+t)*math.exp((1-t)+4*t))\n",
    "    circs.append(circ)"
   ]
  }
 ],
 "metadata": {
  "kernelspec": {
   "display_name": "Python 2",
   "language": "python",
   "name": "python2"
  },
  "language_info": {
   "codemirror_mode": {
    "name": "ipython",
    "version": 2
   },
   "file_extension": ".py",
   "mimetype": "text/x-python",
   "name": "python",
   "nbconvert_exporter": "python",
   "pygments_lexer": "ipython2",
   "version": "2.7.10"
  }
 },
 "nbformat": 4,
 "nbformat_minor": 2
}
