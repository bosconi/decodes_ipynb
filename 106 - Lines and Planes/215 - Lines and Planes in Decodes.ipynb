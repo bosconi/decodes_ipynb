{
 "cells": [
  {
   "cell_type": "code",
   "execution_count": null,
   "metadata": {},
   "outputs": [],
   "source": [
    "from decodes.core import *\n",
    "from decodes.io.jupyter_out import JupyterOut\n",
    "import math\n",
    "\n",
    "out = JupyterOut.unit_square( )"
   ]
  },
  {
   "cell_type": "markdown",
   "metadata": {},
   "source": [
    "# Lines and Planes in Decod.es\n",
    "todo"
   ]
  },
  {
   "cell_type": "markdown",
   "metadata": {},
   "source": [
    "## Line-Like Objects in Decod.es"
   ]
  },
  {
   "cell_type": "markdown",
   "metadata": {},
   "source": [
    "<img src=\"http://geometric-computation-images.s3-website-us-east-1.amazonaws.com/1.06.P15.jpg\" style=\"width: 200px; display: inline;\">"
   ]
  },
  {
   "cell_type": "markdown",
   "metadata": {},
   "source": [
    "### LinearEntity Initialization"
   ]
  },
  {
   "cell_type": "markdown",
   "metadata": {},
   "source": [
    "<table style=\"width:600px\">\n",
    "    <tr>\n",
    "        <th colspan=\"3\" style=\"text-align:left\">*LinearEntity Members*</th>\n",
    "    </tr>\n",
    "    <tr>\n",
    "        <td style=\"width:20%\">`entity.pt`</td>\n",
    "        <td style=\"width:20%\">Point</td>\n",
    "        <td style=\"width:60%\">The starting Point of this LinearEntity.</td>\n",
    "    </tr>\n",
    "    <tr>\n",
    "        <td style=\"width:20%\">`entity.vec`</td>\n",
    "        <td style=\"width:20%\">Vec</td>\n",
    "        <td style=\"width:60%\">A Vec describing the direction of this LinearEntity.</td>\n",
    "    </tr>\n",
    "</table>"
   ]
  },
  {
   "cell_type": "markdown",
   "metadata": {},
   "source": [
    "<img src=\"http://geometric-computation-images.s3-website-us-east-1.amazonaws.com/3.00.D28 LinearEntity Large.jpg\" style=\"width: 600px; display: inline;\">"
   ]
  },
  {
   "cell_type": "markdown",
   "metadata": {},
   "source": [
    "### Common Attributes of LinearEntities"
   ]
  },
  {
   "cell_type": "markdown",
   "metadata": {},
   "source": [
    "<table style=\"width:600px\">\n",
    "    <tr>\n",
    "        <th colspan=\"3\" style=\"text-align:left\">*Selected LinearEntity Methods*</th>\n",
    "    </tr>\n",
    "    <tr>\n",
    "        <td style=\"width:20%\">`entity.eval(t)`</td>\n",
    "        <td style=\"width:20%\">Point</td>\n",
    "        <td style=\"width:60%\">Returns a Point plotted on a LinearEntity at a given parameter value.</td>\n",
    "    </tr>\n",
    "    <tr>\n",
    "        <td style=\"width:20%\">`entity.parallel_line(pt)`</td>\n",
    "        <td style=\"width:20%\">Line</td>\n",
    "        <td style=\"width:60%\">Returns a new Line which is parallel to this LinearEntity and passes through the specified point.</td>\n",
    "    </tr>\n",
    "</table>"
   ]
  },
  {
   "cell_type": "markdown",
   "metadata": {},
   "source": [
    "<table style=\"width:600px\">\n",
    "    <tr>\n",
    "        <th colspan=\"3\" style=\"text-align:left\">*Selected LinearEntity Static Methods*</th>\n",
    "    </tr>\n",
    "    <tr>\n",
    "        <td style=\"width:20%\">`LinearEntity.is_parallel(a,b)`</td>\n",
    "        <td style=\"width:20%\">Boolean</td>\n",
    "        <td style=\"width:60%\">Determines if two LinearEntities are parallel with one another by vector comparison.</td>\n",
    "    </tr>\n",
    "    <tr>\n",
    "        <td style=\"width:20%\">`LinearEntity.angle_between(a,b)`</td>\n",
    "        <td style=\"width:20%\">Float</td>\n",
    "        <td style=\"width:60%\">Calculates the radian angle between two LinearEntities.</td>\n",
    "    </tr>    \n",
    "</table>"
   ]
  },
  {
   "cell_type": "markdown",
   "metadata": {},
   "source": [
    "### Variations by Inheritance"
   ]
  },
  {
   "cell_type": "markdown",
   "metadata": {},
   "source": [
    "<img src=\"http://geometric-computation-images.s3-website-us-east-1.amazonaws.com/1.06.C01.jpg\" style=\"width: 800px; display: inline;\">"
   ]
  },
  {
   "cell_type": "markdown",
   "metadata": {},
   "source": [
    "### Segments"
   ]
  },
  {
   "cell_type": "markdown",
   "metadata": {},
   "source": [
    "<img src=\"http://geometric-computation-images.s3-website-us-east-1.amazonaws.com/1.06.P04.jpg\" style=\"width: 200px; display: inline;\">"
   ]
  },
  {
   "cell_type": "markdown",
   "metadata": {},
   "source": [
    "<table style=\"width:600px\">\n",
    "    <tr>\n",
    "        <th colspan=\"3\" style=\"text-align:left\">*Selected Segment Properties*</th>\n",
    "    </tr>\n",
    "    <tr>\n",
    "        <td style=\"width:20%\">`entity.spt`</td>\n",
    "        <td style=\"width:20%\">Point</td>\n",
    "        <td style=\"width:60%\">The start-point of a LinearEntity, equivalent to<br>`entity.pt`</td>\n",
    "    </tr>\n",
    "    <tr>\n",
    "        <td style=\"width:20%\">`seg.midpoint`</td>\n",
    "        <td style=\"width:20%\">Point</td>\n",
    "        <td style=\"width:60%\">The mid-point of a Segment, equivalent to<br>`seg.eval(0.5)`</td>\n",
    "    </tr>\n",
    "    <tr>\n",
    "        <td style=\"width:20%\">`seg.ept`</td>\n",
    "        <td style=\"width:20%\">Point</td>\n",
    "        <td style=\"width:60%\">The end-point of a LinearEntity, equivalent to<br>`seg.pt + seg.vec`</td>\n",
    "    </tr>\n",
    "</table>"
   ]
  },
  {
   "cell_type": "markdown",
   "metadata": {},
   "source": [
    "## Plane Objects in Decod.es"
   ]
  },
  {
   "cell_type": "markdown",
   "metadata": {},
   "source": [
    "<img src=\"http://geometric-computation-images.s3-website-us-east-1.amazonaws.com/3.00.D12 Plane Large.jpg\" style=\"width: 600px; display: inline;\">"
   ]
  },
  {
   "cell_type": "markdown",
   "metadata": {},
   "source": [
    "<img src=\"http://geometric-computation-images.s3-website-us-east-1.amazonaws.com/1.06.P16.jpg\" style=\"width: 200px; display: inline;\">"
   ]
  },
  {
   "cell_type": "markdown",
   "metadata": {},
   "source": [
    "## Circle Objects in Decod.es"
   ]
  },
  {
   "cell_type": "markdown",
   "metadata": {},
   "source": [
    "<img src=\"http://geometric-computation-images.s3-website-us-east-1.amazonaws.com/3.00.D24 Cir Large.jpg\" style=\"width: 600px; display: inline;\">"
   ]
  },
  {
   "cell_type": "code",
   "execution_count": null,
   "metadata": {},
   "outputs": [],
   "source": []
  }
 ],
 "metadata": {
  "kernelspec": {
   "display_name": "Python 3",
   "language": "python",
   "name": "python3"
  },
  "language_info": {
   "codemirror_mode": {
    "name": "ipython",
    "version": 3
   },
   "file_extension": ".py",
   "mimetype": "text/x-python",
   "name": "python",
   "nbconvert_exporter": "python",
   "pygments_lexer": "ipython3",
   "version": "3.6.4"
  }
 },
 "nbformat": 4,
 "nbformat_minor": 2
}
