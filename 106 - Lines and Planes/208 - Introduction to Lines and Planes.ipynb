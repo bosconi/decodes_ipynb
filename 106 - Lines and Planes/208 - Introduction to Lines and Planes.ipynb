{
 "cells": [
  {
   "cell_type": "code",
   "execution_count": null,
   "metadata": {},
   "outputs": [],
   "source": [
    "from decodes.core import *\n",
    "from decodes.io.jupyter_out import JupyterOut\n",
    "import math\n",
    "\n",
    "out = JupyterOut.unit_square( )"
   ]
  },
  {
   "cell_type": "markdown",
   "metadata": {},
   "source": [
    "# Introduction to Lines and Planes"
   ]
  },
  {
   "cell_type": "markdown",
   "metadata": {},
   "source": [
    "Here we tell a number of related stories of ***common formulation***.\n",
    "\n",
    "Lines and Planes each appear to be lessons of competing formulation, as each is equally well-described through a variety of means.\n",
    "\n",
    "While our discussions have so far focused on how the configuration of a type (say, for example, a Line defined by two Points or by a Point and a Vec) determine what we can do with that type, here we find another path. Through the careful coordination of members, properties, and property-setters, ***we can design classes that manifest multiple representations simultaneously***.\n"
   ]
  },
  {
   "cell_type": "markdown",
   "metadata": {},
   "source": [
    "In this section, we will:\n",
    "\n",
    "* Introduce the geometry of lines in a way that moves away from familiar scalar equations, and instead adopts a vector representation.\n",
    "\n",
    "* Describe the implementation of Lines in code, and again find advantage in a common formulation.\n",
    "\n",
    "* Discuss inheritance.\n",
    "\n",
    "* Introduce the three sub-classes of Line-like stuff: Lines, Rays and Segments; and their common ancestor: LinearEntities.\n",
    "\n",
    "* Introduce Planes, and its odd descendant: Circles.\n",
    "\n",
    "* Briefly discuss two important operations of Lines and Planes: projection and comparison."
   ]
  },
  {
   "cell_type": "code",
   "execution_count": null,
   "metadata": {},
   "outputs": [],
   "source": []
  }
 ],
 "metadata": {
  "kernelspec": {
   "display_name": "Python 2",
   "language": "python",
   "name": "python2"
  },
  "language_info": {
   "codemirror_mode": {
    "name": "ipython",
    "version": 2
   },
   "file_extension": ".py",
   "mimetype": "text/x-python",
   "name": "python",
   "nbconvert_exporter": "python",
   "pygments_lexer": "ipython2",
   "version": "2.7.10"
  }
 },
 "nbformat": 4,
 "nbformat_minor": 2
}
