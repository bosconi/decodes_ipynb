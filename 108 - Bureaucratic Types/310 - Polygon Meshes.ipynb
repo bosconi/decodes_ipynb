{
 "cells": [
  {
   "cell_type": "code",
   "execution_count": null,
   "metadata": {},
   "outputs": [],
   "source": [
    "from decodes.core import *\n",
    "from decodes.io.jupyter_out import JupyterOut\n",
    "import math\n",
    "\n",
    "out = JupyterOut.unit_square( )"
   ]
  },
  {
   "cell_type": "markdown",
   "metadata": {},
   "source": [
    "# Polygon Meshes\n",
    "The polygon mesh is the mainstay of three-dimensional computer graphics. What raster images are to two-dimensional graphics, meshes are to the representation of boundary surfaces that underlie many three-dimensional modeling and rendering applications.\n",
    "\n",
    "Meshes are discrete in nature, as they describe the surface boundary of a three-dimensional form using a collection of joined polygonal faces.\n",
    "\n",
    "The Decod.es Mesh offers only minimal functionality."
   ]
  },
  {
   "cell_type": "markdown",
   "metadata": {},
   "source": [
    "<img src=\"http://geometric-computation-images.s3-website-us-east-1.amazonaws.com/1.07.P28.jpg\" style=\"width: 200px; display: inline;\">\n"
   ]
  },
  {
   "cell_type": "markdown",
   "metadata": {},
   "source": [
    "## Elements of a Mesh"
   ]
  },
  {
   "cell_type": "markdown",
   "metadata": {},
   "source": [
    "There are three basic elements of a polygonal mesh: \n",
    "* The mesh ***vertices*** that each describe a coordinate location that lies on the approximated surface\n",
    "* The mesh ***edges*** that each relate a pair of vertices that may be connected by a line segment\n",
    "* The mesh ***faces***, each of which is a region that approximates a patch of the surface and that is bounded by a closed loop of edges\n",
    "\n",
    "A number of mature approaches to the representation of meshes have been developed. Most of these separate the description of ***mesh geometry***, the coordinates represented by the vertices, from ***mesh connectivity***, the relationships between vertices that give rise to edges and faces. The differences between these approaches primarily concern how connectivity is represented. Each strikes a balance between speed of access and processing on the one hand, and concise descriptions that result in smaller file sizes on the other.\n",
    "\n"
   ]
  },
  {
   "cell_type": "markdown",
   "metadata": {},
   "source": [
    "<img src=\"http://geometric-computation-images.s3-website-us-east-1.amazonaws.com/1.07.P12.jpg\" style=\"width: 600px; display: inline;\">\n"
   ]
  },
  {
   "cell_type": "markdown",
   "metadata": {},
   "source": [
    "Let’s examine a range of possible implementations in a simple format. Using the\n",
    "mesh shown in the nearby diagram, the tables on the following page demonstrate the storage schema for three commonly-used meshes: the ***vertex-vertex*** mesh, the ***face-vertex*** mesh, and the ***winged-edge*** mesh. While not exhaustive of mesh formats in practice, these three offer a sampling of the common approaches, from the compact to the feature-rich."
   ]
  },
  {
   "cell_type": "markdown",
   "metadata": {},
   "source": [
    "#### Vertex-Vertex Mesh\n",
    "\n",
    "This simplest representation of a mesh stores a collection of vertices, each of which refers to the other vertices in the collection to which it is connected. The resulting data structure is compact, but faces and edges are implicit, and therefore must be calculated on demand.\n",
    "\n",
    "TODO: Table"
   ]
  },
  {
   "cell_type": "markdown",
   "metadata": {},
   "source": [
    "<img src=\"http://geometric-computation-images.s3-website-us-east-1.amazonaws.com/1.07.P13.jpg\" style=\"width: 200px; display: inline;\">\n"
   ]
  },
  {
   "cell_type": "markdown",
   "metadata": {},
   "source": [
    "#### Face-Vertex Mesh\n",
    "\n",
    "In addition to the vertex list of the vertex-vertex mesh, this format stores a collection of faces that relates vertices to one another in groups of three or four. This is ***the most widely applied representation*** for meshes, and is the one adopted by Decod.es Mesh objects.\n",
    "\n",
    "TODO: Table"
   ]
  },
  {
   "cell_type": "markdown",
   "metadata": {},
   "source": [
    "<img src=\"http://geometric-computation-images.s3-website-us-east-1.amazonaws.com/1.07.P14.jpg\" style=\"width: 200px; display: inline;\">\n"
   ]
  },
  {
   "cell_type": "markdown",
   "metadata": {},
   "source": [
    "#### Winged-Edge Mesh\n",
    "\n",
    "The winged-edge mesh and its variants are the most ornate and the most recently developed formats for representing a mesh. Here, explicit and redundant relationships are defined in three tables. The first two, a vertex list and face list, are identical to those described above. The third table lists edges, and relates these to the vertices which define them, the faces that they bound, and the other edges that participate in the bounding of these faces. A variant of the winged-edge mesh, the half-edge, has gained popularity recently, and is valued for the flexibility it provides for dynamically altering mesh geometry.\n",
    "\n",
    "TODO: Table"
   ]
  },
  {
   "cell_type": "markdown",
   "metadata": {},
   "source": [
    "<img src=\"http://geometric-computation-images.s3-website-us-east-1.amazonaws.com/1.07.P15.jpg\" style=\"width: 200px; display: inline;\">\n"
   ]
  },
  {
   "cell_type": "markdown",
   "metadata": {},
   "source": [
    "## Mesh Objects in Decod.es\n",
    "\n",
    "The Decod.es library offers an exceedingly simple implementation of a polygon mesh. Like a PLine, PGon, and RGon, a Decod.es Mesh is a special kind of HasPts, inheriting the `hazbasis.basis` coordinate system, and the `hazpts._verts` vertices collection along with all the functions responsible for managing the vertices."
   ]
  },
  {
   "cell_type": "markdown",
   "metadata": {},
   "source": [
    "<img src=\"http://geometric-computation-images.s3-website-us-east-1.amazonaws.com/3.00.D68 Mesh Large.jpg\" style=\"width: 800px; display: inline;\">"
   ]
  },
  {
   "cell_type": "markdown",
   "metadata": {},
   "source": [
    "A single member is added to the parent class members. \n",
    "\n",
    "The `msh._faces` member represents individual mesh faces as references to the vertices that comprise them. ***Each mesh face is described as a collection of indices***: Integers that allow us to retrieve a specific set of Point objects from the `msh._verts` collection."
   ]
  },
  {
   "cell_type": "code",
   "execution_count": null,
   "metadata": {},
   "outputs": [],
   "source": [
    "\"\"\"\n",
    "Mesh Initialization\n",
    "Meshes are constructed in much the same way as other HasPts objects, relying on \n",
    "arguments passed through to the superclass constructor for the defining of basic \n",
    "members, and only then initializing a private collection to store faces.\n",
    "\"\"\"\n",
    "class Mesh(HasPts):\n",
    "    def __init__(self, vertices=None, faces=None, basis=None):\n",
    "         #HasPts constructor handles initalization of verts and basis\n",
    "        super(Mesh,self).__init__(vertices,basis)\n",
    "        self._faces = [] if (faces is None) else faces"
   ]
  },
  {
   "cell_type": "markdown",
   "metadata": {},
   "source": [
    "While a Mesh must allow manipulation of its `msh._verts` and `msh._faces` collections, it does so only in a managed way. \n",
    "\n",
    "Even in this spare face-vertex style mesh, the relationships defined by these members are interdependent, and must be kept in close synchronization. There are many considerations to take into account when providing structures for managing these relationships. Among these are:\n",
    "* If a vertex is added or removed, all faces that reference it should be updated. Additionally, since vertices are referenced by index, references to higher-numbered vertices should be modified to reflect the new numbering.\n",
    "* Before adding or removing faces, it should be confirmed that the action does not produce a non-manifold mesh.\n",
    "* Before altering faces, it should be verified that all referenced vertices exist, and any new face shares at least one edge with an existing face.\n",
    "\n",
    "Almost none of this is done in a Decod.es Mesh. Instead, the modest functions found below provide nearly direct access to the `msh._faces` collection, and it is left to the users of the Decod.es library to code with caution."
   ]
  },
  {
   "cell_type": "code",
   "execution_count": null,
   "metadata": {},
   "outputs": [],
   "source": [
    "\"\"\"\n",
    "Face Management\n",
    "The Decod.es Mesh offers minimal methods for managing faces. In the first method\n",
    "below, a single face that relates three or four Points is added to the private \n",
    "collection _faces. The second method below defines a property faces that \n",
    "provides access to this private collection.\n",
    "\"\"\"\n",
    "def add_face(self,a,b,c,d=None):\n",
    "    if is not None : self._faces.append([a,b,c,d])\n",
    "    else: self._faces.append([a,b,c])\n",
    "    \n",
    "@property\n",
    "def faces(self):\n",
    "    return self._faces"
   ]
  },
  {
   "cell_type": "markdown",
   "metadata": {},
   "source": [
    "The Decod.es Mesh does not provide the wealth of geometric properties of more elaborate mesh types. Still, a few essentials may be easily obtained."
   ]
  },
  {
   "cell_type": "code",
   "execution_count": null,
   "metadata": {},
   "outputs": [],
   "source": [
    "\"\"\"\n",
    "Querying Face Properties\n",
    "Given the minimal structure of a Decod.es Mesh, a range of geometric properties \n",
    "may be calculated for any mesh face identified by index. The first function \n",
    "below simply returns the points of the desired face. Using this information, \n",
    "the second calculates its centroid. Finally, the third calculates the normal \n",
    "vector of the desired face, accounting for four-sided faces where necessary.\n",
    "\"\"\"\n",
    "def face_pts(self,idx):\n",
    "    return [self.pts[i] for i in self.faces[idx]]\n",
    "    \n",
    "def face_centroid(self,idx):\n",
    "    return Point.centroid(self.face_pts(idx))\n",
    "    \n",
    "def face_normal(self,idx):\n",
    "    pts = self.face_pts(idx)\n",
    "    va = Vec(pts[0],pts[1]).cross(Vec(pts[0],pts[2])).normalized()\n",
    "    if len(verts) == 3 : return va\n",
    "    \n",
    "    vb = Vec(pts[2],pts[3]).cross(Vec(pts[2],pts[1])).normalized()\n",
    "    return Vec.bisector(va,vb).normalized()"
   ]
  },
  {
   "cell_type": "markdown",
   "metadata": {},
   "source": [
    "### Mesh Usage\n",
    "\n",
    "The sequence on subdivision demonstrated multiple ways to refine a collection of faces. These faces were represented by the data structures available to us at the time: a collection of connected Segments. We now have a data structure at our disposal that is tailor-made to handle this type of problem that involves both geometry and connectivity.\n",
    "\n",
    "The Decod.es Mesh is more than capable to handle this refinement in a more succinct and more legible form than was possible before."
   ]
  },
  {
   "cell_type": "markdown",
   "metadata": {},
   "source": [
    "<img src=\"http://geometric-computation-images.s3-website-us-east-1.amazonaws.com/1.07.P21.jpg\" style=\"width: 200px; display: inline;\">\n"
   ]
  },
  {
   "cell_type": "code",
   "execution_count": null,
   "metadata": {},
   "outputs": [],
   "source": [
    "\"\"\"\n",
    "Mesh Quad Corner-to-Center Subdivision\n",
    "\"\"\"\n",
    "def quadsub_corner_to_ctr(msh, fac_idx):\n",
    "    # append a Point at the face center, and find index\n",
    "    msh.append( msh.face_centroid(fac_idx) )\n",
    "    ctr_idx = len(msh)-1\n",
    "    # find indices of corners of existing face\n",
    "    cnr_idxs = msh._faces[fac_idx]\n",
    "    \n",
    "    # add four new faces\n",
    "    msh.add_face(cnr_idxs[0],cnr_idxs[1],ctr_idx)\n",
    "    msh.add_face(cnr_idxs[1],cnr_idxs[2],ctr_idx)\n",
    "    msh.add_face(cnr_idxs[2],cnr_idxs[3],ctr_idx)\n",
    "    msh.add_face(cnr_idxs[3],cnr_idxs[0],ctr_idx)\n",
    "    \n",
    "    # remove the existing face\n",
    "    del msh._faces[fac_idx]"
   ]
  },
  {
   "cell_type": "markdown",
   "metadata": {},
   "source": [
    "Notice that the ***directionality*** of each subface, that is, the counter-clockwise or clockwise order of the indices determining each subface, preserves the directionality of the original face. \n",
    "\n",
    "This consistency ensures that the face normals are all pointing in the same direction, and demonstrates the sort of careful bookkeeping that becomes even more important when a mesh is used to approximate a surface for which the general direction of its normals determines its orientability."
   ]
  }
 ],
 "metadata": {
  "kernelspec": {
   "display_name": "Python 3",
   "language": "python",
   "name": "python3"
  },
  "language_info": {
   "codemirror_mode": {
    "name": "ipython",
    "version": 3
   },
   "file_extension": ".py",
   "mimetype": "text/x-python",
   "name": "python",
   "nbconvert_exporter": "python",
   "pygments_lexer": "ipython3",
   "version": "3.6.4"
  }
 },
 "nbformat": 4,
 "nbformat_minor": 2
}
