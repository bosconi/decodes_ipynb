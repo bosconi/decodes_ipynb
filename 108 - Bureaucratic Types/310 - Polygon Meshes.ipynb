{
 "cells": [
  {
   "cell_type": "code",
   "execution_count": null,
   "metadata": {},
   "outputs": [],
   "source": [
    "from decodes.core import *\n",
    "from decodes.io.jupyter_out import JupyterOut\n",
    "import math\n",
    "\n",
    "out = JupyterOut.unit_square( )"
   ]
  },
  {
   "cell_type": "markdown",
   "metadata": {},
   "source": [
    "# Polygon Meshes\n",
    "todo"
   ]
  },
  {
   "cell_type": "markdown",
   "metadata": {},
   "source": [
    "<img src=\"http://geometric-computation-images.s3-website-us-east-1.amazonaws.com/1.07.P28.jpg\" style=\"width: 200px; display: inline;\">\n"
   ]
  },
  {
   "cell_type": "markdown",
   "metadata": {},
   "source": [
    "## Elements of a Mesh"
   ]
  },
  {
   "cell_type": "markdown",
   "metadata": {},
   "source": [
    "<img src=\"http://geometric-computation-images.s3-website-us-east-1.amazonaws.com/1.07.P12.jpg\" style=\"width: 600px; display: inline;\">\n"
   ]
  },
  {
   "cell_type": "markdown",
   "metadata": {},
   "source": [
    "## Mesh Objects in Decod.es"
   ]
  },
  {
   "cell_type": "markdown",
   "metadata": {},
   "source": [
    "<img src=\"http://geometric-computation-images.s3-website-us-east-1.amazonaws.com/3.00.D68 Mesh Large.jpg\" style=\"width: 800px; display: inline;\">"
   ]
  },
  {
   "cell_type": "code",
   "execution_count": null,
   "metadata": {},
   "outputs": [],
   "source": [
    "\"\"\"\n",
    "Mesh Initialization\n",
    "Meshes are constructed in much the same way as other HasPts objects, relying on \n",
    "arguments passed through to the superclass constructor for the defining of basic \n",
    "members, and only then initializing a private collection to store faces.\n",
    "\"\"\"\n",
    "class Mesh(HasPts):\n",
    "    def __init__(self, vertices=None, faces=None, basis=None):\n",
    "         #HasPts constructor handles initalization of verts and basis\n",
    "        super(Mesh,self).__init__(vertices,basis)\n",
    "        self._faces = [] if (faces is None) else faces"
   ]
  },
  {
   "cell_type": "markdown",
   "metadata": {},
   "source": [
    "<img src=\"http://geometric-computation-images.s3-website-us-east-1.amazonaws.com/1.07.P13.jpg\" style=\"width: 200px; display: inline;\">\n"
   ]
  },
  {
   "cell_type": "markdown",
   "metadata": {},
   "source": [
    "<img src=\"http://geometric-computation-images.s3-website-us-east-1.amazonaws.com/1.07.P14.jpg\" style=\"width: 200px; display: inline;\">\n"
   ]
  },
  {
   "cell_type": "markdown",
   "metadata": {},
   "source": [
    "<img src=\"http://geometric-computation-images.s3-website-us-east-1.amazonaws.com/1.07.P15.jpg\" style=\"width: 200px; display: inline;\">\n"
   ]
  },
  {
   "cell_type": "code",
   "execution_count": null,
   "metadata": {},
   "outputs": [],
   "source": [
    "\"\"\"\n",
    "Face Management\n",
    "The Decod.es Mesh offers minimal methods for managing faces. In the first method\n",
    "below, a single face that relates three or four Points is added to the private \n",
    "collection _faces. The second method below defines a property faces that \n",
    "provides access to this private collection.\n",
    "\"\"\"\n",
    "def add_face(self,a,b,c,d=None):\n",
    "    if is not None : self._faces.append([a,b,c,d])\n",
    "    else: self._faces.append([a,b,c])\n",
    "    \n",
    "@property\n",
    "def faces(self):\n",
    "    return self._faces"
   ]
  },
  {
   "cell_type": "code",
   "execution_count": null,
   "metadata": {},
   "outputs": [],
   "source": [
    "\"\"\"\n",
    "Querying Face Properties\n",
    "Given the minimal structure of a Decod.es Mesh, a range of geometric properties \n",
    "may be calculated for any mesh face identified by index. The first function \n",
    "below simply returns the points of the desired face. Using this information, \n",
    "the second calculates its centroid. Finally, the third calculates the normal \n",
    "vector of the desired face, accounting for four-sided faces where necessary.\n",
    "\"\"\"\n",
    "def face_pts(self,idx):\n",
    "    return [self.pts[i] for i in self.faces[idx]]\n",
    "    \n",
    "def face_centroid(self,idx):\n",
    "    return Point.centroid(self.face_pts(idx))\n",
    "    \n",
    "def face_normal(self,idx):\n",
    "    pts = self.face_pts(idx)\n",
    "    va = Vec(pts[0],pts[1]).cross(Vec(pts[0],pts[2])).normalized()\n",
    "    if len(verts) == 3 : return va\n",
    "    \n",
    "    vb = Vec(pts[2],pts[3]).cross(Vec(pts[2],pts[1])).normalized()\n",
    "    return Vec.bisector(va,vb).normalized()"
   ]
  },
  {
   "cell_type": "markdown",
   "metadata": {},
   "source": [
    "### Mesh Usage"
   ]
  },
  {
   "cell_type": "markdown",
   "metadata": {},
   "source": [
    "<img src=\"http://geometric-computation-images.s3-website-us-east-1.amazonaws.com/1.07.P21.jpg\" style=\"width: 200px; display: inline;\">\n"
   ]
  },
  {
   "cell_type": "code",
   "execution_count": null,
   "metadata": {},
   "outputs": [],
   "source": [
    "\"\"\"\n",
    "Mesh Quad Corner-to-Center Subdivision\n",
    "\"\"\"\n",
    "def quadsub_corner_to_ctr(msh, fac_idx):\n",
    "    # append a Point at the face center, and find index\n",
    "    msh.append( msh.face_centroid(fac_idx) )\n",
    "    ctr_idx = len(msh)-1\n",
    "    # find indices of corners of existing face\n",
    "    cnr_idxs = msh._faces[fac_idx]\n",
    "    \n",
    "    # add four new faces\n",
    "    msh.add_face(cnr_idxs[0],cnr_idxs[1],ctr_idx)\n",
    "    msh.add_face(cnr_idxs[1],cnr_idxs[2],ctr_idx)\n",
    "    msh.add_face(cnr_idxs[2],cnr_idxs[3],ctr_idx)\n",
    "    msh.add_face(cnr_idxs[3],cnr_idxs[0],ctr_idx)\n",
    "    \n",
    "    # remove the existing face\n",
    "    del msh._faces[fac_idx]"
   ]
  }
 ],
 "metadata": {
  "kernelspec": {
   "display_name": "Python 2",
   "language": "python",
   "name": "python2"
  },
  "language_info": {
   "codemirror_mode": {
    "name": "ipython",
    "version": 2
   },
   "file_extension": ".py",
   "mimetype": "text/x-python",
   "name": "python",
   "nbconvert_exporter": "python",
   "pygments_lexer": "ipython2",
   "version": "2.7.10"
  }
 },
 "nbformat": 4,
 "nbformat_minor": 2
}
