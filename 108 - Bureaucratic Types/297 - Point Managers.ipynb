{
 "cells": [
  {
   "cell_type": "code",
   "execution_count": null,
   "metadata": {},
   "outputs": [],
   "source": [
    "from decodes.core import *\n",
    "from decodes.io.jupyter_out import JupyterOut\n",
    "import math\n",
    "\n",
    "out = JupyterOut.unit_square( )"
   ]
  },
  {
   "cell_type": "markdown",
   "metadata": {},
   "source": [
    "# Point Managers\n",
    "todo"
   ]
  },
  {
   "cell_type": "markdown",
   "metadata": {},
   "source": [
    "<img src=\"http://geometric-computation-images.s3-website-us-east-1.amazonaws.com/1.07.P27.jpg\" style=\"width: 200px; display: inline;\">\n"
   ]
  },
  {
   "cell_type": "markdown",
   "metadata": {},
   "source": [
    "## HasPts Objects in Decod.es"
   ]
  },
  {
   "cell_type": "markdown",
   "metadata": {},
   "source": [
    "<img src=\"http://geometric-computation-images.s3-website-us-east-1.amazonaws.com/3.00.D50 HasPts Expanded.jpg\" style=\"width: 200px; display: inline;\">\n"
   ]
  },
  {
   "cell_type": "markdown",
   "metadata": {},
   "source": [
    "### HasPts Members and Methods"
   ]
  },
  {
   "cell_type": "code",
   "execution_count": null,
   "metadata": {},
   "outputs": [],
   "source": [
    "\"\"\"\n",
    "HasPts Initialization\n",
    "The abstract HasPts constructor takes a set of vertices in local coordinates \n",
    "and a CS basis.\n",
    "\"\"\"\n",
    "    def __init__(self, verts=None,basis=None):\n",
    "        self._verts = []\n",
    "        # append verts before basis to ensure local interpretation\n",
    "        if verts is not None: self.append(verts)\n",
    "        self._basis = basis"
   ]
  },
  {
   "cell_type": "code",
   "execution_count": null,
   "metadata": {},
   "outputs": [],
   "source": [
    "\"\"\"\n",
    "HasPts Points\n",
    "Here, the local vertices contained within this HasPts are transformed into \n",
    "global Points by evaluating these coordinates by the stored CS.\n",
    "\"\"\"\n",
    "@property\n",
    "def pts(self):\n",
    "    if self.is_baseless :  return tuple([Point(v) for v in self._verts])\n",
    "    return tuple([Point(self._basis.eval(v)) for v in self._verts])"
   ]
  },
  {
   "cell_type": "markdown",
   "metadata": {},
   "source": [
    "TODO: HasPts properties and methods"
   ]
  },
  {
   "cell_type": "markdown",
   "metadata": {},
   "source": [
    "## PLine Objects in Decod.es"
   ]
  },
  {
   "cell_type": "markdown",
   "metadata": {},
   "source": [
    "<img src=\"http://geometric-computation-images.s3-website-us-east-1.amazonaws.com/3.00.D56 Pline Large.jpg\" style=\"width: 800px; display: inline;\">\n"
   ]
  },
  {
   "cell_type": "code",
   "execution_count": null,
   "metadata": {},
   "outputs": [],
   "source": [
    "\"\"\"\n",
    "Polyline Segment\n",
    "Returns a Segment of this PLine that is associated with a given index. If a \n",
    "negative index or an index larger than the number of Segments is given, the \n",
    "index is modified such that the resulting Segments cycle across the length of \n",
    "the PLine.\n",
    "\"\"\"\n",
    "def seg(self,idx):\n",
    "    idx = idx%(len(self)-1)\n",
    "    return Segment(self.pts[idx],self.pts[idx+1])"
   ]
  },
  {
   "cell_type": "code",
   "execution_count": null,
   "metadata": {},
   "outputs": [],
   "source": [
    "\"\"\"\n",
    "Polyline Edges\n",
    "Returns the all the Segments contained within this PLine.\n",
    "\"\"\"\n",
    "@property\n",
    "def edges(self):\n",
    "    return tuple([ self.seg(n) for n in range(len(self)-1) ])"
   ]
  },
  {
   "cell_type": "markdown",
   "metadata": {},
   "source": [
    "<img src=\"http://geometric-computation-images.s3-website-us-east-1.amazonaws.com/1.07.P16.jpg\" style=\"width: 200px; display: inline;\">\n"
   ]
  },
  {
   "cell_type": "code",
   "execution_count": null,
   "metadata": {},
   "outputs": [],
   "source": [
    "\"\"\"\n",
    "Polyline Evaluation\n",
    "Evaluates this PLine at the given normalized parameter t.\n",
    "\"\"\"\n",
    "def eval(self,t):\n",
    "    if t == 0.0 : return self.pts[0]\n",
    "    if t == 1.0 : return self.pts[-1]\n",
    "    for seg,ival in zip(self.edges, Interval()//(len(self)-1)):\n",
    "        if t in ival: return seg.eval(ival.deval(t))"
   ]
  },
  {
   "cell_type": "code",
   "execution_count": null,
   "metadata": {},
   "outputs": [],
   "source": [
    "\"\"\"\n",
    "Polyline Reversal\n",
    "Returns a copy of this PLine with the vertices reversed, an action which \n",
    "requires direct access to the private _verts member.\n",
    "\"\"\"\n",
    "def reversed(self):\n",
    "    return PLine(reversed(self._verts),self.basis)"
   ]
  },
  {
   "cell_type": "markdown",
   "metadata": {},
   "source": [
    "# Accessing and Manipulating HasPts Objects\n",
    "todo"
   ]
  },
  {
   "cell_type": "code",
   "execution_count": null,
   "metadata": {},
   "outputs": [],
   "source": [
    "\"\"\"\n",
    "HasPts Vector Compatibility\n",
    "Given either a Point in world space or a Vec in local space, this private \n",
    "method returns a location compatible with the basis of this HasPts object. \n",
    "This may require devaluating the given coordinate by the basis CS.\n",
    "\"\"\"\n",
    "def _compatible_vec(self,other):\n",
    "    # if this object is baseless, return raw coords\n",
    "    if self.is_baseless:  return Vec(other) \n",
    "    # if based, and the other is a Point, devaluate by basis\n",
    "    if isinstance(other, Point): return Vec(self._basis.deval(other))\n",
    "    # if based, and other has xyz coords, return raw coords\n",
    "    return Vec(other)"
   ]
  },
  {
   "cell_type": "code",
   "execution_count": 1,
   "metadata": {},
   "outputs": [],
   "source": [
    "\"\"\"\n",
    "HasPts Append\n",
    "Appends the given Point or collection of Points to the List of vertices \n",
    "maintained by this HasPts. Each given coordinate is processed to ensure \n",
    "compatibility with this geometry's basis.\n",
    "\"\"\"\n",
    "def append(self,obj):\n",
    "    try : \n",
    "        for p in obj : \n",
    "            self._verts.append(self._compatible_vec(p))\n",
    "    except : \n",
    "        self._verts.append(self._compatible_vec(obj))"
   ]
  },
  {
   "cell_type": "markdown",
   "metadata": {},
   "source": [
    "### Case 1: PLine Construction by Points Only\n",
    "<img src=\"http://geometric-computation-images.s3-website-us-east-1.amazonaws.com/1.07.P01.jpg\" style=\"width: 200px; display: inline;\">\n"
   ]
  },
  {
   "cell_type": "code",
   "execution_count": null,
   "metadata": {},
   "outputs": [],
   "source": [
    "pl = PLine(pts)"
   ]
  },
  {
   "cell_type": "markdown",
   "metadata": {},
   "source": [
    "### Case 2: PLine Construction By Basis And Vertices\n",
    "<img src=\"http://geometric-computation-images.s3-website-us-east-1.amazonaws.com/1.07.P02.jpg\" style=\"width: 200px; display: inline;\">\n"
   ]
  },
  {
   "cell_type": "code",
   "execution_count": null,
   "metadata": {},
   "outputs": [],
   "source": [
    "pl = PLine(pts,cs)"
   ]
  },
  {
   "cell_type": "markdown",
   "metadata": {},
   "source": [
    "### Case 3: Appending Coords To A Baseless PLine\n",
    "<img src=\"http://geometric-computation-images.s3-website-us-east-1.amazonaws.com/1.07.P03.jpg\" style=\"width: 200px; display: inline;\">\n"
   ]
  },
  {
   "cell_type": "code",
   "execution_count": null,
   "metadata": {},
   "outputs": [],
   "source": [
    "pl = PLine(pts)\n",
    "pl.append(Point(0,0,1.5))"
   ]
  },
  {
   "cell_type": "markdown",
   "metadata": {},
   "source": [
    "### Case 4: Altering Points Of A Based PLine\n",
    "<img src=\"http://geometric-computation-images.s3-website-us-east-1.amazonaws.com/1.07.P04.jpg\" style=\"width: 200px; display: inline;\">\n"
   ]
  },
  {
   "cell_type": "code",
   "execution_count": null,
   "metadata": {},
   "outputs": [],
   "source": [
    "pl = PLine(pts,cs)\n",
    "pl[-1] = Vec(0,0,1.5)"
   ]
  },
  {
   "cell_type": "markdown",
   "metadata": {},
   "source": [
    "### Case 5: Altering The Basis Of A Based PLine\n",
    "<img src=\"http://geometric-computation-images.s3-website-us-east-1.amazonaws.com/1.07.P05.jpg\" style=\"width: 200px; display: inline;\">\n"
   ]
  },
  {
   "cell_type": "code",
   "execution_count": null,
   "metadata": {},
   "outputs": [],
   "source": [
    "pl = PLine(pts,cs)\n",
    "pl.basis = CS(Point(2,0),Vec(-1,0))"
   ]
  },
  {
   "cell_type": "markdown",
   "metadata": {},
   "source": [
    "### Case 6: Appending Coords To A Based PLine\n",
    "<img src=\"http://geometric-computation-images.s3-website-us-east-1.amazonaws.com/1.07.P06.jpg\" style=\"width: 200px; display: inline;\">\n"
   ]
  },
  {
   "cell_type": "code",
   "execution_count": null,
   "metadata": {},
   "outputs": [],
   "source": [
    "pl = PLine(pts,cs)\n",
    "pl.append(Vec(0,0,1.5))\n",
    "pl.append(Point(2,0,2))"
   ]
  },
  {
   "cell_type": "markdown",
   "metadata": {},
   "source": [
    "# PGon and RGon Objects in Decod.es\n",
    "todo"
   ]
  },
  {
   "cell_type": "markdown",
   "metadata": {},
   "source": [
    "<img src=\"http://geometric-computation-images.s3-website-us-east-1.amazonaws.com/1.07.C01.jpg\" style=\"width: 800px; display: inline;\">\n"
   ]
  },
  {
   "cell_type": "markdown",
   "metadata": {},
   "source": [
    "### PGons in Decod.es"
   ]
  },
  {
   "cell_type": "code",
   "execution_count": null,
   "metadata": {},
   "outputs": [],
   "source": [
    "\"\"\"\n",
    "PGon Initialization\n",
    "The PGon constructor takes a defined basis, a collection of vertices, or both. \n",
    "If only a collection of verts is given, these are interpreted as world-space \n",
    "Points, and an attempt is made to find a Plane in which they lie.\n",
    "\"\"\"\n",
    "class PGon(HasPts):\n",
    "    def __init__(self, vertices=None, basis=None):\n",
    "        if basis is None and vertices is None : raise GeometricError()\n",
    "        # if vertices have been provided, but no basis:\n",
    "        if basis is None:\n",
    "            # find the plane that best fits the given world-space Points\n",
    "            # define a CS using the first three Points given\n",
    "            # initialize using the CS and given Points via HasPts constructor\n",
    "        # if only a basis or a basis and vertices have been provided:\n",
    "        else:\n",
    "            #strip the z-coordinate and initialize via HasPts constructor\n",
    "            super(PGon,self).__init__([Vec(v.x,v.y) for v in vertices],basis)\n",
    "            # initialize the the basis \n",
    "            self.basis = basis "
   ]
  },
  {
   "cell_type": "code",
   "execution_count": null,
   "metadata": {},
   "outputs": [],
   "source": [
    "\"\"\"\n",
    "PGon Append\n",
    "When a new location is added to an existing PGon, each Point or Vec given is \n",
    "first processed by the HasPts appending mechanism, and then, after they have\n",
    "been added to the list of stored _verts, they are processed to ensure planarity.\n",
    "\"\"\"\n",
    "def append(self,pts):\n",
    "    super(PGon,self).append(pts)\n",
    "    try:\n",
    "        for n in range(len(pts)): self._verts[-(n+1)].z = 0\n",
    "    except:\n",
    "        self._verts[-1].z = 0   "
   ]
  },
  {
   "cell_type": "code",
   "execution_count": null,
   "metadata": {},
   "outputs": [],
   "source": [
    "\"\"\"\n",
    "PGon Segments and Edges\n",
    "The PGon class constructs Segments and edges differently than a PLine object \n",
    "in Decod.es, accounting for the closed nature of a polygon by including the \n",
    "last Segment that connects the last vertex to the first.\n",
    "\"\"\"\n",
    "def seg(self,idx):\n",
    "    idx_a, idx_b = idx%(len(self)), (idx+1)%(len(self))\n",
    "    return Segment(self.pts[idx_a],self.pts[idx_b])\n",
    "        \n",
    "@property\n",
    "def edges(self):\n",
    "    return [self.seg(n) for n in range(len(self))]"
   ]
  },
  {
   "cell_type": "markdown",
   "metadata": {},
   "source": [
    "### RGons in Decod.es"
   ]
  },
  {
   "cell_type": "markdown",
   "metadata": {},
   "source": [
    "<img src=\"http://geometric-computation-images.s3-website-us-east-1.amazonaws.com/1.07.P17.jpg\" style=\"width: 200px; display: inline;\">\n"
   ]
  },
  {
   "cell_type": "code",
   "execution_count": null,
   "metadata": {},
   "outputs": [],
   "source": [
    "\"\"\"\n",
    "Computing the Vertices of a RGon\n",
    "To fulfill its responsibilities as a HasPts, a Decod.es RGon must compute a set\n",
    "of vertices from its core members.\n",
    "\"\"\"\n",
    "stp = pi*2.0/num_of_sides\n",
    "crds = [(radius*cos(stp*n), radius*sin(stp*n)) for n in range(num_of_sides)]\n",
    "verts = [Point(x,y) for x,y in crds]"
   ]
  },
  {
   "cell_type": "code",
   "execution_count": null,
   "metadata": {},
   "outputs": [],
   "source": [
    "\"\"\"\n",
    "Appending Vertices to an RGon\n",
    "It is not possible to append vertices to an RGon. \n",
    "\"\"\"\n",
    "def append(self,pts):\n",
    "    raise GeometricError(\"I can't even. You can't append vertices to a RGon!\")"
   ]
  },
  {
   "cell_type": "markdown",
   "metadata": {},
   "source": [
    "<img src=\"http://geometric-computation-images.s3-website-us-east-1.amazonaws.com/1.07.P18.jpg\" style=\"width: 200px; display: inline;\">\n"
   ]
  },
  {
   "cell_type": "code",
   "execution_count": null,
   "metadata": {},
   "outputs": [],
   "source": [
    "\"\"\"\n",
    "RGon Inflate\n",
    "Constructs an RGon inscribing the given RGon by specifying the t-value of the \n",
    "intersection point.\n",
    "\"\"\"\n",
    "def inflate(self, t):\n",
    "    pa = Point.interpolate(self.pts[0],self.pts[1],t)\n",
    "    o = self._basis.origin\n",
    "    x,y = Vec(o,pa), self._basis.z_axis.cross(Vec(o,pa))\n",
    "    r = o.dist(pt_a)\n",
    "    return RGon(self._nos, basis = CS(o,x,y), radius = r)"
   ]
  },
  {
   "cell_type": "code",
   "execution_count": null,
   "metadata": {},
   "outputs": [],
   "source": [
    "\"\"\"\n",
    "RGon Deflate\n",
    "Constructs an RGon circumscribing the given RGon by specifying the t-value of \n",
    "the perpendicular point.\n",
    "\"\"\"\n",
    "def deflate(self, t):\n",
    "    pa = Point.interpolate(self.pts[0],self.pts[1],t)\n",
    "    pb = Point.interpolate(self.pts[-1],self.pts[0],t)\n",
    "    o = self._basis.origin\n",
    "    x,y = Vec(o,pa), self._basis.z_axis.cross(Vec(o,pa))\n",
    "    vec_perp = (Vec(pb, pa).cross(self._basis.z_axis)).normalized()\n",
    "    a = Vec(o,self.pts[0]).dot(vec_perp)\n",
    "    return RGon(self._nos, basis=CS(o,x,y), apothem = a)"
   ]
  },
  {
   "cell_type": "markdown",
   "metadata": {},
   "source": [
    "<img src=\"http://geometric-computation-images.s3-website-us-east-1.amazonaws.com/1.07.P19.jpg\" style=\"width: 200px; display: inline;\">\n"
   ]
  },
  {
   "cell_type": "markdown",
   "metadata": {},
   "source": [
    "<img src=\"http://geometric-computation-images.s3-website-us-east-1.amazonaws.com/1.07.P20.jpg\" style=\"width: 200px; display: inline;\">\n"
   ]
  },
  {
   "cell_type": "code",
   "execution_count": null,
   "metadata": {},
   "outputs": [],
   "source": []
  }
 ],
 "metadata": {
  "kernelspec": {
   "display_name": "Python 2",
   "language": "python",
   "name": "python2"
  },
  "language_info": {
   "codemirror_mode": {
    "name": "ipython",
    "version": 2
   },
   "file_extension": ".py",
   "mimetype": "text/x-python",
   "name": "python",
   "nbconvert_exporter": "python",
   "pygments_lexer": "ipython2",
   "version": "2.7.10"
  }
 },
 "nbformat": 4,
 "nbformat_minor": 2
}
