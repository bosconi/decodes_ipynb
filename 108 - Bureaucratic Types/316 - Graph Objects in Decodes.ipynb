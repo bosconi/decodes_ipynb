{
 "cells": [
  {
   "cell_type": "code",
   "execution_count": 2,
   "metadata": {},
   "outputs": [
    {
     "name": "stdout",
     "output_type": "stream",
     "text": [
      "http://decod.es/\tv0.2.3\n",
      "io loaded\n"
     ]
    }
   ],
   "source": [
    "from decodes.core import *\n",
    "from decodes.io.jupyter_out import JupyterOut\n",
    "import math\n",
    "\n",
    "out = JupyterOut.unit_square( )"
   ]
  },
  {
   "cell_type": "markdown",
   "metadata": {},
   "source": [
    "# Graph Objects in Decod.es\n",
    "If our vector-based point of view is stretched to account for meshes and rasters, the subject of this section, the graph, breaks the utility of a vector approach entirely.\n",
    "\n",
    "***A graph is understood as a representation of a network of nodes and connections.*** The value of graphs lies in their capacity to reveal essential structures within a set of relationships."
   ]
  },
  {
   "cell_type": "markdown",
   "metadata": {},
   "source": [
    "<img src=\"http://geometric-computation-images.s3-website-us-east-1.amazonaws.com/1.07.C08.jpg\" style=\"width: 200px; display: inline;\">\n"
   ]
  },
  {
   "cell_type": "markdown",
   "metadata": {},
   "source": [
    "## Elements of a Graph"
   ]
  },
  {
   "cell_type": "markdown",
   "metadata": {},
   "source": [
    "A graph is made up of a set of discrete elements called ***nodes*** that are associated with objects, and a set of ***edges*** that associate pairs of nodes. \n",
    "\n",
    "These edges may be ***directional***, in which case they are often depicted with the addition of an arrow, or ***non-directional***. The Decod.es Graph is implemented as a directional manner, but allows relationships to be defined in a way that adds two edges at a time, thereby acting as bi-directional or non-directional.\n",
    "\n"
   ]
  },
  {
   "cell_type": "markdown",
   "metadata": {},
   "source": [
    "In Decod.es, a Graph is defined as an object with three members, each of which is a collection type that we have not often seen applied:\n",
    "\n",
    "* `gph.nodes` describes the nodes of a Graph as a Python Set of unique arbitrary objects\n",
    "* `gph.edges` describes the relationships between nodes using a Python Dict\n",
    "* `gph.weights` also uses a Python Dict, and describes the relative weight of each edge of the Graph."
   ]
  },
  {
   "cell_type": "markdown",
   "metadata": {},
   "source": [
    "<img src=\"http://geometric-computation-images.s3-website-us-east-1.amazonaws.com/1.07.C02.jpg\" style=\"width: 600px; display: inline;\">\n"
   ]
  },
  {
   "cell_type": "markdown",
   "metadata": {},
   "source": [
    "The `gph.nodes` member relies on the nature of the Python Set to ensure that no duplicate nodes may exist on the Graph. \n",
    "\n",
    "This enforced uniqueness allows us to structure `gph.edges` as a Dict that uses objects known to be stored in `gph.nodes` as its keys, and to thereby associate each node with a dictionary entry that contains all the other nodes to which it is connected. \n",
    "\n",
    "Structuring the `gph.edges` Dict in such a manner makes retrieving all the edges related to a given node nod a simple matter of calling `gph.edges[nod]`. \n",
    "\n",
    "Weights are similarly structured as a dictionary, but are ***keyed by pairs of nodes*** that are associated with numeric weights. \n",
    "\n",
    "As an example of using these structures together, to find the weight of the first edge that originates at node `nod`, we would pass a Tuple of the given node and the partner indicated by the first item of the edges List, as in `gph.weights[(nod, gph.edges[nod][0])]`"
   ]
  },
  {
   "cell_type": "markdown",
   "metadata": {},
   "source": [
    "<img src=\"http://geometric-computation-images.s3-website-us-east-1.amazonaws.com/1.07.P34.jpg\" style=\"width: 200px; display: inline;\">\n"
   ]
  },
  {
   "cell_type": "markdown",
   "metadata": {},
   "source": [
    "An example. Imagine that we are exploring the geographical distribution of major American cities, and want to better understand how clusters of large cities are connected to one another. We could explore these relationships in a graph, which might illuminate these relationships more clearly by describing each city as a node, and the driving time between two cities as a weighted edge."
   ]
  },
  {
   "cell_type": "markdown",
   "metadata": {},
   "source": [
    "<img src=\"http://geometric-computation-images.s3-website-us-east-1.amazonaws.com/1.07.P09.jpg\" style=\"width: 200px; display: inline;\">\n"
   ]
  },
  {
   "cell_type": "markdown",
   "metadata": {},
   "source": [
    "If each city is described by an abbreviated String, then this data would manifest as a Decod.es Graph that stores Strings as nodes, and relates Strings to other Strings by edges that are weighted by Integers that describe driving distances.\n",
    "\n",
    "In this case, `gph.edges` is a Dict keyed by Strings found in `gph.nodes`, and which returns other such Strings. Similarly, `gph.weights` is a Dict keyed by pairs of Strings found in `gph.nodes`, and which returns numeric values.\n",
    "\n",
    "To build such a construction, a Graph must be initialized and populated. This is conveniently done using the `gph.add_edge()` method of an existing Graph, which automatically handles the addition of nodes, edges, and weights as needed. Two nodes must be provided to this method (a from-node and a to-node) as well as an optional weight for the resulting edge."
   ]
  },
  {
   "cell_type": "code",
   "execution_count": 3,
   "metadata": {},
   "outputs": [
    {
     "data": {
      "text/plain": [
       "True"
      ]
     },
     "execution_count": 3,
     "metadata": {},
     "output_type": "execute_result"
    }
   ],
   "source": [
    "\"\"\"\n",
    "Initializing and Populating a Graph\n",
    "The add_edge method orchestrates the addition of objects to the three members \n",
    "of a Graph. First, if the given nodes are not yet stored in the gph.nodes Set, \n",
    "they are added. Next, two relationships are defined in the gph.edges Dict if \n",
    "the edge is bidirectional and just one is added if the edge is not. Finally, \n",
    "the weight of the edge is logged in the gph.weights member.\n",
    "\"\"\"\n",
    "gph = Graph()\n",
    "gph.add_edge(\"LAX\",\"NYC\",42)\n",
    "gph.add_edge(\"CHI\",\"NYC\",13)\n",
    "gph.add_edge(\"CHI\",\"LAX\",30)\n",
    "gph.add_edge(\"HOU\",\"NYC\",24)\n"
   ]
  },
  {
   "cell_type": "markdown",
   "metadata": {},
   "source": [
    "Given a populated Graph, we may access the edges associated with any node by passing the appropriate key to the gph.edges Dict.\n",
    "\n",
    "Notice in the output that results from the code below, that the “NYC” node is the origin for edges connected to three other nodes, even though the `gph.add_edge()` method was never called with “NYC” as a from-node. This behavior reflects that of a bidirectional graph, wherein each edge is assumed to describe a two-way relationship."
   ]
  },
  {
   "cell_type": "code",
   "execution_count": 5,
   "metadata": {},
   "outputs": [
    {
     "name": "stdout",
     "output_type": "stream",
     "text": [
      "['LAX', 'CHI', 'HOU']\n"
     ]
    }
   ],
   "source": [
    "\"\"\"\n",
    "Accessing Graph Edges\n",
    "A List of edges associated with a given object may be accessed by passing the \n",
    "object as a key to the gph.edges Dict.\n",
    "\"\"\"\n",
    "print (gph.edges[\"NYC\"])"
   ]
  },
  {
   "cell_type": "markdown",
   "metadata": {},
   "source": [
    "The use of a Python Dict to describe Graph edges allows us to take advantage of the `items()` method to iterate over pairs of nodes. The code seen below is identical to that of the gph.node_pairs property."
   ]
  },
  {
   "cell_type": "code",
   "execution_count": 4,
   "metadata": {},
   "outputs": [
    {
     "name": "stdout",
     "output_type": "stream",
     "text": [
      "NYC  ->  LAX\n",
      "NYC  ->  CHI\n",
      "NYC  ->  HOU\n",
      "HOU  ->  NYC\n",
      "LAX  ->  NYC\n",
      "LAX  ->  CHI\n",
      "CHI  ->  NYC\n",
      "CHI  ->  LAX\n"
     ]
    }
   ],
   "source": [
    "\"\"\"\n",
    "Iterating Graph Edges\n",
    "To iterate over all the edges of a Graph, we may rely on the edges.items() \n",
    "method, which returns key-value pairs. Note that in the case of bidirectional \n",
    "edges, this method produces duplicate pairs of nodes in reverse order. This \n",
    "procedure is implemented as the gph.node_pairs property.\n",
    "\"\"\"\n",
    "for nod_a, others in gph.edges.items():\n",
    "    for nod_b in others:\n",
    "        print nod_a, \" -> \", nod_b"
   ]
  },
  {
   "cell_type": "markdown",
   "metadata": {},
   "source": [
    "<img src=\"http://geometric-computation-images.s3-website-us-east-1.amazonaws.com/1.07.P08.jpg\" style=\"width: 600px; display: inline;\">\n"
   ]
  },
  {
   "cell_type": "markdown",
   "metadata": {},
   "source": [
    "The following routine demonstrates how to access the weight of a given edge.\n",
    "\n",
    "Here, we iterate over each pair of nodes that are related by an edge on our Graph. Since the `gph.weights` member is a Dict that is keyed by exactly this pairing, access to the weight of each edge is quite simple. Note that the order in which the below code iterates over pairs of nodes is not the same as the order in which nodes were added to our Graph via the `gph.add_edge()` method. This is due to the unordered nature of both collection types involved; both Dicts and Sets do not offer a means to retrieve stored data in order."
   ]
  },
  {
   "cell_type": "code",
   "execution_count": 5,
   "metadata": {},
   "outputs": [
    {
     "name": "stdout",
     "output_type": "stream",
     "text": [
      "driving from NYC to LAX takes 42 hours\n",
      "driving from NYC to CHI takes 13 hours\n",
      "driving from NYC to HOU takes 24 hours\n",
      "driving from HOU to NYC takes 24 hours\n",
      "driving from LAX to NYC takes 42 hours\n",
      "driving from LAX to CHI takes 30 hours\n",
      "driving from CHI to NYC takes 13 hours\n",
      "driving from CHI to LAX takes 30 hours\n"
     ]
    }
   ],
   "source": [
    "\"\"\"\n",
    "Accessing Graph Weights\n",
    "By using the gph.node_pairs property to iterate the edges of a Graph, we can \n",
    "generate pairs of nodes that may be used to access edge weights.\n",
    "\"\"\"\n",
    "for nod_a, nod_b in gph.node_pairs:\n",
    "    str = \"driving from {} to {} takes {} hours\"\n",
    "    print str.format(nod_a, nod_b, gph.weights[(nod_a,nod_b)])"
   ]
  },
  {
   "cell_type": "code",
   "execution_count": null,
   "metadata": {},
   "outputs": [],
   "source": []
  }
 ],
 "metadata": {
  "kernelspec": {
   "display_name": "Python 3",
   "language": "python",
   "name": "python3"
  },
  "language_info": {
   "codemirror_mode": {
    "name": "ipython",
    "version": 3
   },
   "file_extension": ".py",
   "mimetype": "text/x-python",
   "name": "python",
   "nbconvert_exporter": "python",
   "pygments_lexer": "ipython3",
   "version": "3.6.4"
  }
 },
 "nbformat": 4,
 "nbformat_minor": 2
}
