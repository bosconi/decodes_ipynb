{
 "cells": [
  {
   "cell_type": "code",
   "execution_count": null,
   "metadata": {},
   "outputs": [],
   "source": [
    "from decodes.core import *\n",
    "from decodes.io.jupyter_out import JupyterOut\n",
    "import math\n",
    "\n",
    "out = JupyterOut.unit_square( )"
   ]
  },
  {
   "cell_type": "markdown",
   "metadata": {},
   "source": [
    "# Graph Objects in Decod.es\n",
    "todo"
   ]
  },
  {
   "cell_type": "markdown",
   "metadata": {},
   "source": [
    "<img src=\"http://geometric-computation-images.s3-website-us-east-1.amazonaws.com/1.07.C08.jpg\" style=\"width: 200px; display: inline;\">\n"
   ]
  },
  {
   "cell_type": "markdown",
   "metadata": {},
   "source": [
    "## Elements of a Graph"
   ]
  },
  {
   "cell_type": "markdown",
   "metadata": {},
   "source": [
    "<img src=\"http://geometric-computation-images.s3-website-us-east-1.amazonaws.com/1.07.C02.jpg\" style=\"width: 600px; display: inline;\">\n"
   ]
  },
  {
   "cell_type": "markdown",
   "metadata": {},
   "source": [
    "<img src=\"http://geometric-computation-images.s3-website-us-east-1.amazonaws.com/1.07.P34.jpg\" style=\"width: 200px; display: inline;\">\n"
   ]
  },
  {
   "cell_type": "markdown",
   "metadata": {},
   "source": [
    "<img src=\"http://geometric-computation-images.s3-website-us-east-1.amazonaws.com/1.07.P09.jpg\" style=\"width: 200px; display: inline;\">\n"
   ]
  },
  {
   "cell_type": "code",
   "execution_count": null,
   "metadata": {},
   "outputs": [],
   "source": [
    "\"\"\"\n",
    "Initializing and Populating a Graph\n",
    "The add_edge method orchestrates the addition of objects to the three members \n",
    "of a Graph. First, if the given nodes are not yet stored in the gph.nodes Set, \n",
    "they are added. Next, two relationships are defined in the gph.edges Dict if \n",
    "the edge is bidirectional and just one is added if the edge is not. Finally, \n",
    "the weight of the edge is logged in the gph.weights member.\n",
    "\"\"\"\n",
    "gph = Graph()\n",
    "gph.add_edge(\"LAX\",\"NYC\",42)\n",
    "gph.add_edge(\"CHI\",\"NYC\",13)\n",
    "gph.add_edge(\"CHI\",\"LAX\",30)\n",
    "gph.add_edge(\"HOU\",\"NYC\",24)\n",
    "..."
   ]
  },
  {
   "cell_type": "code",
   "execution_count": null,
   "metadata": {},
   "outputs": [],
   "source": [
    "\"\"\"\n",
    "Accessing Graph Edges\n",
    "A List of edges associated with a given object may be accessed by passing the \n",
    "object as a key to the gph.edges Dict.\n",
    "\"\"\"\n",
    "print gph.edges[\"NYC\"]"
   ]
  },
  {
   "cell_type": "code",
   "execution_count": null,
   "metadata": {},
   "outputs": [],
   "source": [
    "\"\"\"\n",
    "Iterating Graph Edges\n",
    "To iterate over all the edges of a Graph, we may rely on the edges.items() \n",
    "method, which returns key-value pairs. Note that in the case of bidirectional \n",
    "edges, this method produces duplicate pairs of nodes in reverse order. This \n",
    "procedure is implemented as the gph.node_pairs property.\n",
    "\"\"\"\n",
    "for nod_a, others in gph.edges.items():\n",
    "    for nod_b in others:\n",
    "        print nod_a, \" -> \", nod_b"
   ]
  },
  {
   "cell_type": "markdown",
   "metadata": {},
   "source": [
    "<img src=\"http://geometric-computation-images.s3-website-us-east-1.amazonaws.com/1.07.P08.jpg\" style=\"width: 600px; display: inline;\">\n"
   ]
  },
  {
   "cell_type": "code",
   "execution_count": null,
   "metadata": {},
   "outputs": [],
   "source": [
    "\"\"\"\n",
    "Accessing Graph Weights\n",
    "By using the gph.node_pairs property to iterate the edges of a Graph, we can \n",
    "generate pairs of nodes that may be used to access edge weights.\n",
    "\"\"\"\n",
    "for nod_a, nod_b in gph.node_pairs:\n",
    "    str = \"driving from {} to {} takes {} hours\"\n",
    "    print str.format(nod_a, nod_b, gph.weights[(nod_a,nod_b)])"
   ]
  }
 ],
 "metadata": {
  "kernelspec": {
   "display_name": "Python 2",
   "language": "python",
   "name": "python2"
  },
  "language_info": {
   "codemirror_mode": {
    "name": "ipython",
    "version": 2
   },
   "file_extension": ".py",
   "mimetype": "text/x-python",
   "name": "python",
   "nbconvert_exporter": "python",
   "pygments_lexer": "ipython2",
   "version": "2.7.10"
  }
 },
 "nbformat": 4,
 "nbformat_minor": 2
}
