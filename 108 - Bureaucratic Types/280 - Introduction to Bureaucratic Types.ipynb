{
 "cells": [
  {
   "cell_type": "code",
   "execution_count": null,
   "metadata": {},
   "outputs": [],
   "source": [
    "from decodes.core import *\n",
    "from decodes.io.jupyter_out import JupyterOut\n",
    "import math\n",
    "\n",
    "out = JupyterOut.unit_square( )"
   ]
  },
  {
   "cell_type": "markdown",
   "metadata": {},
   "source": [
    "# Introduction to Bureaucratic Types\n",
    "\n",
    "Up to this point, geometry has led the way in the creation of classes that support geometric concepts. The accumulation of these classes, while steady, has progressed slowly, with each geometric concept warranting the creation of only a small number of classes in code.\n",
    "\n",
    "This chapter represents a departure.\n",
    "\n",
    "Here, the motivating principle that leads our discussion is ***not geometric, but rather organizational***. \n",
    "\n",
    "While the types presented here include geometric objects familiar to users of CAD software a deeper understanding of these types requires very little geometry, and is instead enabled by ***a grasp of the particular structures of code that organize them***.\n",
    "\n",
    "A presentation of three families of types predominate this chapter:\n",
    "* The ***Raster family***, which supports the storage of data in rectangular\n",
    "matrices\n",
    "* The ***Basis Manager family***, which allows geometric objects to be defined in relation to their own private coordinate system; \n",
    "* The ***Point Manager family***, which manages collections of Points in relation to this local coordinate system. \n",
    "\n",
    "Each of these families contain a multiplicity of classes, and each of the types discussed here present a more ornate set of inheritance relationships than we have encountered thus far. The utility of these extended families of types is not found in the representation of geometry or in complex geometric operations, but rather in the organizational structures that they support."
   ]
  },
  {
   "cell_type": "markdown",
   "metadata": {},
   "source": [
    "<img src=\"http://geometric-computation-images.s3-website-us-east-1.amazonaws.com/1.07.P29.jpg\" style=\"width: 200px; display: inline;\">\n"
   ]
  },
  {
   "cell_type": "markdown",
   "metadata": {},
   "source": [
    "This chapter also introduces two additional types that are seen as a part of the essential toolkit in computer graphics but remain peripheral knowledge for those in the design disciplines. Among these are ***meshes*** and ***graphs***, both of which are defined by the relationships they maintain between networks of lower-level forms."
   ]
  }
 ],
 "metadata": {
  "kernelspec": {
   "display_name": "Python 3",
   "language": "python",
   "name": "python3"
  },
  "language_info": {
   "codemirror_mode": {
    "name": "ipython",
    "version": 3
   },
   "file_extension": ".py",
   "mimetype": "text/x-python",
   "name": "python",
   "nbconvert_exporter": "python",
   "pygments_lexer": "ipython3",
   "version": "3.6.4"
  }
 },
 "nbformat": 4,
 "nbformat_minor": 2
}
