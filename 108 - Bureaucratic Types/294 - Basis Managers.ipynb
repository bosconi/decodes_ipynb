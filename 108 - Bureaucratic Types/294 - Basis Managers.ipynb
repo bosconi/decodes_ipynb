{
 "cells": [
  {
   "cell_type": "code",
   "execution_count": null,
   "metadata": {},
   "outputs": [],
   "source": [
    "from decodes.core import *\n",
    "from decodes.io.jupyter_out import JupyterOut\n",
    "import math\n",
    "\n",
    "out = JupyterOut.unit_square( )"
   ]
  },
  {
   "cell_type": "markdown",
   "metadata": {},
   "source": [
    "# Basis Managers\n",
    "In Decod.es, a system of coordinates local to a particular geometry is termed a ***basis***. As is the case in many CAD applications, a basis is understood as an orthonormal frame that is defined in relation to another piece of geometry.\n",
    "\n",
    "Here, we actualize the image of a local coordinate system as a literal coordinate system object that is associated with a piece of Decod.es geometry, and upon which other attributes of this geometry may be based."
   ]
  },
  {
   "cell_type": "markdown",
   "metadata": {},
   "source": [
    "<img src=\"http://geometric-computation-images.s3-website-us-east-1.amazonaws.com/1.07.P23.jpg\" style=\"width: 200px; display: inline;\">\n"
   ]
  },
  {
   "cell_type": "markdown",
   "metadata": {},
   "source": [
    "## HasBasis Objects in Decod.es\n",
    "\n",
    "Any entity that has a basis inherits all the functionality of the HasBasis type, the most important of which is a coordinate system assigned to the member `hazbs._basis` and made accessible by a pair of getter and setter properties."
   ]
  },
  {
   "cell_type": "markdown",
   "metadata": {},
   "source": [
    "<img src=\"http://geometric-computation-images.s3-website-us-east-1.amazonaws.com/3.00.D44 Has Basis Large.jpg\" style=\"width: 800px; display: inline;\">\n"
   ]
  },
  {
   "cell_type": "markdown",
   "metadata": {},
   "source": [
    "Since HasBasis is abstract, we are under no obligation to define a constructor, and instead may leave this task to any descendant types. \n",
    "\n",
    "In the absence of a constructor, we do not explicitly initialize any members, and are left to infer the members we expect to be initialized by descendant classes."
   ]
  },
  {
   "cell_type": "code",
   "execution_count": null,
   "metadata": {},
   "outputs": [],
   "source": [
    "\"\"\"\n",
    "HasBasis Basis Getter and Setter\n",
    "The private _basis member of a HasBasis may be accessed via a pair of \n",
    "properties.\n",
    "\"\"\"\n",
    "@property\n",
    "def basis(self):\n",
    "    if self.is_baseless: return None\n",
    "    return self._basis\n",
    "\n",
    "@basis.setter\n",
    "def basis(self, basis):\n",
    "    self._basis = basis"
   ]
  },
  {
   "cell_type": "markdown",
   "metadata": {},
   "source": [
    "The requirements for qualifying as a HasBasis are light: all that a descendant class need provide is the private `hazbs._basis` member, which is wrapped in a pair of getter and setter properties.\n",
    "\n",
    "The `hazbs.is_baseless` property is defined as a simple test for the presence of a basis."
   ]
  },
  {
   "cell_type": "code",
   "execution_count": null,
   "metadata": {},
   "outputs": [],
   "source": [
    "\"\"\"\n",
    "HasBasis Basis Test\n",
    "Checks if a HasBasis has a basis. The built-in hasattr function tests an \n",
    "object for the presence of member associated with a given String name.\n",
    "\"\"\"\n",
    "@property\n",
    "def is_baseless(self):\n",
    "    return (not hasattr(self, '_basis')) or self._basis is None"
   ]
  },
  {
   "cell_type": "markdown",
   "metadata": {},
   "source": [
    "## Arc Objects in Decod.es\n",
    "\n",
    "The simplest example of a HasBasis geometry is the Decod.es Arc, which sweeps out a curve from the x-axis of its local coordinate system at a defined radius and to a specified angle on its local plane.\n",
    "\n",
    "The geometry of an arc shares many attributes in common with a circle: both possess a center point, a radius, and lie on a plane. The distinguishing characteristic of the arc is that it describes only a portion of a circle. \n",
    "\n",
    "While this distinction appears to be relatively minor from a geometric point of view, it offers profound differences in the way we structure these two classes in code. Since Arcs require orientation while Circles do not, it is appropriate to define a Circle on a non-oriented Plane, and an Arc on an oriented plane: a CS."
   ]
  },
  {
   "cell_type": "markdown",
   "metadata": {},
   "source": [
    "<img src=\"http://geometric-computation-images.s3-website-us-east-1.amazonaws.com/3.00.D48 Arc Large.jpg\" style=\"width: 800px; display: inline;\">\n"
   ]
  },
  {
   "cell_type": "markdown",
   "metadata": {},
   "source": [
    "The x-axis of the coordinate system provides a natural starting direction for our Arc, leaving us only to define a radius and sweep angle. Here, an Arc is simply constructed from a given CS, radius, and sweep angle."
   ]
  },
  {
   "cell_type": "code",
   "execution_count": null,
   "metadata": {},
   "outputs": [],
   "source": [
    "\"\"\"\n",
    "Arc Constructor\n",
    "An arc is composed of a CS basis, a radius and a sweep angle. The starting \n",
    "point of the resulting arc lies along the x-axis of the given CS.\n",
    "\"\"\"\n",
    "def __init__(self, cs, radius, sweep_angle):\n",
    "    self._basis = cs\n",
    "    self.rad = radius\n",
    "    self.angle = sweep_angle"
   ]
  },
  {
   "cell_type": "markdown",
   "metadata": {},
   "source": [
    "From this basic definition, a host of methods follow. Since many of these involve only elementary geometry, we summarize the basic functionality of Decod.es Arcs in the nearby table."
   ]
  },
  {
   "cell_type": "markdown",
   "metadata": {},
   "source": [
    "TODO: ARC Properties and Methods"
   ]
  },
  {
   "cell_type": "code",
   "execution_count": null,
   "metadata": {},
   "outputs": [],
   "source": [
    "\"\"\"\n",
    "Reciprocal Arc\n",
    "A pair of major and minor arcs that together form a complete circle are \n",
    "reciprocals of one another. This method returns the reciprocal of the arc on \n",
    "which it is called. \n",
    "\"\"\"\n",
    "def reciprocal(self):\n",
    "    vx = Vec(self.origin,self.ept)\n",
    "    vy = Vec(self.origin,self.eval(1.0+EPSILON))\n",
    "    cs = CS(self.origin,vx,vy)\n",
    "    return Arc(cs,self.rad,math.pi*2-self.angle)"
   ]
  }
 ],
 "metadata": {
  "kernelspec": {
   "display_name": "Python 2",
   "language": "python",
   "name": "python2"
  },
  "language_info": {
   "codemirror_mode": {
    "name": "ipython",
    "version": 2
   },
   "file_extension": ".py",
   "mimetype": "text/x-python",
   "name": "python",
   "nbconvert_exporter": "python",
   "pygments_lexer": "ipython2",
   "version": "2.7.10"
  }
 },
 "nbformat": 4,
 "nbformat_minor": 2
}
