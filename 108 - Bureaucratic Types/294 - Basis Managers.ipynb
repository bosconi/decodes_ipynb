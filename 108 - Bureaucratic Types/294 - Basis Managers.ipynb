{
 "cells": [
  {
   "cell_type": "code",
   "execution_count": null,
   "metadata": {},
   "outputs": [],
   "source": [
    "from decodes.core import *\n",
    "from decodes.io.jupyter_out import JupyterOut\n",
    "import math\n",
    "\n",
    "out = JupyterOut.unit_square( )"
   ]
  },
  {
   "cell_type": "markdown",
   "metadata": {},
   "source": [
    "# Basis Managers\n",
    "todo"
   ]
  },
  {
   "cell_type": "markdown",
   "metadata": {},
   "source": [
    "<img src=\"http://geometric-computation-images.s3-website-us-east-1.amazonaws.com/1.07.P23.jpg\" style=\"width: 200px; display: inline;\">\n"
   ]
  },
  {
   "cell_type": "markdown",
   "metadata": {},
   "source": [
    "## HasBasis Objects in Decod.es"
   ]
  },
  {
   "cell_type": "markdown",
   "metadata": {},
   "source": [
    "<img src=\"http://geometric-computation-images.s3-website-us-east-1.amazonaws.com/3.00.D44 Has Basis Large.jpg\" style=\"width: 800px; display: inline;\">\n"
   ]
  },
  {
   "cell_type": "code",
   "execution_count": null,
   "metadata": {},
   "outputs": [],
   "source": [
    "\"\"\"\n",
    "HasBasis Basis Getter and Setter\n",
    "The private _basis member of a HasBasis may be accessed via a pair of \n",
    "properties.\n",
    "\"\"\"\n",
    "@property\n",
    "def basis(self):\n",
    "    if self.is_baseless: return None\n",
    "    return self._basis\n",
    "\n",
    "@basis.setter\n",
    "def basis(self, basis):\n",
    "    self._basis = basis"
   ]
  },
  {
   "cell_type": "code",
   "execution_count": null,
   "metadata": {},
   "outputs": [],
   "source": [
    "\"\"\"\n",
    "HasBasis Basis Test\n",
    "Checks if a HasBasis has a basis. The built-in hasattr function tests an \n",
    "object for the presence of member associated with a given String name.\n",
    "\"\"\"\n",
    "@property\n",
    "def is_baseless(self):\n",
    "    return (not hasattr(self, '_basis')) or self._basis is None"
   ]
  },
  {
   "cell_type": "markdown",
   "metadata": {},
   "source": [
    "## Arc Objects in Decod.es"
   ]
  },
  {
   "cell_type": "markdown",
   "metadata": {},
   "source": [
    "<img src=\"http://geometric-computation-images.s3-website-us-east-1.amazonaws.com/3.00.D48 Arc Large.jpg\" style=\"width: 800px; display: inline;\">\n"
   ]
  },
  {
   "cell_type": "code",
   "execution_count": null,
   "metadata": {},
   "outputs": [],
   "source": [
    "\"\"\"\n",
    "Arc Constructor\n",
    "An arc is composed of a CS basis, a radius and a sweep angle. The starting \n",
    "point of the resulting arc lies along the x-axis of the given CS.\n",
    "\"\"\"\n",
    "def __init__(self, cs, radius, sweep_angle):\n",
    "    self._basis = cs\n",
    "    self.rad = radius\n",
    "    self.angle = sweep_angle"
   ]
  },
  {
   "cell_type": "markdown",
   "metadata": {},
   "source": [
    "TODO: ARC Properties and Methods"
   ]
  },
  {
   "cell_type": "code",
   "execution_count": null,
   "metadata": {},
   "outputs": [],
   "source": [
    "\"\"\"\n",
    "Reciprocal Arc\n",
    "A pair of major and minor arcs that together form a complete circle are \n",
    "reciprocals of one another. This method returns the reciprocal of the arc on \n",
    "which it is called. \n",
    "\"\"\"\n",
    "def reciprocal(self):\n",
    "    vx = Vec(self.origin,self.ept)\n",
    "    vy = Vec(self.origin,self.eval(1.0+EPSILON))\n",
    "    cs = CS(self.origin,vx,vy)\n",
    "    return Arc(cs,self.rad,math.pi*2-self.angle)"
   ]
  }
 ],
 "metadata": {
  "kernelspec": {
   "display_name": "Python 2",
   "language": "python",
   "name": "python2"
  },
  "language_info": {
   "codemirror_mode": {
    "name": "ipython",
    "version": 2
   },
   "file_extension": ".py",
   "mimetype": "text/x-python",
   "name": "python",
   "nbconvert_exporter": "python",
   "pygments_lexer": "ipython2",
   "version": "2.7.10"
  }
 },
 "nbformat": 4,
 "nbformat_minor": 2
}
