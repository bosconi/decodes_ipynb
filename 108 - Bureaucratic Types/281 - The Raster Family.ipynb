{
 "cells": [
  {
   "cell_type": "code",
   "execution_count": 2,
   "metadata": {},
   "outputs": [
    {
     "name": "stdout",
     "output_type": "stream",
     "text": [
      "http://decod.es/\tv0.2.3\n",
      "io loaded\n"
     ]
    }
   ],
   "source": [
    "from decodes.core import *\n",
    "from decodes.io.jupyter_out import JupyterOut\n",
    "import math\n",
    "\n",
    "out = JupyterOut.unit_square( )"
   ]
  },
  {
   "cell_type": "markdown",
   "metadata": {},
   "source": [
    "# The Raster Family\n",
    "The raster is a device in computer graphics that employs arrays of pixel values to represent form and image. It is a fundamentally different approach to describing form than the vector-based graphics we have discussed so far.\n",
    "\n",
    "All the types in the Decod.es Raster family offer some variation on a mechanism for storing and manipulating data in a multi-dimensional array (a two-dimensional rectangular homogeneous matrix). Here we will focus our efforts on developing a family of bespoke types that follow this format, and that support routines unique to the two-dimensional matrix most commonly employed in visual design. Beyond illustrating the distinct issues in raster and vector implementations of geometry, each of these types enjoys some amount of utility in visual design applications.\n",
    "\n",
    "***Image***, is ubiquitous in computer graphics.\n",
    "\n",
    "The similarly-structured ***ValueField*** and ***BoolField*** types are more often appropriate choices for the sort of visual design routines presented in this text, and we may find such structures at work in applications that operate on abstract matrices of data, such as cellular automata and reaction-diffusion models. \n",
    "\n",
    "The remaining types presented, ***Grid*** and ***VecField***, foreground another distinction between the raster and vector models, and offer one approach to their synthesis.\n"
   ]
  },
  {
   "cell_type": "markdown",
   "metadata": {},
   "source": [
    "<img src=\"http://geometric-computation-images.s3-website-us-east-1.amazonaws.com/1.07.P22.jpg\" style=\"width: 200px; display: inline;\">\n"
   ]
  },
  {
   "cell_type": "markdown",
   "metadata": {},
   "source": [
    "There is a distinction to be made between the pixel dimension of an image and the physical dimension assigned to it.\n",
    "\n",
    "While the physical dimension may be rescaled without recomputing pixels, thereby manipulating the size of the image when printed but not altering the underlying information, the pixel dimension is directly bound to the underlying data. The relationship between these two dimensions is expressed as a ratio (such as pixels-per-inch) termed the ***resolution***. The concept of an arbitrary resolution being assigned to an image highlights the distinction between rasters, which are fundamentally dimensionless, and vectors, which describe defined positions in space.\n",
    "\n",
    "In order to bring raster and vector together, it is necessary to establish a way to define a resolution. The abstract ***Grid*** type does just this by integrating a spatial ***Bounds*** into the ***Raster*** data structure. The ***VecField*** type demonstrates one application of such a spatialization of a Raster."
   ]
  },
  {
   "cell_type": "markdown",
   "metadata": {},
   "source": [
    "<img src=\"http://geometric-computation-images.s3-website-us-east-1.amazonaws.com/1.07.P30.jpg\" style=\"width: 200px; display: inline;\">\n"
   ]
  },
  {
   "cell_type": "markdown",
   "metadata": {},
   "source": [
    "## Rasters"
   ]
  },
  {
   "cell_type": "markdown",
   "metadata": {},
   "source": [
    "In Decod.es, ***Raster*** is the progenitor of all the classes presented in this section, and is an abstract class that provides mechanisms to store and access generic data in a raster grid format."
   ]
  },
  {
   "cell_type": "markdown",
   "metadata": {},
   "source": [
    "<img src=\"http://geometric-computation-images.s3-website-us-east-1.amazonaws.com/1.07.C05.jpg\" style=\"width: 200px; display: inline;\">"
   ]
  },
  {
   "cell_type": "markdown",
   "metadata": {},
   "source": [
    "The primary responsibility of the Raster is to manage access to the data structure `rstr._pixels` that will be used by all descendant types to store various kinds of objects.\n",
    "\n",
    "This is stored in a private member `_pixels`, and accessed via the `get` and `set` methods."
   ]
  },
  {
   "cell_type": "markdown",
   "metadata": {},
   "source": [
    "<img src=\"http://geometric-computation-images.s3-website-us-east-1.amazonaws.com/1.07.P07.jpg\" style=\"width: 200px; display: inline;\">\n"
   ]
  },
  {
   "cell_type": "code",
   "execution_count": 1,
   "metadata": {},
   "outputs": [],
   "source": [
    "\"\"\"\n",
    "Raster Get and Set Methods\n",
    "The translation from a given x,y coordinate of a pixel and its index in the \n",
    "_pixel collection may be obtained by a simple equation that accounts for the \n",
    "number of pixels per row of the Raster.\n",
    "\"\"\"\n",
    "def get(self,x,y):\n",
    "    return self._pixels[y*self._dim[0]+x]\n",
    "\n",
    "def set(self,x,y,value):\n",
    "    self._pixels[y*self.px_width+x] = value"
   ]
  },
  {
   "cell_type": "markdown",
   "metadata": {},
   "source": [
    "These methods require a description of the number of pixels in the\n",
    "grid in x and y dimensions, which is stored as a Tuple of two Integers\n",
    "in the private member `rstr._dim`."
   ]
  },
  {
   "cell_type": "code",
   "execution_count": null,
   "metadata": {},
   "outputs": [],
   "source": [
    "\"\"\"\n",
    "Raster Pixel Dimension Properties\n",
    "A number of properties are defined to ease access to the pixel dimension of a \n",
    "Raster.\n",
    "\"\"\"\n",
    "@property\n",
    "def px_dim(self):\n",
    "    return self._dim\n",
    "    \n",
    "@property\n",
    "def px_width(self):\n",
    "    return int(self._dim[0])\n",
    "\n",
    "@property\n",
    "def px_height(self):\n",
    "    return int(self._dim[1])\n",
    "    \n",
    "@property\n",
    "def px_count(self):\n",
    "    return self.px_width*self.px_height"
   ]
  },
  {
   "cell_type": "markdown",
   "metadata": {},
   "source": [
    "A number of useful but less central attributes are defined. \n",
    "\n",
    "Many of these are matters of convenience, such as the various ways of accessing the pixel dimension found in the properties above and below."
   ]
  },
  {
   "cell_type": "code",
   "execution_count": null,
   "metadata": {},
   "outputs": [],
   "source": [
    "\"\"\"\n",
    "Raster Pixel Addresses\n",
    "Many processes require iteration over every available pixel in a Raster. Here, \n",
    "all the valid pixel addresses are returned as a single collection.\n",
    "\"\"\"\n",
    "@property\n",
    "def addresses(self):\n",
    "    return itertools.product(range(self.px_width),range(self.px_height))"
   ]
  },
  {
   "cell_type": "markdown",
   "metadata": {},
   "source": [
    "Two other methods are worth describing in more detail.\n",
    "\n",
    "The `rstr.populate(val)` method fills each pixel address of an existing Raster with a given value. \n",
    "\n",
    "The `rstr.neighbors_of(x,y)` method is responsible for returning those objects that occupy addresses adjacent to a given address."
   ]
  },
  {
   "cell_type": "code",
   "execution_count": null,
   "metadata": {},
   "outputs": [],
   "source": [
    "\"\"\"\n",
    "Raster Population\n",
    "Here, every pixel in a Raster is populated with a given value.\n",
    "\"\"\"\n",
    "def populate(self,val):\n",
    "    self._pixels = [val]*self.px_count"
   ]
  },
  {
   "cell_type": "markdown",
   "metadata": {},
   "source": [
    "<img src=\"http://geometric-computation-images.s3-website-us-east-1.amazonaws.com/1.07.P31.jpg\" style=\"width: 200px; display: inline;\">\n"
   ]
  },
  {
   "cell_type": "markdown",
   "metadata": {},
   "source": [
    "The Raster initialization requires only one named argument, `pixel_dim`, with the remainder of the variables handled as packed keyword arguments. \n",
    "\n",
    "The given `pixel_dim` may be an Interval, a Tuple of two numbers, or nothing at all. The distinction between these cases is primarily handled with a `try-except` structure. \n",
    "\n",
    "Next, the optional members associated with directing the production of pixel neighborhoods are defined. \n",
    "\n",
    "Finally, an empty collection of `rstr._pixels` is initialized, but not populated with values. \n",
    "\n",
    "***Since the type of object contained will vary, the population of values is left to the derived classes.***"
   ]
  },
  {
   "cell_type": "code",
   "execution_count": null,
   "metadata": {},
   "outputs": [],
   "source": [
    "\"\"\"\n",
    "Raster Initialization\n",
    "The initialization of a Raster proceeds by first setting the pixel dimension \n",
    "and accounting for any given keyword arguments before initializing the _pixels \n",
    "collection. Note that this collection is defined here, but contains no objects. \n",
    "Populating the pixels of a Raster is left to descendant types.\n",
    "\"\"\"\n",
    "class Raster(object):\n",
    "    def __init__(self,pixel_dim=(20,20),**kwargs):\n",
    "        self._dim = pixel_dim\n",
    "        self.include_corners = False\n",
    "        if \"include_corners\" in kwargs: \n",
    "            self.include_corners = kwargs[\"include_corners\"]\n",
    "        self.wrap = False\n",
    "        if \"wrap\" in kwargs: \n",
    "            self.wrap = kwargs[\"wrap\"]\n",
    "        \n",
    "        # the _pixels collection is initialized but not populated\n",
    "        self._pixels = []"
   ]
  },
  {
   "cell_type": "markdown",
   "metadata": {},
   "source": [
    "### Raster Descendants\n",
    "\n",
    "The Raster class is abstract, and not meant to be instantiated.\n",
    "\n",
    "Among the simplest of the descendants of Raster are the ***BoolField***, ***ValueField***, and ***Image*** types, which are raster data structures for storing Booleans, numeric values, and Colors, respectively."
   ]
  },
  {
   "cell_type": "markdown",
   "metadata": {},
   "source": [
    "<img src=\"http://geometric-computation-images.s3-website-us-east-1.amazonaws.com/1.07.P24.jpg\" style=\"width: 200px; display: inline;\">\n"
   ]
  },
  {
   "cell_type": "markdown",
   "metadata": {},
   "source": [
    "Since the Raster class was left intentionally incomplete, and did not populate the `rstr._pixels` member with objects, a minimal implementation of a class that inherits Raster consists simply of a constructor that extends Raster by calling its parent’s initialization method, and then populates this collection with the appropriate type of object."
   ]
  },
  {
   "cell_type": "code",
   "execution_count": null,
   "metadata": {},
   "outputs": [],
   "source": [
    "\"\"\"\n",
    "Initialization of Raster Descendants\n",
    "The direct descendants of Raster present very similar initialization routines. \n",
    "Each calls the initialization of its parent before populating the _pixels \n",
    "collection with an appropriate object type. Optionally, as we seen in BoolField\n",
    "and ValueField, the default values of keyword arguments may be adjusted.\n",
    "\"\"\"\n",
    "class BoolField(Raster):\n",
    "    def __init__(self, pixel_dim=None, initial_value=False, **kwargs):\n",
    "        if \"wrap\" not in kwargs: kwargs[\"wrap\"] = True\n",
    "        super(BoolField,self).__init__(pixel_dim,**kwargs)\n",
    "        self.populate(initial_value)\n",
    "        \n",
    "class ValueField(Raster):\n",
    "    def __init__(self, pixel_dim=None, initial_value=0.0, **kwargs):\n",
    "        if \"wrap\" not in kwargs: kwargs[\"wrap\"] = True\n",
    "        super(ValueField,self).__init__(pixel_dim,**kwargs)\n",
    "        self.populate(initial_value)\n",
    "\n",
    "class Image(Raster):\n",
    "    def __init__(self,pixel_dim,initial_color = Color(),**kwargs):\n",
    "        super(Image,self).__init__(pixel_dim,**kwargs)\n",
    "        self.populate(initial_color)"
   ]
  },
  {
   "cell_type": "markdown",
   "metadata": {},
   "source": [
    "Each sub-class is now free to define its own set of methods or members as appropriate to the type it stores. \n",
    "\n",
    "For example, ***ValueField*** defines routines for determining the minimum and maximum values stored, while ***Image*** defines a method for saving the contained data as a file"
   ]
  },
  {
   "cell_type": "code",
   "execution_count": null,
   "metadata": {},
   "outputs": [],
   "source": [
    "\"\"\"\n",
    "Unique Methods of a ValueField\n",
    "Some descendants of Raster require methods that are only appropriate to their \n",
    "contained type. Here we see two methods that are unique to the ValueField type.\n",
    "\"\"\"\n",
    "@property\n",
    "def max_value(self):\n",
    "    return max(self._pixels)\n",
    "\n",
    "@property\n",
    "def min_value(self):\n",
    "    return min(self._pixels)"
   ]
  },
  {
   "cell_type": "markdown",
   "metadata": {},
   "source": [
    "## Grids"
   ]
  },
  {
   "cell_type": "markdown",
   "metadata": {},
   "source": [
    "Raster images are fundamentally dimensionless. \n",
    "\n",
    "Other than the number of pixels contained by the two dimensions of a raster matrix, any assigned spatial dimension is arbitrary, and may be altered without affecting the data underlying the raster. \n",
    "\n",
    "For this reason, the Raster, BoolField, ValueField, and Image classes may be seen as non-geometric and do not interact with the space of most of the geometry found in this text. To bring a raster object into space, we must assign it a spatial dimension. \n",
    "\n",
    "This is exactly the role of the Decod.es Grid, which is a descendant of the Raster type, but one that integrates a dimensional object called a Bounds into its data structure."
   ]
  },
  {
   "cell_type": "markdown",
   "metadata": {},
   "source": [
    "<img src=\"http://geometric-computation-images.s3-website-us-east-1.amazonaws.com/1.07.P25.jpg\" style=\"width: 200px; display: inline;\">\n"
   ]
  },
  {
   "cell_type": "markdown",
   "metadata": {},
   "source": [
    "### Bounds Objects in Decod.es\n",
    "\n",
    "Decod.es offers a utility class which operates as a higher dimensional version of the Interval, the ***Bounds***, which manifests as the coupling of two or three Intervals in order to provide a two-dimensional rectangular or three-dimensional cubic structure.\n",
    "\n",
    "Each object of type Bounds stores two or three primary Interval members - `bnds.ival_x`, `bnds.ival_y`, and optionally `bnds.ival_z` - and is constructed using as many intervals as the dimension of the space. "
   ]
  },
  {
   "cell_type": "markdown",
   "metadata": {},
   "source": [
    "<img src=\"http://geometric-computation-images.s3-website-us-east-1.amazonaws.com/3.00.D88 Bounds Large.jpg\" style=\"width: 800px; display: inline;\">\n"
   ]
  },
  {
   "cell_type": "markdown",
   "metadata": {},
   "source": [
    "Functionality is provided to construct Bounds objects in a variety of ways, such as `Bounds.unit_square()` and `Bounds.unit_cube()`, or by passing a collection of encompassed Points."
   ]
  },
  {
   "cell_type": "code",
   "execution_count": 3,
   "metadata": {},
   "outputs": [],
   "source": [
    "\"\"\"\n",
    "Construction of a Decod.es Bounds\n",
    "A 2d Bounds is constructed by two intervals, a 3d bounds by three. \n",
    "Alternatively, we may construct a Bounds by centerpoint and dimension.\n",
    "\"\"\"\n",
    "\n",
    "bnds_2d = Bounds(ival_x=Interval(-2,2), ival_y=Interval(-6,1))\n",
    "bnds_3d = Bounds(ival_x=Interval(), ival_y=Interval(2,1), ival_z=Interval())\n",
    "bnds_by_cpt = Bounds(center=Point(), dim_x=3.0, dim_y=1.5)"
   ]
  },
  {
   "cell_type": "markdown",
   "metadata": {},
   "source": [
    "<img src=\"http://geometric-computation-images.s3-website-us-east-1.amazonaws.com/1.07.P32.jpg\" style=\"width: 200px; display: inline;\">\n"
   ]
  },
  {
   "cell_type": "markdown",
   "metadata": {},
   "source": [
    "The arguments used in these constructions are also made available to any Bounds objects as attributes."
   ]
  },
  {
   "cell_type": "code",
   "execution_count": 4,
   "metadata": {},
   "outputs": [
    {
     "name": "stdout",
     "output_type": "stream",
     "text": [
      "pt[0.0,-2.5,0]\n",
      "1.0\n",
      "ival[-1.5,1.5]\n"
     ]
    }
   ],
   "source": [
    "\"\"\"\n",
    "Bounds Attributes\n",
    "\"\"\"\n",
    "print bnds_2d.cpt\n",
    "print bnds_3d.dim_x\n",
    "print bnds_by_cpt.ival_x"
   ]
  },
  {
   "cell_type": "code",
   "execution_count": null,
   "metadata": {},
   "outputs": [],
   "source": [
    "\"\"\"\n",
    "Bounds Encompass\n",
    "\"\"\"\n",
    "pts = [Point(-1,2), Point(-3,0), Point(2,2), Point(0,4)]\n",
    "bnds = Bounds.encompass(pts)"
   ]
  },
  {
   "cell_type": "markdown",
   "metadata": {},
   "source": [
    "### Grid Objects in Decod.es\n",
    "\n",
    "Although ***Grid*** is a Raster descendant, unlike the concrete classes of BoolField, ValueField, and Image, it does not assign a particular object type to be stored, but merely provides an abstract framework from which other types may be derived. \n",
    "\n",
    "It is the ***abstract descendant of an abstract class***. \n",
    "\n",
    "We will use the ***VecField*** type, which stores Decod.es Vecs in a Grid structure, to demonstrate the utility of such a construct."
   ]
  },
  {
   "cell_type": "markdown",
   "metadata": {},
   "source": [
    "<img src=\"http://geometric-computation-images.s3-website-us-east-1.amazonaws.com/1.07.C06.jpg\" style=\"width: 200px; display: inline;\">"
   ]
  },
  {
   "cell_type": "markdown",
   "metadata": {},
   "source": [
    "The Grid type is responsible for managing access to a spatial Bounds `grd._bnds`, and for providing methods that combine queries on this space with the data contained within the inherited raster structure. In this way, each pixel in the raster data is associated with a subdivision of the spatial Bounds that we’ll term a grid cell. Many of the methods offered by a Grid concern transformations from spatial coordinates relative to the Bounds to pixel coordinates of data in the Raster, or vice-versa.\n",
    "\n",
    "Two members are calculated at initialization, and stored as private members: \n",
    "\n",
    "* A set of base points `_base_pts` at the center of each Grid cell \n",
    "* A set of pre-divided Intervals, `_ivals_x` and `_ivals_y`, that describe divisions in the x- and y-dimensions."
   ]
  },
  {
   "cell_type": "markdown",
   "metadata": {},
   "source": [
    "<img src=\"http://geometric-computation-images.s3-website-us-east-1.amazonaws.com/1.07.P33.jpg\" style=\"width: 200px; display: inline;\">\n"
   ]
  },
  {
   "cell_type": "markdown",
   "metadata": {},
   "source": [
    "The initialization of a Grid closely resembles that of its predecessors."
   ]
  },
  {
   "cell_type": "code",
   "execution_count": 5,
   "metadata": {},
   "outputs": [],
   "source": [
    "\"\"\"\n",
    "Grid Initialization\n",
    "This abstract class for storing information in a spatialized raster grid format\n",
    "is constructed first by calling the Raster initialization, and then establishing \n",
    "a two-dimensional spatial bounds _bnds. Finally, a number of values concerning \n",
    "the division of this spatial bounds are pre-calculated.\n",
    "\"\"\"\n",
    "class Grid(Raster):\n",
    "    def __init__(self,pixel_dim=None,bnds=None,**kwargs):\n",
    "        super(Grid,self).__init__(pixel_dim,**kwargs)\n",
    "        if bnds is None: self._bnds = Bounds.unit_square()\n",
    "        # enforces a two-dimensional Bounds\n",
    "        else: self._bnds = Bounds(ival_x=bnds.ival_x,ival_y=bnds.ival_y ) \n",
    "        self._recalculate_base_pts()"
   ]
  },
  {
   "cell_type": "markdown",
   "metadata": {},
   "source": [
    "Calculating values in advance eases the burden on subsequent method calls, but at the cost of re-calculating these values any time `grd._bnds` is altered."
   ]
  },
  {
   "cell_type": "code",
   "execution_count": null,
   "metadata": {},
   "outputs": [],
   "source": [
    "\"\"\"\n",
    "Base Point Calculation\n",
    "A Grid pre-calculates values that describe the center Point of each grid cell, \n",
    "as well as divisions of the overall x and y Intervals. This pre-calculation \n",
    "eases the burden on subsequent method calls, but must be re-calculated any time \n",
    "the stored _bnds is altered.\n",
    "\"\"\"\n",
    "def _recalculate_base_pts(self):\n",
    "    self._base_pts = []\n",
    "    self._ivals_x = self.bnds.ival_x//self.px_width\n",
    "    self._ivals_y = self.bnds.ival_y//self.px_height\n",
    "    for ival_y in self._ivals_y:\n",
    "        for ival_x in self._ivals_x:\n",
    "            self._base_pts.append(Point(ival_x.mid, ival_y.mid))"
   ]
  },
  {
   "cell_type": "markdown",
   "metadata": {},
   "source": [
    "The remainder of the methods offered by Grid concern the translation between spatial and pixel coordinates. \n",
    "\n",
    "The `grd.get_cpt()` method, for example, allows us to move from the raster to the spatial. Given a pixel address, this routine produces the center Point of the spatial grid cell associated with it."
   ]
  },
  {
   "cell_type": "code",
   "execution_count": null,
   "metadata": {},
   "outputs": [],
   "source": [
    "\"\"\"\n",
    "Gridcell Center Point\n",
    "A method that returns the center point of the cell associated with the given \n",
    "address.\n",
    "\"\"\"\n",
    "def get_cpt(self,x,y):\n",
    "    return self._base_pts[y*self.px_width+x]"
   ]
  },
  {
   "cell_type": "markdown",
   "metadata": {},
   "source": [
    "The `grd.address_near()` method is effectively the inverse of this process: given a spatial position, it calculates the pixel address of the containing grid cell."
   ]
  },
  {
   "cell_type": "code",
   "execution_count": null,
   "metadata": {},
   "outputs": [],
   "source": [
    "\"\"\"\n",
    "Grid Address Near\n",
    "A method that returns the address of the grid cells nearest the given location.\n",
    "This method may be passed either a point or an x,y coordinate.\n",
    "\"\"\"    \n",
    "def address_near(self,a,b=None):\n",
    "    pt = Point(a,b)\n",
    "    # find index of interval containing x-coordinate\n",
    "    if pt.x <= self.bnds.ival_x.a : idx_x = 0\n",
    "    elif pt.x >= self.bnds.ival_x.b : idx_x = self.px_width - 1\n",
    "    else: idx_x = [pt.x in ival for ival in self._ivals_x].index(True)\n",
    "    # find index of interval containing y-coordinate\n",
    "    if pt.y <= self.bnds.ival_y.a : idx_y = 0\n",
    "    elif pt.y >= self.bnds.ival_y.b : idx_y = self.px_height - 1\n",
    "    else: idx_y = [pt.y in ival for ival in self._ivals_y].index(True)\n",
    "    # return address tuple\n",
    "    return idx_x, idx_y"
   ]
  },
  {
   "cell_type": "markdown",
   "metadata": {},
   "source": [
    "The related `grd.addresses_near()` method operates in a similar manner, returning the addresses of all the grid cells that are near to a given spatial position"
   ]
  },
  {
   "cell_type": "code",
   "execution_count": null,
   "metadata": {},
   "outputs": [],
   "source": [
    "\"\"\"\n",
    "Grid Addresses Near\n",
    "Here, a collection is returned containing addresses of grid cells near to the \n",
    "given location. This method may be passed either a point or an x,y coordinate.\n",
    "\"\"\"         \n",
    "def addresses_near(self,a,b=None):\n",
    "    pt = Point(a,b)\n",
    "    add = self.address_near(pt)\n",
    "    dx = 1 if pt.x > self._ivals_x[add[0]].mid else -1\n",
    "    dy = 1 if pt.y > self._ivals_y[add[1]].mid else -1\n",
    "    adds = [add,(add[0]+dx,add[1]),(add[0]+dx,add[1]+dy),(add[0],add[1]+dy)]\n",
    "    adds = filter(lambda add: add[0]>=0 and add[0]<self.px_width, adds)\n",
    "    adds = filter(lambda add: add[1]>=0 and add[1]<self.px_height, adds)\n",
    "    return sorted(adds)"
   ]
  },
  {
   "cell_type": "markdown",
   "metadata": {},
   "source": [
    "Some methods require a round-trip from spatial to raster and back again, a process greatly simplified by the methods defined above.\n",
    "\n",
    "Given a spatial coordinate, the `grd.cpts_near()` method first finds the pixel addresses of nearby grid cells, and then returns the center Points of each."
   ]
  },
  {
   "cell_type": "code",
   "execution_count": null,
   "metadata": {},
   "outputs": [],
   "source": [
    "\"\"\"\n",
    "Grid Center Points Near\n",
    "The center points of cells near the given location are returned by this method. \n",
    "Note the use of the splat operator to pack the pixel address tuple so that they\n",
    "are passed as separate arugments to the get_cpt method.\n",
    "\"\"\"       \n",
    "def cpts_near(self,a,b=None):\n",
    "    return [self.get_cpt(*add) for add in self.addresses_near(a,b)]"
   ]
  },
  {
   "cell_type": "markdown",
   "metadata": {},
   "source": [
    "Discrete vector fields are natural structures to inherit from Grid. Such is the role of the VecField class. The `vecfld.__init__()` method is unremarkable, and faithfully follows the pattern established by the concrete classes above. \n",
    "\n",
    "Many of the other methods of VecField are wrappers for the analogous methods of Grid or modest modifications thereof. For example, the `vecfld.vec_near()` and `vecfld.vecs_near()` methods are straightforward wrappers for the related Grid methods, each tacking on a call to the raster structure such that they return Vec objects rather than pixel addresses."
   ]
  },
  {
   "cell_type": "code",
   "execution_count": null,
   "metadata": {},
   "outputs": [],
   "source": [
    "\"\"\"\n",
    "Vec and Vecs Near\n",
    "Two methods that return closest vector or the closest set of vectors to the \n",
    "given location. Again, the splat operator is employed for argument packing.\n",
    "\"\"\"\n",
    "def vec_near(self,a,b=None):\n",
    "    return self.get(*self.address_near(a,b))\n",
    "\n",
    "def vecs_near(self,a,b=None):\n",
    "    return [self.get(*add) for add in self.addresses_near(a,b)]"
   ]
  },
  {
   "cell_type": "markdown",
   "metadata": {},
   "source": [
    "The more elaborate method `vecfld.avg_vec_near()` builds on this functionality by calculating the average of those Vecs near to a given spatial position, and weighting them by their proximity to this position."
   ]
  },
  {
   "cell_type": "code",
   "execution_count": null,
   "metadata": {},
   "outputs": [],
   "source": [
    "\"\"\"\n",
    "Average Vec Near\n",
    "Returns an average vector from the near vectors around the given location. \n",
    "\"\"\"\n",
    "def avg_vec_near(self,sample_pt):\n",
    "    vecs = self.vecs_near(sample_pt)\n",
    "    dists = [1.0/sample_pt.distance2(pt) for pt in self.cpts_near(sample_pt)]\n",
    "    tot = sum(dists)\n",
    "    weights = [dist/tot for dist in dists]\n",
    "    \n",
    "    vec = Vec()\n",
    "    for v,w in zip(vec,weights): vec += v*w\n",
    "    return vec\n",
    "    "
   ]
  },
  {
   "cell_type": "markdown",
   "metadata": {},
   "source": [
    "## Multiple Inheritance\n",
    "\n",
    "The classes discussed thus far have followed a rational pattern. The abstract classes, Raster and Grid, have defined patterns of behavior that we expect will benefit other classes. This abstraction made things easy for the concrete classes (BoolField, ValueField, and VecGrid) which inherited much of their important functionality from their progenitors, needing only implement those behaviors unique to the types of objects that they store.\n",
    "\n",
    "This approach has produced a rational chain of inheritance and a tidy family of types. \n",
    "\n",
    "As is often the case, ***disruption of a design pattern is only as far away as the nearest broken assumption***.\n",
    "\n",
    "We have identified two categories of behavior in the design of these classes: those that encapsulate data structures (the matrix-like Raster and the spatialized matrix of the Grid) and those that extend a data structure to accommodate the needs of a stored type (ValueFields do number-like things on Rasters, while VecFields do Vec-like things on Grids).\n",
    "\n",
    "***What would occur if we found we required a type that mixed these relationships in a way not yet anticipated?***\n",
    "\n",
    "For example, what if we required a ValueGrid?\n"
   ]
  },
  {
   "cell_type": "markdown",
   "metadata": {},
   "source": [
    "<img src=\"http://geometric-computation-images.s3-website-us-east-1.amazonaws.com/1.07.P26.jpg\" style=\"width: 200px; display: inline;\">\n"
   ]
  },
  {
   "cell_type": "markdown",
   "metadata": {},
   "source": [
    "Helpful in this particular case is a type of feature offered by many programming languages to allow for a form of multiple inheritance, which allows behavior to be inherited from more than one direct ancestor. \n",
    "\n",
    "Python supports this feature through an extension of the inheritance syntax with which we are already familiar.\n",
    "\n",
    "    class SomeType( PrimaryParent, SecondaryParent, ... ):\n",
    "\n",
    "We can see the potential complications that arise from this structure. The hierarchy implied by defining a `PrimaryParent` and `SecondaryParent` suggests that a mechanism is in place to untangle any conflicting inherited attributes."
   ]
  },
  {
   "cell_type": "markdown",
   "metadata": {},
   "source": [
    "Using multiple inheritance, defining the hybrid ValueGrid type is shockingly simple. By combining the inherited attributes of a Grid and a ValueField, we can manifest a working type in just one line of code.\n",
    "\n",
    "This new type inherits the spatialized Raster structure of a Grid and the number-handling methods of a ValueField."
   ]
  },
  {
   "cell_type": "code",
   "execution_count": null,
   "metadata": {},
   "outputs": [],
   "source": [
    "\"\"\"\n",
    "The Multiple Inheritance of a ValueGrid\n",
    "In one simple statement we define the ValueGrid type, which inherits the \n",
    "spatialized raster structure of a Grid and the methods related to storing \n",
    "numeric values of a ValueField\n",
    "\"\"\"\n",
    "class ValueGrid(Grid, ValueField):"
   ]
  },
  {
   "cell_type": "markdown",
   "metadata": {},
   "source": [
    "<img src=\"http://geometric-computation-images.s3-website-us-east-1.amazonaws.com/1.07.P10.jpg\" style=\"width: 200px; display: inline;\">\n"
   ]
  },
  {
   "cell_type": "markdown",
   "metadata": {},
   "source": [
    "While this version of a ValueGrid is useful on its own, it can be extended a bit by defining a method. Here, we define a new concept related to grid-like data structures: a ***quartet*** is a Tuple of values and Points that represent the information of four related ValueGrid cells."
   ]
  },
  {
   "cell_type": "markdown",
   "metadata": {},
   "source": [
    "<img src=\"http://geometric-computation-images.s3-website-us-east-1.amazonaws.com/1.07.P11.jpg\" style=\"width: 200px; display: inline;\">\n"
   ]
  },
  {
   "cell_type": "code",
   "execution_count": null,
   "metadata": {},
   "outputs": [],
   "source": [
    "\"\"\"\n",
    "Point-Value Quartet\n",
    "A quartet represents the center points and values of four ValueGrid cells that \n",
    "meet at a corner. Since four cells are required, the effective pixel_dim of \n",
    "quartets is one fewer in each dimension than that of the ValueField which they \n",
    "describe.\n",
    "\"\"\"\n",
    "def quartet(self,x,y):\n",
    "    idxs = [(x,y),(x+1,y),(x+1,y+1),(x,y+1)]\n",
    "    # return a Tuple of (values, pts)\n",
    "    return [self.get(*xy) for xy in idxs], [self.get_cpt(*xy) for xy in idxs]"
   ]
  }
 ],
 "metadata": {
  "kernelspec": {
   "display_name": "Python 3",
   "language": "python",
   "name": "python3"
  },
  "language_info": {
   "codemirror_mode": {
    "name": "ipython",
    "version": 3
   },
   "file_extension": ".py",
   "mimetype": "text/x-python",
   "name": "python",
   "nbconvert_exporter": "python",
   "pygments_lexer": "ipython3",
   "version": "3.6.4"
  }
 },
 "nbformat": 4,
 "nbformat_minor": 2
}
