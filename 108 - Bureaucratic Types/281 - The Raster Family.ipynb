{
 "cells": [
  {
   "cell_type": "code",
   "execution_count": null,
   "metadata": {},
   "outputs": [],
   "source": [
    "from decodes.core import *\n",
    "from decodes.io.jupyter_out import JupyterOut\n",
    "import math\n",
    "\n",
    "out = JupyterOut.unit_square( )"
   ]
  },
  {
   "cell_type": "markdown",
   "metadata": {},
   "source": [
    "# The Raster Family\n",
    "todo"
   ]
  },
  {
   "cell_type": "markdown",
   "metadata": {},
   "source": [
    "<img src=\"http://geometric-computation-images.s3-website-us-east-1.amazonaws.com/1.07.P22.jpg\" style=\"width: 200px; display: inline;\">\n"
   ]
  },
  {
   "cell_type": "markdown",
   "metadata": {},
   "source": [
    "<img src=\"http://geometric-computation-images.s3-website-us-east-1.amazonaws.com/1.07.P30.jpg\" style=\"width: 200px; display: inline;\">\n"
   ]
  },
  {
   "cell_type": "markdown",
   "metadata": {},
   "source": [
    "## Rasters"
   ]
  },
  {
   "cell_type": "markdown",
   "metadata": {},
   "source": [
    "<img src=\"http://geometric-computation-images.s3-website-us-east-1.amazonaws.com/1.07.C05.jpg\" style=\"width: 200px; display: inline;\">"
   ]
  },
  {
   "cell_type": "markdown",
   "metadata": {},
   "source": [
    "<img src=\"http://geometric-computation-images.s3-website-us-east-1.amazonaws.com/1.07.P07.jpg\" style=\"width: 200px; display: inline;\">\n"
   ]
  },
  {
   "cell_type": "markdown",
   "metadata": {},
   "source": [
    "<img src=\"http://geometric-computation-images.s3-website-us-east-1.amazonaws.com/1.07.P31.jpg\" style=\"width: 200px; display: inline;\">\n"
   ]
  },
  {
   "cell_type": "markdown",
   "metadata": {},
   "source": [
    "### Raster Descendants"
   ]
  },
  {
   "cell_type": "markdown",
   "metadata": {},
   "source": [
    "<img src=\"http://geometric-computation-images.s3-website-us-east-1.amazonaws.com/1.07.P24.jpg\" style=\"width: 200px; display: inline;\">\n"
   ]
  },
  {
   "cell_type": "markdown",
   "metadata": {},
   "source": [
    "## Grids"
   ]
  },
  {
   "cell_type": "markdown",
   "metadata": {},
   "source": [
    "<img src=\"http://geometric-computation-images.s3-website-us-east-1.amazonaws.com/1.07.P25.jpg\" style=\"width: 200px; display: inline;\">\n"
   ]
  },
  {
   "cell_type": "markdown",
   "metadata": {},
   "source": [
    "### Bounds Objects in Decod.es"
   ]
  },
  {
   "cell_type": "markdown",
   "metadata": {},
   "source": [
    "<img src=\"http://geometric-computation-images.s3-website-us-east-1.amazonaws.com/3.00.D88 Bounds Large.jpg\" style=\"width: 800px; display: inline;\">\n"
   ]
  },
  {
   "cell_type": "markdown",
   "metadata": {},
   "source": [
    "<img src=\"http://geometric-computation-images.s3-website-us-east-1.amazonaws.com/1.07.P32.jpg\" style=\"width: 200px; display: inline;\">\n"
   ]
  },
  {
   "cell_type": "markdown",
   "metadata": {},
   "source": [
    "### Grid Objects in Decod.es"
   ]
  },
  {
   "cell_type": "markdown",
   "metadata": {},
   "source": [
    "<img src=\"http://geometric-computation-images.s3-website-us-east-1.amazonaws.com/1.07.C06.jpg\" style=\"width: 200px; display: inline;\">"
   ]
  },
  {
   "cell_type": "markdown",
   "metadata": {},
   "source": [
    "<img src=\"http://geometric-computation-images.s3-website-us-east-1.amazonaws.com/1.07.P33.jpg\" style=\"width: 200px; display: inline;\">\n"
   ]
  },
  {
   "cell_type": "markdown",
   "metadata": {},
   "source": [
    "## Multiple Inheritance"
   ]
  },
  {
   "cell_type": "markdown",
   "metadata": {},
   "source": [
    "<img src=\"http://geometric-computation-images.s3-website-us-east-1.amazonaws.com/1.07.P26.jpg\" style=\"width: 200px; display: inline;\">\n"
   ]
  },
  {
   "cell_type": "markdown",
   "metadata": {},
   "source": [
    "<img src=\"http://geometric-computation-images.s3-website-us-east-1.amazonaws.com/1.07.P10.jpg\" style=\"width: 200px; display: inline;\">\n"
   ]
  },
  {
   "cell_type": "markdown",
   "metadata": {},
   "source": [
    "<img src=\"http://geometric-computation-images.s3-website-us-east-1.amazonaws.com/1.07.P11.jpg\" style=\"width: 200px; display: inline;\">\n"
   ]
  },
  {
   "cell_type": "code",
   "execution_count": null,
   "metadata": {},
   "outputs": [],
   "source": []
  }
 ],
 "metadata": {
  "kernelspec": {
   "display_name": "Python 3",
   "language": "python",
   "name": "python3"
  },
  "language_info": {
   "codemirror_mode": {
    "name": "ipython",
    "version": 3
   },
   "file_extension": ".py",
   "mimetype": "text/x-python",
   "name": "python",
   "nbconvert_exporter": "python",
   "pygments_lexer": "ipython3",
   "version": "3.6.4"
  }
 },
 "nbformat": 4,
 "nbformat_minor": 2
}
