{
 "cells": [
  {
   "cell_type": "code",
   "execution_count": null,
   "metadata": {},
   "outputs": [],
   "source": [
    "from decodes.core import *\n",
    "from decodes.io.jupyter_out import JupyterOut\n",
    "import math\n",
    "\n",
    "out = JupyterOut.unit_square( )"
   ]
  },
  {
   "cell_type": "markdown",
   "metadata": {},
   "source": [
    "# The Raster Family\n",
    "todo"
   ]
  },
  {
   "cell_type": "markdown",
   "metadata": {},
   "source": [
    "<img src=\"http://geometric-computation-images.s3-website-us-east-1.amazonaws.com/1.07.P22.jpg\" style=\"width: 200px; display: inline;\">\n"
   ]
  },
  {
   "cell_type": "markdown",
   "metadata": {},
   "source": [
    "<img src=\"http://geometric-computation-images.s3-website-us-east-1.amazonaws.com/1.07.P30.jpg\" style=\"width: 200px; display: inline;\">\n"
   ]
  },
  {
   "cell_type": "markdown",
   "metadata": {},
   "source": [
    "## Rasters"
   ]
  },
  {
   "cell_type": "markdown",
   "metadata": {},
   "source": [
    "<img src=\"http://geometric-computation-images.s3-website-us-east-1.amazonaws.com/1.07.C05.jpg\" style=\"width: 200px; display: inline;\">"
   ]
  },
  {
   "cell_type": "markdown",
   "metadata": {},
   "source": [
    "<img src=\"http://geometric-computation-images.s3-website-us-east-1.amazonaws.com/1.07.P07.jpg\" style=\"width: 200px; display: inline;\">\n"
   ]
  },
  {
   "cell_type": "code",
   "execution_count": 1,
   "metadata": {},
   "outputs": [],
   "source": [
    "\"\"\"\n",
    "Raster Get and Set Methods\n",
    "The translation from a given x,y coordinate of a pixel and its index in the \n",
    "_pixel collection may be obtained by a simple equation that accounts for the \n",
    "number of pixels per row of the Raster.\n",
    "\"\"\"\n",
    "def get(self,x,y):\n",
    "    return self._pixels[y*self._dim[0]+x]\n",
    "\n",
    "def set(self,x,y,value):\n",
    "    self._pixels[y*self.px_width+x] = value"
   ]
  },
  {
   "cell_type": "code",
   "execution_count": null,
   "metadata": {},
   "outputs": [],
   "source": [
    "\"\"\"\n",
    "Raster Pixel Dimension Properties\n",
    "A number of properties are defined to ease access to the pixel dimension of a \n",
    "Raster.\n",
    "\"\"\"\n",
    "@property\n",
    "def px_dim(self):\n",
    "    return self._dim\n",
    "    \n",
    "@property\n",
    "def px_width(self):\n",
    "    return int(self._dim[0])\n",
    "\n",
    "@property\n",
    "def px_height(self):\n",
    "    return int(self._dim[1])\n",
    "    \n",
    "@property\n",
    "def px_count(self):\n",
    "    return self.px_width*self.px_height"
   ]
  },
  {
   "cell_type": "code",
   "execution_count": null,
   "metadata": {},
   "outputs": [],
   "source": [
    "\"\"\"\n",
    "Raster Pixel Addresses\n",
    "Many processes require iteration over every available pixel in a Raster. Here, \n",
    "all the valid pixel addresses are returned as a single collection.\n",
    "\"\"\"\n",
    "@property\n",
    "def addresses(self):\n",
    "    return itertools.product(range(self.px_width),range(self.px_height))"
   ]
  },
  {
   "cell_type": "code",
   "execution_count": null,
   "metadata": {},
   "outputs": [],
   "source": [
    "\"\"\"\n",
    "Raster Population\n",
    "Here, every pixel in a Raster is populated with a given value.\n",
    "\"\"\"\n",
    "def populate(self,val):\n",
    "    self._pixels = [val]*self.px_count"
   ]
  },
  {
   "cell_type": "markdown",
   "metadata": {},
   "source": [
    "<img src=\"http://geometric-computation-images.s3-website-us-east-1.amazonaws.com/1.07.P31.jpg\" style=\"width: 200px; display: inline;\">\n"
   ]
  },
  {
   "cell_type": "code",
   "execution_count": null,
   "metadata": {},
   "outputs": [],
   "source": [
    "\"\"\"\n",
    "Raster Initialization\n",
    "The initialization of a Raster proceeds by first setting the pixel dimension \n",
    "and accounting for any given keyword arguments before initializing the _pixels \n",
    "collection. Note that this collection is defined here, but contains no objects. \n",
    "Populating the pixels of a Raster is left to descendant types.\n",
    "\"\"\"\n",
    "class Raster(object):\n",
    "    def __init__(self,pixel_dim=(20,20),**kwargs):\n",
    "        self._dim = pixel_dim\n",
    "        self.include_corners = False\n",
    "        if \"include_corners\" in kwargs: \n",
    "            self.include_corners = kwargs[\"include_corners\"]\n",
    "        self.wrap = False\n",
    "        if \"wrap\" in kwargs: \n",
    "            self.wrap = kwargs[\"wrap\"]\n",
    "        \n",
    "        # the _pixels collection is initialized but not populated\n",
    "        self._pixels = []"
   ]
  },
  {
   "cell_type": "markdown",
   "metadata": {},
   "source": [
    "### Raster Descendants"
   ]
  },
  {
   "cell_type": "markdown",
   "metadata": {},
   "source": [
    "<img src=\"http://geometric-computation-images.s3-website-us-east-1.amazonaws.com/1.07.P24.jpg\" style=\"width: 200px; display: inline;\">\n"
   ]
  },
  {
   "cell_type": "code",
   "execution_count": null,
   "metadata": {},
   "outputs": [],
   "source": [
    "\"\"\"\n",
    "Initialization of Raster Descendants\n",
    "The direct descendants of Raster present very similar initialization routines. \n",
    "Each calls the initialization of its parent before populating the _pixels \n",
    "collection with an appropriate object type. Optionally, as we seen in BoolField\n",
    "and ValueField, the default values of keyword arguments may be adjusted.\n",
    "\"\"\"\n",
    "class BoolField(Raster):\n",
    "    def __init__(self, pixel_dim=None, initial_value=False, **kwargs):\n",
    "        if \"wrap\" not in kwargs: kwargs[\"wrap\"] = True\n",
    "        super(BoolField,self).__init__(pixel_dim,**kwargs)\n",
    "        self.populate(initial_value)\n",
    "        \n",
    "class ValueField(Raster):\n",
    "    def __init__(self, pixel_dim=None, initial_value=0.0, **kwargs):\n",
    "        if \"wrap\" not in kwargs: kwargs[\"wrap\"] = True\n",
    "        super(ValueField,self).__init__(pixel_dim,**kwargs)\n",
    "        self.populate(initial_value)\n",
    "\n",
    "class Image(Raster):\n",
    "    def __init__(self,pixel_dim,initial_color = Color(),**kwargs):\n",
    "        super(Image,self).__init__(pixel_dim,**kwargs)\n",
    "        self.populate(initial_color)"
   ]
  },
  {
   "cell_type": "code",
   "execution_count": null,
   "metadata": {},
   "outputs": [],
   "source": [
    "\"\"\"\n",
    "Unique Methods of a ValueField\n",
    "Some descendants of Raster require methods that are only appropriate to their \n",
    "contained type. Here we see two methods that are unique to the ValueField type.\n",
    "\"\"\"\n",
    "@property\n",
    "def max_value(self):\n",
    "    return max(self._pixels)\n",
    "\n",
    "@property\n",
    "def min_value(self):\n",
    "    return min(self._pixels)"
   ]
  },
  {
   "cell_type": "markdown",
   "metadata": {},
   "source": [
    "## Grids"
   ]
  },
  {
   "cell_type": "markdown",
   "metadata": {},
   "source": [
    "<img src=\"http://geometric-computation-images.s3-website-us-east-1.amazonaws.com/1.07.P25.jpg\" style=\"width: 200px; display: inline;\">\n"
   ]
  },
  {
   "cell_type": "markdown",
   "metadata": {},
   "source": [
    "### Bounds Objects in Decod.es"
   ]
  },
  {
   "cell_type": "markdown",
   "metadata": {},
   "source": [
    "<img src=\"http://geometric-computation-images.s3-website-us-east-1.amazonaws.com/3.00.D88 Bounds Large.jpg\" style=\"width: 800px; display: inline;\">\n"
   ]
  },
  {
   "cell_type": "code",
   "execution_count": null,
   "metadata": {},
   "outputs": [],
   "source": [
    "\"\"\"\n",
    "Construction of a Decod.es Bounds\n",
    "A 2d Bounds is constructed by two intervals, a 3d bounds by three. \n",
    "Alternatively, we may construct a Bounds by centerpoint and dimension.\n",
    "\"\"\"\n",
    "\n",
    "bnds_2d = Bounds(ival_x=Interval(-2,2), ival_y=Interval(-6,1))\n",
    "bnds_3d = Bounds(ival_x=Interval(), ival_y=Interval(2,1), ival_z=Interval())\n",
    "bnds_by_cpt = Bounds(center=Point(), dim_x=3.0, dim_y=1.5)"
   ]
  },
  {
   "cell_type": "markdown",
   "metadata": {},
   "source": [
    "<img src=\"http://geometric-computation-images.s3-website-us-east-1.amazonaws.com/1.07.P32.jpg\" style=\"width: 200px; display: inline;\">\n"
   ]
  },
  {
   "cell_type": "code",
   "execution_count": null,
   "metadata": {},
   "outputs": [],
   "source": [
    "\"\"\"\n",
    "Bounds Attributes\n",
    "\"\"\"\n",
    "print bnds_2d.cpt\n",
    "print bnds_3d.dim_x\n",
    "print bnds_by_cpt.ival_x"
   ]
  },
  {
   "cell_type": "code",
   "execution_count": null,
   "metadata": {},
   "outputs": [],
   "source": [
    "\"\"\"\n",
    "Bounds Encompass\n",
    "\"\"\"\n",
    "pts = [Point(-1,2), Point(-3,0), Point(2,2), Point(0,4)]\n",
    "bnds = Bounds.encompass(pts)"
   ]
  },
  {
   "cell_type": "markdown",
   "metadata": {},
   "source": [
    "### Grid Objects in Decod.es"
   ]
  },
  {
   "cell_type": "markdown",
   "metadata": {},
   "source": [
    "<img src=\"http://geometric-computation-images.s3-website-us-east-1.amazonaws.com/1.07.C06.jpg\" style=\"width: 200px; display: inline;\">"
   ]
  },
  {
   "cell_type": "markdown",
   "metadata": {},
   "source": [
    "<img src=\"http://geometric-computation-images.s3-website-us-east-1.amazonaws.com/1.07.P33.jpg\" style=\"width: 200px; display: inline;\">\n"
   ]
  },
  {
   "cell_type": "code",
   "execution_count": null,
   "metadata": {},
   "outputs": [],
   "source": [
    "\"\"\"\n",
    "Grid Initialization\n",
    "This abstract class for storing information in a spatialized raster grid format\n",
    "s constructed first by calling the Raster initialization, and then establishing \n",
    "a two-dimensional spatial bounds _bnds. Finally, a number of values concerning \n",
    "the division of this spatial bounds are pre-calculated.\n",
    "\"\"\"\n",
    "class Grid(Raster):\n",
    "    def __init__(self,pixel_dim=None,bnds=None,**kwargs):\n",
    "        super(Grid,self).__init__(pixel_dim,**kwargs)\n",
    "        if bnds is None: self._bnds = Bounds.unit_square()\n",
    "        # enforces a two-dimensional Bounds\n",
    "        else: self._bnds = Bounds(ival_x=bnds.ival_x,ival_y=bnds.ival_y ) \n",
    "        self._recalculate_base_pts()"
   ]
  },
  {
   "cell_type": "code",
   "execution_count": null,
   "metadata": {},
   "outputs": [],
   "source": [
    "\"\"\"\n",
    "Base Point Calculation\n",
    "A Grid pre-calculates values that describe the center Point of each grid cell, \n",
    "as well as divisions of the overall x and y Intervals. This pre-calculation \n",
    "eases the burden on subsequent method calls, but must be re-calculated any time \n",
    "the stored _bnds is altered.\n",
    "\"\"\"\n",
    "def _recalculate_base_pts(self):\n",
    "    self._base_pts = []\n",
    "    self._ivals_x = self.bnds.ival_x//self.px_width\n",
    "    self._ivals_y = self.bnds.ival_y//self.px_height\n",
    "    for ival_y in self._ivals_y:\n",
    "        for ival_x in self._ivals_x:\n",
    "            self._base_pts.append(Point(ival_x.mid, ival_y.mid))"
   ]
  },
  {
   "cell_type": "code",
   "execution_count": null,
   "metadata": {},
   "outputs": [],
   "source": [
    "\"\"\"\n",
    "Gridcell Center Point\n",
    "A method that returns the center point of the cell associated with the given \n",
    "address.\n",
    "\"\"\"\n",
    "def get_cpt(self,x,y):\n",
    "    return self._base_pts[y*self.px_width+x]"
   ]
  },
  {
   "cell_type": "code",
   "execution_count": null,
   "metadata": {},
   "outputs": [],
   "source": [
    "\"\"\"\n",
    "Grid Address Near\n",
    "A method that returns the address of the grid cells nearest the given location.\n",
    "This method may be passed either a point or an x,y coordinate.\n",
    "\"\"\"    \n",
    "def address_near(self,a,b=None):\n",
    "    pt = Point(a,b)\n",
    "    # find index of interval containing x-coordinate\n",
    "    if pt.x <= self.bnds.ival_x.a : idx_x = 0\n",
    "    elif pt.x >= self.bnds.ival_x.b : idx_x = self.px_width - 1\n",
    "    else: idx_x = [pt.x in ival for ival in self._ivals_x].index(True)\n",
    "    # find index of interval containing y-coordinate\n",
    "    if pt.y <= self.bnds.ival_y.a : idx_y = 0\n",
    "    elif pt.y >= self.bnds.ival_y.b : idx_y = self.px_height - 1\n",
    "    else: idx_y = [pt.y in ival for ival in self._ivals_y].index(True)\n",
    "    # return address tuple\n",
    "    return idx_x, idx_y"
   ]
  },
  {
   "cell_type": "code",
   "execution_count": null,
   "metadata": {},
   "outputs": [],
   "source": [
    "\"\"\"\n",
    "Grid Addresses Near\n",
    "Here, a collection is returned containing addresses of grid cells near to the \n",
    "given location. This method may be passed either a point or an x,y coordinate.\n",
    "\"\"\"         \n",
    "def addresses_near(self,a,b=None):\n",
    "    pt = Point(a,b)\n",
    "    add = self.address_near(pt)\n",
    "    dx = 1 if pt.x > self._ivals_x[add[0]].mid else -1\n",
    "    dy = 1 if pt.y > self._ivals_y[add[1]].mid else -1\n",
    "    adds = [add,(add[0]+dx,add[1]),(add[0]+dx,add[1]+dy),(add[0],add[1]+dy)]\n",
    "    adds = filter(lambda add: add[0]>=0 and add[0]<self.px_width, adds)\n",
    "    adds = filter(lambda add: add[1]>=0 and add[1]<self.px_height, adds)\n",
    "    return sorted(adds)"
   ]
  },
  {
   "cell_type": "code",
   "execution_count": null,
   "metadata": {},
   "outputs": [],
   "source": [
    "\"\"\"\n",
    "Grid Center Points Near\n",
    "The center points of cells near the given location are returned by this method. \n",
    "Note the use of the splat operator to pack the pixel address tuple so that they\n",
    "are passed as separate arugments to the get_cpt method.\n",
    "\"\"\"       \n",
    "def cpts_near(self,a,b=None):\n",
    "    return [self.get_cpt(*add) for add in self.addresses_near(a,b)]"
   ]
  },
  {
   "cell_type": "code",
   "execution_count": null,
   "metadata": {},
   "outputs": [],
   "source": [
    "\"\"\"\n",
    "Vec and Vecs Near\n",
    "Two methods that return closest vector or the closest set of vectors to the \n",
    "given location. Again, the splat operator is employed for argument packing.\n",
    "\"\"\"\n",
    "def vec_near(self,a,b=None):\n",
    "    return self.get(*self.address_near(a,b))\n",
    "\n",
    "def vecs_near(self,a,b=None):\n",
    "    return [self.get(*add) for add in self.addresses_near(a,b)]"
   ]
  },
  {
   "cell_type": "code",
   "execution_count": null,
   "metadata": {},
   "outputs": [],
   "source": [
    "\"\"\"\n",
    "Average Vec Near\n",
    "Returns an average vector from the near vectors around the given location. \n",
    "\"\"\"\n",
    "def avg_vec_near(self,sample_pt):\n",
    "    vecs = self.vecs_near(sample_pt)\n",
    "    dists = [1.0/sample_pt.distance2(pt) for pt in self.cpts_near(sample_pt)]\n",
    "    tot = sum(dists)\n",
    "    weights = [dist/tot for dist in dists]\n",
    "    \n",
    "    vec = Vec()\n",
    "    for v,w in zip(vec,weights): vec += v*w\n",
    "    return vec\n",
    "    "
   ]
  },
  {
   "cell_type": "markdown",
   "metadata": {},
   "source": [
    "## Multiple Inheritance"
   ]
  },
  {
   "cell_type": "markdown",
   "metadata": {},
   "source": [
    "<img src=\"http://geometric-computation-images.s3-website-us-east-1.amazonaws.com/1.07.P26.jpg\" style=\"width: 200px; display: inline;\">\n"
   ]
  },
  {
   "cell_type": "markdown",
   "metadata": {},
   "source": [
    "<img src=\"http://geometric-computation-images.s3-website-us-east-1.amazonaws.com/1.07.P10.jpg\" style=\"width: 200px; display: inline;\">\n"
   ]
  },
  {
   "cell_type": "code",
   "execution_count": null,
   "metadata": {},
   "outputs": [],
   "source": [
    "\"\"\"\n",
    "The Multiple Inheritance of a ValueGrid\n",
    "In one simple statement we define the ValueGrid type, which inherits the \n",
    "spatialized raster structure of a Grid and the methods related to storing \n",
    "numeric values of a ValueField\n",
    "\"\"\"\n",
    "class ValueGrid(Grid, ValueField):"
   ]
  },
  {
   "cell_type": "markdown",
   "metadata": {},
   "source": [
    "<img src=\"http://geometric-computation-images.s3-website-us-east-1.amazonaws.com/1.07.P11.jpg\" style=\"width: 200px; display: inline;\">\n"
   ]
  },
  {
   "cell_type": "code",
   "execution_count": null,
   "metadata": {},
   "outputs": [],
   "source": [
    "\"\"\"\n",
    "Point-Value Quartet\n",
    "A quartet represents the center points and values of four ValueGrid cells that \n",
    "meet at a corner. Since four cells are required, the effective pixel_dim of \n",
    "quartets is one fewer in each dimension than that of the ValueField which they \n",
    "describe.\n",
    "\"\"\"\n",
    "def quartet(self,x,y):\n",
    "    idxs = [(x,y),(x+1,y),(x+1,y+1),(x,y+1)]\n",
    "    # return a Tuple of (values, pts)\n",
    "    return [self.get(*xy) for xy in idxs], [self.get_cpt(*xy) for xy in idxs]"
   ]
  }
 ],
 "metadata": {
  "kernelspec": {
   "display_name": "Python 2",
   "language": "python",
   "name": "python2"
  },
  "language_info": {
   "codemirror_mode": {
    "name": "ipython",
    "version": 2
   },
   "file_extension": ".py",
   "mimetype": "text/x-python",
   "name": "python",
   "nbconvert_exporter": "python",
   "pygments_lexer": "ipython2",
   "version": "2.7.10"
  }
 },
 "nbformat": 4,
 "nbformat_minor": 2
}
