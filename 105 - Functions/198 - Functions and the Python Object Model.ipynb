{
 "cells": [
  {
   "cell_type": "code",
   "execution_count": null,
   "metadata": {},
   "outputs": [],
   "source": [
    "from decodes.core import *\n",
    "from decodes.io.jupyter_out import JupyterOut\n",
    "\n",
    "out = JupyterOut.unit_square( )"
   ]
  },
  {
   "cell_type": "markdown",
   "metadata": {},
   "source": [
    "# Functions and the Python Object Model\n",
    "todo"
   ]
  },
  {
   "cell_type": "markdown",
   "metadata": {},
   "source": [
    "### Functions as First-Class Objects"
   ]
  },
  {
   "cell_type": "code",
   "execution_count": null,
   "metadata": {},
   "outputs": [],
   "source": [
    "\n",
    "\"\"\"\n",
    "Mapping a Function to A Sequence\n",
    "Given a collection of Points pts, limits the coordinates of each Point\n",
    "to a bounds defined by two Intervals by applying the built-in map \n",
    "function.\n",
    "\"\"\"\n",
    "ival_x = Interval(1,2)\n",
    "ival_y = Interval(-1,1)\n",
    "\n",
    "def limit_to_bnds(pt):\n",
    "    pt.x = ival_x.limit_val(pt.x)\n",
    "    pt.y = ival_y.limit_val(pt.y)\n",
    "    return pt\n",
    "    \n",
    "pts = map(limit_to_bnds, pts)"
   ]
  },
  {
   "cell_type": "code",
   "execution_count": null,
   "metadata": {},
   "outputs": [],
   "source": [
    "\"\"\"\n",
    "Mapping a Function to Two Sequences\n",
    "Given a collection of Segments segs, iteratively produces a new \n",
    "Segment that spans between a Point evaluated along each given \n",
    "Segment by applying the built-in map function.\n",
    "\"\"\"\n",
    "def func(seg_a, seg_b):\n",
    "    return Segment(seg_a.eval(t),seg_b.eval(t))\n",
    "    \n",
    "for n in range(gens):\n",
    "    # shift the List of Segments to make matching pairs\n",
    "    shifted = [segs[-1]]+segs[:-1]\n",
    "    segs = map(func, segs, shifted)\n"
   ]
  },
  {
   "cell_type": "markdown",
   "metadata": {},
   "source": [
    "## Variable Scope and Lifetime"
   ]
  },
  {
   "cell_type": "code",
   "execution_count": null,
   "metadata": {},
   "outputs": [],
   "source": [
    "\"\"\"\n",
    "Scenario I\n",
    "The interior and exterior of a function are linked only through \n",
    "argument references\n",
    "\"\"\"\n",
    "pt_a = Point()\n",
    "def nudged(pt,amt):\n",
    "    vec = UZ * amt\n",
    "    #{a}\n",
    "    return pt + vec\n",
    "    \n",
    "pt_b = nudged(pt_a,10)\n",
    "#{b}\n",
    "pt_c = nudged(pt_b,20)"
   ]
  },
  {
   "cell_type": "markdown",
   "metadata": {},
   "source": [
    "<img src=\"http://geometric-computation-images.s3-website-us-east-1.amazonaws.com/1.05.D13.jpg\" style=\"width:400px; display: inline;\">"
   ]
  },
  {
   "cell_type": "markdown",
   "metadata": {},
   "source": [
    "<img src=\"http://geometric-computation-images.s3-website-us-east-1.amazonaws.com/1.05.D14.jpg\" style=\"width:400px; display: inline;\">"
   ]
  },
  {
   "cell_type": "code",
   "execution_count": null,
   "metadata": {},
   "outputs": [],
   "source": [
    "\"\"\"\n",
    "Scenario II\n",
    "A variable defined in a more global scope is referenced from within \n",
    "a function\n",
    "\"\"\"\n",
    "pt_a = Point()\n",
    "def nudged(amt):\n",
    "    vec = UZ * amt\n",
    "    #{c}\n",
    "    return pt_a + vec\n",
    "    \n",
    "pt_b = nudged(10)\n",
    "pt_c = nudged(20)\n",
    "\n"
   ]
  },
  {
   "cell_type": "markdown",
   "metadata": {},
   "source": [
    "<img src=\"http://geometric-computation-images.s3-website-us-east-1.amazonaws.com/1.05.D15.jpg\" style=\"width:400px; display: inline;\">"
   ]
  },
  {
   "cell_type": "code",
   "execution_count": null,
   "metadata": {},
   "outputs": [],
   "source": [
    "\"\"\"\n",
    "Scenario III\n",
    "Does not work as intended. Assignment of a global variable from \n",
    "within a function results in the creation of a new local variable \n",
    "with the same name.\n",
    "\"\"\"\n",
    "pt_a = Point(0,0,10)\n",
    "def reset():\n",
    "    #{d}\n",
    "    pt_a = Point()\n",
    "    print pt_a, \"at breakpoint D\"\n",
    "\n",
    "reset()\n",
    "#{e}\n",
    "print pt_a, \"at breakpoint E\"\n",
    "\n"
   ]
  },
  {
   "cell_type": "markdown",
   "metadata": {},
   "source": [
    "<img src=\"http://geometric-computation-images.s3-website-us-east-1.amazonaws.com/1.05.D16.jpg\" style=\"width:400px; display: inline;\">"
   ]
  },
  {
   "cell_type": "code",
   "execution_count": null,
   "metadata": {},
   "outputs": [],
   "source": [
    "\n",
    "\"\"\"\n",
    "Scenario IV\n",
    "Does not work as intended. Re-assignment of an argument produces only \n",
    "local effect, and does not alter the variable reference in the more \n",
    "global scope.\n",
    "\"\"\"\n",
    "pt_a = Point()\n",
    "def nudge(pt, amt):\n",
    "    vec = UZ * amt\n",
    "    #{f}\n",
    "    pt = pt + vec\n",
    "    print pt, \"at breakpoint F\"\n",
    "\n",
    "nudge(pt_a, 10)\n",
    "#{g}\n",
    "print pt_a, \"at breakpoint G\""
   ]
  },
  {
   "cell_type": "markdown",
   "metadata": {},
   "source": [
    "<img src=\"http://geometric-computation-images.s3-website-us-east-1.amazonaws.com/1.05.D17.jpg\" style=\"width:400px; display: inline;\">"
   ]
  },
  {
   "cell_type": "code",
   "execution_count": null,
   "metadata": {},
   "outputs": [],
   "source": [
    "\"\"\"\n",
    "Scenario V\n",
    "The use of the global keyword allows for the assignment of a global \n",
    "variable\n",
    "\"\"\"\n",
    "pt_a = Point(0,0,10)\n",
    "def reset():\n",
    "    global pt_a\n",
    "    #{h}\n",
    "    pt_a = Point()\n",
    "    print pt_a, \"at breakpoint H\"\n",
    "\n",
    "reset()\n",
    "#{i}\n",
    "print pt_a, \"at breakpoint I\"\n"
   ]
  },
  {
   "cell_type": "markdown",
   "metadata": {},
   "source": [
    "<img src=\"http://geometric-computation-images.s3-website-us-east-1.amazonaws.com/1.05.D18.jpg\" style=\"width:400px; display: inline;\">"
   ]
  },
  {
   "cell_type": "code",
   "execution_count": null,
   "metadata": {},
   "outputs": [],
   "source": [
    "\"\"\"\n",
    "Scenario VI\n",
    "The global variable will register the effects of manipulating the \n",
    "members of structured objects within a function\n",
    "\"\"\"\n",
    "pt_a = Point(0,0,10)\n",
    "def reset():\n",
    "    pt_a.x, pt_a.y, pt_a.z = 0,0,0\n",
    "    #{j}\n",
    "    print pt_a, \"at breakpoint J\"\n",
    "\n",
    "reset()\n",
    "#{k}\n",
    "print pt_a, \"at breakpoint K\""
   ]
  },
  {
   "cell_type": "markdown",
   "metadata": {},
   "source": [
    "## The Stack"
   ]
  },
  {
   "cell_type": "code",
   "execution_count": 3,
   "metadata": {},
   "outputs": [
    {
     "ename": "NameError",
     "evalue": "name 'faces' is not defined",
     "output_type": "error",
     "traceback": [
      "\u001b[1;31m---------------------------------------------------------------------------\u001b[0m",
      "\u001b[1;31mNameError\u001b[0m                                 Traceback (most recent call last)",
      "\u001b[1;32m<ipython-input-3-7c62c0d515bf>\u001b[0m in \u001b[0;36m<module>\u001b[1;34m()\u001b[0m\n\u001b[0;32m     18\u001b[0m \u001b[0mgens\u001b[0m \u001b[1;33m=\u001b[0m \u001b[1;36m2\u001b[0m\u001b[1;33m\u001b[0m\u001b[0m\n\u001b[0;32m     19\u001b[0m \u001b[1;32mfor\u001b[0m \u001b[0mn\u001b[0m \u001b[1;32min\u001b[0m \u001b[0mrange\u001b[0m\u001b[1;33m(\u001b[0m\u001b[0mgens\u001b[0m\u001b[1;33m)\u001b[0m\u001b[1;33m:\u001b[0m\u001b[1;33m\u001b[0m\u001b[0m\n\u001b[1;32m---> 20\u001b[1;33m     \u001b[0mfaces\u001b[0m \u001b[1;33m=\u001b[0m \u001b[0msubdivide\u001b[0m\u001b[1;33m(\u001b[0m\u001b[1;33m)\u001b[0m\u001b[1;33m\u001b[0m\u001b[0m\n\u001b[0m\u001b[0;32m     21\u001b[0m \u001b[1;33m\u001b[0m\u001b[0m\n\u001b[0;32m     22\u001b[0m \u001b[1;33m\u001b[0m\u001b[0m\n",
      "\u001b[1;32m<ipython-input-3-7c62c0d515bf>\u001b[0m in \u001b[0;36msubdivide\u001b[1;34m()\u001b[0m\n\u001b[0;32m      4\u001b[0m \u001b[1;32mdef\u001b[0m \u001b[0msubdivide\u001b[0m\u001b[1;33m(\u001b[0m\u001b[1;33m)\u001b[0m\u001b[1;33m:\u001b[0m\u001b[1;33m\u001b[0m\u001b[0m\n\u001b[0;32m      5\u001b[0m     \u001b[0msfs\u001b[0m \u001b[1;33m=\u001b[0m \u001b[1;33m[\u001b[0m\u001b[1;33m]\u001b[0m\u001b[1;33m\u001b[0m\u001b[0m\n\u001b[1;32m----> 6\u001b[1;33m     \u001b[1;32mwhile\u001b[0m \u001b[0mfaces\u001b[0m\u001b[1;33m:\u001b[0m\u001b[1;33m\u001b[0m\u001b[0m\n\u001b[0m\u001b[0;32m      7\u001b[0m         \u001b[0mfac\u001b[0m \u001b[1;33m=\u001b[0m \u001b[0mfaces\u001b[0m\u001b[1;33m.\u001b[0m\u001b[0mpop\u001b[0m\u001b[1;33m(\u001b[0m\u001b[1;33m)\u001b[0m\u001b[1;33m\u001b[0m\u001b[0m\n\u001b[0;32m      8\u001b[0m \u001b[1;33m\u001b[0m\u001b[0m\n",
      "\u001b[1;31mNameError\u001b[0m: name 'faces' is not defined"
     ]
    }
   ],
   "source": [
    "for n in range(gens): \n",
    "    faces = subdivide()\n",
    "    \n",
    "\"\"\"\n",
    "A function\n",
    "\"\"\"\n",
    "def subdivide():\n",
    "    sfs = []\n",
    "    while faces:\n",
    "        fac = faces.pop()\n",
    "\n",
    "        cen = Point.centroid([seg.ept for seg in fac])\n",
    "\n",
    "        csubs = [Segment(seg.ept,cen) for seg in fac]\n",
    "        sfs.append((fac[0],csubs[0],csubs[2].inverted()))\n",
    "        sfs.append((fac[1],csubs[1],csubs[0].inverted()))\n",
    "        sfs.append((fac[2],csubs[2],csubs[1].inverted()))\n",
    "        \n",
    "    return sfs\n",
    "\n",
    "\"\"\"\n",
    "The static method of the Point class (will not run in this context)\n",
    "\n",
    "@staticmethod\n",
    "def centroid(pts):\n",
    "    return Point(Vec.average(pts))\n",
    "    \n",
    "\"\"\""
   ]
  },
  {
   "cell_type": "markdown",
   "metadata": {},
   "source": [
    "<img src=\"http://geometric-computation-images.s3-website-us-east-1.amazonaws.com/1.05.B01.jpg\" style=\"width:800px; display: inline;\">"
   ]
  },
  {
   "cell_type": "markdown",
   "metadata": {},
   "source": [
    "<img src=\"http://geometric-computation-images.s3-website-us-east-1.amazonaws.com/1.05.B02.jpg\" style=\"width:800px; display: inline;\">"
   ]
  },
  {
   "cell_type": "markdown",
   "metadata": {},
   "source": [
    "<img src=\"http://geometric-computation-images.s3-website-us-east-1.amazonaws.com/1.05.B03.jpg\" style=\"width:800px; display: inline;\">"
   ]
  },
  {
   "cell_type": "markdown",
   "metadata": {},
   "source": [
    "<img src=\"http://geometric-computation-images.s3-website-us-east-1.amazonaws.com/1.05.B04.jpg\" style=\"width:800px; display: inline;\">"
   ]
  },
  {
   "cell_type": "markdown",
   "metadata": {},
   "source": [
    "<img src=\"http://geometric-computation-images.s3-website-us-east-1.amazonaws.com/1.05.B05.jpg\" style=\"width:800px; display: inline;\">"
   ]
  },
  {
   "cell_type": "markdown",
   "metadata": {},
   "source": [
    "<img src=\"http://geometric-computation-images.s3-website-us-east-1.amazonaws.com/1.05.B06.jpg\" style=\"width:800px; display: inline;\">"
   ]
  },
  {
   "cell_type": "code",
   "execution_count": null,
   "metadata": {},
   "outputs": [],
   "source": []
  }
 ],
 "metadata": {
  "kernelspec": {
   "display_name": "Python 2",
   "language": "python",
   "name": "python2"
  },
  "language_info": {
   "codemirror_mode": {
    "name": "ipython",
    "version": 2
   },
   "file_extension": ".py",
   "mimetype": "text/x-python",
   "name": "python",
   "nbconvert_exporter": "python",
   "pygments_lexer": "ipython2",
   "version": "2.7.10"
  }
 },
 "nbformat": 4,
 "nbformat_minor": 2
}
