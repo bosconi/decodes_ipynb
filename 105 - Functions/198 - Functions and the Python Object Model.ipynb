{
 "cells": [
  {
   "cell_type": "code",
   "execution_count": null,
   "metadata": {},
   "outputs": [],
   "source": [
    "from decodes.core import *\n",
    "from decodes.io.jupyter_out import JupyterOut\n",
    "\n",
    "out = JupyterOut.unit_square( )"
   ]
  },
  {
   "cell_type": "markdown",
   "metadata": {},
   "source": [
    "# Functions and the Python Object Model\n",
    "\n",
    "We may now consider the nature of functions as they operate within the unique model of object-oriented programming offered by Python. This section addresses three considerations: \n",
    "* Python functions are themselves first-class objects.\n",
    "* Code contained within Python functions can access objects outside of their local frame.\n",
    "* Functions direct the flow of program execution by spawning a cascade of sub-procedures called \"the stack\".\n",
    "\n",
    "Earlier, we stated that while it is legal to refer to variables in a more global scope than the one currently executing, this practice is largely inadvisable. Below, we explore why this is the case. It is nearly always preferable to exchange data between a function and its calling context using the formal mechanisms of arguments and return values.\n",
    "\n",
    "\n"
   ]
  },
  {
   "cell_type": "markdown",
   "metadata": {},
   "source": [
    "### Functions as First-Class Objects\n",
    "\n",
    "A Python function is considered first-class because it enjoys all the\n",
    "privileges of any other object in memory: \n",
    "* Functions may be assigned to variables. \n",
    "* Functions may be programmatically created, stored, and destroyed\n",
    "* Functions may be offered as the return value of other functions. \n",
    "* Functions may be ***passed as an argument to other functions***.\n",
    "\n",
    "The `map()` function is built into the Python language, and takes a function as one of its arguments. This function iteratively applies, or “maps”, a given function to a sequence of values that are regarded as arguments, and returns a collection of the resulting values. In its simplest form, it reproduces the process of looping over the given values and collecting the results.\n",
    "\n",
    "The statement `map(func,vals)` is equivalent to the List comprehension \n",
    "    \n",
    "    [func(v) for v in vals]\n",
    "\n",
    "Multiple value Lists may be used.\n",
    "\n",
    "The statement `map(func,vals_a,vals_b)` is exactly equivalent to the statement\n",
    "\n",
    "    [func(a,b) for a,b in zip(vals_a,vals_b)]\n",
    "\n",
    "The first piece of code below uses this function to limit a given collection of Points to a given x- and y-coordinate bounds. The second piece of code below defines a function that takes two arguments, and passes two sequences of values to the `map()` function. Both of these examples offer a new means to familiar ends."
   ]
  },
  {
   "cell_type": "code",
   "execution_count": null,
   "metadata": {},
   "outputs": [],
   "source": [
    "\n",
    "\"\"\"\n",
    "Mapping a Function to A Sequence\n",
    "Given a collection of Points pts, limits the coordinates of each Point\n",
    "to a bounds defined by two Intervals by applying the built-in map \n",
    "function.\n",
    "\"\"\"\n",
    "ival_x = Interval(1,2)\n",
    "ival_y = Interval(-1,1)\n",
    "\n",
    "def limit_to_bnds(pt):\n",
    "    pt.x = ival_x.limit_val(pt.x)\n",
    "    pt.y = ival_y.limit_val(pt.y)\n",
    "    return pt\n",
    "    \n",
    "pts = map(limit_to_bnds, pts)"
   ]
  },
  {
   "cell_type": "code",
   "execution_count": null,
   "metadata": {},
   "outputs": [],
   "source": [
    "\"\"\"\n",
    "Mapping a Function to Two Sequences\n",
    "Given a collection of Segments segs, iteratively produces a new \n",
    "Segment that spans between a Point evaluated along each given \n",
    "Segment by applying the built-in map function.\n",
    "\"\"\"\n",
    "def func(seg_a, seg_b):\n",
    "    return Segment(seg_a.eval(t),seg_b.eval(t))\n",
    "    \n",
    "for n in range(gens):\n",
    "    # shift the List of Segments to make matching pairs\n",
    "    shifted = [segs[-1]]+segs[:-1]\n",
    "    segs = map(func, segs, shifted)\n"
   ]
  },
  {
   "cell_type": "markdown",
   "metadata": {},
   "source": [
    "## Variable Scope and Lifetime\n",
    "\n",
    "Variables initialized within a function are not available to code outside of that function, and are limited to the lifetime of the function. This is not true for variables defined within or as iterators for a loop, which do remain available outside the codeblock in which they are instantiated, and persist beyond the lifetime of the loop.\n",
    "\n",
    "***What can account for this difference in the behavior?***\n",
    "\n",
    "Two concepts in OOP offer a rationale:\n",
    "* ***scope***, the parts of a program to which a variable is accessible\n",
    "* ***lifetime***, the duration of the existence of a variable\n",
    "\n",
    "Any variable defined in the main body of a script, including those within codeblocks related to control-flow structures, are called ***global variables***. These are available for access throughout the file (they have *global scope*) and persist for the duration of the shell (they have an *unlimited lifetime*) unless they are explicitly deleted. \n",
    "\n",
    "In contrast, any variable defined within the body of a function, including the\n",
    "codeblocks contained within the function, are called ***local variables***. These are accessible only by subsequent statements within the function (they are *locally scoped*) and exist only as long as the function is executing (they have a *limited lifetime*). When the function is complete, these variables are removed from memory.\n",
    "\n",
    "While they provide a connection to its calling context, ***the arguments of a function are treated as local variables***.\n",
    "\n",
    "A series of small examples illustrates the distinction between local and global variables when working with functions."
   ]
  },
  {
   "cell_type": "markdown",
   "metadata": {},
   "source": [
    "### Scenario I\n",
    "Here we demonstrate the typical situation of linking the interior and exterior of a function only by arguments. \n",
    "\n",
    "The variable `pt_a` is defined in the global scope before the initialization of the function `nudged()`, and remains available for the lifetime of the script. The variable `vec` is a local variable defined within the function, and persists only as the function is executing and is therefore unavailable outside of this scope."
   ]
  },
  {
   "cell_type": "code",
   "execution_count": null,
   "metadata": {},
   "outputs": [],
   "source": [
    "\"\"\"\n",
    "Scenario I\n",
    "The interior and exterior of a function are linked only through \n",
    "argument references\n",
    "\"\"\"\n",
    "pt_a = Point()\n",
    "def nudged(pt,amt):\n",
    "    vec = UZ * amt\n",
    "    return pt + vec #{breakpoint a}\n",
    "    \n",
    "pt_b = nudged(pt_a,10)\n",
    "pt_c = nudged(pt_b,20)  #{breakpoint b}"
   ]
  },
  {
   "cell_type": "markdown",
   "metadata": {},
   "source": [
    "<img src=\"http://geometric-computation-images.s3-website-us-east-1.amazonaws.com/1.05.D13.jpg\" style=\"width:400px; display: inline;\">"
   ]
  },
  {
   "cell_type": "markdown",
   "metadata": {},
   "source": [
    "<img src=\"http://geometric-computation-images.s3-website-us-east-1.amazonaws.com/1.05.D14.jpg\" style=\"width:400px; display: inline;\">"
   ]
  },
  {
   "cell_type": "markdown",
   "metadata": {},
   "source": [
    "### Scenario II\n",
    "\n",
    "Here we find a reference to a variable defined in a more global scope. Again, `pt_a` is a global variable and `vec` is a local variable, but in contrast to the code above, the global variable is referenced from within the body of the function. This is a perfectly legal reference to a more global scope, as `pt_a` is available at the point from which it is called at breakpoint C."
   ]
  },
  {
   "cell_type": "code",
   "execution_count": null,
   "metadata": {},
   "outputs": [],
   "source": [
    "\"\"\"\n",
    "Scenario II\n",
    "A variable defined in a more global scope is referenced from within \n",
    "a function\n",
    "\"\"\"\n",
    "pt_a = Point()\n",
    "def nudged(amt):\n",
    "    vec = UZ * amt\n",
    "    return pt_a + vec  #{breakpoint c}\n",
    "    \n",
    "pt_b = nudged(10)\n",
    "pt_c = nudged(20)\n",
    "\n"
   ]
  },
  {
   "cell_type": "markdown",
   "metadata": {},
   "source": [
    "<img src=\"http://geometric-computation-images.s3-website-us-east-1.amazonaws.com/1.05.D15.jpg\" style=\"width:400px; display: inline;\">"
   ]
  },
  {
   "cell_type": "markdown",
   "metadata": {},
   "source": [
    "### Scenario III\n",
    "\n",
    "While access is permitted in these situations, assignment is not. \n",
    "\n",
    "Once again, `pt_a` is defined in the global scope and is available for access from within the function. However, when we attempt to assign to this variable within the function, creating a reference to a freshly initialized Point on the first line, something unexpected happens. \n",
    "\n",
    "Rather than re-assigning the existing global variable to a new object, an entirely new local one is created with the same name. Since this new local variable is available for access and modification within the function, the print statement at breakpoint D represents the values of this new Point at coordinates (0,0,0). \n",
    "\n",
    "It appears from within the function that we have modified `pt_a`, but in truth we have done so only with local effect. The global variable `pt_a` and its related object remain unaffected. At breakpoint E, after the function exits and the local variables are discarded, we see that the original value remains."
   ]
  },
  {
   "cell_type": "code",
   "execution_count": null,
   "metadata": {},
   "outputs": [],
   "source": [
    "\"\"\"\n",
    "Scenario III\n",
    "Does not work as intended. Assignment of a global variable from \n",
    "within a function results in the creation of a new local variable \n",
    "with the same name.\n",
    "\"\"\"\n",
    "pt_a = Point(0,0,10)\n",
    "def reset():\n",
    "    pt_a = Point()  #{breakpoint d}\n",
    "    print pt_a, \"at breakpoint D\"\n",
    "\n",
    "reset()\n",
    "print pt_a, \"at breakpoint E\"  #{breakpoint e}\n",
    "\n"
   ]
  },
  {
   "cell_type": "markdown",
   "metadata": {},
   "source": [
    "<img src=\"http://geometric-computation-images.s3-website-us-east-1.amazonaws.com/1.05.D16.jpg\" style=\"width:400px; display: inline;\">"
   ]
  },
  {
   "cell_type": "markdown",
   "metadata": {},
   "source": [
    "### Scenario IV\n",
    "\n",
    "Attempts to re-assign a variable that has been passed into a function as an argument. Since the arguments of a function are treated as local variables, this code misbehaves in much the same manner as the previous. \n",
    "\n",
    "While the global variable `pt_a` and the local argument `pt` both refer to the same object, at breakpoint F the object reference associated with `pt` is re-assigned to the result of the `pt + vec` expression (which produces an entirely new object), leaving the more global object reference intact. \n",
    "\n",
    "Again, any subsequent calls to `pt` within the scope of the function will reflect the values of the new object, but once the function exits, we can see that this is only a local effect as the global variable `pt_a` remains unaffected at breakpoint G."
   ]
  },
  {
   "cell_type": "code",
   "execution_count": null,
   "metadata": {},
   "outputs": [],
   "source": [
    "\n",
    "\"\"\"\n",
    "Scenario IV\n",
    "Does not work as intended. Re-assignment of an argument produces only \n",
    "local effect, and does not alter the variable reference in the more \n",
    "global scope.\n",
    "\"\"\"\n",
    "pt_a = Point()\n",
    "def nudge(pt, amt):\n",
    "    vec = UZ * amt\n",
    "    pt = pt + vec  #{breakpoint f}\n",
    "    print pt, \"at breakpoint F\"\n",
    "\n",
    "nudge(pt_a, 10)\n",
    "print pt_a, \"at breakpoint G\"  #{breakpoint g}"
   ]
  },
  {
   "cell_type": "markdown",
   "metadata": {},
   "source": [
    "<img src=\"http://geometric-computation-images.s3-website-us-east-1.amazonaws.com/1.05.D17.jpg\" style=\"width:400px; display: inline;\">"
   ]
  },
  {
   "cell_type": "markdown",
   "metadata": {},
   "source": [
    "### Scenario V\n",
    "\n",
    "To properly achieve the desired effect of these two scripts, and to re-assign a global variable from within a function, we must explicitly tell the Python shell that this is our intention. To do so requires the use of the keyword ***`global`***, which is used exclusively for this purpose."
   ]
  },
  {
   "cell_type": "code",
   "execution_count": null,
   "metadata": {},
   "outputs": [],
   "source": [
    "\"\"\"\n",
    "Scenario V\n",
    "The use of the global keyword allows for the assignment of a global \n",
    "variable\n",
    "\"\"\"\n",
    "pt_a = Point(0,0,10)\n",
    "def reset():\n",
    "    global pt_a\n",
    "    pt_a = Point()  #{breakpoint h}\n",
    "    print pt_a, \"at breakpoint H\"\n",
    "\n",
    "reset()\n",
    "print pt_a, \"at breakpoint I\"  #{breakpoint i}\n"
   ]
  },
  {
   "cell_type": "markdown",
   "metadata": {},
   "source": [
    "<img src=\"http://geometric-computation-images.s3-website-us-east-1.amazonaws.com/1.05.D18.jpg\" style=\"width:400px; display: inline;\">"
   ]
  },
  {
   "cell_type": "markdown",
   "metadata": {},
   "source": [
    "### Scenario VI\n",
    "\n",
    "All of the above examples operate on a global variable that refers to a structured object, but would manifest different behavior if operating on a primitive object. \n",
    "\n",
    "Given that we are operating on a structured object, and that out-of-scope access is treated differently than assignment, an alternative to using the `global` keyword is to avoid re-assigning the reference, and instead re-assigning each member. \n",
    "\n",
    "Consider the code below, which achieves the goal of “resetting” a Point to the world origin by individually setting its x,y, and z coordinates. Any similar modification of the members of an object referenced by a global variable is permitted without the `global` keyword."
   ]
  },
  {
   "cell_type": "code",
   "execution_count": null,
   "metadata": {},
   "outputs": [],
   "source": [
    "\"\"\"\n",
    "Scenario VI\n",
    "The global variable will register the effects of manipulating the \n",
    "members of structured objects within a function\n",
    "\"\"\"\n",
    "pt_a = Point(0,0,10)\n",
    "def reset():\n",
    "    pt_a.x, pt_a.y, pt_a.z = 0,0,0\n",
    "    print pt_a, \"at breakpoint J\" #{breakpoint j}\n",
    "\n",
    "reset()\n",
    "print pt_a, \"at breakpoint K\" #{breakpoint k}"
   ]
  },
  {
   "cell_type": "markdown",
   "metadata": {},
   "source": [
    "## The Stack\n",
    "\n",
    "Functions involve a manipulation of the way in which the Python shell moves across our code from statement to statement, evaluating expressions and storing objects in memory. How are these movements organized across the multiplicity of frames engendered by function calls?\n",
    "\n",
    "From our discussion of the evaluation of statements, We can imagine that the process of evaluating one set of statements might be “paused” when a function call is encountered, and must wait at that location until the results of another process that evaluates the contents of that function become available. \n",
    "\n",
    "This presumption is basically correct, and that the Python shell proceeds in this way through a mechanism called a ***call stack***.\n",
    "\n",
    "The “stack”, is a collection-like data structure common to nearly all programming languages. Its purpose is to keep track of the ongoing processes and spaces of computer memory related to a program.\n",
    "\n",
    "The main body of our script and its related frame as the first item on the stack. Each time a function is called, a new routine is spawned, and a new frame is added to the stack. This process continues, resulting in a cascade of frames.\n",
    "\n",
    "Each time a function finishes executing, the related item on the stack is discarded and control returns to the context from which the function was called."
   ]
  },
  {
   "cell_type": "markdown",
   "metadata": {},
   "source": [
    "To illustrate, consider the movements of the interpreter and the nature of the stack as they navigate between the frames constructed by one of the subdivision routines presented earlier."
   ]
  },
  {
   "cell_type": "code",
   "execution_count": null,
   "metadata": {},
   "outputs": [],
   "source": [
    "for n in range(gens): \n",
    "    faces = subdivide()\n",
    "    \n",
    "\"\"\"\n",
    "A function\n",
    "\"\"\"\n",
    "def subdivide():\n",
    "    sfs = []\n",
    "    while faces:\n",
    "        fac = faces.pop()\n",
    "\n",
    "        cen = Point.centroid([seg.ept for seg in fac])\n",
    "\n",
    "        csubs = [Segment(seg.ept,cen) for seg in fac]\n",
    "        sfs.append((fac[0],csubs[0],csubs[2].inverted()))\n",
    "        sfs.append((fac[1],csubs[1],csubs[0].inverted()))\n",
    "        sfs.append((fac[2],csubs[2],csubs[1].inverted()))\n",
    "        \n",
    "    return sfs\n",
    "\n",
    "\"\"\"\n",
    "The static method of the Point class (will not run in this context)\n",
    "\n",
    "@staticmethod\n",
    "def centroid(pts):\n",
    "    return Point(Vec.average(pts))\n",
    "    \n",
    "\"\"\""
   ]
  },
  {
   "cell_type": "markdown",
   "metadata": {},
   "source": [
    "The main work of this routine is a simple loop across a series of numbered generations `gens`. We’ll call the frame associated with the main body of this code ***frame A***, as seen in the nearby control-flow diagram. \n",
    "\n",
    "At breakpoint A, we can see that a call to the `subdivide()` function has been reached, the results of which are assigned to the variable faces. At this point, the process of interpreting the code in ***frame A*** must wait, and a new process is spawned to interpret the called function and return a value."
   ]
  },
  {
   "cell_type": "markdown",
   "metadata": {},
   "source": [
    "<img src=\"http://geometric-computation-images.s3-website-us-east-1.amazonaws.com/1.05.B01.jpg\" style=\"width:800px; display: inline;\">"
   ]
  },
  {
   "cell_type": "markdown",
   "metadata": {},
   "source": [
    "This results in the creation of a new frame which we may call ***frame B***."
   ]
  },
  {
   "cell_type": "markdown",
   "metadata": {},
   "source": [
    "<img src=\"http://geometric-computation-images.s3-website-us-east-1.amazonaws.com/1.05.B02.jpg\" style=\"width:800px; display: inline;\">"
   ]
  },
  {
   "cell_type": "markdown",
   "metadata": {},
   "source": [
    "Here we see that that the process of interpreting ***frame A*** has been frozen in place (note the grayed-out breakpoint that marks the current position), while the process of interpreting the code related to ***frame B*** is carried out."
   ]
  },
  {
   "cell_type": "markdown",
   "metadata": {},
   "source": [
    "Any expression that requires another bit of code in its evaluation can be similarly unpacked. \n",
    "\n",
    "For example, the call to the method `Point.centroid()` at breakpoint B of ***frame B***. The code required to evaluate this expression is a part of the Decod.es library. While the lines of code required to produce a value are not present in our script, the process is exactly as if they were. \n",
    "\n",
    "At this point in the interpretation of the `subdivide()` function, the process is paused, and another is spawned and added to the stack. As we can see in the nearby control flow diagram, this new frame returns a value to its calling context after just one line of code."
   ]
  },
  {
   "cell_type": "markdown",
   "metadata": {},
   "source": [
    "<img src=\"http://geometric-computation-images.s3-website-us-east-1.amazonaws.com/1.05.B03.jpg\" style=\"width:800px; display: inline;\">"
   ]
  },
  {
   "cell_type": "markdown",
   "metadata": {},
   "source": [
    "After returning a value, ***frame C*** is discarded and all contained objects are deleted. Back in ***frame B***, with the value of the `Point.centroid()` method evaluated, the process of evaluating the `subdivide()` function may continue on its way."
   ]
  },
  {
   "cell_type": "markdown",
   "metadata": {},
   "source": [
    "<img src=\"http://geometric-computation-images.s3-website-us-east-1.amazonaws.com/1.05.B04.jpg\" style=\"width:800px; display: inline;\">"
   ]
  },
  {
   "cell_type": "markdown",
   "metadata": {},
   "source": [
    "Eventually, after some number of loops, the `return` statement is reached, and ***frame B*** meets the same fate as ***frame C***."
   ]
  },
  {
   "cell_type": "markdown",
   "metadata": {},
   "source": [
    "<img src=\"http://geometric-computation-images.s3-website-us-east-1.amazonaws.com/1.05.B05.jpg\" style=\"width:800px; display: inline;\">"
   ]
  },
  {
   "cell_type": "markdown",
   "metadata": {},
   "source": [
    "With the entire cascade of frames exhausted, a value is returned to ***frame A***, and is assigned to the variable `faces`."
   ]
  },
  {
   "cell_type": "markdown",
   "metadata": {},
   "source": [
    "<img src=\"http://geometric-computation-images.s3-website-us-east-1.amazonaws.com/1.05.B06.jpg\" style=\"width:800px; display: inline;\">"
   ]
  },
  {
   "cell_type": "markdown",
   "metadata": {},
   "source": [
    "All of this resulted from just one call to the `subdivide()` function, and produced a single value. This same choreography is repeated often over the course of a script. Any one of the expressions found in this code can be similarly drilled down, and are neither limited to the bounds of the script from which it is appears nor those of the imported module of the Decod.es library. The evaluation of a single script can make use of the entirety of the Python language, and the frames spawned by the procedures can well extend down to this lowest of levels. \n",
    "\n",
    "A textual account of the stack is given when an error occurs during a function call, at which time Python prints the name of every function in the entire stack, called a ***traceback***. This abbreviated historical account of execution can be used effectively to find the location and nature of the error: in what program file, in what line and what functions were executing at the time."
   ]
  },
  {
   "cell_type": "code",
   "execution_count": null,
   "metadata": {},
   "outputs": [],
   "source": []
  }
 ],
 "metadata": {
  "kernelspec": {
   "display_name": "Python 3",
   "language": "python",
   "name": "python3"
  },
  "language_info": {
   "codemirror_mode": {
    "name": "ipython",
    "version": 3
   },
   "file_extension": ".py",
   "mimetype": "text/x-python",
   "name": "python",
   "nbconvert_exporter": "python",
   "pygments_lexer": "ipython3",
   "version": "3.6.4"
  }
 },
 "nbformat": 4,
 "nbformat_minor": 2
}
