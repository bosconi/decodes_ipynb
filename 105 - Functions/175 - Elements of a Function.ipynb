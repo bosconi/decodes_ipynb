{
 "cells": [
  {
   "cell_type": "code",
   "execution_count": null,
   "metadata": {},
   "outputs": [],
   "source": [
    "from decodes.core import *\n",
    "from decodes.io.jupyter_out import JupyterOut\n",
    "import math\n",
    "\n",
    "out = JupyterOut.unit_square( )\n",
    "pts = [Point.random() for n in range(5)]"
   ]
  },
  {
   "cell_type": "markdown",
   "metadata": {},
   "source": [
    "# Elements of a Function\n",
    "\n",
    "The basic elements by which the code inside a function is interpreted by the Python shell are in many ways identical to any other block of code. As previously discussed, the contained code is interpreted according to the mechanisms of control flow to produce and manipulate objects in memory. While the syntax and flow of execution is very similar, the context of the execution of this code differs in two important ways:\n",
    "\n",
    "* a function may be passed information from its calling context via ***arguments***. \n",
    "* a function may return information to that context via ***return values***.\n",
    "\n",
    "Without these elements, functions serve simply as a form of control flow, directing the interpretation of our scripts to distant files or blocks of code."
   ]
  },
  {
   "cell_type": "markdown",
   "metadata": {},
   "source": [
    "Geometric subdivision will be our guide through a series of progressively elaborate functions. Each will operate on collections of linear elements, and will manipulate a common data structure that is referred to as a “face”, defined as a collection of three or four connected Segments that describe triangles or quadrilaterals. \n",
    "\n",
    "Both data structure and vocabulary anticipates the Decod.es Mesh."
   ]
  },
  {
   "cell_type": "markdown",
   "metadata": {},
   "source": [
    "<img src=\"http://geometric-computation-images.s3-website-us-east-1.amazonaws.com/1.05.P03.jpg\" style=\"width: 200px; display: inline;\">"
   ]
  },
  {
   "cell_type": "markdown",
   "metadata": {},
   "source": [
    "<img src=\"http://geometric-computation-images.s3-website-us-east-1.amazonaws.com/1.05.D06.jpg\" style=\"width: 600px; display: inline;\">"
   ]
  },
  {
   "cell_type": "markdown",
   "metadata": {},
   "source": [
    "## Procedures\n",
    "\n",
    "A ***procedure*** is the simplest possible regular function, it is a Python function that accepts no arguments and returns no values.\n",
    "\n",
    "Each time the following procedure `subdivide()` is called, the most recent set of four-sided faces is subdivided, the result of which is appended to the end of a collection of “generations” of faces, `fgen`s. By procedure end, the entire history of subdivision has been stored with a record for each step in the process."
   ]
  },
  {
   "cell_type": "code",
   "execution_count": null,
   "metadata": {},
   "outputs": [],
   "source": [
    "\n",
    "\"\"\"\n",
    "Edge-to-Center Rectangular Subdivision\n",
    "Given a division value div_val, and a data structure for faces \n",
    "(defined  by a properly structured three-dimensional collection of \n",
    "Segments),  a recursive subdivision routine is performed to a given \n",
    "number of generations.\n",
    "\"\"\"\n",
    "def subdivide():\n",
    "    faces, subfaces = fgens[-1], []\n",
    "    for fac in faces:\n",
    "        #{b} a Point at the center of the face\n",
    "        cen = Point.centroid([seg.ept for seg in fac])\n",
    "        # midpoints of each edge\n",
    "        pts = [seg.eval(div_val) for seg in fac]\n",
    "        # starting edge sub-Segments\n",
    "        ssubs = [Segment(seg.spt,pt) for seg,pt in zip(fac,pts)]\n",
    "        # ending edge sub-Segments\n",
    "        esubs = [Segment(pt,seg.ept) for seg,pt in zip(fac,pts)]\n",
    "        # middle sub-Segments\n",
    "        msubs = [a(pt,cen) for pt in pts]\n",
    "        \n",
    "        # weave together subdivided segs into four new faces\n",
    "        subfaces.append( (ssubs[0],msubs[0],msubs[3].inverted(),esubs[3]) )\n",
    "        subfaces.append( (ssubs[1],msubs[1],msubs[0].inverted(),esubs[0]) )\n",
    "        subfaces.append( (ssubs[2],msubs[2],msubs[1].inverted(),esubs[1]) )\n",
    "        subfaces.append( (ssubs[3],msubs[3],msubs[2].inverted(),esubs[2]) )\n",
    "        \n",
    "    fgens.append(subfaces)\n",
    "    \n",
    "# {a} subdivide for a given number of generations\n",
    "for n in range(gens): \n",
    "    subdivide()\n"
   ]
  },
  {
   "cell_type": "markdown",
   "metadata": {},
   "source": [
    "The geometric details of the procedure are relatively simple. \n",
    "\n",
    "* First, some intermediate geometric variables are defined. Each of the four given Segments are divided into two at a Point determined by `div_val`, and stored in the variables `ssubs` and `esubs`. A third set of Segments then join the centroid of the face with the division Point, and are stored in the variable `msubs`.\n",
    "* Next, these three sets of Segments are woven together to form four new sub-faces, which are appended to the temporary collection `subfaces`, with care taken to ensure that the winding direction of each Segment of the new faces is in alignment by making use of the `inverted()` method. \n",
    "* Finally, the newly generated subfaces are stored such that they may themselves be subdivided in subsequent steps."
   ]
  },
  {
   "cell_type": "markdown",
   "metadata": {},
   "source": [
    "<img src=\"http://geometric-computation-images.s3-website-us-east-1.amazonaws.com/1.05.P02.jpg\" style=\"width: 200px; display: inline;\">"
   ]
  },
  {
   "cell_type": "markdown",
   "metadata": {},
   "source": [
    "<img src=\"http://geometric-computation-images.s3-website-us-east-1.amazonaws.com/1.05.D07.jpg\" style=\"width:400px; display: inline;\">"
   ]
  },
  {
   "cell_type": "markdown",
   "metadata": {},
   "source": [
    "Notice that the `fgens` data structure persists between subdivisions, and is referenced within the `subdivide()` procedure, but is not passed in as an argument."
   ]
  },
  {
   "cell_type": "markdown",
   "metadata": {},
   "source": [
    "To understand the ramifications of this arrangement, let’s take a look at the object model diagram as it would appear while the procedure is executing.\n",
    "\n",
    "We can see that the faces variable is defined within the scope of the `subdivide()` procedure, but refers to the first item in the `fgens` collection - an object that exists outside the scope of this procedure. Referring to objects in a global scope beyond the one currently executing is a legal operation in Python, it is ***inadvisable***."
   ]
  },
  {
   "cell_type": "markdown",
   "metadata": {},
   "source": [
    "<img src=\"http://geometric-computation-images.s3-website-us-east-1.amazonaws.com/1.05.D08.jpg\" style=\"width:400px; display: inline;\">"
   ]
  },
  {
   "cell_type": "markdown",
   "metadata": {},
   "source": [
    "## Recovering Values from Functions\n",
    "\n",
    "The syntactical template for returning values consists of the keyword `return`, followed by an expression that is evaluated to a single value or a collection of values. When the function is executed, the object that results from the first evaluation of a return statement is substituted for the function call in any calling statements.\n",
    "\n",
    "    def function_name():\n",
    "        do_some_things\n",
    "        return some_thing\n",
    "\n",
    "The `return` statement signals the termination of a block of code. Even though a single function might contain several return statements, only one of them will be evaluated for any given function call. After an object is returned, the function will exit back to the calling context, and ***no other statements will be executed***.\n",
    "\n",
    "Consider the following common pattern of code, in which either an_object or another_object is returned.\n",
    "\n",
    "    def function_name():\n",
    "        if a_boolean:\n",
    "            return an_object\n",
    "        return another_object\n",
    "        raise OMGWeAreDoomedException"
   ]
  },
  {
   "cell_type": "markdown",
   "metadata": {},
   "source": [
    "A revision of the subdivision script presents a chance to see the return statement in action. \n",
    "\n",
    "This revised function accomplishes a similar task to the previous version without the contortions to assign values to a collection outside of the scope of the function, instead creating and returning a new collection of faces each time the function is called."
   ]
  },
  {
   "cell_type": "markdown",
   "metadata": {},
   "source": [
    "<img src=\"http://geometric-computation-images.s3-website-us-east-1.amazonaws.com/1.05.P04.jpg\" style=\"width: 200px; display: inline;\">"
   ]
  },
  {
   "cell_type": "code",
   "execution_count": null,
   "metadata": {},
   "outputs": [],
   "source": [
    "\n",
    "\"\"\"\n",
    "Corner-to-Center Triangular Subdivision\n",
    "Each face in a given collection of faces is iteratively removed from \n",
    "the collection and subdivided, the results of which are collected in \n",
    "the subfaces List. At the end of each cycle, the subfaces List \n",
    "overwrites the faces List, and the process continues.\n",
    "\"\"\"\n",
    "def subdivide():\n",
    "    subfaces = []\n",
    "    # so long as faces remain,\n",
    "    while faces:\n",
    "        # remove the first remaining face in faces\n",
    "        fac = faces.pop()\n",
    "        cen = Point.centroid([seg.ept for seg in fac])\n",
    "        # sub-Segments from each corner to the center\n",
    "        csubs = [Segment(seg.ept,cen) for seg in fac]\n",
    "        \n",
    "        # {b} weave together subdivided Segments into three new faces\n",
    "        subfaces.append( (fac[0],csubs[0],csubs[2].inverted())  )\n",
    "        subfaces.append( (fac[1],csubs[1],csubs[0].inverted())  )\n",
    "        subfaces.append( (fac[2],csubs[2],csubs[1].inverted())  )\n",
    "        \n",
    "    return subfaces\n",
    "\n",
    "for n in range(gens): \n",
    "    # {a} overwrite faces with the results of the subdivision\n",
    "    faces = subdivide()\n"
   ]
  },
  {
   "cell_type": "markdown",
   "metadata": {},
   "source": [
    "While the variable `faces` is still referenced from outside the scope of the procedure, no objects are appended to it. Instead, objects are iteratively removed from faces using the `pop()` method, and a new collection subfaces is defined inside the function in order to store the subdivided faces."
   ]
  },
  {
   "cell_type": "markdown",
   "metadata": {},
   "source": [
    "<img src=\"http://geometric-computation-images.s3-website-us-east-1.amazonaws.com/1.05.D09.jpg\" style=\"width:600px; display: inline;\">"
   ]
  },
  {
   "cell_type": "markdown",
   "metadata": {},
   "source": [
    "At the moment described by the nearby object model diagram, the face `fac` has already been removed from the out-of-scope faces variable, and the first of three subfaces is under construction and is being appended to the subfaces collection. Following the completion of the function, this collection is returned to the calling context, where it overwrites the original collection `faces`."
   ]
  },
  {
   "cell_type": "markdown",
   "metadata": {},
   "source": [
    "<img src=\"http://geometric-computation-images.s3-website-us-east-1.amazonaws.com/1.05.D10.jpg\" style=\"width:600px; display: inline;\">"
   ]
  },
  {
   "cell_type": "markdown",
   "metadata": {},
   "source": [
    "This next object model diagram shows that the return value of the function will effectively replace the current contents of `faces`. The cycle may then continue to any given number of generations, without the need for the multi-generational collection of faces representing the entire history of subdivision used before."
   ]
  },
  {
   "cell_type": "markdown",
   "metadata": {},
   "source": [
    "Even though this subdivision constructs three-sided instead of four-sided faces, the routine operates geometrically much like the previous version, constructing the intermediate geometric variables cen and csubs, before weaving together properly aligned sub-faces.\n",
    "\n",
    "An alternative construction is possible, that connects the middle of each edge of a given face to produce four three-sided sub-faces. This requires a more involved set of intermediate geometries."
   ]
  },
  {
   "cell_type": "markdown",
   "metadata": {},
   "source": [
    "<img src=\"http://geometric-computation-images.s3-website-us-east-1.amazonaws.com/1.05.P05.jpg\" style=\"width: 200px; display: inline;\">"
   ]
  },
  {
   "cell_type": "code",
   "execution_count": null,
   "metadata": {},
   "outputs": [],
   "source": [
    "\"\"\"\n",
    "Edge-to-Edge Triangular Subdivision\n",
    "\"\"\"\n",
    "def subdivide():\n",
    "    subfaces = []\n",
    "    while faces:\n",
    "        fac = faces.pop()\n",
    "        # midpoints of each edge\n",
    "        pts = [seg.eval(0.5) for seg in fac]\n",
    "        ssubs = [Segment(seg.spt,pt) for seg,pt in zip(fac,pts)]\n",
    "        esubs = [Segment(pt,seg.ept) for seg,pt in zip(fac,pts)]\n",
    "        msubs = [Segment(pa,pb) for pa,pb in zip(pts,pts[-1:]+pts[:-1])]\n",
    "        \n",
    "        subfaces.append( tuple([sub.inverted() for sub in msubs]) )\n",
    "        subfaces.append( (ssubs[0],msubs[0],esubs[2]) )\n",
    "        subfaces.append( (ssubs[1],msubs[1],esubs[0]) )\n",
    "        subfaces.append( (ssubs[2],msubs[2],esubs[1]) )\n",
    "        \n",
    "    return subfaces\n",
    "\n",
    "for n in range(gens): faces = subdivide()\n"
   ]
  },
  {
   "cell_type": "markdown",
   "metadata": {},
   "source": [
    "## Passing Values to Functions\n",
    "\n",
    "The primary instrument by which a function receives information from its calling context is via arguments. In this section we build upon our basic working understanding of arguments, and detail a number of more refined approaches for structuring them."
   ]
  },
  {
   "cell_type": "markdown",
   "metadata": {},
   "source": [
    "### Passing Values via Keyword\n",
    "\n",
    "Typically, values are related to function arguments by their position in the calling statement. However, they may also be related by specifying keyword relationships."
   ]
  },
  {
   "cell_type": "code",
   "execution_count": null,
   "metadata": {},
   "outputs": [],
   "source": [
    "\"\"\"\n",
    "Passing Values via Keyword\n",
    "Functions may be called using a positional assignment of arguments, \n",
    "or by keyword. The last two lines of this code are equivalent calls \n",
    "to the cs_eval_cyl function.\n",
    "\"\"\"    \n",
    "def cs_eval_cyl(cs,rad,ang):\n",
    "    return cs.eval( Point( rad*math.cos(ang), rad*math.sin(ang) ) )\n",
    "\n",
    "# positional argument assignment\n",
    "cs_eval_cyl( CS(), 1.0, math.pi )\n",
    "# keyword argument assignment\n",
    "cs_eval_cyl( CS(), ang = math.pi, rad = 1.0)"
   ]
  },
  {
   "cell_type": "markdown",
   "metadata": {},
   "source": [
    "### Default Values\n",
    "\n",
    "Python offers the ability for function arguments to specify default values.\n",
    "\n",
    "    def function_name( arg_one, arg_two = expression ):\n",
    "        do_some_things\n",
    "        return some_thing\n",
    "\n",
    "There is no restriction on the number of arguments with default values for a function, but these must always conclude the sequence of arguments."
   ]
  },
  {
   "cell_type": "markdown",
   "metadata": {},
   "source": [
    "<img src=\"http://geometric-computation-images.s3-website-us-east-1.amazonaws.com/1.05.C01.jpg\" style=\"width: 200px; display: inline;\">"
   ]
  },
  {
   "cell_type": "code",
   "execution_count": null,
   "metadata": {},
   "outputs": [],
   "source": [
    "\"\"\"\n",
    "Vector Interpolation\n",
    "Calculates and returns the vector that results from an interpolation \n",
    "between two given vectors at parameter t.\n",
    "\"\"\"\n",
    "@staticmethod\n",
    "def interpolate( va, vb, t=0.5 ):\n",
    "    x = (1-t) * va.x + t * vb.x\n",
    "    y = (1-t) * va.y + t * vb.y\n",
    "    z = (1-t) * va.z + t * vb.z\n",
    "    return Vec(x,y,z)"
   ]
  },
  {
   "cell_type": "markdown",
   "metadata": {},
   "source": [
    "The default value expression may be any expression at all, including those that require short calculations such as `t=a+10`, so long as the expression reduces to a value. \n",
    "\n",
    "Default values might include both primitive and structured objects, but the latter must be handled with care. If referring to any objects out of scope, it\n",
    "is recommended that the primitive `None` type be used as the default value, and then the intended out-of-scope value assigned in the body of the function instead."
   ]
  },
  {
   "cell_type": "code",
   "execution_count": null,
   "metadata": {},
   "outputs": [],
   "source": [
    "\"\"\"\n",
    "CS on XY Plane\n",
    "Returns a coordinate system on the world xy plane at a specified \n",
    "coordinate location. Optionally, one may define a vector that \n",
    "controls the orientation of the x_axis of the resulting CS on the \n",
    "Plane. The z coordinate of this vector is ignored. If this vector \n",
    "is not given, the world x-vector is used.\n",
    "\"\"\"\n",
    "@staticmethod\n",
    "def on_xy( x, y, vec=None ):\n",
    "    # default orientation vector is the unit-x vector\n",
    "    if vec is None: vec = UX\n",
    "    # ignore the z-coordinate of the given Vec\n",
    "    vec.z = 0\n",
    "    return CS( Point(x,y,0), vec, vec.cross(UZ.inverted()) )\n",
    "    \n",
    "# a CS at (1,1) at a 45deg angle\n",
    "cs = CS.on_xy(1,1,vec=Vec(1,1))  "
   ]
  },
  {
   "cell_type": "markdown",
   "metadata": {},
   "source": [
    "### Packing and Unpacking Arguments\n",
    "\n",
    "Each of the techniques presented in this section support the defining or calling of a regular function through the relating of a sequence of arguments with some form of collection - typically a List or a Dict.\n",
    "\n",
    "* ***Packing*** refers to transferring a sequence of given arguments into a collection.\n",
    "* ***Unpacking*** refers to transferring the contents of a collection with a sequence of arguments.\n",
    "* ***Positional*** packing or unpacking forms relationships by the order in which they are found in a sequence.\n",
    "* ***Keyword*** packing or unpacking does so by keys in a Dict."
   ]
  },
  {
   "cell_type": "markdown",
   "metadata": {},
   "source": [
    "#### Positional Argument Packing\n",
    "\n",
    "This technique allows functions to be defined such that they receive an arbitrary number of arguments. The required format calls for a single argument proceeded by an asterisk (`*`). \n",
    "\n",
    "    def function_name( *args ):\n",
    "        do_some_things\n",
    "\n",
    "When a function defined in this way is called, any arguments provided are packed in to a single Tuple that resides within the scope of the function, and may be referred to in this context using the argument name provided. By convention, such an argument is given the name `*args`."
   ]
  },
  {
   "cell_type": "code",
   "execution_count": null,
   "metadata": {},
   "outputs": [],
   "source": [
    "\"\"\"\n",
    "Threading Points with Positional Argument Packing\n",
    "A function may be configured to receive any number of arguments using \n",
    "packing. Here, any number of given Points are threaded together to \n",
    "form a closed loop of Segments. Similar functionality could be \n",
    "achieved by defining a function that takes a single List of Points \n",
    "as an argument.\n",
    "\"\"\"\n",
    "def thread_pts(*pts):\n",
    "    segs = [ Segment(pa,pb) for pa,pb in zip(pts[:-1],pts[1:]) ]\n",
    "    return segs + [Segment(pts[-1],pts[0])]\n",
    "\n",
    "segs = thread_pts(pa,pb,pc,pd,pe)"
   ]
  },
  {
   "cell_type": "markdown",
   "metadata": {},
   "source": [
    "<img src=\"http://geometric-computation-images.s3-website-us-east-1.amazonaws.com/1.05.D11.jpg\" style=\"width:600px; display: inline;\">"
   ]
  },
  {
   "cell_type": "markdown",
   "metadata": {},
   "source": [
    "#### Positional Argument Unpacking\n",
    "The inverse of the above technique affords a similar compactness to the manner in which functions are called. In positional argument unpacking, the objects in a given sequence are unpacked and positionally related to the required arguments of a regular function. \n",
    "\n",
    "Again, the required format calls for a single value that takes the place of a sequence of arguments, preceded by an asterisk. When used in this manner, some refer to the (`*`) as the ***splat operator***:\n",
    "\n",
    "    function_name( *sequence )\n",
    "    \n",
    "This is useful for calling functions for which we already have arguments defined and stored in a collection."
   ]
  },
  {
   "cell_type": "code",
   "execution_count": null,
   "metadata": {},
   "outputs": [],
   "source": [
    "\n",
    "\"\"\"\n",
    "Plotting Points with Positional Argument Unpacking\n",
    "Given values already stored in a collection, we may provide a regular \n",
    "function with a series of positional arguments by using the asterisk \n",
    "operator. Used in this way, this operator is sometimes called the \n",
    "\"splat\" operator. \n",
    "\"\"\"\n",
    "crd = (0,0)\n",
    "pt = Point(*crd)\n",
    "\n",
    "crds = [(1,1),(2,2),(3,3,1)]\n",
    "pts = [Point(*crd) for crd in crds]\n"
   ]
  },
  {
   "cell_type": "markdown",
   "metadata": {},
   "source": [
    "#### Combining Positional Argument Packing and Unpacking\n",
    "\n",
    "The `sort_by_angle()` function is a crafty one. By employing a combination of argument packing, regular arguments, and when called using positional argument unpacking, this function is able to receive collections of Points of any length, slice off the first Point and sort the rest, with much of the work done simply by virtue of the structure of its arguments."
   ]
  },
  {
   "cell_type": "markdown",
   "metadata": {},
   "source": [
    "<img src=\"http://geometric-computation-images.s3-website-us-east-1.amazonaws.com/1.05.D12.jpg\" style=\"width:600px; display: inline;\">"
   ]
  },
  {
   "cell_type": "code",
   "execution_count": null,
   "metadata": {},
   "outputs": [],
   "source": [
    "\"\"\"\n",
    "Sorting Points by Polar Angle from First\n",
    "Applying both argument packing and variable unpacking, all but the \n",
    "first of a given List of Points is sorted by its polar angle relative \n",
    "to the first Point in the List. A tuple of the first Point and a \n",
    "sorted List of the remaining Points is returned.\n",
    "\"\"\"\n",
    "def sort_by_angle(origin,*args):\n",
    "    spts = sorted(args,key=lambda pt: Vec.ux().angle(Vec(origin,pt)))\n",
    "    return origin, spts\n",
    "\n",
    "opt, pts = sort_by_angle(*pts)"
   ]
  },
  {
   "cell_type": "markdown",
   "metadata": {},
   "source": [
    "#### Keyword Argument Packing\n",
    "\n",
    "The key-value pairs found in a Dict play a role analogous to that of the sequences in the examples above. Defining a function that employs keyword argument packing follows a similar template, distinguished by a double-asterisk (`**`) proceeding an argument which is named, by convention, `kargs` or `kw`:\n",
    "\n",
    "    def function_name( **kargs ):\n",
    "        do_some_things\n",
    "\n",
    "When a function defined in this way is called, any arguments provided via keyword are packed into a single Dict. This technique holds significant utility in defining functions that can semantically be called in many different ways, thereby facilitating a variety of different means to achieve the same end."
   ]
  },
  {
   "cell_type": "code",
   "execution_count": null,
   "metadata": {},
   "outputs": [],
   "source": [
    "\"\"\"\n",
    "CS on XY Plane using Keyword Argument Packing\n",
    "Returns a coordinate system on the world xy plane at a specified \n",
    "coordinate location. One may define a vector that controls the \n",
    "orientation of the x_axis, or define the rotation from the world \n",
    "x-axis of the resulting CS on the Plane.\n",
    "\"\"\"\n",
    "\n",
    "def on_xy(x,y,**kargs):\n",
    "    # define the orientation vector by whatever means\n",
    "    if 'vec' in kargs: vec = kargs['vec']\n",
    "    elif 'rot' in kargs: vec = Vec(math.cos( kargs['rot']),math.sin( kargs['rot'])) \n",
    "    else: vec = Vec.ux()\n",
    "    \n",
    "    # ignore the z-coordinate of the given Vec\n",
    "    vec.z = 0\n",
    "    return CS( Point(x,y,0), vec, vec.cross(UZ.inverted()) )\n",
    "    \n",
    "# a CS at (1,1) at a 60deg angle\n",
    "cs = on_xy(1,1,rot=math.pi/3)\n",
    "# a CS at (1,2) at a 45 deg angle\n",
    "cs = on_xy(1,2,vec=Vec(1,1)) \n"
   ]
  },
  {
   "cell_type": "markdown",
   "metadata": {},
   "source": [
    "#### Keyword Argument Unpacking\n",
    "\n",
    "Here, a Dict is provided as an argument by a calling statement. The objects found therein are automatically ‘unpacked’ and related to the required keyword arguments of the function by matching the key Strings of the Dict with the function keywords. Again, this construction is distinguished by a double-asterisk (`**`) proceeding the argument in a function call.\n",
    "\n",
    "    function_name( **dict )\n",
    "    \n",
    "Note that an error will be raised if the provided Dict is not structured properly, or does not contain the required keys.    "
   ]
  },
  {
   "cell_type": "code",
   "execution_count": null,
   "metadata": {},
   "outputs": [],
   "source": [
    "\n",
    "\"\"\"\n",
    "Cylindrical Points using Keyword Argument Unpacking\n",
    "Produces Points by cylindrical coordinates. A \"table\" of values is \n",
    "constructed as a collection of Dicts, each containing the required \n",
    "arguments for calling the cs_eval_cyl function. These are then \n",
    "iteratively passed to the function using keyword argument unpacking.\n",
    "\"\"\"\n",
    "def cs_eval_cyl(cs,rad,ang):\n",
    "    return cs.eval( Point( rad*math.cos(ang), rad*math.sin(ang) ) )\n",
    "\n",
    "pt_table = [\n",
    "    { 'cs':CS(), 'rad':1.0, 'ang':0.0 },\n",
    "    { 'cs':CS(), 'rad':2.0, 'ang':math.pi/2 },\n",
    "    { 'cs':CS(), 'rad':3.0, 'ang':math.pi }\n",
    "]\n",
    "\n",
    "css = [cs_eval_cyl(**pt_dict) for pt_dict in pt_table]\n"
   ]
  },
  {
   "cell_type": "markdown",
   "metadata": {},
   "source": [
    "### Flexible Argumentation\n",
    "\n",
    "Since functions effectively package together relatively low-level collections of instructions for more general use, as an author of a function, we must consider the implications of this more general use. \n",
    "\n",
    "Here we consider an approach to authoring arguments as to maximize the potential utility of the function for others, by allowing for a flexible configuration of arguments. What is termed ***method overloading*** by other programming languages is achieved somewhat differently in Python.\n",
    "\n",
    "There are a number of ways to construct a Vec. While we previously just presented two, there are actually three in total:"
   ]
  },
  {
   "cell_type": "code",
   "execution_count": null,
   "metadata": {},
   "outputs": [],
   "source": [
    "\n",
    "\"\"\"\n",
    "Vec Three Ways\n",
    "The Decod.es library offers three ways to create a Vec: va is \n",
    "constructed by three coordinates, vb is constructed as the vector \n",
    "that spans between two given Points, and vc is constructed by \n",
    "copying the members of a given Vec or Point.\n",
    "\"\"\"            \n",
    "va = Vec(0,0,0)\n",
    "vb = Vec(pa,pb)\n",
    "vc = Vec(pc)"
   ]
  },
  {
   "cell_type": "markdown",
   "metadata": {},
   "source": [
    "The same initialization function has been called with different configuration of arguments, and with different types being passed, producing a valid Vec in each case."
   ]
  },
  {
   "cell_type": "code",
   "execution_count": null,
   "metadata": {},
   "outputs": [],
   "source": [
    "\n",
    "\"\"\"\n",
    "Vector Construction\n",
    "To facilitate a flexible initialization of vectors, the Vec \n",
    "constructor method is designed to be able to receive three \n",
    "configuration of arguments. By assigning default values of None to \n",
    "each, and subsequently testing for the kind of argument that has \n",
    "been passed using a lambda function, we may reliably distinguish \n",
    "between these three configurations\n",
    "\"\"\"\n",
    "class Vec(Geometry):\n",
    "    \n",
    "    def __init__(self, a=None, b=None, c=None):\n",
    "        # lambda to determine pointishness\n",
    "        is_pt = lambda o: hasattr(o,'x') and hasattr(o,'y') and hasattr(o,'z')\n",
    "        \n",
    "        # we've been given three numbers, define a new Vec\n",
    "        if a is not None and b is not None and c is not None :\n",
    "            self.x, self.y, self.z = a ,b, c\n",
    "        # we've been given two point-like things, create a Vec between\n",
    "        elif is_pt(a) and is_pt(b):\n",
    "            self.x, self.y, self.z = b.x - a.x, b.y - a.y, b.z - a.z\n",
    "        # we've been given one point-like thing, copy it.\n",
    "        elif is_pt(a):\n",
    "            self.x, self.y, self.z = a.x, a.y, a.z\n",
    "\n"
   ]
  }
 ],
 "metadata": {
  "kernelspec": {
   "display_name": "Python 2",
   "language": "python",
   "name": "python2"
  },
  "language_info": {
   "codemirror_mode": {
    "name": "ipython",
    "version": 2
   },
   "file_extension": ".py",
   "mimetype": "text/x-python",
   "name": "python",
   "nbconvert_exporter": "python",
   "pygments_lexer": "ipython2",
   "version": "2.7.10"
  }
 },
 "nbformat": 4,
 "nbformat_minor": 2
}
