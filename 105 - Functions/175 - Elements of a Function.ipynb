{
 "cells": [
  {
   "cell_type": "code",
   "execution_count": 8,
   "metadata": {},
   "outputs": [],
   "source": [
    "from decodes.core import *\n",
    "from decodes.io.jupyter_out import JupyterOut\n",
    "import math\n",
    "\n",
    "out = JupyterOut.unit_square( )\n",
    "pts = [Point.random() for n in range(5)]"
   ]
  },
  {
   "cell_type": "markdown",
   "metadata": {},
   "source": [
    "# Elements of a Function\n"
   ]
  },
  {
   "cell_type": "markdown",
   "metadata": {},
   "source": [
    "<img src=\"http://geometric-computation-images.s3-website-us-east-1.amazonaws.com/1.05.P03.jpg\" style=\"width: 200px; display: inline;\">"
   ]
  },
  {
   "cell_type": "markdown",
   "metadata": {},
   "source": [
    "<img src=\"http://geometric-computation-images.s3-website-us-east-1.amazonaws.com/1.05.D06.jpg\" style=\"width: 600px; display: inline;\">"
   ]
  },
  {
   "cell_type": "markdown",
   "metadata": {},
   "source": [
    "## Procedures"
   ]
  },
  {
   "cell_type": "code",
   "execution_count": null,
   "metadata": {},
   "outputs": [],
   "source": [
    "\n",
    "\"\"\"\n",
    "Edge-to-Center Rectangular Subdivision\n",
    "Given a division value div_val, and a data structure for faces \n",
    "(defined  by a properly structured three-dimensional collection of \n",
    "Segments),  a recursive subdivision routine is performed to a given \n",
    "number of generations.\n",
    "\"\"\"\n",
    "def subdivide():\n",
    "    faces, subfaces = fgens[-1], []\n",
    "    for fac in faces:\n",
    "        #{b} a Point at the center of the face\n",
    "        cen = Point.centroid([seg.ept for seg in fac])\n",
    "        # midpoints of each edge\n",
    "        pts = [seg.eval(div_val) for seg in fac]\n",
    "        # starting edge sub-Segments\n",
    "        ssubs = [Segment(seg.spt,pt) for seg,pt in zip(fac,pts)]\n",
    "        # ending edge sub-Segments\n",
    "        esubs = [Segment(pt,seg.ept) for seg,pt in zip(fac,pts)]\n",
    "        # middle sub-Segments\n",
    "        msubs = [a(pt,cen) for pt in pts]\n",
    "        \n",
    "        # weave together subdivided segs into four new faces\n",
    "        subfaces.append( (ssubs[0],msubs[0],msubs[3].inverted(),esubs[3]) )\n",
    "        subfaces.append( (ssubs[1],msubs[1],msubs[0].inverted(),esubs[0]) )\n",
    "        subfaces.append( (ssubs[2],msubs[2],msubs[1].inverted(),esubs[1]) )\n",
    "        subfaces.append( (ssubs[3],msubs[3],msubs[2].inverted(),esubs[2]) )\n",
    "        \n",
    "    fgens.append(subfaces)\n",
    "    \n",
    "# {a} subdivide for a given number of generations\n",
    "for n in range(gens): \n",
    "    subdivide()\n"
   ]
  },
  {
   "cell_type": "markdown",
   "metadata": {},
   "source": [
    "<img src=\"http://geometric-computation-images.s3-website-us-east-1.amazonaws.com/1.05.P02.jpg\" style=\"width: 200px; display: inline;\">"
   ]
  },
  {
   "cell_type": "markdown",
   "metadata": {},
   "source": [
    "<img src=\"http://geometric-computation-images.s3-website-us-east-1.amazonaws.com/1.05.D07.jpg\" style=\"width:400px; display: inline;\">"
   ]
  },
  {
   "cell_type": "markdown",
   "metadata": {},
   "source": [
    "<img src=\"http://geometric-computation-images.s3-website-us-east-1.amazonaws.com/1.05.D08.jpg\" style=\"width:400px; display: inline;\">"
   ]
  },
  {
   "cell_type": "markdown",
   "metadata": {},
   "source": [
    "## Recovering Values from Functions"
   ]
  },
  {
   "cell_type": "markdown",
   "metadata": {},
   "source": [
    "<img src=\"http://geometric-computation-images.s3-website-us-east-1.amazonaws.com/1.05.P04.jpg\" style=\"width: 200px; display: inline;\">"
   ]
  },
  {
   "cell_type": "markdown",
   "metadata": {},
   "source": [
    "<img src=\"http://geometric-computation-images.s3-website-us-east-1.amazonaws.com/1.05.D09.jpg\" style=\"width:600px; display: inline;\">"
   ]
  },
  {
   "cell_type": "markdown",
   "metadata": {},
   "source": [
    "<img src=\"http://geometric-computation-images.s3-website-us-east-1.amazonaws.com/1.05.D10.jpg\" style=\"width:600px; display: inline;\">"
   ]
  },
  {
   "cell_type": "code",
   "execution_count": null,
   "metadata": {},
   "outputs": [],
   "source": [
    "\n",
    "\"\"\"\n",
    "Corner-to-Center Triangular Subdivision\n",
    "Each face in a given collection of faces is iteratively removed from \n",
    "the collection and subdivided, the results of which are collected in \n",
    "the subfaces List. At the end of each cycle, the subfaces List \n",
    "overwrites the faces List, and the process continues.\n",
    "\"\"\"\n",
    "def subdivide():\n",
    "    subfaces = []\n",
    "    # so long as faces remain,\n",
    "    while faces:\n",
    "        # remove the first remaining face in faces\n",
    "        fac = faces.pop()\n",
    "        cen = Point.centroid([seg.ept for seg in fac])\n",
    "        # sub-Segments from each corner to the center\n",
    "        csubs = [Segment(seg.ept,cen) for seg in fac]\n",
    "        \n",
    "        # {b} weave together subdivided Segments into three new faces\n",
    "        subfaces.append( (fac[0],csubs[0],csubs[2].inverted())  )\n",
    "        subfaces.append( (fac[1],csubs[1],csubs[0].inverted())  )\n",
    "        subfaces.append( (fac[2],csubs[2],csubs[1].inverted())  )\n",
    "        \n",
    "    return subfaces\n",
    "\n",
    "for n in range(gens): \n",
    "    # {a} overwrite faces with the results of the subdivision\n",
    "    faces = subdivide()\n"
   ]
  },
  {
   "cell_type": "markdown",
   "metadata": {},
   "source": [
    "<img src=\"http://geometric-computation-images.s3-website-us-east-1.amazonaws.com/1.05.P05.jpg\" style=\"width: 200px; display: inline;\">"
   ]
  },
  {
   "cell_type": "code",
   "execution_count": null,
   "metadata": {},
   "outputs": [],
   "source": [
    "\"\"\"\n",
    "Edge-to-Edge Triangular Subdivision\n",
    "\"\"\"\n",
    "def subdivide():\n",
    "    subfaces = []\n",
    "    while faces:\n",
    "        fac = faces.pop()\n",
    "        # midpoints of each edge\n",
    "        pts = [seg.eval(0.5) for seg in fac]\n",
    "        ssubs = [Segment(seg.spt,pt) for seg,pt in zip(fac,pts)]\n",
    "        esubs = [Segment(pt,seg.ept) for seg,pt in zip(fac,pts)]\n",
    "        msubs = [Segment(pa,pb) for pa,pb in zip(pts,pts[-1:]+pts[:-1])]\n",
    "        \n",
    "        subfaces.append( tuple([sub.inverted() for sub in msubs]) )\n",
    "        subfaces.append( (ssubs[0],msubs[0],esubs[2]) )\n",
    "        subfaces.append( (ssubs[1],msubs[1],esubs[0]) )\n",
    "        subfaces.append( (ssubs[2],msubs[2],esubs[1]) )\n",
    "        \n",
    "    return subfaces\n",
    "\n",
    "for n in range(gens): faces = subdivide()\n"
   ]
  },
  {
   "cell_type": "markdown",
   "metadata": {},
   "source": [
    "## Passing Values to Functions"
   ]
  },
  {
   "cell_type": "markdown",
   "metadata": {},
   "source": [
    "### Passing Values via Keyword"
   ]
  },
  {
   "cell_type": "code",
   "execution_count": null,
   "metadata": {},
   "outputs": [],
   "source": [
    "\"\"\"\n",
    "Passing Values via Keyword\n",
    "Functions may be called using a positional assignment of arguments, \n",
    "or by keyword. The last two lines of this code are equivalent calls \n",
    "to the cs_eval_cyl function.\n",
    "\"\"\"    \n",
    "def cs_eval_cyl(cs,rad,ang):\n",
    "    return cs.eval( Point( rad*math.cos(ang), rad*math.sin(ang) ) )\n",
    "\n",
    "# positional argument assignment\n",
    "cs_eval_cyl( CS(), 1.0, math.pi )\n",
    "# keyword argument assignment\n",
    "cs_eval_cyl( CS(), ang = math.pi, rad = 1.0)"
   ]
  },
  {
   "cell_type": "markdown",
   "metadata": {},
   "source": [
    "### Default Values"
   ]
  },
  {
   "cell_type": "markdown",
   "metadata": {},
   "source": [
    "<img src=\"http://geometric-computation-images.s3-website-us-east-1.amazonaws.com/1.05.C01.jpg\" style=\"width: 200px; display: inline;\">"
   ]
  },
  {
   "cell_type": "code",
   "execution_count": null,
   "metadata": {},
   "outputs": [],
   "source": [
    "\"\"\"\n",
    "Vector Interpolation\n",
    "Calculates and returns the vector that results from an interpolation \n",
    "between two given vectors at parameter t.\n",
    "\"\"\"\n",
    "@staticmethod\n",
    "def interpolate( va, vb, t=0.5 ):\n",
    "    x = (1-t) * va.x + t * vb.x\n",
    "    y = (1-t) * va.y + t * vb.y\n",
    "    z = (1-t) * va.z + t * vb.z\n",
    "    return Vec(x,y,z)"
   ]
  },
  {
   "cell_type": "code",
   "execution_count": 1,
   "metadata": {},
   "outputs": [
    {
     "ename": "NameError",
     "evalue": "name 'CS' is not defined",
     "output_type": "error",
     "traceback": [
      "\u001b[1;31m---------------------------------------------------------------------------\u001b[0m",
      "\u001b[1;31mNameError\u001b[0m                                 Traceback (most recent call last)",
      "\u001b[1;32m<ipython-input-1-514ae6368d7f>\u001b[0m in \u001b[0;36m<module>\u001b[1;34m()\u001b[0m\n\u001b[0;32m     12\u001b[0m \u001b[1;33m\u001b[0m\u001b[0m\n\u001b[0;32m     13\u001b[0m \u001b[1;31m# a CS at (1,1) at a 45deg angle\u001b[0m\u001b[1;33m\u001b[0m\u001b[1;33m\u001b[0m\u001b[0m\n\u001b[1;32m---> 14\u001b[1;33m \u001b[0mcs\u001b[0m \u001b[1;33m=\u001b[0m \u001b[0mCS\u001b[0m\u001b[1;33m.\u001b[0m\u001b[0mon_xy\u001b[0m\u001b[1;33m(\u001b[0m\u001b[1;36m1\u001b[0m\u001b[1;33m,\u001b[0m\u001b[1;36m1\u001b[0m\u001b[1;33m,\u001b[0m\u001b[0mvec\u001b[0m\u001b[1;33m=\u001b[0m\u001b[0mVec\u001b[0m\u001b[1;33m(\u001b[0m\u001b[1;36m1\u001b[0m\u001b[1;33m,\u001b[0m\u001b[1;36m1\u001b[0m\u001b[1;33m)\u001b[0m\u001b[1;33m)\u001b[0m\u001b[1;33m\u001b[0m\u001b[0m\n\u001b[0m",
      "\u001b[1;31mNameError\u001b[0m: name 'CS' is not defined"
     ]
    }
   ],
   "source": [
    "\"\"\"\n",
    "CS on XY Plane\n",
    "Returns a coordinate system on the world xy plane at a specified \n",
    "coordinate location. Optionally, one may define a vector that \n",
    "controls the orientation of the x_axis of the resulting CS on the \n",
    "Plane. The z coordinate of this vector is ignored. If this vector \n",
    "is not given, the world x-vector is used.\n",
    "\"\"\"\n",
    "@staticmethod\n",
    "def on_xy( x, y, vec=None ):\n",
    "    # default orientation vector is the unit-x vector\n",
    "    if vec is None: vec = UX\n",
    "    # ignore the z-coordinate of the given Vec\n",
    "    vec.z = 0\n",
    "    return CS( Point(x,y,0), vec, vec.cross(UZ.inverted()) )\n",
    "    \n",
    "# a CS at (1,1) at a 45deg angle\n",
    "cs = CS.on_xy(1,1,vec=Vec(1,1))  "
   ]
  },
  {
   "cell_type": "markdown",
   "metadata": {},
   "source": [
    "### Packing and Unpacking Arguments"
   ]
  },
  {
   "cell_type": "code",
   "execution_count": null,
   "metadata": {},
   "outputs": [],
   "source": [
    "\"\"\"\n",
    "Threading Points with Positional Argument Packing\n",
    "A function may be configured to receive any number of arguments using \n",
    "packing. Here, any number of given Points are threaded together to \n",
    "form a closed loop of Segments. Similar functionality could be \n",
    "achieved by defining a function that takes a single List of Points \n",
    "as an argument.\n",
    "\"\"\"\n",
    "def thread_pts(*pts):\n",
    "    segs = [ Segment(pa,pb) for pa,pb in zip(pts[:-1],pts[1:]) ]\n",
    "    return segs + [Segment(pts[-1],pts[0])]\n",
    "\n",
    "segs = thread_pts(pa,pb,pc,pd,pe)"
   ]
  },
  {
   "cell_type": "markdown",
   "metadata": {},
   "source": [
    "<img src=\"http://geometric-computation-images.s3-website-us-east-1.amazonaws.com/1.05.D11.jpg\" style=\"width:600px; display: inline;\">"
   ]
  },
  {
   "cell_type": "code",
   "execution_count": null,
   "metadata": {},
   "outputs": [],
   "source": [
    "\n",
    "\"\"\"\n",
    "Plotting Points with Positional Argument Unpacking\n",
    "Given values already stored in a collection, we may provide a regular \n",
    "function with a series of positional arguments by using the asterisk \n",
    "operator. Used in this way, this operator is sometimes called the \n",
    "\"splat\" operator. \n",
    "\"\"\"\n",
    "crd = (0,0)\n",
    "pt = Point(*crd)\n",
    "\n",
    "crds = [(1,1),(2,2),(3,3,1)]\n",
    "pts = [Point(*crd) for crd in crds]\n"
   ]
  },
  {
   "cell_type": "markdown",
   "metadata": {},
   "source": [
    "<img src=\"http://geometric-computation-images.s3-website-us-east-1.amazonaws.com/1.05.D12.jpg\" style=\"width:600px; display: inline;\">"
   ]
  },
  {
   "cell_type": "code",
   "execution_count": 4,
   "metadata": {},
   "outputs": [],
   "source": [
    "\"\"\"\n",
    "Sorting Points by Polar Angle from First\n",
    "Applying both argument packing and variable unpacking, all but the \n",
    "first of a given List of Points is sorted by its polar angle relative \n",
    "to the first Point in the List. A tuple of the first Point and a \n",
    "sorted List of the remaining Points is returned.\n",
    "\"\"\"\n",
    "def sort_by_angle(origin,*args):\n",
    "    spts = sorted(args,key=lambda pt: Vec.ux().angle(Vec(origin,pt)))\n",
    "    return origin, spts\n",
    "\n",
    "opt, pts = sort_by_angle(*pts)"
   ]
  },
  {
   "cell_type": "code",
   "execution_count": 10,
   "metadata": {},
   "outputs": [],
   "source": [
    "\"\"\"\n",
    "CS on XY Plane using Keyword Argument Packing\n",
    "Returns a coordinate system on the world xy plane at a specified \n",
    "coordinate location. One may define a vector that controls the \n",
    "orientation of the x_axis, or define the rotation from the world \n",
    "x-axis of the resulting CS on the Plane.\n",
    "\"\"\"\n",
    "\n",
    "def on_xy(x,y,**kargs):\n",
    "    # define the orientation vector by whatever means\n",
    "    if 'vec' in kargs: vec = kargs['vec']\n",
    "    elif 'rot' in kargs: vec = Vec(math.cos( kargs['rot']),math.sin( kargs['rot'])) \n",
    "    else: vec = Vec.ux()\n",
    "    \n",
    "    # ignore the z-coordinate of the given Vec\n",
    "    vec.z = 0\n",
    "    return CS( Point(x,y,0), vec, vec.cross(UZ.inverted()) )\n",
    "    \n",
    "# a CS at (1,1) at a 60deg angle\n",
    "cs = on_xy(1,1,rot=math.pi/3)\n",
    "# a CS at (1,2) at a 45 deg angle\n",
    "cs = on_xy(1,2,vec=Vec(1,1)) \n"
   ]
  },
  {
   "cell_type": "code",
   "execution_count": 11,
   "metadata": {},
   "outputs": [],
   "source": [
    "\n",
    "\"\"\"\n",
    "Cylindrical Points using Keyword Argument Unpacking\n",
    "Produces Points by cylindrical coordinates. A \"table\" of values is \n",
    "constructed as a collection of Dicts, each containing the required \n",
    "arguments for calling the cs_eval_cyl function. These are then \n",
    "iteratively passed to the function using keyword argument unpacking.\n",
    "\"\"\"\n",
    "def cs_eval_cyl(cs,rad,ang):\n",
    "    return cs.eval( Point( rad*math.cos(ang), rad*math.sin(ang) ) )\n",
    "\n",
    "pt_table = [\n",
    "    { 'cs':CS(), 'rad':1.0, 'ang':0.0 },\n",
    "    { 'cs':CS(), 'rad':2.0, 'ang':math.pi/2 },\n",
    "    { 'cs':CS(), 'rad':3.0, 'ang':math.pi }\n",
    "]\n",
    "\n",
    "css = [cs_eval_cyl(**pt_dict) for pt_dict in pt_table]\n"
   ]
  },
  {
   "cell_type": "markdown",
   "metadata": {},
   "source": [
    "### Flexible Argumentation"
   ]
  },
  {
   "cell_type": "code",
   "execution_count": null,
   "metadata": {},
   "outputs": [],
   "source": [
    "\n",
    "\"\"\"\n",
    "Vec Three Ways\n",
    "The Decod.es library offers three ways to create a Vec: va is \n",
    "constructed by three coordinates, vb is constructed as the vector \n",
    "that spans between two given Points, and vc is constructed by \n",
    "copying the members of a given Vec or Point.\n",
    "\"\"\"            \n",
    "va = Vec(0,0,0)\n",
    "vb = Vec(pa,pb)\n",
    "vc = Vec(pc)"
   ]
  },
  {
   "cell_type": "code",
   "execution_count": null,
   "metadata": {},
   "outputs": [],
   "source": [
    "\n",
    "\"\"\"\n",
    "Vector Construction\n",
    "To facilitate a flexible initialization of vectors, the Vec \n",
    "constructor method is designed to be able to receive three \n",
    "configuration of arguments. By assigning default values of None to \n",
    "each, and subsequently testing for the kind of argument that has \n",
    "been passed using a lambda function, we may reliably distinguish \n",
    "between these three configurations\n",
    "\"\"\"\n",
    "class Vec(Geometry):\n",
    "    \n",
    "    def __init__(self, a=None, b=None, c=None):\n",
    "        # lambda to determine pointishness\n",
    "        is_pt = lambda o: hasattr(o,'x') and hasattr(o,'y') and hasattr(o,'z')\n",
    "        \n",
    "        # we've been given three numbers, define a new Vec\n",
    "        if a is not None and b is not None and c is not None :\n",
    "            self.x, self.y, self.z = a ,b, c\n",
    "        # we've been given two point-like things, create a Vec between\n",
    "        elif is_pt(a) and is_pt(b):\n",
    "            self.x, self.y, self.z = b.x - a.x, b.y - a.y, b.z - a.z\n",
    "        # we've been given one point-like thing, copy it.\n",
    "        elif is_pt(a):\n",
    "            self.x, self.y, self.z = a.x, a.y, a.z\n",
    "\n"
   ]
  }
 ],
 "metadata": {
  "kernelspec": {
   "display_name": "Python 3",
   "language": "python",
   "name": "python3"
  },
  "language_info": {
   "codemirror_mode": {
    "name": "ipython",
    "version": 3
   },
   "file_extension": ".py",
   "mimetype": "text/x-python",
   "name": "python",
   "nbconvert_exporter": "python",
   "pygments_lexer": "ipython3",
   "version": "3.6.4"
  }
 },
 "nbformat": 4,
 "nbformat_minor": 2
}
