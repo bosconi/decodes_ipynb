{
 "cells": [
  {
   "cell_type": "code",
   "execution_count": 9,
   "metadata": {},
   "outputs": [],
   "source": [
    "from decodes.core import *\n",
    "from decodes.io.jupyter_out import JupyterOut\n",
    "\n",
    "out = JupyterOut.unit_square( )\n",
    "\n",
    "some_object, some_other_object, a_third_object = \"object\",\"object\",\"object\"\n",
    "pts = [Point.random() for n in range(5)]\n",
    "attr_pt = Point()"
   ]
  },
  {
   "cell_type": "markdown",
   "metadata": {},
   "source": [
    "# Introduction to Functions\n",
    "todo"
   ]
  },
  {
   "cell_type": "markdown",
   "metadata": {},
   "source": [
    "### Drawing Functions"
   ]
  },
  {
   "cell_type": "markdown",
   "metadata": {},
   "source": [
    "<img src=\"http://geometric-computation-images.s3-website-us-east-1.amazonaws.com/1.05.P01.jpg\" style=\"width: 600px; display: inline;\">"
   ]
  },
  {
   "cell_type": "code",
   "execution_count": 3,
   "metadata": {},
   "outputs": [],
   "source": [
    "def func (arg_a):\n",
    "    var_c = a_third_object\n",
    "\n",
    "var_a = some_object\n",
    "var_b = some_other_object\n",
    "func(var_b)"
   ]
  },
  {
   "cell_type": "markdown",
   "metadata": {},
   "source": [
    "<img src=\"http://geometric-computation-images.s3-website-us-east-1.amazonaws.com/1.05.D01.jpg\" style=\"width: 400px; display: inline;\">"
   ]
  },
  {
   "cell_type": "markdown",
   "metadata": {},
   "source": [
    "## Lambdas"
   ]
  },
  {
   "cell_type": "code",
   "execution_count": 10,
   "metadata": {},
   "outputs": [],
   "source": [
    "\"\"\"\n",
    "Identical Functions\n",
    "Each of the functions defined below generates a random Point within a \n",
    "given range of coordinate values. Note that random.uniform() is a \n",
    "built-in function of the Python random module that returns a floating \n",
    "point number.\n",
    "\"\"\"\n",
    "\n",
    "def rand_pt(a,b):\n",
    "    x,y = random.uniform(a,b), random.uniform(a,b)\n",
    "    return Point(x,y)\n",
    "\n",
    "random_pt = lambda a,b: Point(random.uniform(a,b), random.uniform(a,b))"
   ]
  },
  {
   "cell_type": "markdown",
   "metadata": {},
   "source": [
    "<img src=\"http://geometric-computation-images.s3-website-us-east-1.amazonaws.com/1.05.D05.jpg\" style=\"width: 400px; display: inline;\">"
   ]
  },
  {
   "cell_type": "code",
   "execution_count": 11,
   "metadata": {},
   "outputs": [],
   "source": [
    "\"\"\"\n",
    "Sorting with a Lambda Function\n",
    "To sort an arbitrary structured data type, or to sort by an arbitrary \n",
    "value, we may use the key argument of the sorted function. Here, a \n",
    "given list of Points pts is sorted by distance to a common Point \n",
    "attr_pt.\n",
    "\"\"\"\n",
    "sorted_pts = sorted( pts, key = lambda pt: pt.dist(attr_pt) )\n",
    "\n"
   ]
  },
  {
   "cell_type": "code",
   "execution_count": 12,
   "metadata": {},
   "outputs": [],
   "source": [
    "\"\"\"\n",
    "Filtering with a Lambda Function\n",
    "To filter a given collection of objects, we may use the built-in \n",
    "filter function.\n",
    "\"\"\"\n",
    "filtered_pts = filter( lambda pt: pt.z >= 0, pts )"
   ]
  }
 ],
 "metadata": {
  "kernelspec": {
   "display_name": "Python 3",
   "language": "python",
   "name": "python3"
  },
  "language_info": {
   "codemirror_mode": {
    "name": "ipython",
    "version": 3
   },
   "file_extension": ".py",
   "mimetype": "text/x-python",
   "name": "python",
   "nbconvert_exporter": "python",
   "pygments_lexer": "ipython3",
   "version": "3.6.4"
  }
 },
 "nbformat": 4,
 "nbformat_minor": 2
}
