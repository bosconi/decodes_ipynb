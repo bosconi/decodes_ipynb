{
 "cells": [
  {
   "cell_type": "code",
   "execution_count": 5,
   "metadata": {},
   "outputs": [
    {
     "name": "stdout",
     "output_type": "stream",
     "text": [
      "http://decod.es/\tv0.2.3\n",
      "io loaded\n"
     ]
    }
   ],
   "source": [
    "from decodes.core import *\n",
    "from decodes.io.jupyter_out import JupyterOut\n",
    "\n",
    "out = JupyterOut.unit_square( )\n",
    "\n",
    "some_object, some_other_object, a_third_object = \"object\",\"object\",\"object\"\n",
    "pts = [Point.random() for n in range(5)]\n",
    "attr_pt = Point()"
   ]
  },
  {
   "cell_type": "markdown",
   "metadata": {},
   "source": [
    "# Introduction to Functions\n",
    "\n",
    "A function is defined as: \n",
    "\n",
    "> A sequence of statements packaged as a unit which may be called upon elsewhere in a body of code.\n",
    "    \n",
    "Our scripts have regularly invoked functions that are built into the Python language, such as `len()`, `range()`, and `print()`. We have also seen how to define functions associated with a structured type. A function associated with a type is called a ***method***, a programmatic construct that operates from the “inside”, enjoying access to the members of each instance of that class.\n",
    "\n",
    "The basic definitional syntax for a function is demarcated by the keyword `def` followed by an indented block of code:\n",
    "\n",
    "    def function_name():\n",
    "        do_some_things\n",
    "        \n",
    "We have also seen that functions and methods offer mechanisms for communicating with the “outside” context from which they are called. A function may receive data from its calling context via any number of defined ***arguments***, and return data to its calling context via the ***return*** statement.\n",
    "\n",
    "    def function_name( argument_one, argument_two, ... ):\n",
    "        do_some_things\n",
    "        return some_thing\n",
    "        \n",
    "Some open questions remain:\n",
    "* What does it mean for some blocks of code to operate “inside” a function and others “outside” of it? \n",
    "* What is the nature of this demarcation, and what are its real ramifications in terms of how we write code, both for our own use and to share with others?\n",
    "* What mechanism allows for the flexibility of arguments related to certain functions and methods in practice?"
   ]
  },
  {
   "cell_type": "markdown",
   "metadata": {},
   "source": [
    "### Drawing Functions\n",
    "\n",
    "In Python , functions are ***first-class objects***, meaning they enjoy the same status of any other objects that can be instantiated, and are stored in memory just like other structured objects. \n",
    "\n",
    "As such, functions deserve an appropriate representation in our pantheon of object model diagrams. Our way of drawing functions emphasize the two most prominent points of interaction when working with functions: \n",
    "\n",
    "* their required arguments\n",
    "* the expected results"
   ]
  },
  {
   "cell_type": "markdown",
   "metadata": {},
   "source": [
    "<img src=\"http://geometric-computation-images.s3-website-us-east-1.amazonaws.com/1.05.P01.jpg\" style=\"width: 600px; display: inline;\">"
   ]
  },
  {
   "cell_type": "markdown",
   "metadata": {},
   "source": [
    "Notice that there is no representation of an internal structure in this diagram. This is a purposeful illustration of a key concept in OOP: ***abstraction***.\n",
    "\n",
    "***Abstraction*** is the process of separating the general from the specific, and of identifying what information should be visible and what may remain hidden to other processes and programmers. This idea is relevant to the use of code for creative output for two reasons: \n",
    "\n",
    "* Abstraction forms the basis for collective authorship.\n",
    "* The process of extracting a general pattern of behavior from specific cases can lead to the discovery of novel applications of known routines.\n"
   ]
  },
  {
   "cell_type": "markdown",
   "metadata": {},
   "source": [
    "Abstraction aside, there will be times that we wish to examine the processes internal to the functions we define. Consider, for example, the state of things in computer memory at the second line of the following code.\n",
    "\n",
    "At this point, the function `func()` has been defined and was invoked by passing the variable `var_b`. But what variables are available for us to make use of at this moment in the code?"
   ]
  },
  {
   "cell_type": "code",
   "execution_count": 3,
   "metadata": {},
   "outputs": [
    {
     "ename": "NameError",
     "evalue": "name 'var_c' is not defined",
     "output_type": "error",
     "traceback": [
      "\u001b[1;31m---------------------------------------------------------------------------\u001b[0m",
      "\u001b[1;31mNameError\u001b[0m                                 Traceback (most recent call last)",
      "\u001b[1;32m<ipython-input-3-2b2fbcef154f>\u001b[0m in \u001b[0;36m<module>\u001b[1;34m()\u001b[0m\n\u001b[0;32m      7\u001b[0m \u001b[0mfunc\u001b[0m\u001b[1;33m(\u001b[0m\u001b[0mvar_b\u001b[0m\u001b[1;33m)\u001b[0m\u001b[1;33m\u001b[0m\u001b[0m\n\u001b[0;32m      8\u001b[0m \u001b[1;33m\u001b[0m\u001b[0m\n\u001b[1;32m----> 9\u001b[1;33m \u001b[0mprint\u001b[0m\u001b[1;33m(\u001b[0m\u001b[0mvar_c\u001b[0m\u001b[1;33m)\u001b[0m\u001b[1;33m\u001b[0m\u001b[0m\n\u001b[0m",
      "\u001b[1;31mNameError\u001b[0m: name 'var_c' is not defined"
     ]
    }
   ],
   "source": [
    "def func (arg_a):\n",
    "    var_c = \"a_third_object\"\n",
    "\n",
    "var_a = \"some_object\"\n",
    "var_b = \"some_other_object\"\n",
    "\n",
    "func(var_b)\n",
    "\n",
    "print(var_c)"
   ]
  },
  {
   "cell_type": "markdown",
   "metadata": {},
   "source": [
    "The variable `var_a` has been defined and is present in memory, but is it available for access and manipulation? \n",
    "\n",
    "After the function has completed execution, what becomes of `var_c`? \n",
    "\n",
    "This hypothetical scenario highlights the nuances of the scope and lifetime of variables inside functions, compared to those found in their calling contexts."
   ]
  },
  {
   "cell_type": "markdown",
   "metadata": {},
   "source": [
    "To answer these questions, we require a new diagramatic logic that distinguishes between objects and variables defined within the scope of the function, and those defined outside this scope which exhibit a different lifespan.\n",
    "\n",
    "In the nearby diagram, the objects created by a function reside within their own reserved section of computer memory, a context that we refer to as the ***functional frame***. \n",
    "\n",
    "Note that functions may be represented as both objects that receive a variable reference, and as programming contexts that manifest a functional frame. As will be demonstrated, all the variables and objects shown in the diagram are available to statements within the function `func()`, but the manner in which they may be accessed and modified can be quite varied."
   ]
  },
  {
   "cell_type": "markdown",
   "metadata": {},
   "source": [
    "<img src=\"http://geometric-computation-images.s3-website-us-east-1.amazonaws.com/1.05.D01.jpg\" style=\"width: 400px; display: inline;\">"
   ]
  },
  {
   "cell_type": "markdown",
   "metadata": {},
   "source": [
    "## Lambdas\n",
    "\n",
    "While this class rarely employs the lambda function, as its brusque format often confounds more than it clarifies, such functions are quite prevalent in practice, with most scripting languages offering some form of this shorthand or “literal” function. When lambdas are used in Python, it is typically in the interest of brevity. There is nothing we can do with a lambda that could\n",
    "not be done with a regular function, but lambdas are more succinct.\n",
    "\n",
    "Just as a literal string can be directly written in a script without storing an object in memory, so also is a function able to be directly authored in-line. This is the simplest possible function we will encounter in Python, and is referred to as a ***lambda function***.\n",
    "\n",
    "Lambdas are completely contained within a single line of code, and while they can contain arguments, they are restricted to just a single expression.\n",
    "\n",
    "Overall, the syntax for a lambda function is as such:\n",
    "\n",
    "    lambda argument_one, argument_two: expression\n",
    "\n",
    "Restricted as they are to a single expression, lambdas do not contain return statements. Instead, the result of the expression is returned to the calling context.\n",
    "\n"
   ]
  },
  {
   "cell_type": "code",
   "execution_count": 10,
   "metadata": {},
   "outputs": [],
   "source": [
    "\"\"\"\n",
    "Identical Functions\n",
    "Each of the functions defined below generates a random Point within a \n",
    "given range of coordinate values. Note that random.uniform() is a \n",
    "built-in function of the Python random module that returns a floating \n",
    "point number.\n",
    "\"\"\"\n",
    "\n",
    "def rand_pt(a,b):\n",
    "    x,y = random.uniform(a,b), random.uniform(a,b)\n",
    "    return Point(x,y)\n",
    "\n",
    "random_pt = lambda a,b: Point(random.uniform(a,b), random.uniform(a,b))"
   ]
  },
  {
   "cell_type": "markdown",
   "metadata": {},
   "source": [
    "<img src=\"http://geometric-computation-images.s3-website-us-east-1.amazonaws.com/1.05.D05.jpg\" style=\"width: 400px; display: inline;\">"
   ]
  },
  {
   "cell_type": "code",
   "execution_count": 11,
   "metadata": {},
   "outputs": [],
   "source": [
    "\"\"\"\n",
    "Sorting with a Lambda Function\n",
    "To sort an arbitrary structured data type, or to sort by an arbitrary \n",
    "value, we may use the key argument of the sorted function. Here, a \n",
    "given list of Points pts is sorted by distance to a common Point \n",
    "attr_pt.\n",
    "\"\"\"\n",
    "sorted_pts = sorted( pts, key = lambda pt: pt.dist(attr_pt) )\n"
   ]
  },
  {
   "cell_type": "code",
   "execution_count": 12,
   "metadata": {},
   "outputs": [],
   "source": [
    "\"\"\"\n",
    "Filtering with a Lambda Function\n",
    "To filter a given collection of objects, we may use the built-in \n",
    "filter function.\n",
    "\"\"\"\n",
    "filtered_pts = filter( lambda pt: pt.z >= 0, pts )"
   ]
  },
  {
   "cell_type": "code",
   "execution_count": 22,
   "metadata": {},
   "outputs": [
    {
     "name": "stdout",
     "output_type": "stream",
     "text": [
      "[pt[0.06811783201141552,0.5464371627938334,-0.03477425868797113], pt[0.5572063450251914,0.03186461322129919,0.045500757262817215], pt[-0.5264450312754736,-0.20829622590805252,0.4298235002947264], pt[-0.16528670448195815,-0.6654340556772396,0.5568632405645875]]\n"
     ]
    }
   ],
   "source": [
    "attr_pt = Point()\n",
    "pts = [Point.random() for n in range(10)]\n",
    "\n",
    "pts = list( filter( lambda pt: pt.dist(attr_pt) < 1 , pts) )\n",
    "print(pts)\n"
   ]
  },
  {
   "cell_type": "code",
   "execution_count": null,
   "metadata": {},
   "outputs": [],
   "source": []
  }
 ],
 "metadata": {
  "kernelspec": {
   "display_name": "Python 3",
   "language": "python",
   "name": "python3"
  },
  "language_info": {
   "codemirror_mode": {
    "name": "ipython",
    "version": 3
   },
   "file_extension": ".py",
   "mimetype": "text/x-python",
   "name": "python",
   "nbconvert_exporter": "python",
   "pygments_lexer": "ipython3",
   "version": "3.6.4"
  }
 },
 "nbformat": 4,
 "nbformat_minor": 2
}
