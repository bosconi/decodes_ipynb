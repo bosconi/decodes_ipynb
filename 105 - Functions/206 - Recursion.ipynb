{
 "cells": [
  {
   "cell_type": "code",
   "execution_count": 3,
   "metadata": {},
   "outputs": [
    {
     "name": "stdout",
     "output_type": "stream",
     "text": [
      "http://decod.es/\tv0.2.3\n",
      "io loaded\n"
     ]
    }
   ],
   "source": [
    "from decodes.core import *\n",
    "from decodes.io.jupyter_out import JupyterOut\n",
    "\n",
    "out = JupyterOut.unit_square( )"
   ]
  },
  {
   "cell_type": "markdown",
   "metadata": {},
   "source": [
    "# Recursion\n",
    "todo"
   ]
  },
  {
   "cell_type": "code",
   "execution_count": 4,
   "metadata": {},
   "outputs": [],
   "source": [
    "\"\"\"\n",
    "Fractal Function \n",
    "Recursively calls itself with sub-segments of fractal subdivision \n",
    "\"\"\"    \n",
    "def fractal(seg, gen):\n",
    "    uv, vv = seg.vec, seg.vec.cross(UZ)\n",
    "    subs = Segment.chain( [seg.spt + (uv*u) + (vv*v) for u,v in prms] )\n",
    "    if gen == 0:        \n",
    "        subsegs.extend(subs)\n",
    "    else:\n",
    "        for subseg in subs:\n",
    "            fractal(subseg, gen-1)"
   ]
  },
  {
   "cell_type": "code",
   "execution_count": 5,
   "metadata": {},
   "outputs": [
    {
     "data": {
      "text/html": [
       "<div style=\"width:560.0px; height:360.0px; box-shadow: 2px 2px 8px 4px #ddd; margin: 8px;\"><svg width=\"560.0\" height=\"360.0\" xmlns=\"http://www.w3.org/2000/svg\" version=\"1.1\">\n",
       "<polyline points=\"130.0,330.0 205.0,330.0 205.0,255.0 130.0,255.0 130.0,330.0\" style=\"fill:rgb(249,249,249);stroke-width:1;stroke:rgb(255,255,255)\"/>\n",
       "<polyline points=\"205.0,330.0 280.0,330.0 280.0,255.0 205.0,255.0 205.0,330.0\" style=\"fill:rgb(249,249,249);stroke-width:1;stroke:rgb(255,255,255)\"/>\n",
       "<polyline points=\"280.0,330.0 355.0,330.0 355.0,255.0 280.0,255.0 280.0,330.0\" style=\"fill:rgb(249,249,249);stroke-width:1;stroke:rgb(255,255,255)\"/>\n",
       "<polyline points=\"355.0,330.0 430.0,330.0 430.0,255.0 355.0,255.0 355.0,330.0\" style=\"fill:rgb(249,249,249);stroke-width:1;stroke:rgb(255,255,255)\"/>\n",
       "<polyline points=\"130.0,255.0 205.0,255.0 205.0,180.0 130.0,180.0 130.0,255.0\" style=\"fill:rgb(249,249,249);stroke-width:1;stroke:rgb(255,255,255)\"/>\n",
       "<polyline points=\"205.0,255.0 280.0,255.0 280.0,180.0 205.0,180.0 205.0,255.0\" style=\"fill:rgb(249,249,249);stroke-width:1;stroke:rgb(255,255,255)\"/>\n",
       "<polyline points=\"280.0,255.0 355.0,255.0 355.0,180.0 280.0,180.0 280.0,255.0\" style=\"fill:rgb(249,249,249);stroke-width:1;stroke:rgb(255,255,255)\"/>\n",
       "<polyline points=\"355.0,255.0 430.0,255.0 430.0,180.0 355.0,180.0 355.0,255.0\" style=\"fill:rgb(249,249,249);stroke-width:1;stroke:rgb(255,255,255)\"/>\n",
       "<polyline points=\"130.0,180.0 205.0,180.0 205.0,105.0 130.0,105.0 130.0,180.0\" style=\"fill:rgb(249,249,249);stroke-width:1;stroke:rgb(255,255,255)\"/>\n",
       "<polyline points=\"205.0,180.0 280.0,180.0 280.0,105.0 205.0,105.0 205.0,180.0\" style=\"fill:rgb(249,249,249);stroke-width:1;stroke:rgb(255,255,255)\"/>\n",
       "<polyline points=\"280.0,180.0 355.0,180.0 355.0,105.0 280.0,105.0 280.0,180.0\" style=\"fill:rgb(249,249,249);stroke-width:1;stroke:rgb(255,255,255)\"/>\n",
       "<polyline points=\"355.0,180.0 430.0,180.0 430.0,105.0 355.0,105.0 355.0,180.0\" style=\"fill:rgb(249,249,249);stroke-width:1;stroke:rgb(255,255,255)\"/>\n",
       "<polyline points=\"130.0,105.0 205.0,105.0 205.0,30.0 130.0,30.0 130.0,105.0\" style=\"fill:rgb(249,249,249);stroke-width:1;stroke:rgb(255,255,255)\"/>\n",
       "<polyline points=\"205.0,105.0 280.0,105.0 280.0,30.0 205.0,30.0 205.0,105.0\" style=\"fill:rgb(249,249,249);stroke-width:1;stroke:rgb(255,255,255)\"/>\n",
       "<polyline points=\"280.0,105.0 355.0,105.0 355.0,30.0 280.0,30.0 280.0,105.0\" style=\"fill:rgb(249,249,249);stroke-width:1;stroke:rgb(255,255,255)\"/>\n",
       "<polyline points=\"355.0,105.0 430.0,105.0 430.0,30.0 355.0,30.0 355.0,105.0\" style=\"fill:rgb(249,249,249);stroke-width:1;stroke:rgb(255,255,255)\"/>\n",
       "<circle cx=\"130.0\" cy=\"330.0\" r=\"37.5\" style=\"fill:rgb(255,255,255);stroke-width:0;stroke:none\"/>\n",
       "<line x1=\"130.0\" y1=\"180.0\" x2=\"133.69873046875\" y2=\"190.2630615234375\" style=\"fill:none;stroke-width:0.5;stroke:rgb(0,0,0)\"/>\n",
       "<line x1=\"133.69873046875\" y1=\"190.2630615234375\" x2=\"141.7919921875\" y2=\"197.578125\" style=\"fill:none;stroke-width:0.5;stroke:rgb(0,0,0)\"/>\n",
       "<line x1=\"141.7919921875\" y1=\"197.578125\" x2=\"149.88525390625\" y2=\"204.8931884765625\" style=\"fill:none;stroke-width:0.5;stroke:rgb(0,0,0)\"/>\n",
       "<line x1=\"149.88525390625\" y1=\"204.8931884765625\" x2=\"160.46875\" y2=\"207.5390625\" style=\"fill:none;stroke-width:0.5;stroke:rgb(0,0,0)\"/>\n",
       "<line x1=\"160.46875\" y1=\"207.5390625\" x2=\"168.56201171875\" y2=\"214.8541259765625\" style=\"fill:none;stroke-width:0.5;stroke:rgb(0,0,0)\"/>\n",
       "<line x1=\"168.56201171875\" y1=\"214.8541259765625\" x2=\"179.1455078125\" y2=\"217.5\" style=\"fill:none;stroke-width:0.5;stroke:rgb(0,0,0)\"/>\n",
       "<line x1=\"179.1455078125\" y1=\"217.5\" x2=\"189.72900390625\" y2=\"220.1458740234375\" style=\"fill:none;stroke-width:0.5;stroke:rgb(0,0,0)\"/>\n",
       "<line x1=\"189.72900390625\" y1=\"220.1458740234375\" x2=\"200.3125\" y2=\"217.5\" style=\"fill:none;stroke-width:0.5;stroke:rgb(0,0,0)\"/>\n",
       "<line x1=\"200.3125\" y1=\"217.5\" x2=\"208.40576171875\" y2=\"224.8150634765625\" style=\"fill:none;stroke-width:0.5;stroke:rgb(0,0,0)\"/>\n",
       "<line x1=\"208.40576171875\" y1=\"224.8150634765625\" x2=\"218.9892578125\" y2=\"227.4609375\" style=\"fill:none;stroke-width:0.5;stroke:rgb(0,0,0)\"/>\n",
       "<line x1=\"218.9892578125\" y1=\"227.4609375\" x2=\"229.57275390625\" y2=\"230.1068115234375\" style=\"fill:none;stroke-width:0.5;stroke:rgb(0,0,0)\"/>\n",
       "<line x1=\"229.57275390625\" y1=\"230.1068115234375\" x2=\"240.15625\" y2=\"227.4609375\" style=\"fill:none;stroke-width:0.5;stroke:rgb(0,0,0)\"/>\n",
       "<line x1=\"240.15625\" y1=\"227.4609375\" x2=\"250.73974609375\" y2=\"230.1068115234375\" style=\"fill:none;stroke-width:0.5;stroke:rgb(0,0,0)\"/>\n",
       "<line x1=\"250.73974609375\" y1=\"230.1068115234375\" x2=\"261.3232421875\" y2=\"227.4609375\" style=\"fill:none;stroke-width:0.5;stroke:rgb(0,0,0)\"/>\n",
       "<line x1=\"261.3232421875\" y1=\"227.4609375\" x2=\"271.90673828125\" y2=\"224.8150634765625\" style=\"fill:none;stroke-width:0.5;stroke:rgb(0,0,0)\"/>\n",
       "<line x1=\"271.90673828125\" y1=\"224.8150634765625\" x2=\"280.0\" y2=\"217.5\" style=\"fill:none;stroke-width:0.5;stroke:rgb(0,0,0)\"/>\n",
       "<line x1=\"280.0\" y1=\"217.5\" x2=\"288.09326171875\" y2=\"224.8150634765625\" style=\"fill:none;stroke-width:0.5;stroke:rgb(0,0,0)\"/>\n",
       "<line x1=\"288.09326171875\" y1=\"224.8150634765625\" x2=\"298.6767578125\" y2=\"227.4609375\" style=\"fill:none;stroke-width:0.5;stroke:rgb(0,0,0)\"/>\n",
       "<line x1=\"298.6767578125\" y1=\"227.4609375\" x2=\"309.26025390625\" y2=\"230.1068115234375\" style=\"fill:none;stroke-width:0.5;stroke:rgb(0,0,0)\"/>\n",
       "<line x1=\"309.26025390625\" y1=\"230.1068115234375\" x2=\"319.84375\" y2=\"227.4609375\" style=\"fill:none;stroke-width:0.5;stroke:rgb(0,0,0)\"/>\n",
       "<line x1=\"319.84375\" y1=\"227.4609375\" x2=\"330.42724609375\" y2=\"230.1068115234375\" style=\"fill:none;stroke-width:0.5;stroke:rgb(0,0,0)\"/>\n",
       "<line x1=\"330.42724609375\" y1=\"230.1068115234375\" x2=\"341.0107421875\" y2=\"227.4609375\" style=\"fill:none;stroke-width:0.5;stroke:rgb(0,0,0)\"/>\n",
       "<line x1=\"341.0107421875\" y1=\"227.4609375\" x2=\"351.59423828125\" y2=\"224.8150634765625\" style=\"fill:none;stroke-width:0.5;stroke:rgb(0,0,0)\"/>\n",
       "<line x1=\"351.59423828125\" y1=\"224.8150634765625\" x2=\"359.6875\" y2=\"217.5\" style=\"fill:none;stroke-width:0.5;stroke:rgb(0,0,0)\"/>\n",
       "<line x1=\"359.6875\" y1=\"217.5\" x2=\"370.27099609375\" y2=\"220.1458740234375\" style=\"fill:none;stroke-width:0.5;stroke:rgb(0,0,0)\"/>\n",
       "<line x1=\"370.27099609375\" y1=\"220.1458740234375\" x2=\"380.8544921875\" y2=\"217.5\" style=\"fill:none;stroke-width:0.5;stroke:rgb(0,0,0)\"/>\n",
       "<line x1=\"380.8544921875\" y1=\"217.5\" x2=\"391.43798828125\" y2=\"214.8541259765625\" style=\"fill:none;stroke-width:0.5;stroke:rgb(0,0,0)\"/>\n",
       "<line x1=\"391.43798828125\" y1=\"214.8541259765625\" x2=\"399.53125\" y2=\"207.5390625\" style=\"fill:none;stroke-width:0.5;stroke:rgb(0,0,0)\"/>\n",
       "<line x1=\"399.53125\" y1=\"207.5390625\" x2=\"410.11474609375\" y2=\"204.8931884765625\" style=\"fill:none;stroke-width:0.5;stroke:rgb(0,0,0)\"/>\n",
       "<line x1=\"410.11474609375\" y1=\"204.8931884765625\" x2=\"418.2080078125\" y2=\"197.578125\" style=\"fill:none;stroke-width:0.5;stroke:rgb(0,0,0)\"/>\n",
       "<line x1=\"418.2080078125\" y1=\"197.578125\" x2=\"426.30126953125\" y2=\"190.2630615234375\" style=\"fill:none;stroke-width:0.5;stroke:rgb(0,0,0)\"/>\n",
       "<line x1=\"426.30126953125\" y1=\"190.2630615234375\" x2=\"430.0\" y2=\"180.0\" style=\"fill:none;stroke-width:0.5;stroke:rgb(0,0,0)\"/>\n",
       "</svg></div>"
      ],
      "text/plain": [
       "<IPython.core.display.HTML object>"
      ]
     },
     "metadata": {},
     "output_type": "display_data"
    }
   ],
   "source": [
    "\"\"\"\n",
    "Main Loop to Generate Fractal\n",
    "\"\"\"    \n",
    "gens = 4\n",
    "prms = [(0.0,0.0),(0.5,0.125),(1.0,0.0)]\n",
    "seed_segs = [Segment(Point(0,0.5),Point(1,0.5))]\n",
    "\n",
    "subsegs = []\n",
    "for seed_seg in seed_segs:\n",
    "    fractal(seed_seg, gens)\n",
    "\n",
    "out.put(subsegs)\n",
    "out.draw()\n",
    "out.clear()"
   ]
  },
  {
   "cell_type": "markdown",
   "metadata": {},
   "source": [
    "<img src=\"http://geometric-computation-images.s3-website-us-east-1.amazonaws.com/1.05.D20.jpg\" style=\"width:400px; display: inline;\">"
   ]
  },
  {
   "cell_type": "code",
   "execution_count": null,
   "metadata": {},
   "outputs": [],
   "source": []
  }
 ],
 "metadata": {
  "kernelspec": {
   "display_name": "Python 2",
   "language": "python",
   "name": "python2"
  },
  "language_info": {
   "codemirror_mode": {
    "name": "ipython",
    "version": 2
   },
   "file_extension": ".py",
   "mimetype": "text/x-python",
   "name": "python",
   "nbconvert_exporter": "python",
   "pygments_lexer": "ipython2",
   "version": "2.7.10"
  }
 },
 "nbformat": 4,
 "nbformat_minor": 2
}
