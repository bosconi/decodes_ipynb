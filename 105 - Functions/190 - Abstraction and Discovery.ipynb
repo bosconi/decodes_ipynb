{
 "cells": [
  {
   "cell_type": "code",
   "execution_count": 1,
   "metadata": {},
   "outputs": [
    {
     "name": "stdout",
     "output_type": "stream",
     "text": [
      "http://decod.es/\tv0.2.3\n",
      "io loaded\n"
     ]
    }
   ],
   "source": [
    "from decodes.core import *\n",
    "from decodes.io.jupyter_out import JupyterOut\n",
    "\n",
    "out = JupyterOut.unit_square( )"
   ]
  },
  {
   "cell_type": "markdown",
   "metadata": {},
   "source": [
    "# Abstraction and Discovery\n",
    "todo"
   ]
  },
  {
   "cell_type": "markdown",
   "metadata": {},
   "source": [
    "<img src=\"http://geometric-computation-images.s3-website-us-east-1.amazonaws.com/1.05.P08.jpg\" style=\"width: 200px; display: inline;\">"
   ]
  },
  {
   "cell_type": "markdown",
   "metadata": {},
   "source": [
    "<img src=\"http://geometric-computation-images.s3-website-us-east-1.amazonaws.com/1.05.P06.jpg\" style=\"width: 200px; display: inline;\">"
   ]
  },
  {
   "cell_type": "code",
   "execution_count": 32,
   "metadata": {},
   "outputs": [],
   "source": [
    "\"\"\"\n",
    "Fractal Segment Decomposition\n",
    "Given a Segment, returns some number of sub-segments that describe a \n",
    "fractal subdivision.\n",
    "\"\"\"    \n",
    "def decompose_seg(seg):\n",
    "    # vecs to displace along and away from given Segment\n",
    "    uv, vv = seg.vec, seg.vec.cross(UZ)\n",
    "    #construct division Points by displacement and chain\n",
    "    subs = Segment.chain( [seg.spt + (uv*u) + (vv*v) for u,v in prms] )\n",
    "    subsegs.extend(subs)"
   ]
  },
  {
   "cell_type": "code",
   "execution_count": 33,
   "metadata": {},
   "outputs": [
    {
     "ename": "NameError",
     "evalue": "name 'segs' is not defined",
     "output_type": "error",
     "traceback": [
      "\u001b[1;31m---------------------------------------------------------------------------\u001b[0m",
      "\u001b[1;31mNameError\u001b[0m                                 Traceback (most recent call last)",
      "\u001b[1;32m<ipython-input-33-501bcefcb286>\u001b[0m in \u001b[0;36m<module>\u001b[1;34m()\u001b[0m\n\u001b[0;32m      4\u001b[0m \u001b[1;32mfor\u001b[0m \u001b[0mn\u001b[0m \u001b[1;32min\u001b[0m \u001b[0mrange\u001b[0m\u001b[1;33m(\u001b[0m\u001b[0mgens\u001b[0m\u001b[1;33m)\u001b[0m\u001b[1;33m:\u001b[0m\u001b[1;33m\u001b[0m\u001b[0m\n\u001b[0;32m      5\u001b[0m     \u001b[0msubsegs\u001b[0m \u001b[1;33m=\u001b[0m \u001b[1;33m[\u001b[0m\u001b[1;33m]\u001b[0m\u001b[1;33m\u001b[0m\u001b[0m\n\u001b[1;32m----> 6\u001b[1;33m     \u001b[0mmap\u001b[0m\u001b[1;33m(\u001b[0m\u001b[0mdecompose_seg\u001b[0m\u001b[1;33m,\u001b[0m\u001b[0msegs\u001b[0m\u001b[1;33m)\u001b[0m\u001b[1;33m\u001b[0m\u001b[0m\n\u001b[0m\u001b[0;32m      7\u001b[0m     \u001b[0msegs\u001b[0m \u001b[1;33m=\u001b[0m \u001b[0msubsegs\u001b[0m\u001b[1;33m\u001b[0m\u001b[0m\n",
      "\u001b[1;31mNameError\u001b[0m: name 'segs' is not defined"
     ]
    }
   ],
   "source": [
    "\"\"\"\n",
    "Main Loop for a Generalized Fractal of Segments\n",
    "\"\"\"    \n",
    "for n in range(gens):\n",
    "    subsegs = []\n",
    "    map(decompose_seg,segs)\n",
    "    segs = subsegs"
   ]
  },
  {
   "cell_type": "markdown",
   "metadata": {},
   "source": [
    "<img src=\"http://geometric-computation-images.s3-website-us-east-1.amazonaws.com/1.05.P07.jpg\" style=\"width: 200px; display: inline;\">"
   ]
  },
  {
   "cell_type": "markdown",
   "metadata": {},
   "source": [
    "<img src=\"http://geometric-computation-images.s3-website-us-east-1.amazonaws.com/1.05.P09.jpg\" style=\"width: 200px; display: inline;\">"
   ]
  },
  {
   "cell_type": "code",
   "execution_count": null,
   "metadata": {},
   "outputs": [],
   "source": [
    "\"\"\"\n",
    "Calculation of Perpendicular Displacement Vector\n",
    "Given a Segment, the two neighboring Segments, and a u,v coordinate \n",
    "describing the location of a displacement Point, this function \n",
    "calculates the Vec associated with the displacement Point. The \n",
    "resulting Point will be limited to an area bounded by the bisectors \n",
    "of the given Segment and the two adjacent Segments.\n",
    "\"\"\"\n",
    "def vv( seg, neis, u, v ):\n",
    "    prev_seg, next_seg = neis\n",
    "    fac = seg.length/2\n",
    "    va = Vec.bisector(seg.vec.inverted(),prev_seg.vec).normalized(fac)\n",
    "    vb = Vec.bisector(seg.vec,next_seg.vec.inverted()).normalized(fac)\n",
    "    return Vec.interpolate(va,vb,u)*v"
   ]
  },
  {
   "cell_type": "code",
   "execution_count": null,
   "metadata": {},
   "outputs": [],
   "source": [
    "\"\"\"\n",
    "Bounded Fractal Segment Decomposition\n",
    "Given a Segment and the two neighboring Segments, returns some number \n",
    "of sub-segments that describe a fractal subdivision that is bounded \n",
    "to the bisectors of the given Segment and the two adjacent Segments.\n",
    "\"\"\"\n",
    "def decompose_seg( seg, neis ):\n",
    "    # vecs to displace along and away from given Segment\n",
    "    uv = seg.vec\n",
    "    #construct division Points by displacement and chain\n",
    "    subs = Segment.chain([seg.spt+(uv*u)+vv(seg,neis,u,v) for u,v in prms])\n",
    "    subsegs.extend(subs)\n"
   ]
  },
  {
   "cell_type": "code",
   "execution_count": null,
   "metadata": {},
   "outputs": [],
   "source": [
    "\"\"\"\n",
    "Main Loop for a Bisector-Bound Fractal of Segments \n",
    "\"\"\"\n",
    "subsegs = []\n",
    "for n in range(gens):\n",
    "    subsegs = []\n",
    "    segs_prev = [segs[-1]] + segs[:-1]\n",
    "    segs_next = segs[1:] + [segs[0]]\n",
    "    map( decompose_seg, segs, segs_prev, segs_next )\n",
    "    segs = subsegs\n"
   ]
  },
  {
   "cell_type": "markdown",
   "metadata": {},
   "source": [
    "<img src=\"http://geometric-computation-images.s3-website-us-east-1.amazonaws.com/1.05.P10.jpg\" style=\"width: 200px; display: inline;\">"
   ]
  },
  {
   "cell_type": "code",
   "execution_count": null,
   "metadata": {},
   "outputs": [],
   "source": []
  }
 ],
 "metadata": {
  "kernelspec": {
   "display_name": "Python 3",
   "language": "python",
   "name": "python3"
  },
  "language_info": {
   "codemirror_mode": {
    "name": "ipython",
    "version": 3
   },
   "file_extension": ".py",
   "mimetype": "text/x-python",
   "name": "python",
   "nbconvert_exporter": "python",
   "pygments_lexer": "ipython3",
   "version": "3.6.4"
  }
 },
 "nbformat": 4,
 "nbformat_minor": 2
}
