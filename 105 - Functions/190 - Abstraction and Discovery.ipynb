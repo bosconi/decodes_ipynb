{
 "cells": [
  {
   "cell_type": "code",
   "execution_count": 1,
   "metadata": {},
   "outputs": [
    {
     "name": "stdout",
     "output_type": "stream",
     "text": [
      "http://decod.es/\tv0.2.3\n",
      "io loaded\n"
     ]
    }
   ],
   "source": [
    "from decodes.core import *\n",
    "from decodes.io.jupyter_out import JupyterOut\n",
    "\n",
    "out = JupyterOut.unit_square( )"
   ]
  },
  {
   "cell_type": "markdown",
   "metadata": {},
   "source": [
    "# Abstraction and Discovery\n",
    "\n",
    "\n",
    "The extraction of general routines from specific situations not only enables more modular, concise, and legible code, but can also reveal entirely new approaches and previously unconsidered categories of geometric form.\n",
    "\n",
    "in computer science, abstraction is understood relatively\n",
    "narrowly as a process for managing complexity by separating\n",
    "a system into high-level and low-level layers\n",
    "\n",
    "More than a management strategy, this is\n",
    "an important aid for exploration and open-ended discovery in what\n",
    "can otherwise seem like a rigid and deterministic creative medium.\n",
    "\n",
    "\n",
    "after developing three separate fractal routines – Space-Filling\n",
    "Curves, Gosper Islands, and Koch Curves – a pattern of code\n",
    "emerged that suggested a common implementation. The identification\n",
    "of such a commonality positions us well to extract a more generalized\n",
    "routine,\n",
    "\n",
    "While the specific mechanisms employed differed somewhat, the\n",
    "Gosper Island and Koch Snowflake implementations had much in\n",
    "common: both operated on collections of Segments, and controlled\n",
    "subdivision through pairs of coordinates describing Points along a\n",
    "normalized Segment. This subdivision was applied iteratively for each\n",
    "Segment in a collection, and then repeated to generate smaller and\n",
    "smaller units until some condition was satisfied\n",
    "\n",
    "To begin developing a more general\n",
    "implementation that can capture both of these earlier routines, we\n",
    "can define a function that subdivides a single Segment according to\n",
    "a given set of normalized division coordinates, as in the\n",
    "decompose_seg() function, below."
   ]
  },
  {
   "cell_type": "markdown",
   "metadata": {},
   "source": [
    "<img src=\"http://geometric-computation-images.s3-website-us-east-1.amazonaws.com/1.05.P08.jpg\" style=\"width: 200px; display: inline;\">"
   ]
  },
  {
   "cell_type": "markdown",
   "metadata": {},
   "source": [
    "<img src=\"http://geometric-computation-images.s3-website-us-east-1.amazonaws.com/1.05.P06.jpg\" style=\"width: 200px; display: inline;\">"
   ]
  },
  {
   "cell_type": "markdown",
   "metadata": {},
   "source": [
    "This function appends items to a collection of sub-segments, stored in the global variable subsegs, as\n",
    "directed by the global variable prms, a List of Tuples that contain\n",
    "pairs of coordinates relative to a normalized Segment. Since these\n",
    "two global variables need only be accessed and manipulated rather\n",
    "than assigned, no global keyword is required. As before, two Vecs\n",
    "are employed in the plotting of subdivision Points: uv runs along the\n",
    "given Segment while vv is oriented perpendicular to it."
   ]
  },
  {
   "cell_type": "code",
   "execution_count": 32,
   "metadata": {},
   "outputs": [],
   "source": [
    "\"\"\"\n",
    "Fractal Segment Decomposition\n",
    "Given a Segment, returns some number of sub-segments that describe a \n",
    "fractal subdivision.\n",
    "\"\"\"    \n",
    "def decompose_seg(seg):\n",
    "    # vecs to displace along and away from given Segment\n",
    "    uv, vv = seg.vec, seg.vec.cross(UZ)\n",
    "    #construct division Points by displacement and chain\n",
    "    subs = Segment.chain( [seg.spt + (uv*u) + (vv*v) for u,v in prms] )\n",
    "    subsegs.extend(subs)"
   ]
  },
  {
   "cell_type": "code",
   "execution_count": 33,
   "metadata": {},
   "outputs": [
    {
     "ename": "NameError",
     "evalue": "name 'segs' is not defined",
     "output_type": "error",
     "traceback": [
      "\u001b[1;31m---------------------------------------------------------------------------\u001b[0m",
      "\u001b[1;31mNameError\u001b[0m                                 Traceback (most recent call last)",
      "\u001b[1;32m<ipython-input-33-501bcefcb286>\u001b[0m in \u001b[0;36m<module>\u001b[1;34m()\u001b[0m\n\u001b[0;32m      4\u001b[0m \u001b[1;32mfor\u001b[0m \u001b[0mn\u001b[0m \u001b[1;32min\u001b[0m \u001b[0mrange\u001b[0m\u001b[1;33m(\u001b[0m\u001b[0mgens\u001b[0m\u001b[1;33m)\u001b[0m\u001b[1;33m:\u001b[0m\u001b[1;33m\u001b[0m\u001b[0m\n\u001b[0;32m      5\u001b[0m     \u001b[0msubsegs\u001b[0m \u001b[1;33m=\u001b[0m \u001b[1;33m[\u001b[0m\u001b[1;33m]\u001b[0m\u001b[1;33m\u001b[0m\u001b[0m\n\u001b[1;32m----> 6\u001b[1;33m     \u001b[0mmap\u001b[0m\u001b[1;33m(\u001b[0m\u001b[0mdecompose_seg\u001b[0m\u001b[1;33m,\u001b[0m\u001b[0msegs\u001b[0m\u001b[1;33m)\u001b[0m\u001b[1;33m\u001b[0m\u001b[0m\n\u001b[0m\u001b[0;32m      7\u001b[0m     \u001b[0msegs\u001b[0m \u001b[1;33m=\u001b[0m \u001b[0msubsegs\u001b[0m\u001b[1;33m\u001b[0m\u001b[0m\n",
      "\u001b[1;31mNameError\u001b[0m: name 'segs' is not defined"
     ]
    }
   ],
   "source": [
    "\"\"\"\n",
    "Main Loop for a Generalized Fractal of Segments\n",
    "\"\"\"    \n",
    "for n in range(gens):\n",
    "    subsegs = []\n",
    "    map(decompose_seg,segs)\n",
    "    segs = subsegs"
   ]
  },
  {
   "cell_type": "markdown",
   "metadata": {},
   "source": [
    "<img src=\"http://geometric-computation-images.s3-website-us-east-1.amazonaws.com/1.05.P07.jpg\" style=\"width: 200px; display: inline;\">"
   ]
  },
  {
   "cell_type": "markdown",
   "metadata": {},
   "source": [
    "<img src=\"http://geometric-computation-images.s3-website-us-east-1.amazonaws.com/1.05.P09.jpg\" style=\"width: 200px; display: inline;\">"
   ]
  },
  {
   "cell_type": "code",
   "execution_count": null,
   "metadata": {},
   "outputs": [],
   "source": [
    "\"\"\"\n",
    "Calculation of Perpendicular Displacement Vector\n",
    "Given a Segment, the two neighboring Segments, and a u,v coordinate \n",
    "describing the location of a displacement Point, this function \n",
    "calculates the Vec associated with the displacement Point. The \n",
    "resulting Point will be limited to an area bounded by the bisectors \n",
    "of the given Segment and the two adjacent Segments.\n",
    "\"\"\"\n",
    "def vv( seg, neis, u, v ):\n",
    "    prev_seg, next_seg = neis\n",
    "    fac = seg.length/2\n",
    "    va = Vec.bisector(seg.vec.inverted(),prev_seg.vec).normalized(fac)\n",
    "    vb = Vec.bisector(seg.vec,next_seg.vec.inverted()).normalized(fac)\n",
    "    return Vec.interpolate(va,vb,u)*v"
   ]
  },
  {
   "cell_type": "code",
   "execution_count": null,
   "metadata": {},
   "outputs": [],
   "source": [
    "\"\"\"\n",
    "Bounded Fractal Segment Decomposition\n",
    "Given a Segment and the two neighboring Segments, returns some number \n",
    "of sub-segments that describe a fractal subdivision that is bounded \n",
    "to the bisectors of the given Segment and the two adjacent Segments.\n",
    "\"\"\"\n",
    "def decompose_seg( seg, neis ):\n",
    "    # vecs to displace along and away from given Segment\n",
    "    uv = seg.vec\n",
    "    #construct division Points by displacement and chain\n",
    "    subs = Segment.chain([seg.spt+(uv*u)+vv(seg,neis,u,v) for u,v in prms])\n",
    "    subsegs.extend(subs)\n"
   ]
  },
  {
   "cell_type": "code",
   "execution_count": null,
   "metadata": {},
   "outputs": [],
   "source": [
    "\"\"\"\n",
    "Main Loop for a Bisector-Bound Fractal of Segments \n",
    "\"\"\"\n",
    "subsegs = []\n",
    "for n in range(gens):\n",
    "    subsegs = []\n",
    "    segs_prev = [segs[-1]] + segs[:-1]\n",
    "    segs_next = segs[1:] + [segs[0]]\n",
    "    map( decompose_seg, segs, segs_prev, segs_next )\n",
    "    segs = subsegs\n"
   ]
  },
  {
   "cell_type": "markdown",
   "metadata": {},
   "source": [
    "<img src=\"http://geometric-computation-images.s3-website-us-east-1.amazonaws.com/1.05.P10.jpg\" style=\"width: 200px; display: inline;\">"
   ]
  },
  {
   "cell_type": "code",
   "execution_count": null,
   "metadata": {},
   "outputs": [],
   "source": []
  }
 ],
 "metadata": {
  "kernelspec": {
   "display_name": "Python 2",
   "language": "python",
   "name": "python2"
  },
  "language_info": {
   "codemirror_mode": {
    "name": "ipython",
    "version": 2
   },
   "file_extension": ".py",
   "mimetype": "text/x-python",
   "name": "python",
   "nbconvert_exporter": "python",
   "pygments_lexer": "ipython2",
   "version": "2.7.10"
  }
 },
 "nbformat": 4,
 "nbformat_minor": 2
}
