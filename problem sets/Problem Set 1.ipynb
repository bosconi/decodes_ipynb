{
 "cells": [
  {
   "cell_type": "markdown",
   "metadata": {},
   "source": [
    "# Problem Set 1.1\n",
    "\n",
    "Welcome to your first problem set! \n",
    "\n",
    "Our problem sets this semester will be issued and completed in a variety of media, the details of which I'll explain here.\n",
    "\n",
    "Many problem sets may be completed right here in a Jupyter notebook - we'll call these **\"Python submissions\"**. For these, you may wish to work things out in Grasshopper but you should then copy-paste results back to this notebook once you're done. Once you've worked everything out, you can download this (and any Jupyter notebooks) as a PY file by going to File -> Download As -> Python. This will produce a .py file **that you should rename** as shown below before submitting.\n",
    "\n",
    "Other problem sets will be issued and results submitted as a Grasshopper file, which we will appropriately call **\"Grasshopper Submissions\"**. In these cases, you should simiply complete the work in Grasshopper and send me the GH file.\n",
    "\n",
    "For a rare few (such as this one), I'll ask for other sorts of media to be submitted, such as images, 3d models, or vector drawings. In these cases I'll explain clearly what to do.\n",
    "\n",
    "In every case, I'll ask you to submit your work via email. A special email address has been setup for this purpose, and you can attach whatever files are appropriate to any mail sent there (these will be uploaded to a folder on BOX automatically). So I can tell which files below to whom, please **title all submitted files as**:\n",
    "\n",
    "    LASTNAME firstname.pdf\n",
    "\n"
   ]
  },
  {
   "cell_type": "code",
   "execution_count": 1,
   "metadata": {},
   "outputs": [
    {
     "name": "stdout",
     "output_type": "stream",
     "text": [
      "http://decod.es/\tv0.2.3\n"
     ]
    }
   ],
   "source": [
    "from decodes.core import *"
   ]
  },
  {
   "cell_type": "markdown",
   "metadata": {},
   "source": [
    "## Part 1 - Amuse Bouche\n",
    "Following along in the appropriate section of Chapter 1.1, complete the following small tasks.\n"
   ]
  },
  {
   "cell_type": "markdown",
   "metadata": {},
   "source": [
    "### 101.1.1\n",
    "\n",
    "Modify the following code in order to assign to the variable `lst` a List of ten evenly-spaced numbers starting at 20 and ending with 48."
   ]
  },
  {
   "cell_type": "code",
   "execution_count": null,
   "metadata": {},
   "outputs": [],
   "source": [
    "lst = list(range())\n",
    "print(lst)"
   ]
  },
  {
   "cell_type": "markdown",
   "metadata": {},
   "source": [
    "### 101.1.2\n",
    "\n",
    "Modify the following code in order to assign to the variable `min_num` the minimum of variable `num_a` and `num_b`. Note that `num_a` and `num_b` might be altered, and your code should still work."
   ]
  },
  {
   "cell_type": "code",
   "execution_count": null,
   "metadata": {},
   "outputs": [],
   "source": [
    "num_a = 10\n",
    "num_b = 20\n",
    "min_num = ??\n",
    "print(min_num)"
   ]
  },
  {
   "cell_type": "markdown",
   "metadata": {},
   "source": [
    "### 101.1.3\n",
    "\n",
    "Modify the following code to calculate the Sine of `num_a` and assign it to the variable `num_sin`."
   ]
  },
  {
   "cell_type": "code",
   "execution_count": null,
   "metadata": {},
   "outputs": [],
   "source": [
    "import ??\n",
    "num_sin = ??"
   ]
  },
  {
   "cell_type": "markdown",
   "metadata": {},
   "source": [
    "### 101.1.4\n",
    "\n",
    "In the code below, `pt_a` has been constructed at a random location (which will change every time the code is run). Using a decodes Vec (as described in Point-vector interaction), construct another Point at an identical location, but translated 10 units 'up' in the positive z-direction, and assign this new Point to the `pt_b` variable."
   ]
  },
  {
   "cell_type": "code",
   "execution_count": 2,
   "metadata": {},
   "outputs": [
    {
     "name": "stdout",
     "output_type": "stream",
     "text": [
      "pt[0.4478457324043834,0.9315537514950799,0]\n"
     ]
    }
   ],
   "source": [
    "import random\n",
    "pt_a = Point( random.random(), random.random() )\n",
    "vec = ??\n",
    "pt_b = ??"
   ]
  },
  {
   "cell_type": "markdown",
   "metadata": {},
   "source": [
    "### 101.1.5\n",
    "\n",
    "Construct a new Segment that links `pt_a` and `pt_b` from the code above, and assign this new Segment to the `seg_a` variable."
   ]
  },
  {
   "cell_type": "code",
   "execution_count": null,
   "metadata": {},
   "outputs": [],
   "source": [
    "seg_a = ??"
   ]
  },
  {
   "cell_type": "markdown",
   "metadata": {},
   "source": [
    "### 101.1.6\n",
    "\n",
    "Assign the Segment `seg_a` a blue color, and a \"weight\" of 2.0."
   ]
  },
  {
   "cell_type": "code",
   "execution_count": null,
   "metadata": {},
   "outputs": [],
   "source": [
    "\n"
   ]
  },
  {
   "cell_type": "markdown",
   "metadata": {},
   "source": [
    "### 101.1.7\n",
    "\n",
    "The variable `segs` has been set to an empty List, and the variable `pts_a` to a List of some number of Points. Using a loop that iterates over one of these collections, populate the `segs` List with new Segments that connect a Point at (1,1) to each of the Points in `pts_a`."
   ]
  },
  {
   "cell_type": "code",
   "execution_count": 3,
   "metadata": {},
   "outputs": [],
   "source": [
    "segs = []\n",
    "pts_a = [Point(), Point(1), Point(2), Point(3), Point(4)]\n"
   ]
  },
  {
   "cell_type": "markdown",
   "metadata": {},
   "source": [
    "### 101.1.8\n",
    "\n",
    "The variable `n` is assigned to an Integer number (which might change), the variable `ival` is assigned to a Decodes Interval, and the variable `pts_b` is an empty List. Construct a loop that iterates over a division of `ival` into `n` number of divsions, constructing a new Point along the x-axis at this division location. Append each new Point to the `pts_b` List."
   ]
  },
  {
   "cell_type": "code",
   "execution_count": null,
   "metadata": {},
   "outputs": [],
   "source": [
    "pts_b = []\n",
    "n = 10\n",
    "ival = Interval(0,100)\n"
   ]
  },
  {
   "cell_type": "markdown",
   "metadata": {},
   "source": [
    "## Part 2 - Diagram the State of a Script\n",
    "\n",
    "For this problem, a drawing or series of drawings is required. These may be completed digitally (in Illustrator or similar) or by hand (in pencil or similar, then scanned). Please submit a single multi-page PDF (one page per problem) to the problem set submission email address.\n",
    "\n",
    "As demonstrated in **Chapter 1.1**, show the object model diagram for the script shown below as it would appear **after the third execution of line 5** (since this line is embedded in two loops, it will be executed many times). Base your diagram on those shown in class in relation to the attractor script example. Be sure to show all defined variables, references, and objects in memory at this moment in time. Note that this script is taken from the Mathematical Monsters: Part II example - if you read ahead in the course reader, you might glean more information about the workings of this script.\n",
    "\n",
    "Note: tf you require line numbers, in the Jupyter editor you can go to **View -> Toggle Line Numbers**."
   ]
  },
  {
   "cell_type": "code",
   "execution_count": null,
   "metadata": {},
   "outputs": [],
   "source": [
    "for u in Interval.twopi()/count_u:\n",
    "    pts = []\n",
    "    for v in Interval.twopi()/count_v:\n",
    "        x = ( (a+1)*cos(u) + cos(u*(a+1)) ) * v\n",
    "        y = ( (a+1)*sin(u) + sin(u*(a+1)) ) * v\n",
    "        z = 3.0*sin(v*b)\n",
    "        pts.append(Point(x,y,z))"
   ]
  }
 ],
 "metadata": {
  "kernelspec": {
   "display_name": "Python 3",
   "language": "python",
   "name": "python3"
  },
  "language_info": {
   "codemirror_mode": {
    "name": "ipython",
    "version": 3
   },
   "file_extension": ".py",
   "mimetype": "text/x-python",
   "name": "python",
   "nbconvert_exporter": "python",
   "pygments_lexer": "ipython3",
   "version": "3.6.4"
  }
 },
 "nbformat": 4,
 "nbformat_minor": 2
}
