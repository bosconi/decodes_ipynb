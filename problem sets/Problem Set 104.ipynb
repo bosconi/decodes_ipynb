{
 "cells": [
  {
   "cell_type": "markdown",
   "metadata": {},
   "source": [
    "# Problem Set 104a\n",
    "\n",
    "Complete the problems described below.\n",
    "\n",
    "Submit your work via email. A special email address has been setup for this purpose, and you can attach whatever files are appropriate to any mail sent to the address below. So I can tell which files below to whom, please **title all submitted files as**:\n",
    "\n",
    "    LASTNAME firstname.py\n",
    "\n",
    "Submit this file to the class file submission email:\n",
    "\n",
    "    SUBMITT.6g9n8dakvpw0bkft@u.box.com\n",
    "    \n",
    "For one or more of the problems described below, a drawing or series of drawings may be required. These may be completed digitally (in Illustrator or similar) or by hand (in pencil or similar, then scanned). Please submit a single **multi-page** PDF (one page per problem) to the problem set submission email address."
   ]
  },
  {
   "cell_type": "code",
   "execution_count": 3,
   "metadata": {},
   "outputs": [
    {
     "name": "stdout",
     "output_type": "stream",
     "text": [
      "http://decod.es/\tv0.2.3\n",
      "io loaded\n"
     ]
    }
   ],
   "source": [
    "from decodes.core import *\n",
    "from decodes.io.jupyter_out import JupyterOut\n",
    "out = JupyterOut.two_pi( grid_color = Color(0.95,0.95,0.95) )\n",
    "from math import *"
   ]
  },
  {
   "cell_type": "markdown",
   "metadata": {},
   "source": [
    "## Ontology of Collections"
   ]
  },
  {
   "cell_type": "markdown",
   "metadata": {},
   "source": [
    "### 104a.01\n",
    "As discussed in Chapter 1.04, a variety of Python collections will be discussed in this class. Five types are briefly described around page 113 of the text. Following the samples found there, write code that constructs each of the following collections:\n",
    "\n",
    "* A ***String*** assigned to the variable `str_a` and set equal to your first and last name.\n",
    "* A ***List*** assigned to the variable `lst_a` and populated with three Points of your choosing.\n",
    "* A ***Tuple*** assigned to the variable `tup_a` and populated with a Point and an Integer number of your choosing.\n",
    "* A ***Set*** assigned to the variable `set_a` and populated with six Integer numbers of your choosing.\n",
    "\n"
   ]
  },
  {
   "cell_type": "code",
   "execution_count": null,
   "metadata": {},
   "outputs": [],
   "source": [
    "str_a = ??\n",
    "lst_a = ??\n",
    "tup_a = ??\n",
    "set_a = ??"
   ]
  },
  {
   "cell_type": "markdown",
   "metadata": {},
   "source": [
    "## Local Structures of Control"
   ]
  },
  {
   "cell_type": "markdown",
   "metadata": {},
   "source": [
    "### Mechanisms of Choice"
   ]
  },
  {
   "cell_type": "markdown",
   "metadata": {},
   "source": [
    "### 104a.02\n",
    "The variable `porridge_temperature` represents the temperature in farenheit of a delicious bowl of oatmeal that a bear we know will only eat when within ten degrees of his desired temperature of 120.0 degrees. Write an `if-elif-else` block to use the print statements provided properly.\n"
   ]
  },
  {
   "cell_type": "code",
   "execution_count": null,
   "metadata": {},
   "outputs": [],
   "source": [
    "porridge_temperature = random.uniform(70.0, 180.0)\n",
    "\n",
    "??\n",
    "    print('{:.2f} degrees?!! the porridge is too hot'.format(porridge_temperature))\n",
    "??\n",
    "    print('{:.2f} degrees?!! the porridge is too cold'.format(porridge_temperature))\n",
    "??\n",
    "    print('THIS BEAR GONNA EAT')\n"
   ]
  },
  {
   "cell_type": "markdown",
   "metadata": {},
   "source": [
    "### Iteration by Condition"
   ]
  },
  {
   "cell_type": "markdown",
   "metadata": {},
   "source": [
    "### 104a.03\n",
    "The variable `pt_a` is a Point located at some distance away from the world origin along the y-axis. Using a `while` loop, move this Point toward the origin one unit at a time until it is at or below the x-axis. Print the coordinates of `pt_a` at every step.\n",
    "\n"
   ]
  },
  {
   "cell_type": "code",
   "execution_count": null,
   "metadata": {},
   "outputs": [],
   "source": [
    "pt_a = Point(0,random.uniform(30.0, 50.0))\n",
    "\n",
    "??"
   ]
  },
  {
   "cell_type": "markdown",
   "metadata": {},
   "source": [
    "### Exceptions"
   ]
  },
  {
   "cell_type": "markdown",
   "metadata": {},
   "source": [
    "### 104a.04\n",
    "The given code is fragile. Modify it to include a `try-except` structure.\n",
    "\n",
    "Two Vecs are defined, `vec_b` and `vec_a` which is randomly assigned to one of the unit vectors (x,y, or z). The cross product of the two are taken, assigned to `vec_cross`, and then the angle between `vec_b` and `vec_cross` is calculated. Because the cross product of parallel vectors is the zero vector, this angle calculation might fail ungracefully and raise a ***ZeroDivisionError***. Modify the following code as to catch this error, and assign the variable `angle` to the string \"NOT A NUMBER\" in cases of failure.\n",
    "\n"
   ]
  },
  {
   "cell_type": "code",
   "execution_count": null,
   "metadata": {},
   "outputs": [],
   "source": [
    "# vec_a is randomly assigned to either the unit x,y, or z-axis.\n",
    "vec_a = random.choice( [Vec.ux(), Vec.uy(), Vec.uz()] )\n",
    "vec_b = Vec(0,4)\n",
    "\n",
    "#### START YOUR WORK HERE ####\n",
    "\n",
    "# this code is fragile. wrap it carefully in a try-except structure\n",
    "vec_cross = vec_b.cross(vec_a)\n",
    "angle = math.degrees( vec_b.angle(vec_cross) )\n",
    "    \n",
    "#### END YOUR WORK HERE ####\n",
    "\n",
    "print(\"the angle is {}\".format( angle ))\n"
   ]
  },
  {
   "cell_type": "markdown",
   "metadata": {},
   "source": [
    "## Sequence Types in Python"
   ]
  },
  {
   "cell_type": "markdown",
   "metadata": {},
   "source": [
    "### Basic Features of Sequences"
   ]
  },
  {
   "cell_type": "markdown",
   "metadata": {},
   "source": [
    "### 104a.05\n",
    "Two sequences, `looksay_seq` and `pascal_seq`, and two integers, `int_a` and `int_b` are given. Using these objects, complete the following tasks using some of the common operators and methods related to sequence types. \n",
    "\n",
    "* `int_c` is defined as an integer describing the number of objects contained in `pascal_seq`.\n",
    "* `bool_a` is a boolean that tells us if `int_a` may be found in  `pascal_seq`.\n",
    "* `int_d` is the index of `int_a` in `pascal_seq`.\n",
    "* `int_e` is the number of times we may find `int_a` in `pascal_seq`.\n",
    "* `lookpas_seq` is the concatenation of `looksay_seq` and `pascal_seq` (in that order).\n",
    "* `rep_seq` is the repetition of two integers, the first item in `pascal_seq` and the last item in `looksay_seq`, three times.\n",
    "\n"
   ]
  },
  {
   "cell_type": "code",
   "execution_count": null,
   "metadata": {},
   "outputs": [],
   "source": [
    "looksay_seq = [1, 11, 21, 1211, 111221, 312211]\n",
    "pascal_seq = [1, 8, 28, 56, 70, 56, 28, 8, 1]\n",
    "int_a = 56\n",
    "int_b = 3\n",
    "\n",
    "int_c = ??\n",
    "bool_a = ??\n",
    "int_d = ??\n",
    "int_e = ??\n",
    "lookpas_seq = ??\n",
    "rep_seq = ??\n",
    "\n",
    "print(int_b)\n",
    "print(bol_a)\n",
    "print(int_c)\n",
    "print(int_d)\n",
    "print(lookpas_seq)\n",
    "print(rep_seq)"
   ]
  },
  {
   "cell_type": "markdown",
   "metadata": {},
   "source": [
    "### Slicing"
   ]
  },
  {
   "cell_type": "markdown",
   "metadata": {},
   "source": [
    "### 104a.06\n",
    "Anagram time!\n",
    "\n",
    "Using only slices of `str_b` and the concatenation operator, define `str_c` as a String that reads `\"they see\"`\n",
    "\n"
   ]
  },
  {
   "cell_type": "code",
   "execution_count": null,
   "metadata": {},
   "outputs": [],
   "source": [
    "str_b = \"the eyes\"\n",
    "str_c = ??\n",
    "\n",
    "print(str_c)"
   ]
  },
  {
   "cell_type": "markdown",
   "metadata": {},
   "source": [
    "### 104a.07\n",
    "The Integer `cnt` is given, which may be *any positive **even** number*. \n",
    "\n",
    "Two Lists of Points, `pts_a` and `pts_b` are given, each of which contains `cnt` number of Points. Slice the Lists `pts_a` and `pts_b` such that then given code produces a ***shoelace-like*** 'zig-zag' pattern of Segments.\n",
    "\n"
   ]
  },
  {
   "cell_type": "code",
   "execution_count": null,
   "metadata": {},
   "outputs": [],
   "source": [
    "cnt = 8\n",
    "pts_a = [Point(-1,y) for y in Interval(-3,3).divide(cnt,True) ]\n",
    "pts_b = [Point(1,y) for y in Interval(-3,3).divide(cnt,True) ]\n",
    "out.put(pts_a)\n",
    "out.put(pts_b)\n",
    "\n",
    "#### START YOUR WORK HERE ####\n",
    "\n",
    "\n",
    "\n",
    "#### END YOUR WORK HERE ####\n",
    "\n",
    "for n in range(int(cnt/2)):\n",
    "    seg_zig1 = Segment(pts_a1[n],pts_b1[n])\n",
    "    seg_zag1 = Segment(pts_b1[n],pts_a1[n+1])\n",
    "    out.put([seg_zig1,seg_zag1])\n",
    "    \n",
    "    seg_zig2 = Segment(pts_b2[n],pts_a2[n])\n",
    "    seg_zag2 = Segment(pts_a2[n],pts_b2[n+1])    \n",
    "    out.put([seg_zig2,seg_zag2])\n",
    "\n",
    "\n",
    "out.draw()\n",
    "out.clear()"
   ]
  },
  {
   "cell_type": "markdown",
   "metadata": {},
   "source": [
    "## Tuples"
   ]
  },
  {
   "cell_type": "markdown",
   "metadata": {},
   "source": [
    "### 104a.08\n",
    "Here we demonstrate the calculation of the weighted centroid of a set of Points.\n",
    "\n",
    "Two Lists of length `cnt` are given: a List of Points at random locations `pts_c`, and a List of numeric weights `weights` that range from 0.0 to 1.0. Code is given to calculate the weighted centroid of these Points and to plot the result to the canvas. \n",
    "\n",
    "Complete this code by writing a loop that iterates over corresponding objects in the `pts_c` and `weights` Lists. At each cycle, calcuate the **sum** of **the x-coordinate of the Point** and the **cooresponding weight value** to the `x_sum` variable. Do the same for the y-coordinate of the Point and the `y_sum` variable. \n",
    "\n"
   ]
  },
  {
   "cell_type": "code",
   "execution_count": null,
   "metadata": {},
   "outputs": [],
   "source": [
    "cnt = 5\n",
    "pts_c = [Point.random(Interval(-3.5,3.5)) for n in range(cnt)]\n",
    "weights = [random.random() for n in range(cnt)]\n",
    "\n",
    "w_sum = sum(weights)\n",
    "x_sum, y_sum = 0,0\n",
    "\n",
    "#### START YOUR WORK HERE ####\n",
    "\n",
    "\n",
    "\n",
    "#### END YOUR WORK HERE ####\n",
    "\n",
    "pt_cent = Point( x_sum/w_sum, y_sum/w_sum )    \n",
    "pt_cent.set_color(1,0,0)\n",
    "\n",
    "for n in range(cnt):\n",
    "    pt = pts_c[n]\n",
    "    pt.set_weight(Interval(2,10).eval( weights[n] ) )\n",
    "    out.put(pt)\n",
    "\n",
    "out.put(pt_cent)\n",
    "\n",
    "out.draw()\n",
    "out.clear()"
   ]
  },
  {
   "cell_type": "markdown",
   "metadata": {},
   "source": [
    "## Strings"
   ]
  },
  {
   "cell_type": "markdown",
   "metadata": {},
   "source": [
    "### 104a.09\n",
    "In CNC machining, G-Code is a common file format for defining the movements of numerically-controlled machines. At its most basic, the format is simple: a series of desired positions is described along with an indication of how to move from one place to the next (along with other encoded commands that we won't discuss here). Each line of a G-code file might begin with a descriptor of the desired movement, for example G01 indicates linear interpolation, followed by the x-y coordinates of the desired location.\n",
    "\n",
    "Using the code provided below, ***complete the defining of the G-Code file String `g_code`***. To this end, two corresponding Lists of x- and y- values (converted to Strings) are given, `x_coords` and `y_coords` that describe the intended location of the CNC actuator. Also given is a String `fmt_str` that should be used along with the `format()` method in the construction of individual lines of G-Code.\n",
    "\n",
    "If you're curious, you might note that the `\\n` code creates a new line in text formatting.\n",
    "\n"
   ]
  },
  {
   "cell_type": "code",
   "execution_count": null,
   "metadata": {},
   "outputs": [],
   "source": [
    "cnt = 10\n",
    "x_coords = ['{:.3f}'.format(2.0*cos(t)) for t in Interval.twopi()/cnt]\n",
    "y_coords = ['{:.3f}'.format(3.0*sin(t)) for t in Interval.twopi()/cnt]\n",
    "print(x_coords)\n",
    "print(y_coords)\n",
    "\n",
    "fmt_str = \"G01 {0},{1}\\n\"\n",
    "g_code = \"OPEN PROG 1000 CLEAR\\n\"\n",
    "\n",
    "#### START YOUR WORK HERE ####\n",
    "\n",
    "\n",
    "\n",
    "#### END YOUR WORK HERE ####\n",
    "\n",
    "g_code += \"CLOSE\"\n",
    "print(g_code)"
   ]
  },
  {
   "cell_type": "markdown",
   "metadata": {},
   "source": [
    "## Sorting"
   ]
  },
  {
   "cell_type": "markdown",
   "metadata": {},
   "source": [
    "### 104a.10\n",
    "The decorate-sort-undecorate pattern of code is exceedingly useful in computational geometry for design applications. Use this pattern to solve the following problem.\n",
    "\n",
    "A number of Points that fall around the model origin are given as `pts_unsorted`. Sort these Points by their angle relative to the world x-axis and assign them to the `pts_sorted` variable. Use the `decorated_tups` variable in your process. A routine is given for visualizing the order of a List of Points by color, and may be applied to the Points as given or as resulting."
   ]
  },
  {
   "cell_type": "code",
   "execution_count": 2,
   "metadata": {},
   "outputs": [
    {
     "ename": "NameError",
     "evalue": "name 'Point' is not defined",
     "output_type": "error",
     "traceback": [
      "\u001b[1;31m---------------------------------------------------------------------------\u001b[0m",
      "\u001b[1;31mNameError\u001b[0m                                 Traceback (most recent call last)",
      "\u001b[1;32m<ipython-input-2-bef3e95afbce>\u001b[0m in \u001b[0;36m<module>\u001b[1;34m()\u001b[0m\n\u001b[0;32m      2\u001b[0m \u001b[1;31m# We'll know more about this soon. For now we can just accept\u001b[0m\u001b[1;33m\u001b[0m\u001b[1;33m\u001b[0m\u001b[0m\n\u001b[0;32m      3\u001b[0m \u001b[1;31m# that a collection of Points at random location is defined.\u001b[0m\u001b[1;33m\u001b[0m\u001b[1;33m\u001b[0m\u001b[0m\n\u001b[1;32m----> 4\u001b[1;33m \u001b[0mpts_unsorted\u001b[0m \u001b[1;33m=\u001b[0m \u001b[1;33m[\u001b[0m\u001b[0mPoint\u001b[0m\u001b[1;33m.\u001b[0m\u001b[0mrandom\u001b[0m\u001b[1;33m(\u001b[0m\u001b[0mInterval\u001b[0m\u001b[1;33m(\u001b[0m\u001b[1;33m-\u001b[0m\u001b[1;36m3\u001b[0m\u001b[1;33m,\u001b[0m\u001b[1;36m3\u001b[0m\u001b[1;33m)\u001b[0m\u001b[1;33m,\u001b[0m\u001b[1;32mTrue\u001b[0m\u001b[1;33m)\u001b[0m \u001b[1;32mfor\u001b[0m \u001b[0mn\u001b[0m \u001b[1;32min\u001b[0m \u001b[0mrange\u001b[0m\u001b[1;33m(\u001b[0m\u001b[1;36m100\u001b[0m\u001b[1;33m)\u001b[0m\u001b[1;33m]\u001b[0m\u001b[1;33m\u001b[0m\u001b[0m\n\u001b[0m\u001b[0;32m      5\u001b[0m \u001b[0mpts_sorted\u001b[0m \u001b[1;33m=\u001b[0m \u001b[1;33m[\u001b[0m\u001b[1;33m]\u001b[0m\u001b[1;33m\u001b[0m\u001b[0m\n\u001b[0;32m      6\u001b[0m \u001b[1;33m\u001b[0m\u001b[0m\n",
      "\u001b[1;32m<ipython-input-2-bef3e95afbce>\u001b[0m in \u001b[0;36m<listcomp>\u001b[1;34m(.0)\u001b[0m\n\u001b[0;32m      2\u001b[0m \u001b[1;31m# We'll know more about this soon. For now we can just accept\u001b[0m\u001b[1;33m\u001b[0m\u001b[1;33m\u001b[0m\u001b[0m\n\u001b[0;32m      3\u001b[0m \u001b[1;31m# that a collection of Points at random location is defined.\u001b[0m\u001b[1;33m\u001b[0m\u001b[1;33m\u001b[0m\u001b[0m\n\u001b[1;32m----> 4\u001b[1;33m \u001b[0mpts_unsorted\u001b[0m \u001b[1;33m=\u001b[0m \u001b[1;33m[\u001b[0m\u001b[0mPoint\u001b[0m\u001b[1;33m.\u001b[0m\u001b[0mrandom\u001b[0m\u001b[1;33m(\u001b[0m\u001b[0mInterval\u001b[0m\u001b[1;33m(\u001b[0m\u001b[1;33m-\u001b[0m\u001b[1;36m3\u001b[0m\u001b[1;33m,\u001b[0m\u001b[1;36m3\u001b[0m\u001b[1;33m)\u001b[0m\u001b[1;33m,\u001b[0m\u001b[1;32mTrue\u001b[0m\u001b[1;33m)\u001b[0m \u001b[1;32mfor\u001b[0m \u001b[0mn\u001b[0m \u001b[1;32min\u001b[0m \u001b[0mrange\u001b[0m\u001b[1;33m(\u001b[0m\u001b[1;36m100\u001b[0m\u001b[1;33m)\u001b[0m\u001b[1;33m]\u001b[0m\u001b[1;33m\u001b[0m\u001b[0m\n\u001b[0m\u001b[0;32m      5\u001b[0m \u001b[0mpts_sorted\u001b[0m \u001b[1;33m=\u001b[0m \u001b[1;33m[\u001b[0m\u001b[1;33m]\u001b[0m\u001b[1;33m\u001b[0m\u001b[0m\n\u001b[0;32m      6\u001b[0m \u001b[1;33m\u001b[0m\u001b[0m\n",
      "\u001b[1;31mNameError\u001b[0m: name 'Point' is not defined"
     ]
    }
   ],
   "source": [
    "# the following construction is termed a 'list comprehension'.\n",
    "# We'll know more about this soon. For now we can just accept\n",
    "# that a collection of Points at random location is defined. \n",
    "pts_unsorted = [Point.random(Interval(-3,3),True) for n in range(100)]\n",
    "pts_sorted = []\n",
    "\n",
    "decorated_tups = []\n",
    "#### START YOUR WORK HERE ####\n",
    "for pt in pts_unsorted:\n",
    "    decorated_tups.append((Vec(pt,Point(0,0,0)).angle(Vec(1,0,0), pt)))\n",
    "deco = decorated_tups.sort()\n",
    "for dpt in deco:\n",
    "    pts_sorted.append(deco[1])\n",
    "#### END YOUR WORK HERE ####\n",
    "\n",
    "# what follows is a routine for visualizing the order of a List of Points.\n",
    "# it's okay if you don't understand all this.\n",
    "ca,cb = Color(1,0,0), Color(0,1,1)\n",
    "for n, pt in enumerate(pts_to_visualize): pt.set_color( Color.interpolate( ca,cb,n/len(pts_to_visualize) ) )\n",
    "out.put(pts_to_visualize)\n",
    "out.draw()\n",
    "out.clear()"
   ]
  },
  {
   "cell_type": "code",
   "execution_count": null,
   "metadata": {},
   "outputs": [],
   "source": []
  }
 ],
 "metadata": {
  "kernelspec": {
   "display_name": "Python 3",
   "language": "python",
   "name": "python3"
  },
  "language_info": {
   "codemirror_mode": {
    "name": "ipython",
    "version": 3
   },
   "file_extension": ".py",
   "mimetype": "text/x-python",
   "name": "python",
   "nbconvert_exporter": "python",
   "pygments_lexer": "ipython3",
   "version": "3.6.4"
  }
 },
 "nbformat": 4,
 "nbformat_minor": 2
}
