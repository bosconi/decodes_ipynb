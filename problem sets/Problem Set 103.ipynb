{
 "cells": [
  {
   "cell_type": "markdown",
   "metadata": {},
   "source": [
    "# Problem Set 103\n",
    "\n",
    "Complete the problems described below.\n",
    "\n",
    "Submit your work via email. A special email address has been setup for this purpose, and you can attach whatever files are appropriate to any mail sent to the address below. So I can tell which files below to whom, please **title all submitted files as**:\n",
    "\n",
    "    LASTNAME firstname.pdf\n",
    "\n",
    "Submit this file to the class file submission email:\n",
    "\n",
    "    SUBMITT.6g9n8dakvpw0bkft@u.box.com\n",
    "    \n",
    "For one or more of the problems described below, a drawing or series of drawings may be required. These may be completed digitally (in Illustrator or similar) or by hand (in pencil or similar, then scanned). Please submit a single **multi-page** PDF (one page per problem) to the problem set submission email address."
   ]
  },
  {
   "cell_type": "code",
   "execution_count": 2,
   "metadata": {},
   "outputs": [
    {
     "name": "stdout",
     "output_type": "stream",
     "text": [
      "http://decod.es/\tv0.2.3\n",
      "io loaded\n"
     ]
    }
   ],
   "source": [
    "from decodes.core import *\n",
    "from decodes.io.jupyter_out import JupyterOut\n",
    "out = JupyterOut.two_pi( grid_color = Color(0.95,0.95,0.95) )\n",
    "from math import *"
   ]
  },
  {
   "cell_type": "markdown",
   "metadata": {},
   "source": [
    "## Vector Representation and Manipulation"
   ]
  },
  {
   "cell_type": "markdown",
   "metadata": {},
   "source": [
    "### 103.01\n",
    "As discussed in Chapter 1.03, vectors may be represented mathematically, in code, and using diagrams. Following the diagrams shown in this chapter, draw the following operations for vectors $\\vec{v_{a}} = (0,1)$ and $\\vec{v_{b}} = (2,2)$. Note that vector subtraction and scalar division should be shown as combonations of more elemental operations.\n",
    "\n",
    "* Drawing 1: $\\vec{v_{a}} + \\vec{v_{b}}$\n",
    "* Drawing 2: $2\\vec{v_{b}}$\n",
    "* Drawing 3: $\\vec{v_{a}} - \\vec{v_{b}}$\n"
   ]
  },
  {
   "cell_type": "markdown",
   "metadata": {},
   "source": [
    "## Vectors in Cartesian Space"
   ]
  },
  {
   "cell_type": "markdown",
   "metadata": {},
   "source": [
    "### 103.02\n",
    "Construct the two vectors mentioned above, $\\vec{v_{a}} = (0,1)$ and $\\vec{v_{b}} = (2,2)$, as Decod.es Vec objects.\n"
   ]
  },
  {
   "cell_type": "code",
   "execution_count": null,
   "metadata": {},
   "outputs": [],
   "source": [
    "vec_a = ??\n",
    "vec_b = ??"
   ]
  },
  {
   "cell_type": "markdown",
   "metadata": {},
   "source": [
    "### 103.03\n",
    "Construct a Vec object $\\vec{v_{c}}$ that describes the relationship between a $P_{a} = (10,10)$ and $P_{b} = (5,0)$. \n",
    "\n",
    "The resulting Vec should describe the translation **from $P_{a}$ to $P_{b}$**.\n"
   ]
  },
  {
   "cell_type": "code",
   "execution_count": 6,
   "metadata": {},
   "outputs": [
    {
     "name": "stdout",
     "output_type": "stream",
     "text": [
      "vec[-5,-10,0]\n"
     ]
    }
   ],
   "source": [
    "pt_a = Point(10,10)\n",
    "pt_b = Point(5,0)\n",
    "vec_c = ??\n",
    "\n",
    "print(vec_c)"
   ]
  },
  {
   "cell_type": "markdown",
   "metadata": {},
   "source": [
    "### 103.04\n",
    "Working with the Vec $\\vec{v_{c}}$ that was constructed in the problem above, construct new vectors as follows. Note that a Decod.es Vec holds a `vec.inverted()` method and *not* a `vec.invert()` method.\n",
    "\n",
    "* $\\vec{v_{d}}$ is set to the result of the addition of $\\vec{v_{c}}$ and the **unit x** vector. \n",
    "* $\\vec{v_{e}}$ is set to $\\frac{1}{3}\\vec{v_{c}}$\n",
    "* $\\vec{v_{f}}$ is set to $\\vec{v_{c}} - \\vec{v_{d}}$\n",
    "* $\\vec{v_{g}}$ is set to the inversion of $\\vec{v_{c}}$\n"
   ]
  },
  {
   "cell_type": "code",
   "execution_count": 11,
   "metadata": {},
   "outputs": [
    {
     "name": "stdout",
     "output_type": "stream",
     "text": [
      "vec[-4.0,-10,0]\n",
      "vec[-1.6666666666666667,-3.3333333333333335,0.0]\n",
      "vec[-1.0,0,0]\n",
      "vec[5,10,0]\n"
     ]
    }
   ],
   "source": [
    "vec_d = vec_c + Vec(1,0)\n",
    "vec_e = vec_c *0.33333333\n",
    "vec_f = ??\n",
    "vec_g = vec_c.inverted()\n",
    "\n",
    "print(vec_d)\n",
    "print(vec_e)\n",
    "print(vec_f)\n",
    "print(vec_g)"
   ]
  },
  {
   "cell_type": "markdown",
   "metadata": {},
   "source": [
    "### 103.05\n",
    "In the space provided below, construct a Vec $\\vec{v_{h}}$ as the interpolation between the two random Vec objects provided, $\\vec{v_{rand_a}}$ and $\\vec{v_{rand_b}}$. Find a Vec at a location 25% along the transition **from B to A**."
   ]
  },
  {
   "cell_type": "code",
   "execution_count": 22,
   "metadata": {},
   "outputs": [
    {
     "name": "stdout",
     "output_type": "stream",
     "text": [
      "vec[-0.07953027172734964,-0.2672037990315046,-0.6511900789759264]\n"
     ]
    }
   ],
   "source": [
    "# constructs random vectors with coordinates between -1 and 1\n",
    "vec_rand_a = Vec.random()\n",
    "vec_rand_b = Vec.random()\n",
    "\n",
    "vec_h = Vec.interpolate(v,v,0.25)\n",
    "print(vec_h)"
   ]
  },
  {
   "cell_type": "markdown",
   "metadata": {},
   "source": [
    "### 103.06\n",
    "Here's a tricky one that anticipates our next chapter. In the space provided below, finish writing the loop that iterates over the three numeric values representing the x, y, and z coordinates of the random Vec object $\\vec{v_{rand}}$. Code has been provided within this loop that tests each coord as to determine the minimum and maximum values and to print these to the console. To complete this loop, you'll need some knowlege of the ***properties*** of a Decod.es Vec."
   ]
  },
  {
   "cell_type": "code",
   "execution_count": 20,
   "metadata": {},
   "outputs": [
    {
     "name": "stdout",
     "output_type": "stream",
     "text": [
      "vec[0.910976975611642,0.40034299411181573,-0.09922921430230391]\n",
      "the min is -0.09922921430230391\n",
      "the max is 0.910976975611642\n"
     ]
    }
   ],
   "source": [
    "# constructs a random vector with coordinates between -1 and 1\n",
    "vec_rand = Vec.random()\n",
    "min_coord = 1\n",
    "max_coord = -1\n",
    "\n",
    "for coord in ??:\n",
    "    if coord > max_coord: max_coord = coord\n",
    "    if coord < min_coord: min_coord = coord\n",
    "        \n",
    "print(v_rand)\n",
    "print(\"the min is {}\".format(min_coord))\n",
    "print(\"the max is {}\".format(max_coord))"
   ]
  },
  {
   "cell_type": "markdown",
   "metadata": {},
   "source": [
    "### 103.07\n",
    "A collection of Point objects `pts_rand` is given. Using a **static method of the Point class**, find which among these Points is the closest to the given Point `pt_a`, and assign this Point to the variable `pt_near`."
   ]
  },
  {
   "cell_type": "code",
   "execution_count": 32,
   "metadata": {},
   "outputs": [
    {
     "name": "stdout",
     "output_type": "stream",
     "text": [
      "pt[0.12894870983638995,-0.29445576557903985,-0.0864209454641951]\n"
     ]
    }
   ],
   "source": [
    "# the following construction is termed a 'list comprehension'.\n",
    "# We'll know more about this soon. For now we can just accept\n",
    "# that a collection of Points at random location is defined. \n",
    "pts_rand = [Point.random() for n in range(4)]\n",
    "pt_a = Point(2,2,2)\n",
    "\n",
    "pt_near = Point.near(pt_a,pts_rand)\n",
    "print(pt_near)\n",
    "\n",
    "\n"
   ]
  },
  {
   "cell_type": "markdown",
   "metadata": {},
   "source": [
    "\n",
    "## Vector Length and Direction"
   ]
  },
  {
   "cell_type": "markdown",
   "metadata": {},
   "source": [
    "### 103.08\n",
    "Using a *property of the Vec class* modify the given Vec `vec_rand` such that it lies in the same direction, but with a length of 10. "
   ]
  },
  {
   "cell_type": "code",
   "execution_count": 36,
   "metadata": {},
   "outputs": [
    {
     "name": "stdout",
     "output_type": "stream",
     "text": [
      "vec[-6.318893771093528,3.087298850736487,7.109160802505214]\n",
      "10.0\n"
     ]
    }
   ],
   "source": [
    "# constructs a random vector with coordinates between -1 and 1\n",
    "# while the resulting Vec would otherwise be normalized\n",
    "# here we specifically ask for the Vec to *not* be normalized.\n",
    "vec_rand = Vec.random(normalize = False)\n",
    "vec_rand.length = 10\n",
    "\n",
    "print(vec_rand)\n",
    "print(vec_rand.length)"
   ]
  },
  {
   "cell_type": "markdown",
   "metadata": {},
   "source": [
    "## Dot Product"
   ]
  },
  {
   "cell_type": "markdown",
   "metadata": {},
   "source": [
    "### 103.09\n",
    "\n",
    "The sign of the dot product of two vectors can tell us something about their relationship. \n",
    "\n",
    "Complete the following statements using references to the three given Vecs such that all three booleans (`bool_a`, `bool_b`, `bool_c`) are True. "
   ]
  },
  {
   "cell_type": "code",
   "execution_count": 42,
   "metadata": {},
   "outputs": [
    {
     "name": "stdout",
     "output_type": "stream",
     "text": [
      "True\n",
      "True\n",
      "True\n"
     ]
    }
   ],
   "source": [
    "vec_i = Vec(0,1)\n",
    "vec_j = Vec(1,1)\n",
    "vec_k = Vec(-1,1)\n",
    "\n",
    "bool_a = vec_i.dot(vec_j) > 0\n",
    "bool_b = ??.dot(??) == 0\n",
    "bool_c = ??.dot(??) > 0\n",
    "\n",
    "print(bool_a)\n",
    "print(bool_b)\n",
    "print(bool_c)\n"
   ]
  },
  {
   "cell_type": "markdown",
   "metadata": {},
   "source": [
    "### 103.10\n",
    "\n",
    "Write code to project the given Point `pt_b` onto the given Segment `seg_a` and assign the result to `pt_projected`. You may not use the `seg.near()` method in completing this problem."
   ]
  },
  {
   "cell_type": "code",
   "execution_count": 10,
   "metadata": {},
   "outputs": [
    {
     "name": "stdout",
     "output_type": "stream",
     "text": [
      "pt[11.0,11.0,0.0]\n"
     ]
    }
   ],
   "source": [
    "pt_b = Point(10,12)\n",
    "seg_a = Segment(Point(10,10),Point(12,12))\n",
    "\n",
    "d = Vec(seg_a.spt,pt_b).dot(seg_a.vec.normalized())\n",
    "pt_projected = seg_a.spt + seg_a.vec.normalized(d)\n",
    "\n",
    "\n",
    "vec_b = Vec(seg_a.spt,pt_b)\n",
    "pt_projected = seg_a.spt + vec_b.projected(seg_a.vec)\n",
    "\n",
    "print(pt_projected)"
   ]
  },
  {
   "cell_type": "markdown",
   "metadata": {},
   "source": [
    "## Cross Product"
   ]
  },
  {
   "cell_type": "markdown",
   "metadata": {},
   "source": [
    "### 103.11\n",
    "\n",
    "A Point at a random location on the xy-plane, `pt_rand`, is given. \n",
    "\n",
    "Write code to construct a normalized Vec `vec_l` that describes the direction from `pt_rand` to the world origin, and another normalized Vec `vec_m` that is perpendicular to this first Vec and lies on the xy-plane."
   ]
  },
  {
   "cell_type": "code",
   "execution_count": 11,
   "metadata": {},
   "outputs": [
    {
     "name": "stdout",
     "output_type": "stream",
     "text": [
      "vec[0.1185077290726456,0.9929531298858191,0.0]\n",
      "vec[0.9929531298858191,-0.1185077290726456,0.0]\n"
     ]
    }
   ],
   "source": [
    "# constructs a random point on the plane with coordinates between -1 and 1\n",
    "pt_rand = Point.random(constrain2d=True)\n",
    "\n",
    "vec_l = Vec(pt_rand,Point()).normalized()\n",
    "vec_m = vec_l.cross(Vec.uz())\n",
    "\n",
    "print(vec_l)\n",
    "print(vec_m)\n"
   ]
  },
  {
   "cell_type": "markdown",
   "metadata": {},
   "source": [
    "## Coordinate Systems"
   ]
  },
  {
   "cell_type": "markdown",
   "metadata": {},
   "source": [
    "### 103.12\n",
    "Code is given that plots Points in the shape of a football-like curve around the world origin.\n",
    "\n",
    "Modify this code such that these Points center on the given CS `cs_a`."
   ]
  },
  {
   "cell_type": "code",
   "execution_count": 15,
   "metadata": {},
   "outputs": [
    {
     "data": {
      "text/html": [
       "<div style=\"width:560.0px; height:360.0px; box-shadow: 2px 2px 8px 4px #ddd; margin: 8px;\"><svg width=\"560.0\" height=\"360.0\" xmlns=\"http://www.w3.org/2000/svg\" version=\"1.1\">\n",
       "<polyline points=\"28.67258771281655,340.0 91.50444078461243,340.0 91.50444078461243,300.0 28.67258771281655,300.0 28.67258771281655,340.0\" style=\"fill:rgb(242,242,242);stroke-width:1;stroke:rgb(255,255,255)\"/>\n",
       "<polyline points=\"91.50444078461243,340.0 154.33629385640828,340.0 154.33629385640828,300.0 91.50444078461243,300.0 91.50444078461243,340.0\" style=\"fill:rgb(242,242,242);stroke-width:1;stroke:rgb(255,255,255)\"/>\n",
       "<polyline points=\"154.33629385640828,340.0 217.16814692820412,340.0 217.16814692820412,300.0 154.33629385640828,300.0 154.33629385640828,340.0\" style=\"fill:rgb(242,242,242);stroke-width:1;stroke:rgb(255,255,255)\"/>\n",
       "<polyline points=\"217.16814692820412,340.0 280.0,340.0 280.0,300.0 217.16814692820412,300.0 217.16814692820412,340.0\" style=\"fill:rgb(242,242,242);stroke-width:1;stroke:rgb(255,255,255)\"/>\n",
       "<polyline points=\"280.0,340.0 342.8318530717959,340.0 342.8318530717959,300.0 280.0,300.0 280.0,340.0\" style=\"fill:rgb(242,242,242);stroke-width:1;stroke:rgb(255,255,255)\"/>\n",
       "<polyline points=\"342.8318530717959,340.0 405.66370614359175,340.0 405.66370614359175,300.0 342.8318530717959,300.0 342.8318530717959,340.0\" style=\"fill:rgb(242,242,242);stroke-width:1;stroke:rgb(255,255,255)\"/>\n",
       "<polyline points=\"405.66370614359175,340.0 468.4955592153876,340.0 468.4955592153876,300.0 405.66370614359175,300.0 405.66370614359175,340.0\" style=\"fill:rgb(242,242,242);stroke-width:1;stroke:rgb(255,255,255)\"/>\n",
       "<polyline points=\"468.4955592153876,340.0 531.3274122871835,340.0 531.3274122871835,300.0 468.4955592153876,300.0 468.4955592153876,340.0\" style=\"fill:rgb(242,242,242);stroke-width:1;stroke:rgb(255,255,255)\"/>\n",
       "<polyline points=\"28.67258771281655,300.0 91.50444078461243,300.0 91.50444078461243,260.0 28.67258771281655,260.0 28.67258771281655,300.0\" style=\"fill:rgb(242,242,242);stroke-width:1;stroke:rgb(255,255,255)\"/>\n",
       "<polyline points=\"91.50444078461243,300.0 154.33629385640828,300.0 154.33629385640828,260.0 91.50444078461243,260.0 91.50444078461243,300.0\" style=\"fill:rgb(242,242,242);stroke-width:1;stroke:rgb(255,255,255)\"/>\n",
       "<polyline points=\"154.33629385640828,300.0 217.16814692820412,300.0 217.16814692820412,260.0 154.33629385640828,260.0 154.33629385640828,300.0\" style=\"fill:rgb(242,242,242);stroke-width:1;stroke:rgb(255,255,255)\"/>\n",
       "<polyline points=\"217.16814692820412,300.0 280.0,300.0 280.0,260.0 217.16814692820412,260.0 217.16814692820412,300.0\" style=\"fill:rgb(242,242,242);stroke-width:1;stroke:rgb(255,255,255)\"/>\n",
       "<polyline points=\"280.0,300.0 342.8318530717959,300.0 342.8318530717959,260.0 280.0,260.0 280.0,300.0\" style=\"fill:rgb(242,242,242);stroke-width:1;stroke:rgb(255,255,255)\"/>\n",
       "<polyline points=\"342.8318530717959,300.0 405.66370614359175,300.0 405.66370614359175,260.0 342.8318530717959,260.0 342.8318530717959,300.0\" style=\"fill:rgb(242,242,242);stroke-width:1;stroke:rgb(255,255,255)\"/>\n",
       "<polyline points=\"405.66370614359175,300.0 468.4955592153876,300.0 468.4955592153876,260.0 405.66370614359175,260.0 405.66370614359175,300.0\" style=\"fill:rgb(242,242,242);stroke-width:1;stroke:rgb(255,255,255)\"/>\n",
       "<polyline points=\"468.4955592153876,300.0 531.3274122871835,300.0 531.3274122871835,260.0 468.4955592153876,260.0 468.4955592153876,300.0\" style=\"fill:rgb(242,242,242);stroke-width:1;stroke:rgb(255,255,255)\"/>\n",
       "<polyline points=\"28.67258771281655,260.0 91.50444078461243,260.0 91.50444078461243,220.0 28.67258771281655,220.0 28.67258771281655,260.0\" style=\"fill:rgb(242,242,242);stroke-width:1;stroke:rgb(255,255,255)\"/>\n",
       "<polyline points=\"91.50444078461243,260.0 154.33629385640828,260.0 154.33629385640828,220.0 91.50444078461243,220.0 91.50444078461243,260.0\" style=\"fill:rgb(242,242,242);stroke-width:1;stroke:rgb(255,255,255)\"/>\n",
       "<polyline points=\"154.33629385640828,260.0 217.16814692820412,260.0 217.16814692820412,220.0 154.33629385640828,220.0 154.33629385640828,260.0\" style=\"fill:rgb(242,242,242);stroke-width:1;stroke:rgb(255,255,255)\"/>\n",
       "<polyline points=\"217.16814692820412,260.0 280.0,260.0 280.0,220.0 217.16814692820412,220.0 217.16814692820412,260.0\" style=\"fill:rgb(242,242,242);stroke-width:1;stroke:rgb(255,255,255)\"/>\n",
       "<polyline points=\"280.0,260.0 342.8318530717959,260.0 342.8318530717959,220.0 280.0,220.0 280.0,260.0\" style=\"fill:rgb(242,242,242);stroke-width:1;stroke:rgb(255,255,255)\"/>\n",
       "<polyline points=\"342.8318530717959,260.0 405.66370614359175,260.0 405.66370614359175,220.0 342.8318530717959,220.0 342.8318530717959,260.0\" style=\"fill:rgb(242,242,242);stroke-width:1;stroke:rgb(255,255,255)\"/>\n",
       "<polyline points=\"405.66370614359175,260.0 468.4955592153876,260.0 468.4955592153876,220.0 405.66370614359175,220.0 405.66370614359175,260.0\" style=\"fill:rgb(242,242,242);stroke-width:1;stroke:rgb(255,255,255)\"/>\n",
       "<polyline points=\"468.4955592153876,260.0 531.3274122871835,260.0 531.3274122871835,220.0 468.4955592153876,220.0 468.4955592153876,260.0\" style=\"fill:rgb(242,242,242);stroke-width:1;stroke:rgb(255,255,255)\"/>\n",
       "<polyline points=\"28.67258771281655,220.0 91.50444078461243,220.0 91.50444078461243,180.0 28.67258771281655,180.0 28.67258771281655,220.0\" style=\"fill:rgb(242,242,242);stroke-width:1;stroke:rgb(255,255,255)\"/>\n",
       "<polyline points=\"91.50444078461243,220.0 154.33629385640828,220.0 154.33629385640828,180.0 91.50444078461243,180.0 91.50444078461243,220.0\" style=\"fill:rgb(242,242,242);stroke-width:1;stroke:rgb(255,255,255)\"/>\n",
       "<polyline points=\"154.33629385640828,220.0 217.16814692820412,220.0 217.16814692820412,180.0 154.33629385640828,180.0 154.33629385640828,220.0\" style=\"fill:rgb(242,242,242);stroke-width:1;stroke:rgb(255,255,255)\"/>\n",
       "<polyline points=\"217.16814692820412,220.0 280.0,220.0 280.0,180.0 217.16814692820412,180.0 217.16814692820412,220.0\" style=\"fill:rgb(242,242,242);stroke-width:1;stroke:rgb(255,255,255)\"/>\n",
       "<polyline points=\"280.0,220.0 342.8318530717959,220.0 342.8318530717959,180.0 280.0,180.0 280.0,220.0\" style=\"fill:rgb(242,242,242);stroke-width:1;stroke:rgb(255,255,255)\"/>\n",
       "<polyline points=\"342.8318530717959,220.0 405.66370614359175,220.0 405.66370614359175,180.0 342.8318530717959,180.0 342.8318530717959,220.0\" style=\"fill:rgb(242,242,242);stroke-width:1;stroke:rgb(255,255,255)\"/>\n",
       "<polyline points=\"405.66370614359175,220.0 468.4955592153876,220.0 468.4955592153876,180.0 405.66370614359175,180.0 405.66370614359175,220.0\" style=\"fill:rgb(242,242,242);stroke-width:1;stroke:rgb(255,255,255)\"/>\n",
       "<polyline points=\"468.4955592153876,220.0 531.3274122871835,220.0 531.3274122871835,180.0 468.4955592153876,180.0 468.4955592153876,220.0\" style=\"fill:rgb(242,242,242);stroke-width:1;stroke:rgb(255,255,255)\"/>\n",
       "<polyline points=\"28.67258771281655,180.0 91.50444078461243,180.0 91.50444078461243,140.0 28.67258771281655,140.0 28.67258771281655,180.0\" style=\"fill:rgb(242,242,242);stroke-width:1;stroke:rgb(255,255,255)\"/>\n",
       "<polyline points=\"91.50444078461243,180.0 154.33629385640828,180.0 154.33629385640828,140.0 91.50444078461243,140.0 91.50444078461243,180.0\" style=\"fill:rgb(242,242,242);stroke-width:1;stroke:rgb(255,255,255)\"/>\n",
       "<polyline points=\"154.33629385640828,180.0 217.16814692820412,180.0 217.16814692820412,140.0 154.33629385640828,140.0 154.33629385640828,180.0\" style=\"fill:rgb(242,242,242);stroke-width:1;stroke:rgb(255,255,255)\"/>\n",
       "<polyline points=\"217.16814692820412,180.0 280.0,180.0 280.0,140.0 217.16814692820412,140.0 217.16814692820412,180.0\" style=\"fill:rgb(242,242,242);stroke-width:1;stroke:rgb(255,255,255)\"/>\n",
       "<polyline points=\"280.0,180.0 342.8318530717959,180.0 342.8318530717959,140.0 280.0,140.0 280.0,180.0\" style=\"fill:rgb(242,242,242);stroke-width:1;stroke:rgb(255,255,255)\"/>\n",
       "<polyline points=\"342.8318530717959,180.0 405.66370614359175,180.0 405.66370614359175,140.0 342.8318530717959,140.0 342.8318530717959,180.0\" style=\"fill:rgb(242,242,242);stroke-width:1;stroke:rgb(255,255,255)\"/>\n",
       "<polyline points=\"405.66370614359175,180.0 468.4955592153876,180.0 468.4955592153876,140.0 405.66370614359175,140.0 405.66370614359175,180.0\" style=\"fill:rgb(242,242,242);stroke-width:1;stroke:rgb(255,255,255)\"/>\n",
       "<polyline points=\"468.4955592153876,180.0 531.3274122871835,180.0 531.3274122871835,140.0 468.4955592153876,140.0 468.4955592153876,180.0\" style=\"fill:rgb(242,242,242);stroke-width:1;stroke:rgb(255,255,255)\"/>\n",
       "<polyline points=\"28.67258771281655,140.0 91.50444078461243,140.0 91.50444078461243,100.0 28.67258771281655,100.0 28.67258771281655,140.0\" style=\"fill:rgb(242,242,242);stroke-width:1;stroke:rgb(255,255,255)\"/>\n",
       "<polyline points=\"91.50444078461243,140.0 154.33629385640828,140.0 154.33629385640828,100.0 91.50444078461243,100.0 91.50444078461243,140.0\" style=\"fill:rgb(242,242,242);stroke-width:1;stroke:rgb(255,255,255)\"/>\n",
       "<polyline points=\"154.33629385640828,140.0 217.16814692820412,140.0 217.16814692820412,100.0 154.33629385640828,100.0 154.33629385640828,140.0\" style=\"fill:rgb(242,242,242);stroke-width:1;stroke:rgb(255,255,255)\"/>\n",
       "<polyline points=\"217.16814692820412,140.0 280.0,140.0 280.0,100.0 217.16814692820412,100.0 217.16814692820412,140.0\" style=\"fill:rgb(242,242,242);stroke-width:1;stroke:rgb(255,255,255)\"/>\n",
       "<polyline points=\"280.0,140.0 342.8318530717959,140.0 342.8318530717959,100.0 280.0,100.0 280.0,140.0\" style=\"fill:rgb(242,242,242);stroke-width:1;stroke:rgb(255,255,255)\"/>\n",
       "<polyline points=\"342.8318530717959,140.0 405.66370614359175,140.0 405.66370614359175,100.0 342.8318530717959,100.0 342.8318530717959,140.0\" style=\"fill:rgb(242,242,242);stroke-width:1;stroke:rgb(255,255,255)\"/>\n",
       "<polyline points=\"405.66370614359175,140.0 468.4955592153876,140.0 468.4955592153876,100.0 405.66370614359175,100.0 405.66370614359175,140.0\" style=\"fill:rgb(242,242,242);stroke-width:1;stroke:rgb(255,255,255)\"/>\n",
       "<polyline points=\"468.4955592153876,140.0 531.3274122871835,140.0 531.3274122871835,100.0 468.4955592153876,100.0 468.4955592153876,140.0\" style=\"fill:rgb(242,242,242);stroke-width:1;stroke:rgb(255,255,255)\"/>\n",
       "<polyline points=\"28.67258771281655,100.0 91.50444078461243,100.0 91.50444078461243,60.0 28.67258771281655,60.0 28.67258771281655,100.0\" style=\"fill:rgb(242,242,242);stroke-width:1;stroke:rgb(255,255,255)\"/>\n",
       "<polyline points=\"91.50444078461243,100.0 154.33629385640828,100.0 154.33629385640828,60.0 91.50444078461243,60.0 91.50444078461243,100.0\" style=\"fill:rgb(242,242,242);stroke-width:1;stroke:rgb(255,255,255)\"/>\n",
       "<polyline points=\"154.33629385640828,100.0 217.16814692820412,100.0 217.16814692820412,60.0 154.33629385640828,60.0 154.33629385640828,100.0\" style=\"fill:rgb(242,242,242);stroke-width:1;stroke:rgb(255,255,255)\"/>\n",
       "<polyline points=\"217.16814692820412,100.0 280.0,100.0 280.0,60.0 217.16814692820412,60.0 217.16814692820412,100.0\" style=\"fill:rgb(242,242,242);stroke-width:1;stroke:rgb(255,255,255)\"/>\n",
       "<polyline points=\"280.0,100.0 342.8318530717959,100.0 342.8318530717959,60.0 280.0,60.0 280.0,100.0\" style=\"fill:rgb(242,242,242);stroke-width:1;stroke:rgb(255,255,255)\"/>\n",
       "<polyline points=\"342.8318530717959,100.0 405.66370614359175,100.0 405.66370614359175,60.0 342.8318530717959,60.0 342.8318530717959,100.0\" style=\"fill:rgb(242,242,242);stroke-width:1;stroke:rgb(255,255,255)\"/>\n",
       "<polyline points=\"405.66370614359175,100.0 468.4955592153876,100.0 468.4955592153876,60.0 405.66370614359175,60.0 405.66370614359175,100.0\" style=\"fill:rgb(242,242,242);stroke-width:1;stroke:rgb(255,255,255)\"/>\n",
       "<polyline points=\"468.4955592153876,100.0 531.3274122871835,100.0 531.3274122871835,60.0 468.4955592153876,60.0 468.4955592153876,100.0\" style=\"fill:rgb(242,242,242);stroke-width:1;stroke:rgb(255,255,255)\"/>\n",
       "<polyline points=\"28.67258771281655,60.0 91.50444078461243,60.0 91.50444078461243,20.0 28.67258771281655,20.0 28.67258771281655,60.0\" style=\"fill:rgb(242,242,242);stroke-width:1;stroke:rgb(255,255,255)\"/>\n",
       "<polyline points=\"91.50444078461243,60.0 154.33629385640828,60.0 154.33629385640828,20.0 91.50444078461243,20.0 91.50444078461243,60.0\" style=\"fill:rgb(242,242,242);stroke-width:1;stroke:rgb(255,255,255)\"/>\n",
       "<polyline points=\"154.33629385640828,60.0 217.16814692820412,60.0 217.16814692820412,20.0 154.33629385640828,20.0 154.33629385640828,60.0\" style=\"fill:rgb(242,242,242);stroke-width:1;stroke:rgb(255,255,255)\"/>\n",
       "<polyline points=\"217.16814692820412,60.0 280.0,60.0 280.0,20.0 217.16814692820412,20.0 217.16814692820412,60.0\" style=\"fill:rgb(242,242,242);stroke-width:1;stroke:rgb(255,255,255)\"/>\n",
       "<polyline points=\"280.0,60.0 342.8318530717959,60.0 342.8318530717959,20.0 280.0,20.0 280.0,60.0\" style=\"fill:rgb(242,242,242);stroke-width:1;stroke:rgb(255,255,255)\"/>\n",
       "<polyline points=\"342.8318530717959,60.0 405.66370614359175,60.0 405.66370614359175,20.0 342.8318530717959,20.0 342.8318530717959,60.0\" style=\"fill:rgb(242,242,242);stroke-width:1;stroke:rgb(255,255,255)\"/>\n",
       "<polyline points=\"405.66370614359175,60.0 468.4955592153876,60.0 468.4955592153876,20.0 405.66370614359175,20.0 405.66370614359175,60.0\" style=\"fill:rgb(242,242,242);stroke-width:1;stroke:rgb(255,255,255)\"/>\n",
       "<polyline points=\"468.4955592153876,60.0 531.3274122871835,60.0 531.3274122871835,20.0 468.4955592153876,20.0 468.4955592153876,60.0\" style=\"fill:rgb(242,242,242);stroke-width:1;stroke:rgb(255,255,255)\"/>\n",
       "<circle cx=\"280.0\" cy=\"180.0\" r=\"20.0\" style=\"fill:rgb(255,255,255);stroke-width:0;stroke:none\"/>\n",
       "<circle cx=\"360.0\" cy=\"100.0\" r=\"2.0\" style=\"fill:rgb(0,0,0);stroke-width:0;stroke:none\"/>\n",
       "<circle cx=\"356.0845213036123\" cy=\"96.18033988749895\" r=\"2.0\" style=\"fill:rgb(0,0,0);stroke-width:0;stroke:none\"/>\n",
       "<circle cx=\"344.7213595499958\" cy=\"86.18033988749895\" r=\"2.0\" style=\"fill:rgb(0,0,0);stroke-width:0;stroke:none\"/>\n",
       "<circle cx=\"327.02282018339787\" cy=\"73.81966011250105\" r=\"2.0\" style=\"fill:rgb(0,0,0);stroke-width:0;stroke:none\"/>\n",
       "<circle cx=\"304.7213595499958\" cy=\"63.819660112501055\" r=\"2.0\" style=\"fill:rgb(0,0,0);stroke-width:0;stroke:none\"/>\n",
       "<circle cx=\"280.0\" cy=\"60.0\" r=\"2.0\" style=\"fill:rgb(0,0,0);stroke-width:0;stroke:none\"/>\n",
       "<circle cx=\"255.27864045000422\" cy=\"63.819660112501055\" r=\"2.0\" style=\"fill:rgb(0,0,0);stroke-width:0;stroke:none\"/>\n",
       "<circle cx=\"232.97717981660216\" cy=\"73.81966011250105\" r=\"2.0\" style=\"fill:rgb(0,0,0);stroke-width:0;stroke:none\"/>\n",
       "<circle cx=\"215.27864045000422\" cy=\"86.18033988749895\" r=\"2.0\" style=\"fill:rgb(0,0,0);stroke-width:0;stroke:none\"/>\n",
       "<circle cx=\"203.9154786963877\" cy=\"96.18033988749895\" r=\"2.0\" style=\"fill:rgb(0,0,0);stroke-width:0;stroke:none\"/>\n",
       "<circle cx=\"200.0\" cy=\"100.0\" r=\"2.0\" style=\"fill:rgb(0,0,0);stroke-width:0;stroke:none\"/>\n",
       "<circle cx=\"203.9154786963877\" cy=\"103.81966011250105\" r=\"2.0\" style=\"fill:rgb(0,0,0);stroke-width:0;stroke:none\"/>\n",
       "<circle cx=\"215.2786404500042\" cy=\"113.81966011250105\" r=\"2.0\" style=\"fill:rgb(0,0,0);stroke-width:0;stroke:none\"/>\n",
       "<circle cx=\"232.97717981660213\" cy=\"126.18033988749895\" r=\"2.0\" style=\"fill:rgb(0,0,0);stroke-width:0;stroke:none\"/>\n",
       "<circle cx=\"255.2786404500042\" cy=\"136.18033988749895\" r=\"2.0\" style=\"fill:rgb(0,0,0);stroke-width:0;stroke:none\"/>\n",
       "<circle cx=\"280.0\" cy=\"140.0\" r=\"2.0\" style=\"fill:rgb(0,0,0);stroke-width:0;stroke:none\"/>\n",
       "<circle cx=\"304.7213595499958\" cy=\"136.18033988749895\" r=\"2.0\" style=\"fill:rgb(0,0,0);stroke-width:0;stroke:none\"/>\n",
       "<circle cx=\"327.0228201833978\" cy=\"126.18033988749896\" r=\"2.0\" style=\"fill:rgb(0,0,0);stroke-width:0;stroke:none\"/>\n",
       "<circle cx=\"344.7213595499958\" cy=\"113.81966011250105\" r=\"2.0\" style=\"fill:rgb(0,0,0);stroke-width:0;stroke:none\"/>\n",
       "<circle cx=\"356.0845213036123\" cy=\"103.81966011250105\" r=\"2.0\" style=\"fill:rgb(0,0,0);stroke-width:0;stroke:none\"/>\n",
       "</svg></div>"
      ],
      "text/plain": [
       "<IPython.core.display.HTML object>"
      ]
     },
     "metadata": {},
     "output_type": "display_data"
    }
   ],
   "source": [
    "cs_a = CS.on_xy(Point(0,2))\n",
    "\n",
    "for n in Interval.twopi() / 20:\n",
    "    x = 2.0*cos(n)\n",
    "    y = 1.0*abs(sin(n))*sin(n)\n",
    "    pt = cs_a.eval(x,y)\n",
    "    out.put(pt)\n",
    "    \n",
    "out.draw()\n",
    "out.clear()"
   ]
  },
  {
   "cell_type": "code",
   "execution_count": null,
   "metadata": {},
   "outputs": [],
   "source": []
  }
 ],
 "metadata": {
  "kernelspec": {
   "display_name": "Python 3",
   "language": "python",
   "name": "python3"
  },
  "language_info": {
   "codemirror_mode": {
    "name": "ipython",
    "version": 3
   },
   "file_extension": ".py",
   "mimetype": "text/x-python",
   "name": "python",
   "nbconvert_exporter": "python",
   "pygments_lexer": "ipython3",
   "version": "3.6.4"
  }
 },
 "nbformat": 4,
 "nbformat_minor": 2
}
