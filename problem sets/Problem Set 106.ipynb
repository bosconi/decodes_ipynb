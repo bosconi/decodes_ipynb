{
 "cells": [
  {
   "cell_type": "markdown",
   "metadata": {},
   "source": [
    "# Problem Set 106\n",
    "\n",
    "Complete the problems described below.\n",
    "\n",
    "Submit your work via email. A special email address has been setup for this purpose, and you can attach whatever files are appropriate to any mail sent to the address below. So I can tell which files below to whom, please **title all submitted files as**:\n",
    "\n",
    "    LASTNAME firstname.py\n",
    "\n",
    "Submit this file to the class file submission email:\n",
    "\n",
    "    SUBMITT.6g9n8dakvpw0bkft@u.box.com\n",
    "    "
   ]
  },
  {
   "cell_type": "code",
   "execution_count": 1,
   "metadata": {},
   "outputs": [
    {
     "name": "stdout",
     "output_type": "stream",
     "text": [
      "http://decod.es/\tv0.2.3\n",
      "io loaded\n"
     ]
    }
   ],
   "source": [
    "from decodes.core import *\n",
    "from decodes.io.jupyter_out import JupyterOut\n",
    "out = JupyterOut.two_pi( )\n",
    "from math import *"
   ]
  },
  {
   "cell_type": "markdown",
   "metadata": {},
   "source": [
    "## Lines and Planes in Cartesian Space"
   ]
  },
  {
   "cell_type": "markdown",
   "metadata": {},
   "source": [
    "#### 106.01\n",
    "\n",
    "We may plot a point $P$ on a given line if provided three quantities: an origin Point $\\vec{p_{0}}$, a Vec direction $\\vec{v}$, and a parameter along the line at which to find the desired Point $t$. In vector notation, this may be written as follows. In each of the scenarios below, using just the wits that your mother gave you (no coding), find the value of $P$\n",
    "\n",
    "\\begin{align}\n",
    "P = \\vec{p_{0}} + t\\vec{v}\n",
    "\\end{align}\n",
    "\n",
    "Note that in the code shown below, for scenario x, `p_origin_x` is the origin Point $\\vec{p_{0}}$, `vec_x` is the Vec $\\vec{v}$, and `t_x` is the required parameter."
   ]
  },
  {
   "cell_type": "code",
   "execution_count": null,
   "metadata": {},
   "outputs": [],
   "source": [
    "p_origin_a, vec_a, t_a = Point(), Vec(1,0), 1\n",
    "# construct a new point here using coordinates corresponding to a point that results from the evaluation of the line above\n",
    "pa = ???\n",
    "\n",
    "p_origin_b, vec_b, t_b = Point(), Vec(1,1), 0.5\n",
    "# construct a new point here using coordinates corresponding to a point that results from the evaluation of the line above\n",
    "pb = ???\n",
    "\n",
    "p_origin_c, vec_c, t_c = Point(20,20), Vec(0,-2), 1\n",
    "# construct a new point here using coordinates corresponding to a point that results from the evaluation of the line above\n",
    "pc = ???\n",
    "\n",
    "p_origin_d, vec_d, t_d = Point(0,0,10), Vec(0,0,10), -2\n",
    "# construct a new point here using coordinates corresponding to a point that results from the evaluation of the line above\n",
    "pd = ???"
   ]
  },
  {
   "cell_type": "markdown",
   "metadata": {},
   "source": [
    "## Lines and Planes in Decod.es"
   ]
  },
  {
   "cell_type": "markdown",
   "metadata": {},
   "source": [
    "#### 106.02\n",
    "\n",
    "In the space provided, author a function that converts any given vertically-oriented Decod.es Plane (that is, any plane that is perpendicular to the x-y plane) to a Decod.es CS. Instead of requiring a guide Vec, as demonstrated in the text, take advantage of the fact that the Plane is known to be vertical. Your function should successfully run so long as this condition holds."
   ]
  },
  {
   "cell_type": "code",
   "execution_count": 7,
   "metadata": {},
   "outputs": [
    {
     "name": "stdout",
     "output_type": "stream",
     "text": [
      "cs o[1.3604359308353047,-2.253134465151941,-0.21713659035599875] n[-0.05030557731057826,0.5664389294417197,-0.8225668897447599]\n"
     ]
    }
   ],
   "source": [
    "pt_rand = Point.random(Interval(-3,3))\n",
    "vec_rand = Vec.random(Interval(-1,1),True)\n",
    "\n",
    "pln_vert = Plane(pt_rand,vec_rand)\n",
    "\n",
    "#### START YOUR WORK HERE ####\n",
    "def to_cs(pln):\n",
    "    ???\n",
    "#### END YOUR WORK HERE ####\n",
    "\n",
    "cs = to_cs(pln_vert)\n",
    "print(cs)"
   ]
  },
  {
   "cell_type": "markdown",
   "metadata": {},
   "source": [
    "#### 106.03\n",
    "\n",
    "In our discussion of Planes, we present the Decod.es Circle as a special type of Plane which adds a single member, `rad` that defines the radius of the circle that lies on the underlying plane. Here we follow in this pattern in the construction of a Rectangle class as a special type of CS.\n",
    "\n",
    "In the space provided, define a new class Rectangle as an extension of CS. Rectangle should be initialzed with arguments as shown below, and go on to add just two members to its parent: `w` as the span of the rectangle along the x-axis of the underlying CS, and `h` as the span along the y-axis.\n",
    "\n",
    "Four properties should be defined, `pa`,`pa`,`pc`,and `pd`, that describe the corner points of the rectangle in world space. A single method should be added that returns the four Segments along the boundary of the Rectangle. This method will be called as shown below."
   ]
  },
  {
   "cell_type": "code",
   "execution_count": 7,
   "metadata": {},
   "outputs": [
    {
     "data": {
      "text/html": [
       "<div style=\"width:560.0px; height:360.0px; box-shadow: 2px 2px 8px 4px #ddd; margin: 8px;\"><svg width=\"560.0\" height=\"360.0\" xmlns=\"http://www.w3.org/2000/svg\" version=\"1.1\">\n",
       "<polyline points=\"28.67258771281655,340.0 91.50444078461243,340.0 91.50444078461243,300.0 28.67258771281655,300.0 28.67258771281655,340.0\" style=\"fill:rgb(249,249,249);stroke-width:1;stroke:rgb(255,255,255)\"/>\n",
       "<polyline points=\"91.50444078461243,340.0 154.33629385640828,340.0 154.33629385640828,300.0 91.50444078461243,300.0 91.50444078461243,340.0\" style=\"fill:rgb(249,249,249);stroke-width:1;stroke:rgb(255,255,255)\"/>\n",
       "<polyline points=\"154.33629385640828,340.0 217.16814692820412,340.0 217.16814692820412,300.0 154.33629385640828,300.0 154.33629385640828,340.0\" style=\"fill:rgb(249,249,249);stroke-width:1;stroke:rgb(255,255,255)\"/>\n",
       "<polyline points=\"217.16814692820412,340.0 280.0,340.0 280.0,300.0 217.16814692820412,300.0 217.16814692820412,340.0\" style=\"fill:rgb(249,249,249);stroke-width:1;stroke:rgb(255,255,255)\"/>\n",
       "<polyline points=\"280.0,340.0 342.8318530717959,340.0 342.8318530717959,300.0 280.0,300.0 280.0,340.0\" style=\"fill:rgb(249,249,249);stroke-width:1;stroke:rgb(255,255,255)\"/>\n",
       "<polyline points=\"342.8318530717959,340.0 405.66370614359175,340.0 405.66370614359175,300.0 342.8318530717959,300.0 342.8318530717959,340.0\" style=\"fill:rgb(249,249,249);stroke-width:1;stroke:rgb(255,255,255)\"/>\n",
       "<polyline points=\"405.66370614359175,340.0 468.4955592153876,340.0 468.4955592153876,300.0 405.66370614359175,300.0 405.66370614359175,340.0\" style=\"fill:rgb(249,249,249);stroke-width:1;stroke:rgb(255,255,255)\"/>\n",
       "<polyline points=\"468.4955592153876,340.0 531.3274122871835,340.0 531.3274122871835,300.0 468.4955592153876,300.0 468.4955592153876,340.0\" style=\"fill:rgb(249,249,249);stroke-width:1;stroke:rgb(255,255,255)\"/>\n",
       "<polyline points=\"28.67258771281655,300.0 91.50444078461243,300.0 91.50444078461243,260.0 28.67258771281655,260.0 28.67258771281655,300.0\" style=\"fill:rgb(249,249,249);stroke-width:1;stroke:rgb(255,255,255)\"/>\n",
       "<polyline points=\"91.50444078461243,300.0 154.33629385640828,300.0 154.33629385640828,260.0 91.50444078461243,260.0 91.50444078461243,300.0\" style=\"fill:rgb(249,249,249);stroke-width:1;stroke:rgb(255,255,255)\"/>\n",
       "<polyline points=\"154.33629385640828,300.0 217.16814692820412,300.0 217.16814692820412,260.0 154.33629385640828,260.0 154.33629385640828,300.0\" style=\"fill:rgb(249,249,249);stroke-width:1;stroke:rgb(255,255,255)\"/>\n",
       "<polyline points=\"217.16814692820412,300.0 280.0,300.0 280.0,260.0 217.16814692820412,260.0 217.16814692820412,300.0\" style=\"fill:rgb(249,249,249);stroke-width:1;stroke:rgb(255,255,255)\"/>\n",
       "<polyline points=\"280.0,300.0 342.8318530717959,300.0 342.8318530717959,260.0 280.0,260.0 280.0,300.0\" style=\"fill:rgb(249,249,249);stroke-width:1;stroke:rgb(255,255,255)\"/>\n",
       "<polyline points=\"342.8318530717959,300.0 405.66370614359175,300.0 405.66370614359175,260.0 342.8318530717959,260.0 342.8318530717959,300.0\" style=\"fill:rgb(249,249,249);stroke-width:1;stroke:rgb(255,255,255)\"/>\n",
       "<polyline points=\"405.66370614359175,300.0 468.4955592153876,300.0 468.4955592153876,260.0 405.66370614359175,260.0 405.66370614359175,300.0\" style=\"fill:rgb(249,249,249);stroke-width:1;stroke:rgb(255,255,255)\"/>\n",
       "<polyline points=\"468.4955592153876,300.0 531.3274122871835,300.0 531.3274122871835,260.0 468.4955592153876,260.0 468.4955592153876,300.0\" style=\"fill:rgb(249,249,249);stroke-width:1;stroke:rgb(255,255,255)\"/>\n",
       "<polyline points=\"28.67258771281655,260.0 91.50444078461243,260.0 91.50444078461243,220.0 28.67258771281655,220.0 28.67258771281655,260.0\" style=\"fill:rgb(249,249,249);stroke-width:1;stroke:rgb(255,255,255)\"/>\n",
       "<polyline points=\"91.50444078461243,260.0 154.33629385640828,260.0 154.33629385640828,220.0 91.50444078461243,220.0 91.50444078461243,260.0\" style=\"fill:rgb(249,249,249);stroke-width:1;stroke:rgb(255,255,255)\"/>\n",
       "<polyline points=\"154.33629385640828,260.0 217.16814692820412,260.0 217.16814692820412,220.0 154.33629385640828,220.0 154.33629385640828,260.0\" style=\"fill:rgb(249,249,249);stroke-width:1;stroke:rgb(255,255,255)\"/>\n",
       "<polyline points=\"217.16814692820412,260.0 280.0,260.0 280.0,220.0 217.16814692820412,220.0 217.16814692820412,260.0\" style=\"fill:rgb(249,249,249);stroke-width:1;stroke:rgb(255,255,255)\"/>\n",
       "<polyline points=\"280.0,260.0 342.8318530717959,260.0 342.8318530717959,220.0 280.0,220.0 280.0,260.0\" style=\"fill:rgb(249,249,249);stroke-width:1;stroke:rgb(255,255,255)\"/>\n",
       "<polyline points=\"342.8318530717959,260.0 405.66370614359175,260.0 405.66370614359175,220.0 342.8318530717959,220.0 342.8318530717959,260.0\" style=\"fill:rgb(249,249,249);stroke-width:1;stroke:rgb(255,255,255)\"/>\n",
       "<polyline points=\"405.66370614359175,260.0 468.4955592153876,260.0 468.4955592153876,220.0 405.66370614359175,220.0 405.66370614359175,260.0\" style=\"fill:rgb(249,249,249);stroke-width:1;stroke:rgb(255,255,255)\"/>\n",
       "<polyline points=\"468.4955592153876,260.0 531.3274122871835,260.0 531.3274122871835,220.0 468.4955592153876,220.0 468.4955592153876,260.0\" style=\"fill:rgb(249,249,249);stroke-width:1;stroke:rgb(255,255,255)\"/>\n",
       "<polyline points=\"28.67258771281655,220.0 91.50444078461243,220.0 91.50444078461243,180.0 28.67258771281655,180.0 28.67258771281655,220.0\" style=\"fill:rgb(249,249,249);stroke-width:1;stroke:rgb(255,255,255)\"/>\n",
       "<polyline points=\"91.50444078461243,220.0 154.33629385640828,220.0 154.33629385640828,180.0 91.50444078461243,180.0 91.50444078461243,220.0\" style=\"fill:rgb(249,249,249);stroke-width:1;stroke:rgb(255,255,255)\"/>\n",
       "<polyline points=\"154.33629385640828,220.0 217.16814692820412,220.0 217.16814692820412,180.0 154.33629385640828,180.0 154.33629385640828,220.0\" style=\"fill:rgb(249,249,249);stroke-width:1;stroke:rgb(255,255,255)\"/>\n",
       "<polyline points=\"217.16814692820412,220.0 280.0,220.0 280.0,180.0 217.16814692820412,180.0 217.16814692820412,220.0\" style=\"fill:rgb(249,249,249);stroke-width:1;stroke:rgb(255,255,255)\"/>\n",
       "<polyline points=\"280.0,220.0 342.8318530717959,220.0 342.8318530717959,180.0 280.0,180.0 280.0,220.0\" style=\"fill:rgb(249,249,249);stroke-width:1;stroke:rgb(255,255,255)\"/>\n",
       "<polyline points=\"342.8318530717959,220.0 405.66370614359175,220.0 405.66370614359175,180.0 342.8318530717959,180.0 342.8318530717959,220.0\" style=\"fill:rgb(249,249,249);stroke-width:1;stroke:rgb(255,255,255)\"/>\n",
       "<polyline points=\"405.66370614359175,220.0 468.4955592153876,220.0 468.4955592153876,180.0 405.66370614359175,180.0 405.66370614359175,220.0\" style=\"fill:rgb(249,249,249);stroke-width:1;stroke:rgb(255,255,255)\"/>\n",
       "<polyline points=\"468.4955592153876,220.0 531.3274122871835,220.0 531.3274122871835,180.0 468.4955592153876,180.0 468.4955592153876,220.0\" style=\"fill:rgb(249,249,249);stroke-width:1;stroke:rgb(255,255,255)\"/>\n",
       "<polyline points=\"28.67258771281655,180.0 91.50444078461243,180.0 91.50444078461243,140.0 28.67258771281655,140.0 28.67258771281655,180.0\" style=\"fill:rgb(249,249,249);stroke-width:1;stroke:rgb(255,255,255)\"/>\n",
       "<polyline points=\"91.50444078461243,180.0 154.33629385640828,180.0 154.33629385640828,140.0 91.50444078461243,140.0 91.50444078461243,180.0\" style=\"fill:rgb(249,249,249);stroke-width:1;stroke:rgb(255,255,255)\"/>\n",
       "<polyline points=\"154.33629385640828,180.0 217.16814692820412,180.0 217.16814692820412,140.0 154.33629385640828,140.0 154.33629385640828,180.0\" style=\"fill:rgb(249,249,249);stroke-width:1;stroke:rgb(255,255,255)\"/>\n",
       "<polyline points=\"217.16814692820412,180.0 280.0,180.0 280.0,140.0 217.16814692820412,140.0 217.16814692820412,180.0\" style=\"fill:rgb(249,249,249);stroke-width:1;stroke:rgb(255,255,255)\"/>\n",
       "<polyline points=\"280.0,180.0 342.8318530717959,180.0 342.8318530717959,140.0 280.0,140.0 280.0,180.0\" style=\"fill:rgb(249,249,249);stroke-width:1;stroke:rgb(255,255,255)\"/>\n",
       "<polyline points=\"342.8318530717959,180.0 405.66370614359175,180.0 405.66370614359175,140.0 342.8318530717959,140.0 342.8318530717959,180.0\" style=\"fill:rgb(249,249,249);stroke-width:1;stroke:rgb(255,255,255)\"/>\n",
       "<polyline points=\"405.66370614359175,180.0 468.4955592153876,180.0 468.4955592153876,140.0 405.66370614359175,140.0 405.66370614359175,180.0\" style=\"fill:rgb(249,249,249);stroke-width:1;stroke:rgb(255,255,255)\"/>\n",
       "<polyline points=\"468.4955592153876,180.0 531.3274122871835,180.0 531.3274122871835,140.0 468.4955592153876,140.0 468.4955592153876,180.0\" style=\"fill:rgb(249,249,249);stroke-width:1;stroke:rgb(255,255,255)\"/>\n",
       "<polyline points=\"28.67258771281655,140.0 91.50444078461243,140.0 91.50444078461243,100.0 28.67258771281655,100.0 28.67258771281655,140.0\" style=\"fill:rgb(249,249,249);stroke-width:1;stroke:rgb(255,255,255)\"/>\n",
       "<polyline points=\"91.50444078461243,140.0 154.33629385640828,140.0 154.33629385640828,100.0 91.50444078461243,100.0 91.50444078461243,140.0\" style=\"fill:rgb(249,249,249);stroke-width:1;stroke:rgb(255,255,255)\"/>\n",
       "<polyline points=\"154.33629385640828,140.0 217.16814692820412,140.0 217.16814692820412,100.0 154.33629385640828,100.0 154.33629385640828,140.0\" style=\"fill:rgb(249,249,249);stroke-width:1;stroke:rgb(255,255,255)\"/>\n",
       "<polyline points=\"217.16814692820412,140.0 280.0,140.0 280.0,100.0 217.16814692820412,100.0 217.16814692820412,140.0\" style=\"fill:rgb(249,249,249);stroke-width:1;stroke:rgb(255,255,255)\"/>\n",
       "<polyline points=\"280.0,140.0 342.8318530717959,140.0 342.8318530717959,100.0 280.0,100.0 280.0,140.0\" style=\"fill:rgb(249,249,249);stroke-width:1;stroke:rgb(255,255,255)\"/>\n",
       "<polyline points=\"342.8318530717959,140.0 405.66370614359175,140.0 405.66370614359175,100.0 342.8318530717959,100.0 342.8318530717959,140.0\" style=\"fill:rgb(249,249,249);stroke-width:1;stroke:rgb(255,255,255)\"/>\n",
       "<polyline points=\"405.66370614359175,140.0 468.4955592153876,140.0 468.4955592153876,100.0 405.66370614359175,100.0 405.66370614359175,140.0\" style=\"fill:rgb(249,249,249);stroke-width:1;stroke:rgb(255,255,255)\"/>\n",
       "<polyline points=\"468.4955592153876,140.0 531.3274122871835,140.0 531.3274122871835,100.0 468.4955592153876,100.0 468.4955592153876,140.0\" style=\"fill:rgb(249,249,249);stroke-width:1;stroke:rgb(255,255,255)\"/>\n",
       "<polyline points=\"28.67258771281655,100.0 91.50444078461243,100.0 91.50444078461243,60.0 28.67258771281655,60.0 28.67258771281655,100.0\" style=\"fill:rgb(249,249,249);stroke-width:1;stroke:rgb(255,255,255)\"/>\n",
       "<polyline points=\"91.50444078461243,100.0 154.33629385640828,100.0 154.33629385640828,60.0 91.50444078461243,60.0 91.50444078461243,100.0\" style=\"fill:rgb(249,249,249);stroke-width:1;stroke:rgb(255,255,255)\"/>\n",
       "<polyline points=\"154.33629385640828,100.0 217.16814692820412,100.0 217.16814692820412,60.0 154.33629385640828,60.0 154.33629385640828,100.0\" style=\"fill:rgb(249,249,249);stroke-width:1;stroke:rgb(255,255,255)\"/>\n",
       "<polyline points=\"217.16814692820412,100.0 280.0,100.0 280.0,60.0 217.16814692820412,60.0 217.16814692820412,100.0\" style=\"fill:rgb(249,249,249);stroke-width:1;stroke:rgb(255,255,255)\"/>\n",
       "<polyline points=\"280.0,100.0 342.8318530717959,100.0 342.8318530717959,60.0 280.0,60.0 280.0,100.0\" style=\"fill:rgb(249,249,249);stroke-width:1;stroke:rgb(255,255,255)\"/>\n",
       "<polyline points=\"342.8318530717959,100.0 405.66370614359175,100.0 405.66370614359175,60.0 342.8318530717959,60.0 342.8318530717959,100.0\" style=\"fill:rgb(249,249,249);stroke-width:1;stroke:rgb(255,255,255)\"/>\n",
       "<polyline points=\"405.66370614359175,100.0 468.4955592153876,100.0 468.4955592153876,60.0 405.66370614359175,60.0 405.66370614359175,100.0\" style=\"fill:rgb(249,249,249);stroke-width:1;stroke:rgb(255,255,255)\"/>\n",
       "<polyline points=\"468.4955592153876,100.0 531.3274122871835,100.0 531.3274122871835,60.0 468.4955592153876,60.0 468.4955592153876,100.0\" style=\"fill:rgb(249,249,249);stroke-width:1;stroke:rgb(255,255,255)\"/>\n",
       "<polyline points=\"28.67258771281655,60.0 91.50444078461243,60.0 91.50444078461243,20.0 28.67258771281655,20.0 28.67258771281655,60.0\" style=\"fill:rgb(249,249,249);stroke-width:1;stroke:rgb(255,255,255)\"/>\n",
       "<polyline points=\"91.50444078461243,60.0 154.33629385640828,60.0 154.33629385640828,20.0 91.50444078461243,20.0 91.50444078461243,60.0\" style=\"fill:rgb(249,249,249);stroke-width:1;stroke:rgb(255,255,255)\"/>\n",
       "<polyline points=\"154.33629385640828,60.0 217.16814692820412,60.0 217.16814692820412,20.0 154.33629385640828,20.0 154.33629385640828,60.0\" style=\"fill:rgb(249,249,249);stroke-width:1;stroke:rgb(255,255,255)\"/>\n",
       "<polyline points=\"217.16814692820412,60.0 280.0,60.0 280.0,20.0 217.16814692820412,20.0 217.16814692820412,60.0\" style=\"fill:rgb(249,249,249);stroke-width:1;stroke:rgb(255,255,255)\"/>\n",
       "<polyline points=\"280.0,60.0 342.8318530717959,60.0 342.8318530717959,20.0 280.0,20.0 280.0,60.0\" style=\"fill:rgb(249,249,249);stroke-width:1;stroke:rgb(255,255,255)\"/>\n",
       "<polyline points=\"342.8318530717959,60.0 405.66370614359175,60.0 405.66370614359175,20.0 342.8318530717959,20.0 342.8318530717959,60.0\" style=\"fill:rgb(249,249,249);stroke-width:1;stroke:rgb(255,255,255)\"/>\n",
       "<polyline points=\"405.66370614359175,60.0 468.4955592153876,60.0 468.4955592153876,20.0 405.66370614359175,20.0 405.66370614359175,60.0\" style=\"fill:rgb(249,249,249);stroke-width:1;stroke:rgb(255,255,255)\"/>\n",
       "<polyline points=\"468.4955592153876,60.0 531.3274122871835,60.0 531.3274122871835,20.0 468.4955592153876,20.0 468.4955592153876,60.0\" style=\"fill:rgb(249,249,249);stroke-width:1;stroke:rgb(255,255,255)\"/>\n",
       "<circle cx=\"280.0\" cy=\"180.0\" r=\"20.0\" style=\"fill:rgb(255,255,255);stroke-width:0;stroke:none\"/>\n",
       "<line x1=\"220.0\" y1=\"240.0\" x2=\"340.0\" y2=\"240.0\" style=\"fill:none;stroke-width:0.5;stroke:rgb(0,0,0)\"/>\n",
       "<line x1=\"340.0\" y1=\"240.0\" x2=\"340.0\" y2=\"120.0\" style=\"fill:none;stroke-width:0.5;stroke:rgb(0,0,0)\"/>\n",
       "<line x1=\"340.0\" y1=\"120.0\" x2=\"220.0\" y2=\"120.0\" style=\"fill:none;stroke-width:0.5;stroke:rgb(0,0,0)\"/>\n",
       "<line x1=\"220.0\" y1=\"120.0\" x2=\"220.0\" y2=\"240.0\" style=\"fill:none;stroke-width:0.5;stroke:rgb(0,0,0)\"/>\n",
       "</svg></div>"
      ],
      "text/plain": [
       "<IPython.core.display.HTML object>"
      ]
     },
     "metadata": {},
     "output_type": "display_data"
    }
   ],
   "source": [
    "\"\"\"\n",
    "Rectangle Class\n",
    "Inherits all properties of the Plane class, and also happens to require a Plane \n",
    "in its constructor\n",
    "\"\"\"\n",
    "class Rectangle(CS): \n",
    "    def __init__(self,cs,width,height):\n",
    "        super(Rectangle,self).__init__(cs.origin, cs.x_axis, cs.y_axis)\n",
    "#### START YOUR WORK HERE ####  \n",
    "\n",
    "#### END YOUR WORK HERE ####\n",
    "        \n",
    "rect = Rectangle(CS(),1.5,1.5)\n",
    "\n",
    "for seg in rect.to_segs():\n",
    "    out.put(seg)\n",
    "out.draw()\n",
    "out.clear()"
   ]
  },
  {
   "cell_type": "markdown",
   "metadata": {},
   "source": [
    "## Methods of Projection"
   ]
  },
  {
   "cell_type": "markdown",
   "metadata": {},
   "source": [
    "#### 106.04\n",
    "\n",
    "Since Lines are infinite, Points may be properly projected at any position along them. This does not hold true for Rays and Segments, which each offer modificaitons of the generic infinite-line projection routine as to ensure that projected Points fall within the valid ranges of the parameter $t$ for each of these finite types: $0\\rightarrow\\infty$ for Rays, and $0\\rightarrow1$ for Segments. Here we imagine a different scenario, and this question asks for the invention a new type of LinearEntity with a different range of valid values of $t$.\n",
    "\n",
    "In the space provided, author two functions. Each function should handle the projection of Points to a new type of LinearEntity: the ***AntiRay*** and the ***AntiSegment***. These new imaginary types hold a valid range of $t$ values that are the inverse of their more conservative cousins: $0\\rightarrow-\\infty$ for Rays, and the discontinious range of $-\\infty\\rightarrow0$ , $1\\rightarrow\\infty$ for Segments."
   ]
  },
  {
   "cell_type": "code",
   "execution_count": null,
   "metadata": {},
   "outputs": [],
   "source": [
    "\"\"\"\n",
    "AntiRay Projection\n",
    "\"\"\"\n",
    "\n",
    "def near(self,proj_pt):\n",
    "    line_result = self.to_line().near(proj_pt)\n",
    "    ### add your work here ###"
   ]
  },
  {
   "cell_type": "code",
   "execution_count": null,
   "metadata": {},
   "outputs": [],
   "source": [
    "\"\"\"\n",
    "AntiSegment Projection\n",
    "\"\"\"\n",
    "\n",
    "def near(self,proj_pt):\n",
    "    line_result = self.to_line().near(proj_pt)\n",
    "    ### add your work here ###"
   ]
  }
 ],
 "metadata": {
  "kernelspec": {
   "display_name": "Python 3",
   "language": "python",
   "name": "python3"
  },
  "language_info": {
   "codemirror_mode": {
    "name": "ipython",
    "version": 3
   },
   "file_extension": ".py",
   "mimetype": "text/x-python",
   "name": "python",
   "nbconvert_exporter": "python",
   "pygments_lexer": "ipython3",
   "version": "3.6.4"
  }
 },
 "nbformat": 4,
 "nbformat_minor": 2
}
