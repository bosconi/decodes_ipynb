{
 "cells": [
  {
   "cell_type": "markdown",
   "metadata": {},
   "source": [
    "# Problem Set 104a\n",
    "\n",
    "Complete the problems described below.\n",
    "\n",
    "Submit your work via email. A special email address has been setup for this purpose, and you can attach whatever files are appropriate to any mail sent to the address below. So I can tell which files below to whom, please **title all submitted files as**:\n",
    "\n",
    "    LASTNAME firstname.py\n",
    "\n",
    "Submit this file to the class file submission email:\n",
    "\n",
    "    SUBMITT.6g9n8dakvpw0bkft@u.box.com\n",
    "    \n",
    "For one or more of the problems described below, a drawing or series of drawings may be required. These may be completed digitally (in Illustrator or similar) or by hand (in pencil or similar, then scanned). Please submit a single **multi-page** PDF (one page per problem) to the problem set submission email address."
   ]
  },
  {
   "cell_type": "code",
   "execution_count": 2,
   "metadata": {},
   "outputs": [
    {
     "name": "stdout",
     "output_type": "stream",
     "text": [
      "http://decod.es/\tv0.2.3\n",
      "io loaded\n"
     ]
    }
   ],
   "source": [
    "from decodes.core import *\n",
    "from decodes.io.jupyter_out import JupyterOut\n",
    "out = JupyterOut.two_pi( grid_color = Color(0.95,0.95,0.95) )\n",
    "from math import *"
   ]
  },
  {
   "cell_type": "markdown",
   "metadata": {},
   "source": [
    "## Ontology of Collections"
   ]
  },
  {
   "cell_type": "markdown",
   "metadata": {},
   "source": [
    "### 104a.01\n",
    "As discussed in Chapter 1.04, a variety of Python collections will be discussed in this class. Five types are briefly described around page 113 of the text. Following the samples found there, write code that constructs each of the following collections:\n",
    "\n",
    "* A ***String*** assigned to the variable `str_a` and set equal to your first and last name.\n",
    "* A ***List*** assigned to the variable `lst_a` and populated with three Points of your choosing.\n",
    "* A ***Tuple*** assigned to the variable `tup_a` and populated with a Point and an Integer number of your choosing.\n",
    "* A ***Set*** assigned to the variable `set_a` and populated with six Integer numbers of your choosing.\n",
    "\n"
   ]
  },
  {
   "cell_type": "code",
   "execution_count": 3,
   "metadata": {},
   "outputs": [],
   "source": [
    "str_a = \"Kyle Steinfeld\"\n",
    "lst_a = [Point(),Point(),Point()]\n",
    "tup_a = (Point(),10)\n",
    "set_a = set([1,2,3,4,5,6])"
   ]
  },
  {
   "cell_type": "markdown",
   "metadata": {},
   "source": [
    "## Local Structures of Control"
   ]
  },
  {
   "cell_type": "markdown",
   "metadata": {},
   "source": [
    "### Mechanisms of Choice"
   ]
  },
  {
   "cell_type": "markdown",
   "metadata": {},
   "source": [
    "### 104a.02\n",
    "The variable `porridge_temperature` represents the temperature in farenheit of a delicious bowl of oatmeal that a bear we know will only eat when within ten degrees of his desired temperature of 120.0 degrees. Write an `if-elif-else` block to use the print statements provided properly.\n"
   ]
  },
  {
   "cell_type": "code",
   "execution_count": 27,
   "metadata": {},
   "outputs": [
    {
     "name": "stdout",
     "output_type": "stream",
     "text": [
      "85.85 degrees?!! the porridge is too cold\n"
     ]
    }
   ],
   "source": [
    "porridge_temperature = random.uniform(70.0, 180.0)\n",
    "\n",
    "if porridge_temperature >  130:\n",
    "    print('{:.2f} degrees?!! the porridge is too hot'.format(porridge_temperature))\n",
    "elif porridge_temperature <  110:\n",
    "    print('{:.2f} degrees?!! the porridge is too cold'.format(porridge_temperature))\n",
    "else:\n",
    "    print('THIS BEAR GONNA EAT')\n"
   ]
  },
  {
   "cell_type": "markdown",
   "metadata": {},
   "source": [
    "### Iteration by Condition"
   ]
  },
  {
   "cell_type": "markdown",
   "metadata": {},
   "source": [
    "### 104a.03\n",
    "The variable `pt_a` is a Point located at some distance away from the world origin along the y-axis. Using a `while` loop, move this Point toward the origin one unit at a time until it is at or below the x-axis. Print the coordinates of `pt_a` at every step.\n",
    "\n"
   ]
  },
  {
   "cell_type": "code",
   "execution_count": 33,
   "metadata": {},
   "outputs": [
    {
     "name": "stdout",
     "output_type": "stream",
     "text": [
      "pt[0,48.970812634252994,0]\n",
      "pt[0,47.970812634252994,0]\n",
      "pt[0,46.970812634252994,0]\n",
      "pt[0,45.970812634252994,0]\n",
      "pt[0,44.970812634252994,0]\n",
      "pt[0,43.970812634252994,0]\n",
      "pt[0,42.970812634252994,0]\n",
      "pt[0,41.970812634252994,0]\n",
      "pt[0,40.970812634252994,0]\n",
      "pt[0,39.970812634252994,0]\n",
      "pt[0,38.970812634252994,0]\n",
      "pt[0,37.970812634252994,0]\n",
      "pt[0,36.970812634252994,0]\n",
      "pt[0,35.970812634252994,0]\n",
      "pt[0,34.970812634252994,0]\n",
      "pt[0,33.970812634252994,0]\n",
      "pt[0,32.970812634252994,0]\n",
      "pt[0,31.970812634252994,0]\n",
      "pt[0,30.970812634252994,0]\n",
      "pt[0,29.970812634252994,0]\n",
      "pt[0,28.970812634252994,0]\n",
      "pt[0,27.970812634252994,0]\n",
      "pt[0,26.970812634252994,0]\n",
      "pt[0,25.970812634252994,0]\n",
      "pt[0,24.970812634252994,0]\n",
      "pt[0,23.970812634252994,0]\n",
      "pt[0,22.970812634252994,0]\n",
      "pt[0,21.970812634252994,0]\n",
      "pt[0,20.970812634252994,0]\n",
      "pt[0,19.970812634252994,0]\n",
      "pt[0,18.970812634252994,0]\n",
      "pt[0,17.970812634252994,0]\n",
      "pt[0,16.970812634252994,0]\n",
      "pt[0,15.970812634252994,0]\n",
      "pt[0,14.970812634252994,0]\n",
      "pt[0,13.970812634252994,0]\n",
      "pt[0,12.970812634252994,0]\n",
      "pt[0,11.970812634252994,0]\n",
      "pt[0,10.970812634252994,0]\n",
      "pt[0,9.970812634252994,0]\n",
      "pt[0,8.970812634252994,0]\n",
      "pt[0,7.970812634252994,0]\n",
      "pt[0,6.970812634252994,0]\n",
      "pt[0,5.970812634252994,0]\n",
      "pt[0,4.970812634252994,0]\n",
      "pt[0,3.9708126342529937,0]\n",
      "pt[0,2.9708126342529937,0]\n",
      "pt[0,1.9708126342529937,0]\n",
      "pt[0,0.9708126342529937,0]\n",
      "pt[0,-0.02918736574700631,0]\n",
      "pt[0,-0.02918736574700631,0]\n"
     ]
    }
   ],
   "source": [
    "pt_a = Point(0,random.uniform(30.0, 50.0))\n",
    "\n",
    "while pt_a.y > 0:\n",
    "    pt_a.y -= 1\n",
    "    print(pt_a)\n",
    "\n",
    "print(pt_a)"
   ]
  },
  {
   "cell_type": "markdown",
   "metadata": {},
   "source": [
    "### Exceptions"
   ]
  },
  {
   "cell_type": "markdown",
   "metadata": {},
   "source": [
    "### 104a.04\n",
    "The given code is fragile. Modify it to include a `try-except` structure.\n",
    "\n",
    "Two Vecs are defined, `vec_b` and `vec_a` which is randomly assigned to one of the unit vectors (x,y, or z). The cross product of the two are taken, assigned to `vec_cross`, and then the angle between `vec_b` and `vec_cross` is calculated. Because the cross product of parallel vectors is the zero vector, this angle calculation might fail ungracefully and raise a ***ZeroDivisionError***. Modify the following code as to catch this error, and assign the variable `angle` to the string \"NOT A NUMBER\" in cases of failure.\n",
    "\n"
   ]
  },
  {
   "cell_type": "code",
   "execution_count": 57,
   "metadata": {},
   "outputs": [
    {
     "name": "stdout",
     "output_type": "stream",
     "text": [
      "the angle is NOT A NUMBER\n"
     ]
    }
   ],
   "source": [
    "# vec_a is randomly assigned to either the unit x,y, or z-axis.\n",
    "vec_a = random.choice( [Vec.ux(), Vec.uy(), Vec.uz()] )\n",
    "vec_b = Vec(0,4)\n",
    "\n",
    "#### START YOUR WORK HERE ####\n",
    "\n",
    "# this code is fragile. wrap it carefully in a try-except structure\n",
    "\n",
    "try:\n",
    "    vec_cross = vec_b.cross(vec_a)\n",
    "    angle = math.degrees( vec_b.angle(vec_cross) )\n",
    "except:\n",
    "    angle = \"NOT A NUMBER\"\n",
    "    \n",
    "#### END YOUR WORK HERE ####\n",
    "\n",
    "print(\"the angle is {}\".format( angle ))\n"
   ]
  },
  {
   "cell_type": "markdown",
   "metadata": {},
   "source": [
    "## Sequence Types in Python"
   ]
  },
  {
   "cell_type": "markdown",
   "metadata": {},
   "source": [
    "### Basic Features of Sequences"
   ]
  },
  {
   "cell_type": "markdown",
   "metadata": {},
   "source": [
    "### 104a.05\n",
    "Two sequences, `looksay_seq` and `pascal_seq`, and two integers, `int_a` and `int_b` are given. Using these objects, complete the following tasks using some of the common operators and methods related to sequence types. \n",
    "\n",
    "* `int_c` is defined as an integer describing the number of objects contained in `pascal_seq`.\n",
    "* `bool_a` is a boolean that tells us if `int_a` may be found in  `pascal_seq`.\n",
    "* `int_d` is the index of `int_a` in `pascal_seq`.\n",
    "* `int_e` is the number of times we may find `int_a` in `pascal_seq`.\n",
    "* `lookpas_seq` is the concatenation of `looksay_seq` and `pascal_seq` (in that order).\n",
    "* `rep_seq` is the repetition of two integers, the first item in `pascal_seq` and the last item in `looksay_seq`, three times.\n",
    "\n"
   ]
  },
  {
   "cell_type": "code",
   "execution_count": 42,
   "metadata": {},
   "outputs": [
    {
     "name": "stdout",
     "output_type": "stream",
     "text": [
      "56\n",
      "True\n",
      "9\n",
      "0\n",
      "[1, 11, 21, 1211, 111221, 312211, 1, 8, 28, 56, 70, 56, 28, 8, 1]\n",
      "[8, 312211, 8, 312211, 8, 312211]\n"
     ]
    }
   ],
   "source": [
    "looksay_seq = [1, 11, 21, 1211, 111221, 312211]\n",
    "pascal_seq = [1, 8, 28, 56, 70, 56, 28, 8, 1]\n",
    "int_a = 56\n",
    "int_b = 3\n",
    "\n",
    "int_c = len(pascal_seq)\n",
    "bool_a = int_a in pascal_seq\n",
    "int_d = pascal_seq.index(int_a)\n",
    "int_e = pascal_seq.count(int_a)\n",
    "lookpas_seq = looksay_seq + pascal_seq\n",
    "rep_seq = [pascal_seq[1],looksay_seq[-1]] * 3\n",
    "\n",
    "print(int_b)\n",
    "print(bol_a)\n",
    "print(int_c)\n",
    "print(int_d)\n",
    "print(lookpas_seq)\n",
    "print(rep_seq)"
   ]
  },
  {
   "cell_type": "markdown",
   "metadata": {},
   "source": [
    "### Slicing"
   ]
  },
  {
   "cell_type": "markdown",
   "metadata": {},
   "source": [
    "### 104a.06\n",
    "Anagram time!\n",
    "\n",
    "Using only slices of `str_b` and the concatenation operator, define `str_c` as a String that reads `\"they see\"`\n",
    "\n"
   ]
  },
  {
   "cell_type": "code",
   "execution_count": 45,
   "metadata": {},
   "outputs": [
    {
     "name": "stdout",
     "output_type": "stream",
     "text": [
      "they see\n"
     ]
    }
   ],
   "source": [
    "str_b = \"the eyes\"\n",
    "str_c = str_b[:3] + str_b[5] + str_b[3] + str_b[-1] + str_b[2] + str_b[2]\n",
    "\n",
    "print(str_c)"
   ]
  },
  {
   "cell_type": "markdown",
   "metadata": {},
   "source": [
    "### 104a.07\n",
    "The Integer `cnt` is given, which may be *any positive **even** number*. \n",
    "\n",
    "Two Lists of Points, `pts_a` and `pts_b` are given, each of which contains `cnt` number of Points. Slice the Lists `pts_a` and `pts_b` such that then given code produces a ***shoelace-like*** 'zig-zag' pattern of Segments.\n",
    "\n"
   ]
  },
  {
   "cell_type": "code",
   "execution_count": 89,
   "metadata": {},
   "outputs": [
    {
     "data": {
      "text/html": [
       "<div style=\"width:560.0px; height:360.0px; box-shadow: 2px 2px 8px 4px #ddd; margin: 8px;\"><svg width=\"560.0\" height=\"360.0\" xmlns=\"http://www.w3.org/2000/svg\" version=\"1.1\">\n",
       "<polyline points=\"28.67258771281655,340.0 91.50444078461243,340.0 91.50444078461243,300.0 28.67258771281655,300.0 28.67258771281655,340.0\" style=\"fill:rgb(242,242,242);stroke-width:1;stroke:rgb(255,255,255)\"/>\n",
       "<polyline points=\"91.50444078461243,340.0 154.33629385640828,340.0 154.33629385640828,300.0 91.50444078461243,300.0 91.50444078461243,340.0\" style=\"fill:rgb(242,242,242);stroke-width:1;stroke:rgb(255,255,255)\"/>\n",
       "<polyline points=\"154.33629385640828,340.0 217.16814692820412,340.0 217.16814692820412,300.0 154.33629385640828,300.0 154.33629385640828,340.0\" style=\"fill:rgb(242,242,242);stroke-width:1;stroke:rgb(255,255,255)\"/>\n",
       "<polyline points=\"217.16814692820412,340.0 280.0,340.0 280.0,300.0 217.16814692820412,300.0 217.16814692820412,340.0\" style=\"fill:rgb(242,242,242);stroke-width:1;stroke:rgb(255,255,255)\"/>\n",
       "<polyline points=\"280.0,340.0 342.8318530717959,340.0 342.8318530717959,300.0 280.0,300.0 280.0,340.0\" style=\"fill:rgb(242,242,242);stroke-width:1;stroke:rgb(255,255,255)\"/>\n",
       "<polyline points=\"342.8318530717959,340.0 405.66370614359175,340.0 405.66370614359175,300.0 342.8318530717959,300.0 342.8318530717959,340.0\" style=\"fill:rgb(242,242,242);stroke-width:1;stroke:rgb(255,255,255)\"/>\n",
       "<polyline points=\"405.66370614359175,340.0 468.4955592153876,340.0 468.4955592153876,300.0 405.66370614359175,300.0 405.66370614359175,340.0\" style=\"fill:rgb(242,242,242);stroke-width:1;stroke:rgb(255,255,255)\"/>\n",
       "<polyline points=\"468.4955592153876,340.0 531.3274122871835,340.0 531.3274122871835,300.0 468.4955592153876,300.0 468.4955592153876,340.0\" style=\"fill:rgb(242,242,242);stroke-width:1;stroke:rgb(255,255,255)\"/>\n",
       "<polyline points=\"28.67258771281655,300.0 91.50444078461243,300.0 91.50444078461243,260.0 28.67258771281655,260.0 28.67258771281655,300.0\" style=\"fill:rgb(242,242,242);stroke-width:1;stroke:rgb(255,255,255)\"/>\n",
       "<polyline points=\"91.50444078461243,300.0 154.33629385640828,300.0 154.33629385640828,260.0 91.50444078461243,260.0 91.50444078461243,300.0\" style=\"fill:rgb(242,242,242);stroke-width:1;stroke:rgb(255,255,255)\"/>\n",
       "<polyline points=\"154.33629385640828,300.0 217.16814692820412,300.0 217.16814692820412,260.0 154.33629385640828,260.0 154.33629385640828,300.0\" style=\"fill:rgb(242,242,242);stroke-width:1;stroke:rgb(255,255,255)\"/>\n",
       "<polyline points=\"217.16814692820412,300.0 280.0,300.0 280.0,260.0 217.16814692820412,260.0 217.16814692820412,300.0\" style=\"fill:rgb(242,242,242);stroke-width:1;stroke:rgb(255,255,255)\"/>\n",
       "<polyline points=\"280.0,300.0 342.8318530717959,300.0 342.8318530717959,260.0 280.0,260.0 280.0,300.0\" style=\"fill:rgb(242,242,242);stroke-width:1;stroke:rgb(255,255,255)\"/>\n",
       "<polyline points=\"342.8318530717959,300.0 405.66370614359175,300.0 405.66370614359175,260.0 342.8318530717959,260.0 342.8318530717959,300.0\" style=\"fill:rgb(242,242,242);stroke-width:1;stroke:rgb(255,255,255)\"/>\n",
       "<polyline points=\"405.66370614359175,300.0 468.4955592153876,300.0 468.4955592153876,260.0 405.66370614359175,260.0 405.66370614359175,300.0\" style=\"fill:rgb(242,242,242);stroke-width:1;stroke:rgb(255,255,255)\"/>\n",
       "<polyline points=\"468.4955592153876,300.0 531.3274122871835,300.0 531.3274122871835,260.0 468.4955592153876,260.0 468.4955592153876,300.0\" style=\"fill:rgb(242,242,242);stroke-width:1;stroke:rgb(255,255,255)\"/>\n",
       "<polyline points=\"28.67258771281655,260.0 91.50444078461243,260.0 91.50444078461243,220.0 28.67258771281655,220.0 28.67258771281655,260.0\" style=\"fill:rgb(242,242,242);stroke-width:1;stroke:rgb(255,255,255)\"/>\n",
       "<polyline points=\"91.50444078461243,260.0 154.33629385640828,260.0 154.33629385640828,220.0 91.50444078461243,220.0 91.50444078461243,260.0\" style=\"fill:rgb(242,242,242);stroke-width:1;stroke:rgb(255,255,255)\"/>\n",
       "<polyline points=\"154.33629385640828,260.0 217.16814692820412,260.0 217.16814692820412,220.0 154.33629385640828,220.0 154.33629385640828,260.0\" style=\"fill:rgb(242,242,242);stroke-width:1;stroke:rgb(255,255,255)\"/>\n",
       "<polyline points=\"217.16814692820412,260.0 280.0,260.0 280.0,220.0 217.16814692820412,220.0 217.16814692820412,260.0\" style=\"fill:rgb(242,242,242);stroke-width:1;stroke:rgb(255,255,255)\"/>\n",
       "<polyline points=\"280.0,260.0 342.8318530717959,260.0 342.8318530717959,220.0 280.0,220.0 280.0,260.0\" style=\"fill:rgb(242,242,242);stroke-width:1;stroke:rgb(255,255,255)\"/>\n",
       "<polyline points=\"342.8318530717959,260.0 405.66370614359175,260.0 405.66370614359175,220.0 342.8318530717959,220.0 342.8318530717959,260.0\" style=\"fill:rgb(242,242,242);stroke-width:1;stroke:rgb(255,255,255)\"/>\n",
       "<polyline points=\"405.66370614359175,260.0 468.4955592153876,260.0 468.4955592153876,220.0 405.66370614359175,220.0 405.66370614359175,260.0\" style=\"fill:rgb(242,242,242);stroke-width:1;stroke:rgb(255,255,255)\"/>\n",
       "<polyline points=\"468.4955592153876,260.0 531.3274122871835,260.0 531.3274122871835,220.0 468.4955592153876,220.0 468.4955592153876,260.0\" style=\"fill:rgb(242,242,242);stroke-width:1;stroke:rgb(255,255,255)\"/>\n",
       "<polyline points=\"28.67258771281655,220.0 91.50444078461243,220.0 91.50444078461243,180.0 28.67258771281655,180.0 28.67258771281655,220.0\" style=\"fill:rgb(242,242,242);stroke-width:1;stroke:rgb(255,255,255)\"/>\n",
       "<polyline points=\"91.50444078461243,220.0 154.33629385640828,220.0 154.33629385640828,180.0 91.50444078461243,180.0 91.50444078461243,220.0\" style=\"fill:rgb(242,242,242);stroke-width:1;stroke:rgb(255,255,255)\"/>\n",
       "<polyline points=\"154.33629385640828,220.0 217.16814692820412,220.0 217.16814692820412,180.0 154.33629385640828,180.0 154.33629385640828,220.0\" style=\"fill:rgb(242,242,242);stroke-width:1;stroke:rgb(255,255,255)\"/>\n",
       "<polyline points=\"217.16814692820412,220.0 280.0,220.0 280.0,180.0 217.16814692820412,180.0 217.16814692820412,220.0\" style=\"fill:rgb(242,242,242);stroke-width:1;stroke:rgb(255,255,255)\"/>\n",
       "<polyline points=\"280.0,220.0 342.8318530717959,220.0 342.8318530717959,180.0 280.0,180.0 280.0,220.0\" style=\"fill:rgb(242,242,242);stroke-width:1;stroke:rgb(255,255,255)\"/>\n",
       "<polyline points=\"342.8318530717959,220.0 405.66370614359175,220.0 405.66370614359175,180.0 342.8318530717959,180.0 342.8318530717959,220.0\" style=\"fill:rgb(242,242,242);stroke-width:1;stroke:rgb(255,255,255)\"/>\n",
       "<polyline points=\"405.66370614359175,220.0 468.4955592153876,220.0 468.4955592153876,180.0 405.66370614359175,180.0 405.66370614359175,220.0\" style=\"fill:rgb(242,242,242);stroke-width:1;stroke:rgb(255,255,255)\"/>\n",
       "<polyline points=\"468.4955592153876,220.0 531.3274122871835,220.0 531.3274122871835,180.0 468.4955592153876,180.0 468.4955592153876,220.0\" style=\"fill:rgb(242,242,242);stroke-width:1;stroke:rgb(255,255,255)\"/>\n",
       "<polyline points=\"28.67258771281655,180.0 91.50444078461243,180.0 91.50444078461243,140.0 28.67258771281655,140.0 28.67258771281655,180.0\" style=\"fill:rgb(242,242,242);stroke-width:1;stroke:rgb(255,255,255)\"/>\n",
       "<polyline points=\"91.50444078461243,180.0 154.33629385640828,180.0 154.33629385640828,140.0 91.50444078461243,140.0 91.50444078461243,180.0\" style=\"fill:rgb(242,242,242);stroke-width:1;stroke:rgb(255,255,255)\"/>\n",
       "<polyline points=\"154.33629385640828,180.0 217.16814692820412,180.0 217.16814692820412,140.0 154.33629385640828,140.0 154.33629385640828,180.0\" style=\"fill:rgb(242,242,242);stroke-width:1;stroke:rgb(255,255,255)\"/>\n",
       "<polyline points=\"217.16814692820412,180.0 280.0,180.0 280.0,140.0 217.16814692820412,140.0 217.16814692820412,180.0\" style=\"fill:rgb(242,242,242);stroke-width:1;stroke:rgb(255,255,255)\"/>\n",
       "<polyline points=\"280.0,180.0 342.8318530717959,180.0 342.8318530717959,140.0 280.0,140.0 280.0,180.0\" style=\"fill:rgb(242,242,242);stroke-width:1;stroke:rgb(255,255,255)\"/>\n",
       "<polyline points=\"342.8318530717959,180.0 405.66370614359175,180.0 405.66370614359175,140.0 342.8318530717959,140.0 342.8318530717959,180.0\" style=\"fill:rgb(242,242,242);stroke-width:1;stroke:rgb(255,255,255)\"/>\n",
       "<polyline points=\"405.66370614359175,180.0 468.4955592153876,180.0 468.4955592153876,140.0 405.66370614359175,140.0 405.66370614359175,180.0\" style=\"fill:rgb(242,242,242);stroke-width:1;stroke:rgb(255,255,255)\"/>\n",
       "<polyline points=\"468.4955592153876,180.0 531.3274122871835,180.0 531.3274122871835,140.0 468.4955592153876,140.0 468.4955592153876,180.0\" style=\"fill:rgb(242,242,242);stroke-width:1;stroke:rgb(255,255,255)\"/>\n",
       "<polyline points=\"28.67258771281655,140.0 91.50444078461243,140.0 91.50444078461243,100.0 28.67258771281655,100.0 28.67258771281655,140.0\" style=\"fill:rgb(242,242,242);stroke-width:1;stroke:rgb(255,255,255)\"/>\n",
       "<polyline points=\"91.50444078461243,140.0 154.33629385640828,140.0 154.33629385640828,100.0 91.50444078461243,100.0 91.50444078461243,140.0\" style=\"fill:rgb(242,242,242);stroke-width:1;stroke:rgb(255,255,255)\"/>\n",
       "<polyline points=\"154.33629385640828,140.0 217.16814692820412,140.0 217.16814692820412,100.0 154.33629385640828,100.0 154.33629385640828,140.0\" style=\"fill:rgb(242,242,242);stroke-width:1;stroke:rgb(255,255,255)\"/>\n",
       "<polyline points=\"217.16814692820412,140.0 280.0,140.0 280.0,100.0 217.16814692820412,100.0 217.16814692820412,140.0\" style=\"fill:rgb(242,242,242);stroke-width:1;stroke:rgb(255,255,255)\"/>\n",
       "<polyline points=\"280.0,140.0 342.8318530717959,140.0 342.8318530717959,100.0 280.0,100.0 280.0,140.0\" style=\"fill:rgb(242,242,242);stroke-width:1;stroke:rgb(255,255,255)\"/>\n",
       "<polyline points=\"342.8318530717959,140.0 405.66370614359175,140.0 405.66370614359175,100.0 342.8318530717959,100.0 342.8318530717959,140.0\" style=\"fill:rgb(242,242,242);stroke-width:1;stroke:rgb(255,255,255)\"/>\n",
       "<polyline points=\"405.66370614359175,140.0 468.4955592153876,140.0 468.4955592153876,100.0 405.66370614359175,100.0 405.66370614359175,140.0\" style=\"fill:rgb(242,242,242);stroke-width:1;stroke:rgb(255,255,255)\"/>\n",
       "<polyline points=\"468.4955592153876,140.0 531.3274122871835,140.0 531.3274122871835,100.0 468.4955592153876,100.0 468.4955592153876,140.0\" style=\"fill:rgb(242,242,242);stroke-width:1;stroke:rgb(255,255,255)\"/>\n",
       "<polyline points=\"28.67258771281655,100.0 91.50444078461243,100.0 91.50444078461243,60.0 28.67258771281655,60.0 28.67258771281655,100.0\" style=\"fill:rgb(242,242,242);stroke-width:1;stroke:rgb(255,255,255)\"/>\n",
       "<polyline points=\"91.50444078461243,100.0 154.33629385640828,100.0 154.33629385640828,60.0 91.50444078461243,60.0 91.50444078461243,100.0\" style=\"fill:rgb(242,242,242);stroke-width:1;stroke:rgb(255,255,255)\"/>\n",
       "<polyline points=\"154.33629385640828,100.0 217.16814692820412,100.0 217.16814692820412,60.0 154.33629385640828,60.0 154.33629385640828,100.0\" style=\"fill:rgb(242,242,242);stroke-width:1;stroke:rgb(255,255,255)\"/>\n",
       "<polyline points=\"217.16814692820412,100.0 280.0,100.0 280.0,60.0 217.16814692820412,60.0 217.16814692820412,100.0\" style=\"fill:rgb(242,242,242);stroke-width:1;stroke:rgb(255,255,255)\"/>\n",
       "<polyline points=\"280.0,100.0 342.8318530717959,100.0 342.8318530717959,60.0 280.0,60.0 280.0,100.0\" style=\"fill:rgb(242,242,242);stroke-width:1;stroke:rgb(255,255,255)\"/>\n",
       "<polyline points=\"342.8318530717959,100.0 405.66370614359175,100.0 405.66370614359175,60.0 342.8318530717959,60.0 342.8318530717959,100.0\" style=\"fill:rgb(242,242,242);stroke-width:1;stroke:rgb(255,255,255)\"/>\n",
       "<polyline points=\"405.66370614359175,100.0 468.4955592153876,100.0 468.4955592153876,60.0 405.66370614359175,60.0 405.66370614359175,100.0\" style=\"fill:rgb(242,242,242);stroke-width:1;stroke:rgb(255,255,255)\"/>\n",
       "<polyline points=\"468.4955592153876,100.0 531.3274122871835,100.0 531.3274122871835,60.0 468.4955592153876,60.0 468.4955592153876,100.0\" style=\"fill:rgb(242,242,242);stroke-width:1;stroke:rgb(255,255,255)\"/>\n",
       "<polyline points=\"28.67258771281655,60.0 91.50444078461243,60.0 91.50444078461243,20.0 28.67258771281655,20.0 28.67258771281655,60.0\" style=\"fill:rgb(242,242,242);stroke-width:1;stroke:rgb(255,255,255)\"/>\n",
       "<polyline points=\"91.50444078461243,60.0 154.33629385640828,60.0 154.33629385640828,20.0 91.50444078461243,20.0 91.50444078461243,60.0\" style=\"fill:rgb(242,242,242);stroke-width:1;stroke:rgb(255,255,255)\"/>\n",
       "<polyline points=\"154.33629385640828,60.0 217.16814692820412,60.0 217.16814692820412,20.0 154.33629385640828,20.0 154.33629385640828,60.0\" style=\"fill:rgb(242,242,242);stroke-width:1;stroke:rgb(255,255,255)\"/>\n",
       "<polyline points=\"217.16814692820412,60.0 280.0,60.0 280.0,20.0 217.16814692820412,20.0 217.16814692820412,60.0\" style=\"fill:rgb(242,242,242);stroke-width:1;stroke:rgb(255,255,255)\"/>\n",
       "<polyline points=\"280.0,60.0 342.8318530717959,60.0 342.8318530717959,20.0 280.0,20.0 280.0,60.0\" style=\"fill:rgb(242,242,242);stroke-width:1;stroke:rgb(255,255,255)\"/>\n",
       "<polyline points=\"342.8318530717959,60.0 405.66370614359175,60.0 405.66370614359175,20.0 342.8318530717959,20.0 342.8318530717959,60.0\" style=\"fill:rgb(242,242,242);stroke-width:1;stroke:rgb(255,255,255)\"/>\n",
       "<polyline points=\"405.66370614359175,60.0 468.4955592153876,60.0 468.4955592153876,20.0 405.66370614359175,20.0 405.66370614359175,60.0\" style=\"fill:rgb(242,242,242);stroke-width:1;stroke:rgb(255,255,255)\"/>\n",
       "<polyline points=\"468.4955592153876,60.0 531.3274122871835,60.0 531.3274122871835,20.0 468.4955592153876,20.0 468.4955592153876,60.0\" style=\"fill:rgb(242,242,242);stroke-width:1;stroke:rgb(255,255,255)\"/>\n",
       "<circle cx=\"280.0\" cy=\"180.0\" r=\"20.0\" style=\"fill:rgb(255,255,255);stroke-width:0;stroke:none\"/>\n",
       "<circle cx=\"240.0\" cy=\"300.0\" r=\"2.0\" style=\"fill:rgb(0,0,0);stroke-width:0;stroke:none\"/>\n",
       "<circle cx=\"240.0\" cy=\"270.0\" r=\"2.0\" style=\"fill:rgb(0,0,0);stroke-width:0;stroke:none\"/>\n",
       "<circle cx=\"240.0\" cy=\"240.0\" r=\"2.0\" style=\"fill:rgb(0,0,0);stroke-width:0;stroke:none\"/>\n",
       "<circle cx=\"240.0\" cy=\"210.0\" r=\"2.0\" style=\"fill:rgb(0,0,0);stroke-width:0;stroke:none\"/>\n",
       "<circle cx=\"240.0\" cy=\"180.0\" r=\"2.0\" style=\"fill:rgb(0,0,0);stroke-width:0;stroke:none\"/>\n",
       "<circle cx=\"240.0\" cy=\"150.0\" r=\"2.0\" style=\"fill:rgb(0,0,0);stroke-width:0;stroke:none\"/>\n",
       "<circle cx=\"240.0\" cy=\"120.0\" r=\"2.0\" style=\"fill:rgb(0,0,0);stroke-width:0;stroke:none\"/>\n",
       "<circle cx=\"240.0\" cy=\"90.0\" r=\"2.0\" style=\"fill:rgb(0,0,0);stroke-width:0;stroke:none\"/>\n",
       "<circle cx=\"240.0\" cy=\"60.0\" r=\"2.0\" style=\"fill:rgb(0,0,0);stroke-width:0;stroke:none\"/>\n",
       "<circle cx=\"320.0\" cy=\"300.0\" r=\"2.0\" style=\"fill:rgb(0,0,0);stroke-width:0;stroke:none\"/>\n",
       "<circle cx=\"320.0\" cy=\"270.0\" r=\"2.0\" style=\"fill:rgb(0,0,0);stroke-width:0;stroke:none\"/>\n",
       "<circle cx=\"320.0\" cy=\"240.0\" r=\"2.0\" style=\"fill:rgb(0,0,0);stroke-width:0;stroke:none\"/>\n",
       "<circle cx=\"320.0\" cy=\"210.0\" r=\"2.0\" style=\"fill:rgb(0,0,0);stroke-width:0;stroke:none\"/>\n",
       "<circle cx=\"320.0\" cy=\"180.0\" r=\"2.0\" style=\"fill:rgb(0,0,0);stroke-width:0;stroke:none\"/>\n",
       "<circle cx=\"320.0\" cy=\"150.0\" r=\"2.0\" style=\"fill:rgb(0,0,0);stroke-width:0;stroke:none\"/>\n",
       "<circle cx=\"320.0\" cy=\"120.0\" r=\"2.0\" style=\"fill:rgb(0,0,0);stroke-width:0;stroke:none\"/>\n",
       "<circle cx=\"320.0\" cy=\"90.0\" r=\"2.0\" style=\"fill:rgb(0,0,0);stroke-width:0;stroke:none\"/>\n",
       "<circle cx=\"320.0\" cy=\"60.0\" r=\"2.0\" style=\"fill:rgb(0,0,0);stroke-width:0;stroke:none\"/>\n",
       "<line x1=\"240.0\" y1=\"300.0\" x2=\"320.0\" y2=\"270.0\" style=\"fill:none;stroke-width:0.5;stroke:rgb(0,0,0)\"/>\n",
       "<line x1=\"320.0\" y1=\"270.0\" x2=\"240.0\" y2=\"240.0\" style=\"fill:none;stroke-width:0.5;stroke:rgb(0,0,0)\"/>\n",
       "<line x1=\"320.0\" y1=\"300.0\" x2=\"240.0\" y2=\"270.0\" style=\"fill:none;stroke-width:0.5;stroke:rgb(0,0,0)\"/>\n",
       "<line x1=\"240.0\" y1=\"270.0\" x2=\"320.0\" y2=\"240.0\" style=\"fill:none;stroke-width:0.5;stroke:rgb(0,0,0)\"/>\n",
       "<line x1=\"240.0\" y1=\"240.0\" x2=\"320.0\" y2=\"210.0\" style=\"fill:none;stroke-width:0.5;stroke:rgb(0,0,0)\"/>\n",
       "<line x1=\"320.0\" y1=\"210.0\" x2=\"240.0\" y2=\"180.0\" style=\"fill:none;stroke-width:0.5;stroke:rgb(0,0,0)\"/>\n",
       "<line x1=\"320.0\" y1=\"240.0\" x2=\"240.0\" y2=\"210.0\" style=\"fill:none;stroke-width:0.5;stroke:rgb(0,0,0)\"/>\n",
       "<line x1=\"240.0\" y1=\"210.0\" x2=\"320.0\" y2=\"180.0\" style=\"fill:none;stroke-width:0.5;stroke:rgb(0,0,0)\"/>\n",
       "<line x1=\"240.0\" y1=\"180.0\" x2=\"320.0\" y2=\"150.0\" style=\"fill:none;stroke-width:0.5;stroke:rgb(0,0,0)\"/>\n",
       "<line x1=\"320.0\" y1=\"150.0\" x2=\"240.0\" y2=\"120.0\" style=\"fill:none;stroke-width:0.5;stroke:rgb(0,0,0)\"/>\n",
       "<line x1=\"320.0\" y1=\"180.0\" x2=\"240.0\" y2=\"150.0\" style=\"fill:none;stroke-width:0.5;stroke:rgb(0,0,0)\"/>\n",
       "<line x1=\"240.0\" y1=\"150.0\" x2=\"320.0\" y2=\"120.0\" style=\"fill:none;stroke-width:0.5;stroke:rgb(0,0,0)\"/>\n",
       "<line x1=\"240.0\" y1=\"120.0\" x2=\"320.0\" y2=\"90.0\" style=\"fill:none;stroke-width:0.5;stroke:rgb(0,0,0)\"/>\n",
       "<line x1=\"320.0\" y1=\"90.0\" x2=\"240.0\" y2=\"60.0\" style=\"fill:none;stroke-width:0.5;stroke:rgb(0,0,0)\"/>\n",
       "<line x1=\"320.0\" y1=\"120.0\" x2=\"240.0\" y2=\"90.0\" style=\"fill:none;stroke-width:0.5;stroke:rgb(0,0,0)\"/>\n",
       "<line x1=\"240.0\" y1=\"90.0\" x2=\"320.0\" y2=\"60.0\" style=\"fill:none;stroke-width:0.5;stroke:rgb(0,0,0)\"/>\n",
       "</svg></div>"
      ],
      "text/plain": [
       "<IPython.core.display.HTML object>"
      ]
     },
     "metadata": {},
     "output_type": "display_data"
    }
   ],
   "source": [
    "cnt = 8\n",
    "pts_a = [Point(-1,y) for y in Interval(-3,3).divide(cnt,True) ]\n",
    "pts_b = [Point(1,y) for y in Interval(-3,3).divide(cnt,True) ]\n",
    "out.put(pts_a)\n",
    "out.put(pts_b)\n",
    "\n",
    "#### START YOUR WORK HERE ####\n",
    "\n",
    "pts_a1 = pts_a[::2]\n",
    "pts_b1 = pts_b[1::2]\n",
    "\n",
    "pts_a2 = pts_a[1::2]\n",
    "pts_b2 = pts_b[::2]\n",
    "\n",
    "#### END YOUR WORK HERE ####\n",
    "\n",
    "for n in range(int(cnt/2)):\n",
    "    seg_zig1 = Segment(pts_a1[n],pts_b1[n])\n",
    "    seg_zag1 = Segment(pts_b1[n],pts_a1[n+1])\n",
    "    out.put([seg_zig1,seg_zag1])\n",
    "    \n",
    "    seg_zig2 = Segment(pts_b2[n],pts_a2[n])\n",
    "    seg_zag2 = Segment(pts_a2[n],pts_b2[n+1])    \n",
    "    out.put([seg_zig2,seg_zag2])\n",
    "\n",
    "\n",
    "out.draw()\n",
    "out.clear()"
   ]
  },
  {
   "cell_type": "markdown",
   "metadata": {},
   "source": [
    "## Tuples"
   ]
  },
  {
   "cell_type": "markdown",
   "metadata": {},
   "source": [
    "### 104a.08\n",
    "Here we demonstrate the calculation of the weighted centroid of a set of Points.\n",
    "\n",
    "Two Lists of length `cnt` are given: a List of Points at random locations `pts_c`, and a List of numeric weights `weights` that range from 0.0 to 1.0. Code is given to calculate the weighted centroid of these Points and to plot the result to the canvas. \n",
    "\n",
    "Complete this code by writing a loop that iterates over corresponding objects in the `pts_c` and `weights` Lists. At each cycle, calcuate the **sum** of **the x-coordinate of the Point** and the **cooresponding weight value** to the `x_sum` variable. Do the same for the y-coordinate of the Point and the `y_sum` variable. \n",
    "\n"
   ]
  },
  {
   "cell_type": "code",
   "execution_count": 174,
   "metadata": {},
   "outputs": [
    {
     "data": {
      "text/html": [
       "<div style=\"width:560.0px; height:360.0px; box-shadow: 2px 2px 8px 4px #ddd; margin: 8px;\"><svg width=\"560.0\" height=\"360.0\" xmlns=\"http://www.w3.org/2000/svg\" version=\"1.1\">\n",
       "<polyline points=\"28.67258771281655,340.0 91.50444078461243,340.0 91.50444078461243,300.0 28.67258771281655,300.0 28.67258771281655,340.0\" style=\"fill:rgb(242,242,242);stroke-width:1;stroke:rgb(255,255,255)\"/>\n",
       "<polyline points=\"91.50444078461243,340.0 154.33629385640828,340.0 154.33629385640828,300.0 91.50444078461243,300.0 91.50444078461243,340.0\" style=\"fill:rgb(242,242,242);stroke-width:1;stroke:rgb(255,255,255)\"/>\n",
       "<polyline points=\"154.33629385640828,340.0 217.16814692820412,340.0 217.16814692820412,300.0 154.33629385640828,300.0 154.33629385640828,340.0\" style=\"fill:rgb(242,242,242);stroke-width:1;stroke:rgb(255,255,255)\"/>\n",
       "<polyline points=\"217.16814692820412,340.0 280.0,340.0 280.0,300.0 217.16814692820412,300.0 217.16814692820412,340.0\" style=\"fill:rgb(242,242,242);stroke-width:1;stroke:rgb(255,255,255)\"/>\n",
       "<polyline points=\"280.0,340.0 342.8318530717959,340.0 342.8318530717959,300.0 280.0,300.0 280.0,340.0\" style=\"fill:rgb(242,242,242);stroke-width:1;stroke:rgb(255,255,255)\"/>\n",
       "<polyline points=\"342.8318530717959,340.0 405.66370614359175,340.0 405.66370614359175,300.0 342.8318530717959,300.0 342.8318530717959,340.0\" style=\"fill:rgb(242,242,242);stroke-width:1;stroke:rgb(255,255,255)\"/>\n",
       "<polyline points=\"405.66370614359175,340.0 468.4955592153876,340.0 468.4955592153876,300.0 405.66370614359175,300.0 405.66370614359175,340.0\" style=\"fill:rgb(242,242,242);stroke-width:1;stroke:rgb(255,255,255)\"/>\n",
       "<polyline points=\"468.4955592153876,340.0 531.3274122871835,340.0 531.3274122871835,300.0 468.4955592153876,300.0 468.4955592153876,340.0\" style=\"fill:rgb(242,242,242);stroke-width:1;stroke:rgb(255,255,255)\"/>\n",
       "<polyline points=\"28.67258771281655,300.0 91.50444078461243,300.0 91.50444078461243,260.0 28.67258771281655,260.0 28.67258771281655,300.0\" style=\"fill:rgb(242,242,242);stroke-width:1;stroke:rgb(255,255,255)\"/>\n",
       "<polyline points=\"91.50444078461243,300.0 154.33629385640828,300.0 154.33629385640828,260.0 91.50444078461243,260.0 91.50444078461243,300.0\" style=\"fill:rgb(242,242,242);stroke-width:1;stroke:rgb(255,255,255)\"/>\n",
       "<polyline points=\"154.33629385640828,300.0 217.16814692820412,300.0 217.16814692820412,260.0 154.33629385640828,260.0 154.33629385640828,300.0\" style=\"fill:rgb(242,242,242);stroke-width:1;stroke:rgb(255,255,255)\"/>\n",
       "<polyline points=\"217.16814692820412,300.0 280.0,300.0 280.0,260.0 217.16814692820412,260.0 217.16814692820412,300.0\" style=\"fill:rgb(242,242,242);stroke-width:1;stroke:rgb(255,255,255)\"/>\n",
       "<polyline points=\"280.0,300.0 342.8318530717959,300.0 342.8318530717959,260.0 280.0,260.0 280.0,300.0\" style=\"fill:rgb(242,242,242);stroke-width:1;stroke:rgb(255,255,255)\"/>\n",
       "<polyline points=\"342.8318530717959,300.0 405.66370614359175,300.0 405.66370614359175,260.0 342.8318530717959,260.0 342.8318530717959,300.0\" style=\"fill:rgb(242,242,242);stroke-width:1;stroke:rgb(255,255,255)\"/>\n",
       "<polyline points=\"405.66370614359175,300.0 468.4955592153876,300.0 468.4955592153876,260.0 405.66370614359175,260.0 405.66370614359175,300.0\" style=\"fill:rgb(242,242,242);stroke-width:1;stroke:rgb(255,255,255)\"/>\n",
       "<polyline points=\"468.4955592153876,300.0 531.3274122871835,300.0 531.3274122871835,260.0 468.4955592153876,260.0 468.4955592153876,300.0\" style=\"fill:rgb(242,242,242);stroke-width:1;stroke:rgb(255,255,255)\"/>\n",
       "<polyline points=\"28.67258771281655,260.0 91.50444078461243,260.0 91.50444078461243,220.0 28.67258771281655,220.0 28.67258771281655,260.0\" style=\"fill:rgb(242,242,242);stroke-width:1;stroke:rgb(255,255,255)\"/>\n",
       "<polyline points=\"91.50444078461243,260.0 154.33629385640828,260.0 154.33629385640828,220.0 91.50444078461243,220.0 91.50444078461243,260.0\" style=\"fill:rgb(242,242,242);stroke-width:1;stroke:rgb(255,255,255)\"/>\n",
       "<polyline points=\"154.33629385640828,260.0 217.16814692820412,260.0 217.16814692820412,220.0 154.33629385640828,220.0 154.33629385640828,260.0\" style=\"fill:rgb(242,242,242);stroke-width:1;stroke:rgb(255,255,255)\"/>\n",
       "<polyline points=\"217.16814692820412,260.0 280.0,260.0 280.0,220.0 217.16814692820412,220.0 217.16814692820412,260.0\" style=\"fill:rgb(242,242,242);stroke-width:1;stroke:rgb(255,255,255)\"/>\n",
       "<polyline points=\"280.0,260.0 342.8318530717959,260.0 342.8318530717959,220.0 280.0,220.0 280.0,260.0\" style=\"fill:rgb(242,242,242);stroke-width:1;stroke:rgb(255,255,255)\"/>\n",
       "<polyline points=\"342.8318530717959,260.0 405.66370614359175,260.0 405.66370614359175,220.0 342.8318530717959,220.0 342.8318530717959,260.0\" style=\"fill:rgb(242,242,242);stroke-width:1;stroke:rgb(255,255,255)\"/>\n",
       "<polyline points=\"405.66370614359175,260.0 468.4955592153876,260.0 468.4955592153876,220.0 405.66370614359175,220.0 405.66370614359175,260.0\" style=\"fill:rgb(242,242,242);stroke-width:1;stroke:rgb(255,255,255)\"/>\n",
       "<polyline points=\"468.4955592153876,260.0 531.3274122871835,260.0 531.3274122871835,220.0 468.4955592153876,220.0 468.4955592153876,260.0\" style=\"fill:rgb(242,242,242);stroke-width:1;stroke:rgb(255,255,255)\"/>\n",
       "<polyline points=\"28.67258771281655,220.0 91.50444078461243,220.0 91.50444078461243,180.0 28.67258771281655,180.0 28.67258771281655,220.0\" style=\"fill:rgb(242,242,242);stroke-width:1;stroke:rgb(255,255,255)\"/>\n",
       "<polyline points=\"91.50444078461243,220.0 154.33629385640828,220.0 154.33629385640828,180.0 91.50444078461243,180.0 91.50444078461243,220.0\" style=\"fill:rgb(242,242,242);stroke-width:1;stroke:rgb(255,255,255)\"/>\n",
       "<polyline points=\"154.33629385640828,220.0 217.16814692820412,220.0 217.16814692820412,180.0 154.33629385640828,180.0 154.33629385640828,220.0\" style=\"fill:rgb(242,242,242);stroke-width:1;stroke:rgb(255,255,255)\"/>\n",
       "<polyline points=\"217.16814692820412,220.0 280.0,220.0 280.0,180.0 217.16814692820412,180.0 217.16814692820412,220.0\" style=\"fill:rgb(242,242,242);stroke-width:1;stroke:rgb(255,255,255)\"/>\n",
       "<polyline points=\"280.0,220.0 342.8318530717959,220.0 342.8318530717959,180.0 280.0,180.0 280.0,220.0\" style=\"fill:rgb(242,242,242);stroke-width:1;stroke:rgb(255,255,255)\"/>\n",
       "<polyline points=\"342.8318530717959,220.0 405.66370614359175,220.0 405.66370614359175,180.0 342.8318530717959,180.0 342.8318530717959,220.0\" style=\"fill:rgb(242,242,242);stroke-width:1;stroke:rgb(255,255,255)\"/>\n",
       "<polyline points=\"405.66370614359175,220.0 468.4955592153876,220.0 468.4955592153876,180.0 405.66370614359175,180.0 405.66370614359175,220.0\" style=\"fill:rgb(242,242,242);stroke-width:1;stroke:rgb(255,255,255)\"/>\n",
       "<polyline points=\"468.4955592153876,220.0 531.3274122871835,220.0 531.3274122871835,180.0 468.4955592153876,180.0 468.4955592153876,220.0\" style=\"fill:rgb(242,242,242);stroke-width:1;stroke:rgb(255,255,255)\"/>\n",
       "<polyline points=\"28.67258771281655,180.0 91.50444078461243,180.0 91.50444078461243,140.0 28.67258771281655,140.0 28.67258771281655,180.0\" style=\"fill:rgb(242,242,242);stroke-width:1;stroke:rgb(255,255,255)\"/>\n",
       "<polyline points=\"91.50444078461243,180.0 154.33629385640828,180.0 154.33629385640828,140.0 91.50444078461243,140.0 91.50444078461243,180.0\" style=\"fill:rgb(242,242,242);stroke-width:1;stroke:rgb(255,255,255)\"/>\n",
       "<polyline points=\"154.33629385640828,180.0 217.16814692820412,180.0 217.16814692820412,140.0 154.33629385640828,140.0 154.33629385640828,180.0\" style=\"fill:rgb(242,242,242);stroke-width:1;stroke:rgb(255,255,255)\"/>\n",
       "<polyline points=\"217.16814692820412,180.0 280.0,180.0 280.0,140.0 217.16814692820412,140.0 217.16814692820412,180.0\" style=\"fill:rgb(242,242,242);stroke-width:1;stroke:rgb(255,255,255)\"/>\n",
       "<polyline points=\"280.0,180.0 342.8318530717959,180.0 342.8318530717959,140.0 280.0,140.0 280.0,180.0\" style=\"fill:rgb(242,242,242);stroke-width:1;stroke:rgb(255,255,255)\"/>\n",
       "<polyline points=\"342.8318530717959,180.0 405.66370614359175,180.0 405.66370614359175,140.0 342.8318530717959,140.0 342.8318530717959,180.0\" style=\"fill:rgb(242,242,242);stroke-width:1;stroke:rgb(255,255,255)\"/>\n",
       "<polyline points=\"405.66370614359175,180.0 468.4955592153876,180.0 468.4955592153876,140.0 405.66370614359175,140.0 405.66370614359175,180.0\" style=\"fill:rgb(242,242,242);stroke-width:1;stroke:rgb(255,255,255)\"/>\n",
       "<polyline points=\"468.4955592153876,180.0 531.3274122871835,180.0 531.3274122871835,140.0 468.4955592153876,140.0 468.4955592153876,180.0\" style=\"fill:rgb(242,242,242);stroke-width:1;stroke:rgb(255,255,255)\"/>\n",
       "<polyline points=\"28.67258771281655,140.0 91.50444078461243,140.0 91.50444078461243,100.0 28.67258771281655,100.0 28.67258771281655,140.0\" style=\"fill:rgb(242,242,242);stroke-width:1;stroke:rgb(255,255,255)\"/>\n",
       "<polyline points=\"91.50444078461243,140.0 154.33629385640828,140.0 154.33629385640828,100.0 91.50444078461243,100.0 91.50444078461243,140.0\" style=\"fill:rgb(242,242,242);stroke-width:1;stroke:rgb(255,255,255)\"/>\n",
       "<polyline points=\"154.33629385640828,140.0 217.16814692820412,140.0 217.16814692820412,100.0 154.33629385640828,100.0 154.33629385640828,140.0\" style=\"fill:rgb(242,242,242);stroke-width:1;stroke:rgb(255,255,255)\"/>\n",
       "<polyline points=\"217.16814692820412,140.0 280.0,140.0 280.0,100.0 217.16814692820412,100.0 217.16814692820412,140.0\" style=\"fill:rgb(242,242,242);stroke-width:1;stroke:rgb(255,255,255)\"/>\n",
       "<polyline points=\"280.0,140.0 342.8318530717959,140.0 342.8318530717959,100.0 280.0,100.0 280.0,140.0\" style=\"fill:rgb(242,242,242);stroke-width:1;stroke:rgb(255,255,255)\"/>\n",
       "<polyline points=\"342.8318530717959,140.0 405.66370614359175,140.0 405.66370614359175,100.0 342.8318530717959,100.0 342.8318530717959,140.0\" style=\"fill:rgb(242,242,242);stroke-width:1;stroke:rgb(255,255,255)\"/>\n",
       "<polyline points=\"405.66370614359175,140.0 468.4955592153876,140.0 468.4955592153876,100.0 405.66370614359175,100.0 405.66370614359175,140.0\" style=\"fill:rgb(242,242,242);stroke-width:1;stroke:rgb(255,255,255)\"/>\n",
       "<polyline points=\"468.4955592153876,140.0 531.3274122871835,140.0 531.3274122871835,100.0 468.4955592153876,100.0 468.4955592153876,140.0\" style=\"fill:rgb(242,242,242);stroke-width:1;stroke:rgb(255,255,255)\"/>\n",
       "<polyline points=\"28.67258771281655,100.0 91.50444078461243,100.0 91.50444078461243,60.0 28.67258771281655,60.0 28.67258771281655,100.0\" style=\"fill:rgb(242,242,242);stroke-width:1;stroke:rgb(255,255,255)\"/>\n",
       "<polyline points=\"91.50444078461243,100.0 154.33629385640828,100.0 154.33629385640828,60.0 91.50444078461243,60.0 91.50444078461243,100.0\" style=\"fill:rgb(242,242,242);stroke-width:1;stroke:rgb(255,255,255)\"/>\n",
       "<polyline points=\"154.33629385640828,100.0 217.16814692820412,100.0 217.16814692820412,60.0 154.33629385640828,60.0 154.33629385640828,100.0\" style=\"fill:rgb(242,242,242);stroke-width:1;stroke:rgb(255,255,255)\"/>\n",
       "<polyline points=\"217.16814692820412,100.0 280.0,100.0 280.0,60.0 217.16814692820412,60.0 217.16814692820412,100.0\" style=\"fill:rgb(242,242,242);stroke-width:1;stroke:rgb(255,255,255)\"/>\n",
       "<polyline points=\"280.0,100.0 342.8318530717959,100.0 342.8318530717959,60.0 280.0,60.0 280.0,100.0\" style=\"fill:rgb(242,242,242);stroke-width:1;stroke:rgb(255,255,255)\"/>\n",
       "<polyline points=\"342.8318530717959,100.0 405.66370614359175,100.0 405.66370614359175,60.0 342.8318530717959,60.0 342.8318530717959,100.0\" style=\"fill:rgb(242,242,242);stroke-width:1;stroke:rgb(255,255,255)\"/>\n",
       "<polyline points=\"405.66370614359175,100.0 468.4955592153876,100.0 468.4955592153876,60.0 405.66370614359175,60.0 405.66370614359175,100.0\" style=\"fill:rgb(242,242,242);stroke-width:1;stroke:rgb(255,255,255)\"/>\n",
       "<polyline points=\"468.4955592153876,100.0 531.3274122871835,100.0 531.3274122871835,60.0 468.4955592153876,60.0 468.4955592153876,100.0\" style=\"fill:rgb(242,242,242);stroke-width:1;stroke:rgb(255,255,255)\"/>\n",
       "<polyline points=\"28.67258771281655,60.0 91.50444078461243,60.0 91.50444078461243,20.0 28.67258771281655,20.0 28.67258771281655,60.0\" style=\"fill:rgb(242,242,242);stroke-width:1;stroke:rgb(255,255,255)\"/>\n",
       "<polyline points=\"91.50444078461243,60.0 154.33629385640828,60.0 154.33629385640828,20.0 91.50444078461243,20.0 91.50444078461243,60.0\" style=\"fill:rgb(242,242,242);stroke-width:1;stroke:rgb(255,255,255)\"/>\n",
       "<polyline points=\"154.33629385640828,60.0 217.16814692820412,60.0 217.16814692820412,20.0 154.33629385640828,20.0 154.33629385640828,60.0\" style=\"fill:rgb(242,242,242);stroke-width:1;stroke:rgb(255,255,255)\"/>\n",
       "<polyline points=\"217.16814692820412,60.0 280.0,60.0 280.0,20.0 217.16814692820412,20.0 217.16814692820412,60.0\" style=\"fill:rgb(242,242,242);stroke-width:1;stroke:rgb(255,255,255)\"/>\n",
       "<polyline points=\"280.0,60.0 342.8318530717959,60.0 342.8318530717959,20.0 280.0,20.0 280.0,60.0\" style=\"fill:rgb(242,242,242);stroke-width:1;stroke:rgb(255,255,255)\"/>\n",
       "<polyline points=\"342.8318530717959,60.0 405.66370614359175,60.0 405.66370614359175,20.0 342.8318530717959,20.0 342.8318530717959,60.0\" style=\"fill:rgb(242,242,242);stroke-width:1;stroke:rgb(255,255,255)\"/>\n",
       "<polyline points=\"405.66370614359175,60.0 468.4955592153876,60.0 468.4955592153876,20.0 405.66370614359175,20.0 405.66370614359175,60.0\" style=\"fill:rgb(242,242,242);stroke-width:1;stroke:rgb(255,255,255)\"/>\n",
       "<polyline points=\"468.4955592153876,60.0 531.3274122871835,60.0 531.3274122871835,20.0 468.4955592153876,20.0 468.4955592153876,60.0\" style=\"fill:rgb(242,242,242);stroke-width:1;stroke:rgb(255,255,255)\"/>\n",
       "<circle cx=\"280.0\" cy=\"180.0\" r=\"20.0\" style=\"fill:rgb(255,255,255);stroke-width:0;stroke:none\"/>\n",
       "<circle cx=\"190.74674714823473\" cy=\"182.4965020233456\" r=\"2.281573455807062\" style=\"fill:rgb(0,0,0);stroke-width:0;stroke:none\"/>\n",
       "<circle cx=\"159.4282564750173\" cy=\"104.71198844131017\" r=\"7.2911804972702114\" style=\"fill:rgb(0,0,0);stroke-width:0;stroke:none\"/>\n",
       "<circle cx=\"286.41346503208905\" cy=\"77.31834248352396\" r=\"7.333516579468579\" style=\"fill:rgb(0,0,0);stroke-width:0;stroke:none\"/>\n",
       "<circle cx=\"239.26220135353967\" cy=\"139.40202628320583\" r=\"3.932175889614431\" style=\"fill:rgb(0,0,0);stroke-width:0;stroke:none\"/>\n",
       "<circle cx=\"409.7590258914864\" cy=\"118.94420756163586\" r=\"6.435345292243688\" style=\"fill:rgb(0,0,0);stroke-width:0;stroke:none\"/>\n",
       "<circle cx=\"272.3538275476107\" cy=\"105.0564206487507\" r=\"2.0\" style=\"fill:rgb(255,0,0);stroke-width:0;stroke:none\"/>\n",
       "</svg></div>"
      ],
      "text/plain": [
       "<IPython.core.display.HTML object>"
      ]
     },
     "metadata": {},
     "output_type": "display_data"
    }
   ],
   "source": [
    "cnt = 5\n",
    "pts_c = [Point.random(Interval(-3.5,3.5)) for n in range(cnt)]\n",
    "weights = [random.random() for n in range(cnt)]\n",
    "\n",
    "w_sum = sum(weights)\n",
    "x_sum, y_sum = 0,0\n",
    "\n",
    "#### START YOUR WORK HERE ####\n",
    "\n",
    "for pt, weight in zip(pts_c,weights):\n",
    "    x_sum += pt.x * weight\n",
    "    y_sum += pt.y * weight\n",
    "\n",
    "#### END YOUR WORK HERE ####\n",
    "\n",
    "pt_cent = Point( x_sum/w_sum, y_sum/w_sum )    \n",
    "pt_cent.set_color(1,0,0)\n",
    "\n",
    "for n in range(cnt):\n",
    "    pt = pts_c[n]\n",
    "    pt.set_weight(Interval(2,10).eval( weights[n] ) )\n",
    "    out.put(pt)\n",
    "\n",
    "out.put(pt_cent)\n",
    "\n",
    "out.draw()\n",
    "out.clear()"
   ]
  },
  {
   "cell_type": "markdown",
   "metadata": {},
   "source": [
    "## Strings"
   ]
  },
  {
   "cell_type": "markdown",
   "metadata": {},
   "source": [
    "### 104a.09\n",
    "In CNC machining, G-Code is a common file format for defining the movements of numerically-controlled machines. At its most basic, the format is simple: a series of desired positions is described along with an indication of how to move from one place to the next (along with other encoded commands that we won't discuss here). Each line of a G-code file might begin with a descriptor of the desired movement, for example G01 indicates linear interpolation, followed by the x-y coordinates of the desired location.\n",
    "\n",
    "Using the code provided below, ***complete the defining of the G-Code file String `g_code`***. To this end, two corresponding Lists of x- and y- values (converted to Strings) are given, `x_coords` and `y_coords` that describe the intended location of the CNC actuator. Also given is a String `fmt_str` that should be used along with the `format()` method in the construction of individual lines of G-Code.\n",
    "\n",
    "If you're curious, you might note that the `\\n` code creates a new line in text formatting.\n",
    "\n"
   ]
  },
  {
   "cell_type": "code",
   "execution_count": 189,
   "metadata": {},
   "outputs": [
    {
     "name": "stdout",
     "output_type": "stream",
     "text": [
      "['2.000', '1.618', '0.618', '-0.618', '-1.618', '-2.000', '-1.618', '-0.618', '0.618', '1.618']\n",
      "['0.000', '1.763', '2.853', '2.853', '1.763', '0.000', '-1.763', '-2.853', '-2.853', '-1.763']\n",
      "OPEN PROG 1000 CLEAR\n",
      "G01 2.000,0.000\n",
      "G01 1.618,1.763\n",
      "G01 0.618,2.853\n",
      "G01 -0.618,2.853\n",
      "G01 -1.618,1.763\n",
      "G01 -2.000,0.000\n",
      "G01 -1.618,-1.763\n",
      "G01 -0.618,-2.853\n",
      "G01 0.618,-2.853\n",
      "G01 1.618,-1.763\n",
      "CLOSE\n"
     ]
    }
   ],
   "source": [
    "cnt = 10\n",
    "x_coords = ['{:.3f}'.format(2.0*cos(t)) for t in Interval.twopi()/cnt]\n",
    "y_coords = ['{:.3f}'.format(3.0*sin(t)) for t in Interval.twopi()/cnt]\n",
    "print(x_coords)\n",
    "print(y_coords)\n",
    "\n",
    "fmt_str = \"G01 {0},{1}\\n\"\n",
    "g_code = \"OPEN PROG 1000 CLEAR\\n\"\n",
    "\n",
    "#### START YOUR WORK HERE ####\n",
    "\n",
    "for x,y in zip(x_coords, y_coords):\n",
    "    g_code += fmt_str.format(x,y)\n",
    "\n",
    "#### END YOUR WORK HERE ####\n",
    "\n",
    "g_code += \"CLOSE\"\n",
    "print(g_code)"
   ]
  },
  {
   "cell_type": "markdown",
   "metadata": {},
   "source": [
    "## Sorting"
   ]
  },
  {
   "cell_type": "markdown",
   "metadata": {},
   "source": [
    "### 104a.10\n",
    "The decorate-sort-undecorate pattern of code is exceedingly useful in computational geometry for design applications. Use this pattern to solve the following problem.\n",
    "\n",
    "A number of Points that fall around the model origin are given as `pts_unsorted`. Sort these Points by their angle relative to the world x-axis and assign them to the `pts_sorted` variable. Use the `decorated_tups` variable in your process. A routine is given for visualizing the order of a List of Points by color, and may be applied to the Points as given or as resulting."
   ]
  },
  {
   "cell_type": "code",
   "execution_count": 12,
   "metadata": {},
   "outputs": [
    {
     "data": {
      "text/html": [
       "<div style=\"width:560.0px; height:360.0px; box-shadow: 2px 2px 8px 4px #ddd; margin: 8px;\"><svg width=\"560.0\" height=\"360.0\" xmlns=\"http://www.w3.org/2000/svg\" version=\"1.1\">\n",
       "<polyline points=\"28.67258771281655,340.0 91.50444078461243,340.0 91.50444078461243,300.0 28.67258771281655,300.0 28.67258771281655,340.0\" style=\"fill:rgb(242,242,242);stroke-width:1;stroke:rgb(255,255,255)\"/>\n",
       "<polyline points=\"91.50444078461243,340.0 154.33629385640828,340.0 154.33629385640828,300.0 91.50444078461243,300.0 91.50444078461243,340.0\" style=\"fill:rgb(242,242,242);stroke-width:1;stroke:rgb(255,255,255)\"/>\n",
       "<polyline points=\"154.33629385640828,340.0 217.16814692820412,340.0 217.16814692820412,300.0 154.33629385640828,300.0 154.33629385640828,340.0\" style=\"fill:rgb(242,242,242);stroke-width:1;stroke:rgb(255,255,255)\"/>\n",
       "<polyline points=\"217.16814692820412,340.0 280.0,340.0 280.0,300.0 217.16814692820412,300.0 217.16814692820412,340.0\" style=\"fill:rgb(242,242,242);stroke-width:1;stroke:rgb(255,255,255)\"/>\n",
       "<polyline points=\"280.0,340.0 342.8318530717959,340.0 342.8318530717959,300.0 280.0,300.0 280.0,340.0\" style=\"fill:rgb(242,242,242);stroke-width:1;stroke:rgb(255,255,255)\"/>\n",
       "<polyline points=\"342.8318530717959,340.0 405.66370614359175,340.0 405.66370614359175,300.0 342.8318530717959,300.0 342.8318530717959,340.0\" style=\"fill:rgb(242,242,242);stroke-width:1;stroke:rgb(255,255,255)\"/>\n",
       "<polyline points=\"405.66370614359175,340.0 468.4955592153876,340.0 468.4955592153876,300.0 405.66370614359175,300.0 405.66370614359175,340.0\" style=\"fill:rgb(242,242,242);stroke-width:1;stroke:rgb(255,255,255)\"/>\n",
       "<polyline points=\"468.4955592153876,340.0 531.3274122871835,340.0 531.3274122871835,300.0 468.4955592153876,300.0 468.4955592153876,340.0\" style=\"fill:rgb(242,242,242);stroke-width:1;stroke:rgb(255,255,255)\"/>\n",
       "<polyline points=\"28.67258771281655,300.0 91.50444078461243,300.0 91.50444078461243,260.0 28.67258771281655,260.0 28.67258771281655,300.0\" style=\"fill:rgb(242,242,242);stroke-width:1;stroke:rgb(255,255,255)\"/>\n",
       "<polyline points=\"91.50444078461243,300.0 154.33629385640828,300.0 154.33629385640828,260.0 91.50444078461243,260.0 91.50444078461243,300.0\" style=\"fill:rgb(242,242,242);stroke-width:1;stroke:rgb(255,255,255)\"/>\n",
       "<polyline points=\"154.33629385640828,300.0 217.16814692820412,300.0 217.16814692820412,260.0 154.33629385640828,260.0 154.33629385640828,300.0\" style=\"fill:rgb(242,242,242);stroke-width:1;stroke:rgb(255,255,255)\"/>\n",
       "<polyline points=\"217.16814692820412,300.0 280.0,300.0 280.0,260.0 217.16814692820412,260.0 217.16814692820412,300.0\" style=\"fill:rgb(242,242,242);stroke-width:1;stroke:rgb(255,255,255)\"/>\n",
       "<polyline points=\"280.0,300.0 342.8318530717959,300.0 342.8318530717959,260.0 280.0,260.0 280.0,300.0\" style=\"fill:rgb(242,242,242);stroke-width:1;stroke:rgb(255,255,255)\"/>\n",
       "<polyline points=\"342.8318530717959,300.0 405.66370614359175,300.0 405.66370614359175,260.0 342.8318530717959,260.0 342.8318530717959,300.0\" style=\"fill:rgb(242,242,242);stroke-width:1;stroke:rgb(255,255,255)\"/>\n",
       "<polyline points=\"405.66370614359175,300.0 468.4955592153876,300.0 468.4955592153876,260.0 405.66370614359175,260.0 405.66370614359175,300.0\" style=\"fill:rgb(242,242,242);stroke-width:1;stroke:rgb(255,255,255)\"/>\n",
       "<polyline points=\"468.4955592153876,300.0 531.3274122871835,300.0 531.3274122871835,260.0 468.4955592153876,260.0 468.4955592153876,300.0\" style=\"fill:rgb(242,242,242);stroke-width:1;stroke:rgb(255,255,255)\"/>\n",
       "<polyline points=\"28.67258771281655,260.0 91.50444078461243,260.0 91.50444078461243,220.0 28.67258771281655,220.0 28.67258771281655,260.0\" style=\"fill:rgb(242,242,242);stroke-width:1;stroke:rgb(255,255,255)\"/>\n",
       "<polyline points=\"91.50444078461243,260.0 154.33629385640828,260.0 154.33629385640828,220.0 91.50444078461243,220.0 91.50444078461243,260.0\" style=\"fill:rgb(242,242,242);stroke-width:1;stroke:rgb(255,255,255)\"/>\n",
       "<polyline points=\"154.33629385640828,260.0 217.16814692820412,260.0 217.16814692820412,220.0 154.33629385640828,220.0 154.33629385640828,260.0\" style=\"fill:rgb(242,242,242);stroke-width:1;stroke:rgb(255,255,255)\"/>\n",
       "<polyline points=\"217.16814692820412,260.0 280.0,260.0 280.0,220.0 217.16814692820412,220.0 217.16814692820412,260.0\" style=\"fill:rgb(242,242,242);stroke-width:1;stroke:rgb(255,255,255)\"/>\n",
       "<polyline points=\"280.0,260.0 342.8318530717959,260.0 342.8318530717959,220.0 280.0,220.0 280.0,260.0\" style=\"fill:rgb(242,242,242);stroke-width:1;stroke:rgb(255,255,255)\"/>\n",
       "<polyline points=\"342.8318530717959,260.0 405.66370614359175,260.0 405.66370614359175,220.0 342.8318530717959,220.0 342.8318530717959,260.0\" style=\"fill:rgb(242,242,242);stroke-width:1;stroke:rgb(255,255,255)\"/>\n",
       "<polyline points=\"405.66370614359175,260.0 468.4955592153876,260.0 468.4955592153876,220.0 405.66370614359175,220.0 405.66370614359175,260.0\" style=\"fill:rgb(242,242,242);stroke-width:1;stroke:rgb(255,255,255)\"/>\n",
       "<polyline points=\"468.4955592153876,260.0 531.3274122871835,260.0 531.3274122871835,220.0 468.4955592153876,220.0 468.4955592153876,260.0\" style=\"fill:rgb(242,242,242);stroke-width:1;stroke:rgb(255,255,255)\"/>\n",
       "<polyline points=\"28.67258771281655,220.0 91.50444078461243,220.0 91.50444078461243,180.0 28.67258771281655,180.0 28.67258771281655,220.0\" style=\"fill:rgb(242,242,242);stroke-width:1;stroke:rgb(255,255,255)\"/>\n",
       "<polyline points=\"91.50444078461243,220.0 154.33629385640828,220.0 154.33629385640828,180.0 91.50444078461243,180.0 91.50444078461243,220.0\" style=\"fill:rgb(242,242,242);stroke-width:1;stroke:rgb(255,255,255)\"/>\n",
       "<polyline points=\"154.33629385640828,220.0 217.16814692820412,220.0 217.16814692820412,180.0 154.33629385640828,180.0 154.33629385640828,220.0\" style=\"fill:rgb(242,242,242);stroke-width:1;stroke:rgb(255,255,255)\"/>\n",
       "<polyline points=\"217.16814692820412,220.0 280.0,220.0 280.0,180.0 217.16814692820412,180.0 217.16814692820412,220.0\" style=\"fill:rgb(242,242,242);stroke-width:1;stroke:rgb(255,255,255)\"/>\n",
       "<polyline points=\"280.0,220.0 342.8318530717959,220.0 342.8318530717959,180.0 280.0,180.0 280.0,220.0\" style=\"fill:rgb(242,242,242);stroke-width:1;stroke:rgb(255,255,255)\"/>\n",
       "<polyline points=\"342.8318530717959,220.0 405.66370614359175,220.0 405.66370614359175,180.0 342.8318530717959,180.0 342.8318530717959,220.0\" style=\"fill:rgb(242,242,242);stroke-width:1;stroke:rgb(255,255,255)\"/>\n",
       "<polyline points=\"405.66370614359175,220.0 468.4955592153876,220.0 468.4955592153876,180.0 405.66370614359175,180.0 405.66370614359175,220.0\" style=\"fill:rgb(242,242,242);stroke-width:1;stroke:rgb(255,255,255)\"/>\n",
       "<polyline points=\"468.4955592153876,220.0 531.3274122871835,220.0 531.3274122871835,180.0 468.4955592153876,180.0 468.4955592153876,220.0\" style=\"fill:rgb(242,242,242);stroke-width:1;stroke:rgb(255,255,255)\"/>\n",
       "<polyline points=\"28.67258771281655,180.0 91.50444078461243,180.0 91.50444078461243,140.0 28.67258771281655,140.0 28.67258771281655,180.0\" style=\"fill:rgb(242,242,242);stroke-width:1;stroke:rgb(255,255,255)\"/>\n",
       "<polyline points=\"91.50444078461243,180.0 154.33629385640828,180.0 154.33629385640828,140.0 91.50444078461243,140.0 91.50444078461243,180.0\" style=\"fill:rgb(242,242,242);stroke-width:1;stroke:rgb(255,255,255)\"/>\n",
       "<polyline points=\"154.33629385640828,180.0 217.16814692820412,180.0 217.16814692820412,140.0 154.33629385640828,140.0 154.33629385640828,180.0\" style=\"fill:rgb(242,242,242);stroke-width:1;stroke:rgb(255,255,255)\"/>\n",
       "<polyline points=\"217.16814692820412,180.0 280.0,180.0 280.0,140.0 217.16814692820412,140.0 217.16814692820412,180.0\" style=\"fill:rgb(242,242,242);stroke-width:1;stroke:rgb(255,255,255)\"/>\n",
       "<polyline points=\"280.0,180.0 342.8318530717959,180.0 342.8318530717959,140.0 280.0,140.0 280.0,180.0\" style=\"fill:rgb(242,242,242);stroke-width:1;stroke:rgb(255,255,255)\"/>\n",
       "<polyline points=\"342.8318530717959,180.0 405.66370614359175,180.0 405.66370614359175,140.0 342.8318530717959,140.0 342.8318530717959,180.0\" style=\"fill:rgb(242,242,242);stroke-width:1;stroke:rgb(255,255,255)\"/>\n",
       "<polyline points=\"405.66370614359175,180.0 468.4955592153876,180.0 468.4955592153876,140.0 405.66370614359175,140.0 405.66370614359175,180.0\" style=\"fill:rgb(242,242,242);stroke-width:1;stroke:rgb(255,255,255)\"/>\n",
       "<polyline points=\"468.4955592153876,180.0 531.3274122871835,180.0 531.3274122871835,140.0 468.4955592153876,140.0 468.4955592153876,180.0\" style=\"fill:rgb(242,242,242);stroke-width:1;stroke:rgb(255,255,255)\"/>\n",
       "<polyline points=\"28.67258771281655,140.0 91.50444078461243,140.0 91.50444078461243,100.0 28.67258771281655,100.0 28.67258771281655,140.0\" style=\"fill:rgb(242,242,242);stroke-width:1;stroke:rgb(255,255,255)\"/>\n",
       "<polyline points=\"91.50444078461243,140.0 154.33629385640828,140.0 154.33629385640828,100.0 91.50444078461243,100.0 91.50444078461243,140.0\" style=\"fill:rgb(242,242,242);stroke-width:1;stroke:rgb(255,255,255)\"/>\n",
       "<polyline points=\"154.33629385640828,140.0 217.16814692820412,140.0 217.16814692820412,100.0 154.33629385640828,100.0 154.33629385640828,140.0\" style=\"fill:rgb(242,242,242);stroke-width:1;stroke:rgb(255,255,255)\"/>\n",
       "<polyline points=\"217.16814692820412,140.0 280.0,140.0 280.0,100.0 217.16814692820412,100.0 217.16814692820412,140.0\" style=\"fill:rgb(242,242,242);stroke-width:1;stroke:rgb(255,255,255)\"/>\n",
       "<polyline points=\"280.0,140.0 342.8318530717959,140.0 342.8318530717959,100.0 280.0,100.0 280.0,140.0\" style=\"fill:rgb(242,242,242);stroke-width:1;stroke:rgb(255,255,255)\"/>\n",
       "<polyline points=\"342.8318530717959,140.0 405.66370614359175,140.0 405.66370614359175,100.0 342.8318530717959,100.0 342.8318530717959,140.0\" style=\"fill:rgb(242,242,242);stroke-width:1;stroke:rgb(255,255,255)\"/>\n",
       "<polyline points=\"405.66370614359175,140.0 468.4955592153876,140.0 468.4955592153876,100.0 405.66370614359175,100.0 405.66370614359175,140.0\" style=\"fill:rgb(242,242,242);stroke-width:1;stroke:rgb(255,255,255)\"/>\n",
       "<polyline points=\"468.4955592153876,140.0 531.3274122871835,140.0 531.3274122871835,100.0 468.4955592153876,100.0 468.4955592153876,140.0\" style=\"fill:rgb(242,242,242);stroke-width:1;stroke:rgb(255,255,255)\"/>\n",
       "<polyline points=\"28.67258771281655,100.0 91.50444078461243,100.0 91.50444078461243,60.0 28.67258771281655,60.0 28.67258771281655,100.0\" style=\"fill:rgb(242,242,242);stroke-width:1;stroke:rgb(255,255,255)\"/>\n",
       "<polyline points=\"91.50444078461243,100.0 154.33629385640828,100.0 154.33629385640828,60.0 91.50444078461243,60.0 91.50444078461243,100.0\" style=\"fill:rgb(242,242,242);stroke-width:1;stroke:rgb(255,255,255)\"/>\n",
       "<polyline points=\"154.33629385640828,100.0 217.16814692820412,100.0 217.16814692820412,60.0 154.33629385640828,60.0 154.33629385640828,100.0\" style=\"fill:rgb(242,242,242);stroke-width:1;stroke:rgb(255,255,255)\"/>\n",
       "<polyline points=\"217.16814692820412,100.0 280.0,100.0 280.0,60.0 217.16814692820412,60.0 217.16814692820412,100.0\" style=\"fill:rgb(242,242,242);stroke-width:1;stroke:rgb(255,255,255)\"/>\n",
       "<polyline points=\"280.0,100.0 342.8318530717959,100.0 342.8318530717959,60.0 280.0,60.0 280.0,100.0\" style=\"fill:rgb(242,242,242);stroke-width:1;stroke:rgb(255,255,255)\"/>\n",
       "<polyline points=\"342.8318530717959,100.0 405.66370614359175,100.0 405.66370614359175,60.0 342.8318530717959,60.0 342.8318530717959,100.0\" style=\"fill:rgb(242,242,242);stroke-width:1;stroke:rgb(255,255,255)\"/>\n",
       "<polyline points=\"405.66370614359175,100.0 468.4955592153876,100.0 468.4955592153876,60.0 405.66370614359175,60.0 405.66370614359175,100.0\" style=\"fill:rgb(242,242,242);stroke-width:1;stroke:rgb(255,255,255)\"/>\n",
       "<polyline points=\"468.4955592153876,100.0 531.3274122871835,100.0 531.3274122871835,60.0 468.4955592153876,60.0 468.4955592153876,100.0\" style=\"fill:rgb(242,242,242);stroke-width:1;stroke:rgb(255,255,255)\"/>\n",
       "<polyline points=\"28.67258771281655,60.0 91.50444078461243,60.0 91.50444078461243,20.0 28.67258771281655,20.0 28.67258771281655,60.0\" style=\"fill:rgb(242,242,242);stroke-width:1;stroke:rgb(255,255,255)\"/>\n",
       "<polyline points=\"91.50444078461243,60.0 154.33629385640828,60.0 154.33629385640828,20.0 91.50444078461243,20.0 91.50444078461243,60.0\" style=\"fill:rgb(242,242,242);stroke-width:1;stroke:rgb(255,255,255)\"/>\n",
       "<polyline points=\"154.33629385640828,60.0 217.16814692820412,60.0 217.16814692820412,20.0 154.33629385640828,20.0 154.33629385640828,60.0\" style=\"fill:rgb(242,242,242);stroke-width:1;stroke:rgb(255,255,255)\"/>\n",
       "<polyline points=\"217.16814692820412,60.0 280.0,60.0 280.0,20.0 217.16814692820412,20.0 217.16814692820412,60.0\" style=\"fill:rgb(242,242,242);stroke-width:1;stroke:rgb(255,255,255)\"/>\n",
       "<polyline points=\"280.0,60.0 342.8318530717959,60.0 342.8318530717959,20.0 280.0,20.0 280.0,60.0\" style=\"fill:rgb(242,242,242);stroke-width:1;stroke:rgb(255,255,255)\"/>\n",
       "<polyline points=\"342.8318530717959,60.0 405.66370614359175,60.0 405.66370614359175,20.0 342.8318530717959,20.0 342.8318530717959,60.0\" style=\"fill:rgb(242,242,242);stroke-width:1;stroke:rgb(255,255,255)\"/>\n",
       "<polyline points=\"405.66370614359175,60.0 468.4955592153876,60.0 468.4955592153876,20.0 405.66370614359175,20.0 405.66370614359175,60.0\" style=\"fill:rgb(242,242,242);stroke-width:1;stroke:rgb(255,255,255)\"/>\n",
       "<polyline points=\"468.4955592153876,60.0 531.3274122871835,60.0 531.3274122871835,20.0 468.4955592153876,20.0 468.4955592153876,60.0\" style=\"fill:rgb(242,242,242);stroke-width:1;stroke:rgb(255,255,255)\"/>\n",
       "<circle cx=\"280.0\" cy=\"180.0\" r=\"20.0\" style=\"fill:rgb(255,255,255);stroke-width:0;stroke:none\"/>\n",
       "<circle cx=\"351.4091337667841\" cy=\"180.00171297701718\" r=\"2.0\" style=\"fill:rgb(255,0,0);stroke-width:0;stroke:none\"/>\n",
       "<circle cx=\"307.2689433396408\" cy=\"182.175597388242\" r=\"2.0\" style=\"fill:rgb(252,2,2);stroke-width:0;stroke:none\"/>\n",
       "<circle cx=\"317.60837838507433\" cy=\"176.20212191675515\" r=\"2.0\" style=\"fill:rgb(249,5,5);stroke-width:0;stroke:none\"/>\n",
       "<circle cx=\"332.04912002948043\" cy=\"172.13309370193645\" r=\"2.0\" style=\"fill:rgb(247,7,7);stroke-width:0;stroke:none\"/>\n",
       "<circle cx=\"396.8516595696892\" cy=\"199.09937410688025\" r=\"2.0\" style=\"fill:rgb(244,10,10);stroke-width:0;stroke:none\"/>\n",
       "<circle cx=\"375.58121680026926\" cy=\"159.18726755000827\" r=\"2.0\" style=\"fill:rgb(242,12,12);stroke-width:0;stroke:none\"/>\n",
       "<circle cx=\"307.62860787490865\" cy=\"172.6553598409526\" r=\"2.0\" style=\"fill:rgb(239,15,15);stroke-width:0;stroke:none\"/>\n",
       "<circle cx=\"351.33713955472547\" cy=\"199.49557012371898\" r=\"2.0\" style=\"fill:rgb(237,17,17);stroke-width:0;stroke:none\"/>\n",
       "<circle cx=\"394.082761310942\" cy=\"146.3180612043475\" r=\"2.0\" style=\"fill:rgb(234,20,20);stroke-width:0;stroke:none\"/>\n",
       "<circle cx=\"372.0614259160329\" cy=\"151.95732468390992\" r=\"2.0\" style=\"fill:rgb(232,22,22);stroke-width:0;stroke:none\"/>\n",
       "<circle cx=\"318.333398508988\" cy=\"192.63341892997616\" r=\"2.0\" style=\"fill:rgb(229,25,25);stroke-width:0;stroke:none\"/>\n",
       "<circle cx=\"381.0173230749348\" cy=\"134.86196085400422\" r=\"2.0\" style=\"fill:rgb(226,28,28);stroke-width:0;stroke:none\"/>\n",
       "<circle cx=\"331.46946618695415\" cy=\"204.97657798251032\" r=\"2.0\" style=\"fill:rgb(224,30,30);stroke-width:0;stroke:none\"/>\n",
       "<circle cx=\"393.11327843877973\" cy=\"235.06517139144296\" r=\"2.0\" style=\"fill:rgb(221,33,33);stroke-width:0;stroke:none\"/>\n",
       "<circle cx=\"350.0178202759538\" cy=\"138.41377838434096\" r=\"2.0\" style=\"fill:rgb(219,35,35);stroke-width:0;stroke:none\"/>\n",
       "<circle cx=\"326.3852159229867\" cy=\"207.67416841934985\" r=\"2.0\" style=\"fill:rgb(216,38,38);stroke-width:0;stroke:none\"/>\n",
       "<circle cx=\"382.76356570551565\" cy=\"242.45253237629294\" r=\"2.0\" style=\"fill:rgb(214,40,40);stroke-width:0;stroke:none\"/>\n",
       "<circle cx=\"389.10739159995285\" cy=\"107.54994644589874\" r=\"2.0\" style=\"fill:rgb(211,43,43);stroke-width:0;stroke:none\"/>\n",
       "<circle cx=\"373.2627625347858\" cy=\"245.67617468701508\" r=\"2.0\" style=\"fill:rgb(209,45,45);stroke-width:0;stroke:none\"/>\n",
       "<circle cx=\"314.35661577284736\" cy=\"205.5384829720474\" r=\"2.0\" style=\"fill:rgb(206,48,48);stroke-width:0;stroke:none\"/>\n",
       "<circle cx=\"326.9125944768998\" cy=\"141.0425490387411\" r=\"2.0\" style=\"fill:rgb(204,51,51);stroke-width:0;stroke:none\"/>\n",
       "<circle cx=\"380.7286554872203\" cy=\"266.0687979676852\" r=\"2.0\" style=\"fill:rgb(201,53,53);stroke-width:0;stroke:none\"/>\n",
       "<circle cx=\"329.6264310451193\" cy=\"224.4448102872717\" r=\"2.0\" style=\"fill:rgb(198,56,56);stroke-width:0;stroke:none\"/>\n",
       "<circle cx=\"320.2690437023098\" cy=\"143.8353305648987\" r=\"2.0\" style=\"fill:rgb(196,58,58);stroke-width:0;stroke:none\"/>\n",
       "<circle cx=\"309.4655627355893\" cy=\"206.77171465331736\" r=\"2.0\" style=\"fill:rgb(193,61,61);stroke-width:0;stroke:none\"/>\n",
       "<circle cx=\"371.1427931376112\" cy=\"263.7491951966688\" r=\"2.0\" style=\"fill:rgb(191,63,63);stroke-width:0;stroke:none\"/>\n",
       "<circle cx=\"376.16118279593485\" cy=\"271.4680537996261\" r=\"2.0\" style=\"fill:rgb(188,66,66);stroke-width:0;stroke:none\"/>\n",
       "<circle cx=\"337.0639387933452\" cy=\"235.98266768349168\" r=\"2.0\" style=\"fill:rgb(186,68,68);stroke-width:0;stroke:none\"/>\n",
       "<circle cx=\"363.1840929475944\" cy=\"271.19970856522826\" r=\"2.0\" style=\"fill:rgb(183,71,71);stroke-width:0;stroke:none\"/>\n",
       "<circle cx=\"373.78852320123843\" cy=\"291.64657474199385\" r=\"2.0\" style=\"fill:rgb(181,73,73);stroke-width:0;stroke:none\"/>\n",
       "<circle cx=\"304.93256616419774\" cy=\"149.70630149356143\" r=\"2.0\" style=\"fill:rgb(178,76,76);stroke-width:0;stroke:none\"/>\n",
       "<circle cx=\"364.2350825456844\" cy=\"283.5285091570598\" r=\"2.0\" style=\"fill:rgb(175,79,79);stroke-width:0;stroke:none\"/>\n",
       "<circle cx=\"347.81847564559985\" cy=\"94.56470772581099\" r=\"2.0\" style=\"fill:rgb(173,81,81);stroke-width:0;stroke:none\"/>\n",
       "<circle cx=\"367.99069229327563\" cy=\"60.42506792364108\" r=\"2.0\" style=\"fill:rgb(170,84,84);stroke-width:0;stroke:none\"/>\n",
       "<circle cx=\"358.38954126914473\" cy=\"286.89074723691874\" r=\"2.0\" style=\"fill:rgb(168,86,86);stroke-width:0;stroke:none\"/>\n",
       "<circle cx=\"326.9951162710436\" cy=\"102.63273317116474\" r=\"2.0\" style=\"fill:rgb(165,89,89);stroke-width:0;stroke:none\"/>\n",
       "<circle cx=\"325.79752569119313\" cy=\"94.6773332644315\" r=\"2.0\" style=\"fill:rgb(163,91,91);stroke-width:0;stroke:none\"/>\n",
       "<circle cx=\"331.74247971888883\" cy=\"80.66384162201504\" r=\"2.0\" style=\"fill:rgb(160,94,94);stroke-width:0;stroke:none\"/>\n",
       "<circle cx=\"339.58101021295596\" cy=\"299.87426177336863\" r=\"2.0\" style=\"fill:rgb(158,96,96);stroke-width:0;stroke:none\"/>\n",
       "<circle cx=\"300.3750828279685\" cy=\"222.22457674879632\" r=\"2.0\" style=\"fill:rgb(155,99,99);stroke-width:0;stroke:none\"/>\n",
       "<circle cx=\"328.9825559722805\" cy=\"78.08800649750341\" r=\"2.0\" style=\"fill:rgb(153,102,102);stroke-width:0;stroke:none\"/>\n",
       "<circle cx=\"331.11553317162736\" cy=\"64.25291858978802\" r=\"2.0\" style=\"fill:rgb(150,104,104);stroke-width:0;stroke:none\"/>\n",
       "<circle cx=\"290.9056940240385\" cy=\"272.85225262248986\" r=\"2.0\" style=\"fill:rgb(147,107,107);stroke-width:0;stroke:none\"/>\n",
       "<circle cx=\"290.24957037799487\" cy=\"279.5655476146618\" r=\"2.0\" style=\"fill:rgb(145,109,109);stroke-width:0;stroke:none\"/>\n",
       "<circle cx=\"287.2191455628438\" cy=\"61.28161321917301\" r=\"2.0\" style=\"fill:rgb(142,112,112);stroke-width:0;stroke:none\"/>\n",
       "<circle cx=\"276.063345336098\" cy=\"88.44267192808076\" r=\"2.0\" style=\"fill:rgb(140,114,114);stroke-width:0;stroke:none\"/>\n",
       "<circle cx=\"274.6518752409643\" cy=\"80.7572311608866\" r=\"2.0\" style=\"fill:rgb(137,117,117);stroke-width:0;stroke:none\"/>\n",
       "<circle cx=\"275.04045030277655\" cy=\"270.6663726252355\" r=\"2.0\" style=\"fill:rgb(135,119,119);stroke-width:0;stroke:none\"/>\n",
       "<circle cx=\"269.0769693094765\" cy=\"258.53740134372686\" r=\"2.0\" style=\"fill:rgb(132,122,122);stroke-width:0;stroke:none\"/>\n",
       "<circle cx=\"264.51597565253104\" cy=\"74.23254827026227\" r=\"2.0\" style=\"fill:rgb(130,124,124);stroke-width:0;stroke:none\"/>\n",
       "<circle cx=\"271.5488786662356\" cy=\"124.0859500570128\" r=\"2.0\" style=\"fill:rgb(127,127,127);stroke-width:0;stroke:none\"/>\n",
       "<circle cx=\"263.3455830533195\" cy=\"258.0301381604207\" r=\"2.0\" style=\"fill:rgb(124,130,130);stroke-width:0;stroke:none\"/>\n",
       "<circle cx=\"272.68148341184013\" cy=\"148.16850979592857\" r=\"2.0\" style=\"fill:rgb(122,132,132);stroke-width:0;stroke:none\"/>\n",
       "<circle cx=\"276.0404170086465\" cy=\"191.5511810506568\" r=\"2.0\" style=\"fill:rgb(119,135,135);stroke-width:0;stroke:none\"/>\n",
       "<circle cx=\"239.47450303281286\" cy=\"294.33556930994746\" r=\"2.0\" style=\"fill:rgb(117,137,137);stroke-width:0;stroke:none\"/>\n",
       "<circle cx=\"250.7430078265474\" cy=\"254.1046121947429\" r=\"2.0\" style=\"fill:rgb(114,140,140);stroke-width:0;stroke:none\"/>\n",
       "<circle cx=\"245.97173915748505\" cy=\"258.53269007229557\" r=\"2.0\" style=\"fill:rgb(112,142,142);stroke-width:0;stroke:none\"/>\n",
       "<circle cx=\"234.21140129222272\" cy=\"283.6841506237744\" r=\"2.0\" style=\"fill:rgb(109,145,145);stroke-width:0;stroke:none\"/>\n",
       "<circle cx=\"223.07410965771624\" cy=\"72.77083269113066\" r=\"2.0\" style=\"fill:rgb(107,147,147);stroke-width:0;stroke:none\"/>\n",
       "<circle cx=\"224.24173884345487\" cy=\"284.05061622401627\" r=\"2.0\" style=\"fill:rgb(104,150,150);stroke-width:0;stroke:none\"/>\n",
       "<circle cx=\"251.54567449525547\" cy=\"128.41876952680911\" r=\"2.0\" style=\"fill:rgb(102,153,153);stroke-width:0;stroke:none\"/>\n",
       "<circle cx=\"246.6123236488816\" cy=\"239.23724191629987\" r=\"2.0\" style=\"fill:rgb(99,155,155);stroke-width:0;stroke:none\"/>\n",
       "<circle cx=\"236.21672804945138\" cy=\"252.2673137976215\" r=\"2.0\" style=\"fill:rgb(96,158,158);stroke-width:0;stroke:none\"/>\n",
       "<circle cx=\"219.20478640706722\" cy=\"87.49237312338548\" r=\"2.0\" style=\"fill:rgb(94,160,160);stroke-width:0;stroke:none\"/>\n",
       "<circle cx=\"204.45758319983332\" cy=\"288.89413504199524\" r=\"2.0\" style=\"fill:rgb(91,163,163);stroke-width:0;stroke:none\"/>\n",
       "<circle cx=\"199.2946241072987\" cy=\"77.24034766493983\" r=\"2.0\" style=\"fill:rgb(89,165,165);stroke-width:0;stroke:none\"/>\n",
       "<circle cx=\"204.06706274841468\" cy=\"276.48168193321294\" r=\"2.0\" style=\"fill:rgb(86,168,168);stroke-width:0;stroke:none\"/>\n",
       "<circle cx=\"215.62297218583396\" cy=\"99.3304997832346\" r=\"2.0\" style=\"fill:rgb(84,170,170);stroke-width:0;stroke:none\"/>\n",
       "<circle cx=\"194.2885820509899\" cy=\"281.00908749134777\" r=\"2.0\" style=\"fill:rgb(81,173,173);stroke-width:0;stroke:none\"/>\n",
       "<circle cx=\"190.4344509475803\" cy=\"280.75022981839874\" r=\"2.0\" style=\"fill:rgb(79,175,175);stroke-width:0;stroke:none\"/>\n",
       "<circle cx=\"243.331374651643\" cy=\"220.8062824168121\" r=\"2.0\" style=\"fill:rgb(76,178,178);stroke-width:0;stroke:none\"/>\n",
       "<circle cx=\"175.2136942509184\" cy=\"296.5115928872766\" r=\"2.0\" style=\"fill:rgb(73,181,181);stroke-width:0;stroke:none\"/>\n",
       "<circle cx=\"226.7117068629865\" cy=\"231.15519396521492\" r=\"2.0\" style=\"fill:rgb(71,183,183);stroke-width:0;stroke:none\"/>\n",
       "<circle cx=\"221.4520535251646\" cy=\"127.49815474548413\" r=\"2.0\" style=\"fill:rgb(68,186,186);stroke-width:0;stroke:none\"/>\n",
       "<circle cx=\"240.9181482068452\" cy=\"145.4651786537181\" r=\"2.0\" style=\"fill:rgb(66,188,188);stroke-width:0;stroke:none\"/>\n",
       "<circle cx=\"220.96641885719674\" cy=\"225.88094075313154\" r=\"2.0\" style=\"fill:rgb(63,191,191);stroke-width:0;stroke:none\"/>\n",
       "<circle cx=\"167.07384360575077\" cy=\"264.8773138243308\" r=\"2.0\" style=\"fill:rgb(61,193,193);stroke-width:0;stroke:none\"/>\n",
       "<circle cx=\"162.7418254957413\" cy=\"92.39113123158347\" r=\"2.0\" style=\"fill:rgb(58,196,196);stroke-width:0;stroke:none\"/>\n",
       "<circle cx=\"226.05523352186884\" cy=\"140.6275416915591\" r=\"2.0\" style=\"fill:rgb(56,198,198);stroke-width:0;stroke:none\"/>\n",
       "<circle cx=\"175.93045027296398\" cy=\"106.23782182242458\" r=\"2.0\" style=\"fill:rgb(53,201,201);stroke-width:0;stroke:none\"/>\n",
       "<circle cx=\"182.16688991972606\" cy=\"112.9420535675358\" r=\"2.0\" style=\"fill:rgb(50,204,204);stroke-width:0;stroke:none\"/>\n",
       "<circle cx=\"221.17882694676743\" cy=\"144.6496456249232\" r=\"2.0\" style=\"fill:rgb(48,206,206);stroke-width:0;stroke:none\"/>\n",
       "<circle cx=\"237.06010286138536\" cy=\"205.32709302643485\" r=\"2.0\" style=\"fill:rgb(45,209,209);stroke-width:0;stroke:none\"/>\n",
       "<circle cx=\"253.40235094613345\" cy=\"164.45995453184204\" r=\"2.0\" style=\"fill:rgb(43,211,211);stroke-width:0;stroke:none\"/>\n",
       "<circle cx=\"230.15308805258928\" cy=\"206.8730611146623\" r=\"2.0\" style=\"fill:rgb(40,214,214);stroke-width:0;stroke:none\"/>\n",
       "<circle cx=\"256.257284461529\" cy=\"192.79285002906767\" r=\"2.0\" style=\"fill:rgb(38,216,216);stroke-width:0;stroke:none\"/>\n",
       "<circle cx=\"176.60199787658286\" cy=\"129.28019336891893\" r=\"2.0\" style=\"fill:rgb(35,219,219);stroke-width:0;stroke:none\"/>\n",
       "<circle cx=\"174.22885621925363\" cy=\"228.64429546744987\" r=\"2.0\" style=\"fill:rgb(33,221,221);stroke-width:0;stroke:none\"/>\n",
       "<circle cx=\"186.70660756582402\" cy=\"140.24120684764904\" r=\"2.0\" style=\"fill:rgb(30,224,224);stroke-width:0;stroke:none\"/>\n",
       "<circle cx=\"173.74738202155356\" cy=\"137.77624550327758\" r=\"2.0\" style=\"fill:rgb(28,226,226);stroke-width:0;stroke:none\"/>\n",
       "<circle cx=\"164.51267842443235\" cy=\"139.92709216185386\" r=\"2.0\" style=\"fill:rgb(25,229,229);stroke-width:0;stroke:none\"/>\n",
       "<circle cx=\"197.643845987867\" cy=\"154.1635652027506\" r=\"2.0\" style=\"fill:rgb(22,232,232);stroke-width:0;stroke:none\"/>\n",
       "<circle cx=\"173.05798908640887\" cy=\"210.3390469094354\" r=\"2.0\" style=\"fill:rgb(20,234,234);stroke-width:0;stroke:none\"/>\n",
       "<circle cx=\"160.66293877529802\" cy=\"151.30926889760678\" r=\"2.0\" style=\"fill:rgb(17,237,237);stroke-width:0;stroke:none\"/>\n",
       "<circle cx=\"187.15826425976772\" cy=\"193.4839120809325\" r=\"2.0\" style=\"fill:rgb(15,239,239);stroke-width:0;stroke:none\"/>\n",
       "<circle cx=\"207.83999873356433\" cy=\"189.87604660688677\" r=\"2.0\" style=\"fill:rgb(12,242,242);stroke-width:0;stroke:none\"/>\n",
       "<circle cx=\"193.72049156366148\" cy=\"185.95828906584327\" r=\"2.0\" style=\"fill:rgb(10,244,244);stroke-width:0;stroke:none\"/>\n",
       "<circle cx=\"189.151519503719\" cy=\"186.05181414900258\" r=\"2.0\" style=\"fill:rgb(7,247,247);stroke-width:0;stroke:none\"/>\n",
       "<circle cx=\"201.17948427095962\" cy=\"175.4005173542926\" r=\"2.0\" style=\"fill:rgb(5,249,249);stroke-width:0;stroke:none\"/>\n",
       "<circle cx=\"229.7377419397533\" cy=\"180.1451742258716\" r=\"2.0\" style=\"fill:rgb(2,252,252);stroke-width:0;stroke:none\"/>\n",
       "</svg></div>"
      ],
      "text/plain": [
       "<IPython.core.display.HTML object>"
      ]
     },
     "metadata": {},
     "output_type": "display_data"
    }
   ],
   "source": [
    "# the following construction is termed a 'list comprehension'.\n",
    "# We'll know more about this soon. For now we can just accept\n",
    "# that a collection of Points at random location is defined. \n",
    "pts_unsorted = [Point.random(Interval(-3,3),True) for n in range(100)]\n",
    "pts_sorted = []\n",
    "\n",
    "#### START YOUR WORK HERE ####\n",
    "decorated_tups = []\n",
    "\n",
    "for pt in pts_unsorted: \n",
    "    # each tuple pairs a numeric angle with a related Point\n",
    "    decorated_tups.append( (Vec(pt).angle(Vec.ux()), pt) ) \n",
    "\n",
    "#the tuples are sorted by their first value\n",
    "decorated_tups.sort()\n",
    "\n",
    "# the list of tuples is 'unpacked' to a regular list of points\n",
    "for tup in decorated_tups : \n",
    "    pts_sorted.append(tup[1])\n",
    "\n",
    "\n",
    "# change this assignment to pts_sorted to see the results of your sort\n",
    "pts_to_visualize = pts_sorted\n",
    "#### END YOUR WORK HERE ####\n",
    "\n",
    "# what follows is a routine for visualizing the order of a List of Points.\n",
    "# it's okay if you don't understand all this.\n",
    "ca,cb = Color(1,0,0), Color(0,1,1)\n",
    "for n, pt in enumerate(pts_to_visualize): pt.set_color( Color.interpolate( ca,cb,n/len(pts_to_visualize) ) )\n",
    "out.put(pts_to_visualize)\n",
    "out.draw()\n",
    "out.clear()"
   ]
  },
  {
   "cell_type": "code",
   "execution_count": null,
   "metadata": {},
   "outputs": [],
   "source": []
  }
 ],
 "metadata": {
  "kernelspec": {
   "display_name": "Python 3",
   "language": "python",
   "name": "python3"
  },
  "language_info": {
   "codemirror_mode": {
    "name": "ipython",
    "version": 3
   },
   "file_extension": ".py",
   "mimetype": "text/x-python",
   "name": "python",
   "nbconvert_exporter": "python",
   "pygments_lexer": "ipython3",
   "version": "3.6.4"
  }
 },
 "nbformat": 4,
 "nbformat_minor": 2
}
