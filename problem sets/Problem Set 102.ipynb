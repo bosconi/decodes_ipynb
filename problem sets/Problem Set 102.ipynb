{
 "cells": [
  {
   "cell_type": "markdown",
   "metadata": {},
   "source": [
    "# Problem Set 102\n",
    "\n",
    "Complete the problems described below.\n",
    "\n",
    "Submit your work via email. A special email address has been setup for this purpose, and you can attach whatever files are appropriate to any mail sent to the address below. So I can tell which files below to whom, please **title all submitted files as**:\n",
    "\n",
    "    LASTNAME firstname.py\n",
    "\n",
    "Submit this file to the class file submission email:\n",
    "\n",
    "    SUBMITT.6g9n8dakvpw0bkft@u.box.com\n",
    "    \n",
    "For one or more of the problems described below, a drawing or series of drawings is required. These may be completed digitally (in Illustrator or similar) or by hand (in pencil or similar, then scanned). Please submit a single **multi-page** PDF (one page per problem) to the problem set submission email address."
   ]
  },
  {
   "cell_type": "code",
   "execution_count": null,
   "metadata": {},
   "outputs": [],
   "source": [
    "from decodes.core import *"
   ]
  },
  {
   "cell_type": "markdown",
   "metadata": {},
   "source": [
    "## Objects and Types\n"
   ]
  },
  {
   "cell_type": "markdown",
   "metadata": {},
   "source": [
    "### 102.01\n",
    "\n",
    "As discussed in **Chapter 1.02**, object diagrams allow us to visualize structures of data. A specific language of object diagrams is used in the text, and is detailed in terms of how **members**, **methods**, **properties**, and **superclasses** are represented. Based on this, draw an object diagram for each of the objects described below.\n",
    "\n",
    "A ***`Car`*** has an `engine`, a `color`, a `steering wheel`, a `velocity`, and a set of `tires`. An instance of a car is able to start (via `car.start()`) and accelerate (via `car.accelerate(speed)`).\n",
    "\n",
    "\n",
    "A ***`Monkey`*** is a special type of `Animal`. Every instance of an `Animal` has `eyes`, and can `walk` via `animal.walk()`. Every instance of a `Monkey` has a `tail`, and can wag its tail via `monkey.wag()`."
   ]
  },
  {
   "cell_type": "markdown",
   "metadata": {},
   "source": [
    "## The Python Object Model\n",
    "Following along in the appropriate section of Chapter 1.02, complete the following small tasks.\n"
   ]
  },
  {
   "cell_type": "markdown",
   "metadata": {},
   "source": [
    "### 102.02\n",
    "Assign the variable `x_coord` to the ***x-coordinate*** of the midpoint of the given `Segment`. You may be interested to know that a `Segment` holds a property `midpoint`.\n",
    "\n",
    "Complete this code such that it will work perfectly well given any Segment `seg`."
   ]
  },
  {
   "cell_type": "code",
   "execution_count": null,
   "metadata": {},
   "outputs": [],
   "source": [
    "seg = Segment(Point(0,0,0), Point(0,0,1))\n",
    "x_coord = ??"
   ]
  },
  {
   "cell_type": "markdown",
   "metadata": {},
   "source": [
    "### 102.03\n",
    "\n",
    "You wouldn't know this yet, but a Decodes `Plane` is a special type of `Geometry` that holds an `origin` of type `Point` and a `normal` of type `Vec`. Knowing what we already do about the ways `Point` and `Vec` objects can interact, modify the following code in order to assign to the variable `pt_mod` to a `Point` that lies some distance away from the `origin` of the given Plane `pln` in the direction of the `normal` of this Plane. The distance of this translation does not matter.\n",
    "\n",
    "Complete this code such that it will work perfectly well given any Plane `pln`."
   ]
  },
  {
   "cell_type": "code",
   "execution_count": null,
   "metadata": {},
   "outputs": [],
   "source": [
    "pln = Plane()\n",
    "pt_mod = ??"
   ]
  },
  {
   "cell_type": "markdown",
   "metadata": {},
   "source": [
    "## Expressions and Statements\n",
    "\n",
    "Following the sample decomposition provided in the text, and adhering to the evaluation order articulated there, produce a series of diagrams that describe step-by-step the decomposition of the following statements. \n",
    "\n",
    "Include your diagrams in the single **multi-page** PDF prepared for this problem set. Remember, one page per problem, so the each of the step-by-step decompositions should appear on their own page."
   ]
  },
  {
   "cell_type": "markdown",
   "metadata": {},
   "source": [
    "### 102.04"
   ]
  },
  {
   "cell_type": "code",
   "execution_count": null,
   "metadata": {},
   "outputs": [],
   "source": [
    "if (seg.length == 1.0): print(\"the sine of the length is \" + str( math.sin(seg.length)) )"
   ]
  },
  {
   "cell_type": "markdown",
   "metadata": {},
   "source": [
    "### 102.05\n",
    "Only diagram the decomposition of the first line of code here."
   ]
  },
  {
   "cell_type": "code",
   "execution_count": null,
   "metadata": {},
   "outputs": [],
   "source": [
    "cnt = len( range( 5*0, max(-4,100), int(2*2/4) ) ) - 1\n",
    "print(\"i've got\", cnt, \"problems\")"
   ]
  },
  {
   "cell_type": "markdown",
   "metadata": {},
   "source": [
    "## Primitive and Structured Data Types\n",
    "Following along in the appropriate section of Chapter 1.02, complete the following small tasks.\n"
   ]
  },
  {
   "cell_type": "markdown",
   "metadata": {},
   "source": [
    "### 102.06\n",
    "In the first block of code below, a function is defined that tests for the **equality** and **identity** of the given arguments and returns the results. This function is invoked in the code that follows."
   ]
  },
  {
   "cell_type": "code",
   "execution_count": null,
   "metadata": {},
   "outputs": [],
   "source": [
    "def func(pa, pb):\n",
    "    return pa == pb, pa is pb"
   ]
  },
  {
   "cell_type": "markdown",
   "metadata": {},
   "source": [
    "Adding code that constructs Points (not Integers or Tuples or some such), modify the following code such that `False, False` is returned by `func`, and is printed to the console. This requires the defining of two objects that are ***neither equal nor identical***."
   ]
  },
  {
   "cell_type": "code",
   "execution_count": null,
   "metadata": {},
   "outputs": [],
   "source": [
    "pt_a = ??\n",
    "pt_b = ??\n",
    "\n",
    "print (func(pt_a, pt_b))"
   ]
  },
  {
   "cell_type": "markdown",
   "metadata": {},
   "source": [
    "Adding code that constructs Points (not Integers or Tuples or some such), modify the following code such that `True, False` is returned by `func`, and is printed to the console. This requires the defining of two objects that are ***equal but not identical***."
   ]
  },
  {
   "cell_type": "code",
   "execution_count": null,
   "metadata": {},
   "outputs": [],
   "source": [
    "pt_c = ??\n",
    "pt_d = ??\n",
    "\n",
    "print (func(pt_c, pt_d))"
   ]
  },
  {
   "cell_type": "markdown",
   "metadata": {},
   "source": [
    "Adding code that constructs Points (not Integers or Tuples or some such), modify the following code such that `True, True` is returned by `func`, and is printed to the console. This requires the defining of two objects that are ***equal and identical***."
   ]
  },
  {
   "cell_type": "code",
   "execution_count": null,
   "metadata": {},
   "outputs": [],
   "source": [
    "pt_e = ??\n",
    "pt_f = ??\n",
    "\n",
    "print (func(pt_e, pt_f))"
   ]
  },
  {
   "cell_type": "markdown",
   "metadata": {},
   "source": [
    "### 102.07\n",
    "\n",
    "Draw the object model diagram for the script shown below as it would appear **after all statements have been executed**, that is, at the end of the script. The type employed here, `SegmentTwoPoint`, is a hypothetical class that describes line segments in Decodes very simply, and **without making copies of variables passed to its constructor**. This script will not run.\n",
    "\n",
    "Include your diagrams in the single **multi-page** PDF prepared for this problem set. Remember, one page per problem, so this object model diagram should appear on its own page.\n",
    "\n"
   ]
  },
  {
   "cell_type": "code",
   "execution_count": null,
   "metadata": {},
   "outputs": [],
   "source": [
    "pt_a = Point(0,0)\n",
    "pt_b = Point(0,1)\n",
    "simple_seg = SegmentTwoPoint(pt_a, pt_b)"
   ]
  },
  {
   "cell_type": "markdown",
   "metadata": {},
   "source": [
    "### 102.08\n",
    "\n",
    "Working from the code above, what will be the length of `simple_seg` after the following code runs? Enter assign what you think the length will be to the variable `my_guess` below."
   ]
  },
  {
   "cell_type": "code",
   "execution_count": null,
   "metadata": {},
   "outputs": [],
   "source": [
    "pt_a.y = -1\n",
    "print(simple_seg.length)\n",
    "my_guess = ??"
   ]
  },
  {
   "cell_type": "markdown",
   "metadata": {},
   "source": [
    "## Program Structure at Larger Scales\n",
    "Following along in the appropriate section of Chapter 1.02, complete the following small tasks.\n"
   ]
  },
  {
   "cell_type": "markdown",
   "metadata": {},
   "source": [
    "### 102.09\n",
    "\n",
    "In the space provided below, define a function `sq_rt` that accepts a single arugment `num` and returns the square root of that number. Do not import the `math` library. \n",
    "\n",
    "After your work is done, all three print statements should print `True` to the console."
   ]
  },
  {
   "cell_type": "code",
   "execution_count": null,
   "metadata": {},
   "outputs": [],
   "source": [
    "\n",
    "## DEFINE YOUR FUNCTION HERE ##\n",
    "\n",
    "print ( sq_rt(9)  == 3.0 )\n",
    "print ( sq_rt(16) == 4.0 )\n",
    "print ( sq_rt(25) == 5.0 )"
   ]
  },
  {
   "cell_type": "markdown",
   "metadata": {},
   "source": [
    "### 102.10\n",
    "\n",
    "In the space provided below, define a simple line segment class `SegmentTwoPoint` that inherits the properties of the Decodes `Geometry` class. Define an initialization method that accepts two arguments, `start_point` and `end_point`, and assigns these to the members `pa` and `pb` such that the attribute references below return Decodes `Point` objects. Next, define a method `length` that returns the length of the `SegmentTwoPoint`.\n",
    "\n",
    "After your work is done, all three print statements should print `True` to the console."
   ]
  },
  {
   "cell_type": "code",
   "execution_count": null,
   "metadata": {},
   "outputs": [],
   "source": [
    "\n",
    "## DEFINE YOUR CLASS HERE ##\n",
    "\n",
    "\n",
    "seg = SegmentTwoPoint( Point(0,1), Point(10,1) )\n",
    "print ( seg.pa == Point(0,1) )\n",
    "print ( seg.pb == Point(10,1) )\n",
    "print ( seg.length == 10.0 )\n"
   ]
  },
  {
   "cell_type": "code",
   "execution_count": null,
   "metadata": {},
   "outputs": [],
   "source": []
  }
 ],
 "metadata": {
  "kernelspec": {
   "display_name": "Python 3",
   "language": "python",
   "name": "python3"
  },
  "language_info": {
   "codemirror_mode": {
    "name": "ipython",
    "version": 3
   },
   "file_extension": ".py",
   "mimetype": "text/x-python",
   "name": "python",
   "nbconvert_exporter": "python",
   "pygments_lexer": "ipython3",
   "version": "3.6.4"
  }
 },
 "nbformat": 4,
 "nbformat_minor": 2
}
