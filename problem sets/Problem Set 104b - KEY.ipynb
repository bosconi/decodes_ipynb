{
 "cells": [
  {
   "cell_type": "markdown",
   "metadata": {},
   "source": [
    "# Problem Set 104b\n",
    "\n",
    "Complete the problems described below.\n",
    "\n",
    "Submit your work via email. A special email address has been setup for this purpose, and you can attach whatever files are appropriate to any mail sent to the address below. So I can tell which files below to whom, please **title all submitted files as**:\n",
    "\n",
    "    LASTNAME firstname.py\n",
    "\n",
    "Submit this file to the class file submission email:\n",
    "\n",
    "    SUBMITT.6g9n8dakvpw0bkft@u.box.com\n",
    "    \n",
    "For one or more of the problems described below, a drawing or series of drawings may be required. These may be completed digitally (in Illustrator or similar) or by hand (in pencil or similar, then scanned). Please submit a single **multi-page** PDF (one page per problem) to the problem set submission email address."
   ]
  },
  {
   "cell_type": "code",
   "execution_count": null,
   "metadata": {},
   "outputs": [],
   "source": [
    "from decodes.core import *\n",
    "from decodes.io.jupyter_out import JupyterOut\n",
    "out = JupyterOut.two_pi( )\n",
    "from math import *\n",
    "import pprint\n",
    "\n",
    "pp = pprint.PrettyPrinter(indent=4)"
   ]
  },
  {
   "cell_type": "markdown",
   "metadata": {},
   "source": [
    "## Python Dictionaries"
   ]
  },
  {
   "cell_type": "markdown",
   "metadata": {},
   "source": [
    "### Dict Construction"
   ]
  },
  {
   "cell_type": "markdown",
   "metadata": {},
   "source": [
    "### 104b.01\n",
    "\n",
    "The [Google Places API](https://developers.google.com/places/) provides software applications with access to geo-located search results. Given a search in a particular area, results may be returned in XML format, which stores nested key-value pairs that closely resemble and might also be structured as a Python Dictionary. While Python Dicts use the sytnax `key:value` the anagolous XML syntax would be `<key>value</key>`.\n",
    "\n",
    "Below is a simplified response from the Google Places API in XML format detailing the first few results from a search for restaurants near Wurster Hall. Reformat this information as a Python Dict. \n",
    "\n",
    "Note that since the keys of a Python Dict must be unique, this restriction does not hold for XML. As such, some changes have been made to the following results. In your reformatting, any numeric values should be expressed as number literals, and dll other values should be expressed as Strings.\n",
    "\n",
    "    <?xml version=\"1.0\" encoding=\"UTF-8\"?>\n",
    "    <PlaceSearchResponse>\n",
    "        <status>OK</status>\n",
    "        <result 1>\n",
    "            <name>Graduate Berkeley</name>\n",
    "            <vicinity>2600 Durant Avenue, Berkeley</vicinity>\n",
    "            <type>restaurant</type>\n",
    "            <rating>4.2</rating>\n",
    "        </result 1>\n",
    "        <result 2>\n",
    "            <name>CREAM Berkeley</name>\n",
    "            <vicinity>2399 Telegraph Avenue, Berkeley</vicinity>\n",
    "            <type>store</type>\n",
    "            <geometry>\n",
    "                <location>37.8670352,-122.2587249</location>\n",
    "            </geometry>\n",
    "            <rating>4.5</rating>\n",
    "            <price_level>1</price_level>\n",
    "        </result 2>\n",
    "        <result 3>\n",
    "            <name>International House Cafe</name>\n",
    "            <vicinity>2299 Piedmont Avenue, Berkeley</vicinity>\n",
    "            <type>cafe</type>\n",
    "            <geometry>\n",
    "                <location>37.8696799,-122.2520091</location>\n",
    "            </geometry>\n",
    "            <rating>3.4</rating>\n",
    "            <price_level>1</price_level>\n",
    "        </result 3>\n",
    "        <result 4>\n",
    "            <name>Chipotle Mexican Grill</name>\n",
    "            <vicinity>2311 Telegraph Avenue, Berkeley</vicinity>\n",
    "            <type>restaurant</type>\n",
    "            <rating>3.8</rating>\n",
    "        </result 4>\n",
    "        <result 5>\n",
    "            <name>Cafe Milano</name>\n",
    "            <vicinity>2522 Bancroft Way, Berkeley</vicinity>\n",
    "            <type>cafe</type>\n",
    "            <rating>4.2</rating>\n",
    "        </result 5>\n",
    "    </PlaceSearchResponse>"
   ]
  },
  {
   "cell_type": "code",
   "execution_count": null,
   "metadata": {},
   "outputs": [],
   "source": [
    "#### START YOUR WORK HERE ####\n",
    "api_response = {\n",
    "    'status':'OK',\n",
    "    'results':[\n",
    "        {\n",
    "            'name':\"Graduate Berkeley\",\n",
    "            'vicinity':\"2600 Durant Avenue, Berkeley\",\n",
    "            'type':\"restaurant\",\n",
    "            'rating':4.2,\n",
    "        },{\n",
    "            'name':\"CREAM Berkeley\",\n",
    "            'vicinity':\"2399 Telegraph Avenue, Berkeley\",\n",
    "            'type':\"store\",\n",
    "            'geometry': {\"location\":(37.8670352,-122.2587249)},\n",
    "            'rating':4.5,\n",
    "            'price_level': 1\n",
    "        },{\n",
    "            'name':\"International House Cafe\",\n",
    "            'vicinity':\"2299 Piedmont Avenue, Berkeley\",\n",
    "            'type':\"cafe\",\n",
    "            'geometry': {\"location\":(37.8696799,-122.2520091)},\n",
    "            'rating':3.4,\n",
    "            'price_level':1\n",
    "        },{\n",
    "            'name':\"Chipotle Mexican Grill\",\n",
    "            'vicinity':\"2311 Telegraph Avenue, Berkeley\",\n",
    "            'type':\"restaurant\",\n",
    "            'rating':3.8\n",
    "        },{\n",
    "            'name':\"Cafe Milano\",\n",
    "            'vicinity':\"2522 Bancroft Way, Berkeley\",\n",
    "            'type':\"cafe\",\n",
    "            'rating':4.2\n",
    "        }\n",
    "    ]\n",
    "}\n",
    "#### END YOUR WORK HERE ####\n",
    "print(api_response)"
   ]
  },
  {
   "cell_type": "markdown",
   "metadata": {},
   "source": [
    "### Dict Access and Manipulation"
   ]
  },
  {
   "cell_type": "markdown",
   "metadata": {},
   "source": [
    "### 104b.02\n",
    "\n",
    "Using the Dict constructed above, and following the samples found in the text concerning Dict access and manipulation, write code that constructs each of the following variables and/or manipulations:\n",
    "\n",
    "* Set the variable `how_much_chipotle_sux` to a number of the rating for Chipotle Mexican Grill.\n",
    "* Set the variable `bool_rice_and_bones` to a boolean value that tells us if the new Rice and Bones restaurant is present in the `place_search_response` dict.\n",
    "* Set the variable `lst_restaurants` to a List of all results where \"type\" is equal to \"restaurant\".\n",
    "* Remove the second result from the response."
   ]
  },
  {
   "cell_type": "code",
   "execution_count": null,
   "metadata": {},
   "outputs": [],
   "source": [
    "results = api_response['results']\n",
    "idx_of_chipotle_result = -1\n",
    "bool_rice_and_bones = False\n",
    "lst_restaurants = []\n",
    "\n",
    "#### START YOUR WORK HERE ####\n",
    "\n",
    "for n, result in enumerate( results ):\n",
    "    if result['name'] == \"Chipotle Mexican Grill\": idx_of_chipotle_result = n\n",
    "    if \"Rice and Bones\" in result['name']: bool_rice_and_bones = True\n",
    "    if result['type'] == \"restaurant\": lst_restaurants.append(result)\n",
    "        \n",
    "how_much_chipotle_sux = results[idx_of_chipotle_result]['rating']\n",
    "\n",
    "del results[1]\n",
    "\n",
    "#### END YOUR WORK HERE ####\n",
    "\n",
    "print(how_much_chipotle_sux)\n",
    "print(bool_rice_and_bones)\n",
    "print(lst_restaurants)\n",
    "print(results)"
   ]
  },
  {
   "cell_type": "markdown",
   "metadata": {},
   "source": [
    "## Multi-Dimensionality"
   ]
  },
  {
   "cell_type": "markdown",
   "metadata": {},
   "source": [
    "### Multiple Paths to Higher Dimensions"
   ]
  },
  {
   "cell_type": "markdown",
   "metadata": {},
   "source": [
    "### 104b.03\n",
    "\n",
    "Populating the given collection `collection` only with the given variable `o`, construct a very simple multi-dimensional collection for which the overall **rank** is impossible to determine. \n",
    "\n",
    "The collection should be very simple (perhaps the simplest possible that meets this mandate) and should be constructed without the use of loops or other control structures."
   ]
  },
  {
   "cell_type": "code",
   "execution_count": null,
   "metadata": {},
   "outputs": [],
   "source": [
    "o = \"object\"\n",
    "#### START YOUR WORK HERE ####\n",
    "\n",
    "collection = [o,[o,o]]\n",
    "\n",
    "#### END YOUR WORK HERE ####"
   ]
  },
  {
   "cell_type": "markdown",
   "metadata": {},
   "source": [
    "### Nests in Python"
   ]
  },
  {
   "cell_type": "markdown",
   "metadata": {},
   "source": [
    "### 104b.04\n",
    "\n",
    "A rectangular grid of Points `pt_grid` is given, which might be comprised of any number of Points in the x and y directions. Write code to plot line Segments between each pair of adjacent Points in both horizontal and vertical directions. Store the Segments created in the `segs` List provided."
   ]
  },
  {
   "cell_type": "code",
   "execution_count": null,
   "metadata": {
    "scrolled": true
   },
   "outputs": [],
   "source": [
    "x_cnt = random.choice([5,6,7])\n",
    "y_cnt = random.choice([3,4,5])\n",
    "rect_grid = [ [Point(x,y) for x in Interval(-4,4).divide(x_cnt-1,True)] for y in Interval(-2,2).divide(y_cnt-1,True)]\n",
    "print(\"plotting a {} x {} rectangular grid\".format(x_cnt, y_cnt))\n",
    "out.put(rect_grid)\n",
    "\n",
    "segs = []\n",
    "#### START YOUR WORK HERE ####\n",
    "\n",
    "for yi in range(y_cnt):\n",
    "    for xi in range(x_cnt):\n",
    "        if yi < y_cnt-1: segs.append( Segment(rect_grid[yi][xi], rect_grid[yi+1][xi]) )\n",
    "        if xi < x_cnt-1: segs.append( Segment(rect_grid[yi][xi], rect_grid[yi][xi+1]) )\n",
    "\n",
    "#### END YOUR WORK HERE ####\n",
    "            \n",
    "out.put(segs)    \n",
    "out.draw()\n",
    "out.clear()"
   ]
  },
  {
   "cell_type": "markdown",
   "metadata": {},
   "source": [
    "### 104b.05"
   ]
  },
  {
   "cell_type": "code",
   "execution_count": null,
   "metadata": {
    "scrolled": true
   },
   "outputs": [],
   "source": [
    "x_cnt, y_cnt = random.choice([8,9,10]), random.choice([5,6,7])\n",
    "x_ival, y_ival = Interval(-3,4), Interval(-1,2)\n",
    "tri_grid = []\n",
    "vec_t = Vec((x_ival.eval(1/x_cnt) - x_ival.a)/2,0)\n",
    "for yi in range(y_cnt):\n",
    "    row = [Point(x_ival.eval(xi/x_cnt),y_ival.eval(yi/y_cnt)) for xi in range(x_cnt)]\n",
    "    if yi%2 != 0: row = [pt+vec_t for pt in row[:-1]]\n",
    "    tri_grid.append(row)\n",
    "\n",
    "print(\"plotting a {} x {} triangular grid\".format(x_cnt, y_cnt))\n",
    "out.put(tri_grid)\n",
    "\n",
    "segs = []\n",
    "#### START YOUR WORK HERE ####\n",
    "\n",
    "for yi in range(y_cnt):\n",
    "    for xi in range(x_cnt):\n",
    "        if yi < y_cnt-1 and xi<x_cnt-1: \n",
    "            segs.append( Segment(tri_grid[yi][xi], tri_grid[yi+1][xi]) )\n",
    "        if len(tri_grid[yi]) > xi+1: \n",
    "            segs.append( Segment(tri_grid[yi][xi], tri_grid[yi][xi+1]) )\n",
    "        if yi%2==0 and yi < y_cnt-1 and xi > 0:\n",
    "                segs.append( Segment(tri_grid[yi][xi], tri_grid[yi+1][xi-1]) )\n",
    "        if yi%2==1 and yi < y_cnt-1 and xi<x_cnt-1:\n",
    "                segs.append( Segment(tri_grid[yi][xi], tri_grid[yi+1][xi+1]) ) \n",
    "            \n",
    "\n",
    "#### END YOUR WORK HERE ####\n",
    "            \n",
    "out.put(segs)    \n",
    "out.draw()\n",
    "out.clear()"
   ]
  },
  {
   "cell_type": "markdown",
   "metadata": {},
   "source": [
    "### Trees in Python"
   ]
  },
  {
   "cell_type": "markdown",
   "metadata": {},
   "source": [
    "### 104b.06\n",
    "\n",
    "In the code below, the collection `tree` is constructed from two objects: `s`, a String, and `p`, a Point. \n",
    "\n",
    "Using Boolean or Float values, define the five variables at the end of the code with the appropriate values that describe the collection `tree`. If a property cannot be determined, define the variable as `False`."
   ]
  },
  {
   "cell_type": "code",
   "execution_count": null,
   "metadata": {},
   "outputs": [],
   "source": [
    "s = \"string\"\n",
    "p = Point()\n",
    "\n",
    "tree = [\n",
    "    s,\n",
    "    [s,s,s],\n",
    "    [p,p,p]\n",
    "]\n",
    "\n",
    "#### START YOUR WORK HERE ####\n",
    "\n",
    "tree_rank = False\n",
    "tree_is_rectangular = False\n",
    "tree_is_jagged = True\n",
    "tree_is_homogeneous = True\n",
    "tree_is_heterogeneous = False\n",
    "\n",
    "#### END YOUR WORK HERE ####"
   ]
  },
  {
   "cell_type": "markdown",
   "metadata": {},
   "source": [
    "## Iterative Structures of Control"
   ]
  },
  {
   "cell_type": "markdown",
   "metadata": {},
   "source": [
    "### Enumeration"
   ]
  },
  {
   "cell_type": "markdown",
   "metadata": {},
   "source": [
    "### 104b.07\n",
    "Three collections of equal size are given: a List of Points `pts`, a List of Colors `clrs`, and a List of weight values `wgts`.\n",
    "\n",
    "Using the `enumerate` function, construct a loop that iterates over each of the given Points (and its index), assigns the cooresponding Color and weight value to the Point, and plots it."
   ]
  },
  {
   "cell_type": "code",
   "execution_count": null,
   "metadata": {},
   "outputs": [],
   "source": [
    "cnt = 100\n",
    "pts = [Point.random(Interval(-3.5,3.5)) for n in range(cnt)]\n",
    "clrs = [Color(random.random(),random.random(),0.5) for n in range(cnt)]\n",
    "wgts = [random.uniform(2,10) for n in range(cnt)]\n",
    "\n",
    "#### START YOUR WORK HERE ####\n",
    "\n",
    "for n,p in enumerate(pts):\n",
    "    p.set_color(clrs[n])\n",
    "    p.set_weight(wgts[n])\n",
    "    out.put(p)\n",
    "\n",
    "#### END YOUR WORK HERE ####    \n",
    "    \n",
    "out.draw()\n",
    "out.clear()"
   ]
  },
  {
   "cell_type": "markdown",
   "metadata": {},
   "source": [
    "### List Comprehesion"
   ]
  },
  {
   "cell_type": "markdown",
   "metadata": {},
   "source": [
    "### 104b.08\n",
    "\n",
    "A collection of Points `pts` and a single Point `pt_attr` are given.\n",
    "\n",
    "Using a ***single line of code*** construct a new List `vecs` that contains a collection of Vecs that describe the direction and distance **from** `pt_attr` **to** each of the Points in `pts`. You will require List comprehnesion syntax for this."
   ]
  },
  {
   "cell_type": "code",
   "execution_count": null,
   "metadata": {},
   "outputs": [],
   "source": [
    "pt_attr = Point(4,4)\n",
    "pts = [Point.random(Interval(-3.5,3.5)) for n in range(20)]\n",
    "\n",
    "#### START YOUR WORK HERE ####\n",
    "\n",
    "vecs = [Vec(pt_attr,pt) for pt in pts]\n",
    "\n",
    "#### END YOUR WORK HERE ####"
   ]
  },
  {
   "cell_type": "markdown",
   "metadata": {},
   "source": [
    "### Iterators and Itertools"
   ]
  },
  {
   "cell_type": "markdown",
   "metadata": {},
   "source": [
    "### 104b.09\n",
    "\n",
    "Two collections are given: one of Points and another of Vecs. ***Using the `product` function of the itertools module***, complete the code below such that each given Point is translated by each of the given Vecs, with a Segment drawn between the initial Point and the translated Point. "
   ]
  },
  {
   "cell_type": "code",
   "execution_count": null,
   "metadata": {},
   "outputs": [],
   "source": [
    "cnt = 10\n",
    "pts = [Point.random(Interval(-3.5,3.5)) for n in range(cnt)]\n",
    "vecs = [Vec(0.5,0),Vec(0.5,0.5),Vec(0,0.5),Vec(-0.5,0.5) ]\n",
    "#### START YOUR WORK HERE ####\n",
    "\n",
    "for pt,vec in itertools.product(pts,vecs):\n",
    "    out.put(Segment(pt,pt+vec))\n",
    "\n",
    "#### END YOUR WORK HERE ####    \n",
    "out.put(pts)\n",
    "out.draw()\n",
    "out.clear()"
   ]
  },
  {
   "cell_type": "markdown",
   "metadata": {},
   "source": [
    "### Interval Objects in Decod.es"
   ]
  },
  {
   "cell_type": "markdown",
   "metadata": {},
   "source": [
    "### 104b.10\n",
    "\n",
    "Two Points are given, `pt_a` and `pt_b`, at random positions and holding random weights and colors. \n",
    "\n",
    "Complete the code below to define a third Point, `pt_c` at a location halfway between the given Points, with a weight halfway between the weights of the given Points, and with a color halfway between the colors of the given Points. Interval objects will assist you in this."
   ]
  },
  {
   "cell_type": "code",
   "execution_count": null,
   "metadata": {},
   "outputs": [],
   "source": [
    "pt_a, pt_b = Point.random(Interval(-3,3)), Point.random(Interval(-3,3))\n",
    "clr_a, clr_b = Color(random.random(),0,random.random()), Color(random.random(),random.random(),0)\n",
    "wgt_a, wgt_b = random.uniform(2,10), random.uniform(2,10)\n",
    "pt_a.set_color(clr_a)\n",
    "pt_b.set_color(clr_b)\n",
    "pt_a.set_weight(wgt_a)\n",
    "pt_b.set_weight(wgt_b)\n",
    "\n",
    "#### START YOUR WORK HERE ####\n",
    "\n",
    "pt_c = Point.interpolate(pt_a,pt_b,0.5)\n",
    "pt_c.set_weight(Interval(wgt_a,wgt_b).eval(0.5))\n",
    "\n",
    "r = Interval(clr_a.r,clr_b.r).eval(0.5)\n",
    "g = Interval(clr_a.g,clr_b.g).eval(0.5)\n",
    "b = Interval(clr_a.b,clr_b.b).eval(0.5)\n",
    "pt_c.set_color(r,g,b)\n",
    "                \n",
    "#### END YOUR WORK HERE ####\n",
    "\n",
    "out.put([pt_a,pt_b,pt_c])\n",
    "out.draw()\n",
    "out.clear()"
   ]
  },
  {
   "cell_type": "code",
   "execution_count": null,
   "metadata": {},
   "outputs": [],
   "source": []
  }
 ],
 "metadata": {
  "kernelspec": {
   "display_name": "Python 3",
   "language": "python",
   "name": "python3"
  },
  "language_info": {
   "codemirror_mode": {
    "name": "ipython",
    "version": 3
   },
   "file_extension": ".py",
   "mimetype": "text/x-python",
   "name": "python",
   "nbconvert_exporter": "python",
   "pygments_lexer": "ipython3",
   "version": "3.6.4"
  }
 },
 "nbformat": 4,
 "nbformat_minor": 2
}
