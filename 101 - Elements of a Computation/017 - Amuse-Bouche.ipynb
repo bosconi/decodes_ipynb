{
 "cells": [
  {
   "cell_type": "markdown",
   "metadata": {},
   "source": [
    "# An Amuse-Bouche\n",
    "We will benefit from\n",
    "a minimal geometric and algorithmic scaffold on which to hang more\n",
    "meaningful examples in the chapters to come. Presented below is\n",
    "just enough information regarding the elements of computer programming\n",
    "and the basics of geometry to get us started."
   ]
  },
  {
   "cell_type": "markdown",
   "metadata": {},
   "source": [
    "## Functions\n",
    "\n",
    "Since commands constitute one of the two types of statement that\n",
    "one may communicate to the computer, it is fitting that we begin by\n",
    "understanding what sorts of basic commands one may deliver. A\n",
    "good starting point is the built-in library of functions available to us in\n",
    "Python. \n",
    "\n",
    "Functions are **encapsulated bits of computer code** that perform\n",
    "useful actions, and may be called upon by name in any script we write.\n",
    "\n",
    "Some functions require us to provide extra bits of information\n",
    "in order to run – these are referred to as the arguments provided to\n",
    "the function, and are written as a series of objects surrounded by the\n",
    "parenthesis characters. To call a function, follow this template:\n",
    "\n",
    "    function_name ( argument_one, argument_two, ... )\n"
   ]
  },
  {
   "cell_type": "markdown",
   "metadata": {},
   "source": [
    "### Built-In Functions\n",
    "\n",
    "Some functions are built into the Python language, while others need\n",
    "to be imported from elsewhere. Because extra information is sometimes\n",
    "needed to perform the desired action, the syntax for calling a\n",
    "function employs the use of round brackets (()) within which one or\n",
    "more pieces of information may be provided. Some functions produce\n",
    "a result, which is termed its **return value**."
   ]
  },
  {
   "cell_type": "code",
   "execution_count": 10,
   "metadata": {},
   "outputs": [
    {
     "name": "stdout",
     "output_type": "stream",
     "text": [
      "hello\n"
     ]
    }
   ],
   "source": [
    "print( \"hello\" )"
   ]
  },
  {
   "cell_type": "code",
   "execution_count": 12,
   "metadata": {},
   "outputs": [
    {
     "name": "stdout",
     "output_type": "stream",
     "text": [
      "10\n"
     ]
    }
   ],
   "source": [
    "int = min(10,20)\n",
    "print(int)"
   ]
  },
  {
   "cell_type": "markdown",
   "metadata": {},
   "source": [
    "Functions can be nested, as seen in the code below in which the `abs` function is contained within the `print` function."
   ]
  },
  {
   "cell_type": "code",
   "execution_count": 9,
   "metadata": {},
   "outputs": [
    {
     "name": "stdout",
     "output_type": "stream",
     "text": [
      "3.14159\n"
     ]
    }
   ],
   "source": [
    "print( abs(-3.14159) )"
   ]
  },
  {
   "cell_type": "markdown",
   "metadata": {},
   "source": [
    "Some new syntax for Python 3.0. Previously (at the time the book was written), the `range` function returned a list. Now it returns a special object called an \"iterator\", which can be converted to a list using the built in `list` function."
   ]
  },
  {
   "cell_type": "code",
   "execution_count": 4,
   "metadata": {},
   "outputs": [
    {
     "name": "stdout",
     "output_type": "stream",
     "text": [
      "[0, 1, 2, 3]\n"
     ]
    }
   ],
   "source": [
    "ints = list(range(4))\n",
    "print(ints)"
   ]
  },
  {
   "cell_type": "markdown",
   "metadata": {},
   "source": [
    "### Importing Specialized Functions\n",
    "\n",
    "Functions contained within an imported module are typically called using both the name of the module and the name of the function separated by a dot.\n",
    "\n",
    "    module_name . function_name ( arguments )"
   ]
  },
  {
   "cell_type": "code",
   "execution_count": 11,
   "metadata": {},
   "outputs": [
    {
     "name": "stdout",
     "output_type": "stream",
     "text": [
      "0.0  is smaller than  1.0\n"
     ]
    }
   ],
   "source": [
    "import math\n",
    "print( math.sin(0.0), \" is smaller than \", math.cos(0.0) )"
   ]
  },
  {
   "cell_type": "code",
   "execution_count": 14,
   "metadata": {},
   "outputs": [
    {
     "name": "stdout",
     "output_type": "stream",
     "text": [
      "0.5456918868507419\n"
     ]
    }
   ],
   "source": [
    "import random\n",
    "flt = random.random()\n",
    "print( flt )"
   ]
  },
  {
   "cell_type": "markdown",
   "metadata": {},
   "source": [
    "## Geometry\n",
    "Presented here is a survey of the most essential geometric primitive\n",
    "elements in the Decod.es library, including the syntax for their\n",
    "construction, their basic manipulation, and the manner in which they\n",
    "interact.\n",
    "\n",
    "For the following sections, we'll need to import the decodes geometry library."
   ]
  },
  {
   "cell_type": "code",
   "execution_count": 17,
   "metadata": {},
   "outputs": [
    {
     "name": "stdout",
     "output_type": "stream",
     "text": [
      "http://decod.es/\tv0.2.3\n"
     ]
    }
   ],
   "source": [
    "from decodes.core import *"
   ]
  },
  {
   "cell_type": "markdown",
   "metadata": {},
   "source": [
    "### Points\n",
    "Points carry information about the coordinates of a position in Cartesian\n",
    "space, and may be created using these coordinates as one might\n",
    "expect.\n",
    "\n",
    "<img \n",
    "src=\"http://geometric-computation-images.s3-website-us-east-1.amazonaws.com/3.00.G02 Point Geometry.jpg\" \n",
    "style=\"width: 200px; display: inline;\">\n",
    "<img\n",
    "src=\"http://geometric-computation-images.s3-website-us-east-1.amazonaws.com/3.00.D18 Point Expanded.jpg\" \n",
    "style=\"width: 200px; display: inline;\">\n"
   ]
  },
  {
   "cell_type": "code",
   "execution_count": 20,
   "metadata": {},
   "outputs": [
    {
     "name": "stdout",
     "output_type": "stream",
     "text": [
      "pt[2,3,0]\n",
      "pt[10,20,30]\n"
     ]
    }
   ],
   "source": [
    "\"\"\"\n",
    "Point Construction\n",
    "\"\"\"\n",
    "pt_a = Point(2,3)\n",
    "pt_b = Point(10,20,30)\n",
    "print(pt_a)\n",
    "print(pt_b)"
   ]
  },
  {
   "cell_type": "code",
   "execution_count": 21,
   "metadata": {},
   "outputs": [
    {
     "name": "stdout",
     "output_type": "stream",
     "text": [
      "pt[3,3,0]\n"
     ]
    }
   ],
   "source": [
    "\"\"\"\n",
    "Point Manipulation\n",
    "\"\"\"\n",
    "pt_a.x = 3\n",
    "print(pt_a)"
   ]
  },
  {
   "cell_type": "markdown",
   "metadata": {},
   "source": [
    "### Vectors\n",
    "Vectors, like points, carry x, y, and z-coordinate information. In the\n",
    "case of vectors, this information is interpreted not as a position in\n",
    "space, but rather as a length and direction relative to the world\n",
    "origin. Vectors are often used to describe relationships between\n",
    "positions, or translations from one position to another.\n",
    "\n",
    "<img \n",
    "src=\"http://geometric-computation-images.s3-website-us-east-1.amazonaws.com/3.00.G01 Vec Geometry.jpg\" \n",
    "style=\"width: 200px; display: inline;\">\n",
    "<img\n",
    "src=\"http://geometric-computation-images.s3-website-us-east-1.amazonaws.com/3.00.D14 Vec Expanded.jpg\" \n",
    "style=\"width: 200px; display: inline;\">"
   ]
  },
  {
   "cell_type": "code",
   "execution_count": 22,
   "metadata": {},
   "outputs": [
    {
     "name": "stdout",
     "output_type": "stream",
     "text": [
      "vec[0,1,1]\n"
     ]
    }
   ],
   "source": [
    "\"\"\"\n",
    "Vector construction \n",
    "\"\"\"\n",
    "vec_a = Vec(pt_a,pt_b)\n",
    "vec_b = Vec(0,1,1)\n",
    "print(vec_b)"
   ]
  },
  {
   "cell_type": "code",
   "execution_count": 23,
   "metadata": {},
   "outputs": [
    {
     "name": "stdout",
     "output_type": "stream",
     "text": [
      "pt[2,4,1]\n"
     ]
    }
   ],
   "source": [
    "\"\"\"\n",
    "Point-vector interaction\n",
    "\"\"\"\n",
    "pt_c = Point(2,3)\n",
    "pt_d = pt_c + vec_b\n",
    "print(pt_d)"
   ]
  },
  {
   "cell_type": "markdown",
   "metadata": {},
   "source": [
    "### Line Segments\n",
    "Lines may be constructed in a number of ways: between two points,\n",
    "given a point and a vector, or by passing numbers indicating the x\n",
    "and y locations of the start and end points.\n",
    "\n",
    "<img \n",
    "src=\"http://geometric-computation-images.s3-website-us-east-1.amazonaws.com/3.00.G08 Segment Geometry.jpg\" \n",
    "style=\"width: 200px; display: inline;\">\n",
    "<img\n",
    "src=\"http://geometric-computation-images.s3-website-us-east-1.amazonaws.com/3.00.D34 Segment Expanded.jpg\" \n",
    "style=\"width: 200px; display: inline;\">"
   ]
  },
  {
   "cell_type": "code",
   "execution_count": 25,
   "metadata": {},
   "outputs": [
    {
     "name": "stdout",
     "output_type": "stream",
     "text": [
      "seg[pt[2,3,0] vec[0,1,0.0]]\n",
      "start point is pt[2,3,0]\n",
      "end point is pt[2,4,0.0]\n"
     ]
    }
   ],
   "source": [
    "\"\"\"\n",
    "Construction of a Line Segment\n",
    "\"\"\"\n",
    "pt_a = Point(2,3)\n",
    "vec_a = Vec(0,1)\n",
    "ln_a = Segment(pt_a, vec_a)\n",
    "print(ln_a)\n",
    "print(\"start point is\" , ln_a.spt )\n",
    "print(\"end point is\" , ln_a.ept )"
   ]
  },
  {
   "cell_type": "code",
   "execution_count": 26,
   "metadata": {},
   "outputs": [
    {
     "name": "stdout",
     "output_type": "stream",
     "text": [
      "seg[pt[2,3,0] pt[0,1,1.0]]\n"
     ]
    }
   ],
   "source": [
    "\"\"\"\n",
    "Manipulation of a Line Segment\n",
    "\"\"\"\n",
    "vec_b = Vec(0,0,1)\n",
    "ln_a.ept = ln_a.ept + vec_b\n",
    "print(ln_a)"
   ]
  },
  {
   "cell_type": "markdown",
   "metadata": {},
   "source": [
    "### Color\n",
    "Any piece of Decod.es geometry may be assigned a display color and\n",
    "a stroke weight, as demonstrated below. A color is described by\n",
    "three numbers that represent the red, green, and blue components.\n",
    "Note that in Decod.es, these are constrained to a range between 0\n",
    "and 1, not the conventional 0 to 255 found in other contexts.\n",
    "\n",
    "<img\n",
    "src=\"http://geometric-computation-images.s3-website-us-east-1.amazonaws.com/3.00.D82 Color Expanded.jpg\" \n",
    "style=\"width: 200px; display: inline;\">\n"
   ]
  },
  {
   "cell_type": "code",
   "execution_count": 27,
   "metadata": {},
   "outputs": [],
   "source": [
    "\"\"\"\n",
    "Coloring Geometry\n",
    "Sets the color of a piece of Decodes Geometry\n",
    "\"\"\"\n",
    "ln_a = Segment(pt_a, vec_a)\n",
    "ln_a.set_color(0.25,0.40,0.0)\n",
    "ln_a.set_weight(2.0)"
   ]
  },
  {
   "cell_type": "markdown",
   "metadata": {},
   "source": [
    "## Displaying Geometry\n",
    "Simply creating and manipulating geometry won’t mean much if we\n",
    "can’t see it, and more importantly transport it to a traditional CAD\n",
    "context where we can put it to use. In most cases, this will require a\n",
    "translation object called an **outie**, which is a Decod.es object that\n",
    "allows us to store geometry over the course of the running of a script,\n",
    "and to reproduce it in a CAD environment once the script is complete.\n",
    "\n",
    "Once an outie object has been created we may freely add\n",
    "any Decod.es geometry to it, where it is stored until the script has\n",
    "finished. Whenever we like, typically at the end of a script, we may\n",
    "export an outie’s contents to a CAD environment by calling the\n",
    "`draw()` method."
   ]
  },
  {
   "cell_type": "code",
   "execution_count": 32,
   "metadata": {},
   "outputs": [
    {
     "data": {
      "text/html": [
       "<div style=\"width:560.0px; height:360.0px; box-shadow: 2px 2px 8px 4px #ddd; margin: 8px;\"><svg width=\"560.0\" height=\"360.0\" xmlns=\"http://www.w3.org/2000/svg\" version=\"1.1\">\n",
       "<polyline points=\"130.0,330.0 205.0,330.0 205.0,255.0 130.0,255.0 130.0,330.0\" style=\"fill:rgb(249,249,249);stroke-width:1;stroke:rgb(255,255,255)\"/>\n",
       "<polyline points=\"205.0,330.0 280.0,330.0 280.0,255.0 205.0,255.0 205.0,330.0\" style=\"fill:rgb(249,249,249);stroke-width:1;stroke:rgb(255,255,255)\"/>\n",
       "<polyline points=\"280.0,330.0 355.0,330.0 355.0,255.0 280.0,255.0 280.0,330.0\" style=\"fill:rgb(249,249,249);stroke-width:1;stroke:rgb(255,255,255)\"/>\n",
       "<polyline points=\"355.0,330.0 430.0,330.0 430.0,255.0 355.0,255.0 355.0,330.0\" style=\"fill:rgb(249,249,249);stroke-width:1;stroke:rgb(255,255,255)\"/>\n",
       "<polyline points=\"130.0,255.0 205.0,255.0 205.0,180.0 130.0,180.0 130.0,255.0\" style=\"fill:rgb(249,249,249);stroke-width:1;stroke:rgb(255,255,255)\"/>\n",
       "<polyline points=\"205.0,255.0 280.0,255.0 280.0,180.0 205.0,180.0 205.0,255.0\" style=\"fill:rgb(249,249,249);stroke-width:1;stroke:rgb(255,255,255)\"/>\n",
       "<polyline points=\"280.0,255.0 355.0,255.0 355.0,180.0 280.0,180.0 280.0,255.0\" style=\"fill:rgb(249,249,249);stroke-width:1;stroke:rgb(255,255,255)\"/>\n",
       "<polyline points=\"355.0,255.0 430.0,255.0 430.0,180.0 355.0,180.0 355.0,255.0\" style=\"fill:rgb(249,249,249);stroke-width:1;stroke:rgb(255,255,255)\"/>\n",
       "<polyline points=\"130.0,180.0 205.0,180.0 205.0,105.0 130.0,105.0 130.0,180.0\" style=\"fill:rgb(249,249,249);stroke-width:1;stroke:rgb(255,255,255)\"/>\n",
       "<polyline points=\"205.0,180.0 280.0,180.0 280.0,105.0 205.0,105.0 205.0,180.0\" style=\"fill:rgb(249,249,249);stroke-width:1;stroke:rgb(255,255,255)\"/>\n",
       "<polyline points=\"280.0,180.0 355.0,180.0 355.0,105.0 280.0,105.0 280.0,180.0\" style=\"fill:rgb(249,249,249);stroke-width:1;stroke:rgb(255,255,255)\"/>\n",
       "<polyline points=\"355.0,180.0 430.0,180.0 430.0,105.0 355.0,105.0 355.0,180.0\" style=\"fill:rgb(249,249,249);stroke-width:1;stroke:rgb(255,255,255)\"/>\n",
       "<polyline points=\"130.0,105.0 205.0,105.0 205.0,30.0 130.0,30.0 130.0,105.0\" style=\"fill:rgb(249,249,249);stroke-width:1;stroke:rgb(255,255,255)\"/>\n",
       "<polyline points=\"205.0,105.0 280.0,105.0 280.0,30.0 205.0,30.0 205.0,105.0\" style=\"fill:rgb(249,249,249);stroke-width:1;stroke:rgb(255,255,255)\"/>\n",
       "<polyline points=\"280.0,105.0 355.0,105.0 355.0,30.0 280.0,30.0 280.0,105.0\" style=\"fill:rgb(249,249,249);stroke-width:1;stroke:rgb(255,255,255)\"/>\n",
       "<polyline points=\"355.0,105.0 430.0,105.0 430.0,30.0 355.0,30.0 355.0,105.0\" style=\"fill:rgb(249,249,249);stroke-width:1;stroke:rgb(255,255,255)\"/>\n",
       "<circle cx=\"130.0\" cy=\"330.0\" r=\"37.5\" style=\"fill:rgb(255,255,255);stroke-width:0;stroke:none\"/>\n",
       "<circle cx=\"130.0\" cy=\"330.0\" r=\"2.0\" style=\"fill:rgb(0,0,0);stroke-width:0;stroke:none\"/>\n",
       "<circle cx=\"280.0\" cy=\"105.0\" r=\"2.0\" style=\"fill:rgb(0,0,0);stroke-width:0;stroke:none\"/>\n",
       "<circle cx=\"430.0\" cy=\"105.0\" r=\"2.0\" style=\"fill:rgb(0,0,0);stroke-width:0;stroke:none\"/>\n",
       "</svg></div>"
      ],
      "text/plain": [
       "<IPython.core.display.HTML object>"
      ]
     },
     "metadata": {},
     "output_type": "display_data"
    }
   ],
   "source": [
    "\"\"\"\n",
    "Outies\n",
    "Using an \"outie\" to draw geometry to a given CAD environment\n",
    "\"\"\"\n",
    "from decodes.io.jupyter_out import JupyterOut\n",
    "#constructs an outie\n",
    "out = JupyterOut.unit_square( )\n",
    "\n",
    "#adds geometry to this outie\n",
    "out.put(Point(0.0,0.0))\n",
    "out.put(Point(0.5,0.75))\n",
    "out.put(Point(1.0,0.75))\n",
    "\n",
    "#draws everything in this outie to our CAD environment\n",
    "out.draw()"
   ]
  },
  {
   "cell_type": "markdown",
   "metadata": {},
   "source": [
    "## Control Flow\n",
    "To work with anything beyond very simple routines, we’ll need\n",
    "to know a little about the manner in which the shell executes the\n",
    "statements we provide. Structures that alter how lines of code are\n",
    "selectively or repeatedly executed are referred to as **control flow\n",
    "statements** – the most common of which are briefly described in the\n",
    "section below. \n",
    "\n",
    "The statements discussed here rely on the division of\n",
    "an overall script into discrete **codeblocks**, or groups of expressions.\n",
    "Python provides a unique mechanism for defining codeblocks that\n",
    "relies upon the white-space of the script."
   ]
  },
  {
   "cell_type": "markdown",
   "metadata": {},
   "source": [
    "### Conditionals\n",
    "The conditional statement (or `if` statement) is one of the most\n",
    "recognizable structures of code, and operates as we might expect:\n",
    "statements contained within the following codeblock are only\n",
    "executed if the Boolean condition is true."
   ]
  },
  {
   "cell_type": "code",
   "execution_count": 31,
   "metadata": {},
   "outputs": [
    {
     "name": "stdout",
     "output_type": "stream",
     "text": [
      "it's done.\n",
      "Albers was wrong!\n"
     ]
    }
   ],
   "source": [
    "\"\"\"\n",
    "Conditional Statements\n",
    "We may control which lines of code are executed under certain conditions using conditional statements\n",
    "\"\"\"\n",
    "do_it = True\n",
    "if do_it:\n",
    "    print(\"it's done.\")\n",
    "    \n",
    "    \n",
    "if 1+1 > 2:\n",
    "    print(\"Albers was right!\")\n",
    "else:\n",
    "    print(\"Albers was wrong!\")"
   ]
  },
  {
   "cell_type": "markdown",
   "metadata": {},
   "source": [
    "### Loops\n",
    "A loop is a statement which indicates that the codeblock that follows,\n",
    "while only written once, is meant to be executed multiple times in\n",
    "succession until a given condition is met, or until a given sequence is\n",
    "exhausted. One of the most common types of loops is the `for` loop,\n",
    "which iterates over a given collection, successively assigning each\n",
    "item in this collection to a variable. The generalized form of a for\n",
    "loop is:\n",
    "\n",
    "    for item in collection:\n",
    "        do_something_with_item\n",
    "\n",
    "Naturally, the `for` loop requires a collection over which to iterate.\n",
    "Using the `range()` function in combination with a loop statement is a\n",
    "common strategy to consolidate lines of code which might otherwise\n",
    "be unreasonably long and difficult to update."
   ]
  },
  {
   "cell_type": "code",
   "execution_count": 33,
   "metadata": {
    "scrolled": true
   },
   "outputs": [
    {
     "name": "stdout",
     "output_type": "stream",
     "text": [
      "n is equal to 0\n",
      "n is equal to 1\n",
      "n is equal to 2\n"
     ]
    }
   ],
   "source": [
    "\"\"\"\n",
    "Looping Over a Range\n",
    "A loop that uses the built-in range function\n",
    "\"\"\"\n",
    "count = 3\n",
    "for n in range(count):\n",
    "    print(\"n is equal to\", n)\n"
   ]
  },
  {
   "cell_type": "markdown",
   "metadata": {},
   "source": [
    "Loops in Python iterate over collections of any type of object.\n",
    "Here, we loop over a collection of words. More on collections below."
   ]
  },
  {
   "cell_type": "code",
   "execution_count": 35,
   "metadata": {
    "scrolled": true
   },
   "outputs": [
    {
     "name": "stdout",
     "output_type": "stream",
     "text": [
      "Less is more.\n",
      "Less is a bore.\n"
     ]
    }
   ],
   "source": [
    "\"\"\"\n",
    "Looping Over a Collection\n",
    "A loop that iterates through an explicitly defined list\n",
    "\"\"\"\n",
    "for dictum in [\"more.\" , \"a bore.\"]:\n",
    "    print(\"Less is\", dictum)"
   ]
  },
  {
   "cell_type": "markdown",
   "metadata": {},
   "source": [
    "### The Decod.es Interval Object\n",
    "The Decod.es Interval object represents a range of numbers, and may be constructed by defining starting and ending values. \n",
    "\n",
    "The main purpose of an Interval is to be decomposed into smaller bits, thereby allowing for iteration to occur across the range it represents. Decomposition can occur two ways: by division into a collection of numbers, or into a collection of smaller intervals.\n",
    "\n",
    "<img\n",
    "src=\"http://geometric-computation-images.s3-website-us-east-1.amazonaws.com/3.00.D78 Interval Expanded.jpg\" \n",
    "style=\"width: 200px; display: inline;\">\n"
   ]
  },
  {
   "cell_type": "code",
   "execution_count": 36,
   "metadata": {},
   "outputs": [
    {
     "name": "stdout",
     "output_type": "stream",
     "text": [
      "2.0  ->  12.0\n"
     ]
    }
   ],
   "source": [
    "\"\"\"\n",
    "Construction of a Decod.es Interval\n",
    "An Interval is composed of a starting value \"a\" and an ending value \"b\"\n",
    "\"\"\"\n",
    "ival = Interval(2.0,12.0)\n",
    "print(ival.a , \" -> \", ival.b)"
   ]
  },
  {
   "cell_type": "code",
   "execution_count": 39,
   "metadata": {},
   "outputs": [
    {
     "name": "stdout",
     "output_type": "stream",
     "text": [
      "[2.0, 7.0]\n",
      "[2.0, 4.5, 7.0, 9.5]\n"
     ]
    }
   ],
   "source": [
    "\"\"\"\n",
    "Division of an Interval\n",
    "An Interval may be divided into collections of decimal numbers\n",
    "\"\"\"\n",
    "print( ival / 2 )\n",
    "print( ival / 4 )"
   ]
  },
  {
   "cell_type": "code",
   "execution_count": 40,
   "metadata": {},
   "outputs": [
    {
     "name": "stdout",
     "output_type": "stream",
     "text": [
      "[ival[2.0,7.0], ival[7.0,12.0]]\n"
     ]
    }
   ],
   "source": [
    "\"\"\"\n",
    "Subinterval of an Interval\n",
    "An Interval may also be divided into collections of smaller intervals\n",
    "\"\"\"\n",
    "print( ival // 2 )"
   ]
  },
  {
   "cell_type": "markdown",
   "metadata": {},
   "source": [
    "Intervals also find use in “mapping” a value described in terms of one\n",
    "range into the corresponding value in terms of another range. This\n",
    "functionality is important in a number of ways, including in the construction of geometry which is parameterized, such as parametric\n",
    "curves and surfaces."
   ]
  },
  {
   "cell_type": "code",
   "execution_count": 41,
   "metadata": {},
   "outputs": [
    {
     "name": "stdout",
     "output_type": "stream",
     "text": [
      "7.0\n",
      "15.0\n"
     ]
    }
   ],
   "source": [
    "\"\"\"\n",
    "Evaluation and Mapping Using an Interval\n",
    "A value described in terms of one Interval may be \"mapped\" to the relative value in another Interval\n",
    "\"\"\"\n",
    "print ( ival.eval(0.5) )\n",
    "print ( Interval.remap(7.0,ival,Interval(10,20)) )"
   ]
  },
  {
   "cell_type": "markdown",
   "metadata": {},
   "source": [
    "## Collections\n",
    "\n",
    "There are many ways to contain and organize data in Python. Of these, the List is the most prevalent. A List may be created and accessed using the square-bracket notation seen below, and a new object may be added using the `append()` method."
   ]
  },
  {
   "cell_type": "code",
   "execution_count": 42,
   "metadata": {},
   "outputs": [
    {
     "name": "stdout",
     "output_type": "stream",
     "text": [
      "barragan\n"
     ]
    }
   ],
   "source": [
    "\"\"\"\n",
    "Collections\n",
    "A collection may be initialized using an 'empty' set of square-brackets. Items may be added to it using the append method, and then later accessed by again using square-brackets and referencing the index of the desired item. Note that indices start at zero.\n",
    "\"\"\"\n",
    "# construct a list\n",
    "pritzker_laureates = []\n",
    "# the first item is index 0\n",
    "pritzker_laureates.append(\"johnson\")\n",
    "# the second item is index 1\n",
    "pritzker_laureates.append(\"barragan\")\n",
    "# the third item is index 2\n",
    "pritzker_laureates.append(\"stirling\")\n",
    "print ( pritzker_laureates[1] )"
   ]
  },
  {
   "cell_type": "code",
   "execution_count": null,
   "metadata": {},
   "outputs": [],
   "source": []
  }
 ],
 "metadata": {
  "kernelspec": {
   "display_name": "Python 3",
   "language": "python",
   "name": "python3"
  },
  "language_info": {
   "codemirror_mode": {
    "name": "ipython",
    "version": 3
   },
   "file_extension": ".py",
   "mimetype": "text/x-python",
   "name": "python",
   "nbconvert_exporter": "python",
   "pygments_lexer": "ipython3",
   "version": "3.6.4"
  }
 },
 "nbformat": 4,
 "nbformat_minor": 2
}
