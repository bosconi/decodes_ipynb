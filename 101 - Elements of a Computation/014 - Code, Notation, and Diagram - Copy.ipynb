{
 "cells": [
  {
   "cell_type": "markdown",
   "metadata": {},
   "source": [
    "# Code, Notation, and Diagram\n",
    "While an introduction to computer programming is well-trodden\n",
    "ground, there are two things that make this presentation unique. First,\n",
    "its pairing of a foundational discussion of code alongside computational\n",
    "geometry and visual design applications. Second, and perhaps\n",
    "more importantly, the visual diagrammatic language which has been\n",
    "developed for the express purpose of this text."
   ]
  },
  {
   "cell_type": "markdown",
   "metadata": {},
   "source": [
    "## Setting the Stage\n",
    "The following block of code gets things ready for the example to follow: importing a few libraries we'll need, and defining a 'container' to hold some geometry. \n",
    "\n",
    "**Don't panic**. We don't expect you to understand what you see here, an all will become clear in time.\n",
    "\n",
    "For now, just execute the following code block and move on. \n",
    "\n",
    "To run a code block, select it and press ***SHIFT + RETURN*** at the same time (or press the \"Run\" button in the toolbar). After you do so, the Python shell will execute the contained code, and may report some information back. In this case, expect to see that the decod.es library has successfully loaded by displaying a URL."
   ]
  },
  {
   "cell_type": "code",
   "execution_count": null,
   "metadata": {},
   "outputs": [],
   "source": [
    "from decodes.core import *\n",
    "from decodes.io.jupyter_out import JupyterOut\n",
    "out = JupyterOut.unit_square( grid_color = Color(0.95,0.95,0.95) )\n",
    "import math"
   ]
  },
  {
   "cell_type": "code",
   "execution_count": null,
   "metadata": {},
   "outputs": [],
   "source": [
    "count = 10\n",
    "scale = 0.15\n",
    "pts=[]\n",
    "for n in range(count):\n",
    "    theta=((math.pi*2)/(count-1))*n\n",
    "    pt = Point(theta*scale,math.sin(theta)*scale)\n",
    "    pts.append(pt)\n",
    "pl = PLine(pts)\n",
    "\n",
    "out.put(pl)"
   ]
  },
  {
   "cell_type": "code",
   "execution_count": null,
   "metadata": {},
   "outputs": [],
   "source": [
    "print(pl)"
   ]
  },
  {
   "cell_type": "code",
   "execution_count": null,
   "metadata": {},
   "outputs": [],
   "source": [
    "out.draw()\n",
    "out.clear()"
   ]
  },
  {
   "cell_type": "code",
   "execution_count": null,
   "metadata": {},
   "outputs": [],
   "source": []
  }
 ],
 "metadata": {
  "kernelspec": {
   "display_name": "Python 3",
   "language": "python",
   "name": "python3"
  },
  "language_info": {
   "codemirror_mode": {
    "name": "ipython",
    "version": 3
   },
   "file_extension": ".py",
   "mimetype": "text/x-python",
   "name": "python",
   "nbconvert_exporter": "python",
   "pygments_lexer": "ipython3",
   "version": "3.6.4"
  }
 },
 "nbformat": 4,
 "nbformat_minor": 2
}
