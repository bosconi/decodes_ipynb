{
 "cells": [
  {
   "cell_type": "markdown",
   "metadata": {},
   "source": [
    "# E101 Mathematical Monsters Part I\n",
    "Scripts are portable, and the culture of scripting in architectural design is\n",
    "generous, with simple scripts routinely shared and posted publicly. For this\n",
    "reason, the entry-point for many first learning to code is a modification of\n",
    "the work of others. Given a script that nearly fits our needs, we may find it\n",
    "fruitful to tinker with it until we develop the understanding necessary for its\n",
    "satisfactory adaptation. Starting with a template is a sensable strategy.\n",
    "\n",
    "Here we offer a template for plotting\n",
    "parametric curves, and will use the standard definitions for familiar curves\n",
    "as a starting point to explore new possible hybrid versions in two and three\n",
    "dimensions. We will conceive, breed, and manipulate these altered curves,\n",
    "these “mathematical monsters”, not for any particular numerical property\n",
    "nor any design applicability, but rather simply in pursuit of their inherent\n",
    "aesthetic qualities."
   ]
  },
  {
   "cell_type": "markdown",
   "metadata": {},
   "source": [
    "For this exercise, we’ll need two resources: a set of parametric curve definitions, and a template which allows us to implement them in code. The former\n",
    "is easy to come by, and an Internet search for “curve parametric equation”\n",
    "produces a wealth of examples with which to start. \n",
    "\n",
    "We can rely on the abundance of examples that take this format, wherein the\n",
    "x, y, and-z coordinates of points along a curve are expressed as functions\n",
    "which may be easily transcribed into code. The syntactic pattern for doing\n",
    "so is provided here:\n",
    "\n",
    "    for each division of an appropriate Interval:\n",
    "        x = ...\n",
    "        y = ...\n",
    "        z = ...\n",
    "        construct a Point at (x,y,z)\n",
    "\n",
    "Implemented in code, this would be expressed as seen in the examples that follow. But first, we'll need to set the table by running a bit of header code."
   ]
  },
  {
   "cell_type": "code",
   "execution_count": null,
   "metadata": {},
   "outputs": [],
   "source": [
    "from decodes.core import *\n",
    "from decodes.io.jupyter_out import JupyterOut\n",
    "out = JupyterOut.two_pi( grid_color = Color(0.95,0.95,0.95) )\n",
    "from math import *"
   ]
  },
  {
   "cell_type": "markdown",
   "metadata": {},
   "source": [
    "With these two resources in hand, it’s a trivial matter to author short scripts\n",
    "that plot any parametric curve for which we have documentation, simply by\n",
    "transcribing their equations into Python code. For example, we’ve transcribed\n",
    "below the code required to plot an ellipse."
   ]
  },
  {
   "cell_type": "code",
   "execution_count": null,
   "metadata": {},
   "outputs": [],
   "source": [
    "\"\"\"\n",
    "An Ellipse\n",
    "\"\"\"\n",
    "count = 50\n",
    "a = 5.0\n",
    "b = 3.0\n",
    "for n in Interval.twopi() / count:\n",
    "    x = a*cos(n)\n",
    "    y = b*sin(n)\n",
    "    pt = Point(x,y)\n",
    "    out.put(pt)\n",
    "\n",
    "out.draw()\n",
    "out.clear()"
   ]
  },
  {
   "cell_type": "markdown",
   "metadata": {},
   "source": [
    "Any of the standard curves that might come to mind may be plotted in a\n",
    "similar manner. As\n",
    "creative designers, we are free to experiment with these equations, and\n",
    "need not be constrained to the canon of known parametric curves. A good\n",
    "place to start is to amalgamate the coordinate functions from different\n",
    "curves, which can generate results both expected and surprising. \n",
    "\n",
    "For\n",
    "example, hybridizing the x-coordinate of an ellipse with the y-coordinate of a\n",
    "diamond curve produces a football-like shape."
   ]
  },
  {
   "cell_type": "code",
   "execution_count": null,
   "metadata": {},
   "outputs": [],
   "source": [
    "\"\"\"\n",
    "An Ellipse Crossed with A Diamond\n",
    "\"\"\"\n",
    "count = 50\n",
    "a = 5.0\n",
    "b = 3.0\n",
    "\n",
    "for n in Interval.twopi() / count:\n",
    "    x = a*cos(n)\n",
    "    y = b*abs(sin(n))*sin(n)\n",
    "    pt = Point(x,y)\n",
    "    out.put(pt)\n",
    "    \n",
    "out.draw()\n",
    "out.clear()"
   ]
  },
  {
   "cell_type": "markdown",
   "metadata": {},
   "source": [
    "A similar hybrid of an ellipse and a hypocycloid, like many more complex\n",
    "parametric curves, requires the introduction of an extra variable. In this case\n",
    "we’ve defined the `num_cusps` variable such that it controls the number of\n",
    "humps that manifest on the resulting curve."
   ]
  },
  {
   "cell_type": "code",
   "execution_count": null,
   "metadata": {},
   "outputs": [],
   "source": [
    "\"\"\"\n",
    "An Ellipse Crossed with A Hypocycloid\n",
    "\"\"\"\n",
    "count = 50\n",
    "a = 5.0\n",
    "b = 0.5\n",
    "num_cusps = 6\n",
    "\n",
    "for n in Interval.twopi() / count:\n",
    "    x = a*cos(n)\n",
    "    y = b*(num_cusps-1)*sin(n) + sin((num_cusps-1)*n)\n",
    "    pt = Point(x,y)\n",
    "    out.put(pt)\n",
    "    \n",
    "out.draw()\n",
    "out.clear()    "
   ]
  },
  {
   "cell_type": "markdown",
   "metadata": {},
   "source": [
    "Compounding the already immense body of standard curves, the variations\n",
    "produced by this simple template are vast, and this short exercise offers\n",
    "those new to programming a satisfying entry-point that is both accessible\n",
    "and immediately productive. "
   ]
  }
 ],
 "metadata": {
  "kernelspec": {
   "display_name": "Python 3",
   "language": "python",
   "name": "python3"
  },
  "language_info": {
   "codemirror_mode": {
    "name": "ipython",
    "version": 3
   },
   "file_extension": ".py",
   "mimetype": "text/x-python",
   "name": "python",
   "nbconvert_exporter": "python",
   "pygments_lexer": "ipython3",
   "version": "3.6.4"
  }
 },
 "nbformat": 4,
 "nbformat_minor": 2
}
