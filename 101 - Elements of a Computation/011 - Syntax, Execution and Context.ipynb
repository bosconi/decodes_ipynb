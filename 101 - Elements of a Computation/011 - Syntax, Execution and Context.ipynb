{
 "cells": [
  {
   "cell_type": "markdown",
   "metadata": {},
   "source": [
    "# Syntax, Execution and Context\n",
    "A good way to begin to understand how the elements of a computation\n",
    "interact is to examine simple prototypical examples. Here we’ll\n",
    "present two such cases that, surprisingly, encompass the range of all\n",
    "possible statements. It may be comforting to learn that the only two\n",
    "categories of statement that are possible in scripts are definitions\n",
    "and commands."
   ]
  },
  {
   "cell_type": "markdown",
   "metadata": {},
   "source": [
    "## A Definition\n",
    "\n",
    "A definition is a request to remember some piece of information. In\n",
    "response to such a request, the shell associates a name with a piece\n",
    "of data, providing a convenient mechanism by which to refer to it\n",
    "later. For example, the following statement associates the name\n",
    "problem_count with an Integer number.\n",
    "\n",
    ">To continue, you must first **run the following code block**. To run a code block, select it and press ***SHIFT + RETURN*** at the same time (or press the \"Run\" button in the toolbar). After you do so, the Python shell will execute the contained code, and may report some information back. Try it on the codeblock below."
   ]
  },
  {
   "cell_type": "code",
   "execution_count": null,
   "metadata": {},
   "outputs": [],
   "source": [
    "problem_count = 99"
   ]
  },
  {
   "cell_type": "markdown",
   "metadata": {},
   "source": [
    "While the meaning of this statement is intuitive, its syntax is worth\n",
    "a bit of commentary. The equality sign `(=)` is a special symbol used\n",
    "in many programming languages to construct definitions. Special\n",
    "symbols such as this are called **operators**, which we will discuss in\n",
    "the next chapter. From a technical perspective, we would term the\n",
    "statement above an **assignment statement**, which associates a variable\n",
    "name with an object stored in memory. \n",
    "\n",
    "A technical note: objects stored in memory exist independently of variable names associated with them – each object may have one, more than one, or no names bound to it. The specific way that Python ‘binds’ names to objects is unique, and as we’ll see in later chapters, carries some unique ramifications.\n",
    "\n",
    "The format above may be generalized to capture all statements of assignment:\n",
    "\n",
    "    some_name = some_thing\n",
    "\n",
    "Even in this simple statement, some of the basic elements of a computation\n",
    "are manifest. First, the authoring of this tiny script implies\n",
    "a cursory understanding of the syntax of statements, the first of our\n",
    "three elements. To write it, we must understand that the equality sign\n",
    "is used for assignment, and may be used to compose a request to\n",
    "relate a name on the left to an Integer number on the right. Further,\n",
    "implicit in such a request is an understanding of the context in which\n",
    "the subsequent computation takes place, the third of the three\n",
    "elements. In relating the name `problem_count` to the Integer number\n",
    "`99`, we assume that the shell already has a model for what a number\n",
    "is, or more specifically, what an **Integer** is. Such a model is called\n",
    "a **data type**, while the number 99 itself is referred to as an object. \n",
    "\n",
    "It is by these mechanisms that the above statement is interpreted as\n",
    "a request for a change in the state of the data stored in computer\n",
    "memory, specifically, a request that an Integer number be stored and\n",
    "associated with a name so that it may be later accessed. Accessed,\n",
    "perhaps, by a command."
   ]
  },
  {
   "cell_type": "markdown",
   "metadata": {},
   "source": [
    "## A Command\n",
    "\n",
    "In contrast with a definition, which simply stores information, a\n",
    "**command** is a statement that instructs the computer to actively do\n",
    "something, often utilizing information that has been previously\n",
    "defined. For example, the following statement refers to a previously\n",
    "defined object by name, and requests that the computer take an\n",
    "action based upon it:"
   ]
  },
  {
   "cell_type": "code",
   "execution_count": null,
   "metadata": {},
   "outputs": [],
   "source": [
    "print(\"I’ve got\" , problem_count , \"problems.\")"
   ]
  },
  {
   "cell_type": "markdown",
   "metadata": {},
   "source": [
    "Nothing new is stored in memory here, and the state of things has\n",
    "not been altered. Rather, this statement causes the interpreter to\n",
    "display some textual output using a device called \"the console\". More on this later.\n",
    "\n",
    "There are several things worth noticing about the execution of this command. First, building upon our\n",
    "discussion above, we see two operators at work: quotation marks\n",
    "(`“`) and commas (`,`). This syntax governs the order in which the other\n",
    "expressions in our statement are executed by the shell, as per the\n",
    "second of our three elements of a computation. We might infer from\n",
    "the resulting output that the quotation marks serve to set apart characters\n",
    "that we want the computer to interpret as literal text, and that\n",
    "the commas somehow combine words and numbers together. Next,\n",
    "we may again note the overall syntax. Understanding the function of\n",
    "the commas as joining things together, we might simplify this statement:\n",
    "\n",
    "    print something\n",
    "\n",
    "Or, to be more general:\n",
    "\n",
    "    verb noun\n",
    "\n",
    "While this is not the only syntactical structure that we’ll encounter as\n",
    "we code, it’s important to understand\n",
    "that all statements must adhere to a limited set of syntactical\n",
    "constructs that constitute valid expressions. We cannot write for\n",
    "computers as we would for a human audience, as computers are very\n",
    "particular about the format and clarity of their instructions. \n",
    "\n",
    "The last thing we should notice about our simple command statement\n",
    "is the use of a function: `print`. This part of the statement tells the\n",
    "shell what action to take, using the remainder of the statement as an\n",
    "input for the function."
   ]
  },
  {
   "cell_type": "markdown",
   "metadata": {},
   "source": [
    "Our understanding of the three basic elements of a computation\n",
    "will unfold across the first several chapters of the accompanying text. \n",
    "\n",
    "Familiarity with the syntax of code will be developed, primarily in Chapter 1.02, as we discuss how expressions combine into statements,\n",
    "statements into codeblocks, and codeblocks into larger program\n",
    "structures including functions, classes, and modules. Similarly, we\n",
    "will gain insight into how code is interpreted and executed by the\n",
    "Python shell, through a presentation of the structures of control flow\n",
    "in Chapter 1.04. Finally, in Chapter 1.02, we will detail the nature of one of the most prevalent contexts in which computation takes place,\n",
    "one in which data is structured in terms of objects and types."
   ]
  },
  {
   "cell_type": "code",
   "execution_count": null,
   "metadata": {},
   "outputs": [],
   "source": []
  }
 ],
 "metadata": {
  "kernelspec": {
   "display_name": "Python 3",
   "language": "python",
   "name": "python3"
  },
  "language_info": {
   "codemirror_mode": {
    "name": "ipython",
    "version": 3
   },
   "file_extension": ".py",
   "mimetype": "text/x-python",
   "name": "python",
   "nbconvert_exporter": "python",
   "pygments_lexer": "ipython3",
   "version": "3.6.4"
  }
 },
 "nbformat": 4,
 "nbformat_minor": 2
}
