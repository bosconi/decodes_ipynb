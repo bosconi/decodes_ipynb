{
 "cells": [
  {
   "cell_type": "markdown",
   "metadata": {},
   "source": [
    "# Code, Notation, and Diagram\n",
    "While an introduction to computer programming is well-trodden\n",
    "ground, there are two things that make this presentation unique. First,\n",
    "its pairing of a foundational discussion of code alongside computational\n",
    "geometry and visual design applications. Second, and perhaps\n",
    "more importantly, the visual diagrammatic language which has been\n",
    "developed for the express purpose of this text.\n",
    "\n",
    "<img \n",
    "src=\"http://geometric-computation-images.s3-website-us-east-1.amazonaws.com/1.00.P01.jpg\" \n",
    "style=\"display: inline;\">\n"
   ]
  },
  {
   "cell_type": "markdown",
   "metadata": {},
   "source": [
    "## Setting the Stage\n",
    "The following block of code gets things ready for the example to follow: importing a few libraries we'll need, and defining a 'container' to hold some geometry. Unlike working in Grasshopper, in which the stage has already been set for us using the Decod.es plugin, nearly every piece of code we run here on the Jupyter platform will require some sort of header code such as this.\n",
    "\n",
    "**Don't panic**. We don't expect you to understand what you see here, an all will become clear in time.\n",
    "\n",
    "> To continue, **run the following code block**. \n",
    "\n",
    "> To run a code block, select it and press ***SHIFT + RETURN*** at the same time (or press the \"Run\" button in the toolbar). After you do so, the Python shell will execute the contained code, and may report some information back. In this case, expect to see that the decod.es library has successfully loaded by displaying a URL."
   ]
  },
  {
   "cell_type": "code",
   "execution_count": 8,
   "metadata": {},
   "outputs": [],
   "source": [
    "from decodes.core import *\n",
    "from decodes.io.jupyter_out import JupyterOut\n",
    "out = JupyterOut.unit_square( grid_color = Color(0.95,0.95,0.95) )\n",
    "import math"
   ]
  },
  {
   "cell_type": "markdown",
   "metadata": {},
   "source": [
    "## A Sample Script\n",
    "While we have not yet discussed all the concepts we need to completely\n",
    "understand this script, we can infer quite a bit from investigating\n",
    "the relationship between it and the **control flow diagram**, **object\n",
    "model diagram**, and **geometry diagram** found below.\n",
    "\n",
    "> **Run the following code block**, in the same way you did above. Note that if you failed to run the above code, or have restarted the kernel since doing so, that you may recieve an error message."
   ]
  },
  {
   "cell_type": "code",
   "execution_count": 12,
   "metadata": {},
   "outputs": [],
   "source": [
    "count = 100\n",
    "scale = 0.15\n",
    "pts=[]\n",
    "for n in range(count):\n",
    "    theta=((math.pi*2)/(count-1))*n\n",
    "    pt = Point(theta*scale,math.sin(theta)*scale)\n",
    "    pts.append(pt)\n",
    "pl = PLine(pts)\n",
    "\n",
    "out.put(pl)"
   ]
  },
  {
   "cell_type": "markdown",
   "metadata": {},
   "source": [
    "### Textual Output\n",
    "The first place we'll look for feedback on what our scripts are doing is **the console**.\n",
    "\n",
    "The console is a graphic device which is our most direct\n",
    "window on the inner workings of the shell. If the scripts we author\n",
    "are one side of a conversation – a way of explaining to the shell what\n",
    "we would like it to do – then the console is one way that we can\n",
    "see what the computer has to say in response.\n",
    "\n",
    "> **Run the following code block**, in the same way you did above."
   ]
  },
  {
   "cell_type": "code",
   "execution_count": 10,
   "metadata": {},
   "outputs": [
    {
     "name": "stdout",
     "output_type": "stream",
     "text": [
      "pline[10v]\n"
     ]
    }
   ],
   "source": [
    "print(pl)"
   ]
  },
  {
   "cell_type": "markdown",
   "metadata": {},
   "source": [
    "### Control Flow Diagrams\n",
    "\n",
    "The control flow diagram is used to describe the order of execution\n",
    "of the various commands and definitions found in any piece of code.\n",
    "Although code is generally executed by the shell starting at the top of\n",
    "the script we provide, and concludes when it reaches the end, there\n",
    "exist a range of structures which can alter this sequence. The connected\n",
    "lines, indentation, arrows, and flowchart-style decision point\n",
    "graphics found in this diagram provide a visual representation of this\n",
    "“flow” of execution and the structures we may employ to control it. A simplified version of the control flow diagram may be found next to every piece of sample code in the text.\n",
    "\n",
    "<img \n",
    "src=\"http://geometric-computation-images.s3-website-us-east-1.amazonaws.com/1.01.B01.jpg\" \n",
    "style=\"width: 400px; display: inline;\">\n",
    "\n"
   ]
  },
  {
   "cell_type": "markdown",
   "metadata": {},
   "source": [
    "### Geometric Output\n",
    "Naturally, since decod.es is a geometry library, one of our primary means for understanding the working of our code will be to examine the results. While working in a CAD context, such as Grasshopper, will be invaluable in this regard, we have a limited means for viewing the geometric results of our scripts here in Jupyter. \n",
    "\n",
    "For the time being, the results we view here are limited to 2d plots.\n",
    "\n",
    ">**Execute the following code block**, in the same way you did above. When you do, you should see the results of this code plotted as a graphic."
   ]
  },
  {
   "cell_type": "code",
   "execution_count": 13,
   "metadata": {},
   "outputs": [
    {
     "data": {
      "text/html": [
       "<div style=\"width:560.0px; height:360.0px; box-shadow: 2px 2px 8px 4px #ddd; margin: 8px;\"><svg width=\"560.0\" height=\"360.0\" xmlns=\"http://www.w3.org/2000/svg\" version=\"1.1\">\n",
       "<polyline points=\"130.0,330.0 205.0,330.0 205.0,255.0 130.0,255.0 130.0,330.0\" style=\"fill:rgb(242,242,242);stroke-width:1;stroke:rgb(255,255,255)\"/>\n",
       "<polyline points=\"205.0,330.0 280.0,330.0 280.0,255.0 205.0,255.0 205.0,330.0\" style=\"fill:rgb(242,242,242);stroke-width:1;stroke:rgb(255,255,255)\"/>\n",
       "<polyline points=\"280.0,330.0 355.0,330.0 355.0,255.0 280.0,255.0 280.0,330.0\" style=\"fill:rgb(242,242,242);stroke-width:1;stroke:rgb(255,255,255)\"/>\n",
       "<polyline points=\"355.0,330.0 430.0,330.0 430.0,255.0 355.0,255.0 355.0,330.0\" style=\"fill:rgb(242,242,242);stroke-width:1;stroke:rgb(255,255,255)\"/>\n",
       "<polyline points=\"130.0,255.0 205.0,255.0 205.0,180.0 130.0,180.0 130.0,255.0\" style=\"fill:rgb(242,242,242);stroke-width:1;stroke:rgb(255,255,255)\"/>\n",
       "<polyline points=\"205.0,255.0 280.0,255.0 280.0,180.0 205.0,180.0 205.0,255.0\" style=\"fill:rgb(242,242,242);stroke-width:1;stroke:rgb(255,255,255)\"/>\n",
       "<polyline points=\"280.0,255.0 355.0,255.0 355.0,180.0 280.0,180.0 280.0,255.0\" style=\"fill:rgb(242,242,242);stroke-width:1;stroke:rgb(255,255,255)\"/>\n",
       "<polyline points=\"355.0,255.0 430.0,255.0 430.0,180.0 355.0,180.0 355.0,255.0\" style=\"fill:rgb(242,242,242);stroke-width:1;stroke:rgb(255,255,255)\"/>\n",
       "<polyline points=\"130.0,180.0 205.0,180.0 205.0,105.0 130.0,105.0 130.0,180.0\" style=\"fill:rgb(242,242,242);stroke-width:1;stroke:rgb(255,255,255)\"/>\n",
       "<polyline points=\"205.0,180.0 280.0,180.0 280.0,105.0 205.0,105.0 205.0,180.0\" style=\"fill:rgb(242,242,242);stroke-width:1;stroke:rgb(255,255,255)\"/>\n",
       "<polyline points=\"280.0,180.0 355.0,180.0 355.0,105.0 280.0,105.0 280.0,180.0\" style=\"fill:rgb(242,242,242);stroke-width:1;stroke:rgb(255,255,255)\"/>\n",
       "<polyline points=\"355.0,180.0 430.0,180.0 430.0,105.0 355.0,105.0 355.0,180.0\" style=\"fill:rgb(242,242,242);stroke-width:1;stroke:rgb(255,255,255)\"/>\n",
       "<polyline points=\"130.0,105.0 205.0,105.0 205.0,30.0 130.0,30.0 130.0,105.0\" style=\"fill:rgb(242,242,242);stroke-width:1;stroke:rgb(255,255,255)\"/>\n",
       "<polyline points=\"205.0,105.0 280.0,105.0 280.0,30.0 205.0,30.0 205.0,105.0\" style=\"fill:rgb(242,242,242);stroke-width:1;stroke:rgb(255,255,255)\"/>\n",
       "<polyline points=\"280.0,105.0 355.0,105.0 355.0,30.0 280.0,30.0 280.0,105.0\" style=\"fill:rgb(242,242,242);stroke-width:1;stroke:rgb(255,255,255)\"/>\n",
       "<polyline points=\"355.0,105.0 430.0,105.0 430.0,30.0 355.0,30.0 355.0,105.0\" style=\"fill:rgb(242,242,242);stroke-width:1;stroke:rgb(255,255,255)\"/>\n",
       "<circle cx=\"130.0\" cy=\"330.0\" r=\"37.5\" style=\"fill:rgb(255,255,255);stroke-width:0;stroke:none\"/>\n",
       "<polyline points=\"130.0,330.0 132.85599332144525,327.1459236154546 135.71198664289054,324.3033395891813 138.5679799643358,321.4836940037815 141.42397328578107,318.6983405768514 144.27996660722633,315.9584949435681 147.1359599286716,313.27518949528525 149.99195325011686,310.65922895598726 152.84794657156215,308.1211468754789 155.7039398930074,305.6711632144981 158.55993321445266,303.31914319254116 161.41592653589794,301.07455756410576 164.2719198573432,298.94644448330496 167.12791317878848,296.943373110411 169.98390650023373,295.07340910687094 172.839899821679,293.3440821577349 175.69589314312427,291.7623556522718 178.55188646456952,290.33459864485883 181.4078797860148,289.06656020904666 184.26387310746006,287.9633462880702 187.1198664289053,287.02939913501666 189.9758597503506,286.26847942544066 192.83185307179588,285.68365111445064 195.68784639324113,285.27726909924354 198.54383971468638,285.0509697367646 201.39983303613167,285.0056642546756 204.25582635757695,285.1415350821626 207.1118196790222,285.45803511535803 209.96781300046746,285.953889920335 212.82380632191274,286.6271028648026 215.679799643358,287.4749631578399 218.53579296480325,288.49405676529386 221.39178628624853,289.6802801568899 224.24777960769381,291.02885682970026 227.10377292913904,292.5343565414353 229.95976625058432,294.19071717611257 232.8157595720296,295.9912691540584 235.6717528934749,297.9287622879512 238.5277462149201,299.9953949767669 241.3837395363654,302.1828456200728 244.23973285781065,304.48230612617533 247.09572617925593,306.8845173791967 249.9517195007012,309.3798065222665 252.80771282214647,311.9581259067024 255.66370614359172,314.6090935503449 258.519699465037,317.32203494213564 261.37569278648226,320.08602602460564 264.23168610792754,322.88993718119923 267.08767942937277,325.7224780513118 269.94367275081805,328.57224299258695 272.79966607226334,331.42775700741305 275.65565939370856,334.2775219486882 278.5116527151539,337.11006281880077 281.3676460365991,339.9139739753943 284.2236393580444,342.67796505786436 287.07963267948963,345.39090644965506 289.9356260009349,348.0418740932976 292.79161932238014,350.62019347773344 295.6476126438255,353.1154826208033 298.5036059652707,355.51769387382467 301.359599286716,357.8171543799272 304.2155926081613,360.0046050232331 307.0715859296065,362.07123771204886 309.9275792510518,364.0087308459416 312.78357257249706,365.80928282388743 315.6395658939423,367.4656434585647 318.49555921538763,368.97114317029974 321.35155253683286,370.31971984311014 324.2075458582781,371.50594323470614 327.06353917972336,372.5250368421601 329.91953250116865,373.3728971351974 332.77552582261393,374.046110079665 335.6315191440592,374.54196488464197 338.48751246550444,374.8584649178374 341.3435057869498,374.9943357453244 344.199499108395,374.9490302632354 347.0554924298402,374.72273090075646 349.91148575128545,374.31634888554936 352.7674790727308,373.73152057455934 355.623472394176,372.97060086498334 358.4794657156213,372.03665371192983 361.3354590370666,370.93343979095334 364.19145235851187,369.66540135514117 367.04744567995715,368.2376443477282 369.9034390014024,366.6559178422651 372.75943232284766,364.92659089312906 375.61542564429294,363.056626889589 378.47141896573817,361.05355551669504 381.32741228718345,358.9254424358943 384.18340560862873,356.6808568074588 387.039398930074,354.3288367855019 389.89539225151924,351.8788531245211 392.7513855729645,349.34077104401274 395.6073788944098,346.7248105047147 398.4633722158551,344.0415050564319 401.3193655373003,341.3016594231486 404.1753588587456,338.5163059962184 407.0313521801908,335.6966604108187 409.8873455016361,332.8540763845454 412.7433388230814,330.0\" style=\"fill:none;stroke-width:0.5;stroke:rgb(0,0,0)\"/>\n",
       "</svg></div>"
      ],
      "text/plain": [
       "<IPython.core.display.HTML object>"
      ]
     },
     "metadata": {},
     "output_type": "display_data"
    }
   ],
   "source": [
    "out.draw()\n",
    "out.clear()"
   ]
  },
  {
   "cell_type": "markdown",
   "metadata": {},
   "source": [
    "### Geometry Diagrams\n",
    "Used throughout the text we will follow this semester, the geometry diagram shows us a view of the geometric results of executing these lines of\n",
    "code. We see here a number of geometric elements that we might\n",
    "expect, such as dots representing points and a chain of straight lines\n",
    "that follow the path of a polyline object.\n",
    "\n",
    "<img \n",
    "src=\"http://geometric-computation-images.s3-website-us-east-1.amazonaws.com/1.01.P01.jpg\" \n",
    "style=\"width: 400px; display: inline;\">\n"
   ]
  },
  {
   "cell_type": "markdown",
   "metadata": {},
   "source": [
    "### Object Model Diagrams\n",
    "TODO"
   ]
  },
  {
   "cell_type": "code",
   "execution_count": null,
   "metadata": {},
   "outputs": [],
   "source": []
  }
 ],
 "metadata": {
  "kernelspec": {
   "display_name": "Python 3",
   "language": "python",
   "name": "python3"
  },
  "language_info": {
   "codemirror_mode": {
    "name": "ipython",
    "version": 3
   },
   "file_extension": ".py",
   "mimetype": "text/x-python",
   "name": "python",
   "nbconvert_exporter": "python",
   "pygments_lexer": "ipython3",
   "version": "3.6.4"
  }
 },
 "nbformat": 4,
 "nbformat_minor": 2
}
