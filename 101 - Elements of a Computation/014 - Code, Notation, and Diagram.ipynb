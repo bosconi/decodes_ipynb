{
 "cells": [
  {
   "cell_type": "markdown",
   "metadata": {},
   "source": [
    "# Code, Notation, and Diagram\n",
    "While an introduction to computer programming is well-trodden\n",
    "ground, there are two things that make this presentation unique. First,\n",
    "its pairing of a foundational discussion of code alongside computational\n",
    "geometry and visual design applications. Second, and perhaps\n",
    "more importantly, the visual diagrammatic language which has been\n",
    "developed for the express purpose of this text."
   ]
  },
  {
   "cell_type": "code",
   "execution_count": 2,
   "metadata": {},
   "outputs": [
    {
     "name": "stdout",
     "output_type": "stream",
     "text": [
      "http://decod.es\n",
      "decodes core loaded\n"
     ]
    }
   ],
   "source": [
    "from decodes.core import *\n",
    "import math"
   ]
  },
  {
   "cell_type": "code",
   "execution_count": 4,
   "metadata": {},
   "outputs": [
    {
     "name": "stdout",
     "output_type": "stream",
     "text": [
      "pline[10v]\n"
     ]
    }
   ],
   "source": [
    "count = 10\n",
    "pts=[]\n",
    "for n in range(count):\n",
    "    theta=((math.pi*2)/(count-1))*n\n",
    "    pt = Point(theta,math.sin(theta))\n",
    "    pts.append(pt)\n",
    "pl = PLine(pts)\n",
    "\n",
    "#out.put(pl)\n",
    "print pl"
   ]
  }
 ],
 "metadata": {
  "kernelspec": {
   "display_name": "Python 2",
   "language": "python",
   "name": "python2"
  },
  "language_info": {
   "codemirror_mode": {
    "name": "ipython",
    "version": 2
   },
   "file_extension": ".py",
   "mimetype": "text/x-python",
   "name": "python",
   "nbconvert_exporter": "python",
   "pygments_lexer": "ipython2",
   "version": "2.7.6"
  }
 },
 "nbformat": 4,
 "nbformat_minor": 2
}
