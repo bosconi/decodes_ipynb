{
 "cells": [
  {
   "cell_type": "markdown",
   "metadata": {},
   "source": [
    "# Code, Notation, and Diagram\n",
    "While an introduction to computer programming is well-trodden\n",
    "ground, there are two things that make this presentation unique. First,\n",
    "its pairing of a foundational discussion of code alongside computational\n",
    "geometry and visual design applications. Second, and perhaps\n",
    "more importantly, the visual diagrammatic language which has been\n",
    "developed for the express purpose of this text.\n",
    "\n",
    "<img \n",
    "src=\"http://geometric-computation-images.s3-website-us-east-1.amazonaws.com/1.00.P01.jpg\" \n",
    "style=\"display: inline;\">\n"
   ]
  },
  {
   "cell_type": "markdown",
   "metadata": {},
   "source": [
    "## Setting the Stage\n",
    "The following block of code gets things ready for the example to follow: importing a few libraries we'll need, and defining a 'container' to hold some geometry. Unlike working in Grasshopper, in which the stage has already been set for us using the Decod.es plugin, nearly every piece of code we run here on the Jupyter platform will require some sort of header code such as this.\n",
    "\n",
    "**Don't panic**. We don't expect you to understand what you see here, an all will become clear in time.\n",
    "\n",
    "> To continue, **run the following code block**. \n",
    "\n",
    "> To run a code block, select it and press ***SHIFT + RETURN*** at the same time (or press the \"Run\" button in the toolbar). After you do so, the Python shell will execute the contained code, and may report some information back. In this case, expect to see that the decod.es library has successfully loaded by displaying a URL."
   ]
  },
  {
   "cell_type": "code",
   "execution_count": null,
   "metadata": {},
   "outputs": [],
   "source": [
    "from decodes.core import *\n",
    "from decodes.io.jupyter_out import JupyterOut\n",
    "out = JupyterOut.unit_square( grid_color = Color(0.95,0.95,0.95) )\n",
    "import math"
   ]
  },
  {
   "cell_type": "markdown",
   "metadata": {},
   "source": [
    "## A Sample Script\n",
    "While we have not yet discussed all the concepts we need to completely\n",
    "understand this script, we can infer quite a bit from investigating\n",
    "the relationship between it and the **control flow diagram**, **object\n",
    "model diagram**, and **geometry diagram** found below.\n",
    "\n",
    "> **Run the following code block**, in the same way you did above. Note that if you failed to run the above code, or have restarted the kernel since doing so, that you may recieve an error message."
   ]
  },
  {
   "cell_type": "code",
   "execution_count": null,
   "metadata": {},
   "outputs": [],
   "source": [
    "count = 10\n",
    "scale = 0.15\n",
    "pts=[]\n",
    "for n in range(count):\n",
    "    theta=((math.pi*2)/(count-1))*n\n",
    "    pt = Point(theta*scale,math.sin(theta)*scale)\n",
    "    pts.append(pt)\n",
    "pl = PLine(pts)\n",
    "\n",
    "out.put(pl)"
   ]
  },
  {
   "cell_type": "markdown",
   "metadata": {},
   "source": [
    "### Textual Output\n",
    "The first place we'll look for feedback on what our scripts are doing is **the console**.\n",
    "\n",
    "The console is a graphic device which is our most direct\n",
    "window on the inner workings of the shell. If the scripts we author\n",
    "are one side of a conversation – a way of explaining to the shell what\n",
    "we would like it to do – then the console is one way that we can\n",
    "see what the computer has to say in response.\n",
    "\n",
    "> **Run the following code block**, in the same way you did above."
   ]
  },
  {
   "cell_type": "code",
   "execution_count": null,
   "metadata": {},
   "outputs": [],
   "source": [
    "print(pl)"
   ]
  },
  {
   "cell_type": "markdown",
   "metadata": {},
   "source": [
    "### Control Flow Diagrams\n",
    "\n",
    "The control flow diagram is used to describe the order of execution\n",
    "of the various commands and definitions found in any piece of code.\n",
    "Although code is generally executed by the shell starting at the top of\n",
    "the script we provide, and concludes when it reaches the end, there\n",
    "exist a range of structures which can alter this sequence. The connected\n",
    "lines, indentation, arrows, and flowchart-style decision point\n",
    "graphics found in this diagram provide a visual representation of this\n",
    "“flow” of execution and the structures we may employ to control it. A simplified version of the control flow diagram may be found next to every piece of sample code in the text.\n",
    "\n",
    "<img \n",
    "src=\"http://geometric-computation-images.s3-website-us-east-1.amazonaws.com/1.01.B01.jpg\" \n",
    "style=\"width: 400px; display: inline;\">\n",
    "\n"
   ]
  },
  {
   "cell_type": "markdown",
   "metadata": {},
   "source": [
    "### Geometric Output\n",
    "Naturally, since decod.es is a geometry library, one of our primary means for understanding the working of our code will be to examine the results. While working in a CAD context, such as Grasshopper, will be invaluable in this regard, we have a limited means for viewing the geometric results of our scripts here in Jupyter. \n",
    "\n",
    "For the time being, the results we view here are limited to 2d plots.\n",
    "\n",
    ">**Execute the following code block**, in the same way you did above. When you do, you should see the results of this code plotted as a graphic."
   ]
  },
  {
   "cell_type": "code",
   "execution_count": null,
   "metadata": {},
   "outputs": [],
   "source": [
    "out.draw()\n",
    "out.clear()"
   ]
  },
  {
   "cell_type": "markdown",
   "metadata": {},
   "source": [
    "### Geometry Diagrams\n",
    "Used throughout the text we will follow this semester, the geometry diagram shows us a view of the geometric results of executing these lines of\n",
    "code. We see here a number of geometric elements that we might\n",
    "expect, such as dots representing points and a chain of straight lines\n",
    "that follow the path of a polyline object.\n",
    "\n",
    "<img \n",
    "src=\"http://geometric-computation-images.s3-website-us-east-1.amazonaws.com/1.01.P01.jpg\" \n",
    "style=\"width: 400px; display: inline;\">\n"
   ]
  }
 ],
 "metadata": {
  "kernelspec": {
   "display_name": "Python 3",
   "language": "python",
   "name": "python3"
  },
  "language_info": {
   "codemirror_mode": {
    "name": "ipython",
    "version": 3
   },
   "file_extension": ".py",
   "mimetype": "text/x-python",
   "name": "python",
   "nbconvert_exporter": "python",
   "pygments_lexer": "ipython3",
   "version": "3.6.4"
  }
 },
 "nbformat": 4,
 "nbformat_minor": 2
}
