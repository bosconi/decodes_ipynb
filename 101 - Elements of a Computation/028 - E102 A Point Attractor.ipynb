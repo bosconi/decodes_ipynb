{
 "cells": [
  {
   "cell_type": "markdown",
   "metadata": {},
   "source": [
    "# E102 A Point Attractor\n",
    "The construction of so-called point attractors has become a popular\n",
    "“hello world” exercise for those just starting out in computational geometry. Attractors are valued for the simplicity of the required algorithm, and the accessibility of the necessary elements (only points and vectors are required).\n",
    "They also appreciated for the formal effects they produce, and their ability\n",
    "to produce differentiated effects within a field. \n",
    "\n",
    "Defining how this routine\n",
    "works through a formal statement of intent, which we might call a **problem\n",
    "statement**, might lead us to state:\n",
    "\n",
    "> Given a set of points and an “attractor” point, displace each point in the set some distance related to its proximity to the attractor point. Provide mechanisms for limiting the intensity and for controlling the range of influence of this effect.\n",
    "\n",
    "Our implementation of this algorithm includes a rough mechanism for limiting\n",
    "intensity via a maximum translation distance, and for controlling the\n",
    "range of influence via an exponent. A careful unpacking of this simple example\n",
    "will allow us to look at how geometry diagrams, object model diagrams,\n",
    "and control flow diagrams can work in concert to help us understand a\n",
    "geometric computation in depth."
   ]
  },
  {
   "cell_type": "markdown",
   "metadata": {},
   "source": [
    "## Implementation\n",
    "To truly describe the details of how a problem is solved in code additionally requires an accounting of how the code is to operate, as well as the structure of the data it is intended to produce.\n",
    "\n",
    "The tables below describe the context in which our attractor routine should\n",
    "operate, including the names of expected input variables and a description\n",
    "of their type and structure. They also describe what we can expect of a\n",
    "successful implementation in terms of the required output variables. These\n",
    "tables present a more bounded problem than that of our problem statement. While it contains roughly the same information, the requirements are\n",
    "articulated with a greater degree of specificity."
   ]
  },
  {
   "cell_type": "markdown",
   "metadata": {},
   "source": [
    "<table style=\"width:600px\">\n",
    "    \n",
    "<tr>\n",
    "    <th colspan=\"3\" style=\"text-align:left\">*Variables Required*</th>\n",
    "</tr>\n",
    "    \n",
    "<tr>\n",
    "    <td style=\"width:20%\">`pts`</td>\n",
    "    <td style=\"width:20%\">\\[Point\\]</td>\n",
    "    <td style=\"width:60%\">A collection of Point objects to displace. </td>\n",
    "</tr>\n",
    "\n",
    "<tr>\n",
    "    <td>`attr_pt`</td>\n",
    "    <td>Point</td>\n",
    "    <td>An “attractor” point that influences a given List of points.</td>\n",
    "</tr>\n",
    "\n",
    "<tr>\n",
    "    <td>`power`</td>\n",
    "    <td>Float</td>\n",
    "    <td>The strength of the attraction, described as the exponent number to raise the distance between a given point and the attractor point. For example, a power value of 0.5 will produce a square root function to the measured distance, while a power value of 3.0 will raise the measured distance to the power of three.</td>\n",
    "</tr>\n",
    "\n",
    "<tr>\n",
    "    <td>`max_dist_pct`</td>\n",
    "    <td>Float</td>\n",
    "    <td>The maximum distance that any point may move.</td>\n",
    "</tr>\n",
    "\n",
    "</table>\n",
    "\n",
    "<table style=\"width:600px\">\n",
    "    \n",
    "<tr>\n",
    "    <th colspan=\"3\" style=\"text-align:left\">*Variables Resulting*</th>\n",
    "</tr>\n",
    "\n",
    "<tr>\n",
    "    <td>`new_pts`</td>\n",
    "    <td>\\[Point\\]</td>\n",
    "    <td>A List of displaced Points.</td>\n",
    "</tr>\n",
    "\n",
    "</table>"
   ]
  },
  {
   "cell_type": "markdown",
   "metadata": {},
   "source": [
    "Since each point in the input collection of points is displaced relative to the\n",
    "attractor point, this problem is tailor-made for the use of a loop. For each\n",
    "cycle of the loop, a single point in the collection referred to as `grid_pt` is\n",
    "considered, and the direction and distance to move this point is calculated.\n",
    "The actual displacement of the point is accomplished by adding to the point\n",
    "a vector with direction and magnitude set to the calculated values. The\n",
    "newly created point is then added to the end of the output List of points\n",
    "using the `append()` method."
   ]
  },
  {
   "cell_type": "markdown",
   "metadata": {},
   "source": [
    "\n",
    "<img \n",
    "src=\"http://geometric-computation-images.s3-website-us-east-1.amazonaws.com/1.01.E02.P01_100.jpg\" \n",
    "style=\"width: 400px; display: inline;\">\n"
   ]
  },
  {
   "cell_type": "code",
   "execution_count": null,
   "metadata": {},
   "outputs": [],
   "source": [
    "from decodes.core import *\n",
    "from decodes.io.jupyter_out import JupyterOut\n",
    "out = JupyterOut.origin_centered( )\n",
    "from math import *"
   ]
  },
  {
   "cell_type": "markdown",
   "metadata": {},
   "source": [
    "<img \n",
    "src=\"http://geometric-computation-images.s3-website-us-east-1.amazonaws.com/1.01.E02.P02.jpg\" \n",
    "style=\"width: 200px; display: inline;\">\n",
    "<img \n",
    "src=\"http://geometric-computation-images.s3-website-us-east-1.amazonaws.com/1.01.E02.P03.jpg\" \n",
    "style=\"width: 200px; display: inline;\">\n",
    "<img \n",
    "src=\"http://geometric-computation-images.s3-website-us-east-1.amazonaws.com/1.01.E02.P04.jpg\" \n",
    "style=\"width: 200px; display: inline;\">"
   ]
  },
  {
   "cell_type": "code",
   "execution_count": null,
   "metadata": {},
   "outputs": [],
   "source": [
    "max_dist_pct = 0.8\n",
    "power = 0.5\n",
    "\n",
    "attr_pt = Point(2.5,0)\n",
    "attr_pt.set_color(1,0,0)\n",
    "attr_pt.set_weight(10)\n",
    "\n",
    "pts = []\n",
    "for x in range(-8,9,2):\n",
    "    for y in range(-8,9,2):\n",
    "        grid_pt = Point(x,y)\n",
    "        grid_pt.set_color(0.8,0.8,0.8)\n",
    "        grid_pt.set_weight(2)\n",
    "        pts.append(grid_pt)\n",
    "        \n",
    "out.put(pts)\n",
    "out.put(attr_pt)\n"
   ]
  },
  {
   "cell_type": "code",
   "execution_count": null,
   "metadata": {},
   "outputs": [],
   "source": [
    "out.draw()\n",
    "# note that we did not clear the outie here. \n",
    "# this is so our points show up in the next step."
   ]
  },
  {
   "cell_type": "markdown",
   "metadata": {},
   "source": [
    "## Process Breakdown\n",
    "Here, a walk-through of the execution of the script is given in the form of a detailed breakdown of each significant step of its execution.\n",
    "\n",
    "<img \n",
    "src=\"http://geometric-computation-images.s3-website-us-east-1.amazonaws.com/1.01.E02.D08.jpg\" \n",
    "style=\"display: inline;\">\n"
   ]
  },
  {
   "cell_type": "code",
   "execution_count": null,
   "metadata": {},
   "outputs": [],
   "source": [
    "\"\"\"\n",
    "Attract Points\n",
    "Given an attractor Point and a list of Points to attract, iterates through each Point using a list and applies the attractor routine to each point in succession.\n",
    "\"\"\"\n",
    "# 1. create a container to store the translated points\n",
    "new_pts = []\n",
    "# 2. & 6. iterate over each point in pts\n",
    "for grid_pt in pts: \n",
    "    # 3. create a vector from 'grid_pt' to the attractor point\n",
    "    vec = Vec(grid_pt,attr_pt)\n",
    "    \n",
    "    max_dist = vec.length * max_dist_pct\n",
    "    desired_dist = vec.length ** power\n",
    "    dist = min( max_dist , desired_dist )\n",
    "    \n",
    "    # 4. create a new displaced point\n",
    "    new_pt = grid_pt + vec.normalized(dist)\n",
    "    \n",
    "    # 5. add this newly constructed Point to our list \n",
    "    new_pts.append(new_pt)\n",
    "    \n",
    "out.put(new_pts)"
   ]
  },
  {
   "cell_type": "code",
   "execution_count": null,
   "metadata": {},
   "outputs": [],
   "source": [
    "out.draw()\n",
    "out.clear()"
   ]
  },
  {
   "cell_type": "markdown",
   "metadata": {},
   "source": [
    "### 1. create a collection to store the translated points\n",
    "Our script opens by creating a place to store the intended results of our\n",
    "computation, the translated Points. Since we’d like this script to operate\n",
    "on any number of given Points, and to generate an equal number of\n",
    "resulting Points, we’ll need to make use of a collection for this purpose.\n",
    "The square-bracket notation (`[]`) found on the first line creates a new\n",
    "collection that initially contains no objects. By the end of our script, this\n",
    "collection will be full of displaced Points.\n",
    "\n",
    "<img \n",
    "src=\"http://geometric-computation-images.s3-website-us-east-1.amazonaws.com/1.01.E02.D02.jpg\" \n",
    "style=\"width: 400px; display: inline;\">"
   ]
  },
  {
   "cell_type": "markdown",
   "metadata": {},
   "source": [
    "### 2. iterate over each point in the given collection\n",
    "The second line of our script marks the start of an indented code block,\n",
    "the contents of which will execute more than once. As we enter this loop,\n",
    "we see from the state of the nearby object model that some things are set\n",
    "up for us. A new variable `grid_pt` has been created, and assigned the first\n",
    "Point in the `pts` collection. After all the lines of code in the indented block\n",
    "have executed, this same variable will be assigned the next Point in the pts\n",
    "collection. After all the Points have had a turn, we’ll exit this code block. In\n",
    "this manner, we may successively operate on each Point in the given collection.\n",
    "\n",
    "<img \n",
    "src=\"http://geometric-computation-images.s3-website-us-east-1.amazonaws.com/1.01.E02.D03.jpg\" \n",
    "style=\"width: 400px; display: inline;\">"
   ]
  },
  {
   "cell_type": "markdown",
   "metadata": {},
   "source": [
    "### 3. create a vector of translation\n",
    "The next four lines represent the most important steps in our Point attractor\n",
    "script, as calculating the direction and distance to displace is the heart\n",
    "of this routine. We are now operating “inside” the for loop, in that each operation\n",
    "found within the indented codeblock will be executed once for each\n",
    "Point given. This first few statements are responsible for calculating the\n",
    "Vec along which we displace our Point. This is accomplished using a series\n",
    "of vector operations and a function that ensures we maintain a reasonable\n",
    "displacement.\n",
    "\n",
    "<img \n",
    "src=\"http://geometric-computation-images.s3-website-us-east-1.amazonaws.com/1.01.E02.D04.jpg\" \n",
    "style=\"width: 400px; display: inline;\">"
   ]
  },
  {
   "cell_type": "markdown",
   "metadata": {},
   "source": [
    "### 4. create a new displaced point\n",
    "By this moment in the execution of the script, we have what we need in\n",
    "order to construct a displaced Point. We have established the direction\n",
    "of translation, as described by the vector constructed from `grid_pt` and\n",
    "`attr_pt`. This Vec is oriented in the proper direction, but is not the proper\n",
    "length to be used to displace `grid_pt`. For this, we separately calculated a\n",
    "desired distance by raising the length of this Vec by a given power, and then\n",
    "limiting the result to a percentage of the original length. This ensures that\n",
    "the displaced Point does not overshoot the attractor. With this information\n",
    "in hand, we may construct `new_pt` simply by translating `grid_pt` by this\n",
    "Vec, using the addition operator.\n",
    "\n",
    "<img \n",
    "src=\"http://geometric-computation-images.s3-website-us-east-1.amazonaws.com/1.01.E02.D05.jpg\" \n",
    "style=\"width: 400px; display: inline;\">"
   ]
  },
  {
   "cell_type": "markdown",
   "metadata": {},
   "source": [
    "### 5. record the newly constructed point\n",
    "The important work is done, and we have constructed a displaced Point. All\n",
    "that remains is to store the resulting data in a convenient format that may\n",
    "persist outside of this routine. For this, we’ll rely on the `new_pts` collection\n",
    "initialized in step one, inserting the Point `new_pt` using the `append()` method.\n",
    "\n",
    "The object model diagram nearby displays the state of things at the first\n",
    "cycle of a loop, so we see only a single Point inside the collection. Had we\n",
    "drawn a later cycle of the loop, we might notice that the `append()` method\n",
    "adds objects at the end of a collection. We may also note that two paths on\n",
    "the diagram lead to this Point: one via the `new_pt` variable, and another as\n",
    "an index of the `new_pts` collection.\n",
    "\n",
    "<img \n",
    "src=\"http://geometric-computation-images.s3-website-us-east-1.amazonaws.com/1.01.E02.D06.jpg\" \n",
    "style=\"width: 400px; display: inline;\">"
   ]
  },
  {
   "cell_type": "markdown",
   "metadata": {},
   "source": [
    "### 6. iterate\n",
    "With the statements of the codeblock exhausted, the loop cycles. To do this,\n",
    "the shell returns the “cursor” back to the first line of the loop, and checks if\n",
    "another iteration is required. In this case, as we are iterating over a collection\n",
    "of objects, the shell moves the `grid_pt` reference over to the next item\n",
    "in the pts collection, and allows the statement in the codeblock to execute\n",
    "again. This cycle continues until the Points are exhausted and the script\n",
    "exits. The result: all the Points in `grid_pts` are displaced and stored in the\n",
    "`new_pts` collection.\n",
    "\n",
    "<img \n",
    "src=\"http://geometric-computation-images.s3-website-us-east-1.amazonaws.com/1.01.E02.D07.jpg\" \n",
    "style=\"width: 400px; display: inline;\">"
   ]
  }
 ],
 "metadata": {
  "kernelspec": {
   "display_name": "Python 3",
   "language": "python",
   "name": "python3"
  },
  "language_info": {
   "codemirror_mode": {
    "name": "ipython",
    "version": 3
   },
   "file_extension": ".py",
   "mimetype": "text/x-python",
   "name": "python",
   "nbconvert_exporter": "python",
   "pygments_lexer": "ipython3",
   "version": "3.6.4"
  }
 },
 "nbformat": 4,
 "nbformat_minor": 2
}
