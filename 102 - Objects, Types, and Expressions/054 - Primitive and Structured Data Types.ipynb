{
 "cells": [
  {
   "cell_type": "markdown",
   "metadata": {},
   "source": [
    "# Primitive and Structured Data Types\n",
    "todo"
   ]
  },
  {
   "cell_type": "code",
   "execution_count": null,
   "metadata": {},
   "outputs": [],
   "source": []
  },
  {
   "cell_type": "markdown",
   "metadata": {},
   "source": [
    "## Primitive Data Types\n",
    "\n",
    "\n",
    "<img \n",
    "src=\"http://geometric-computation-images.s3-website-us-east-1.amazonaws.com/1.02.D08.jpg\" \n",
    "style=\"width: 400px; display: inline;\">"
   ]
  },
  {
   "cell_type": "code",
   "execution_count": null,
   "metadata": {},
   "outputs": [],
   "source": []
  },
  {
   "cell_type": "markdown",
   "metadata": {},
   "source": [
    "### Boolean"
   ]
  },
  {
   "cell_type": "code",
   "execution_count": null,
   "metadata": {},
   "outputs": [],
   "source": []
  },
  {
   "cell_type": "markdown",
   "metadata": {},
   "source": [
    "TODO\n",
    "\n",
    "<table style=\"width:600px\">\n",
    "    \n",
    "<tr>\n",
    "    <th colspan=\"3\" style=\"text-align:left\">*Boolean Logical Operators*</th>\n",
    "</tr>\n",
    "    \n",
    "<tr>\n",
    "    <td style=\"width:20%\">Logical AND (`and`)</td>\n",
    "    <td style=\"width:50%\">Returns `True` if both operands are `True`.</td>\n",
    "    <td style=\"width:30%\">`print yes and no`<br>\\>>`False`</td>\n",
    "</tr>\n",
    "    \n",
    "<tr>\n",
    "    <td style=\"width:20%\">Logical OR (`or`)</td>\n",
    "    <td style=\"width:50%\">Returns `True` if either of the two operands are `True`.</td>\n",
    "    <td style=\"width:30%\">`print yes or no` <br>\\>>`True`</td>\n",
    "</tr>\n",
    "    \n",
    "<tr>\n",
    "    <td style=\"width:20%\">Logical NOT (`not`)</td>\n",
    "    <td style=\"width:50%\">Reverses the logical state of the given operand.</td>\n",
    "    <td style=\"width:30%\">`print not yes` <br>\\>>`False`</td>\n",
    "</tr>\n",
    "\n",
    "</table>\n",
    "\n",
    "<img \n",
    "src=\"http://geometric-computation-images.s3-website-us-east-1.amazonaws.com/1.02.D11.jpg\" \n",
    "style=\"width: 400px; display: inline;\">"
   ]
  },
  {
   "cell_type": "code",
   "execution_count": null,
   "metadata": {},
   "outputs": [],
   "source": []
  },
  {
   "cell_type": "markdown",
   "metadata": {},
   "source": [
    "TODO\n",
    "\n",
    "<table style=\"width:600px\">\n",
    "    \n",
    "<tr>\n",
    "    <th colspan=\"3\" style=\"text-align:left\">*Boolean Comparison Operators*</th>\n",
    "</tr>\n",
    "\n",
    "<tr>\n",
    "    <td style=\"width:20%\">Equality (`==`)</td>\n",
    "    <td style=\"width:50%\">Returns `True` if the value of two operands are the same. Note the difference between this operator and the Identity operator, below.</td>\n",
    "    <td style=\"width:30%\">`print pt_a == pt_b`<br>\\>>`True`</td>\n",
    "</tr>\n",
    "\n",
    "<tr><td>Greater Than (`>`)</td>\n",
    "    <td>Returns `True` if the value of the first operand is greater than the value of the second.</td>\n",
    "    <td>`print x > y`<br>\\>>`False`</td>\n",
    "</tr>\n",
    "\n",
    "<tr>\n",
    "    <td>Less Than (`<`)</td>\n",
    "    <td>Returns `True` if the value of the first operand is less than the value of the second.</td>\n",
    "    <td>`print x < y`<br>\\>>`True`</td>\n",
    "</tr>\n",
    "\n",
    "</table>"
   ]
  },
  {
   "cell_type": "markdown",
   "metadata": {},
   "source": [
    "TODO\n",
    "\n",
    "<table style=\"width:600px\">\n",
    "    \n",
    "<tr>\n",
    "    <th colspan=\"3\" style=\"text-align:left\">*The Identity Operator*</th>\n",
    "</tr>\n",
    "\n",
    "<tr>\n",
    "    <td style=\"width:20%\">Identity (`is`)</td>\n",
    "    <td style=\"width:50%\">Returns `True` if both operands refer to the same object, `False` otherwise. Useful for determining if two variables refer to the same structured data object.</td>\n",
    "    <td style=\"width:30%\">`print pt_a is pt_b`<br>\\>>`False`<br>`print pt_a is pt_c`<br>\\>>`True`</td>\n",
    "</tr>\n",
    "\n",
    "</table>\n",
    "\n"
   ]
  },
  {
   "cell_type": "markdown",
   "metadata": {},
   "source": [
    "### Integer and Float"
   ]
  },
  {
   "cell_type": "markdown",
   "metadata": {},
   "source": [
    "\n",
    "\n",
    "<table style=\"width:600px\">\n",
    "    \n",
    "<tr>\n",
    "    <th colspan=\"3\" style=\"text-align:left\">*Selected Arithmetic Operators*</th>\n",
    "</tr>\n",
    "\n",
    "<tr>\n",
    "    <td style=\"width:20%\">Addition (`+`)</td>\n",
    "    <td style=\"width:50%\">Adds values on either side of the operator.</td>\n",
    "    <td style=\"width:30%\">`print x + y`<br>\\>>30</td>\n",
    "</tr>\n",
    "\n",
    "<tr>\n",
    "    <td style=\"width:20%\">Multiplication (`*`)</td>\n",
    "    <td style=\"width:50%\">Multiplies values on either side of the operator.</td>\n",
    "    <td style=\"width:30%\">`print x * y`<br>\\>>200</td>\n",
    "</tr>\n",
    "\n",
    "<tr>\n",
    "    <td style=\"width:20%\">Modulus (`%`)</td>\n",
    "    <td style=\"width:50%\">Divides the first operand by the second operand, and returns the remainder.</td>\n",
    "    <td style=\"width:30%\">`print x % y`<br>\\>>0</td>\n",
    "</tr>\n",
    "\n",
    "<tr>\n",
    "    <td style=\"width:20%\">Exponent (`**`)</td>\n",
    "    <td style=\"width:50%\">Raises the first operand to the power of the second operand.</td>\n",
    "    <td style=\"width:30%\">`print x**y`<br>\\>>100000000000000000000</td>\n",
    "</tr>\n",
    "\n",
    "<tr>\n",
    "    <td style=\"width:20%\">Integer Division (`//`)</td>\n",
    "    <td style=\"width:50%\">The division of operands where the result is the quotient in which the digits after the decimal point are removed.</td>\n",
    "    <td style=\"width:30%\">`print 9//2`<br>\\>>4<br>`print 9.3//2.1`<br>\\>>4.0</td>\n",
    "</tr>\n",
    "\n",
    "<tr>\n",
    "    <td style=\"width:20%\">Addition Assignment (`+=`)</td>\n",
    "    <td style=\"width:50%\">Adds the value of the first operand to the second operand, and assigns the result to the first operand.</td>\n",
    "    <td style=\"width:30%\">`x+=2`<br>`print x`<br>\\>>12</td>\n",
    "</tr>\n",
    "</table>\n"
   ]
  },
  {
   "cell_type": "markdown",
   "metadata": {},
   "source": [
    "### Strings"
   ]
  },
  {
   "cell_type": "code",
   "execution_count": null,
   "metadata": {},
   "outputs": [],
   "source": []
  },
  {
   "cell_type": "markdown",
   "metadata": {},
   "source": [
    "## Structured Data Types"
   ]
  },
  {
   "cell_type": "code",
   "execution_count": null,
   "metadata": {},
   "outputs": [],
   "source": []
  },
  {
   "cell_type": "markdown",
   "metadata": {},
   "source": [
    "### The Structure of Structured Data Types\n",
    "\n",
    "<img \n",
    "src=\"http://geometric-computation-images.s3-website-us-east-1.amazonaws.com/1.02.C04.jpg\" \n",
    "style=\"width: 200px; display: inline;\">\n",
    "\n",
    "<img \n",
    "src=\"http://geometric-computation-images.s3-website-us-east-1.amazonaws.com/1.02.C05.jpg\" \n",
    "style=\"width: 200px; display: inline;\">\n"
   ]
  },
  {
   "cell_type": "code",
   "execution_count": null,
   "metadata": {},
   "outputs": [],
   "source": []
  },
  {
   "cell_type": "markdown",
   "metadata": {},
   "source": [
    "### A Tangle of Reference"
   ]
  },
  {
   "cell_type": "code",
   "execution_count": null,
   "metadata": {},
   "outputs": [],
   "source": []
  },
  {
   "cell_type": "markdown",
   "metadata": {},
   "source": [
    "\n",
    "<img \n",
    "src=\"http://geometric-computation-images.s3-website-us-east-1.amazonaws.com/1.02.D06.jpg\" \n",
    "style=\"width: 600px; display: inline;\">\n"
   ]
  },
  {
   "cell_type": "markdown",
   "metadata": {},
   "source": [
    "### Operators and Structured Data Types"
   ]
  },
  {
   "cell_type": "code",
   "execution_count": null,
   "metadata": {},
   "outputs": [],
   "source": []
  }
 ],
 "metadata": {
  "kernelspec": {
   "display_name": "Python 3",
   "language": "python",
   "name": "python3"
  },
  "language_info": {
   "codemirror_mode": {
    "name": "ipython",
    "version": 3
   },
   "file_extension": ".py",
   "mimetype": "text/x-python",
   "name": "python",
   "nbconvert_exporter": "python",
   "pygments_lexer": "ipython3",
   "version": "3.6.4"
  }
 },
 "nbformat": 4,
 "nbformat_minor": 2
}
