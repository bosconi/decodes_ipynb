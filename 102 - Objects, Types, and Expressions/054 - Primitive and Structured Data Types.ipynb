{
 "cells": [
  {
   "cell_type": "code",
   "execution_count": 3,
   "metadata": {},
   "outputs": [
    {
     "name": "stdout",
     "output_type": "stream",
     "text": [
      "http://decod.es/\tv0.2.3\n",
      "io loaded\n"
     ]
    }
   ],
   "source": [
    "from decodes.core import *\n",
    "from decodes.io.jupyter_out import JupyterOut\n",
    "out = JupyterOut.unit_square( )"
   ]
  },
  {
   "cell_type": "markdown",
   "metadata": {},
   "source": [
    "# Primitive and Structured Data Types\n",
    "\n",
    "We may easily distinguish between primitive data types and structured ones. In Python, the former includes a limited set of just four types that are built into the language itself. For the purposes of this discussion, we may regard these types as elemental and indivisible - the innermost possible layer of our series of Russian dolls. The latter category, structured data types, encompasses all other objects we will encounter and can author, including all the classes that are a part of the Decod.es library.\n",
    "\n",
    "The distinction between primitive and structured types is reflected in the different ways these two categories of types are represented in diagram: primitive types are attached directly to their variables, while structured types are tethered to their variables like balloons. \n",
    "\n",
    "This visual distinction emphasizes how these types behave differently within the Python object model, specifically regarding their mutability: \n",
    "\n",
    "* ***primitive*** objects are generally ***immutable***, meaning that their values cannot change once assigned\n",
    "* ***structured*** objects which are generally assigned by reference and thus ***mutable***\n"
   ]
  },
  {
   "cell_type": "markdown",
   "metadata": {},
   "source": [
    "Recalling that objects are distinct from variables, it should be clear why, despite the fact that Integers are immutable, the following code is perfectly legal. Here, while the object associated with the variable int appears to be changed, what actually occurs in the background is the re-assignment of int to an entirely new object."
   ]
  },
  {
   "cell_type": "code",
   "execution_count": null,
   "metadata": {},
   "outputs": [],
   "source": [
    "int = 1\n",
    "int = int + 1\n",
    "print(int)"
   ]
  },
  {
   "cell_type": "markdown",
   "metadata": {},
   "source": [
    "## Primitive Data Types\n",
    "\n",
    "we can think of the primitive data types listed here as elemental and indivisible, standing apart from structured types by the absence of accessible internal structure. In contrast with the geometric types developed for Decod.es, the types listed here are all native to the Python language. Where applicable, a selection of important methods and operators associated with each of these types will be described.\n",
    "\n",
    "For each demonstration in this section, we assume a set of predefined variables.\n",
    "\n",
    "<img \n",
    "src=\"http://geometric-computation-images.s3-website-us-east-1.amazonaws.com/1.02.D08.jpg\" \n",
    "style=\"width: 400px; display: inline;\">"
   ]
  },
  {
   "cell_type": "code",
   "execution_count": null,
   "metadata": {},
   "outputs": [],
   "source": [
    "x,y = 10,20\n",
    "yes, no = True, False"
   ]
  },
  {
   "cell_type": "markdown",
   "metadata": {},
   "source": [
    "### Boolean\n",
    "\n",
    "Booleans, sometimes referred to as “Bools”, are written as the literals `True` and `False`. \n",
    "\n",
    "Booleans are very often used in control-flow code structures, and in that context, many objects may be converted into Booleans in a truth value testing situation. For example, if we were to substitute a numeric type or an empty collection into the nearby code, we would not receive an error, and instead the if statement on the second line would treat these non-Boolean types as if they were `False`."
   ]
  },
  {
   "cell_type": "code",
   "execution_count": null,
   "metadata": {},
   "outputs": [],
   "source": [
    "do_it = True\n",
    "if do_it:\n",
    "    print(\"it's done!\")"
   ]
  },
  {
   "cell_type": "markdown",
   "metadata": {},
   "source": [
    "\n",
    "<table style=\"width:600px\">\n",
    "    \n",
    "<tr>\n",
    "    <th colspan=\"3\" style=\"text-align:left\">*Boolean Logical Operators*</th>\n",
    "</tr>\n",
    "    \n",
    "<tr>\n",
    "    <td style=\"width:20%\">Logical AND (`and`)</td>\n",
    "    <td style=\"width:50%\">Returns `True` if both operands are `True`.</td>\n",
    "    <td style=\"width:30%\">`print yes and no`<br>\\>>`False`</td>\n",
    "</tr>\n",
    "    \n",
    "<tr>\n",
    "    <td style=\"width:20%\">Logical OR (`or`)</td>\n",
    "    <td style=\"width:50%\">Returns `True` if either of the two operands are `True`.</td>\n",
    "    <td style=\"width:30%\">`print yes or no` <br>\\>>`True`</td>\n",
    "</tr>\n",
    "    \n",
    "<tr>\n",
    "    <td style=\"width:20%\">Logical NOT (`not`)</td>\n",
    "    <td style=\"width:50%\">Reverses the logical state of the given operand.</td>\n",
    "    <td style=\"width:30%\">`print not yes` <br>\\>>`False`</td>\n",
    "</tr>\n",
    "\n",
    "</table>\n",
    "\n",
    "While the three logical operators are some of the few that are regularly applied to Boolean objects, a much broader family of operators produce Boolean values. These include the ***comparison*** operators, which are used to compare arbitrary objects, and the ***identity*** operator which is used to determine if two variables refer to the same object in memory.\n",
    "\n",
    "<img \n",
    "src=\"http://geometric-computation-images.s3-website-us-east-1.amazonaws.com/1.02.D11.jpg\" \n",
    "style=\"width: 400px; display: inline;\">"
   ]
  },
  {
   "cell_type": "code",
   "execution_count": null,
   "metadata": {},
   "outputs": [],
   "source": [
    "pt_a, pt_b = Point(0,1), Point(0,1)\n",
    "pt_c = pt_b"
   ]
  },
  {
   "cell_type": "markdown",
   "metadata": {},
   "source": [
    "<table style=\"width:600px\">\n",
    "    \n",
    "<tr>\n",
    "    <th colspan=\"3\" style=\"text-align:left\">*Boolean Comparison Operators*</th>\n",
    "</tr>\n",
    "\n",
    "<tr>\n",
    "    <td style=\"width:20%\">Equality (`==`)</td>\n",
    "    <td style=\"width:50%\">Returns `True` if the value of two operands are the same. Note the difference between this operator and the Identity operator, below.</td>\n",
    "    <td style=\"width:30%\">`print pt_a == pt_b`<br>\\>>`True`</td>\n",
    "</tr>\n",
    "\n",
    "<tr><td>Greater Than (`>`)</td>\n",
    "    <td>Returns `True` if the value of the first operand is greater than the value of the second.</td>\n",
    "    <td>`print x > y`<br>\\>>`False`</td>\n",
    "</tr>\n",
    "\n",
    "<tr>\n",
    "    <td>Less Than (`<`)</td>\n",
    "    <td>Returns `True` if the value of the first operand is less than the value of the second.</td>\n",
    "    <td>`print x < y`<br>\\>>`True`</td>\n",
    "</tr>\n",
    "\n",
    "</table>"
   ]
  },
  {
   "cell_type": "markdown",
   "metadata": {},
   "source": [
    "Notice the distinction between the equality operator and the identity operator when applied to structured types such as Points. All the Point objects in the code above (pt_a, pt_b, pt_c) contain the same values, and will evaluate as equal using the equality operator. The identity operator, however, evaluates another kind of equivalence. \n",
    "\n",
    "***Two variables are identical only if they refer to the exact same object in memory.***\n",
    "\n",
    "<table style=\"width:600px\">\n",
    "    \n",
    "<tr>\n",
    "    <th colspan=\"3\" style=\"text-align:left\">*The Identity Operator*</th>\n",
    "</tr>\n",
    "\n",
    "<tr>\n",
    "    <td style=\"width:20%\">Identity (`is`)</td>\n",
    "    <td style=\"width:50%\">Returns `True` if both operands refer to the same object, `False` otherwise. Useful for determining if two variables refer to the same structured data object.</td>\n",
    "    <td style=\"width:30%\">`print pt_a is pt_b`<br>\\>>`False`<br>`print pt_a is pt_c`<br>\\>>`True`</td>\n",
    "</tr>\n",
    "\n",
    "</table>\n",
    "\n"
   ]
  },
  {
   "cell_type": "markdown",
   "metadata": {},
   "source": [
    "### Integer and Float\n",
    "\n",
    "The two numeric types that we will use in this class are limited to Integer for integer numbers and Float for numbers with a decimal point. \n",
    "\n",
    "The operators most commonly applied to numeric types are largely arithmetic, and can be represented by the standard set of symbols that make manipulation of these data types succinct. All arithmetic operators may be applied to both Integer and Float types in Python."
   ]
  },
  {
   "cell_type": "markdown",
   "metadata": {},
   "source": [
    "\n",
    "\n",
    "<table style=\"width:600px\">\n",
    "    \n",
    "<tr>\n",
    "    <th colspan=\"3\" style=\"text-align:left\">*Selected Arithmetic Operators*</th>\n",
    "</tr>\n",
    "\n",
    "<tr>\n",
    "    <td style=\"width:20%\">Addition (`+`)</td>\n",
    "    <td style=\"width:50%\">Adds values on either side of the operator.</td>\n",
    "    <td style=\"width:30%\">`print x + y`<br>\\>>30</td>\n",
    "</tr>\n",
    "\n",
    "<tr>\n",
    "    <td style=\"width:20%\">Multiplication (`*`)</td>\n",
    "    <td style=\"width:50%\">Multiplies values on either side of the operator.</td>\n",
    "    <td style=\"width:30%\">`print x * y`<br>\\>>200</td>\n",
    "</tr>\n",
    "\n",
    "<tr>\n",
    "    <td style=\"width:20%\">Modulus (`%`)</td>\n",
    "    <td style=\"width:50%\">Divides the first operand by the second operand, and returns the remainder.</td>\n",
    "    <td style=\"width:30%\">`print x % y`<br>\\>>0</td>\n",
    "</tr>\n",
    "\n",
    "<tr>\n",
    "    <td style=\"width:20%\">Exponent (`**`)</td>\n",
    "    <td style=\"width:50%\">Raises the first operand to the power of the second operand.</td>\n",
    "    <td style=\"width:30%\">`print x**y`<br>\\>>100000000000000000000</td>\n",
    "</tr>\n",
    "\n",
    "<tr>\n",
    "    <td style=\"width:20%\">Integer Division (`//`)</td>\n",
    "    <td style=\"width:50%\">The division of operands where the result is the quotient in which the digits after the decimal point are removed.</td>\n",
    "    <td style=\"width:30%\">`print 9//2`<br>\\>>4<br>`print 9.3//2.1`<br>\\>>4.0</td>\n",
    "</tr>\n",
    "\n",
    "<tr>\n",
    "    <td style=\"width:20%\">Addition Assignment (`+=`)</td>\n",
    "    <td style=\"width:50%\">Adds the value of the first operand to the second operand, and assigns the result to the first operand.</td>\n",
    "    <td style=\"width:30%\">`x+=2`<br>`print x`<br>\\>>12</td>\n",
    "</tr>\n",
    "</table>\n"
   ]
  },
  {
   "cell_type": "markdown",
   "metadata": {},
   "source": [
    "### Strings\n",
    "\n",
    "Strings are not, strictly speaking, a primitive type. They are something of a hybrid. \n",
    "\n",
    "They may be considered a kind of collection, as Strings permit the application of indexing and slicing operations using the square-bracket enclosure operators (`[]`). Despite this property which is typically associated with structured data types, Strings are paradoxically **immutable** and thus behave more like primitive types within the Python object model."
   ]
  },
  {
   "cell_type": "markdown",
   "metadata": {},
   "source": [
    "## Structured Data Types\n",
    "\n",
    "In contrast with primitive types, structured data types are organized composites of lower-level data. These lower-level composites might be primitive types, or may themselves be structured of lower levels\n",
    "still. \n",
    "\n",
    "Where primitive types may be elucidated by a discussion of their basic interactions via operators, the behavior of structured types varies widely depending on their composition.\n",
    "\n",
    "The salient quality of structured data types arises from the fact that they are composed of other objects in the object model. This brings to the foreground a number of complications regarding the nature of these composite objects, and of the object model itself, that must be grasped in order for them to be applied and authored effectively. \n",
    "\n",
    "Structured data types that we will encounter in this text include all collection types, such as Lists and Dictionaries, as well as any class imported from a module, such as the Point, Vec, and Line classes found in the Decod.es library."
   ]
  },
  {
   "cell_type": "markdown",
   "metadata": {},
   "source": [
    "### The Structure of Structured Data Types\n",
    "\n",
    "The key set of decisions in the design of classes lies in the definition of its attributes, that is to say, what information is stored as a member of each instance and what methods are made available to operate upon it.\n",
    "\n",
    "Recall our earlier presentation, which presupposed a line segment that was constructed between a point at coordinates `(0,0)` and one at `(1,1)`. In this presupposition something important was glossed over: the way in which line segments are structured impacts their behavior in important ways.\n",
    "\n",
    "Should we think of the resulting object as a container for the two points from which it was made, or as a container for a starting position and a vector that defines its direction and length?\n",
    "\n",
    "<img \n",
    "src=\"http://geometric-computation-images.s3-website-us-east-1.amazonaws.com/1.02.C04.jpg\" \n",
    "style=\"width: 200px; display: inline;\"> <img \n",
    "src=\"http://geometric-computation-images.s3-website-us-east-1.amazonaws.com/1.02.C05.jpg\" \n",
    "style=\"width: 200px; display: inline;\">\n",
    "\n",
    "One nearby diagram implies the latter, and depicts two Point objects encased within an object (of type SegmentTwoPoint), accessible to the outside world only through the attributes `spt` and `ept`. This configuration is certainly plausible, but is not the only one possible, as we may see in a second nearby diagram (depicting `SegmentPointVec`) that exposes `pt` and `vec` attributes. \n",
    "\n",
    "This distinction may seem minor (the attributes `spt`, `ept`, and `vec` are available to each) until we consider how each of these might be used in practice. \n",
    "\n",
    "The difference lies in which of these attributes are the **primary members** of the object and which are expressed as **derived properties**. While primary members may be both retrieved and altered in place, thereby affecting all the other attributes of the object, derived properties may only be read. \n",
    "\n",
    "So, while the `SegmentPointVec` type has an `ept` property, we may not assign the end point of this segment directly. The same holds true of the `vec` property of the SegmentTwoPoint type. \n",
    "\n",
    "Consider the following code, which produces identical line segments through different means:"
   ]
  },
  {
   "cell_type": "code",
   "execution_count": null,
   "metadata": {},
   "outputs": [],
   "source": [
    "line_a = SegmentTwoPoint(Point(1,1),Point(2,2))\n",
    "line_a.ept = Point(1,2)\n",
    "\n",
    "line_b = SegmentPointVec(Point(1,1),Point(2,2))\n",
    "line_b.vec = Vec(0,1)"
   ]
  },
  {
   "cell_type": "markdown",
   "metadata": {},
   "source": [
    "### A Tangle of Reference\n",
    "\n",
    "The unexpected behavior produced by the particular relationship between variables and structured data types in Python (the reference relationship) becomes even more important when we consider the case of structured data types that are composed of other structured data types.\n",
    "\n",
    "Imagine a Segment class that stores a Point and a Vec as members. Now imagine constructing an instance of this class using an argument that references an existing object in memory. \n",
    "\n",
    "In the following code, compare the way `line_a` and `line_b` are constructed. The former is built from two Points that are not associated with any existing variables, while the latter is initialized using a reference to `pt_a`, an object already in memory and is associated with a variable. \n",
    "\n",
    "What implications does this hold if `pt_a` were to subsequently be altered?"
   ]
  },
  {
   "cell_type": "code",
   "execution_count": 7,
   "metadata": {},
   "outputs": [
    {
     "name": "stdout",
     "output_type": "stream",
     "text": [
      "pt[1,1,0] pt[2,2,0]\n",
      "pt[0,0,0] pt[0,1,0]\n"
     ]
    }
   ],
   "source": [
    "line_a = Segment(Point(1,1),Point(2,2))\n",
    "pt_a = Point(0,0)\n",
    "line_b = Segment(pt_a,Point(0,1))\n",
    "\n",
    "print(line_a.spt, line_a.ept)\n",
    "print(line_b.spt, line_b.ept)"
   ]
  },
  {
   "cell_type": "markdown",
   "metadata": {},
   "source": [
    "\n",
    "<img \n",
    "src=\"http://geometric-computation-images.s3-website-us-east-1.amazonaws.com/1.02.D06.jpg\" \n",
    "style=\"width: 600px; display: inline;\">\n"
   ]
  },
  {
   "cell_type": "markdown",
   "metadata": {},
   "source": [
    "Given a simple Segment class that is initialized in a straightforward way, the result of the code above will be a top-level object, `line_b`, that contains a reference to another top-level object, `pt_a`. \n",
    "\n",
    "Understanding how variable binding works in Python, it should be clear that, all else being equal, the subsequent manipulation of `pt_a` will affect a change in `line_b` without the explicit mention of `line_b`. This behavior can be useful if we understand the nature of variable binding, and confounding if we do not. Imagine the difficulty of debugging a piece of code that affects changes to objects in memory without once mentioning these objects.\n",
    "\n",
    "Note that this is not how Decodes Segments work. In a Decodes segment, copies of all variables passed to the constructor are made. For this reason, any changes to `pt_a` will not affect `line_b`."
   ]
  },
  {
   "cell_type": "code",
   "execution_count": 8,
   "metadata": {},
   "outputs": [
    {
     "name": "stdout",
     "output_type": "stream",
     "text": [
      "pt[1,1,0] pt[2,2,0]\n",
      "pt[0,0,0] pt[0,1,0]\n"
     ]
    }
   ],
   "source": [
    "pt_a += Vec(0,0,1)\n",
    "\n",
    "print(line_a.spt, line_a.ept)\n",
    "print(line_b.spt, line_b.ept)"
   ]
  },
  {
   "cell_type": "markdown",
   "metadata": {},
   "source": [
    "### Operators and Structured Data Types"
   ]
  },
  {
   "cell_type": "markdown",
   "metadata": {},
   "source": [
    "The technique of giving more than one meaning to a standard operator for a user-defined class is called ***operator overloading***. For example, the expression `Point(2,3,0) + Vec(0,0,1)` is legal by design, and results in the displaced point `Point(2,3,1)`."
   ]
  }
 ],
 "metadata": {
  "kernelspec": {
   "display_name": "Python 3",
   "language": "python",
   "name": "python3"
  },
  "language_info": {
   "codemirror_mode": {
    "name": "ipython",
    "version": 3
   },
   "file_extension": ".py",
   "mimetype": "text/x-python",
   "name": "python",
   "nbconvert_exporter": "python",
   "pygments_lexer": "ipython3",
   "version": "3.6.4"
  }
 },
 "nbformat": 4,
 "nbformat_minor": 2
}
