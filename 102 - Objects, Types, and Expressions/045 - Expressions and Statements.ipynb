{
 "cells": [
  {
   "cell_type": "code",
   "execution_count": null,
   "metadata": {},
   "outputs": [],
   "source": [
    "from decodes.core import *\n",
    "from decodes.io.jupyter_out import JupyterOut\n",
    "out = JupyterOut.unit_square( )"
   ]
  },
  {
   "cell_type": "markdown",
   "metadata": {},
   "source": [
    "# Expressions and Statements\n",
    "\n",
    "In this section, we introduce one of the basic tools required for computational literacy: the ability to break down the syntax of a script, to comprehend the resulting operations, and to understand the effect these operations produce in the context of the object model.\n"
   ]
  },
  {
   "cell_type": "markdown",
   "metadata": {},
   "source": [
    "## The Atomic Elements of an Expression\n",
    "\n",
    "By now we know that a script is made up of a sequence of instructions called **statements**, which are typically represented by a single line of code. Here we examine programmatic structures at *scales smaller than a statement* and unpack the smaller units of instruction that are contained within. Let us term these smaller units ***expressions***.\n",
    "\n",
    "What's the difference between a statement and an expression?\n",
    "\n",
    "An expression can always be reduced to a value, a single object that may make an appearance in our object model. In contrast, a statement may not reduce to a single object, and instead is comprised of one or more expressions that together constitute a single instruction. Under this heuristic, the short statement below may be found to contain two expressions that each reduce to a single object."
   ]
  },
  {
   "cell_type": "code",
   "execution_count": null,
   "metadata": {},
   "outputs": [],
   "source": [
    "if a < b : print( a , \"is less than \" , b )"
   ]
  },
  {
   "cell_type": "markdown",
   "metadata": {},
   "source": [
    "By the end of this section we will understand the precise mechanisms by which the above statement may be reduced to a form that resembles the syntax templates that we have been using throughout this text.\n",
    "\n",
    "    if Boolean : print String\n",
    "    \n",
    "Since the above statement won't work on its own, here's a modification to get things running:"
   ]
  },
  {
   "cell_type": "code",
   "execution_count": null,
   "metadata": {},
   "outputs": [],
   "source": [
    "import random\n",
    "a,b = random.random(), random.random()\n",
    "\n",
    "if a < b : print( a , \"is less than \" , b )\n",
    "else: print( b , \"is less than \" , a )"
   ]
  },
  {
   "cell_type": "markdown",
   "metadata": {},
   "source": [
    "It turns out that expressions may only contain a limited vocabulary of elements. These include:\n",
    "* **literals** such as explicitly written strings or numeric values\n",
    "* **variables** or, more broadly, **identifiers** which may include the names of modules or libraries\n",
    "* **operators** which are the symbols that 'glue' together expressions.\n",
    "\n",
    "In the sections that follow, we'll discuss these elements (and a few more)."
   ]
  },
  {
   "cell_type": "markdown",
   "metadata": {},
   "source": [
    "### Literals\n",
    "\n",
    "In contrast to values that are represented by objects that reside within the active model, a literal is a value that is explicitly defined in code.\n",
    "\n",
    "<img src=\"http://geometric-computation-images.s3-website-us-east-1.amazonaws.com/1.02.P09.jpg\" style=\"width: 400px; display: inline;\">\n",
    "\n",
    "For example, when we come across a numeric value like the `99` in the \n",
    "\n",
    "    problem_count = 99 \n",
    "    \n",
    "statement, there is no pre-existing object in memory that is being referred to. Instead, the literal expression `99` is translated by the shell into the appropriate kind of object (in this case an Integer number).\n",
    "\n",
    "There are only four types of literal values that may be written explicitly as an expression:\n",
    "* **Booleans**, as in `True`\n",
    "* **Strings**, as in `“hello, human”`\n",
    "* **Integers**, as in `42`\n",
    "* **decimal numbers** (floating point numbers), as in `3.14` \n",
    "\n",
    "We may imagine that any time the Python interpreter encounters these expressions, that the appropriate object is simply created and made available in the object model."
   ]
  },
  {
   "cell_type": "markdown",
   "metadata": {},
   "source": [
    "### Variables\n",
    "\n",
    "The lexical rule that the interpreter follows upon encountering a variable name in an expression is self-evident: the appropriate object is simply retrieved from memory.\n",
    "\n",
    "We typically find variable names when we are relating other variables to their objects, as in the first line of code below, or retrieving data from them, as in the second line of code."
   ]
  },
  {
   "cell_type": "code",
   "execution_count": null,
   "metadata": {},
   "outputs": [],
   "source": [
    "my_var = other_var\n",
    "my_coord = pt_a.x"
   ]
  },
  {
   "cell_type": "markdown",
   "metadata": {},
   "source": [
    "#### Rules for naming variables\n",
    "\n",
    "Universal good practice in most programming languages is to assign variables names that are relatively short, descriptive, and to refrain from using a restricted set of keywords and special characters in the language.\n",
    "\n",
    "In Python, variables can contain both letters and numbers but cannot start with a number such as `10points`. While uppercase letters may be used in variable names, ***it is conventional to use only lowercase letters***, and to assign variable names comprised of words separated by the underscore character (`_`) such as `next_point`. \n",
    "\n",
    "#### Multiple Assignment\n",
    "Multiple variables may each be assigned a separate value in a single statement using the following concise syntax:"
   ]
  },
  {
   "cell_type": "code",
   "execution_count": null,
   "metadata": {},
   "outputs": [],
   "source": [
    "x,y = 10,20\n",
    "yes, no = True, False\n",
    "pt_a, pt_b, pt_c = Point(), Point(), Point()"
   ]
  },
  {
   "cell_type": "markdown",
   "metadata": {},
   "source": [
    "## Operators\n",
    "Operators are the connecting bits that stitch together expressions. We have already seen many operators at work.\n",
    "\n",
    "The dot operator (`.`) cracks open objects. \n",
    "\n",
    "The assignment operator (`=`) relates variable names to objects in memory. \n",
    "\n",
    "We have seen a number of arithmetic operators ( `+`, `-`, `*`, etc ) used for basic math and for allowing Points and Vecs to interact, and we’ve seen enclosure operators, such as parenthesis(`()`), used to group together elements in a collection and pass arguments to methods and functions.\n",
    "\n",
    "From this experience, it is clear not only that there are a large number of operators at work in a script, but that the same operator can take on different meanings in different contexts.\n",
    "\n",
    "The meaning of an operator is dependent on the context in which it is used. For example:"
   ]
  },
  {
   "cell_type": "code",
   "execution_count": null,
   "metadata": {},
   "outputs": [],
   "source": [
    "num_a = 10/2\n",
    "nums = Interval()/10\n",
    "\n",
    "print(num_a)\n",
    "print(nums)"
   ]
  },
  {
   "cell_type": "markdown",
   "metadata": {},
   "source": [
    "### Enclosures\n",
    "\n",
    "Enclosure operators include parentheses and other similar characters that capture expressions. This includes not only arithmetic-like grouping of expressions, but also calls to functions and methods as well as collection indexing.\n"
   ]
  },
  {
   "cell_type": "code",
   "execution_count": null,
   "metadata": {},
   "outputs": [],
   "source": [
    "\"\"\"\n",
    "Enclosure Operators\n",
    "\"\"\"\n",
    "# an arithmetic-like grouping\n",
    "(a + 1)\n",
    "\n",
    "# a function call\n",
    "range(10)\n",
    "\n",
    "# collection indexing\n",
    "nums[2]"
   ]
  },
  {
   "cell_type": "markdown",
   "metadata": {},
   "source": [
    "### The Dot Operator\n",
    "As we have already seen, the dot operator allows access to the attributes\n",
    "of objects stored in memory."
   ]
  },
  {
   "cell_type": "markdown",
   "metadata": {},
   "source": [
    "### Arithmetic Operators\n",
    "\n",
    "When used together with numeric values or variables, most operators in this category make sense without formal introduction because they have the same meaning in Python as they do in mathematics. \n",
    "\n",
    "Some translates from mathematics that may be less familiar are integer division (`//`) and the exceedingly useful modulus operator (`%`).\n"
   ]
  },
  {
   "cell_type": "code",
   "execution_count": null,
   "metadata": {},
   "outputs": [],
   "source": [
    "\"\"\"\n",
    "Arithmetic Operators\n",
    "\"\"\"\n",
    "# multiplication\n",
    "print(3*2)\n",
    "\n",
    "# exponentiation\n",
    "print( (5-1.0/3)**3 )\n",
    "\n",
    "# modulus\n",
    "print( (2 + 3)%12 )\n",
    "\n",
    "# consider the arithmetic order of operations here\n",
    "deg_celsius = 30\n",
    "print( deg_celsius*(9/5)+32 )"
   ]
  },
  {
   "cell_type": "code",
   "execution_count": null,
   "metadata": {},
   "outputs": [],
   "source": [
    "print(4/3)\n",
    "print(4//3)\n",
    "print(4%3)"
   ]
  },
  {
   "cell_type": "code",
   "execution_count": null,
   "metadata": {},
   "outputs": [],
   "source": [
    "print(2/3)\n",
    "print(2//3)\n",
    "print(2%3)"
   ]
  },
  {
   "cell_type": "markdown",
   "metadata": {},
   "source": [
    "### Comparison Operators\n",
    "\n",
    "The comparison operators ( `>`, `<`, `==`, etc ) are used to compare the value of two objects, and evaluate to be `True` or `False`.\n",
    "\n",
    "As we'll see, we may use these operators not only to compare numeric values, but other sorts of objects as well. While these operators also derive from mathematics, they have lower precedence than the arithmetic operators."
   ]
  },
  {
   "cell_type": "code",
   "execution_count": null,
   "metadata": {},
   "outputs": [],
   "source": [
    "\"\"\"\n",
    "Comparison Operators\n",
    "\"\"\"\n",
    "# evaluates to True\n",
    "bool = 2 < 3\n",
    "print(bool)\n",
    "\n",
    "# valid. see the section on operator overloading\n",
    "bool = Point(0,0) < Point(1,2)\n",
    "print(bool)"
   ]
  },
  {
   "cell_type": "markdown",
   "metadata": {},
   "source": [
    "### Logical Operators\n",
    "\n",
    "Like comparison operators, the logical operators ( `and`, `or`, `not` ) also evaluate to be `True` or `False`. A chain of expressions connected by these are evaluated from left to right, and evaluation stops when truth or falsehood is ascertained.\n"
   ]
  },
  {
   "cell_type": "code",
   "execution_count": null,
   "metadata": {},
   "outputs": [],
   "source": [
    "\"\"\"\n",
    "Logical Operators\n",
    "\"\"\"\n",
    "# evaluates to True\n",
    "bool = 2 < 3 and 3 < 4\n",
    "print(bool)\n",
    "\n",
    "# evaluates to False\n",
    "bool = True and False\n",
    "print(bool)\n",
    "\n",
    "# evaluates to True\n",
    "bool = True or False\n",
    "print(bool)"
   ]
  },
  {
   "cell_type": "markdown",
   "metadata": {},
   "source": [
    "## Decomposing an Expression\n",
    "\n",
    "Just as in mathematics, expressions in code are evaluated in the order specified by the precedence rules of the language. In mathematics, this is termed the order of operations, as may be demonstrated by an example that relies on familiar operations. Consider the expression `1 + 1 == 2`. First, the three numeric literals are converted into the appropriate objects, represented here by our symbols for the Python number type.\n",
    "\n",
    "<img src=\"http://geometric-computation-images.s3-website-us-east-1.amazonaws.com/1.02.P10.jpg\" style=\"width: 800px; display: inline;\">\n",
    "\n",
    "Applying the precedence order outlined above, we can see that the arithmetic operator (`+`) should be evaluated before the comparison operator (`==`). This reduces the expression to `2 == 2`.\n",
    "\n",
    "<img src=\"http://geometric-computation-images.s3-website-us-east-1.amazonaws.com/1.02.P11.jpg\" style=\"width: 800px; display: inline;\">\n",
    "\n",
    "That leaves just one operator remaining, which reduces things down to just a single object, the Boolean value `True`.\n",
    "\n",
    "<img src=\"http://geometric-computation-images.s3-website-us-east-1.amazonaws.com/1.02.P12.jpg\" style=\"width: 800px; display: inline;\">\n",
    "\n",
    "To move beyond this simple example , we’ll need to be a bit more explicit about the evaluation order of not just arithmetic operators, but of the implications of enclosures and method calls as well."
   ]
  },
  {
   "cell_type": "markdown",
   "metadata": {},
   "source": [
    "### Evaluation Order\n",
    "\n",
    "1. The evaluation of a statement begins with the most basic elements of expressions, sometimes termed atoms, which includes both the interpretation of **literals** and the retrieval of **variables**. This step does not actually reduce the statement in any way that would be captured by our diagram, but merely sets up the object model as needed. \n",
    "\n",
    "2. This allows any expressions that are captured by an **enclosure** to then be evaluated. This is crucial, as it may require the separate resolution of enclosed sub-expressions. For example, in the evaluation of the expression `range(n-1)`, the sub-expression `n-1` must be resolved before the `range()` function, even though arithmetic operators are of lower precedence than function calls. \n",
    "\n",
    "3. After resolving enclosures, any calls to **methods** and **functions**, **collection indexing**, and **attribute references** are evaluated. \n",
    "\n",
    "4. Finally, just as in mathematics, all the remaining **operators** are resolved following a clear set of precedence rules. As we saw above, these are listed below from highest precedence to lowest precedence. All else being equal, Python evaluates such expressions from left to right, with the notable exception of the evaluation of an assignment statement, in which the right-hand side is evaluated before the left-hand side.\n",
    "\n",
    "    1. **arithmetic** (following the mathematic convention)\n",
    "    2. **concatenation**\n",
    "    3. **comparison**\n",
    "    4. **Boolean**\n",
    "\n",
    "\n"
   ]
  },
  {
   "cell_type": "markdown",
   "metadata": {},
   "source": [
    "### A Sample Decomposition\n",
    "\n",
    "Let us put all of this to practice by decomposing a slightly more involved script into its separate expressions, and evaluating each in turn until we have reduced our code to the only simplest possible set of expressions.\n",
    "\n",
    "The following script contains two statements. For the sake of brevity, we will evaluate both simultaneously even though the shell would actually perform each evaluation separately.\n",
    "\n",
    "<img src=\"http://geometric-computation-images.s3-website-us-east-1.amazonaws.com/1.02.P05.jpg\" style=\"width: 800px; display: inline;\">\n",
    "\n",
    "First, the variable references are resolved, and the literal expressions are converted into the appropriate objects.\n",
    "\n",
    "<img src=\"http://geometric-computation-images.s3-website-us-east-1.amazonaws.com/1.02.P06.jpg\" style=\"width: 800px; display: inline;\">\n",
    "\n",
    "Next, those expressions that are captured by an enclosure are evaluated. Here, this includes only the sub-expression captured by the parentheses of the call to the built-in function `sin()`. The evaluation of this sub-expression occurs as a separate operation, and is resolved according to a precedence order applied internally. In this case, there is only a single arithmetic operator to evaluate, so the expression `value/2` reduces to a single number object.\n",
    "\n",
    "<img src=\"http://geometric-computation-images.s3-website-us-east-1.amazonaws.com/1.02.P13.jpg\" style=\"width: 800px; display: inline;\">\n",
    "\n",
    "Returning this number object to the evaluation of our main expression, we may now call the built-in function `sin()` which again returns a single number. For the sake of brevity, we may also perform a step of resolving the arithmetic and concatenation operations found in the second statement, which reduces down to the print command and a single argument.\n",
    "\n",
    "<img src=\"http://geometric-computation-images.s3-website-us-east-1.amazonaws.com/1.02.P07.jpg\" style=\"width: 800px; display: inline;\">\n",
    "\n",
    "Finally, there remains just one comparison operator that remains to be resolved, which reduces our first statement to a simple conditional expression.\n",
    "\n",
    "<img src=\"http://geometric-computation-images.s3-website-us-east-1.amazonaws.com/1.02.P08.jpg\" style=\"width: 800px; display: inline;\">\n"
   ]
  }
 ],
 "metadata": {
  "kernelspec": {
   "display_name": "Python 3",
   "language": "python",
   "name": "python3"
  },
  "language_info": {
   "codemirror_mode": {
    "name": "ipython",
    "version": 3
   },
   "file_extension": ".py",
   "mimetype": "text/x-python",
   "name": "python",
   "nbconvert_exporter": "python",
   "pygments_lexer": "ipython3",
   "version": "3.6.4"
  }
 },
 "nbformat": 4,
 "nbformat_minor": 2
}
