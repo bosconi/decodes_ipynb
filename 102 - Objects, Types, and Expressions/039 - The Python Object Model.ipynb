{
 "cells": [
  {
   "cell_type": "code",
   "execution_count": null,
   "metadata": {},
   "outputs": [],
   "source": [
    "from decodes.core import *\n",
    "from decodes.io.jupyter_out import JupyterOut\n",
    "out = JupyterOut.unit_square( )"
   ]
  },
  {
   "cell_type": "markdown",
   "metadata": {},
   "source": [
    "# The Python Object Model\n",
    "\n",
    "Equipped with a general understanding of object-oriented programming,\n",
    "we can now examine how these concepts are applied in the\n",
    "specific case of Python, which offers a unique model for the representation\n",
    "of objects.\n",
    "\n",
    "From a technical perspective, Python is **dynamically-typed** (meaning\n",
    "that type-checking occurs at run-time) and **high-level** (meaning it is\n",
    "strongly abstracted from the details of the hardware) in comparison\n",
    "to other OOP languages."
   ]
  },
  {
   "cell_type": "markdown",
   "metadata": {},
   "source": [
    "## The Dot Operator and Object Attributes\n",
    "\n",
    "In programming parlance, **operators** are special symbols, typically\n",
    "non-alphanumeric characters, that stitch together expressions into\n",
    "statements. One particular operator relates directly to an\n",
    "important quality of objects in Python - **the dot operator** (`.`).\n",
    "\n",
    "Objects are bundles of related data and procedural logic that may be nested, one inside another. **The job of the dot operator is to “crack” things open** so we can look inside. It is a syntactical construct used to access the attributes within the inner layers of objects, attributes which may take the form of:\n",
    "* a bit of procedural logic\n",
    "* a primitive piece of data\n",
    "* another structured object.\n",
    "\n",
    "The syntactical pattern for attribute access may be generalized as:\n",
    "\n",
    "    object.attribute\n"
   ]
  },
  {
   "cell_type": "code",
   "execution_count": null,
   "metadata": {},
   "outputs": [],
   "source": [
    "line_a = Segment(Point(0,0), Point(1,1))\n",
    "\n",
    "# spt is the starting point of the segment (this is different than the book)\n",
    "print(line_a.spt)\n",
    "\n",
    "# length looks like a member of a segment, but is really a property\n",
    "# (this is inconsistently represented in the book)\n",
    "print(line_a.length) \n",
    "\n",
    "# inverted is a method of a segment\n",
    "line_b = line_a.inverted()\n",
    "print(line_b.spt)\n",
    "\n",
    "# dot operators may be chained (as discussed below)\n",
    "print(line_a.inverted().length)"
   ]
  },
  {
   "cell_type": "markdown",
   "metadata": {},
   "source": [
    "Notice the syntactical difference between accessing data and\n",
    "accessing procedural logic, and that the latter requires use of both\n",
    "the dot operator and the parenthesis characters.\n",
    "\n",
    "> The diagram below is a bit inconsistently with the most current version of the Decodes library. A Segment holds a member `spt` not `pt`.\n",
    "\n",
    "<img src=\"http://geometric-computation-images.s3-website-us-east-1.amazonaws.com/1.02.D02.jpg\" style=\"width: 400px; display: inline;\">\n",
    "\n",
    "We know that we can refer to anything that may be accessed via the dot operator as an object’s attribute. This general term may be broken down into two more specific ones. \n",
    "\n",
    "* If an attribute of a given object is a piece of data (including references to other objects) then we refer to that more specifically as a **member** of the object. \n",
    "\n",
    "* If the attribute is some procedural logic that is handled by the object, then we can call that a **method** of the object. \n",
    "\n",
    "* If the attribute is a piece of procedrual logic, but is called like a member, then we call it a **property** of the object.\n",
    "\n",
    "The dot operator allows us to access to both members and methods.\n",
    "\n",
    "Referring to our previous example, we can see from the class diagram above that the attributes `spt` and `vec` are both **members** of `line_a`. The attribute `inverted()` is a **method** of the `line_a` object. The attribute `length` is a **property** of the `line_a` object."
   ]
  },
  {
   "cell_type": "markdown",
   "metadata": {},
   "source": [
    "### Chains of Attribute Access\n",
    "\n",
    "As suggested by the nested nature of complex data types, more than one dot operator can appear in a single expression, thus producing a chain of attribute access. \n",
    "\n",
    "For example, the chained expression... \n",
    "\n",
    "    line_a.vec.z \n",
    "\n",
    "...accesses the endpoint of our line to retrieve a point, and then accesses one of the coordinates of the point to retrieve a number.\n",
    "\n",
    "\n",
    "<img src=\"http://geometric-computation-images.s3-website-us-east-1.amazonaws.com/1.02.D03.jpg\" style=\"width: 400px; display: inline;\">\n",
    "\n",
    "There's no need to stop there. Consider the following:"
   ]
  },
  {
   "cell_type": "code",
   "execution_count": null,
   "metadata": {},
   "outputs": [],
   "source": [
    "pt_b = Point(0,1)\n",
    "dist = line_a.spt.distance(pt_b)\n",
    "print(dist)"
   ]
  },
  {
   "cell_type": "markdown",
   "metadata": {},
   "source": [
    "Here we see a chain of access from variable to Line object, from Line object to Point object via a named member, and from Point object to the distance method.\n",
    "\n",
    "<img src=\"http://geometric-computation-images.s3-website-us-east-1.amazonaws.com/1.02.D10.jpg\" style=\"width: 400px; display: inline;\">\n"
   ]
  },
  {
   "cell_type": "markdown",
   "metadata": {},
   "source": [
    "In addition to accessing the attributes of objects associated with variables (those that would appear on the object model diagram), the dot operator can also be applied to the objects that result from evoking methods and functions.\n",
    "\n",
    "We saw this in a bit of code above...\n",
    "    \n",
    "    print(line_a.inverted().length)\n",
    "\n",
    "...where the `inverted()` method returned a new Segment which was then queried for its length. Note that this inverted Segment (the second inversion to take place in that script) was created but never stored in memory. That is to say, it was not assigned to a variable label.\n",
    "\n",
    "In other cases such as the `interpolate()` method of the Point class, a new object can result from the execution of a routine. In the short script below, the Point that results from this method is not assigned to any variable, and therefore will not remain stored in memory beyond the scope of a single line of code. Still, its coordinates may immediately be accessed via the dot operator as such:\n",
    "\n",
    "> Note the unique way we're calling the `interpolate` method, which is not invoked on an instance of a Point, but on the Point class itself. This is called a 'static' method, which will be covered soon."
   ]
  },
  {
   "cell_type": "code",
   "execution_count": null,
   "metadata": {},
   "outputs": [],
   "source": [
    "pt_a = Point(1,1)\n",
    "pt_b = Point(2,2)\n",
    "\n",
    "print( Point.interpolate( pt_a, pt_b, 0.25 ).y )\n"
   ]
  },
  {
   "cell_type": "markdown",
   "metadata": {},
   "source": [
    "## Variable Binding in Python\n",
    "\n",
    "Due to the simplicity of the examples we have presented thus far, we have not yet witnessed the particular nature of this relationship between variable and object. \n",
    "\n",
    "Depending upon its type, an object is either tightly or loosely bound to a variable that references it. A distinction we might draw between **simple objects**, such as numbers and letters, and **complex objects** such as \n",
    "points and lines is an important one, as Python treats these two breeds of objects differently. This model of variable binding may cause our scripts to produce results we might not expect.\n"
   ]
  },
  {
   "cell_type": "code",
   "execution_count": null,
   "metadata": {},
   "outputs": [],
   "source": [
    "pt_a = Point(0,1)\n",
    "pt_b = pt_a\n",
    "print(pt_a, pt_b)"
   ]
  },
  {
   "cell_type": "markdown",
   "metadata": {},
   "source": [
    "Have we created two variables that reference the same object, or that each reference their own object? The answer isn’t immediately obvious, and without the benefit of a glance at the nearby diagram we might not know what to expect from code that uses these variables in the following way:"
   ]
  },
  {
   "cell_type": "code",
   "execution_count": null,
   "metadata": {},
   "outputs": [],
   "source": [
    "pt_a.x = 5\n",
    "print(pt_a, pt_b)"
   ]
  },
  {
   "cell_type": "markdown",
   "metadata": {},
   "source": [
    "Having only manipulated `pt_a`, if we imagined two variables each referencing their own object we may have expected `pt_b` to remain unaffected, and yet the result demonstrates that this is not the case."
   ]
  },
  {
   "cell_type": "markdown",
   "metadata": {},
   "source": [
    "This kind of relationship is called a **reference**, and is how Python relates variable names to any structured data type. **Structured** types is what we call the complex objects that are distinguished from more simple ones, referred to as **primitive** data types. \n",
    "\n",
    "Our object model diagram reflects this type of variable assignment by showing the referenced object floating free from its variable. In this way, we can understand how multiple variables are associated with the same object. Contrast the relationship between variables and Point objects (a structured data type) to the relationship between variables and Integer objects (a primitive data type).\n",
    "\n",
    "<img src=\"http://geometric-computation-images.s3-website-us-east-1.amazonaws.com/1.02.D04.jpg\" style=\"width: 300px; display: inline;\">\n",
    "<img src=\"http://geometric-computation-images.s3-website-us-east-1.amazonaws.com/1.02.D05.jpg\" style=\"width: 300px; display: inline;\">\n"
   ]
  },
  {
   "cell_type": "code",
   "execution_count": null,
   "metadata": {},
   "outputs": [],
   "source": [
    "int_a = 10\n",
    "int_b = int_a\n",
    "\n",
    "int_a = int_a * 2\n",
    "print(int_a, int_b)"
   ]
  },
  {
   "cell_type": "markdown",
   "metadata": {},
   "source": [
    "### Object Construction Syntax\n",
    "\n",
    "How can we create new instances of objects (or **\"instantiate\"** objects )that conform to a given type? Most class definitions provide at least one means for doing just this, usually through a special method called the **constructor**.\n",
    "\n",
    "Syntactically, we call upon the constructor method of a class in a similar way as one calls any other method, by writing the name of the class followed by a series of arguments surrounded by the parenthesis characters. The general pattern for constructing a new object is:\n",
    "\n",
    "    SomeType( argument_a, argument_b, ... )\n",
    "\n",
    "Certain classes allow us to construct the same type of object through slightly different means, simply by providing different configurations of arguments. Note that in order for each of these to function properly, the Point constructor function must be designed to handle each of these situations."
   ]
  },
  {
   "cell_type": "code",
   "execution_count": null,
   "metadata": {},
   "outputs": [],
   "source": [
    "\"\"\"\n",
    "Point Construction\n",
    "Point objects may be constructed with a variety of arguments, \n",
    "each of which constructs the Point in a different way \n",
    "\"\"\"\n",
    "# no arguments, default values implied\n",
    "Point() \n",
    "# two arguments, assigned to x and y coords\n",
    "Point(1,1) \n",
    "# three arguments, assigned to x, y and z coords\n",
    "pt_a = Point(2,2,1) \n",
    "# arguments may be references to other objects\n",
    "pt_b = Point(pt_a.x, 2) \n",
    "# arguments may be the result of a computation\n",
    "pt_c = Point(pt_b+Vec(0,0,-1))"
   ]
  }
 ],
 "metadata": {
  "kernelspec": {
   "display_name": "Python 3",
   "language": "python",
   "name": "python3"
  },
  "language_info": {
   "codemirror_mode": {
    "name": "ipython",
    "version": 3
   },
   "file_extension": ".py",
   "mimetype": "text/x-python",
   "name": "python",
   "nbconvert_exporter": "python",
   "pygments_lexer": "ipython3",
   "version": "3.6.4"
  }
 },
 "nbformat": 4,
 "nbformat_minor": 2
}
