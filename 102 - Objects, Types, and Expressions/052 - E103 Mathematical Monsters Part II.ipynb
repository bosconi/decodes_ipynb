{
 "cells": [
  {
   "cell_type": "markdown",
   "metadata": {},
   "source": [
    "# E103 Mathematical Monsters Part II\n",
    "todo\n",
    "\n",
    "<img src=\"http://geometric-computation-images.s3-website-us-east-1.amazonaws.com/1.02.E01.P01.jpg\" \n",
    "style=\"width: 200px; display: inline;\"> \n",
    "<img src=\"http://geometric-computation-images.s3-website-us-east-1.amazonaws.com/1.02.E01.P02.jpg\" \n",
    "style=\"width: 200px; display: inline;\">\n",
    "\n"
   ]
  },
  {
   "cell_type": "code",
   "execution_count": null,
   "metadata": {},
   "outputs": [],
   "source": []
  },
  {
   "cell_type": "markdown",
   "metadata": {},
   "source": [
    "## Evaluating a Loop Statement\n"
   ]
  },
  {
   "cell_type": "code",
   "execution_count": null,
   "metadata": {},
   "outputs": [],
   "source": []
  },
  {
   "cell_type": "markdown",
   "metadata": {},
   "source": [
    "\n",
    "<img src=\"http://geometric-computation-images.s3-website-us-east-1.amazonaws.com/1.02.E01.P03.jpg\" style=\"width: 800px; display: inline;\">\n",
    "\n",
    "<img src=\"http://geometric-computation-images.s3-website-us-east-1.amazonaws.com/1.02.E01.P04.jpg\" style=\"width: 800px; display: inline;\">\n",
    "\n",
    "<img src=\"http://geometric-computation-images.s3-website-us-east-1.amazonaws.com/1.02.E01.P05.jpg\" style=\"width: 800px; display: inline;\">\n",
    "\n",
    "<img src=\"http://geometric-computation-images.s3-website-us-east-1.amazonaws.com/1.02.E01.P06.jpg\" style=\"width: 800px; display: inline;\">\n",
    "\n",
    "<img src=\"http://geometric-computation-images.s3-website-us-east-1.amazonaws.com/1.02.E01.P07.jpg\" style=\"width: 800px; display: inline;\">\n",
    "\n",
    "<img src=\"http://geometric-computation-images.s3-website-us-east-1.amazonaws.com/1.02.E01.P08.jpg\" style=\"width: 800px; display: inline;\">\n",
    "\n",
    "<img src=\"http://geometric-computation-images.s3-website-us-east-1.amazonaws.com/1.02.E01.P09.jpg\" style=\"width: 800px; display: inline;\">\n",
    "\n",
    "<img src=\"http://geometric-computation-images.s3-website-us-east-1.amazonaws.com/1.02.E01.P10.jpg\" style=\"width: 800px; display: inline;\">\n",
    "\n",
    "<img src=\"http://geometric-computation-images.s3-website-us-east-1.amazonaws.com/1.02.E01.P11.jpg\" style=\"width: 800px; display: inline;\">\n",
    "\n",
    "<img src=\"http://geometric-computation-images.s3-website-us-east-1.amazonaws.com/1.02.E01.P12.jpg\" style=\"width: 800px; display: inline;\">\n"
   ]
  },
  {
   "cell_type": "markdown",
   "metadata": {},
   "source": [
    "## Evaluating an Assignment Statement"
   ]
  },
  {
   "cell_type": "code",
   "execution_count": null,
   "metadata": {},
   "outputs": [],
   "source": []
  }
 ],
 "metadata": {
  "kernelspec": {
   "display_name": "Python 3",
   "language": "python",
   "name": "python3"
  },
  "language_info": {
   "codemirror_mode": {
    "name": "ipython",
    "version": 3
   },
   "file_extension": ".py",
   "mimetype": "text/x-python",
   "name": "python",
   "nbconvert_exporter": "python",
   "pygments_lexer": "ipython3",
   "version": "3.6.4"
  }
 },
 "nbformat": 4,
 "nbformat_minor": 2
}
