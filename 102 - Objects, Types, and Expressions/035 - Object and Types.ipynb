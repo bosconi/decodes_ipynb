{
 "cells": [
  {
   "cell_type": "markdown",
   "metadata": {},
   "source": [
    "# Objects and Types\n",
    "todo\n",
    "\n",
    "<img \n",
    "src=\"https://upload.wikimedia.org/wikipedia/commons/thumb/e/e1/SketchpadDissertation-Fig1-2.tif/lossy-page1-1024px-SketchpadDissertation-Fig1-2.tif.jpg\" \n",
    "style=\"width: 400px; display: inline;\">\n",
    "\n",
    "\n",
    "<img \n",
    "src=\"http://geometric-computation-images.s3-website-us-east-1.amazonaws.com/1.02.P02.jpg\" \n",
    "style=\"width: 400px; display: inline;\">\n",
    "\n",
    "\n",
    "<img \n",
    "src=\"http://geometric-computation-images.s3-website-us-east-1.amazonaws.com/1.02.D01.jpg\" \n",
    "style=\"width: 400px; display: inline;\">"
   ]
  },
  {
   "cell_type": "markdown",
   "metadata": {},
   "source": [
    "todo\n",
    "\n",
    "<img \n",
    "src=\"http://geometric-computation-images.s3-website-us-east-1.amazonaws.com/1.02.P03.jpg\" \n",
    "style=\"width: 400px; display: inline;\">"
   ]
  },
  {
   "cell_type": "code",
   "execution_count": null,
   "metadata": {},
   "outputs": [],
   "source": []
  },
  {
   "cell_type": "markdown",
   "metadata": {},
   "source": [
    "## The Decod.es Object Diagram\n",
    "\n",
    "todo\n",
    "\n",
    "<img \n",
    "src=\"http://geometric-computation-images.s3-website-us-east-1.amazonaws.com/1.02.C01.jpg\" \n",
    "style=\"width: 600px; display: inline;\">\n",
    "\n"
   ]
  },
  {
   "cell_type": "markdown",
   "metadata": {},
   "source": [
    "### Members\n",
    "\n",
    "\n",
    "### Methods\n",
    "\n",
    "\n",
    "### Properties\n",
    "\n",
    "\n",
    "### Superclass (Parent Class)\n",
    "\n"
   ]
  },
  {
   "cell_type": "markdown",
   "metadata": {},
   "source": [
    "todo\n",
    "\n",
    "<img \n",
    "src=\"http://geometric-computation-images.s3-website-us-east-1.amazonaws.com/1.02.C02.jpg\" \n",
    "style=\"width: 600px; display: inline;\">\n"
   ]
  },
  {
   "cell_type": "code",
   "execution_count": null,
   "metadata": {},
   "outputs": [],
   "source": []
  }
 ],
 "metadata": {
  "kernelspec": {
   "display_name": "Python 3",
   "language": "python",
   "name": "python3"
  },
  "language_info": {
   "codemirror_mode": {
    "name": "ipython",
    "version": 3
   },
   "file_extension": ".py",
   "mimetype": "text/x-python",
   "name": "python",
   "nbconvert_exporter": "python",
   "pygments_lexer": "ipython3",
   "version": "3.6.4"
  }
 },
 "nbformat": 4,
 "nbformat_minor": 2
}
