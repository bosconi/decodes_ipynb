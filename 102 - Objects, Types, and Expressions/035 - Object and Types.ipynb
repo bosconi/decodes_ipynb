{
 "cells": [
  {
   "cell_type": "code",
   "execution_count": null,
   "metadata": {},
   "outputs": [],
   "source": [
    "from decodes.core import *\n",
    "from decodes.io.jupyter_out import JupyterOut\n",
    "out = JupyterOut.unit_square( )"
   ]
  },
  {
   "cell_type": "markdown",
   "metadata": {},
   "source": [
    "# Objects and Types\n",
    "\n",
    "In this section we introduce a core metaphor that drives the interaction\n",
    "of code and data in computer programming: **objects**. \n",
    "\n",
    "Our discussion is led by an unpacking of the object model diagram, and its role in revealing the interplay between the computer code that we write and the structure of data stored in memory.\n",
    "\n",
    "<img \n",
    "src=\"https://upload.wikimedia.org/wikipedia/commons/thumb/e/e1/SketchpadDissertation-Fig1-2.tif/lossy-page1-1024px-SketchpadDissertation-Fig1-2.tif.jpg\" \n",
    "style=\"width: 200px; display: inline;\"> \n",
    "\n",
    "One of the earliest examples of structuring a computer program in an object oriented way is found in the ancestor of modern computer-aided design software: Ivan Sutherland's Sketchpad.\n",
    "\n",
    "Moreover, his approach to structuring\n",
    "data in Sketchpad has proven enormously influential. In his description\n",
    "of how his software structures the interactive display of a\n",
    "hexagonal grid, Sutherland explains that the:\n",
    "\n",
    ">“pattern is made of smaller patterns which are in turn made of smaller patterns which are composed of single hexagons. If the master hexagon is changed, the\n",
    "entire appearance of the hexagonal pattern will be changed”.\n",
    "\n",
    "<img \n",
    "src=\"http://geometric-computation-images.s3-website-us-east-1.amazonaws.com/1.02.P02.jpg\" \n",
    "style=\"width: 600px; display: inline;\">\n",
    "\n",
    "By separating generic **masters** that act as templates for specific\n",
    "**instances** of data stored in memory, Sketchpad laid the groundwork\n",
    "for a class-to-instance relationship that characterizes all of object-oriented\n",
    "programming."
   ]
  },
  {
   "cell_type": "markdown",
   "metadata": {},
   "source": [
    "## Objects and Types\n",
    "\n",
    "Describing a computation as \"a set of statements that successively change a program state\" is only part of the picture of what is possible when using an object-oriented\n",
    "language. Rather than focusing on how to write the logic of changing\n",
    "data states, OOP encourages us to think about how to model the\n",
    "data in the first place. \n",
    "\n",
    "This is achieved through separating generic\n",
    "master templates called **classes (or types)** from specific blocks\n",
    "of data that follow those templates called **objects (or instances)**.\n",
    "\n",
    "Working under this model, **objects are the elemental things that we\n",
    "work with as we script**. They are ***bundles of related data and relevant\n",
    "procedural logic that conform to a defined template***.\n",
    "\n",
    "All the 'things' we work with as we program (simple things such as numbers and letters, as well as more complex things such as points, lines, planes, and surfaces) may each be described as a **class**, and instantiated as **objects** for us to work with programmatically."
   ]
  },
  {
   "cell_type": "code",
   "execution_count": null,
   "metadata": {},
   "outputs": [],
   "source": [
    "# creates an object that conforms to the Integer template, \n",
    "# and associates it with the label 'problem_count'\n",
    "problem_count = 99\n",
    "\n",
    "# creates an object that conforms to the Decodes Point template, \n",
    "# and associates it with the label 'pt_a'\n",
    "pt_a = Point()"
   ]
  },
  {
   "cell_type": "markdown",
   "metadata": {},
   "source": [
    "These objects may be represented as different types of graphics in our drawings, as we can see in the nearby diagram. The names we choose to associate with objects can be nearly anything we like, and are called **variables**.\n",
    "\n",
    "<img \n",
    "src=\"http://geometric-computation-images.s3-website-us-east-1.amazonaws.com/1.02.D01.jpg\" \n",
    "style=\"width: 400px; display: inline;\">\n"
   ]
  },
  {
   "cell_type": "markdown",
   "metadata": {},
   "source": [
    "There are three important things to notice about this model of working:\n",
    "\n",
    "1. Variables and objects are distinct. Although we may casually refer to pt_a as a “point”, it is more accurate to say **\"the variable pt_a references an object stored in memory that conforms to the Point type\".** A mouthful, but more correct.\n",
    "\n",
    "2. The relationship between variables and objects depends on the programming context. **Variables may be 'tightly' or 'loosely' bound to objects**.\n",
    "\n",
    "3. In OOP, **objects are elemental, but they are not indivisible**; they may be constructed from simpler objects still. All classes that we may encounter as a programmer are likely higher-level types wrapped around lower-level ones, like a series of Russian dolls that extend down as far as magnetic spots on our computer memory. \n",
    "\n",
    "<img \n",
    "src=\"http://geometric-computation-images.s3-website-us-east-1.amazonaws.com/1.02.P03.jpg\" \n",
    "style=\"width: 400px; display: inline;\">"
   ]
  },
  {
   "cell_type": "markdown",
   "metadata": {},
   "source": [
    "## The Decod.es Object Diagram\n",
    "\n",
    "Building upon the best traditions of [UML](https://en.wikipedia.org/wiki/Unified_Modeling_Language), we aspire here to not only discuss computation, but also to draw computation as a designer would. To this end, the object model diagrams found here are designed to depict the configuration of data held in memory at a given point in time. Central to this representation of the “state of things” will be our illustration of objects, and, to this end, we have established a convention for drawing objects that describes their structure in a clear and concise manner.\n",
    "\n",
    "<img \n",
    "src=\"http://geometric-computation-images.s3-website-us-east-1.amazonaws.com/1.02.C01.jpg\" \n",
    "style=\"width: 600px; display: inline;\">\n",
    "\n"
   ]
  },
  {
   "cell_type": "markdown",
   "metadata": {},
   "source": [
    "### Members\n",
    "**Members** are the intrinsic elements from which an object is made. For example, a line segment may be described as consisting of a starting point and a vector determining its direction and length.\n",
    "\n",
    "### Methods\n",
    "**Methods** are the things an object can do. For example, a line segment may be able to calculate a point that lies some given percentage along its length.\n",
    "\n",
    "### Properties\n",
    "We can think of **properties** as methods pretending to be members. They are derivative traits of an object that require a calculation to determine, but that do not require any external information. For example, the length of a line certainly seems intrinsic, but is derivative of the more essential start and end points. Further, it is likely that we would be able to calculate its length without any external information.\n",
    "\n",
    "### Superclass (Parent Class)\n",
    "The **superclass**, also called the 'parent class', of an object is class from which this object’s class was derived. Members and methods of the parent are inherited by the child. A class describing line segments, for example, may inherit the members and methods of a more general class that describes a broader family of linear entities, which may include rays and infinite lines.\n"
   ]
  },
  {
   "cell_type": "markdown",
   "metadata": {},
   "source": [
    "We may expect to find illustrations of objects that conform to the template described above, and that may be represented with a variety of detail: from the very simplified (left) to the detailed (right).\n",
    "\n",
    "<img \n",
    "src=\"http://geometric-computation-images.s3-website-us-east-1.amazonaws.com/1.02.C02.jpg\" \n",
    "style=\"width: 600px; display: inline;\">\n"
   ]
  }
 ],
 "metadata": {
  "kernelspec": {
   "display_name": "Python 3",
   "language": "python",
   "name": "python3"
  },
  "language_info": {
   "codemirror_mode": {
    "name": "ipython",
    "version": 3
   },
   "file_extension": ".py",
   "mimetype": "text/x-python",
   "name": "python",
   "nbconvert_exporter": "python",
   "pygments_lexer": "ipython3",
   "version": "3.6.4"
  }
 },
 "nbformat": 4,
 "nbformat_minor": 2
}
