{
 "cells": [
  {
   "cell_type": "code",
   "execution_count": 2,
   "metadata": {},
   "outputs": [
    {
     "name": "stdout",
     "output_type": "stream",
     "text": [
      "http://decod.es/\tv0.2.3\n",
      "io loaded\n"
     ]
    }
   ],
   "source": [
    "from decodes.core import *\n",
    "from decodes.io.jupyter_out import JupyterOut\n",
    "out = JupyterOut.unit_square( )"
   ]
  },
  {
   "cell_type": "markdown",
   "metadata": {},
   "source": [
    "# Program Structure at Larger Scales\n",
    "\n",
    "Here we overview mechanisms that give structure to scripts at increasingly larger scales.\n",
    "\n",
    "We also present in overview two of the most imporant of these structures: \n",
    "\n",
    "* Functions allow us to write reusable and adaptable routines in code. \n",
    "* The authoring of our own classes offers access to the primary benefit of object-oriented programming: data abstraction.\n"
   ]
  },
  {
   "cell_type": "markdown",
   "metadata": {},
   "source": [
    "### Structuring Mechanisms at Progressively Larger Scales\n",
    "\n",
    "#### Expressions and Statements\n",
    "Expressions are formed of chains of object references (variables) and operators which combine into larger statements, typically within a single line of code. Reading and writing expressions is essential to basic computational literacy.\n",
    "\n",
    "#### Control Flow Structures\n",
    "All imperative programming languages, including Python, offer special expressions that control the order in which groups of statements are executed, under what conditions they are executed, or how many times they are repeatedly executed. Familiar examples may include loops, if-then statements, and iterators. Fluency in these methods allows one to move past simple ‘macro-like’ routines and onto full-fledged scripts.\n",
    "\n",
    "#### Functions\n",
    "A sequence of statements can be packaged as a unit in order to manipulate given data, or to return new data to any statement which calls upon it. The creation of functional subroutines is an important part of managing programs of even modest levels of complexity, as it allows for the production of generalized methods that may be applied to a variety of concrete situations.\n",
    "\n",
    "#### Classes\n",
    "The ability to author one’s own data types, or classes, offers access to one of the most powerful techniques of object-oriented programming: data abstraction. \n",
    "\n",
    "#### Modules\n",
    "Navigating the separation of low-level implementations from high-level interfaces allows us to structure the product of our own work in a modular way and to take advantage of the work of others, even without a deep understanding of the mechanics of that work. "
   ]
  },
  {
   "cell_type": "markdown",
   "metadata": {},
   "source": [
    "### Codeblocks\n",
    "\n",
    "To move beyond routines of a very modest size, programming languages require that code be divided into discrete groups of statements, or ***codeblocks***.\n",
    "\n",
    "Python provides a unique mechanism for defining codeblocks that utilizes the whitespace of the script, thereby aligning the visual structure of the script on the screen with the breakdown of its logical units by the compiler. A codeblock in Python is set apart via its indentation level, with any adjacent lines of code that share the same indentation level belonging to the same codeblock.\n",
    "\n",
    "    for item in collection:\n",
    "        some_statement\n",
    "        some_other_statement\n",
    "        \n",
    "We may indent further to produce nested blocks, as demonstrated by the short script below that employs one loop nested inside another. \n",
    "\n",
    "Besides demarcating loops and classes, indentations are employed for a variety of similar purposes, such as the marking the bounds of the code belonging to a function or to a class."
   ]
  },
  {
   "cell_type": "code",
   "execution_count": 3,
   "metadata": {},
   "outputs": [
    {
     "name": "stdout",
     "output_type": "stream",
     "text": [
      "[pt[0.0,0.0,0], pt[0.0,1.2246467991473532e-16,0], pt[0.0,-2.4492935982947064e-16,0], pt[3.141592653589793,1.2246467991473532e-16,0], pt[3.141592653589793,-2.4492935982947064e-16,0], pt[3.141592653589793,3.6739403974420594e-16,0], pt[6.283185307179586,-2.4492935982947064e-16,0], pt[6.283185307179586,3.6739403974420594e-16,0], pt[6.283185307179586,-4.898587196589413e-16,0]]\n"
     ]
    }
   ],
   "source": [
    "count = 3\n",
    "pts=[]\n",
    "for n in range(count):\n",
    "    for m in range(count):\n",
    "        theta_n = ((math.pi*2)/(count-1))*n\n",
    "        theta_m = ((math.pi*2)/(count-1))*m\n",
    "        pt = Point(theta_n,math.sin(theta_n + theta_m))\n",
    "        pts.append(pt)\n",
    "\n",
    "print(pts)"
   ]
  },
  {
   "cell_type": "markdown",
   "metadata": {},
   "source": [
    "## Defining a Function\n",
    "\n",
    "A function is a sequence of statements grouped together under a designated name.\n",
    "\n",
    "Once defined, such a sequence of statements may be invoked by calling the name of the function within any subsequent expression. This causes the evaluation of the calling expression to pause, and for the statements contained within the function to execute. The shell may then return and continue evaluating the calling statement. \n",
    "\n",
    "In Python, the basic syntax for defining a function employs the keyword `def`, which is followed by an indented block of code:\n",
    "\n",
    "    def function_name():\n",
    "        do_some_things\n"
   ]
  },
  {
   "cell_type": "markdown",
   "metadata": {},
   "source": [
    "The header line of a function starts with the keyword `def`, names the function, and ends with a colon. The body of the function is comprised of any statements contained within the codeblock following the header line. Naturally, there may be any number of nested codeblocks contained within the function body, each marked by an additional indentation."
   ]
  },
  {
   "cell_type": "code",
   "execution_count": 7,
   "metadata": {},
   "outputs": [],
   "source": [
    "\"\"\"\n",
    "The Definition of a Simple Function\n",
    "\"\"\"\n",
    "\n",
    "def say_hello():\n",
    "    print (\"hello, human.\")\n"
   ]
  },
  {
   "cell_type": "code",
   "execution_count": 8,
   "metadata": {},
   "outputs": [
    {
     "name": "stdout",
     "output_type": "stream",
     "text": [
      "hello, human.\n"
     ]
    }
   ],
   "source": [
    "\"\"\"\n",
    "The Invocation of a Simple Function\n",
    "\"\"\"\n",
    "\n",
    "say_hello()"
   ]
  },
  {
   "cell_type": "markdown",
   "metadata": {},
   "source": [
    "While this pattern alone can liberate us from the tedious repetition of identical code, the ability to provide external data, termed **arguments**, to a functional subroutine will empower us even further.\n",
    "\n",
    "    def function_name( argument_one, argument_two, ... ):\n",
    "        do_some_things\n",
    "\n",
    "We may think of each argument as a variable that is added to the object model prior to the execution of the function, and that is removed when it exits.\n",
    "\n",
    "A function may require no arguments at all, or may contain multiple arguments separated from one another by commas; in either case, the parentheses are required. \n",
    "\n",
    "The following function is defined with a single argument, `someone`. When called, whatever object provided by the calling statement is automatically added to the object model accessible to the function, where it is associated with the variable `someone`."
   ]
  },
  {
   "cell_type": "code",
   "execution_count": 10,
   "metadata": {},
   "outputs": [],
   "source": [
    "\"\"\"\n",
    "The Definition of a Function with an Argument\n",
    "\"\"\"\n",
    "def say_hello_to(someone):\n",
    "    print (\"hello, \" + someone + \".\")"
   ]
  },
  {
   "cell_type": "code",
   "execution_count": 11,
   "metadata": {},
   "outputs": [
    {
     "name": "stdout",
     "output_type": "stream",
     "text": [
      "hello, me.\n"
     ]
    }
   ],
   "source": [
    "\"\"\"\n",
    "The Invocation of a Function with an Argument\n",
    "\"\"\"\n",
    "say_hello_to(\"me\")"
   ]
  },
  {
   "cell_type": "markdown",
   "metadata": {},
   "source": [
    "This communication between function and calling statement can work in both directions, and the function may return an object to the context of the calling statement. This capability requires us to modify our template once more, adding a so-called return statement:\n",
    "\n",
    "    def function_name( argument_one, argument_two, ... ):\n",
    "        do_some_things\n",
    "        return some_thing\n",
    "        \n",
    "Here we see that the body of a function can conclude with a statement that starts with the keyword return, and is followed by an expression that produces an object which becomes the output of the function. This output is then provided to the context of the calling expression."
   ]
  },
  {
   "cell_type": "code",
   "execution_count": 12,
   "metadata": {},
   "outputs": [],
   "source": [
    "\"\"\"\n",
    "The Definition of a Function with a Return Value\n",
    "\"\"\"\n",
    "def random_segment():\n",
    "    pa = Point.random()\n",
    "    pb = Point.random()\n",
    "    return Segment(pa,pb)\n"
   ]
  },
  {
   "cell_type": "code",
   "execution_count": 14,
   "metadata": {},
   "outputs": [
    {
     "name": "stdout",
     "output_type": "stream",
     "text": [
      "seg[pt[-0.39928282434473017,-0.5225297305456802,-0.5825849008178965] vec[1.278248354914181,1.1065022808584197,0.843380489304284]]\n"
     ]
    }
   ],
   "source": [
    "\"\"\"\n",
    "The Invocation of a Function with a Return Value\n",
    "\"\"\"\n",
    "line_a = random_segment()\n",
    "\n",
    "print(line_a)"
   ]
  },
  {
   "cell_type": "markdown",
   "metadata": {},
   "source": [
    "## Defining a Datatype\n",
    "\n",
    "To facilitate the story of the development of these core Decod.es classes, we will require a working understanding of how to define data types in Python. The syntactic template for doing so is:\n",
    "\n",
    "    class SomeType(ParentType):\n",
    "\n",
    "        initialization_method:\n",
    "            initialize_this_object\n",
    "\n",
    "        another_method:\n",
    "            do_some_things\n",
    "            return some_thing\n",
    "\n",
    "This template instrumentalizes our characterization of an object as a package of data and procedural logic, and a class as the template which defines it. The initialization method defines what data each instance of this class will hold, and every subsequent method contains a packaged set of procedural logic that becomes available to each instance of this class. Following this template, the code below shows the definition of a data type called `SimplePoint`.\n",
    "\n",
    "<img \n",
    "src=\"http://geometric-computation-images.s3-website-us-east-1.amazonaws.com/1.02.C03.jpg\" \n",
    "style=\"width: 200px; display: inline;\">\n"
   ]
  },
  {
   "cell_type": "code",
   "execution_count": 15,
   "metadata": {},
   "outputs": [],
   "source": [
    "\"\"\"\n",
    "A Simplified Point Class\n",
    "\"\"\"\n",
    "# class definition\n",
    "class SimplePoint(Geometry):\n",
    "    \n",
    "    #initialization method\n",
    "    def __init__(self, x, y):\n",
    "        #self argument invoked to define a member\n",
    "        self.x = x\n",
    "        self.y = y\n",
    "        \n",
    "    #another method\n",
    "    def distance_to(self,other):\n",
    "        #self argument invoked and passed to the Vec constructor\n",
    "        vec = Vec(self,other)\n",
    "        return vec.length\n"
   ]
  },
  {
   "cell_type": "markdown",
   "metadata": {},
   "source": [
    "### Class Definition"
   ]
  },
  {
   "cell_type": "markdown",
   "metadata": {},
   "source": [
    "### Methods"
   ]
  },
  {
   "cell_type": "code",
   "execution_count": null,
   "metadata": {},
   "outputs": [],
   "source": [
    "pt_a = SimplePoint(2,2)\n",
    "pt_b = SimplePoint(3,2)\n",
    "print pt_a.distance_to(pt_b)"
   ]
  },
  {
   "cell_type": "markdown",
   "metadata": {},
   "source": [
    "### The Initialization Method (`__init__`)"
   ]
  },
  {
   "cell_type": "code",
   "execution_count": null,
   "metadata": {},
   "outputs": [],
   "source": [
    "pt = SimplePoint(5,4)"
   ]
  },
  {
   "cell_type": "markdown",
   "metadata": {},
   "source": [
    "### The \"Self\" Argument"
   ]
  },
  {
   "cell_type": "code",
   "execution_count": null,
   "metadata": {},
   "outputs": [],
   "source": [
    "\"\"\"\n",
    "A Method that Displays the Coordinates of a SimplePoint\n",
    "\"\"\"\n",
    "def print_coords(self):\n",
    "    print self.x , \",\", self.y"
   ]
  },
  {
   "cell_type": "code",
   "execution_count": null,
   "metadata": {},
   "outputs": [],
   "source": [
    "\"\"\"\n",
    "The Coordinates of a SimplePoint are Written to the Console\n",
    "\"\"\"    \n",
    "pt = SimplePoint(5,4)\n",
    "pt.print_coords()"
   ]
  },
  {
   "cell_type": "markdown",
   "metadata": {},
   "source": [
    "### Special Methods"
   ]
  },
  {
   "cell_type": "code",
   "execution_count": null,
   "metadata": {},
   "outputs": [],
   "source": [
    "\"\"\"\n",
    "Random SimplePoint\n",
    "A static method may be added to the SimplePoint class that produces a collection of SimplePoints with random coordinates\n",
    "\"\"\"\n",
    "@staticmethod\n",
    "def random(count):\n",
    "    pts = []\n",
    "    for n in range(count):\n",
    "        # SimplePoint.random() returns a random point\n",
    "        pts.append( SimplePoint.random() )\n",
    "    return pts"
   ]
  }
 ],
 "metadata": {
  "kernelspec": {
   "display_name": "Python 3",
   "language": "python",
   "name": "python3"
  },
  "language_info": {
   "codemirror_mode": {
    "name": "ipython",
    "version": 3
   },
   "file_extension": ".py",
   "mimetype": "text/x-python",
   "name": "python",
   "nbconvert_exporter": "python",
   "pygments_lexer": "ipython3",
   "version": "3.6.4"
  }
 },
 "nbformat": 4,
 "nbformat_minor": 2
}
