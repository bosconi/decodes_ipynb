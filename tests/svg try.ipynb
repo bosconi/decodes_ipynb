{
 "cells": [
  {
   "cell_type": "markdown",
   "metadata": {},
   "source": [
    "# Trying SVG Out \n",
    "okay, here we go.\n"
   ]
  },
  {
   "cell_type": "code",
   "execution_count": 4,
   "metadata": {
    "scrolled": false
   },
   "outputs": [],
   "source": [
    "from decodes.core import *\n",
    "from decodes.io.jupyter_out import JupyterOut\n",
    "out = JupyterOut.unit_square( grid_color = Color(0.95,0.95,0.95) )"
   ]
  },
  {
   "cell_type": "code",
   "execution_count": 5,
   "metadata": {},
   "outputs": [],
   "source": [
    "out.put(Point(0,0))\n",
    "out.put(Point(0.5,0))\n",
    "out.put(Point(0,0.5))\n",
    "out.put(Point(0.5,0.5))\n",
    "out.put(Point(-0.5,-0.5))\n",
    "\n",
    "verts = [Point(0,0), Point(1,0), Point(1,1)]\n",
    "pl = PLine(verts)\n",
    "pl.set_color(1,0,0.5)\n",
    "pl.set_weight(2)\n",
    "out.put(pl)\n",
    "\n",
    "count = 10\n",
    "pts=[]\n",
    "scale = 0.1\n",
    "for n in range(count):\n",
    "    theta=((math.pi*2)/(count-1))*n\n",
    "    pt = Point( theta * scale, math.sin(theta) * scale )\n",
    "    pts.append(pt)\n",
    "pl = PLine(pts)\n",
    "\n",
    "out.put(pl)\n"
   ]
  },
  {
   "cell_type": "code",
   "execution_count": 6,
   "metadata": {
    "scrolled": false
   },
   "outputs": [
    {
     "data": {
      "text/html": [
       "<div style=\"width:560.0px; height:360.0px; box-shadow: 2px 2px 8px 4px #ddd; margin: 8px;\"><svg width=\"560.0\" height=\"360.0\" xmlns=\"http://www.w3.org/2000/svg\" version=\"1.1\">\n",
       "<polyline points=\"130.0,330.0 205.0,330.0 205.0,255.0 130.0,255.0 130.0,330.0\" style=\"fill:rgb(242,242,242);stroke-width:1;stroke:rgb(255,255,255)\"/>\n",
       "<polyline points=\"205.0,330.0 280.0,330.0 280.0,255.0 205.0,255.0 205.0,330.0\" style=\"fill:rgb(242,242,242);stroke-width:1;stroke:rgb(255,255,255)\"/>\n",
       "<polyline points=\"280.0,330.0 355.0,330.0 355.0,255.0 280.0,255.0 280.0,330.0\" style=\"fill:rgb(242,242,242);stroke-width:1;stroke:rgb(255,255,255)\"/>\n",
       "<polyline points=\"355.0,330.0 430.0,330.0 430.0,255.0 355.0,255.0 355.0,330.0\" style=\"fill:rgb(242,242,242);stroke-width:1;stroke:rgb(255,255,255)\"/>\n",
       "<polyline points=\"130.0,255.0 205.0,255.0 205.0,180.0 130.0,180.0 130.0,255.0\" style=\"fill:rgb(242,242,242);stroke-width:1;stroke:rgb(255,255,255)\"/>\n",
       "<polyline points=\"205.0,255.0 280.0,255.0 280.0,180.0 205.0,180.0 205.0,255.0\" style=\"fill:rgb(242,242,242);stroke-width:1;stroke:rgb(255,255,255)\"/>\n",
       "<polyline points=\"280.0,255.0 355.0,255.0 355.0,180.0 280.0,180.0 280.0,255.0\" style=\"fill:rgb(242,242,242);stroke-width:1;stroke:rgb(255,255,255)\"/>\n",
       "<polyline points=\"355.0,255.0 430.0,255.0 430.0,180.0 355.0,180.0 355.0,255.0\" style=\"fill:rgb(242,242,242);stroke-width:1;stroke:rgb(255,255,255)\"/>\n",
       "<polyline points=\"130.0,180.0 205.0,180.0 205.0,105.0 130.0,105.0 130.0,180.0\" style=\"fill:rgb(242,242,242);stroke-width:1;stroke:rgb(255,255,255)\"/>\n",
       "<polyline points=\"205.0,180.0 280.0,180.0 280.0,105.0 205.0,105.0 205.0,180.0\" style=\"fill:rgb(242,242,242);stroke-width:1;stroke:rgb(255,255,255)\"/>\n",
       "<polyline points=\"280.0,180.0 355.0,180.0 355.0,105.0 280.0,105.0 280.0,180.0\" style=\"fill:rgb(242,242,242);stroke-width:1;stroke:rgb(255,255,255)\"/>\n",
       "<polyline points=\"355.0,180.0 430.0,180.0 430.0,105.0 355.0,105.0 355.0,180.0\" style=\"fill:rgb(242,242,242);stroke-width:1;stroke:rgb(255,255,255)\"/>\n",
       "<polyline points=\"130.0,105.0 205.0,105.0 205.0,30.0 130.0,30.0 130.0,105.0\" style=\"fill:rgb(242,242,242);stroke-width:1;stroke:rgb(255,255,255)\"/>\n",
       "<polyline points=\"205.0,105.0 280.0,105.0 280.0,30.0 205.0,30.0 205.0,105.0\" style=\"fill:rgb(242,242,242);stroke-width:1;stroke:rgb(255,255,255)\"/>\n",
       "<polyline points=\"280.0,105.0 355.0,105.0 355.0,30.0 280.0,30.0 280.0,105.0\" style=\"fill:rgb(242,242,242);stroke-width:1;stroke:rgb(255,255,255)\"/>\n",
       "<polyline points=\"355.0,105.0 430.0,105.0 430.0,30.0 355.0,30.0 355.0,105.0\" style=\"fill:rgb(242,242,242);stroke-width:1;stroke:rgb(255,255,255)\"/>\n",
       "<circle cx=\"130.0\" cy=\"330.0\" r=\"37.5\" style=\"fill:rgb(255,255,255);stroke-width:0;stroke:none\"/>\n",
       "<circle cx=\"130.0\" cy=\"330.0\" r=\"2.0\" style=\"fill:rgb(0,0,0);stroke-width:0;stroke:none\"/>\n",
       "<circle cx=\"280.0\" cy=\"330.0\" r=\"2.0\" style=\"fill:rgb(0,0,0);stroke-width:0;stroke:none\"/>\n",
       "<circle cx=\"130.0\" cy=\"180.0\" r=\"2.0\" style=\"fill:rgb(0,0,0);stroke-width:0;stroke:none\"/>\n",
       "<circle cx=\"280.0\" cy=\"180.0\" r=\"2.0\" style=\"fill:rgb(0,0,0);stroke-width:0;stroke:none\"/>\n",
       "<circle cx=\"-20.0\" cy=\"480.0\" r=\"2.0\" style=\"fill:rgb(0,0,0);stroke-width:0;stroke:none\"/>\n",
       "<polyline points=\"130.0,330.0 430.0,330.0 430.0,30.0\" style=\"fill:none;stroke-width:2;stroke:rgb(255,0,127)\"/>\n",
       "<polyline points=\"130.0,330.0 150.94395102393196,310.7163717094038 171.88790204786392,300.4557674096338 192.83185307179588,304.01923788646684 213.77580409572784,319.7393957002299 234.7197551196598,340.2606042997701 255.66370614359172,355.98076211353316 276.6076571675237,359.5442325903662 297.55160819145567,349.2836282905962 318.4955592153876,330.0\" style=\"fill:none;stroke-width:0.5;stroke:rgb(0,0,0)\"/>\n",
       "</svg></div>"
      ],
      "text/plain": [
       "<IPython.core.display.HTML object>"
      ]
     },
     "metadata": {},
     "output_type": "display_data"
    }
   ],
   "source": [
    "out.draw()\n",
    "out.clear()"
   ]
  },
  {
   "cell_type": "code",
   "execution_count": null,
   "metadata": {},
   "outputs": [],
   "source": []
  },
  {
   "cell_type": "code",
   "execution_count": null,
   "metadata": {},
   "outputs": [],
   "source": []
  }
 ],
 "metadata": {
  "kernelspec": {
   "display_name": "Python 3",
   "language": "python",
   "name": "python3"
  },
  "language_info": {
   "codemirror_mode": {
    "name": "ipython",
    "version": 3
   },
   "file_extension": ".py",
   "mimetype": "text/x-python",
   "name": "python",
   "nbconvert_exporter": "python",
   "pygments_lexer": "ipython3",
   "version": "3.6.4"
  }
 },
 "nbformat": 4,
 "nbformat_minor": 2
}
