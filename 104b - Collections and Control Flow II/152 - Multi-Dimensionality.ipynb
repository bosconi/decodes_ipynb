{
 "cells": [
  {
   "cell_type": "code",
   "execution_count": 9,
   "metadata": {},
   "outputs": [],
   "source": [
    "from decodes.core import *\n",
    "from decodes.io.jupyter_out import JupyterOut\n",
    "import pprint\n",
    "\n",
    "pp = pprint.PrettyPrinter(indent=4)\n",
    "out = JupyterOut.unit_square( )\n",
    "item = \"item\""
   ]
  },
  {
   "cell_type": "markdown",
   "metadata": {},
   "source": [
    "# Multi-Dimensionality\n",
    "todo"
   ]
  },
  {
   "cell_type": "markdown",
   "metadata": {},
   "source": [
    "<img src=\"http://geometric-computation-images.s3-website-us-east-1.amazonaws.com/1.04.P23.jpg\" style=\"width: 600px; display: inline;\">"
   ]
  },
  {
   "cell_type": "markdown",
   "metadata": {},
   "source": [
    "## Multiple Paths to Higher Dimensions"
   ]
  },
  {
   "cell_type": "markdown",
   "metadata": {},
   "source": [
    "<img src=\"http://geometric-computation-images.s3-website-us-east-1.amazonaws.com/1.04.P21.jpg\" style=\"width: 200px; display: inline;\"><img src=\"http://geometric-computation-images.s3-website-us-east-1.amazonaws.com/1.04.P22.jpg\" style=\"width: 200px; display: inline;\">"
   ]
  },
  {
   "cell_type": "markdown",
   "metadata": {},
   "source": [
    "### Nests in Python"
   ]
  },
  {
   "cell_type": "markdown",
   "metadata": {},
   "source": [
    "<img src=\"http://geometric-computation-images.s3-website-us-east-1.amazonaws.com/1.04.P15.jpg\" style=\"width: 200px; display: inline;\">"
   ]
  },
  {
   "cell_type": "code",
   "execution_count": 13,
   "metadata": {},
   "outputs": [
    {
     "name": "stdout",
     "output_type": "stream",
     "text": [
      "[   [pt[0,0,0], pt[0,1,0], pt[0,2,0]],\n",
      "    [pt[1,0,0], pt[1,1,0], pt[1,2,0]],\n",
      "    [pt[2,0,0], pt[2,1,0], pt[2,2,0]],\n",
      "    [pt[3,0,0], pt[3,1,0], pt[3,2,0]]]\n"
     ]
    }
   ],
   "source": [
    "\"\"\"\n",
    "A Grid of Points\n",
    "In contrast with other languages such as C#, Python Lists are not typed and \n",
    "not sized at construction. To create a List of a given size, we must fill \n",
    "it with elements.\n",
    "\"\"\"\n",
    "pt_grid_python = []\n",
    "for ni in range(4):\n",
    "    row = []\n",
    "    for mi in range(3): row.append(Point(ni,mi))\n",
    "    pt_grid_python.append(row)\n",
    "    \n",
    "pp.pprint(pt_grid_python)"
   ]
  },
  {
   "cell_type": "markdown",
   "metadata": {},
   "source": [
    "<img src=\"http://geometric-computation-images.s3-website-us-east-1.amazonaws.com/1.04.P16.jpg\" style=\"width: 200px; display: inline;\">"
   ]
  },
  {
   "cell_type": "markdown",
   "metadata": {},
   "source": [
    "<img src=\"http://geometric-computation-images.s3-website-us-east-1.amazonaws.com/1.04.P17.jpg\" style=\"width: 200px; display: inline;\">"
   ]
  },
  {
   "cell_type": "code",
   "execution_count": 14,
   "metadata": {},
   "outputs": [
    {
     "name": "stdout",
     "output_type": "stream",
     "text": [
      "[   ['item', 'item', 'item', 'item', 'item', 'item', 'item', 'item'],\n",
      "    ['item', 'item', 'item'],\n",
      "    ['item', 'item', 'item', 'item'],\n",
      "    ['item', 'item', 'item', 'item', 'item', 'item', 'item', 'item'],\n",
      "    ['item', 'item']]\n"
     ]
    }
   ],
   "source": [
    "\"\"\"\n",
    "Nest\n",
    "We define a as a non-rectangular or \"jagged\" array in which each row of \n",
    "objects may contain a different number of items. Sometimes termed a \"list \n",
    "of lists\", a nest maintains a consistent dimension, and, unlike a tree, \n",
    "does not store items at multiple levels.\n",
    "\"\"\"\n",
    "nest = []\n",
    "nest.append( [item,item,item,item,item,item,item,item] ) # nest[0]\n",
    "nest.append( [item,item,item] ) # nest[1]\n",
    "nest.append( [item,item,item,item] ) # nest[2]\n",
    "nest.append( [item,item,item,item,item,item,item,item] )# nest[3]\n",
    "nest.append( [item,item] ) # nest[4]\n",
    "\n",
    "pp.pprint(nest)"
   ]
  },
  {
   "cell_type": "markdown",
   "metadata": {},
   "source": [
    "### Trees in Python"
   ]
  },
  {
   "cell_type": "markdown",
   "metadata": {},
   "source": [
    "<img src=\"http://geometric-computation-images.s3-website-us-east-1.amazonaws.com/1.04.P18.jpg\" style=\"width: 600px; display: inline;\">"
   ]
  },
  {
   "cell_type": "code",
   "execution_count": 15,
   "metadata": {},
   "outputs": [
    {
     "name": "stdout",
     "output_type": "stream",
     "text": [
      "[   ['item', 'item', 'item', 'item', 'item', 'item', 'item', 'item'],\n",
      "    'item',\n",
      "    ['item', 'item', 'item', 'item'],\n",
      "    ['item', 'item', 'item', 'item', 'item', 'item', 'item', 'item'],\n",
      "    [['item', 'item'], 'item']]\n"
     ]
    }
   ],
   "source": [
    "\"\"\"\n",
    "Tree\n",
    "A tree is a multi-level collection that is non-rectangular, and that mixes \n",
    "objects and collections at a variety of levels. Unlike a nest, it is not \n",
    "possible to determine the rank of a tree.\n",
    "\"\"\"\n",
    "tree = []\n",
    "tree.append( [item,item,item,item,item,item,item,item] )\n",
    "tree.append( item )\n",
    "tree.append( [item,item,item,item] )\n",
    "tree.append( [item,item,item,item,item,item,item,item] )\n",
    "tree.append( [ [item,item] ,item] )\n",
    "\n",
    "pp.pprint(tree)"
   ]
  },
  {
   "cell_type": "markdown",
   "metadata": {},
   "source": [
    "## A Glossary of Multi-Dimensional Collections"
   ]
  },
  {
   "cell_type": "code",
   "execution_count": null,
   "metadata": {},
   "outputs": [],
   "source": []
  }
 ],
 "metadata": {
  "kernelspec": {
   "display_name": "Python 2",
   "language": "python",
   "name": "python2"
  },
  "language_info": {
   "codemirror_mode": {
    "name": "ipython",
    "version": 2
   },
   "file_extension": ".py",
   "mimetype": "text/x-python",
   "name": "python",
   "nbconvert_exporter": "python",
   "pygments_lexer": "ipython2",
   "version": "2.7.10"
  }
 },
 "nbformat": 4,
 "nbformat_minor": 2
}
