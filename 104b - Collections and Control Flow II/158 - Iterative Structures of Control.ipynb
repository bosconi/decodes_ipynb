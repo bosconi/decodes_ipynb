{
 "cells": [
  {
   "cell_type": "code",
   "execution_count": 10,
   "metadata": {},
   "outputs": [],
   "source": [
    "from decodes.core import *\n",
    "from decodes.io.jupyter_out import JupyterOut\n",
    "import itertools\n",
    "from math import*\n",
    "import random\n",
    "out = JupyterOut.unit_square( )"
   ]
  },
  {
   "cell_type": "markdown",
   "metadata": {},
   "source": [
    "# Iterative Structures of Control\n",
    "\n",
    "In this section, we complete the survey of iterative structures of control, which have been collected piecemeal thus far, by ***presenting a number of outstanding functions, syntactic structures, and classes that are designed to support iteration***. First, a recap.\n",
    "\n",
    "Our earliest encounter with an iterative structure of control was the workaday for loop, which we have applied regularly to iterate over, or “walk”, collections.\n",
    "\n",
    "    for item in collection:\n",
    "        do_something_with_item\n",
    "\n",
    "We have also seen how nested collections may be iterated in a coordinated way using Tuple unpacking. Combined with the `zip()` function, this technique allows us to iterate over two collections simultaneously. This opened up higher-level patterns of code, such as decorate-sort-undecorate, and anticipated our presentation of multi-dimensionality.\n",
    "\n",
    "    for a,b in [(a1,b1), (a2,b2), (a3,b3)]:\n",
    "        do_something_with_a_and_b\n",
    "\n",
    "We have seen how certain static methods and built-in functions are designed to support or exploit iterative structures of control: \n",
    "\n",
    "* The `range()` function produces Lists of Integer numbers that are primarily applied to the construction of for loops.\n",
    "* The simultaneous iteration over the keys and values of a Dict is made possible by the `dict.items()` method\n",
    "* The Interval class itself was designed to support concise iteration over continuous value ranges.\n"
   ]
  },
  {
   "cell_type": "markdown",
   "metadata": {},
   "source": [
    "## Enumeration\n",
    "\n",
    "We have seen two competing approaches to iterating over a given collection using a `for` loop. The first walks items, as in `for item in collection`, while the second walks indices, as in `for index in range(len(collection))`. Each presents a unique advantage: walking items saves us the bother of indexing, while walking indices enables us to reference our position in the collection at each cycle of the loop.\n",
    "\n",
    "The built-in enumerate function offers the best of both approaches, allowing us to ***walk a given collection while also tracking indices***. By constructing Tuple pairs, each containing an index and an item from a given collection, we may combine the enumerate function with Tuple unpacking syntax to produce an iteration.\n",
    "\n",
    "    for index,item in enumerate(collection):\n",
    "        do_something_with_item_and_index\n"
   ]
  },
  {
   "cell_type": "markdown",
   "metadata": {},
   "source": [
    "<img src=\"http://geometric-computation-images.s3-website-us-east-1.amazonaws.com/1.04.P20.jpg\" style=\"width: 200px; display: inline;\">"
   ]
  },
  {
   "cell_type": "code",
   "execution_count": null,
   "metadata": {},
   "outputs": [],
   "source": [
    "# This constructs a list of Points. \n",
    "# We'll know about this syntax very soon!\n",
    "pts = [Point(5.0*cos(n), 3.0*abs(sin(n))*sin(n)) for n in range(20)]\n",
    "\"\"\"\n",
    "The Enumerate Function\n",
    "This built-in function generates a List of Tuples, each containing a pair \n",
    "that includes an item and its index in a given collection\n",
    "\"\"\"\n",
    "for n, pt in enumerate(pts):\n",
    "    print \"point at index \",n,\" is \",pt"
   ]
  },
  {
   "cell_type": "markdown",
   "metadata": {},
   "source": [
    "Consider a situation in which we seek to thread Segments that connect every possible combination of Points in a given collection, but wish to avoid the creation of duplicate Segments. A simple technique for achieving this is to connect each Point given only to others that proceed it in the collection. This may be achieved using a nesting of two loops, and may be written succinctly by employing the enumerate function in the construction of the outer loop."
   ]
  },
  {
   "cell_type": "code",
   "execution_count": null,
   "metadata": {},
   "outputs": [],
   "source": [
    "\"\"\"\n",
    "Enumerating a List of Points\n",
    "Here, Segments are constructed from each Point in a given collection and \n",
    "every other Point which proceeded it in the collection. This routine is \n",
    "useful in the construction of patterns that connect every possible \n",
    "combination of Points without duplication.\n",
    "\"\"\"\n",
    "segs = []\n",
    "for n, pt in enumerate(pts):\n",
    "    for idx in range(n) : segs.append(Segment(pt,pts[idx]))\n",
    "        \n",
    "out.put(segs)\n",
    "out.draw()\n",
    "out.clear()"
   ]
  },
  {
   "cell_type": "markdown",
   "metadata": {},
   "source": [
    "<img src=\"http://geometric-computation-images.s3-website-us-east-1.amazonaws.com/1.04.P19.jpg\" style=\"width: 600px; display: inline;\">"
   ]
  },
  {
   "cell_type": "markdown",
   "metadata": {},
   "source": [
    "## List Comprehension\n",
    "\n",
    "Python offers a convenient syntactic structure for concisely constructing Lists, called a ***comprehension***, that streamlines the common task of producing one List by modifying another List. \n",
    "\n",
    "Such a comprehension includes at least two expressions: an iteration over a set of items, and an expression in which each item is modified in order to produce the desired result. From this single statement, a new List is constructed:\n",
    "\n",
    "    lst = [expression_using_item for item in collection]\n",
    "\n",
    "This statement is exactly equivalent to the following three:\n",
    "\n",
    "    lst = []\n",
    "    for item in collection:\n",
    "        lst.append(expression_using_item)\n",
    "\n",
    "Imagine, for example, that we wish to construct a List of Points given a List of coordinate values."
   ]
  },
  {
   "cell_type": "code",
   "execution_count": null,
   "metadata": {},
   "outputs": [],
   "source": [
    "\"\"\"\n",
    "Constructing Points from Coordinates without Comprehension\n",
    "Given a List of Tuples containing x and y coordinates, here we construct a \n",
    "List of Points using a for loop.\n",
    "\"\"\"\n",
    "pts = []\n",
    "for tup in coords:\n",
    "    pts.append(Point(tup[0],tup[1])"
   ]
  },
  {
   "cell_type": "markdown",
   "metadata": {},
   "source": [
    "With this structure in mind, we may find the equivilent yet significantly abbreviated code found below:"
   ]
  },
  {
   "cell_type": "code",
   "execution_count": null,
   "metadata": {},
   "outputs": [],
   "source": [
    "\"\"\"\n",
    "Constructing Points from Coordinates with Comprehension\n",
    "Given the same List as above, here we more concisely construct a List of Points \n",
    "using List comprehension.\n",
    "\"\"\"\n",
    "pts = [Point(tup[0],tup[1]) for tup in coords]"
   ]
  },
  {
   "cell_type": "markdown",
   "metadata": {},
   "source": [
    "List comprehensions may be extended in a number of ways. \n",
    "\n",
    "For example, multiple for statements may be included thereby reproducing the action of nested `for` loops.\n",
    "\n",
    "    lst = [expression for item_a in list_a for item_b in list_b]"
   ]
  },
  {
   "cell_type": "code",
   "execution_count": 18,
   "metadata": {},
   "outputs": [
    {
     "data": {
      "text/html": [
       "<div style=\"width:560.0px; height:360.0px; box-shadow: 2px 2px 8px 4px #ddd; margin: 8px;\"><svg width=\"560.0\" height=\"360.0\" xmlns=\"http://www.w3.org/2000/svg\" version=\"1.1\">\n",
       "<polyline points=\"130.0,330.0 205.0,330.0 205.0,255.0 130.0,255.0 130.0,330.0\" style=\"fill:rgb(249,249,249);stroke-width:1;stroke:rgb(255,255,255)\"/>\n",
       "<polyline points=\"205.0,330.0 280.0,330.0 280.0,255.0 205.0,255.0 205.0,330.0\" style=\"fill:rgb(249,249,249);stroke-width:1;stroke:rgb(255,255,255)\"/>\n",
       "<polyline points=\"280.0,330.0 355.0,330.0 355.0,255.0 280.0,255.0 280.0,330.0\" style=\"fill:rgb(249,249,249);stroke-width:1;stroke:rgb(255,255,255)\"/>\n",
       "<polyline points=\"355.0,330.0 430.0,330.0 430.0,255.0 355.0,255.0 355.0,330.0\" style=\"fill:rgb(249,249,249);stroke-width:1;stroke:rgb(255,255,255)\"/>\n",
       "<polyline points=\"130.0,255.0 205.0,255.0 205.0,180.0 130.0,180.0 130.0,255.0\" style=\"fill:rgb(249,249,249);stroke-width:1;stroke:rgb(255,255,255)\"/>\n",
       "<polyline points=\"205.0,255.0 280.0,255.0 280.0,180.0 205.0,180.0 205.0,255.0\" style=\"fill:rgb(249,249,249);stroke-width:1;stroke:rgb(255,255,255)\"/>\n",
       "<polyline points=\"280.0,255.0 355.0,255.0 355.0,180.0 280.0,180.0 280.0,255.0\" style=\"fill:rgb(249,249,249);stroke-width:1;stroke:rgb(255,255,255)\"/>\n",
       "<polyline points=\"355.0,255.0 430.0,255.0 430.0,180.0 355.0,180.0 355.0,255.0\" style=\"fill:rgb(249,249,249);stroke-width:1;stroke:rgb(255,255,255)\"/>\n",
       "<polyline points=\"130.0,180.0 205.0,180.0 205.0,105.0 130.0,105.0 130.0,180.0\" style=\"fill:rgb(249,249,249);stroke-width:1;stroke:rgb(255,255,255)\"/>\n",
       "<polyline points=\"205.0,180.0 280.0,180.0 280.0,105.0 205.0,105.0 205.0,180.0\" style=\"fill:rgb(249,249,249);stroke-width:1;stroke:rgb(255,255,255)\"/>\n",
       "<polyline points=\"280.0,180.0 355.0,180.0 355.0,105.0 280.0,105.0 280.0,180.0\" style=\"fill:rgb(249,249,249);stroke-width:1;stroke:rgb(255,255,255)\"/>\n",
       "<polyline points=\"355.0,180.0 430.0,180.0 430.0,105.0 355.0,105.0 355.0,180.0\" style=\"fill:rgb(249,249,249);stroke-width:1;stroke:rgb(255,255,255)\"/>\n",
       "<polyline points=\"130.0,105.0 205.0,105.0 205.0,30.0 130.0,30.0 130.0,105.0\" style=\"fill:rgb(249,249,249);stroke-width:1;stroke:rgb(255,255,255)\"/>\n",
       "<polyline points=\"205.0,105.0 280.0,105.0 280.0,30.0 205.0,30.0 205.0,105.0\" style=\"fill:rgb(249,249,249);stroke-width:1;stroke:rgb(255,255,255)\"/>\n",
       "<polyline points=\"280.0,105.0 355.0,105.0 355.0,30.0 280.0,30.0 280.0,105.0\" style=\"fill:rgb(249,249,249);stroke-width:1;stroke:rgb(255,255,255)\"/>\n",
       "<polyline points=\"355.0,105.0 430.0,105.0 430.0,30.0 355.0,30.0 355.0,105.0\" style=\"fill:rgb(249,249,249);stroke-width:1;stroke:rgb(255,255,255)\"/>\n",
       "<circle cx=\"130.0\" cy=\"330.0\" r=\"37.5\" style=\"fill:rgb(255,255,255);stroke-width:0;stroke:none\"/>\n",
       "<circle cx=\"347.651282306\" cy=\"140.684244778\" r=\"2.0\" style=\"fill:rgb(0,0,0);stroke-width:0;stroke:none\"/>\n",
       "<circle cx=\"347.651282306\" cy=\"231.723771498\" r=\"2.0\" style=\"fill:rgb(0,0,0);stroke-width:0;stroke:none\"/>\n",
       "<circle cx=\"396.130339017\" cy=\"140.684244778\" r=\"2.0\" style=\"fill:rgb(0,0,0);stroke-width:0;stroke:none\"/>\n",
       "<circle cx=\"396.130339017\" cy=\"231.723771498\" r=\"2.0\" style=\"fill:rgb(0,0,0);stroke-width:0;stroke:none\"/>\n",
       "<circle cx=\"148.502444995\" cy=\"140.684244778\" r=\"2.0\" style=\"fill:rgb(0,0,0);stroke-width:0;stroke:none\"/>\n",
       "<circle cx=\"148.502444995\" cy=\"231.723771498\" r=\"2.0\" style=\"fill:rgb(0,0,0);stroke-width:0;stroke:none\"/>\n",
       "</svg></div>"
      ],
      "text/plain": [
       "<IPython.core.display.HTML object>"
      ]
     },
     "metadata": {},
     "output_type": "display_data"
    }
   ],
   "source": [
    "x_coords = [random.random() for n in range(3)]\n",
    "y_coords = [random.random() for n in range(2)]\n",
    "\n",
    "pts = [Point(x,y) for x in x_coords for y in y_coords]\n",
    "out.put(pts)\n",
    "\n",
    "out.draw()\n",
    "out.clear()"
   ]
  },
  {
   "cell_type": "markdown",
   "metadata": {},
   "source": [
    "One or more conditional statements may be included such that an item in a collection is iterated over only if a given condition is met.\n",
    "\n",
    "    lst = [expression for item in list if conditional]\n",
    "\n",
    "This conditional comprehension is the equivalent of writing:\n",
    "\n",
    "    lst = []\n",
    "    for item in list:\n",
    "        if conditional:\n",
    "            lst.append(expression)\n",
    "\n",
    "The conditional comprehension statement is useful in filtering out certain items or results. Building upon an earlier example, imagine that we wish to restrict the resulting collection of Points to those that lie above a 45-degree line starting at the origin."
   ]
  },
  {
   "cell_type": "code",
   "execution_count": 30,
   "metadata": {},
   "outputs": [
    {
     "data": {
      "text/html": [
       "<div style=\"width:560.0px; height:360.0px; box-shadow: 2px 2px 8px 4px #ddd; margin: 8px;\"><svg width=\"560.0\" height=\"360.0\" xmlns=\"http://www.w3.org/2000/svg\" version=\"1.1\">\n",
       "<polyline points=\"130.0,330.0 205.0,330.0 205.0,255.0 130.0,255.0 130.0,330.0\" style=\"fill:rgb(249,249,249);stroke-width:1;stroke:rgb(255,255,255)\"/>\n",
       "<polyline points=\"205.0,330.0 280.0,330.0 280.0,255.0 205.0,255.0 205.0,330.0\" style=\"fill:rgb(249,249,249);stroke-width:1;stroke:rgb(255,255,255)\"/>\n",
       "<polyline points=\"280.0,330.0 355.0,330.0 355.0,255.0 280.0,255.0 280.0,330.0\" style=\"fill:rgb(249,249,249);stroke-width:1;stroke:rgb(255,255,255)\"/>\n",
       "<polyline points=\"355.0,330.0 430.0,330.0 430.0,255.0 355.0,255.0 355.0,330.0\" style=\"fill:rgb(249,249,249);stroke-width:1;stroke:rgb(255,255,255)\"/>\n",
       "<polyline points=\"130.0,255.0 205.0,255.0 205.0,180.0 130.0,180.0 130.0,255.0\" style=\"fill:rgb(249,249,249);stroke-width:1;stroke:rgb(255,255,255)\"/>\n",
       "<polyline points=\"205.0,255.0 280.0,255.0 280.0,180.0 205.0,180.0 205.0,255.0\" style=\"fill:rgb(249,249,249);stroke-width:1;stroke:rgb(255,255,255)\"/>\n",
       "<polyline points=\"280.0,255.0 355.0,255.0 355.0,180.0 280.0,180.0 280.0,255.0\" style=\"fill:rgb(249,249,249);stroke-width:1;stroke:rgb(255,255,255)\"/>\n",
       "<polyline points=\"355.0,255.0 430.0,255.0 430.0,180.0 355.0,180.0 355.0,255.0\" style=\"fill:rgb(249,249,249);stroke-width:1;stroke:rgb(255,255,255)\"/>\n",
       "<polyline points=\"130.0,180.0 205.0,180.0 205.0,105.0 130.0,105.0 130.0,180.0\" style=\"fill:rgb(249,249,249);stroke-width:1;stroke:rgb(255,255,255)\"/>\n",
       "<polyline points=\"205.0,180.0 280.0,180.0 280.0,105.0 205.0,105.0 205.0,180.0\" style=\"fill:rgb(249,249,249);stroke-width:1;stroke:rgb(255,255,255)\"/>\n",
       "<polyline points=\"280.0,180.0 355.0,180.0 355.0,105.0 280.0,105.0 280.0,180.0\" style=\"fill:rgb(249,249,249);stroke-width:1;stroke:rgb(255,255,255)\"/>\n",
       "<polyline points=\"355.0,180.0 430.0,180.0 430.0,105.0 355.0,105.0 355.0,180.0\" style=\"fill:rgb(249,249,249);stroke-width:1;stroke:rgb(255,255,255)\"/>\n",
       "<polyline points=\"130.0,105.0 205.0,105.0 205.0,30.0 130.0,30.0 130.0,105.0\" style=\"fill:rgb(249,249,249);stroke-width:1;stroke:rgb(255,255,255)\"/>\n",
       "<polyline points=\"205.0,105.0 280.0,105.0 280.0,30.0 205.0,30.0 205.0,105.0\" style=\"fill:rgb(249,249,249);stroke-width:1;stroke:rgb(255,255,255)\"/>\n",
       "<polyline points=\"280.0,105.0 355.0,105.0 355.0,30.0 280.0,30.0 280.0,105.0\" style=\"fill:rgb(249,249,249);stroke-width:1;stroke:rgb(255,255,255)\"/>\n",
       "<polyline points=\"355.0,105.0 430.0,105.0 430.0,30.0 355.0,30.0 355.0,105.0\" style=\"fill:rgb(249,249,249);stroke-width:1;stroke:rgb(255,255,255)\"/>\n",
       "<circle cx=\"130.0\" cy=\"330.0\" r=\"37.5\" style=\"fill:rgb(255,255,255);stroke-width:0;stroke:none\"/>\n",
       "<circle cx=\"168.714855347\" cy=\"204.116528912\" r=\"2.0\" style=\"fill:rgb(0,0,0);stroke-width:0;stroke:none\"/>\n",
       "<circle cx=\"303.172259474\" cy=\"58.1673879496\" r=\"2.0\" style=\"fill:rgb(0,0,0);stroke-width:0;stroke:none\"/>\n",
       "<circle cx=\"296.305080291\" cy=\"74.41472947\" r=\"2.0\" style=\"fill:rgb(0,0,0);stroke-width:0;stroke:none\"/>\n",
       "<circle cx=\"214.828568361\" cy=\"174.409361083\" r=\"2.0\" style=\"fill:rgb(0,0,0);stroke-width:0;stroke:none\"/>\n",
       "<circle cx=\"263.636414786\" cy=\"151.177585556\" r=\"2.0\" style=\"fill:rgb(0,0,0);stroke-width:0;stroke:none\"/>\n",
       "<circle cx=\"254.886198128\" cy=\"153.65078206\" r=\"2.0\" style=\"fill:rgb(0,0,0);stroke-width:0;stroke:none\"/>\n",
       "</svg></div>"
      ],
      "text/plain": [
       "<IPython.core.display.HTML object>"
      ]
     },
     "metadata": {},
     "output_type": "display_data"
    }
   ],
   "source": [
    "\"\"\"\n",
    "A Conditional Comprehension\n",
    "Given the same List as above, using List comprehension with a conditional \n",
    "statement, here we restrict our construction of Points to those that lie \n",
    "above a 45-degree line from the origin.\n",
    "\"\"\"\n",
    "coords = [(random.random(), random.random()) for n in range(10)]\n",
    "\n",
    "pts = [ Point(tup[0],tup[1]) for tup in coords if tup[1] > tup[0] ]\n",
    "\n",
    "out.put(pts)\n",
    "out.draw()\n",
    "out.clear()"
   ]
  },
  {
   "cell_type": "markdown",
   "metadata": {},
   "source": [
    "Used judiciously, comprehensions can assist in elegantly and clearly implementing complicated routines. \n",
    "\n",
    "Consider the technique presented earlier for sorting arbitrary collections of objects known as decorate-sort-undecorate. Note how much more economical and legible this routine is written using comprehensions"
   ]
  },
  {
   "cell_type": "code",
   "execution_count": null,
   "metadata": {},
   "outputs": [],
   "source": [
    "\"\"\"\n",
    "Decorate-Sort-Undecorate with Comprehension\n",
    "List comprehensions are employed to more concisely implement the \n",
    "decorate-sort-undecorate pattern. Note that by nesting comprehensions, \n",
    "this code could be reduced even further.\n",
    "\"\"\"\n",
    "decorated_tups = [ (pt.dist(attr_pt), pt) for pt in pts ]\n",
    "sorted_pts = [ tup[1] for tup in decorated_tups.sort() ]"
   ]
  },
  {
   "cell_type": "code",
   "execution_count": null,
   "metadata": {},
   "outputs": [],
   "source": [
    "\"\"\"\n",
    "Decorate-Sort-Undecorate with Minimal Comprehension\n",
    "While perhaps beautiful in its economy of means, this code has moved beyond \n",
    "elegance and threatens to become unnecessarily terse.\n",
    "\"\"\"\n",
    "sorted_pts = [b for a,b in sorted([(pt.dist(attr_pt),pt) for pt in pts])]"
   ]
  },
  {
   "cell_type": "markdown",
   "metadata": {},
   "source": [
    "## Iterators and Itertools"
   ]
  },
  {
   "cell_type": "markdown",
   "metadata": {},
   "source": [
    "### Iterators"
   ]
  },
  {
   "cell_type": "markdown",
   "metadata": {},
   "source": [
    "<table style=\"width:600px\">\n",
    "<tr><th colspan=\"2\" style=\"text-align:left\">*Selected Iterator Methods Of A Python Dict*</th></tr>\n",
    "<tr>\n",
    "    <td style=\"width:40%\">`dict.iterkeys()`<br>`dict.itervalues()`<br>`dict.iteritems()`</td>\n",
    "    <td style=\"width:60%\">Returns an iterator of the contained keys, values, or key-value pairs as Tuples.</td>\n",
    "</tr>\n",
    "</table>"
   ]
  },
  {
   "cell_type": "markdown",
   "metadata": {},
   "source": [
    "### Itertools"
   ]
  },
  {
   "cell_type": "code",
   "execution_count": null,
   "metadata": {},
   "outputs": [],
   "source": [
    "\"\"\"\n",
    "Cartesian Product of Cards\n",
    "The product function returns an iterable coordinated Tuples resulting from \n",
    "every possible ordered combination of each given collection. Here, this \n",
    "function is applied to produce every possible card in a standard deck of \n",
    "playing cards.\n",
    "\"\"\"\n",
    "ranks = [2,3,4,5,6,7,8,9,10,\"Jack\",\"Queen\",\"King\",\"Ace\"]\n",
    "suits = [\"spades\", \"hearts\", \"diamonds\", \"clubs\"]\n",
    "\n",
    "for rank,suit in itertools.product(ranks,suits):\n",
    "    print( \"{0} of {1}\".format(rank, suit) )"
   ]
  },
  {
   "cell_type": "code",
   "execution_count": null,
   "metadata": {},
   "outputs": [],
   "source": [
    "\"\"\"\n",
    "Cartesian Product of Pixel Addresses\n",
    "Given a number of pixels in u- and v-dimensions, here we use the Cartesian product function \n",
    "to generate the address of every possible pixel.\n",
    "\"\"\"    \n",
    "count_u = 3\n",
    "count_v = 4\n",
    "\n",
    "for u,v in itertools.product(range(count_u), range(count_v)):\n",
    "    print( \"({0},{1})\".format(u,v) )"
   ]
  },
  {
   "cell_type": "markdown",
   "metadata": {},
   "source": [
    "## Interval Objects in Decod.es"
   ]
  },
  {
   "cell_type": "markdown",
   "metadata": {},
   "source": [
    "<table style=\"width:600px\">\n",
    "<tr><th colspan=\"3\" style=\"text-align:left\">*Interval Members And Properties*</th></tr>\n",
    "<tr>\n",
    "    <td style=\"width:40%\">`ival.a`<br>`ival.b`</td>\n",
    "    <td style=\"width:20%\">Float</td>\n",
    "    <td style=\"width:40%\">The non-ordered boundary values of the range of numbers represented by this Interval.</td>\n",
    "</tr>\n",
    "<tr>\n",
    "    <td style=\"width:40%\">`ival.delta`</td>\n",
    "    <td style=\"width:20%\">Float</td>\n",
    "    <td style=\"width:40%\">The difference between the start and end of the numeric range described by this Interval, calculated as `ival.b-ival.a`. May return a negative value.</td>\n",
    "</tr>\n",
    "</table>"
   ]
  },
  {
   "cell_type": "markdown",
   "metadata": {},
   "source": [
    "<table style=\"width:600px\">\n",
    "<tr><th colspan=\"3\" style=\"text-align:left\">*Selected Interval Methods*</th></tr>\n",
    "<tr>\n",
    "    <td style=\"width:40%\">`ival.eval(t)`</td>\n",
    "    <td style=\"width:20%\">Float </td>\n",
    "    <td style=\"width:40%\">Returns the value relative to this numeric Interval that corresponds with the given normalized parameter.</td>\n",
    "</tr>\n",
    "<tr>\n",
    "    <td style=\"width:40%\">`ival.deval(t)`</td>\n",
    "    <td style=\"width:20%\">Float</td>\n",
    "    <td style=\"width:40%\">Returns the normalized parameter that corresponds with the given value relative to this numeric Interval.</td>\n",
    "</tr>\n",
    "<tr>\n",
    "    <td style=\"width:40%\">`ival.divide(divs)`</td>\n",
    "    <td style=\"width:20%\">[Float]</td>\n",
    "    <td style=\"width:40%\">Returns a List of values that result from dividing this Interval into a given number of segments. </td>\n",
    "</tr>\n",
    "<tr>\n",
    "    <td style=\"width:40%\">`ival.subinterval(divs)`</td>\n",
    "    <td style=\"width:20%\">[Interval]</td>\n",
    "    <td style=\"width:40%\">Returns a List of Intervals that result from dividing this Interval into a given number of smaller ranges of values.</td>\n",
    "</tr>\n",
    "</table>"
   ]
  },
  {
   "cell_type": "markdown",
   "metadata": {},
   "source": [
    "<table style=\"width:600px\">\n",
    "<tr><th colspan=\"3\" style=\"text-align:left\">*Selected Interval Static Methods*</th></tr>\n",
    "<tr>\n",
    "    <td style=\"width:40%\">`Interval.twopi()`</td>\n",
    "    <td style=\"width:20%\">Interval</td>\n",
    "    <td style=\"width:40%\">Returns an Interval from 0 to 2Pi.</td>\n",
    "</tr>\n",
    "<tr>\n",
    "    <td style=\"width:40%\">`Interval.remap(val,src_ival,tar_ival)`</td>\n",
    "    <td style=\"width:20%\">Float</td>\n",
    "    <td style=\"width:40%\">Returns the number that results from the translation of val relative to `src_ival` to the corresponding value relative to `tar_ival`.</td>\n",
    "</tr>\n",
    "</table>"
   ]
  },
  {
   "cell_type": "markdown",
   "metadata": {},
   "source": [
    "<img src=\"http://geometric-computation-images.s3-website-us-east-1.amazonaws.com/3.00.D80 Interval Large.jpg\" style=\"width: 600px; display: inline;\">"
   ]
  },
  {
   "cell_type": "markdown",
   "metadata": {},
   "source": [
    "<img src=\"http://geometric-computation-images.s3-website-us-east-1.amazonaws.com/1.04.P24.jpg\" style=\"width: 200px; display: inline;\">"
   ]
  },
  {
   "cell_type": "code",
   "execution_count": null,
   "metadata": {},
   "outputs": [],
   "source": [
    "\"\"\"\n",
    "Interval Remapping\n",
    "Returns the number that results from the translation of val described in \n",
    "terms of a source interval to the corresponding value relative to a target \n",
    "Interval.\n",
    "\"\"\"\n",
    "val = 0.625\n",
    "src_ival = Interval(0,1)\n",
    "tar_ival = Interval(6,10)\n",
    "print( tar_ival.eval(src_ival.deval(val)) )\n"
   ]
  },
  {
   "cell_type": "markdown",
   "metadata": {},
   "source": [
    "<img src=\"http://geometric-computation-images.s3-website-us-east-1.amazonaws.com/1.04.P25.jpg\" style=\"width: 200px; display: inline;\">"
   ]
  },
  {
   "cell_type": "code",
   "execution_count": null,
   "metadata": {},
   "outputs": [],
   "source": []
  }
 ],
 "metadata": {
  "kernelspec": {
   "display_name": "Python 2",
   "language": "python",
   "name": "python2"
  },
  "language_info": {
   "codemirror_mode": {
    "name": "ipython",
    "version": 2
   },
   "file_extension": ".py",
   "mimetype": "text/x-python",
   "name": "python",
   "nbconvert_exporter": "python",
   "pygments_lexer": "ipython2",
   "version": "2.7.10"
  }
 },
 "nbformat": 4,
 "nbformat_minor": 2
}
