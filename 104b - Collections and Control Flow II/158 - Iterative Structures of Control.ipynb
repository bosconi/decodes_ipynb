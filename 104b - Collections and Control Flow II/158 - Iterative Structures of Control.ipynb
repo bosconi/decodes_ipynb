{
 "cells": [
  {
   "cell_type": "code",
   "execution_count": 18,
   "metadata": {},
   "outputs": [],
   "source": [
    "from decodes.core import *\n",
    "from decodes.io.jupyter_out import JupyterOut\n",
    "import itertools\n",
    "from math import*\n",
    "import random\n",
    "out = JupyterOut.two_pi( )"
   ]
  },
  {
   "cell_type": "markdown",
   "metadata": {},
   "source": [
    "# Iterative Structures of Control\n",
    "\n",
    "In this section, we complete the survey of iterative structures of control, which have been collected piecemeal thus far, by ***presenting a number of outstanding functions, syntactic structures, and classes that are designed to support iteration***. First, a recap.\n",
    "\n",
    "Our earliest encounter with an iterative structure of control was the workaday for loop, which we have applied regularly to iterate over, or “walk”, collections.\n",
    "\n",
    "    for item in collection:\n",
    "        do_something_with_item\n",
    "\n",
    "We have also seen how nested collections may be iterated in a coordinated way using Tuple unpacking. Combined with the `zip()` function, this technique allows us to iterate over two collections simultaneously. This opened up higher-level patterns of code, such as decorate-sort-undecorate, and anticipated our presentation of multi-dimensionality.\n",
    "\n",
    "    for a,b in [(a1,b1), (a2,b2), (a3,b3)]:\n",
    "        do_something_with_a_and_b\n",
    "\n",
    "We have seen how certain static methods and built-in functions are designed to support or exploit iterative structures of control: \n",
    "\n",
    "* The `range()` function produces Lists of Integer numbers that are primarily applied to the construction of for loops.\n",
    "* The simultaneous iteration over the keys and values of a Dict is made possible by the `dict.items()` method\n",
    "* The Interval class itself was designed to support concise iteration over continuous value ranges.\n"
   ]
  },
  {
   "cell_type": "markdown",
   "metadata": {},
   "source": [
    "## Enumeration\n",
    "\n",
    "We have seen two competing approaches to iterating over a given collection using a `for` loop. The first walks items, as in `for item in collection`, while the second walks indices, as in `for index in range(len(collection))`. Each presents a unique advantage: walking items saves us the bother of indexing, while walking indices enables us to reference our position in the collection at each cycle of the loop.\n",
    "\n",
    "The built-in enumerate function offers the best of both approaches, allowing us to ***walk a given collection while also tracking indices***. By constructing Tuple pairs, each containing an index and an item from a given collection, we may combine the enumerate function with Tuple unpacking syntax to produce an iteration.\n",
    "\n",
    "    for index,item in enumerate(collection):\n",
    "        do_something_with_item_and_index\n"
   ]
  },
  {
   "cell_type": "markdown",
   "metadata": {},
   "source": [
    "<img src=\"http://geometric-computation-images.s3-website-us-east-1.amazonaws.com/1.04.P20.jpg\" style=\"width: 200px; display: inline;\">"
   ]
  },
  {
   "cell_type": "code",
   "execution_count": 19,
   "metadata": {},
   "outputs": [
    {
     "name": "stdout",
     "output_type": "stream",
     "text": [
      "point at index  0  is  pt[5.0,0.0,0]\n",
      "point at index  1  is  pt[2.701511529340699,2.124220254820713,0]\n",
      "point at index  2  is  pt[-2.080734182735712,2.4804654312954177,0]\n",
      "point at index  3  is  pt[-4.949962483002227,0.05974457002445096,0]\n",
      "point at index  4  is  pt[-3.2682181043180596,-1.71825005071292,0]\n",
      "point at index  5  is  pt[1.4183109273161312,-2.7586072936146784,0]\n",
      "point at index  6  is  pt[4.80085143325183,-0.23421906190126182,0]\n",
      "point at index  7  is  pt[3.769511271716523,1.2948941726882495,0]\n",
      "point at index  8  is  pt[-0.7275001690430677,2.9364892204850768,0]\n",
      "point at index  9  is  pt[-4.555651309423385,0.5095249376338798,0]\n",
      "point at index  10  is  pt[-4.195357645382262,-0.8878769072799119,0]\n",
      "point at index  11  is  pt[0.022128489940253928,-2.999941239591956,0]\n",
      "point at index  12  is  pt[4.219269793662461,-0.8637314889945045,0]\n",
      "point at index  13  is  pt[4.537233907250981,0.5296210165070394,0]\n",
      "point at index  14  is  pt[0.683686091039168,2.9439087994703503,0]\n",
      "point at index  15  is  pt[-3.7984395642941067,1.2686228251686238,0]\n",
      "point at index  16  is  pt[-4.788297401616923,-0.2486649592402346,0]\n",
      "point at index  17  is  pt[-1.3758166902579847,-2.7728554121769076,0]\n",
      "point at index  18  is  pt[3.301583541220401,-1.6919455344411072,0]\n",
      "point at index  19  is  pt[4.943523090933346,0.06738953392905772,0]\n"
     ]
    }
   ],
   "source": [
    "# This constructs a list of Points. \n",
    "# We'll know about this syntax very soon!\n",
    "pts = [Point(5.0*cos(n), 3.0*abs(sin(n))*sin(n)) for n in range(20)]\n",
    "\"\"\"\n",
    "The Enumerate Function\n",
    "This built-in function generates a List of Tuples, each containing a pair \n",
    "that includes an item and its index in a given collection\n",
    "\"\"\"\n",
    "for n, pt in enumerate(pts):\n",
    "    print( \"point at index \",n,\" is \",pt )"
   ]
  },
  {
   "cell_type": "markdown",
   "metadata": {},
   "source": [
    "Consider a situation in which we seek to thread Segments that connect every possible combination of Points in a given collection, but wish to avoid the creation of duplicate Segments. A simple technique for achieving this is to connect each Point given only to others that proceed it in the collection. This may be achieved using a nesting of two loops, and may be written succinctly by employing the enumerate function in the construction of the outer loop."
   ]
  },
  {
   "cell_type": "code",
   "execution_count": 20,
   "metadata": {},
   "outputs": [
    {
     "data": {
      "text/html": [
       "<div style=\"width:560.0px; height:360.0px; box-shadow: 2px 2px 8px 4px #ddd; margin: 8px;\"><svg width=\"560.0\" height=\"360.0\" xmlns=\"http://www.w3.org/2000/svg\" version=\"1.1\">\n",
       "<polyline points=\"28.67258771281655,340.0 91.50444078461243,340.0 91.50444078461243,300.0 28.67258771281655,300.0 28.67258771281655,340.0\" style=\"fill:rgb(249,249,249);stroke-width:1;stroke:rgb(255,255,255)\"/>\n",
       "<polyline points=\"91.50444078461243,340.0 154.33629385640828,340.0 154.33629385640828,300.0 91.50444078461243,300.0 91.50444078461243,340.0\" style=\"fill:rgb(249,249,249);stroke-width:1;stroke:rgb(255,255,255)\"/>\n",
       "<polyline points=\"154.33629385640828,340.0 217.16814692820412,340.0 217.16814692820412,300.0 154.33629385640828,300.0 154.33629385640828,340.0\" style=\"fill:rgb(249,249,249);stroke-width:1;stroke:rgb(255,255,255)\"/>\n",
       "<polyline points=\"217.16814692820412,340.0 280.0,340.0 280.0,300.0 217.16814692820412,300.0 217.16814692820412,340.0\" style=\"fill:rgb(249,249,249);stroke-width:1;stroke:rgb(255,255,255)\"/>\n",
       "<polyline points=\"280.0,340.0 342.8318530717959,340.0 342.8318530717959,300.0 280.0,300.0 280.0,340.0\" style=\"fill:rgb(249,249,249);stroke-width:1;stroke:rgb(255,255,255)\"/>\n",
       "<polyline points=\"342.8318530717959,340.0 405.66370614359175,340.0 405.66370614359175,300.0 342.8318530717959,300.0 342.8318530717959,340.0\" style=\"fill:rgb(249,249,249);stroke-width:1;stroke:rgb(255,255,255)\"/>\n",
       "<polyline points=\"405.66370614359175,340.0 468.4955592153876,340.0 468.4955592153876,300.0 405.66370614359175,300.0 405.66370614359175,340.0\" style=\"fill:rgb(249,249,249);stroke-width:1;stroke:rgb(255,255,255)\"/>\n",
       "<polyline points=\"468.4955592153876,340.0 531.3274122871835,340.0 531.3274122871835,300.0 468.4955592153876,300.0 468.4955592153876,340.0\" style=\"fill:rgb(249,249,249);stroke-width:1;stroke:rgb(255,255,255)\"/>\n",
       "<polyline points=\"28.67258771281655,300.0 91.50444078461243,300.0 91.50444078461243,260.0 28.67258771281655,260.0 28.67258771281655,300.0\" style=\"fill:rgb(249,249,249);stroke-width:1;stroke:rgb(255,255,255)\"/>\n",
       "<polyline points=\"91.50444078461243,300.0 154.33629385640828,300.0 154.33629385640828,260.0 91.50444078461243,260.0 91.50444078461243,300.0\" style=\"fill:rgb(249,249,249);stroke-width:1;stroke:rgb(255,255,255)\"/>\n",
       "<polyline points=\"154.33629385640828,300.0 217.16814692820412,300.0 217.16814692820412,260.0 154.33629385640828,260.0 154.33629385640828,300.0\" style=\"fill:rgb(249,249,249);stroke-width:1;stroke:rgb(255,255,255)\"/>\n",
       "<polyline points=\"217.16814692820412,300.0 280.0,300.0 280.0,260.0 217.16814692820412,260.0 217.16814692820412,300.0\" style=\"fill:rgb(249,249,249);stroke-width:1;stroke:rgb(255,255,255)\"/>\n",
       "<polyline points=\"280.0,300.0 342.8318530717959,300.0 342.8318530717959,260.0 280.0,260.0 280.0,300.0\" style=\"fill:rgb(249,249,249);stroke-width:1;stroke:rgb(255,255,255)\"/>\n",
       "<polyline points=\"342.8318530717959,300.0 405.66370614359175,300.0 405.66370614359175,260.0 342.8318530717959,260.0 342.8318530717959,300.0\" style=\"fill:rgb(249,249,249);stroke-width:1;stroke:rgb(255,255,255)\"/>\n",
       "<polyline points=\"405.66370614359175,300.0 468.4955592153876,300.0 468.4955592153876,260.0 405.66370614359175,260.0 405.66370614359175,300.0\" style=\"fill:rgb(249,249,249);stroke-width:1;stroke:rgb(255,255,255)\"/>\n",
       "<polyline points=\"468.4955592153876,300.0 531.3274122871835,300.0 531.3274122871835,260.0 468.4955592153876,260.0 468.4955592153876,300.0\" style=\"fill:rgb(249,249,249);stroke-width:1;stroke:rgb(255,255,255)\"/>\n",
       "<polyline points=\"28.67258771281655,260.0 91.50444078461243,260.0 91.50444078461243,220.0 28.67258771281655,220.0 28.67258771281655,260.0\" style=\"fill:rgb(249,249,249);stroke-width:1;stroke:rgb(255,255,255)\"/>\n",
       "<polyline points=\"91.50444078461243,260.0 154.33629385640828,260.0 154.33629385640828,220.0 91.50444078461243,220.0 91.50444078461243,260.0\" style=\"fill:rgb(249,249,249);stroke-width:1;stroke:rgb(255,255,255)\"/>\n",
       "<polyline points=\"154.33629385640828,260.0 217.16814692820412,260.0 217.16814692820412,220.0 154.33629385640828,220.0 154.33629385640828,260.0\" style=\"fill:rgb(249,249,249);stroke-width:1;stroke:rgb(255,255,255)\"/>\n",
       "<polyline points=\"217.16814692820412,260.0 280.0,260.0 280.0,220.0 217.16814692820412,220.0 217.16814692820412,260.0\" style=\"fill:rgb(249,249,249);stroke-width:1;stroke:rgb(255,255,255)\"/>\n",
       "<polyline points=\"280.0,260.0 342.8318530717959,260.0 342.8318530717959,220.0 280.0,220.0 280.0,260.0\" style=\"fill:rgb(249,249,249);stroke-width:1;stroke:rgb(255,255,255)\"/>\n",
       "<polyline points=\"342.8318530717959,260.0 405.66370614359175,260.0 405.66370614359175,220.0 342.8318530717959,220.0 342.8318530717959,260.0\" style=\"fill:rgb(249,249,249);stroke-width:1;stroke:rgb(255,255,255)\"/>\n",
       "<polyline points=\"405.66370614359175,260.0 468.4955592153876,260.0 468.4955592153876,220.0 405.66370614359175,220.0 405.66370614359175,260.0\" style=\"fill:rgb(249,249,249);stroke-width:1;stroke:rgb(255,255,255)\"/>\n",
       "<polyline points=\"468.4955592153876,260.0 531.3274122871835,260.0 531.3274122871835,220.0 468.4955592153876,220.0 468.4955592153876,260.0\" style=\"fill:rgb(249,249,249);stroke-width:1;stroke:rgb(255,255,255)\"/>\n",
       "<polyline points=\"28.67258771281655,220.0 91.50444078461243,220.0 91.50444078461243,180.0 28.67258771281655,180.0 28.67258771281655,220.0\" style=\"fill:rgb(249,249,249);stroke-width:1;stroke:rgb(255,255,255)\"/>\n",
       "<polyline points=\"91.50444078461243,220.0 154.33629385640828,220.0 154.33629385640828,180.0 91.50444078461243,180.0 91.50444078461243,220.0\" style=\"fill:rgb(249,249,249);stroke-width:1;stroke:rgb(255,255,255)\"/>\n",
       "<polyline points=\"154.33629385640828,220.0 217.16814692820412,220.0 217.16814692820412,180.0 154.33629385640828,180.0 154.33629385640828,220.0\" style=\"fill:rgb(249,249,249);stroke-width:1;stroke:rgb(255,255,255)\"/>\n",
       "<polyline points=\"217.16814692820412,220.0 280.0,220.0 280.0,180.0 217.16814692820412,180.0 217.16814692820412,220.0\" style=\"fill:rgb(249,249,249);stroke-width:1;stroke:rgb(255,255,255)\"/>\n",
       "<polyline points=\"280.0,220.0 342.8318530717959,220.0 342.8318530717959,180.0 280.0,180.0 280.0,220.0\" style=\"fill:rgb(249,249,249);stroke-width:1;stroke:rgb(255,255,255)\"/>\n",
       "<polyline points=\"342.8318530717959,220.0 405.66370614359175,220.0 405.66370614359175,180.0 342.8318530717959,180.0 342.8318530717959,220.0\" style=\"fill:rgb(249,249,249);stroke-width:1;stroke:rgb(255,255,255)\"/>\n",
       "<polyline points=\"405.66370614359175,220.0 468.4955592153876,220.0 468.4955592153876,180.0 405.66370614359175,180.0 405.66370614359175,220.0\" style=\"fill:rgb(249,249,249);stroke-width:1;stroke:rgb(255,255,255)\"/>\n",
       "<polyline points=\"468.4955592153876,220.0 531.3274122871835,220.0 531.3274122871835,180.0 468.4955592153876,180.0 468.4955592153876,220.0\" style=\"fill:rgb(249,249,249);stroke-width:1;stroke:rgb(255,255,255)\"/>\n",
       "<polyline points=\"28.67258771281655,180.0 91.50444078461243,180.0 91.50444078461243,140.0 28.67258771281655,140.0 28.67258771281655,180.0\" style=\"fill:rgb(249,249,249);stroke-width:1;stroke:rgb(255,255,255)\"/>\n",
       "<polyline points=\"91.50444078461243,180.0 154.33629385640828,180.0 154.33629385640828,140.0 91.50444078461243,140.0 91.50444078461243,180.0\" style=\"fill:rgb(249,249,249);stroke-width:1;stroke:rgb(255,255,255)\"/>\n",
       "<polyline points=\"154.33629385640828,180.0 217.16814692820412,180.0 217.16814692820412,140.0 154.33629385640828,140.0 154.33629385640828,180.0\" style=\"fill:rgb(249,249,249);stroke-width:1;stroke:rgb(255,255,255)\"/>\n",
       "<polyline points=\"217.16814692820412,180.0 280.0,180.0 280.0,140.0 217.16814692820412,140.0 217.16814692820412,180.0\" style=\"fill:rgb(249,249,249);stroke-width:1;stroke:rgb(255,255,255)\"/>\n",
       "<polyline points=\"280.0,180.0 342.8318530717959,180.0 342.8318530717959,140.0 280.0,140.0 280.0,180.0\" style=\"fill:rgb(249,249,249);stroke-width:1;stroke:rgb(255,255,255)\"/>\n",
       "<polyline points=\"342.8318530717959,180.0 405.66370614359175,180.0 405.66370614359175,140.0 342.8318530717959,140.0 342.8318530717959,180.0\" style=\"fill:rgb(249,249,249);stroke-width:1;stroke:rgb(255,255,255)\"/>\n",
       "<polyline points=\"405.66370614359175,180.0 468.4955592153876,180.0 468.4955592153876,140.0 405.66370614359175,140.0 405.66370614359175,180.0\" style=\"fill:rgb(249,249,249);stroke-width:1;stroke:rgb(255,255,255)\"/>\n",
       "<polyline points=\"468.4955592153876,180.0 531.3274122871835,180.0 531.3274122871835,140.0 468.4955592153876,140.0 468.4955592153876,180.0\" style=\"fill:rgb(249,249,249);stroke-width:1;stroke:rgb(255,255,255)\"/>\n",
       "<polyline points=\"28.67258771281655,140.0 91.50444078461243,140.0 91.50444078461243,100.0 28.67258771281655,100.0 28.67258771281655,140.0\" style=\"fill:rgb(249,249,249);stroke-width:1;stroke:rgb(255,255,255)\"/>\n",
       "<polyline points=\"91.50444078461243,140.0 154.33629385640828,140.0 154.33629385640828,100.0 91.50444078461243,100.0 91.50444078461243,140.0\" style=\"fill:rgb(249,249,249);stroke-width:1;stroke:rgb(255,255,255)\"/>\n",
       "<polyline points=\"154.33629385640828,140.0 217.16814692820412,140.0 217.16814692820412,100.0 154.33629385640828,100.0 154.33629385640828,140.0\" style=\"fill:rgb(249,249,249);stroke-width:1;stroke:rgb(255,255,255)\"/>\n",
       "<polyline points=\"217.16814692820412,140.0 280.0,140.0 280.0,100.0 217.16814692820412,100.0 217.16814692820412,140.0\" style=\"fill:rgb(249,249,249);stroke-width:1;stroke:rgb(255,255,255)\"/>\n",
       "<polyline points=\"280.0,140.0 342.8318530717959,140.0 342.8318530717959,100.0 280.0,100.0 280.0,140.0\" style=\"fill:rgb(249,249,249);stroke-width:1;stroke:rgb(255,255,255)\"/>\n",
       "<polyline points=\"342.8318530717959,140.0 405.66370614359175,140.0 405.66370614359175,100.0 342.8318530717959,100.0 342.8318530717959,140.0\" style=\"fill:rgb(249,249,249);stroke-width:1;stroke:rgb(255,255,255)\"/>\n",
       "<polyline points=\"405.66370614359175,140.0 468.4955592153876,140.0 468.4955592153876,100.0 405.66370614359175,100.0 405.66370614359175,140.0\" style=\"fill:rgb(249,249,249);stroke-width:1;stroke:rgb(255,255,255)\"/>\n",
       "<polyline points=\"468.4955592153876,140.0 531.3274122871835,140.0 531.3274122871835,100.0 468.4955592153876,100.0 468.4955592153876,140.0\" style=\"fill:rgb(249,249,249);stroke-width:1;stroke:rgb(255,255,255)\"/>\n",
       "<polyline points=\"28.67258771281655,100.0 91.50444078461243,100.0 91.50444078461243,60.0 28.67258771281655,60.0 28.67258771281655,100.0\" style=\"fill:rgb(249,249,249);stroke-width:1;stroke:rgb(255,255,255)\"/>\n",
       "<polyline points=\"91.50444078461243,100.0 154.33629385640828,100.0 154.33629385640828,60.0 91.50444078461243,60.0 91.50444078461243,100.0\" style=\"fill:rgb(249,249,249);stroke-width:1;stroke:rgb(255,255,255)\"/>\n",
       "<polyline points=\"154.33629385640828,100.0 217.16814692820412,100.0 217.16814692820412,60.0 154.33629385640828,60.0 154.33629385640828,100.0\" style=\"fill:rgb(249,249,249);stroke-width:1;stroke:rgb(255,255,255)\"/>\n",
       "<polyline points=\"217.16814692820412,100.0 280.0,100.0 280.0,60.0 217.16814692820412,60.0 217.16814692820412,100.0\" style=\"fill:rgb(249,249,249);stroke-width:1;stroke:rgb(255,255,255)\"/>\n",
       "<polyline points=\"280.0,100.0 342.8318530717959,100.0 342.8318530717959,60.0 280.0,60.0 280.0,100.0\" style=\"fill:rgb(249,249,249);stroke-width:1;stroke:rgb(255,255,255)\"/>\n",
       "<polyline points=\"342.8318530717959,100.0 405.66370614359175,100.0 405.66370614359175,60.0 342.8318530717959,60.0 342.8318530717959,100.0\" style=\"fill:rgb(249,249,249);stroke-width:1;stroke:rgb(255,255,255)\"/>\n",
       "<polyline points=\"405.66370614359175,100.0 468.4955592153876,100.0 468.4955592153876,60.0 405.66370614359175,60.0 405.66370614359175,100.0\" style=\"fill:rgb(249,249,249);stroke-width:1;stroke:rgb(255,255,255)\"/>\n",
       "<polyline points=\"468.4955592153876,100.0 531.3274122871835,100.0 531.3274122871835,60.0 468.4955592153876,60.0 468.4955592153876,100.0\" style=\"fill:rgb(249,249,249);stroke-width:1;stroke:rgb(255,255,255)\"/>\n",
       "<polyline points=\"28.67258771281655,60.0 91.50444078461243,60.0 91.50444078461243,20.0 28.67258771281655,20.0 28.67258771281655,60.0\" style=\"fill:rgb(249,249,249);stroke-width:1;stroke:rgb(255,255,255)\"/>\n",
       "<polyline points=\"91.50444078461243,60.0 154.33629385640828,60.0 154.33629385640828,20.0 91.50444078461243,20.0 91.50444078461243,60.0\" style=\"fill:rgb(249,249,249);stroke-width:1;stroke:rgb(255,255,255)\"/>\n",
       "<polyline points=\"154.33629385640828,60.0 217.16814692820412,60.0 217.16814692820412,20.0 154.33629385640828,20.0 154.33629385640828,60.0\" style=\"fill:rgb(249,249,249);stroke-width:1;stroke:rgb(255,255,255)\"/>\n",
       "<polyline points=\"217.16814692820412,60.0 280.0,60.0 280.0,20.0 217.16814692820412,20.0 217.16814692820412,60.0\" style=\"fill:rgb(249,249,249);stroke-width:1;stroke:rgb(255,255,255)\"/>\n",
       "<polyline points=\"280.0,60.0 342.8318530717959,60.0 342.8318530717959,20.0 280.0,20.0 280.0,60.0\" style=\"fill:rgb(249,249,249);stroke-width:1;stroke:rgb(255,255,255)\"/>\n",
       "<polyline points=\"342.8318530717959,60.0 405.66370614359175,60.0 405.66370614359175,20.0 342.8318530717959,20.0 342.8318530717959,60.0\" style=\"fill:rgb(249,249,249);stroke-width:1;stroke:rgb(255,255,255)\"/>\n",
       "<polyline points=\"405.66370614359175,60.0 468.4955592153876,60.0 468.4955592153876,20.0 405.66370614359175,20.0 405.66370614359175,60.0\" style=\"fill:rgb(249,249,249);stroke-width:1;stroke:rgb(255,255,255)\"/>\n",
       "<polyline points=\"468.4955592153876,60.0 531.3274122871835,60.0 531.3274122871835,20.0 468.4955592153876,20.0 468.4955592153876,60.0\" style=\"fill:rgb(249,249,249);stroke-width:1;stroke:rgb(255,255,255)\"/>\n",
       "<circle cx=\"280.0\" cy=\"180.0\" r=\"20.0\" style=\"fill:rgb(255,255,255);stroke-width:0;stroke:none\"/>\n",
       "<line x1=\"388.06046117362797\" y1=\"95.03118980717147\" x2=\"480.0\" y2=\"180.0\" style=\"fill:none;stroke-width:0.5;stroke:rgb(0,0,0)\"/>\n",
       "<line x1=\"196.77063269057152\" y1=\"80.78138274818329\" x2=\"480.0\" y2=\"180.0\" style=\"fill:none;stroke-width:0.5;stroke:rgb(0,0,0)\"/>\n",
       "<line x1=\"196.77063269057152\" y1=\"80.78138274818329\" x2=\"388.0604611736279\" y2=\"95.03118980717147\" style=\"fill:none;stroke-width:0.5;stroke:rgb(0,0,0)\"/>\n",
       "<line x1=\"82.00150067991092\" y1=\"177.61021719902197\" x2=\"480.0\" y2=\"180.0\" style=\"fill:none;stroke-width:0.5;stroke:rgb(0,0,0)\"/>\n",
       "<line x1=\"82.00150067991092\" y1=\"177.61021719902197\" x2=\"388.0604611736279\" y2=\"95.03118980717149\" style=\"fill:none;stroke-width:0.5;stroke:rgb(0,0,0)\"/>\n",
       "<line x1=\"82.00150067991092\" y1=\"177.61021719902197\" x2=\"196.77063269057152\" y2=\"80.7813827481833\" style=\"fill:none;stroke-width:0.5;stroke:rgb(0,0,0)\"/>\n",
       "<line x1=\"149.2712758272776\" y1=\"248.7300020285168\" x2=\"480.0\" y2=\"180.0\" style=\"fill:none;stroke-width:0.5;stroke:rgb(0,0,0)\"/>\n",
       "<line x1=\"149.2712758272776\" y1=\"248.7300020285168\" x2=\"388.0604611736279\" y2=\"95.03118980717147\" style=\"fill:none;stroke-width:0.5;stroke:rgb(0,0,0)\"/>\n",
       "<line x1=\"149.2712758272776\" y1=\"248.7300020285168\" x2=\"196.77063269057152\" y2=\"80.78138274818329\" style=\"fill:none;stroke-width:0.5;stroke:rgb(0,0,0)\"/>\n",
       "<line x1=\"149.2712758272776\" y1=\"248.7300020285168\" x2=\"82.00150067991092\" y2=\"177.61021719902197\" style=\"fill:none;stroke-width:0.5;stroke:rgb(0,0,0)\"/>\n",
       "<line x1=\"336.7324370926452\" y1=\"290.34429174458717\" x2=\"480.0\" y2=\"180.00000000000003\" style=\"fill:none;stroke-width:0.5;stroke:rgb(0,0,0)\"/>\n",
       "<line x1=\"336.7324370926452\" y1=\"290.34429174458717\" x2=\"388.0604611736279\" y2=\"95.03118980717147\" style=\"fill:none;stroke-width:0.5;stroke:rgb(0,0,0)\"/>\n",
       "<line x1=\"336.7324370926452\" y1=\"290.34429174458717\" x2=\"196.77063269057152\" y2=\"80.78138274818332\" style=\"fill:none;stroke-width:0.5;stroke:rgb(0,0,0)\"/>\n",
       "<line x1=\"336.7324370926452\" y1=\"290.34429174458717\" x2=\"82.00150067991089\" y2=\"177.61021719902197\" style=\"fill:none;stroke-width:0.5;stroke:rgb(0,0,0)\"/>\n",
       "<line x1=\"336.7324370926452\" y1=\"290.34429174458717\" x2=\"149.2712758272776\" y2=\"248.73000202851682\" style=\"fill:none;stroke-width:0.5;stroke:rgb(0,0,0)\"/>\n",
       "<line x1=\"472.0340573300732\" y1=\"189.36876247605048\" x2=\"480.0\" y2=\"180.0\" style=\"fill:none;stroke-width:0.5;stroke:rgb(0,0,0)\"/>\n",
       "<line x1=\"472.0340573300732\" y1=\"189.36876247605048\" x2=\"388.06046117362797\" y2=\"95.03118980717147\" style=\"fill:none;stroke-width:0.5;stroke:rgb(0,0,0)\"/>\n",
       "<line x1=\"472.0340573300732\" y1=\"189.36876247605048\" x2=\"196.77063269057157\" y2=\"80.78138274818329\" style=\"fill:none;stroke-width:0.5;stroke:rgb(0,0,0)\"/>\n",
       "<line x1=\"472.0340573300732\" y1=\"189.36876247605048\" x2=\"82.00150067991092\" y2=\"177.61021719902197\" style=\"fill:none;stroke-width:0.5;stroke:rgb(0,0,0)\"/>\n",
       "<line x1=\"472.0340573300732\" y1=\"189.36876247605048\" x2=\"149.27127582727763\" y2=\"248.7300020285168\" style=\"fill:none;stroke-width:0.5;stroke:rgb(0,0,0)\"/>\n",
       "<line x1=\"472.0340573300732\" y1=\"189.36876247605048\" x2=\"336.7324370926453\" y2=\"290.34429174458717\" style=\"fill:none;stroke-width:0.5;stroke:rgb(0,0,0)\"/>\n",
       "<line x1=\"430.7804508686609\" y1=\"128.20423309247002\" x2=\"480.0\" y2=\"180.0\" style=\"fill:none;stroke-width:0.5;stroke:rgb(0,0,0)\"/>\n",
       "<line x1=\"430.7804508686609\" y1=\"128.20423309247002\" x2=\"388.06046117362797\" y2=\"95.03118980717147\" style=\"fill:none;stroke-width:0.5;stroke:rgb(0,0,0)\"/>\n",
       "<line x1=\"430.7804508686609\" y1=\"128.20423309247002\" x2=\"196.77063269057152\" y2=\"80.78138274818329\" style=\"fill:none;stroke-width:0.5;stroke:rgb(0,0,0)\"/>\n",
       "<line x1=\"430.7804508686609\" y1=\"128.20423309247002\" x2=\"82.00150067991092\" y2=\"177.61021719902197\" style=\"fill:none;stroke-width:0.5;stroke:rgb(0,0,0)\"/>\n",
       "<line x1=\"430.7804508686609\" y1=\"128.20423309247002\" x2=\"149.27127582727763\" y2=\"248.7300020285168\" style=\"fill:none;stroke-width:0.5;stroke:rgb(0,0,0)\"/>\n",
       "<line x1=\"430.7804508686609\" y1=\"128.20423309247002\" x2=\"336.7324370926452\" y2=\"290.3442917445871\" style=\"fill:none;stroke-width:0.5;stroke:rgb(0,0,0)\"/>\n",
       "<line x1=\"430.7804508686609\" y1=\"128.20423309247002\" x2=\"472.0340573300732\" y2=\"189.36876247605048\" style=\"fill:none;stroke-width:0.5;stroke:rgb(0,0,0)\"/>\n",
       "<line x1=\"250.8999932382773\" y1=\"62.540431180596926\" x2=\"480.0\" y2=\"180.0\" style=\"fill:none;stroke-width:0.5;stroke:rgb(0,0,0)\"/>\n",
       "<line x1=\"250.8999932382773\" y1=\"62.540431180596926\" x2=\"388.0604611736279\" y2=\"95.03118980717147\" style=\"fill:none;stroke-width:0.5;stroke:rgb(0,0,0)\"/>\n",
       "<line x1=\"250.8999932382773\" y1=\"62.540431180596926\" x2=\"196.77063269057152\" y2=\"80.78138274818329\" style=\"fill:none;stroke-width:0.5;stroke:rgb(0,0,0)\"/>\n",
       "<line x1=\"250.8999932382773\" y1=\"62.540431180596926\" x2=\"82.00150067991092\" y2=\"177.61021719902197\" style=\"fill:none;stroke-width:0.5;stroke:rgb(0,0,0)\"/>\n",
       "<line x1=\"250.8999932382773\" y1=\"62.540431180596926\" x2=\"149.2712758272776\" y2=\"248.7300020285168\" style=\"fill:none;stroke-width:0.5;stroke:rgb(0,0,0)\"/>\n",
       "<line x1=\"250.8999932382773\" y1=\"62.540431180596926\" x2=\"336.7324370926452\" y2=\"290.34429174458717\" style=\"fill:none;stroke-width:0.5;stroke:rgb(0,0,0)\"/>\n",
       "<line x1=\"250.8999932382773\" y1=\"62.540431180596926\" x2=\"472.0340573300732\" y2=\"189.36876247605048\" style=\"fill:none;stroke-width:0.5;stroke:rgb(0,0,0)\"/>\n",
       "<line x1=\"250.8999932382773\" y1=\"62.540431180596926\" x2=\"430.780450868661\" y2=\"128.20423309247002\" style=\"fill:none;stroke-width:0.5;stroke:rgb(0,0,0)\"/>\n",
       "<line x1=\"97.7739476230646\" y1=\"159.6190024946448\" x2=\"480.0\" y2=\"180.0\" style=\"fill:none;stroke-width:0.5;stroke:rgb(0,0,0)\"/>\n",
       "<line x1=\"97.7739476230646\" y1=\"159.6190024946448\" x2=\"388.0604611736279\" y2=\"95.03118980717147\" style=\"fill:none;stroke-width:0.5;stroke:rgb(0,0,0)\"/>\n",
       "<line x1=\"97.7739476230646\" y1=\"159.6190024946448\" x2=\"196.77063269057152\" y2=\"80.78138274818329\" style=\"fill:none;stroke-width:0.5;stroke:rgb(0,0,0)\"/>\n",
       "<line x1=\"97.7739476230646\" y1=\"159.6190024946448\" x2=\"82.00150067991092\" y2=\"177.61021719902197\" style=\"fill:none;stroke-width:0.5;stroke:rgb(0,0,0)\"/>\n",
       "<line x1=\"97.7739476230646\" y1=\"159.6190024946448\" x2=\"149.2712758272776\" y2=\"248.7300020285168\" style=\"fill:none;stroke-width:0.5;stroke:rgb(0,0,0)\"/>\n",
       "<line x1=\"97.7739476230646\" y1=\"159.6190024946448\" x2=\"336.7324370926452\" y2=\"290.34429174458717\" style=\"fill:none;stroke-width:0.5;stroke:rgb(0,0,0)\"/>\n",
       "<line x1=\"97.7739476230646\" y1=\"159.6190024946448\" x2=\"472.0340573300732\" y2=\"189.36876247605048\" style=\"fill:none;stroke-width:0.5;stroke:rgb(0,0,0)\"/>\n",
       "<line x1=\"97.7739476230646\" y1=\"159.6190024946448\" x2=\"430.7804508686609\" y2=\"128.20423309247002\" style=\"fill:none;stroke-width:0.5;stroke:rgb(0,0,0)\"/>\n",
       "<line x1=\"97.7739476230646\" y1=\"159.6190024946448\" x2=\"250.8999932382773\" y2=\"62.540431180596926\" style=\"fill:none;stroke-width:0.5;stroke:rgb(0,0,0)\"/>\n",
       "<line x1=\"112.18569418470952\" y1=\"215.51507629119646\" x2=\"480.0\" y2=\"180.0\" style=\"fill:none;stroke-width:0.5;stroke:rgb(0,0,0)\"/>\n",
       "<line x1=\"112.18569418470952\" y1=\"215.51507629119646\" x2=\"388.0604611736279\" y2=\"95.03118980717146\" style=\"fill:none;stroke-width:0.5;stroke:rgb(0,0,0)\"/>\n",
       "<line x1=\"112.18569418470952\" y1=\"215.51507629119646\" x2=\"196.77063269057152\" y2=\"80.78138274818326\" style=\"fill:none;stroke-width:0.5;stroke:rgb(0,0,0)\"/>\n",
       "<line x1=\"112.18569418470952\" y1=\"215.51507629119646\" x2=\"82.00150067991092\" y2=\"177.61021719902195\" style=\"fill:none;stroke-width:0.5;stroke:rgb(0,0,0)\"/>\n",
       "<line x1=\"112.18569418470952\" y1=\"215.51507629119646\" x2=\"149.2712758272776\" y2=\"248.7300020285168\" style=\"fill:none;stroke-width:0.5;stroke:rgb(0,0,0)\"/>\n",
       "<line x1=\"112.18569418470952\" y1=\"215.51507629119646\" x2=\"336.7324370926452\" y2=\"290.3442917445871\" style=\"fill:none;stroke-width:0.5;stroke:rgb(0,0,0)\"/>\n",
       "<line x1=\"112.18569418470952\" y1=\"215.51507629119646\" x2=\"472.0340573300732\" y2=\"189.36876247605045\" style=\"fill:none;stroke-width:0.5;stroke:rgb(0,0,0)\"/>\n",
       "<line x1=\"112.18569418470952\" y1=\"215.51507629119646\" x2=\"430.7804508686609\" y2=\"128.20423309247002\" style=\"fill:none;stroke-width:0.5;stroke:rgb(0,0,0)\"/>\n",
       "<line x1=\"112.18569418470952\" y1=\"215.51507629119646\" x2=\"250.8999932382773\" y2=\"62.540431180596926\" style=\"fill:none;stroke-width:0.5;stroke:rgb(0,0,0)\"/>\n",
       "<line x1=\"112.18569418470952\" y1=\"215.51507629119646\" x2=\"97.7739476230646\" y2=\"159.6190024946448\" style=\"fill:none;stroke-width:0.5;stroke:rgb(0,0,0)\"/>\n",
       "<line x1=\"280.88513959761013\" y1=\"299.99764958367825\" x2=\"480.0\" y2=\"180.00000000000003\" style=\"fill:none;stroke-width:0.5;stroke:rgb(0,0,0)\"/>\n",
       "<line x1=\"280.88513959761013\" y1=\"299.99764958367825\" x2=\"388.0604611736279\" y2=\"95.0311898071715\" style=\"fill:none;stroke-width:0.5;stroke:rgb(0,0,0)\"/>\n",
       "<line x1=\"280.88513959761013\" y1=\"299.99764958367825\" x2=\"196.7706326905715\" y2=\"80.78138274818332\" style=\"fill:none;stroke-width:0.5;stroke:rgb(0,0,0)\"/>\n",
       "<line x1=\"280.88513959761013\" y1=\"299.99764958367825\" x2=\"82.00150067991089\" y2=\"177.61021719902197\" style=\"fill:none;stroke-width:0.5;stroke:rgb(0,0,0)\"/>\n",
       "<line x1=\"280.88513959761013\" y1=\"299.99764958367825\" x2=\"149.27127582727758\" y2=\"248.73000202851682\" style=\"fill:none;stroke-width:0.5;stroke:rgb(0,0,0)\"/>\n",
       "<line x1=\"280.88513959761013\" y1=\"299.99764958367825\" x2=\"336.7324370926452\" y2=\"290.34429174458717\" style=\"fill:none;stroke-width:0.5;stroke:rgb(0,0,0)\"/>\n",
       "<line x1=\"280.88513959761013\" y1=\"299.99764958367825\" x2=\"472.03405733007315\" y2=\"189.3687624760505\" style=\"fill:none;stroke-width:0.5;stroke:rgb(0,0,0)\"/>\n",
       "<line x1=\"280.88513959761013\" y1=\"299.99764958367825\" x2=\"430.78045086866086\" y2=\"128.20423309247002\" style=\"fill:none;stroke-width:0.5;stroke:rgb(0,0,0)\"/>\n",
       "<line x1=\"280.88513959761013\" y1=\"299.99764958367825\" x2=\"250.89999323827726\" y2=\"62.540431180596954\" style=\"fill:none;stroke-width:0.5;stroke:rgb(0,0,0)\"/>\n",
       "<line x1=\"280.88513959761013\" y1=\"299.99764958367825\" x2=\"97.77394762306457\" y2=\"159.61900249464483\" style=\"fill:none;stroke-width:0.5;stroke:rgb(0,0,0)\"/>\n",
       "<line x1=\"280.88513959761013\" y1=\"299.99764958367825\" x2=\"112.18569418470949\" y2=\"215.5150762911965\" style=\"fill:none;stroke-width:0.5;stroke:rgb(0,0,0)\"/>\n",
       "<line x1=\"448.77079174649845\" y1=\"214.54925955978018\" x2=\"480.0\" y2=\"180.0\" style=\"fill:none;stroke-width:0.5;stroke:rgb(0,0,0)\"/>\n",
       "<line x1=\"448.77079174649845\" y1=\"214.54925955978018\" x2=\"388.06046117362797\" y2=\"95.03118980717147\" style=\"fill:none;stroke-width:0.5;stroke:rgb(0,0,0)\"/>\n",
       "<line x1=\"448.77079174649845\" y1=\"214.54925955978018\" x2=\"196.77063269057152\" y2=\"80.78138274818329\" style=\"fill:none;stroke-width:0.5;stroke:rgb(0,0,0)\"/>\n",
       "<line x1=\"448.77079174649845\" y1=\"214.54925955978018\" x2=\"82.00150067991098\" y2=\"177.61021719902197\" style=\"fill:none;stroke-width:0.5;stroke:rgb(0,0,0)\"/>\n",
       "<line x1=\"448.77079174649845\" y1=\"214.54925955978018\" x2=\"149.27127582727763\" y2=\"248.7300020285168\" style=\"fill:none;stroke-width:0.5;stroke:rgb(0,0,0)\"/>\n",
       "<line x1=\"448.77079174649845\" y1=\"214.54925955978018\" x2=\"336.7324370926453\" y2=\"290.34429174458717\" style=\"fill:none;stroke-width:0.5;stroke:rgb(0,0,0)\"/>\n",
       "<line x1=\"448.77079174649845\" y1=\"214.54925955978018\" x2=\"472.0340573300732\" y2=\"189.36876247605048\" style=\"fill:none;stroke-width:0.5;stroke:rgb(0,0,0)\"/>\n",
       "<line x1=\"448.77079174649845\" y1=\"214.54925955978018\" x2=\"430.7804508686609\" y2=\"128.20423309247002\" style=\"fill:none;stroke-width:0.5;stroke:rgb(0,0,0)\"/>\n",
       "<line x1=\"448.77079174649845\" y1=\"214.54925955978018\" x2=\"250.89999323827732\" y2=\"62.540431180596926\" style=\"fill:none;stroke-width:0.5;stroke:rgb(0,0,0)\"/>\n",
       "<line x1=\"448.77079174649845\" y1=\"214.54925955978018\" x2=\"97.77394762306466\" y2=\"159.6190024946448\" style=\"fill:none;stroke-width:0.5;stroke:rgb(0,0,0)\"/>\n",
       "<line x1=\"448.77079174649845\" y1=\"214.54925955978018\" x2=\"112.18569418470958\" y2=\"215.51507629119646\" style=\"fill:none;stroke-width:0.5;stroke:rgb(0,0,0)\"/>\n",
       "<line x1=\"448.77079174649845\" y1=\"214.54925955978018\" x2=\"280.8851395976102\" y2=\"299.99764958367825\" style=\"fill:none;stroke-width:0.5;stroke:rgb(0,0,0)\"/>\n",
       "<line x1=\"461.4893562900392\" y1=\"158.81515933971843\" x2=\"480.0\" y2=\"180.0\" style=\"fill:none;stroke-width:0.5;stroke:rgb(0,0,0)\"/>\n",
       "<line x1=\"461.4893562900392\" y1=\"158.81515933971843\" x2=\"388.0604611736279\" y2=\"95.03118980717149\" style=\"fill:none;stroke-width:0.5;stroke:rgb(0,0,0)\"/>\n",
       "<line x1=\"461.4893562900392\" y1=\"158.81515933971843\" x2=\"196.77063269057152\" y2=\"80.7813827481833\" style=\"fill:none;stroke-width:0.5;stroke:rgb(0,0,0)\"/>\n",
       "<line x1=\"461.4893562900392\" y1=\"158.81515933971843\" x2=\"82.00150067991098\" y2=\"177.61021719902197\" style=\"fill:none;stroke-width:0.5;stroke:rgb(0,0,0)\"/>\n",
       "<line x1=\"461.4893562900392\" y1=\"158.81515933971843\" x2=\"149.27127582727763\" y2=\"248.73000202851682\" style=\"fill:none;stroke-width:0.5;stroke:rgb(0,0,0)\"/>\n",
       "<line x1=\"461.4893562900392\" y1=\"158.81515933971843\" x2=\"336.7324370926452\" y2=\"290.34429174458717\" style=\"fill:none;stroke-width:0.5;stroke:rgb(0,0,0)\"/>\n",
       "<line x1=\"461.4893562900392\" y1=\"158.81515933971843\" x2=\"472.03405733007315\" y2=\"189.36876247605048\" style=\"fill:none;stroke-width:0.5;stroke:rgb(0,0,0)\"/>\n",
       "<line x1=\"461.4893562900392\" y1=\"158.81515933971843\" x2=\"430.7804508686609\" y2=\"128.20423309247002\" style=\"fill:none;stroke-width:0.5;stroke:rgb(0,0,0)\"/>\n",
       "<line x1=\"461.4893562900392\" y1=\"158.81515933971843\" x2=\"250.8999932382773\" y2=\"62.54043118059694\" style=\"fill:none;stroke-width:0.5;stroke:rgb(0,0,0)\"/>\n",
       "<line x1=\"461.4893562900392\" y1=\"158.81515933971843\" x2=\"97.77394762306466\" y2=\"159.6190024946448\" style=\"fill:none;stroke-width:0.5;stroke:rgb(0,0,0)\"/>\n",
       "<line x1=\"461.4893562900392\" y1=\"158.81515933971843\" x2=\"112.18569418470958\" y2=\"215.5150762911965\" style=\"fill:none;stroke-width:0.5;stroke:rgb(0,0,0)\"/>\n",
       "<line x1=\"461.4893562900392\" y1=\"158.81515933971843\" x2=\"280.88513959761013\" y2=\"299.99764958367825\" style=\"fill:none;stroke-width:0.5;stroke:rgb(0,0,0)\"/>\n",
       "<line x1=\"461.4893562900392\" y1=\"158.81515933971843\" x2=\"448.7707917464984\" y2=\"214.54925955978018\" style=\"fill:none;stroke-width:0.5;stroke:rgb(0,0,0)\"/>\n",
       "<line x1=\"307.3474436415667\" y1=\"62.24364802118599\" x2=\"480.0\" y2=\"180.0\" style=\"fill:none;stroke-width:0.5;stroke:rgb(0,0,0)\"/>\n",
       "<line x1=\"307.3474436415667\" y1=\"62.24364802118599\" x2=\"388.0604611736279\" y2=\"95.03118980717147\" style=\"fill:none;stroke-width:0.5;stroke:rgb(0,0,0)\"/>\n",
       "<line x1=\"307.3474436415667\" y1=\"62.24364802118599\" x2=\"196.77063269057152\" y2=\"80.78138274818329\" style=\"fill:none;stroke-width:0.5;stroke:rgb(0,0,0)\"/>\n",
       "<line x1=\"307.3474436415667\" y1=\"62.24364802118599\" x2=\"82.00150067991092\" y2=\"177.61021719902197\" style=\"fill:none;stroke-width:0.5;stroke:rgb(0,0,0)\"/>\n",
       "<line x1=\"307.3474436415667\" y1=\"62.24364802118599\" x2=\"149.2712758272776\" y2=\"248.73000202851682\" style=\"fill:none;stroke-width:0.5;stroke:rgb(0,0,0)\"/>\n",
       "<line x1=\"307.3474436415667\" y1=\"62.24364802118599\" x2=\"336.7324370926452\" y2=\"290.34429174458717\" style=\"fill:none;stroke-width:0.5;stroke:rgb(0,0,0)\"/>\n",
       "<line x1=\"307.3474436415667\" y1=\"62.24364802118599\" x2=\"472.0340573300732\" y2=\"189.36876247605048\" style=\"fill:none;stroke-width:0.5;stroke:rgb(0,0,0)\"/>\n",
       "<line x1=\"307.3474436415667\" y1=\"62.24364802118599\" x2=\"430.7804508686609\" y2=\"128.20423309247002\" style=\"fill:none;stroke-width:0.5;stroke:rgb(0,0,0)\"/>\n",
       "<line x1=\"307.3474436415667\" y1=\"62.24364802118599\" x2=\"250.8999932382773\" y2=\"62.54043118059693\" style=\"fill:none;stroke-width:0.5;stroke:rgb(0,0,0)\"/>\n",
       "<line x1=\"307.3474436415667\" y1=\"62.24364802118599\" x2=\"97.7739476230646\" y2=\"159.6190024946448\" style=\"fill:none;stroke-width:0.5;stroke:rgb(0,0,0)\"/>\n",
       "<line x1=\"307.3474436415667\" y1=\"62.24364802118599\" x2=\"112.18569418470952\" y2=\"215.51507629119646\" style=\"fill:none;stroke-width:0.5;stroke:rgb(0,0,0)\"/>\n",
       "<line x1=\"307.3474436415667\" y1=\"62.24364802118599\" x2=\"280.88513959761013\" y2=\"299.99764958367825\" style=\"fill:none;stroke-width:0.5;stroke:rgb(0,0,0)\"/>\n",
       "<line x1=\"307.3474436415667\" y1=\"62.24364802118599\" x2=\"448.7707917464984\" y2=\"214.54925955978018\" style=\"fill:none;stroke-width:0.5;stroke:rgb(0,0,0)\"/>\n",
       "<line x1=\"307.3474436415667\" y1=\"62.24364802118599\" x2=\"461.4893562900392\" y2=\"158.81515933971843\" style=\"fill:none;stroke-width:0.5;stroke:rgb(0,0,0)\"/>\n",
       "<line x1=\"128.06241742823573\" y1=\"129.25508699325505\" x2=\"480.0\" y2=\"180.0\" style=\"fill:none;stroke-width:0.5;stroke:rgb(0,0,0)\"/>\n",
       "<line x1=\"128.06241742823573\" y1=\"129.25508699325505\" x2=\"388.06046117362797\" y2=\"95.03118980717147\" style=\"fill:none;stroke-width:0.5;stroke:rgb(0,0,0)\"/>\n",
       "<line x1=\"128.06241742823573\" y1=\"129.25508699325505\" x2=\"196.77063269057152\" y2=\"80.78138274818329\" style=\"fill:none;stroke-width:0.5;stroke:rgb(0,0,0)\"/>\n",
       "<line x1=\"128.06241742823573\" y1=\"129.25508699325505\" x2=\"82.00150067991092\" y2=\"177.61021719902197\" style=\"fill:none;stroke-width:0.5;stroke:rgb(0,0,0)\"/>\n",
       "<line x1=\"128.06241742823573\" y1=\"129.25508699325505\" x2=\"149.2712758272776\" y2=\"248.7300020285168\" style=\"fill:none;stroke-width:0.5;stroke:rgb(0,0,0)\"/>\n",
       "<line x1=\"128.06241742823573\" y1=\"129.25508699325505\" x2=\"336.7324370926452\" y2=\"290.34429174458717\" style=\"fill:none;stroke-width:0.5;stroke:rgb(0,0,0)\"/>\n",
       "<line x1=\"128.06241742823573\" y1=\"129.25508699325505\" x2=\"472.03405733007315\" y2=\"189.36876247605048\" style=\"fill:none;stroke-width:0.5;stroke:rgb(0,0,0)\"/>\n",
       "<line x1=\"128.06241742823573\" y1=\"129.25508699325505\" x2=\"430.7804508686609\" y2=\"128.20423309247002\" style=\"fill:none;stroke-width:0.5;stroke:rgb(0,0,0)\"/>\n",
       "<line x1=\"128.06241742823573\" y1=\"129.25508699325505\" x2=\"250.8999932382773\" y2=\"62.540431180596926\" style=\"fill:none;stroke-width:0.5;stroke:rgb(0,0,0)\"/>\n",
       "<line x1=\"128.06241742823573\" y1=\"129.25508699325505\" x2=\"97.7739476230646\" y2=\"159.6190024946448\" style=\"fill:none;stroke-width:0.5;stroke:rgb(0,0,0)\"/>\n",
       "<line x1=\"128.06241742823573\" y1=\"129.25508699325505\" x2=\"112.18569418470952\" y2=\"215.51507629119646\" style=\"fill:none;stroke-width:0.5;stroke:rgb(0,0,0)\"/>\n",
       "<line x1=\"128.06241742823573\" y1=\"129.25508699325505\" x2=\"280.8851395976102\" y2=\"299.99764958367825\" style=\"fill:none;stroke-width:0.5;stroke:rgb(0,0,0)\"/>\n",
       "<line x1=\"128.06241742823573\" y1=\"129.25508699325505\" x2=\"448.77079174649845\" y2=\"214.54925955978018\" style=\"fill:none;stroke-width:0.5;stroke:rgb(0,0,0)\"/>\n",
       "<line x1=\"128.06241742823573\" y1=\"129.25508699325505\" x2=\"461.4893562900392\" y2=\"158.81515933971843\" style=\"fill:none;stroke-width:0.5;stroke:rgb(0,0,0)\"/>\n",
       "<line x1=\"128.06241742823573\" y1=\"129.25508699325505\" x2=\"307.3474436415667\" y2=\"62.24364802118599\" style=\"fill:none;stroke-width:0.5;stroke:rgb(0,0,0)\"/>\n",
       "<line x1=\"88.46810393532309\" y1=\"189.94659836960938\" x2=\"480.0\" y2=\"180.0\" style=\"fill:none;stroke-width:0.5;stroke:rgb(0,0,0)\"/>\n",
       "<line x1=\"88.46810393532309\" y1=\"189.94659836960938\" x2=\"388.06046117362797\" y2=\"95.03118980717147\" style=\"fill:none;stroke-width:0.5;stroke:rgb(0,0,0)\"/>\n",
       "<line x1=\"88.46810393532309\" y1=\"189.94659836960938\" x2=\"196.77063269057152\" y2=\"80.78138274818329\" style=\"fill:none;stroke-width:0.5;stroke:rgb(0,0,0)\"/>\n",
       "<line x1=\"88.46810393532309\" y1=\"189.94659836960938\" x2=\"82.00150067991092\" y2=\"177.61021719902195\" style=\"fill:none;stroke-width:0.5;stroke:rgb(0,0,0)\"/>\n",
       "<line x1=\"88.46810393532309\" y1=\"189.94659836960938\" x2=\"149.27127582727763\" y2=\"248.7300020285168\" style=\"fill:none;stroke-width:0.5;stroke:rgb(0,0,0)\"/>\n",
       "<line x1=\"88.46810393532309\" y1=\"189.94659836960938\" x2=\"336.7324370926452\" y2=\"290.3442917445871\" style=\"fill:none;stroke-width:0.5;stroke:rgb(0,0,0)\"/>\n",
       "<line x1=\"88.46810393532309\" y1=\"189.94659836960938\" x2=\"472.03405733007315\" y2=\"189.36876247605048\" style=\"fill:none;stroke-width:0.5;stroke:rgb(0,0,0)\"/>\n",
       "<line x1=\"88.46810393532309\" y1=\"189.94659836960938\" x2=\"430.7804508686609\" y2=\"128.20423309247002\" style=\"fill:none;stroke-width:0.5;stroke:rgb(0,0,0)\"/>\n",
       "<line x1=\"88.46810393532309\" y1=\"189.94659836960938\" x2=\"250.8999932382773\" y2=\"62.540431180596926\" style=\"fill:none;stroke-width:0.5;stroke:rgb(0,0,0)\"/>\n",
       "<line x1=\"88.46810393532309\" y1=\"189.94659836960938\" x2=\"97.7739476230646\" y2=\"159.6190024946448\" style=\"fill:none;stroke-width:0.5;stroke:rgb(0,0,0)\"/>\n",
       "<line x1=\"88.46810393532309\" y1=\"189.94659836960938\" x2=\"112.18569418470952\" y2=\"215.51507629119646\" style=\"fill:none;stroke-width:0.5;stroke:rgb(0,0,0)\"/>\n",
       "<line x1=\"88.46810393532309\" y1=\"189.94659836960938\" x2=\"280.8851395976102\" y2=\"299.99764958367825\" style=\"fill:none;stroke-width:0.5;stroke:rgb(0,0,0)\"/>\n",
       "<line x1=\"88.46810393532309\" y1=\"189.94659836960938\" x2=\"448.77079174649845\" y2=\"214.54925955978018\" style=\"fill:none;stroke-width:0.5;stroke:rgb(0,0,0)\"/>\n",
       "<line x1=\"88.46810393532309\" y1=\"189.94659836960938\" x2=\"461.4893562900392\" y2=\"158.8151593397184\" style=\"fill:none;stroke-width:0.5;stroke:rgb(0,0,0)\"/>\n",
       "<line x1=\"88.46810393532309\" y1=\"189.94659836960938\" x2=\"307.3474436415667\" y2=\"62.243648021185976\" style=\"fill:none;stroke-width:0.5;stroke:rgb(0,0,0)\"/>\n",
       "<line x1=\"88.46810393532309\" y1=\"189.94659836960938\" x2=\"128.06241742823573\" y2=\"129.25508699325505\" style=\"fill:none;stroke-width:0.5;stroke:rgb(0,0,0)\"/>\n",
       "<line x1=\"224.96733238968062\" y1=\"290.9142164870763\" x2=\"480.0\" y2=\"180.0\" style=\"fill:none;stroke-width:0.5;stroke:rgb(0,0,0)\"/>\n",
       "<line x1=\"224.96733238968062\" y1=\"290.9142164870763\" x2=\"388.06046117362797\" y2=\"95.03118980717147\" style=\"fill:none;stroke-width:0.5;stroke:rgb(0,0,0)\"/>\n",
       "<line x1=\"224.96733238968062\" y1=\"290.9142164870763\" x2=\"196.77063269057152\" y2=\"80.78138274818332\" style=\"fill:none;stroke-width:0.5;stroke:rgb(0,0,0)\"/>\n",
       "<line x1=\"224.96733238968062\" y1=\"290.9142164870763\" x2=\"82.00150067991092\" y2=\"177.61021719902197\" style=\"fill:none;stroke-width:0.5;stroke:rgb(0,0,0)\"/>\n",
       "<line x1=\"224.96733238968062\" y1=\"290.9142164870763\" x2=\"149.27127582727763\" y2=\"248.73000202851682\" style=\"fill:none;stroke-width:0.5;stroke:rgb(0,0,0)\"/>\n",
       "<line x1=\"224.96733238968062\" y1=\"290.9142164870763\" x2=\"336.7324370926452\" y2=\"290.34429174458717\" style=\"fill:none;stroke-width:0.5;stroke:rgb(0,0,0)\"/>\n",
       "<line x1=\"224.96733238968062\" y1=\"290.9142164870763\" x2=\"472.0340573300732\" y2=\"189.3687624760505\" style=\"fill:none;stroke-width:0.5;stroke:rgb(0,0,0)\"/>\n",
       "<line x1=\"224.96733238968062\" y1=\"290.9142164870763\" x2=\"430.780450868661\" y2=\"128.20423309247002\" style=\"fill:none;stroke-width:0.5;stroke:rgb(0,0,0)\"/>\n",
       "<line x1=\"224.96733238968062\" y1=\"290.9142164870763\" x2=\"250.8999932382773\" y2=\"62.540431180596926\" style=\"fill:none;stroke-width:0.5;stroke:rgb(0,0,0)\"/>\n",
       "<line x1=\"224.96733238968062\" y1=\"290.9142164870763\" x2=\"97.7739476230646\" y2=\"159.61900249464483\" style=\"fill:none;stroke-width:0.5;stroke:rgb(0,0,0)\"/>\n",
       "<line x1=\"224.96733238968062\" y1=\"290.9142164870763\" x2=\"112.18569418470952\" y2=\"215.5150762911965\" style=\"fill:none;stroke-width:0.5;stroke:rgb(0,0,0)\"/>\n",
       "<line x1=\"224.96733238968062\" y1=\"290.9142164870763\" x2=\"280.8851395976102\" y2=\"299.99764958367825\" style=\"fill:none;stroke-width:0.5;stroke:rgb(0,0,0)\"/>\n",
       "<line x1=\"224.96733238968062\" y1=\"290.9142164870763\" x2=\"448.77079174649845\" y2=\"214.54925955978018\" style=\"fill:none;stroke-width:0.5;stroke:rgb(0,0,0)\"/>\n",
       "<line x1=\"224.96733238968062\" y1=\"290.9142164870763\" x2=\"461.4893562900392\" y2=\"158.81515933971843\" style=\"fill:none;stroke-width:0.5;stroke:rgb(0,0,0)\"/>\n",
       "<line x1=\"224.96733238968062\" y1=\"290.9142164870763\" x2=\"307.3474436415667\" y2=\"62.243648021186004\" style=\"fill:none;stroke-width:0.5;stroke:rgb(0,0,0)\"/>\n",
       "<line x1=\"224.96733238968062\" y1=\"290.9142164870763\" x2=\"128.06241742823573\" y2=\"129.25508699325508\" style=\"fill:none;stroke-width:0.5;stroke:rgb(0,0,0)\"/>\n",
       "<line x1=\"224.96733238968062\" y1=\"290.9142164870763\" x2=\"88.46810393532309\" y2=\"189.9465983696094\" style=\"fill:none;stroke-width:0.5;stroke:rgb(0,0,0)\"/>\n",
       "<line x1=\"412.06334164881605\" y1=\"247.6778213776443\" x2=\"480.0\" y2=\"180.0\" style=\"fill:none;stroke-width:0.5;stroke:rgb(0,0,0)\"/>\n",
       "<line x1=\"412.06334164881605\" y1=\"247.6778213776443\" x2=\"388.06046117362797\" y2=\"95.0311898071715\" style=\"fill:none;stroke-width:0.5;stroke:rgb(0,0,0)\"/>\n",
       "<line x1=\"412.06334164881605\" y1=\"247.6778213776443\" x2=\"196.77063269057152\" y2=\"80.78138274818332\" style=\"fill:none;stroke-width:0.5;stroke:rgb(0,0,0)\"/>\n",
       "<line x1=\"412.06334164881605\" y1=\"247.6778213776443\" x2=\"82.00150067991098\" y2=\"177.61021719902197\" style=\"fill:none;stroke-width:0.5;stroke:rgb(0,0,0)\"/>\n",
       "<line x1=\"412.06334164881605\" y1=\"247.6778213776443\" x2=\"149.27127582727763\" y2=\"248.73000202851682\" style=\"fill:none;stroke-width:0.5;stroke:rgb(0,0,0)\"/>\n",
       "<line x1=\"412.06334164881605\" y1=\"247.6778213776443\" x2=\"336.7324370926452\" y2=\"290.34429174458717\" style=\"fill:none;stroke-width:0.5;stroke:rgb(0,0,0)\"/>\n",
       "<line x1=\"412.06334164881605\" y1=\"247.6778213776443\" x2=\"472.0340573300732\" y2=\"189.3687624760505\" style=\"fill:none;stroke-width:0.5;stroke:rgb(0,0,0)\"/>\n",
       "<line x1=\"412.06334164881605\" y1=\"247.6778213776443\" x2=\"430.7804508686609\" y2=\"128.20423309247005\" style=\"fill:none;stroke-width:0.5;stroke:rgb(0,0,0)\"/>\n",
       "<line x1=\"412.06334164881605\" y1=\"247.6778213776443\" x2=\"250.89999323827732\" y2=\"62.540431180596954\" style=\"fill:none;stroke-width:0.5;stroke:rgb(0,0,0)\"/>\n",
       "<line x1=\"412.06334164881605\" y1=\"247.6778213776443\" x2=\"97.7739476230646\" y2=\"159.6190024946448\" style=\"fill:none;stroke-width:0.5;stroke:rgb(0,0,0)\"/>\n",
       "<line x1=\"412.06334164881605\" y1=\"247.6778213776443\" x2=\"112.18569418470952\" y2=\"215.5150762911965\" style=\"fill:none;stroke-width:0.5;stroke:rgb(0,0,0)\"/>\n",
       "<line x1=\"412.06334164881605\" y1=\"247.6778213776443\" x2=\"280.8851395976102\" y2=\"299.99764958367825\" style=\"fill:none;stroke-width:0.5;stroke:rgb(0,0,0)\"/>\n",
       "<line x1=\"412.06334164881605\" y1=\"247.6778213776443\" x2=\"448.77079174649845\" y2=\"214.54925955978018\" style=\"fill:none;stroke-width:0.5;stroke:rgb(0,0,0)\"/>\n",
       "<line x1=\"412.06334164881605\" y1=\"247.6778213776443\" x2=\"461.48935629003927\" y2=\"158.81515933971843\" style=\"fill:none;stroke-width:0.5;stroke:rgb(0,0,0)\"/>\n",
       "<line x1=\"412.06334164881605\" y1=\"247.6778213776443\" x2=\"307.34744364156677\" y2=\"62.243648021186004\" style=\"fill:none;stroke-width:0.5;stroke:rgb(0,0,0)\"/>\n",
       "<line x1=\"412.06334164881605\" y1=\"247.6778213776443\" x2=\"128.06241742823573\" y2=\"129.25508699325508\" style=\"fill:none;stroke-width:0.5;stroke:rgb(0,0,0)\"/>\n",
       "<line x1=\"412.06334164881605\" y1=\"247.6778213776443\" x2=\"88.46810393532309\" y2=\"189.9465983696094\" style=\"fill:none;stroke-width:0.5;stroke:rgb(0,0,0)\"/>\n",
       "<line x1=\"412.06334164881605\" y1=\"247.6778213776443\" x2=\"224.96733238968062\" y2=\"290.9142164870763\" style=\"fill:none;stroke-width:0.5;stroke:rgb(0,0,0)\"/>\n",
       "<line x1=\"477.7409236373338\" y1=\"177.3044186428377\" x2=\"480.0\" y2=\"180.0\" style=\"fill:none;stroke-width:0.5;stroke:rgb(0,0,0)\"/>\n",
       "<line x1=\"477.7409236373338\" y1=\"177.3044186428377\" x2=\"388.0604611736279\" y2=\"95.03118980717149\" style=\"fill:none;stroke-width:0.5;stroke:rgb(0,0,0)\"/>\n",
       "<line x1=\"477.7409236373338\" y1=\"177.3044186428377\" x2=\"196.77063269057152\" y2=\"80.7813827481833\" style=\"fill:none;stroke-width:0.5;stroke:rgb(0,0,0)\"/>\n",
       "<line x1=\"477.7409236373338\" y1=\"177.3044186428377\" x2=\"82.00150067991092\" y2=\"177.61021719902197\" style=\"fill:none;stroke-width:0.5;stroke:rgb(0,0,0)\"/>\n",
       "<line x1=\"477.7409236373338\" y1=\"177.3044186428377\" x2=\"149.27127582727758\" y2=\"248.73000202851682\" style=\"fill:none;stroke-width:0.5;stroke:rgb(0,0,0)\"/>\n",
       "<line x1=\"477.7409236373338\" y1=\"177.3044186428377\" x2=\"336.7324370926452\" y2=\"290.34429174458717\" style=\"fill:none;stroke-width:0.5;stroke:rgb(0,0,0)\"/>\n",
       "<line x1=\"477.7409236373338\" y1=\"177.3044186428377\" x2=\"472.03405733007315\" y2=\"189.36876247605048\" style=\"fill:none;stroke-width:0.5;stroke:rgb(0,0,0)\"/>\n",
       "<line x1=\"477.7409236373338\" y1=\"177.3044186428377\" x2=\"430.7804508686609\" y2=\"128.20423309247002\" style=\"fill:none;stroke-width:0.5;stroke:rgb(0,0,0)\"/>\n",
       "<line x1=\"477.7409236373338\" y1=\"177.3044186428377\" x2=\"250.89999323827726\" y2=\"62.54043118059694\" style=\"fill:none;stroke-width:0.5;stroke:rgb(0,0,0)\"/>\n",
       "<line x1=\"477.7409236373338\" y1=\"177.3044186428377\" x2=\"97.7739476230646\" y2=\"159.6190024946448\" style=\"fill:none;stroke-width:0.5;stroke:rgb(0,0,0)\"/>\n",
       "<line x1=\"477.7409236373338\" y1=\"177.3044186428377\" x2=\"112.18569418470952\" y2=\"215.5150762911965\" style=\"fill:none;stroke-width:0.5;stroke:rgb(0,0,0)\"/>\n",
       "<line x1=\"477.7409236373338\" y1=\"177.3044186428377\" x2=\"280.88513959761013\" y2=\"299.99764958367825\" style=\"fill:none;stroke-width:0.5;stroke:rgb(0,0,0)\"/>\n",
       "<line x1=\"477.7409236373338\" y1=\"177.3044186428377\" x2=\"448.7707917464984\" y2=\"214.54925955978018\" style=\"fill:none;stroke-width:0.5;stroke:rgb(0,0,0)\"/>\n",
       "<line x1=\"477.7409236373338\" y1=\"177.3044186428377\" x2=\"461.4893562900392\" y2=\"158.81515933971843\" style=\"fill:none;stroke-width:0.5;stroke:rgb(0,0,0)\"/>\n",
       "<line x1=\"477.7409236373338\" y1=\"177.3044186428377\" x2=\"307.3474436415667\" y2=\"62.243648021186004\" style=\"fill:none;stroke-width:0.5;stroke:rgb(0,0,0)\"/>\n",
       "<line x1=\"477.7409236373338\" y1=\"177.3044186428377\" x2=\"128.06241742823568\" y2=\"129.25508699325508\" style=\"fill:none;stroke-width:0.5;stroke:rgb(0,0,0)\"/>\n",
       "<line x1=\"477.7409236373338\" y1=\"177.3044186428377\" x2=\"88.46810393532303\" y2=\"189.9465983696094\" style=\"fill:none;stroke-width:0.5;stroke:rgb(0,0,0)\"/>\n",
       "<line x1=\"477.7409236373338\" y1=\"177.3044186428377\" x2=\"224.9673323896806\" y2=\"290.9142164870763\" style=\"fill:none;stroke-width:0.5;stroke:rgb(0,0,0)\"/>\n",
       "<line x1=\"477.7409236373338\" y1=\"177.3044186428377\" x2=\"412.06334164881605\" y2=\"247.6778213776443\" style=\"fill:none;stroke-width:0.5;stroke:rgb(0,0,0)\"/>\n",
       "</svg></div>"
      ],
      "text/plain": [
       "<IPython.core.display.HTML object>"
      ]
     },
     "metadata": {},
     "output_type": "display_data"
    }
   ],
   "source": [
    "\"\"\"\n",
    "Enumerating a List of Points\n",
    "Here, Segments are constructed from each Point in a given collection and \n",
    "every other Point which proceeded it in the collection. This routine is \n",
    "useful in the construction of patterns that connect every possible \n",
    "combination of Points without duplication.\n",
    "\"\"\"\n",
    "segs = []\n",
    "for n, pt in enumerate(pts):\n",
    "    for idx in range(n) : segs.append(Segment(pt,pts[idx]))\n",
    "        \n",
    "out.put(segs)\n",
    "out.draw()\n",
    "out.clear()"
   ]
  },
  {
   "cell_type": "markdown",
   "metadata": {},
   "source": [
    "<img src=\"http://geometric-computation-images.s3-website-us-east-1.amazonaws.com/1.04.P19.jpg\" style=\"width: 600px; display: inline;\">"
   ]
  },
  {
   "cell_type": "markdown",
   "metadata": {},
   "source": [
    "## List Comprehension\n",
    "\n",
    "Python offers a convenient syntactic structure for concisely constructing Lists, called a ***comprehension***, that streamlines the common task of producing one List by modifying another List. \n",
    "\n",
    "Such a comprehension includes at least two expressions: an iteration over a set of items, and an expression in which each item is modified in order to produce the desired result. From this single statement, a new List is constructed:\n",
    "\n",
    "    lst = [expression_using_item for item in collection]\n",
    "\n",
    "This statement is exactly equivalent to the following three:\n",
    "\n",
    "    lst = []\n",
    "    for item in collection:\n",
    "        lst.append(expression_using_item)\n",
    "\n",
    "Imagine, for example, that we wish to construct a List of Points given a List of coordinate values."
   ]
  },
  {
   "cell_type": "code",
   "execution_count": 9,
   "metadata": {},
   "outputs": [
    {
     "name": "stdout",
     "output_type": "stream",
     "text": [
      "[pt[0.3502776651913754,0.5269551843170837,0], pt[0.05215528093986865,0.25359179982603497,0], pt[0.5715588959883637,0.45068905229830813,0]]\n"
     ]
    }
   ],
   "source": [
    "\"\"\"\n",
    "Constructing Points from Coordinates without Comprehension\n",
    "Given a List of Tuples containing x and y coordinates, here we construct a \n",
    "List of Points using a for loop.\n",
    "\"\"\"\n",
    "coords = [(random.random(),random.random()) for n in range(3)]\n",
    "\n",
    "\n",
    "pts = []\n",
    "for tup in coords:\n",
    "    pts.append(Point(tup[0],tup[1]))\n",
    "    \n",
    "print(pts)"
   ]
  },
  {
   "cell_type": "markdown",
   "metadata": {},
   "source": [
    "With this structure in mind, we may find the equivilent yet significantly abbreviated code found below:"
   ]
  },
  {
   "cell_type": "code",
   "execution_count": 11,
   "metadata": {},
   "outputs": [
    {
     "name": "stdout",
     "output_type": "stream",
     "text": [
      "[pt[0.3502776651913754,0.5269551843170837,0], pt[0.05215528093986865,0.25359179982603497,0], pt[0.5715588959883637,0.45068905229830813,0]]\n"
     ]
    }
   ],
   "source": [
    "\"\"\"\n",
    "Constructing Points from Coordinates with Comprehension\n",
    "Given the same List as above, here we more concisely construct a List of Points \n",
    "using List comprehension.\n",
    "\"\"\"\n",
    "pts = [Point(tup[0],tup[1]) for tup in coords]\n",
    "\n",
    "print(pts)"
   ]
  },
  {
   "cell_type": "markdown",
   "metadata": {},
   "source": [
    "List comprehensions may be extended in a number of ways. \n",
    "\n",
    "For example, multiple for statements may be included thereby reproducing the action of nested `for` loops.\n",
    "\n",
    "    lst = [expression for item_a in list_a for item_b in list_b]"
   ]
  },
  {
   "cell_type": "code",
   "execution_count": 21,
   "metadata": {},
   "outputs": [
    {
     "data": {
      "text/html": [
       "<div style=\"width:560.0px; height:360.0px; box-shadow: 2px 2px 8px 4px #ddd; margin: 8px;\"><svg width=\"560.0\" height=\"360.0\" xmlns=\"http://www.w3.org/2000/svg\" version=\"1.1\">\n",
       "<polyline points=\"130.0,330.0 205.0,330.0 205.0,255.0 130.0,255.0 130.0,330.0\" style=\"fill:rgb(249,249,249);stroke-width:1;stroke:rgb(255,255,255)\"/>\n",
       "<polyline points=\"205.0,330.0 280.0,330.0 280.0,255.0 205.0,255.0 205.0,330.0\" style=\"fill:rgb(249,249,249);stroke-width:1;stroke:rgb(255,255,255)\"/>\n",
       "<polyline points=\"280.0,330.0 355.0,330.0 355.0,255.0 280.0,255.0 280.0,330.0\" style=\"fill:rgb(249,249,249);stroke-width:1;stroke:rgb(255,255,255)\"/>\n",
       "<polyline points=\"355.0,330.0 430.0,330.0 430.0,255.0 355.0,255.0 355.0,330.0\" style=\"fill:rgb(249,249,249);stroke-width:1;stroke:rgb(255,255,255)\"/>\n",
       "<polyline points=\"130.0,255.0 205.0,255.0 205.0,180.0 130.0,180.0 130.0,255.0\" style=\"fill:rgb(249,249,249);stroke-width:1;stroke:rgb(255,255,255)\"/>\n",
       "<polyline points=\"205.0,255.0 280.0,255.0 280.0,180.0 205.0,180.0 205.0,255.0\" style=\"fill:rgb(249,249,249);stroke-width:1;stroke:rgb(255,255,255)\"/>\n",
       "<polyline points=\"280.0,255.0 355.0,255.0 355.0,180.0 280.0,180.0 280.0,255.0\" style=\"fill:rgb(249,249,249);stroke-width:1;stroke:rgb(255,255,255)\"/>\n",
       "<polyline points=\"355.0,255.0 430.0,255.0 430.0,180.0 355.0,180.0 355.0,255.0\" style=\"fill:rgb(249,249,249);stroke-width:1;stroke:rgb(255,255,255)\"/>\n",
       "<polyline points=\"130.0,180.0 205.0,180.0 205.0,105.0 130.0,105.0 130.0,180.0\" style=\"fill:rgb(249,249,249);stroke-width:1;stroke:rgb(255,255,255)\"/>\n",
       "<polyline points=\"205.0,180.0 280.0,180.0 280.0,105.0 205.0,105.0 205.0,180.0\" style=\"fill:rgb(249,249,249);stroke-width:1;stroke:rgb(255,255,255)\"/>\n",
       "<polyline points=\"280.0,180.0 355.0,180.0 355.0,105.0 280.0,105.0 280.0,180.0\" style=\"fill:rgb(249,249,249);stroke-width:1;stroke:rgb(255,255,255)\"/>\n",
       "<polyline points=\"355.0,180.0 430.0,180.0 430.0,105.0 355.0,105.0 355.0,180.0\" style=\"fill:rgb(249,249,249);stroke-width:1;stroke:rgb(255,255,255)\"/>\n",
       "<polyline points=\"130.0,105.0 205.0,105.0 205.0,30.0 130.0,30.0 130.0,105.0\" style=\"fill:rgb(249,249,249);stroke-width:1;stroke:rgb(255,255,255)\"/>\n",
       "<polyline points=\"205.0,105.0 280.0,105.0 280.0,30.0 205.0,30.0 205.0,105.0\" style=\"fill:rgb(249,249,249);stroke-width:1;stroke:rgb(255,255,255)\"/>\n",
       "<polyline points=\"280.0,105.0 355.0,105.0 355.0,30.0 280.0,30.0 280.0,105.0\" style=\"fill:rgb(249,249,249);stroke-width:1;stroke:rgb(255,255,255)\"/>\n",
       "<polyline points=\"355.0,105.0 430.0,105.0 430.0,30.0 355.0,30.0 355.0,105.0\" style=\"fill:rgb(249,249,249);stroke-width:1;stroke:rgb(255,255,255)\"/>\n",
       "<circle cx=\"130.0\" cy=\"330.0\" r=\"37.5\" style=\"fill:rgb(255,255,255);stroke-width:0;stroke:none\"/>\n",
       "<circle cx=\"268.8827567560076\" cy=\"303.23206393027135\" r=\"2.0\" style=\"fill:rgb(0,0,0);stroke-width:0;stroke:none\"/>\n",
       "<circle cx=\"268.8827567560076\" cy=\"328.7215602765591\" r=\"2.0\" style=\"fill:rgb(0,0,0);stroke-width:0;stroke:none\"/>\n",
       "<circle cx=\"276.4655500879249\" cy=\"303.23206393027135\" r=\"2.0\" style=\"fill:rgb(0,0,0);stroke-width:0;stroke:none\"/>\n",
       "<circle cx=\"276.4655500879249\" cy=\"328.7215602765591\" r=\"2.0\" style=\"fill:rgb(0,0,0);stroke-width:0;stroke:none\"/>\n",
       "<circle cx=\"214.96292490417295\" cy=\"303.23206393027135\" r=\"2.0\" style=\"fill:rgb(0,0,0);stroke-width:0;stroke:none\"/>\n",
       "<circle cx=\"214.96292490417295\" cy=\"328.7215602765591\" r=\"2.0\" style=\"fill:rgb(0,0,0);stroke-width:0;stroke:none\"/>\n",
       "</svg></div>"
      ],
      "text/plain": [
       "<IPython.core.display.HTML object>"
      ]
     },
     "metadata": {},
     "output_type": "display_data"
    }
   ],
   "source": [
    "out = JupyterOut.unit_square( )\n",
    "x_coords = [random.random() for n in range(3)]\n",
    "y_coords = [random.random() for n in range(2)]\n",
    "\n",
    "pts = [Point(x,y) for x in x_coords for y in y_coords]\n",
    "out.put(pts)\n",
    "\n",
    "out.draw()\n",
    "out.clear()"
   ]
  },
  {
   "cell_type": "markdown",
   "metadata": {},
   "source": [
    "One or more conditional statements may be included such that an item in a collection is iterated over only if a given condition is met.\n",
    "\n",
    "    lst = [expression for item in list if conditional]\n",
    "\n",
    "This conditional comprehension is the equivalent of writing:\n",
    "\n",
    "    lst = []\n",
    "    for item in list:\n",
    "        if conditional:\n",
    "            lst.append(expression)\n",
    "\n",
    "The conditional comprehension statement is useful in filtering out certain items or results. Building upon an earlier example, imagine that we wish to restrict the resulting collection of Points to those that lie above a 45-degree line starting at the origin."
   ]
  },
  {
   "cell_type": "code",
   "execution_count": 22,
   "metadata": {},
   "outputs": [
    {
     "data": {
      "text/html": [
       "<div style=\"width:560.0px; height:360.0px; box-shadow: 2px 2px 8px 4px #ddd; margin: 8px;\"><svg width=\"560.0\" height=\"360.0\" xmlns=\"http://www.w3.org/2000/svg\" version=\"1.1\">\n",
       "<polyline points=\"130.0,330.0 205.0,330.0 205.0,255.0 130.0,255.0 130.0,330.0\" style=\"fill:rgb(249,249,249);stroke-width:1;stroke:rgb(255,255,255)\"/>\n",
       "<polyline points=\"205.0,330.0 280.0,330.0 280.0,255.0 205.0,255.0 205.0,330.0\" style=\"fill:rgb(249,249,249);stroke-width:1;stroke:rgb(255,255,255)\"/>\n",
       "<polyline points=\"280.0,330.0 355.0,330.0 355.0,255.0 280.0,255.0 280.0,330.0\" style=\"fill:rgb(249,249,249);stroke-width:1;stroke:rgb(255,255,255)\"/>\n",
       "<polyline points=\"355.0,330.0 430.0,330.0 430.0,255.0 355.0,255.0 355.0,330.0\" style=\"fill:rgb(249,249,249);stroke-width:1;stroke:rgb(255,255,255)\"/>\n",
       "<polyline points=\"130.0,255.0 205.0,255.0 205.0,180.0 130.0,180.0 130.0,255.0\" style=\"fill:rgb(249,249,249);stroke-width:1;stroke:rgb(255,255,255)\"/>\n",
       "<polyline points=\"205.0,255.0 280.0,255.0 280.0,180.0 205.0,180.0 205.0,255.0\" style=\"fill:rgb(249,249,249);stroke-width:1;stroke:rgb(255,255,255)\"/>\n",
       "<polyline points=\"280.0,255.0 355.0,255.0 355.0,180.0 280.0,180.0 280.0,255.0\" style=\"fill:rgb(249,249,249);stroke-width:1;stroke:rgb(255,255,255)\"/>\n",
       "<polyline points=\"355.0,255.0 430.0,255.0 430.0,180.0 355.0,180.0 355.0,255.0\" style=\"fill:rgb(249,249,249);stroke-width:1;stroke:rgb(255,255,255)\"/>\n",
       "<polyline points=\"130.0,180.0 205.0,180.0 205.0,105.0 130.0,105.0 130.0,180.0\" style=\"fill:rgb(249,249,249);stroke-width:1;stroke:rgb(255,255,255)\"/>\n",
       "<polyline points=\"205.0,180.0 280.0,180.0 280.0,105.0 205.0,105.0 205.0,180.0\" style=\"fill:rgb(249,249,249);stroke-width:1;stroke:rgb(255,255,255)\"/>\n",
       "<polyline points=\"280.0,180.0 355.0,180.0 355.0,105.0 280.0,105.0 280.0,180.0\" style=\"fill:rgb(249,249,249);stroke-width:1;stroke:rgb(255,255,255)\"/>\n",
       "<polyline points=\"355.0,180.0 430.0,180.0 430.0,105.0 355.0,105.0 355.0,180.0\" style=\"fill:rgb(249,249,249);stroke-width:1;stroke:rgb(255,255,255)\"/>\n",
       "<polyline points=\"130.0,105.0 205.0,105.0 205.0,30.0 130.0,30.0 130.0,105.0\" style=\"fill:rgb(249,249,249);stroke-width:1;stroke:rgb(255,255,255)\"/>\n",
       "<polyline points=\"205.0,105.0 280.0,105.0 280.0,30.0 205.0,30.0 205.0,105.0\" style=\"fill:rgb(249,249,249);stroke-width:1;stroke:rgb(255,255,255)\"/>\n",
       "<polyline points=\"280.0,105.0 355.0,105.0 355.0,30.0 280.0,30.0 280.0,105.0\" style=\"fill:rgb(249,249,249);stroke-width:1;stroke:rgb(255,255,255)\"/>\n",
       "<polyline points=\"355.0,105.0 430.0,105.0 430.0,30.0 355.0,30.0 355.0,105.0\" style=\"fill:rgb(249,249,249);stroke-width:1;stroke:rgb(255,255,255)\"/>\n",
       "<circle cx=\"130.0\" cy=\"330.0\" r=\"37.5\" style=\"fill:rgb(255,255,255);stroke-width:0;stroke:none\"/>\n",
       "<circle cx=\"202.80105747466484\" cy=\"232.60902470173278\" r=\"2.0\" style=\"fill:rgb(0,0,0);stroke-width:0;stroke:none\"/>\n",
       "<circle cx=\"144.61993106281824\" cy=\"120.7647562314728\" r=\"2.0\" style=\"fill:rgb(0,0,0);stroke-width:0;stroke:none\"/>\n",
       "<circle cx=\"160.63220180098847\" cy=\"47.24103781279189\" r=\"2.0\" style=\"fill:rgb(0,0,0);stroke-width:0;stroke:none\"/>\n",
       "<circle cx=\"314.74568764851966\" cy=\"89.7197304056771\" r=\"2.0\" style=\"fill:rgb(0,0,0);stroke-width:0;stroke:none\"/>\n",
       "<circle cx=\"169.2469196694094\" cy=\"153.23983754400126\" r=\"2.0\" style=\"fill:rgb(0,0,0);stroke-width:0;stroke:none\"/>\n",
       "</svg></div>"
      ],
      "text/plain": [
       "<IPython.core.display.HTML object>"
      ]
     },
     "metadata": {},
     "output_type": "display_data"
    }
   ],
   "source": [
    "\"\"\"\n",
    "A Conditional Comprehension\n",
    "Given the same List as above, using List comprehension with a conditional \n",
    "statement, here we restrict our construction of Points to those that lie \n",
    "above a 45-degree line from the origin.\n",
    "\"\"\"\n",
    "coords = [(random.random(), random.random()) for n in range(10)]\n",
    "\n",
    "pts = [ Point(tup[0],tup[1]) for tup in coords if tup[1] > tup[0] ]\n",
    "\n",
    "out.put(pts)\n",
    "out.draw()\n",
    "out.clear()"
   ]
  },
  {
   "cell_type": "markdown",
   "metadata": {},
   "source": [
    "Used judiciously, comprehensions can assist in elegantly and clearly implementing complicated routines. \n",
    "\n",
    "Consider the technique presented earlier for sorting arbitrary collections of objects known as decorate-sort-undecorate. Note how much more economical and legible this routine is written using comprehensions"
   ]
  },
  {
   "cell_type": "code",
   "execution_count": 28,
   "metadata": {},
   "outputs": [],
   "source": [
    "\"\"\"\n",
    "Decorate-Sort-Undecorate with Comprehension\n",
    "List comprehensions are employed to more concisely implement the \n",
    "decorate-sort-undecorate pattern. Note that by nesting comprehensions, \n",
    "this code could be reduced even further.\n",
    "\"\"\"\n",
    "pts = [ Point.random() for n in range(3) ]\n",
    "attr_pt = Point()\n",
    "\n",
    "decorated_tups = [ (pt.dist(attr_pt), pt) for pt in pts ]\n",
    "sorted_pts = [ tup[1] for tup in sorted(decorated_tups) ]"
   ]
  },
  {
   "cell_type": "code",
   "execution_count": 29,
   "metadata": {},
   "outputs": [],
   "source": [
    "\"\"\"\n",
    "Decorate-Sort-Undecorate with Minimal Comprehension\n",
    "While perhaps beautiful in its economy of means, this code has moved beyond \n",
    "elegance and threatens to become unnecessarily terse.\n",
    "\"\"\"\n",
    "sorted_pts = [b for a,b in sorted([(pt.dist(attr_pt),pt) for pt in pts])]"
   ]
  },
  {
   "cell_type": "markdown",
   "metadata": {},
   "source": [
    "## Iterators and Itertools"
   ]
  },
  {
   "cell_type": "markdown",
   "metadata": {},
   "source": [
    "### Iterators"
   ]
  },
  {
   "cell_type": "markdown",
   "metadata": {},
   "source": [
    "<table style=\"width:600px\">\n",
    "<tr><th colspan=\"2\" style=\"text-align:left\">*Selected Iterator Methods Of A Python Dict*</th></tr>\n",
    "<tr>\n",
    "    <td style=\"width:40%\">`dict.iterkeys()`<br>`dict.itervalues()`<br>`dict.iteritems()`</td>\n",
    "    <td style=\"width:60%\">Returns an iterator of the contained keys, values, or key-value pairs as Tuples.</td>\n",
    "</tr>\n",
    "</table>"
   ]
  },
  {
   "cell_type": "markdown",
   "metadata": {},
   "source": [
    "### Itertools"
   ]
  },
  {
   "cell_type": "code",
   "execution_count": 30,
   "metadata": {},
   "outputs": [
    {
     "name": "stdout",
     "output_type": "stream",
     "text": [
      "2 of spades\n",
      "2 of hearts\n",
      "2 of diamonds\n",
      "2 of clubs\n",
      "3 of spades\n",
      "3 of hearts\n",
      "3 of diamonds\n",
      "3 of clubs\n",
      "4 of spades\n",
      "4 of hearts\n",
      "4 of diamonds\n",
      "4 of clubs\n",
      "5 of spades\n",
      "5 of hearts\n",
      "5 of diamonds\n",
      "5 of clubs\n",
      "6 of spades\n",
      "6 of hearts\n",
      "6 of diamonds\n",
      "6 of clubs\n",
      "7 of spades\n",
      "7 of hearts\n",
      "7 of diamonds\n",
      "7 of clubs\n",
      "8 of spades\n",
      "8 of hearts\n",
      "8 of diamonds\n",
      "8 of clubs\n",
      "9 of spades\n",
      "9 of hearts\n",
      "9 of diamonds\n",
      "9 of clubs\n",
      "10 of spades\n",
      "10 of hearts\n",
      "10 of diamonds\n",
      "10 of clubs\n",
      "Jack of spades\n",
      "Jack of hearts\n",
      "Jack of diamonds\n",
      "Jack of clubs\n",
      "Queen of spades\n",
      "Queen of hearts\n",
      "Queen of diamonds\n",
      "Queen of clubs\n",
      "King of spades\n",
      "King of hearts\n",
      "King of diamonds\n",
      "King of clubs\n",
      "Ace of spades\n",
      "Ace of hearts\n",
      "Ace of diamonds\n",
      "Ace of clubs\n"
     ]
    }
   ],
   "source": [
    "\"\"\"\n",
    "Cartesian Product of Cards\n",
    "The product function returns an iterable coordinated Tuples resulting from \n",
    "every possible ordered combination of each given collection. Here, this \n",
    "function is applied to produce every possible card in a standard deck of \n",
    "playing cards.\n",
    "\"\"\"\n",
    "ranks = [2,3,4,5,6,7,8,9,10,\"Jack\",\"Queen\",\"King\",\"Ace\"]\n",
    "suits = [\"spades\", \"hearts\", \"diamonds\", \"clubs\"]\n",
    "\n",
    "for rank,suit in itertools.product(ranks,suits):\n",
    "    print( \"{0} of {1}\".format(rank, suit) )"
   ]
  },
  {
   "cell_type": "code",
   "execution_count": 31,
   "metadata": {},
   "outputs": [
    {
     "name": "stdout",
     "output_type": "stream",
     "text": [
      "(0,0)\n",
      "(0,1)\n",
      "(0,2)\n",
      "(0,3)\n",
      "(1,0)\n",
      "(1,1)\n",
      "(1,2)\n",
      "(1,3)\n",
      "(2,0)\n",
      "(2,1)\n",
      "(2,2)\n",
      "(2,3)\n"
     ]
    }
   ],
   "source": [
    "\"\"\"\n",
    "Cartesian Product of Pixel Addresses\n",
    "Given a number of pixels in u- and v-dimensions, here we use the Cartesian product function \n",
    "to generate the address of every possible pixel.\n",
    "\"\"\"    \n",
    "count_u = 3\n",
    "count_v = 4\n",
    "\n",
    "for u,v in itertools.product(range(count_u), range(count_v)):\n",
    "    print( \"({0},{1})\".format(u,v) )"
   ]
  },
  {
   "cell_type": "markdown",
   "metadata": {},
   "source": [
    "## Interval Objects in Decod.es"
   ]
  },
  {
   "cell_type": "markdown",
   "metadata": {},
   "source": [
    "<table style=\"width:600px\">\n",
    "<tr><th colspan=\"3\" style=\"text-align:left\">*Interval Members And Properties*</th></tr>\n",
    "<tr>\n",
    "    <td style=\"width:40%\">`ival.a`<br>`ival.b`</td>\n",
    "    <td style=\"width:20%\">Float</td>\n",
    "    <td style=\"width:40%\">The non-ordered boundary values of the range of numbers represented by this Interval.</td>\n",
    "</tr>\n",
    "<tr>\n",
    "    <td style=\"width:40%\">`ival.delta`</td>\n",
    "    <td style=\"width:20%\">Float</td>\n",
    "    <td style=\"width:40%\">The difference between the start and end of the numeric range described by this Interval, calculated as `ival.b-ival.a`. May return a negative value.</td>\n",
    "</tr>\n",
    "</table>"
   ]
  },
  {
   "cell_type": "markdown",
   "metadata": {},
   "source": [
    "<table style=\"width:600px\">\n",
    "<tr><th colspan=\"3\" style=\"text-align:left\">*Selected Interval Methods*</th></tr>\n",
    "<tr>\n",
    "    <td style=\"width:40%\">`ival.eval(t)`</td>\n",
    "    <td style=\"width:20%\">Float </td>\n",
    "    <td style=\"width:40%\">Returns the value relative to this numeric Interval that corresponds with the given normalized parameter.</td>\n",
    "</tr>\n",
    "<tr>\n",
    "    <td style=\"width:40%\">`ival.deval(t)`</td>\n",
    "    <td style=\"width:20%\">Float</td>\n",
    "    <td style=\"width:40%\">Returns the normalized parameter that corresponds with the given value relative to this numeric Interval.</td>\n",
    "</tr>\n",
    "<tr>\n",
    "    <td style=\"width:40%\">`ival.divide(divs)`</td>\n",
    "    <td style=\"width:20%\">[Float]</td>\n",
    "    <td style=\"width:40%\">Returns a List of values that result from dividing this Interval into a given number of segments. </td>\n",
    "</tr>\n",
    "<tr>\n",
    "    <td style=\"width:40%\">`ival.subinterval(divs)`</td>\n",
    "    <td style=\"width:20%\">[Interval]</td>\n",
    "    <td style=\"width:40%\">Returns a List of Intervals that result from dividing this Interval into a given number of smaller ranges of values.</td>\n",
    "</tr>\n",
    "</table>"
   ]
  },
  {
   "cell_type": "markdown",
   "metadata": {},
   "source": [
    "<table style=\"width:600px\">\n",
    "<tr><th colspan=\"3\" style=\"text-align:left\">*Selected Interval Static Methods*</th></tr>\n",
    "<tr>\n",
    "    <td style=\"width:40%\">`Interval.twopi()`</td>\n",
    "    <td style=\"width:20%\">Interval</td>\n",
    "    <td style=\"width:40%\">Returns an Interval from 0 to 2Pi.</td>\n",
    "</tr>\n",
    "<tr>\n",
    "    <td style=\"width:40%\">`Interval.remap(val,src_ival,tar_ival)`</td>\n",
    "    <td style=\"width:20%\">Float</td>\n",
    "    <td style=\"width:40%\">Returns the number that results from the translation of val relative to `src_ival` to the corresponding value relative to `tar_ival`.</td>\n",
    "</tr>\n",
    "</table>"
   ]
  },
  {
   "cell_type": "markdown",
   "metadata": {},
   "source": [
    "<img src=\"http://geometric-computation-images.s3-website-us-east-1.amazonaws.com/3.00.D80 Interval Large.jpg\" style=\"width: 600px; display: inline;\">"
   ]
  },
  {
   "cell_type": "markdown",
   "metadata": {},
   "source": [
    "<img src=\"http://geometric-computation-images.s3-website-us-east-1.amazonaws.com/1.04.P24.jpg\" style=\"width: 200px; display: inline;\">"
   ]
  },
  {
   "cell_type": "code",
   "execution_count": 32,
   "metadata": {},
   "outputs": [
    {
     "name": "stdout",
     "output_type": "stream",
     "text": [
      "8.5\n"
     ]
    }
   ],
   "source": [
    "\"\"\"\n",
    "Interval Remapping\n",
    "Returns the number that results from the translation of val described in \n",
    "terms of a source interval to the corresponding value relative to a target \n",
    "Interval.\n",
    "\"\"\"\n",
    "val = 0.625\n",
    "src_ival = Interval(0,1)\n",
    "tar_ival = Interval(6,10)\n",
    "print( tar_ival.eval(src_ival.deval(val)) )\n"
   ]
  },
  {
   "cell_type": "markdown",
   "metadata": {},
   "source": [
    "<img src=\"http://geometric-computation-images.s3-website-us-east-1.amazonaws.com/1.04.P25.jpg\" style=\"width: 200px; display: inline;\">"
   ]
  },
  {
   "cell_type": "code",
   "execution_count": null,
   "metadata": {},
   "outputs": [],
   "source": []
  }
 ],
 "metadata": {
  "kernelspec": {
   "display_name": "Python 3",
   "language": "python",
   "name": "python3"
  },
  "language_info": {
   "codemirror_mode": {
    "name": "ipython",
    "version": 3
   },
   "file_extension": ".py",
   "mimetype": "text/x-python",
   "name": "python",
   "nbconvert_exporter": "python",
   "pygments_lexer": "ipython3",
   "version": "3.6.4"
  }
 },
 "nbformat": 4,
 "nbformat_minor": 2
}
