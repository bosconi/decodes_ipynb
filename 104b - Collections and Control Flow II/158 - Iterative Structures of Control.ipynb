{
 "cells": [
  {
   "cell_type": "code",
   "execution_count": 2,
   "metadata": {},
   "outputs": [
    {
     "name": "stdout",
     "output_type": "stream",
     "text": [
      "http://decod.es/\tv0.2.3\n",
      "io loaded\n"
     ]
    }
   ],
   "source": [
    "from decodes.core import *\n",
    "from decodes.io.jupyter_out import JupyterOut\n",
    "out = JupyterOut.unit_square( )\n",
    "\n",
    "import itertools"
   ]
  },
  {
   "cell_type": "markdown",
   "metadata": {},
   "source": [
    "# Iterative Structures of Control\n",
    "todo"
   ]
  },
  {
   "cell_type": "markdown",
   "metadata": {},
   "source": [
    "## Enumeration"
   ]
  },
  {
   "cell_type": "markdown",
   "metadata": {},
   "source": [
    "<img src=\"http://geometric-computation-images.s3-website-us-east-1.amazonaws.com/1.04.P20.jpg\" style=\"width: 200px; display: inline;\">"
   ]
  },
  {
   "cell_type": "code",
   "execution_count": null,
   "metadata": {},
   "outputs": [],
   "source": [
    "\"\"\"\n",
    "The Enumerate Function\n",
    "This built-in function generates a List of Tuples, each containing a pair that includes \n",
    "an item and its index in a given collection\n",
    "\"\"\"\n",
    "for n, pt in enumerate(pts):\n",
    "    print \"point at index \",n,\" is \",pt"
   ]
  },
  {
   "cell_type": "code",
   "execution_count": null,
   "metadata": {},
   "outputs": [],
   "source": [
    "\"\"\"\n",
    "Enumerating a List of Points\n",
    "Here, Segments are constructed from each Point in a given collection and every other \n",
    "Point which proceeded it in the collection. This routine is useful in the construction \n",
    "of patterns that connect every possible combination of Points without duplication.\n",
    "\"\"\"\n",
    "segs = []\n",
    "for n, pt in enumerate(pts):\n",
    "    for idx in range(n) : segs.append(Segment(pt,pts[idx]))   "
   ]
  },
  {
   "cell_type": "markdown",
   "metadata": {},
   "source": [
    "<img src=\"http://geometric-computation-images.s3-website-us-east-1.amazonaws.com/1.04.P19.jpg\" style=\"width: 600px; display: inline;\">"
   ]
  },
  {
   "cell_type": "markdown",
   "metadata": {},
   "source": [
    "## List Comprehension"
   ]
  },
  {
   "cell_type": "code",
   "execution_count": null,
   "metadata": {},
   "outputs": [],
   "source": [
    "\"\"\"\n",
    "Constructing Points from Coordinates without Comprehension\n",
    "Given a List of Tuples containing x and y coordinates, here we construct a List \n",
    "of Points using a for loop.\n",
    "\"\"\"\n",
    "pts = []\n",
    "for tup in coords:\n",
    "    pts.append(Point(tup[0],tup[1])"
   ]
  },
  {
   "cell_type": "code",
   "execution_count": null,
   "metadata": {},
   "outputs": [],
   "source": [
    "\"\"\"\n",
    "Constructing Points from Coordinates with Comprehension\n",
    "Given the same List as above, here we more concisely construct a List of Points \n",
    "using List comprehension.\n",
    "\"\"\"\n",
    "pts = [Point(tup[0],tup[1]) for tup in coords]"
   ]
  },
  {
   "cell_type": "code",
   "execution_count": null,
   "metadata": {},
   "outputs": [],
   "source": [
    "\"\"\"\n",
    "A Conditional Comprehension\n",
    "Given the same List as above, using List comprehension with a conditional statement, \n",
    "here we restrict our construction of Points to those that lie above a 45-degree \n",
    "line from the origin.\n",
    "\"\"\"\n",
    "pts = [ Point(tup[0],tup[1]) for tup in coords if tup[1] > tup[0] ]"
   ]
  },
  {
   "cell_type": "code",
   "execution_count": null,
   "metadata": {},
   "outputs": [],
   "source": [
    "\"\"\"\n",
    "Decorate-Sort-Undecorate with Comprehension\n",
    "List comprehensions are employed to more concisely implement the decorate-sort-undecorate \n",
    "pattern. Note that by nesting comprehensions, this code could be reduced even further.\n",
    "\"\"\"\n",
    "decorated_tups = [ (pt.dist(attr_pt), pt) for pt in pts ]\n",
    "sorted_pts = [ tup[1] for tup in decorated_tups.sort() ]"
   ]
  },
  {
   "cell_type": "code",
   "execution_count": null,
   "metadata": {},
   "outputs": [],
   "source": [
    "\"\"\"\n",
    "Decorate-Sort-Undecorate with Minimal Comprehension\n",
    "While perhaps beautiful in its economy of means, this code has moved beyond elegance \n",
    "and threatens to become unnecessarily terse.\n",
    "\"\"\"\n",
    "sorted_pts = [b for a,b in sorted([(pt.dist(attr_pt),pt) for pt in pts])]"
   ]
  },
  {
   "cell_type": "markdown",
   "metadata": {},
   "source": [
    "## Iterators and Itertools"
   ]
  },
  {
   "cell_type": "markdown",
   "metadata": {},
   "source": [
    "### Iterators"
   ]
  },
  {
   "cell_type": "markdown",
   "metadata": {},
   "source": [
    "<table style=\"width:600px\">\n",
    "<tr><th colspan=\"2\" style=\"text-align:left\">*Selected Iterator Methods Of A Python Dict*</th></tr>\n",
    "<tr>\n",
    "    <td style=\"width:40%\">`dict.iterkeys()`<br>`dict.itervalues()`<br>`dict.iteritems()`</td>\n",
    "    <td style=\"width:60%\">Returns an iterator of the contained keys, values, or key-value pairs as Tuples.</td>\n",
    "</tr>\n",
    "</table>"
   ]
  },
  {
   "cell_type": "markdown",
   "metadata": {},
   "source": [
    "### Itertools"
   ]
  },
  {
   "cell_type": "code",
   "execution_count": null,
   "metadata": {},
   "outputs": [],
   "source": [
    "\"\"\"\n",
    "Cartesian Product of Cards\n",
    "The product function returns an iterable coordinated Tuples resulting from every possible \n",
    "ordered combination of each given collection. Here, this function is applied to produce \n",
    "every possible card in a standard deck of playing cards.\n",
    "\"\"\"\n",
    "ranks = [2,3,4,5,6,7,8,9,10,\"Jack\",\"Queen\",\"King\",\"Ace\"]\n",
    "suits = [\"spades\", \"hearts\", \"diamonds\", \"clubs\"]\n",
    "\n",
    "for rank,suit in itertools.product(ranks,suits):\n",
    "    print( \"{0} of {1}\".format(rank, suit) )"
   ]
  },
  {
   "cell_type": "code",
   "execution_count": 4,
   "metadata": {},
   "outputs": [
    {
     "name": "stdout",
     "output_type": "stream",
     "text": [
      "(0,0)\n",
      "(0,1)\n",
      "(0,2)\n",
      "(0,3)\n",
      "(1,0)\n",
      "(1,1)\n",
      "(1,2)\n",
      "(1,3)\n",
      "(2,0)\n",
      "(2,1)\n",
      "(2,2)\n",
      "(2,3)\n"
     ]
    }
   ],
   "source": [
    "\"\"\"\n",
    "Cartesian Product of Pixel Addresses\n",
    "Given a number of pixels in u- and v-dimensions, here we use the Cartesian product function \n",
    "to generate the address of every possible pixel.\n",
    "\"\"\"    \n",
    "count_u = 3\n",
    "count_v = 4\n",
    "\n",
    "for u,v in itertools.product(range(count_u), range(count_v)):\n",
    "    print( \"({0},{1})\".format(u,v) )"
   ]
  },
  {
   "cell_type": "markdown",
   "metadata": {},
   "source": [
    "## Interval Objects in Decod.es"
   ]
  },
  {
   "cell_type": "markdown",
   "metadata": {},
   "source": [
    "<table style=\"width:600px\">\n",
    "<tr><th colspan=\"3\" style=\"text-align:left\">*Interval Members And Properties*</th></tr>\n",
    "<tr>\n",
    "    <td style=\"width:40%\">`ival.a`<br>`ival.b`</td>\n",
    "    <td style=\"width:20%\">Float</td>\n",
    "    <td style=\"width:40%\">The non-ordered boundary values of the range of numbers represented by this Interval.</td>\n",
    "</tr>\n",
    "<tr>\n",
    "    <td style=\"width:40%\">`ival.delta`</td>\n",
    "    <td style=\"width:20%\">Float</td>\n",
    "    <td style=\"width:40%\">The difference between the start and end of the numeric range described by this Interval, calculated as `ival.b-ival.a`. May return a negative value.</td>\n",
    "</tr>\n",
    "</table>"
   ]
  },
  {
   "cell_type": "markdown",
   "metadata": {},
   "source": [
    "<table style=\"width:600px\">\n",
    "<tr><th colspan=\"3\" style=\"text-align:left\">*Selected Interval Methods*</th></tr>\n",
    "<tr>\n",
    "    <td style=\"width:40%\">`ival.eval(t)`</td>\n",
    "    <td style=\"width:20%\">Float </td>\n",
    "    <td style=\"width:40%\">Returns the value relative to this numeric Interval that corresponds with the given normalized parameter.</td>\n",
    "</tr>\n",
    "<tr>\n",
    "    <td style=\"width:40%\">`ival.deval(t)`</td>\n",
    "    <td style=\"width:20%\">Float</td>\n",
    "    <td style=\"width:40%\">Returns the normalized parameter that corresponds with the given value relative to this numeric Interval.</td>\n",
    "</tr>\n",
    "<tr>\n",
    "    <td style=\"width:40%\">`ival.divide(divs)`</td>\n",
    "    <td style=\"width:20%\">[Float]</td>\n",
    "    <td style=\"width:40%\">Returns a List of values that result from dividing this Interval into a given number of segments. </td>\n",
    "</tr>\n",
    "<tr>\n",
    "    <td style=\"width:40%\">`ival.subinterval(divs)`</td>\n",
    "    <td style=\"width:20%\">[Interval]</td>\n",
    "    <td style=\"width:40%\">Returns a List of Intervals that result from dividing this Interval into a given number of smaller ranges of values.</td>\n",
    "</tr>\n",
    "</table>"
   ]
  },
  {
   "cell_type": "markdown",
   "metadata": {},
   "source": [
    "<table style=\"width:600px\">\n",
    "<tr><th colspan=\"3\" style=\"text-align:left\">*Selected Interval Static Methods*</th></tr>\n",
    "<tr>\n",
    "    <td style=\"width:40%\">`Interval.twopi()`</td>\n",
    "    <td style=\"width:20%\">Interval</td>\n",
    "    <td style=\"width:40%\">Returns an Interval from 0 to 2Pi.</td>\n",
    "</tr>\n",
    "<tr>\n",
    "    <td style=\"width:40%\">`Interval.remap(val,src_ival,tar_ival)`</td>\n",
    "    <td style=\"width:20%\">Float</td>\n",
    "    <td style=\"width:40%\">Returns the number that results from the translation of val relative to `src_ival` to the corresponding value relative to `tar_ival`.</td>\n",
    "</tr>\n",
    "</table>"
   ]
  },
  {
   "cell_type": "markdown",
   "metadata": {},
   "source": [
    "<img src=\"http://geometric-computation-images.s3-website-us-east-1.amazonaws.com/3.00.D80 Interval Large.jpg\" style=\"width: 600px; display: inline;\">"
   ]
  },
  {
   "cell_type": "markdown",
   "metadata": {},
   "source": [
    "<img src=\"http://geometric-computation-images.s3-website-us-east-1.amazonaws.com/1.04.P24.jpg\" style=\"width: 200px; display: inline;\">"
   ]
  },
  {
   "cell_type": "code",
   "execution_count": 6,
   "metadata": {},
   "outputs": [
    {
     "name": "stdout",
     "output_type": "stream",
     "text": [
      "8.5\n"
     ]
    }
   ],
   "source": [
    "\"\"\"\n",
    "Interval Remapping\n",
    "Returns the number that results from the translation of val described in terms of a source\n",
    "interval to the corresponding value relative to a target Interval.\n",
    "\"\"\"\n",
    "val = 0.625\n",
    "src_ival = Interval(0,1)\n",
    "tar_ival = Interval(6,10)\n",
    "print( tar_ival.eval(src_ival.deval(val)) )\n"
   ]
  },
  {
   "cell_type": "markdown",
   "metadata": {},
   "source": [
    "<img src=\"http://geometric-computation-images.s3-website-us-east-1.amazonaws.com/1.04.P25.jpg\" style=\"width: 200px; display: inline;\">"
   ]
  },
  {
   "cell_type": "code",
   "execution_count": null,
   "metadata": {},
   "outputs": [],
   "source": []
  }
 ],
 "metadata": {
  "kernelspec": {
   "display_name": "Python 2",
   "language": "python",
   "name": "python2"
  },
  "language_info": {
   "codemirror_mode": {
    "name": "ipython",
    "version": 2
   },
   "file_extension": ".py",
   "mimetype": "text/x-python",
   "name": "python",
   "nbconvert_exporter": "python",
   "pygments_lexer": "ipython2",
   "version": "2.7.10"
  }
 },
 "nbformat": 4,
 "nbformat_minor": 2
}
