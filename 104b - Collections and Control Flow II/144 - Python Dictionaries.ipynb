{
 "cells": [
  {
   "cell_type": "code",
   "execution_count": 1,
   "metadata": {},
   "outputs": [
    {
     "name": "stdout",
     "output_type": "stream",
     "text": [
      "http://decod.es/\tv0.2.3\n",
      "io loaded\n"
     ]
    }
   ],
   "source": [
    "from decodes.core import *\n",
    "from decodes.io.jupyter_out import JupyterOut\n",
    "from math import *\n",
    "import pprint\n",
    "\n",
    "pp = pprint.PrettyPrinter(indent=4)\n",
    "out = JupyterOut.origin_centered( 30 , 5 )"
   ]
  },
  {
   "cell_type": "markdown",
   "metadata": {},
   "source": [
    "# Python Dictionaries\n",
    "There are a number of core operations common to all associative collections, including construction, access, entry deletion, and membership. In this section, we introduce these core operations through an unpacking of the Python Dict"
   ]
  },
  {
   "cell_type": "markdown",
   "metadata": {},
   "source": [
    "## Dict Construction\n",
    "\n",
    "To construct a new Dict, we define a comma-separated set of key-value relationships enclosed by curly-brackets.\n",
    "\n",
    "    {\n",
    "        key_a : value_a ,\n",
    "        key_b : value_b ,\n",
    "        key_c : value_c\n",
    "    }\n",
    "    \n",
    "An existing Dict may be accessed by enclosing the key of the desired object within square-brackets.\n",
    "\n",
    "    dict[key]\n",
    "    \n"
   ]
  },
  {
   "cell_type": "markdown",
   "metadata": {},
   "source": [
    "Imagine that we wish to conduct a survey of all the Case Study House experiments published between 1954 and 1965. The data arrives in a tabular format, a sample of which is described in the following table:"
   ]
  },
  {
   "cell_type": "markdown",
   "metadata": {},
   "source": [
    "<table style=\"width:600px\">\n",
    "    <tr><th colspan=\"5\" style=\"text-align:left\">*Selected Case Study Houses*</th></tr>\n",
    "    <tr><th style=\"width:40%\">Name</th><th style=\"width:40%\">Architect</th><th style=\"width:20%\">Built</th><th style=\"width:20%\">Published</th><th style=\"width:20%\">Coords</th></tr>\n",
    "    <tr><td style=\"width:40%\">1</td><td style=\"width:40%\">Davidson</td><td style=\"width:20%\">1948</td><td style=\"width:20%\">Feb 1948</td><td style=\"width:20%\">34.148,-118.351</td></tr>\n",
    "    <tr><td style=\"width:40%\">Omega</td><td style=\"width:40%\">Neutra</td><td style=\"width:20%\"></td><td style=\"width:20%\">Oct 1945</td><td style=\"width:20%\"></td></tr>\n",
    "    <tr><td style=\"width:40%\">Eames House</td><td style=\"width:40%\">Eames and Eames</td><td style=\"width:20%\">1949</td><td style=\"width:20%\">Dec 1949</td><td style=\"width:20%\">34.029, -118.519</td></tr>\n",
    "    <tr><td style=\"width:40%\">10</td><td style=\"width:40%\">Nomland and Nomland</td><td style=\"width:20%\">1947</td><td style=\"width:20%\">Oct 1947</td><td style=\"width:20%\"></td></tr>\n",
    "    <tr><td style=\"width:40%\">Alpha</td><td style=\"width:40%\">Neutra</td><td style=\"width:20%\"></td><td style=\"width:20%\">Mar 1946</td><td style=\"width:20%\">34.125, -118.165</td></tr>\n",
    "    <tr><td style=\"width:40%\">15</td><td style=\"width:40%\">Davidson</td><td style=\"width:20%\">1947</td><td style=\"width:20%\">Jan 1947</td><td style=\"width:20%\">34.213, -118.207</td></tr>\n",
    "</table>"
   ]
  },
  {
   "cell_type": "markdown",
   "metadata": {},
   "source": [
    "We could represent this data using nested Lists in code:"
   ]
  },
  {
   "cell_type": "code",
   "execution_count": 2,
   "metadata": {},
   "outputs": [],
   "source": [
    "\"\"\"\n",
    "A List of Case-Study Houses\n",
    "Given the Case-Study House dataset, sequence types offer an inappropriate \n",
    "storage format.\n",
    "\"\"\"\n",
    "case_studies = [\n",
    "    (1,\"Davidson\",1948,\"Feb 1948\",[34.148, -118.351]),\n",
    "    (\"Omega\",\"Neutra\",\"Oct 1945\"),\n",
    "    (\"Eames House\",\"Charles & Ray Eames\",1949,\"Dec 1949\",[-118.082, 34.132]),\n",
    "    (10,\"Nomland & Nomland\",1947,\"Oct 1947\",[34.125, -118.165]),\n",
    "    (\"Alpha\",\"Neutra\",\"Mar 1946\"),\n",
    "    (15,\"Davidson\",1947,\"Jan 1947\",[34.213, -118.207])\n",
    "]"
   ]
  },
  {
   "cell_type": "markdown",
   "metadata": {},
   "source": [
    "Given this tabular data, the sequence format presents a number of problems. \n",
    "\n",
    "* It is not immediately clear what order of data is appropriate, in that publication dates, construction completion dates, and house names are not necessarily in agreement.\n",
    "\n",
    "* Each entry does not contain equal amounts of data (if a project was not built, it does not offer values for construction date or coordinate location). It is confusing for `case_studies[0][2]` to reference a String describing a publication date, but for `case_studies[1][2]` to reference an Integer describing the year a project was built. \n",
    "\n",
    "* This sort of indexing makes code very difficult to maintain, in that if we ever modified our code to include additional data on these projects, all the referring indices would need to be updated. "
   ]
  },
  {
   "cell_type": "code",
   "execution_count": 5,
   "metadata": {},
   "outputs": [
    {
     "name": "stdout",
     "output_type": "stream",
     "text": [
      "{   'Alpha': {   'architect': 'Neutra',\n",
      "                 'date_published': 'Mar 1946',\n",
      "                 'is_built': False},\n",
      "    'Eames House': {   'architect': 'Charles & Ray Eames',\n",
      "                       'coordinates': [-118.082612, 34.132265],\n",
      "                       'date_built': 1949,\n",
      "                       'date_published': 'Dec 1949',\n",
      "                       'is_built': True},\n",
      "    'Omega': {   'architect': 'Neutra',\n",
      "                 'date_published': 'Oct 1945',\n",
      "                 'is_built': False}}\n"
     ]
    }
   ],
   "source": [
    "\"\"\"\n",
    "A Dict of Case-Study Houses\n",
    "In contrast with sequence types, an associative collection is a good choice \n",
    "for representing the Case-Study House dataset.\n",
    "\"\"\"\n",
    "case_studies = {\n",
    "    \"Omega\": {\n",
    "        \"architect\": \"Neutra\",\n",
    "        \"date_published\": \"Oct 1945\",\n",
    "        \"is_built\": False\n",
    "    },\n",
    "    \"Eames House\": {\n",
    "        \"architect\": \"Charles & Ray Eames\",\n",
    "        \"date_published\": \"Dec 1949\",\n",
    "        \"is_built\": True,\n",
    "        \"coordinates\": [-118.082612, 34.132265],\n",
    "        \"date_built\": 1949\n",
    "    },\n",
    "    \"Alpha\": {\n",
    "        \"architect\": \"Neutra\",\n",
    "        \"date_published\": \"Mar 1946\",\n",
    "        \"is_built\": False\n",
    "    }\n",
    "}\n",
    "\n",
    "pp.pprint(case_studies)"
   ]
  },
  {
   "cell_type": "markdown",
   "metadata": {},
   "source": [
    "The Dict format offers a better structure for tabular data.\n",
    "\n",
    "* Since Dicts are accessed via keyword, the order of data matters less. It is more natural to retrieve a name via `case_studies[“Omega”]` rather than `case_studies[0]`.\n",
    "\n",
    "* Each Dict need not contain the same pieces of information, and `case_studies[“Eames House”][“date_published”]` is easily understood, and sure to return a consistent value even if the data is subsequently updated."
   ]
  },
  {
   "cell_type": "markdown",
   "metadata": {},
   "source": [
    "<img src=\"http://geometric-computation-images.s3-website-us-east-1.amazonaws.com/1.04.D07.jpg\" style=\"width: 600px; display: inline;\">"
   ]
  },
  {
   "cell_type": "markdown",
   "metadata": {},
   "source": [
    "## Dict Access and Manipulation\n",
    "\n",
    "Here we discuss the operations of access, deletion, and membership in Python Dicts."
   ]
  },
  {
   "cell_type": "markdown",
   "metadata": {},
   "source": [
    "<table style=\"width:600px\"><tr><th colspan=\"3\" style=\"text-align:left\">*Selected Operators And Functions Related To A Python Dict*</th></tr>\n",
    "<tr><td style=\"width:30%\">Membership<br>`item in dict`</td><td style=\"width:30%\">Determines if a given object exists as a key in the Dict. Returns a bool. </td><td style=\"width:40%\">`\"Alpha\" in case_studies`<br>\\>>`True`<br>`\"Beta\" in case_studies`<br>\\>>`False`</td>  </tr>\n",
    "<tr><td style=\"width:30%\">Deletion<br>`del dict[key]`</td><td style=\"width:30%\">Removes the specified key-value pair.</td><td style=\"width:40%\">`meals = {\"breakfast\":\"oatmeal\"}`<br>`del meals[\"breakfast\"]`<br>`\"breakfast\" in meals`<br>\\>>`False`</td></tr></table>"
   ]
  },
  {
   "cell_type": "code",
   "execution_count": 10,
   "metadata": {},
   "outputs": [
    {
     "name": "stdout",
     "output_type": "stream",
     "text": [
      "True\n",
      "False\n",
      "{   'breakfast': 'oatmeal', 'lunch': 'spiders'}\n",
      "{   'breakfast': 'oatmeal'}\n"
     ]
    }
   ],
   "source": [
    "print( \"Alpha\" in case_studies )\n",
    "print( \"Beta\" in case_studies )\n",
    "\n",
    "meals = {\"breakfast\":\"oatmeal\", \"lunch\":\"spiders\"}\n",
    "pp.pprint(meals)\n",
    "del meals[\"lunch\"]\n",
    "pp.pprint(meals)"
   ]
  },
  {
   "cell_type": "markdown",
   "metadata": {},
   "source": [
    "Beyond the square-bracket notation, there exist a number of methods that allow access to the data contained within a Dict. There are three Dict methods support iteration, and produce Lists of objects from a Dict that are often used in constructing loops."
   ]
  },
  {
   "cell_type": "markdown",
   "metadata": {},
   "source": [
    "<table style=\"width:600px\">\n",
    "<tr><th colspan=\"2\" style=\"text-align:left\">*Selected Access Methods Of A Python Dict*</th></tr>\n",
    "<tr><td style=\"width:30%\">Keys<br>`dict.keys()`</td><td style=\"width:70%\">Returns a List of the contained keys</td></tr>\n",
    "<tr><td style=\"width:30%\">Values<br>`dict.values()`</td><td style=\"width:70%\">Returns a List of the contained values</td></tr>\n",
    "<tr><td style=\"width:30%\">Items<br>`dict.items()`</td><td style=\"width:70%\">Returns a List of the contained key-value pairs as Tuples</td></tr>\n",
    "</table>"
   ]
  },
  {
   "cell_type": "code",
   "execution_count": 11,
   "metadata": {},
   "outputs": [
    {
     "name": "stdout",
     "output_type": "stream",
     "text": [
      "['date_published', 'architect', 'is_built']\n",
      "['Oct 1945', 'Neutra', False]\n"
     ]
    }
   ],
   "source": [
    "\"\"\"\n",
    "Dict Key and Value Access\n",
    "We may retrieve the data contained within a Dict by requesting a list of its \n",
    "keys, a list of its values, or, as seen below, a list of tuples containing \n",
    "key-value pairs. Here, just the values of a specific sub-dict are retrieved.\n",
    "\"\"\"\n",
    "print( case_studies[\"Omega\"].keys() )\n",
    "print( case_studies[\"Omega\"].values() )"
   ]
  },
  {
   "cell_type": "code",
   "execution_count": 12,
   "metadata": {},
   "outputs": [
    {
     "name": "stdout",
     "output_type": "stream",
     "text": [
      "('Eames House', 'was built in ', 1949)\n"
     ]
    }
   ],
   "source": [
    "\"\"\"\n",
    "Iteration over Keys\n",
    "Here, we iterate over a Dict of Dicts, operating only on those sub-dicts that \n",
    "meet a given criteria.\n",
    "\"\"\"\n",
    "for key in case_studies.keys():\n",
    "    if case_studies[key][\"is_built\"]:\n",
    "        print( key , \"was built in \" , case_studies[key][\"date_built\"] )"
   ]
  },
  {
   "cell_type": "code",
   "execution_count": 13,
   "metadata": {},
   "outputs": [
    {
     "name": "stdout",
     "output_type": "stream",
     "text": [
      "('Eames House', 'was built in ', 1949)\n"
     ]
    }
   ],
   "source": [
    "\"\"\"\n",
    "Iteration over Keys and Values\n",
    "An alternative method to iterate over a Dict of Dicts, operating only on those \n",
    "sub-dicts that meet a given criteria. The result is identical to the script \n",
    "above.\n",
    "\"\"\"\n",
    "for key, val in case_studies.items():\n",
    "    # the 'in' operator determines the presence of a given key\n",
    "    if \"date_built\" in val:\n",
    "        print ( key , \"was built in \" , val[\"date_built\"] )"
   ]
  },
  {
   "cell_type": "markdown",
   "metadata": {},
   "source": [
    "## Exotic Keys\n",
    "\n",
    "While the keys of a Dict are often Strings, they are free to be nearly any type of object, including other mutable collections, such as Tuples, as well as arbitrary structured types. This section considers the deployment of more exotic objects as the keys of a Python Dict"
   ]
  },
  {
   "cell_type": "markdown",
   "metadata": {},
   "source": [
    "### A Vector Field using Dicts\n",
    "\n",
    "Consider a discrete vector field: a collection of distinct vectors, each assigned to a position and related to an area within a given rectangular region of space. This structure can be described using a Dict keyed by unique Tuples of numeric values.\n",
    "\n",
    "Imagine a grid of 16 squares constituting a 4x4 unit area, with each square a container for a single Vec. The nearby diagram shows that we can assign to each of these squares a Tuple of two Integer values that serves as its address, a ***unique identifier*** that also corresponds with the coordinates of all the contained points, rounded down to the nearest Integer. \n",
    "\n",
    "A Point at `(0.25, 1.30)`, for example, would be related to the square at address `(0,1)`.\n"
   ]
  },
  {
   "cell_type": "markdown",
   "metadata": {},
   "source": [
    "<img src=\"http://geometric-computation-images.s3-website-us-east-1.amazonaws.com/1.04.P07.jpg\" style=\"width: 200px; display: inline;\">"
   ]
  },
  {
   "cell_type": "markdown",
   "metadata": {},
   "source": [
    "With this image in mind, we can define a Dict that relates a specific Vec to an address in this raster grid.\n",
    "\n",
    "The second block of code below does this by assigning each of a given set of Vecs to a key defined by a Tuple of two values. Note the use of the `math.floor()` built-in function that rounds a given number down to the nearest Integer."
   ]
  },
  {
   "cell_type": "code",
   "execution_count": 14,
   "metadata": {},
   "outputs": [],
   "source": [
    "\"\"\"\n",
    "Initialize corresponding Lists of Vecs and Points\n",
    "Don't worry if you don't understand this syntax yet. The important bit is that\n",
    "apts is a List of Points, and vecs is a List of Vecs.\n",
    "\"\"\"\n",
    "cnt_x, cnt_y = 3,2\n",
    "rng_x = Interval(-cnt_x,cnt_x).divide(cnt_x*2,True)\n",
    "rng_y = Interval(-cnt_y,cnt_y).divide(cnt_y*2,True)\n",
    "apts = [Point(x,y) for x in rng_x for y in rng_y]\n",
    "vecs = [Vec(sin(x),cos(y)) for x in rng_x for y in rng_y]"
   ]
  },
  {
   "cell_type": "code",
   "execution_count": 15,
   "metadata": {},
   "outputs": [
    {
     "name": "stdout",
     "output_type": "stream",
     "text": [
      "{   (-3.0, -2.0): vec[-0.14112000806,-0.416146836547,0.0],\n",
      "    (-3.0, -1.0): vec[-0.14112000806,0.540302305868,0.0],\n",
      "    (-3.0, 0.0): vec[-0.14112000806,1.0,0.0],\n",
      "    (-3.0, 1.0): vec[-0.14112000806,0.540302305868,0.0],\n",
      "    (-3.0, 2.0): vec[-0.14112000806,-0.416146836547,0.0],\n",
      "    (-2.0, -2.0): vec[-0.909297426826,-0.416146836547,0.0],\n",
      "    (-2.0, -1.0): vec[-0.909297426826,0.540302305868,0.0],\n",
      "    (-2.0, 0.0): vec[-0.909297426826,1.0,0.0],\n",
      "    (-2.0, 1.0): vec[-0.909297426826,0.540302305868,0.0],\n",
      "    (-2.0, 2.0): vec[-0.909297426826,-0.416146836547,0.0],\n",
      "    (-1.0, -2.0): vec[-0.841470984808,-0.416146836547,0.0],\n",
      "    (-1.0, -1.0): vec[-0.841470984808,0.540302305868,0.0],\n",
      "    (-1.0, 0.0): vec[-0.841470984808,1.0,0.0],\n",
      "    (-1.0, 1.0): vec[-0.841470984808,0.540302305868,0.0],\n",
      "    (-1.0, 2.0): vec[-0.841470984808,-0.416146836547,0.0],\n",
      "    (0.0, -2.0): vec[0.0,-0.416146836547,0.0],\n",
      "    (0.0, -1.0): vec[0.0,0.540302305868,0.0],\n",
      "    (0.0, 0.0): vec[0.0,1.0,0.0],\n",
      "    (0.0, 1.0): vec[0.0,0.540302305868,0.0],\n",
      "    (0.0, 2.0): vec[0.0,-0.416146836547,0.0],\n",
      "    (1.0, -2.0): vec[0.841470984808,-0.416146836547,0.0],\n",
      "    (1.0, -1.0): vec[0.841470984808,0.540302305868,0.0],\n",
      "    (1.0, 0.0): vec[0.841470984808,1.0,0.0],\n",
      "    (1.0, 1.0): vec[0.841470984808,0.540302305868,0.0],\n",
      "    (1.0, 2.0): vec[0.841470984808,-0.416146836547,0.0],\n",
      "    (2.0, -2.0): vec[0.909297426826,-0.416146836547,0.0],\n",
      "    (2.0, -1.0): vec[0.909297426826,0.540302305868,0.0],\n",
      "    (2.0, 0.0): vec[0.909297426826,1.0,0.0],\n",
      "    (2.0, 1.0): vec[0.909297426826,0.540302305868,0.0],\n",
      "    (2.0, 2.0): vec[0.909297426826,-0.416146836547,0.0],\n",
      "    (3.0, -2.0): vec[0.14112000806,-0.416146836547,0.0],\n",
      "    (3.0, -1.0): vec[0.14112000806,0.540302305868,0.0],\n",
      "    (3.0, 0.0): vec[0.14112000806,1.0,0.0],\n",
      "    (3.0, 1.0): vec[0.14112000806,0.540302305868,0.0],\n",
      "    (3.0, 2.0): vec[0.14112000806,-0.416146836547,0.0]}\n"
     ]
    }
   ],
   "source": [
    "\"\"\"\n",
    "Vector Field as Dict\n",
    "Given a list of Vecs and a corresponding list of Points that describe their \n",
    "\"anchor\" in a vector field, create a dictionary that stores the Vecs and keys \n",
    "them to a tuple that describes their coordinate location in the field. \n",
    "We may assume that anchor points are spaced one unit apart in x and y.\n",
    "\"\"\"\n",
    "# initialize a dictionary \n",
    "vec_field = {}\n",
    "for apt, vec in zip(apts,vecs):\n",
    "    # math.floor() rounds down to the nearest integer\n",
    "    x,y = floor(apt.x), floor(apt.y)\n",
    "    # each vector is paired with a tuple key\n",
    "    vec_field[(x,y)] = vec\n",
    "    \n",
    "pp.pprint(vec_field)"
   ]
  },
  {
   "cell_type": "markdown",
   "metadata": {},
   "source": [
    "With a Dict defined in such a manner, retrieving the Vec which is properly related to any Point pt that lies within the 4x4 unit area may be elegantly expressed as:"
   ]
  },
  {
   "cell_type": "code",
   "execution_count": 17,
   "metadata": {},
   "outputs": [
    {
     "name": "stdout",
     "output_type": "stream",
     "text": [
      "vec[0.909297426826,0.540302305868,0.0]\n"
     ]
    }
   ],
   "source": [
    "\"\"\"\n",
    "Retrieve a Vector from the Field\n",
    "Given a vector field described as a dict indexed by vector anchors, \n",
    "retrieve from the field the Vec that is nearest to a given Point.\n",
    "\"\"\"\n",
    "pt = Point(2.1,1.1)\n",
    "\n",
    "x,y = math.floor(pt.x),floor(pt.y)\n",
    "vec = vec_field[(x,y)]\n",
    "print(vec)"
   ]
  },
  {
   "cell_type": "code",
   "execution_count": 18,
   "metadata": {},
   "outputs": [
    {
     "data": {
      "text/html": [
       "<div style=\"width:560.0px; height:360.0px; box-shadow: 2px 2px 8px 4px #ddd; margin: 8px;\"><svg width=\"560.0\" height=\"360.0\" xmlns=\"http://www.w3.org/2000/svg\" version=\"1.1\">\n",
       "<polyline points=\"130.0,330.0 190.0,330.0 190.0,270.0 130.0,270.0 130.0,330.0\" style=\"fill:rgb(249,249,249);stroke-width:1;stroke:rgb(255,255,255)\"/>\n",
       "<polyline points=\"190.0,330.0 250.0,330.0 250.0,270.0 190.0,270.0 190.0,330.0\" style=\"fill:rgb(249,249,249);stroke-width:1;stroke:rgb(255,255,255)\"/>\n",
       "<polyline points=\"250.0,330.0 310.0,330.0 310.0,270.0 250.0,270.0 250.0,330.0\" style=\"fill:rgb(249,249,249);stroke-width:1;stroke:rgb(255,255,255)\"/>\n",
       "<polyline points=\"310.0,330.0 370.0,330.0 370.0,270.0 310.0,270.0 310.0,330.0\" style=\"fill:rgb(249,249,249);stroke-width:1;stroke:rgb(255,255,255)\"/>\n",
       "<polyline points=\"370.0,330.0 430.0,330.0 430.0,270.0 370.0,270.0 370.0,330.0\" style=\"fill:rgb(249,249,249);stroke-width:1;stroke:rgb(255,255,255)\"/>\n",
       "<polyline points=\"130.0,270.0 190.0,270.0 190.0,210.0 130.0,210.0 130.0,270.0\" style=\"fill:rgb(249,249,249);stroke-width:1;stroke:rgb(255,255,255)\"/>\n",
       "<polyline points=\"190.0,270.0 250.0,270.0 250.0,210.0 190.0,210.0 190.0,270.0\" style=\"fill:rgb(249,249,249);stroke-width:1;stroke:rgb(255,255,255)\"/>\n",
       "<polyline points=\"250.0,270.0 310.0,270.0 310.0,210.0 250.0,210.0 250.0,270.0\" style=\"fill:rgb(249,249,249);stroke-width:1;stroke:rgb(255,255,255)\"/>\n",
       "<polyline points=\"310.0,270.0 370.0,270.0 370.0,210.0 310.0,210.0 310.0,270.0\" style=\"fill:rgb(249,249,249);stroke-width:1;stroke:rgb(255,255,255)\"/>\n",
       "<polyline points=\"370.0,270.0 430.0,270.0 430.0,210.0 370.0,210.0 370.0,270.0\" style=\"fill:rgb(249,249,249);stroke-width:1;stroke:rgb(255,255,255)\"/>\n",
       "<polyline points=\"130.0,210.0 190.0,210.0 190.0,150.0 130.0,150.0 130.0,210.0\" style=\"fill:rgb(249,249,249);stroke-width:1;stroke:rgb(255,255,255)\"/>\n",
       "<polyline points=\"190.0,210.0 250.0,210.0 250.0,150.0 190.0,150.0 190.0,210.0\" style=\"fill:rgb(249,249,249);stroke-width:1;stroke:rgb(255,255,255)\"/>\n",
       "<polyline points=\"250.0,210.0 310.0,210.0 310.0,150.0 250.0,150.0 250.0,210.0\" style=\"fill:rgb(249,249,249);stroke-width:1;stroke:rgb(255,255,255)\"/>\n",
       "<polyline points=\"310.0,210.0 370.0,210.0 370.0,150.0 310.0,150.0 310.0,210.0\" style=\"fill:rgb(249,249,249);stroke-width:1;stroke:rgb(255,255,255)\"/>\n",
       "<polyline points=\"370.0,210.0 430.0,210.0 430.0,150.0 370.0,150.0 370.0,210.0\" style=\"fill:rgb(249,249,249);stroke-width:1;stroke:rgb(255,255,255)\"/>\n",
       "<polyline points=\"130.0,150.0 190.0,150.0 190.0,90.0 130.0,90.0 130.0,150.0\" style=\"fill:rgb(249,249,249);stroke-width:1;stroke:rgb(255,255,255)\"/>\n",
       "<polyline points=\"190.0,150.0 250.0,150.0 250.0,90.0 190.0,90.0 190.0,150.0\" style=\"fill:rgb(249,249,249);stroke-width:1;stroke:rgb(255,255,255)\"/>\n",
       "<polyline points=\"250.0,150.0 310.0,150.0 310.0,90.0 250.0,90.0 250.0,150.0\" style=\"fill:rgb(249,249,249);stroke-width:1;stroke:rgb(255,255,255)\"/>\n",
       "<polyline points=\"310.0,150.0 370.0,150.0 370.0,90.0 310.0,90.0 310.0,150.0\" style=\"fill:rgb(249,249,249);stroke-width:1;stroke:rgb(255,255,255)\"/>\n",
       "<polyline points=\"370.0,150.0 430.0,150.0 430.0,90.0 370.0,90.0 370.0,150.0\" style=\"fill:rgb(249,249,249);stroke-width:1;stroke:rgb(255,255,255)\"/>\n",
       "<polyline points=\"130.0,90.0 190.0,90.0 190.0,30.0 130.0,30.0 130.0,90.0\" style=\"fill:rgb(249,249,249);stroke-width:1;stroke:rgb(255,255,255)\"/>\n",
       "<polyline points=\"190.0,90.0 250.0,90.0 250.0,30.0 190.0,30.0 190.0,90.0\" style=\"fill:rgb(249,249,249);stroke-width:1;stroke:rgb(255,255,255)\"/>\n",
       "<polyline points=\"250.0,90.0 310.0,90.0 310.0,30.0 250.0,30.0 250.0,90.0\" style=\"fill:rgb(249,249,249);stroke-width:1;stroke:rgb(255,255,255)\"/>\n",
       "<polyline points=\"310.0,90.0 370.0,90.0 370.0,30.0 310.0,30.0 310.0,90.0\" style=\"fill:rgb(249,249,249);stroke-width:1;stroke:rgb(255,255,255)\"/>\n",
       "<polyline points=\"370.0,90.0 430.0,90.0 430.0,30.0 370.0,30.0 370.0,90.0\" style=\"fill:rgb(249,249,249);stroke-width:1;stroke:rgb(255,255,255)\"/>\n",
       "<polyline points=\"130.0,330.0 190.0,330.0 190.0,270.0 130.0,270.0 130.0,330.0\" style=\"fill:rgb(249,249,249);stroke-width:1;stroke:rgb(255,255,255)\"/>\n",
       "<polyline points=\"190.0,330.0 250.0,330.0 250.0,270.0 190.0,270.0 190.0,330.0\" style=\"fill:rgb(249,249,249);stroke-width:1;stroke:rgb(255,255,255)\"/>\n",
       "<polyline points=\"250.0,330.0 310.0,330.0 310.0,270.0 250.0,270.0 250.0,330.0\" style=\"fill:rgb(249,249,249);stroke-width:1;stroke:rgb(255,255,255)\"/>\n",
       "<polyline points=\"310.0,330.0 370.0,330.0 370.0,270.0 310.0,270.0 310.0,330.0\" style=\"fill:rgb(249,249,249);stroke-width:1;stroke:rgb(255,255,255)\"/>\n",
       "<polyline points=\"370.0,330.0 430.0,330.0 430.0,270.0 370.0,270.0 370.0,330.0\" style=\"fill:rgb(249,249,249);stroke-width:1;stroke:rgb(255,255,255)\"/>\n",
       "<polyline points=\"130.0,270.0 190.0,270.0 190.0,210.0 130.0,210.0 130.0,270.0\" style=\"fill:rgb(249,249,249);stroke-width:1;stroke:rgb(255,255,255)\"/>\n",
       "<polyline points=\"190.0,270.0 250.0,270.0 250.0,210.0 190.0,210.0 190.0,270.0\" style=\"fill:rgb(249,249,249);stroke-width:1;stroke:rgb(255,255,255)\"/>\n",
       "<polyline points=\"250.0,270.0 310.0,270.0 310.0,210.0 250.0,210.0 250.0,270.0\" style=\"fill:rgb(249,249,249);stroke-width:1;stroke:rgb(255,255,255)\"/>\n",
       "<polyline points=\"310.0,270.0 370.0,270.0 370.0,210.0 310.0,210.0 310.0,270.0\" style=\"fill:rgb(249,249,249);stroke-width:1;stroke:rgb(255,255,255)\"/>\n",
       "<polyline points=\"370.0,270.0 430.0,270.0 430.0,210.0 370.0,210.0 370.0,270.0\" style=\"fill:rgb(249,249,249);stroke-width:1;stroke:rgb(255,255,255)\"/>\n",
       "<polyline points=\"130.0,210.0 190.0,210.0 190.0,150.0 130.0,150.0 130.0,210.0\" style=\"fill:rgb(249,249,249);stroke-width:1;stroke:rgb(255,255,255)\"/>\n",
       "<polyline points=\"190.0,210.0 250.0,210.0 250.0,150.0 190.0,150.0 190.0,210.0\" style=\"fill:rgb(249,249,249);stroke-width:1;stroke:rgb(255,255,255)\"/>\n",
       "<polyline points=\"250.0,210.0 310.0,210.0 310.0,150.0 250.0,150.0 250.0,210.0\" style=\"fill:rgb(249,249,249);stroke-width:1;stroke:rgb(255,255,255)\"/>\n",
       "<polyline points=\"310.0,210.0 370.0,210.0 370.0,150.0 310.0,150.0 310.0,210.0\" style=\"fill:rgb(249,249,249);stroke-width:1;stroke:rgb(255,255,255)\"/>\n",
       "<polyline points=\"370.0,210.0 430.0,210.0 430.0,150.0 370.0,150.0 370.0,210.0\" style=\"fill:rgb(249,249,249);stroke-width:1;stroke:rgb(255,255,255)\"/>\n",
       "<polyline points=\"130.0,150.0 190.0,150.0 190.0,90.0 130.0,90.0 130.0,150.0\" style=\"fill:rgb(249,249,249);stroke-width:1;stroke:rgb(255,255,255)\"/>\n",
       "<polyline points=\"190.0,150.0 250.0,150.0 250.0,90.0 190.0,90.0 190.0,150.0\" style=\"fill:rgb(249,249,249);stroke-width:1;stroke:rgb(255,255,255)\"/>\n",
       "<polyline points=\"250.0,150.0 310.0,150.0 310.0,90.0 250.0,90.0 250.0,150.0\" style=\"fill:rgb(249,249,249);stroke-width:1;stroke:rgb(255,255,255)\"/>\n",
       "<polyline points=\"310.0,150.0 370.0,150.0 370.0,90.0 310.0,90.0 310.0,150.0\" style=\"fill:rgb(249,249,249);stroke-width:1;stroke:rgb(255,255,255)\"/>\n",
       "<polyline points=\"370.0,150.0 430.0,150.0 430.0,90.0 370.0,90.0 370.0,150.0\" style=\"fill:rgb(249,249,249);stroke-width:1;stroke:rgb(255,255,255)\"/>\n",
       "<polyline points=\"130.0,90.0 190.0,90.0 190.0,30.0 130.0,30.0 130.0,90.0\" style=\"fill:rgb(249,249,249);stroke-width:1;stroke:rgb(255,255,255)\"/>\n",
       "<polyline points=\"190.0,90.0 250.0,90.0 250.0,30.0 190.0,30.0 190.0,90.0\" style=\"fill:rgb(249,249,249);stroke-width:1;stroke:rgb(255,255,255)\"/>\n",
       "<polyline points=\"250.0,90.0 310.0,90.0 310.0,30.0 250.0,30.0 250.0,90.0\" style=\"fill:rgb(249,249,249);stroke-width:1;stroke:rgb(255,255,255)\"/>\n",
       "<polyline points=\"310.0,90.0 370.0,90.0 370.0,30.0 310.0,30.0 310.0,90.0\" style=\"fill:rgb(249,249,249);stroke-width:1;stroke:rgb(255,255,255)\"/>\n",
       "<polyline points=\"370.0,90.0 430.0,90.0 430.0,30.0 370.0,30.0 370.0,90.0\" style=\"fill:rgb(249,249,249);stroke-width:1;stroke:rgb(255,255,255)\"/>\n",
       "<circle cx=\"280.0\" cy=\"180.0\" r=\"30.0\" style=\"fill:rgb(255,255,255);stroke-width:0;stroke:none\"/>\n",
       "<circle cx=\"340.0\" cy=\"240.0\" r=\"2.0\" style=\"fill:rgb(0,0,0);stroke-width:0;stroke:none\"/>\n",
       "<line x1=\"340.0\" y1=\"240.0\" x2=\"367.278922805\" y2=\"252.484405096\" style=\"fill:none;stroke-width:0.5;stroke:rgb(0,0,0)\"/>\n",
       "<circle cx=\"220.0\" cy=\"180.0\" r=\"2.0\" style=\"fill:rgb(0,0,0);stroke-width:0;stroke:none\"/>\n",
       "<line x1=\"220.0\" y1=\"180.0\" x2=\"192.721077195\" y2=\"150.0\" style=\"fill:none;stroke-width:0.5;stroke:rgb(0,0,0)\"/>\n",
       "<circle cx=\"190.0\" cy=\"240.0\" r=\"2.0\" style=\"fill:rgb(0,0,0);stroke-width:0;stroke:none\"/>\n",
       "<line x1=\"190.0\" y1=\"240.0\" x2=\"185.766399758\" y2=\"252.484405096\" style=\"fill:none;stroke-width:0.5;stroke:rgb(0,0,0)\"/>\n",
       "<circle cx=\"340.0\" cy=\"150.0\" r=\"2.0\" style=\"fill:rgb(0,0,0);stroke-width:0;stroke:none\"/>\n",
       "<line x1=\"340.0\" y1=\"150.0\" x2=\"367.278922805\" y2=\"133.790930824\" style=\"fill:none;stroke-width:0.5;stroke:rgb(0,0,0)\"/>\n",
       "<circle cx=\"370.0\" cy=\"240.0\" r=\"2.0\" style=\"fill:rgb(0,0,0);stroke-width:0;stroke:none\"/>\n",
       "<line x1=\"370.0\" y1=\"240.0\" x2=\"374.233600242\" y2=\"252.484405096\" style=\"fill:none;stroke-width:0.5;stroke:rgb(0,0,0)\"/>\n",
       "<circle cx=\"250.0\" cy=\"120.0\" r=\"2.0\" style=\"fill:rgb(0,0,0);stroke-width:0;stroke:none\"/>\n",
       "<line x1=\"250.0\" y1=\"120.0\" x2=\"224.755870456\" y2=\"132.484405096\" style=\"fill:none;stroke-width:0.5;stroke:rgb(0,0,0)\"/>\n",
       "<circle cx=\"310.0\" cy=\"210.0\" r=\"2.0\" style=\"fill:rgb(0,0,0);stroke-width:0;stroke:none\"/>\n",
       "<line x1=\"310.0\" y1=\"210.0\" x2=\"335.244129544\" y2=\"193.790930824\" style=\"fill:none;stroke-width:0.5;stroke:rgb(0,0,0)\"/>\n",
       "<circle cx=\"250.0\" cy=\"180.0\" r=\"2.0\" style=\"fill:rgb(0,0,0);stroke-width:0;stroke:none\"/>\n",
       "<line x1=\"250.0\" y1=\"180.0\" x2=\"224.755870456\" y2=\"150.0\" style=\"fill:none;stroke-width:0.5;stroke:rgb(0,0,0)\"/>\n",
       "<circle cx=\"310.0\" cy=\"120.0\" r=\"2.0\" style=\"fill:rgb(0,0,0);stroke-width:0;stroke:none\"/>\n",
       "<line x1=\"310.0\" y1=\"120.0\" x2=\"335.244129544\" y2=\"132.484405096\" style=\"fill:none;stroke-width:0.5;stroke:rgb(0,0,0)\"/>\n",
       "<circle cx=\"220.0\" cy=\"150.0\" r=\"2.0\" style=\"fill:rgb(0,0,0);stroke-width:0;stroke:none\"/>\n",
       "<line x1=\"220.0\" y1=\"150.0\" x2=\"192.721077195\" y2=\"133.790930824\" style=\"fill:none;stroke-width:0.5;stroke:rgb(0,0,0)\"/>\n",
       "<circle cx=\"340.0\" cy=\"210.0\" r=\"2.0\" style=\"fill:rgb(0,0,0);stroke-width:0;stroke:none\"/>\n",
       "<line x1=\"340.0\" y1=\"210.0\" x2=\"367.278922805\" y2=\"193.790930824\" style=\"fill:none;stroke-width:0.5;stroke:rgb(0,0,0)\"/>\n",
       "<circle cx=\"310.0\" cy=\"240.0\" r=\"2.0\" style=\"fill:rgb(0,0,0);stroke-width:0;stroke:none\"/>\n",
       "<line x1=\"310.0\" y1=\"240.0\" x2=\"335.244129544\" y2=\"252.484405096\" style=\"fill:none;stroke-width:0.5;stroke:rgb(0,0,0)\"/>\n",
       "<circle cx=\"370.0\" cy=\"180.0\" r=\"2.0\" style=\"fill:rgb(0,0,0);stroke-width:0;stroke:none\"/>\n",
       "<line x1=\"370.0\" y1=\"180.0\" x2=\"374.233600242\" y2=\"150.0\" style=\"fill:none;stroke-width:0.5;stroke:rgb(0,0,0)\"/>\n",
       "<circle cx=\"190.0\" cy=\"210.0\" r=\"2.0\" style=\"fill:rgb(0,0,0);stroke-width:0;stroke:none\"/>\n",
       "<line x1=\"190.0\" y1=\"210.0\" x2=\"185.766399758\" y2=\"193.790930824\" style=\"fill:none;stroke-width:0.5;stroke:rgb(0,0,0)\"/>\n",
       "<circle cx=\"190.0\" cy=\"120.0\" r=\"2.0\" style=\"fill:rgb(0,0,0);stroke-width:0;stroke:none\"/>\n",
       "<line x1=\"190.0\" y1=\"120.0\" x2=\"185.766399758\" y2=\"132.484405096\" style=\"fill:none;stroke-width:0.5;stroke:rgb(0,0,0)\"/>\n",
       "<circle cx=\"250.0\" cy=\"210.0\" r=\"2.0\" style=\"fill:rgb(0,0,0);stroke-width:0;stroke:none\"/>\n",
       "<line x1=\"250.0\" y1=\"210.0\" x2=\"224.755870456\" y2=\"193.790930824\" style=\"fill:none;stroke-width:0.5;stroke:rgb(0,0,0)\"/>\n",
       "<circle cx=\"310.0\" cy=\"150.0\" r=\"2.0\" style=\"fill:rgb(0,0,0);stroke-width:0;stroke:none\"/>\n",
       "<line x1=\"310.0\" y1=\"150.0\" x2=\"335.244129544\" y2=\"133.790930824\" style=\"fill:none;stroke-width:0.5;stroke:rgb(0,0,0)\"/>\n",
       "<circle cx=\"370.0\" cy=\"120.0\" r=\"2.0\" style=\"fill:rgb(0,0,0);stroke-width:0;stroke:none\"/>\n",
       "<line x1=\"370.0\" y1=\"120.0\" x2=\"374.233600242\" y2=\"132.484405096\" style=\"fill:none;stroke-width:0.5;stroke:rgb(0,0,0)\"/>\n",
       "<circle cx=\"280.0\" cy=\"180.0\" r=\"2.0\" style=\"fill:rgb(0,0,0);stroke-width:0;stroke:none\"/>\n",
       "<line x1=\"280.0\" y1=\"180.0\" x2=\"280.0\" y2=\"150.0\" style=\"fill:none;stroke-width:0.5;stroke:rgb(0,0,0)\"/>\n",
       "<circle cx=\"340.0\" cy=\"120.0\" r=\"2.0\" style=\"fill:rgb(0,0,0);stroke-width:0;stroke:none\"/>\n",
       "<line x1=\"340.0\" y1=\"120.0\" x2=\"367.278922805\" y2=\"132.484405096\" style=\"fill:none;stroke-width:0.5;stroke:rgb(0,0,0)\"/>\n",
       "<circle cx=\"250.0\" cy=\"240.0\" r=\"2.0\" style=\"fill:rgb(0,0,0);stroke-width:0;stroke:none\"/>\n",
       "<line x1=\"250.0\" y1=\"240.0\" x2=\"224.755870456\" y2=\"252.484405096\" style=\"fill:none;stroke-width:0.5;stroke:rgb(0,0,0)\"/>\n",
       "<circle cx=\"220.0\" cy=\"120.0\" r=\"2.0\" style=\"fill:rgb(0,0,0);stroke-width:0;stroke:none\"/>\n",
       "<line x1=\"220.0\" y1=\"120.0\" x2=\"192.721077195\" y2=\"132.484405096\" style=\"fill:none;stroke-width:0.5;stroke:rgb(0,0,0)\"/>\n",
       "<circle cx=\"250.0\" cy=\"150.0\" r=\"2.0\" style=\"fill:rgb(0,0,0);stroke-width:0;stroke:none\"/>\n",
       "<line x1=\"250.0\" y1=\"150.0\" x2=\"224.755870456\" y2=\"133.790930824\" style=\"fill:none;stroke-width:0.5;stroke:rgb(0,0,0)\"/>\n",
       "<circle cx=\"370.0\" cy=\"210.0\" r=\"2.0\" style=\"fill:rgb(0,0,0);stroke-width:0;stroke:none\"/>\n",
       "<line x1=\"370.0\" y1=\"210.0\" x2=\"374.233600242\" y2=\"193.790930824\" style=\"fill:none;stroke-width:0.5;stroke:rgb(0,0,0)\"/>\n",
       "<circle cx=\"220.0\" cy=\"240.0\" r=\"2.0\" style=\"fill:rgb(0,0,0);stroke-width:0;stroke:none\"/>\n",
       "<line x1=\"220.0\" y1=\"240.0\" x2=\"192.721077195\" y2=\"252.484405096\" style=\"fill:none;stroke-width:0.5;stroke:rgb(0,0,0)\"/>\n",
       "<circle cx=\"190.0\" cy=\"150.0\" r=\"2.0\" style=\"fill:rgb(0,0,0);stroke-width:0;stroke:none\"/>\n",
       "<line x1=\"190.0\" y1=\"150.0\" x2=\"185.766399758\" y2=\"133.790930824\" style=\"fill:none;stroke-width:0.5;stroke:rgb(0,0,0)\"/>\n",
       "<circle cx=\"280.0\" cy=\"240.0\" r=\"2.0\" style=\"fill:rgb(0,0,0);stroke-width:0;stroke:none\"/>\n",
       "<line x1=\"280.0\" y1=\"240.0\" x2=\"280.0\" y2=\"252.484405096\" style=\"fill:none;stroke-width:0.5;stroke:rgb(0,0,0)\"/>\n",
       "<circle cx=\"310.0\" cy=\"180.0\" r=\"2.0\" style=\"fill:rgb(0,0,0);stroke-width:0;stroke:none\"/>\n",
       "<line x1=\"310.0\" y1=\"180.0\" x2=\"335.244129544\" y2=\"150.0\" style=\"fill:none;stroke-width:0.5;stroke:rgb(0,0,0)\"/>\n",
       "<circle cx=\"280.0\" cy=\"150.0\" r=\"2.0\" style=\"fill:rgb(0,0,0);stroke-width:0;stroke:none\"/>\n",
       "<line x1=\"280.0\" y1=\"150.0\" x2=\"280.0\" y2=\"133.790930824\" style=\"fill:none;stroke-width:0.5;stroke:rgb(0,0,0)\"/>\n",
       "<circle cx=\"370.0\" cy=\"150.0\" r=\"2.0\" style=\"fill:rgb(0,0,0);stroke-width:0;stroke:none\"/>\n",
       "<line x1=\"370.0\" y1=\"150.0\" x2=\"374.233600242\" y2=\"133.790930824\" style=\"fill:none;stroke-width:0.5;stroke:rgb(0,0,0)\"/>\n",
       "<circle cx=\"220.0\" cy=\"210.0\" r=\"2.0\" style=\"fill:rgb(0,0,0);stroke-width:0;stroke:none\"/>\n",
       "<line x1=\"220.0\" y1=\"210.0\" x2=\"192.721077195\" y2=\"193.790930824\" style=\"fill:none;stroke-width:0.5;stroke:rgb(0,0,0)\"/>\n",
       "<circle cx=\"190.0\" cy=\"180.0\" r=\"2.0\" style=\"fill:rgb(0,0,0);stroke-width:0;stroke:none\"/>\n",
       "<line x1=\"190.0\" y1=\"180.0\" x2=\"185.766399758\" y2=\"150.0\" style=\"fill:none;stroke-width:0.5;stroke:rgb(0,0,0)\"/>\n",
       "<circle cx=\"340.0\" cy=\"180.0\" r=\"2.0\" style=\"fill:rgb(0,0,0);stroke-width:0;stroke:none\"/>\n",
       "<line x1=\"340.0\" y1=\"180.0\" x2=\"367.278922805\" y2=\"150.0\" style=\"fill:none;stroke-width:0.5;stroke:rgb(0,0,0)\"/>\n",
       "<circle cx=\"280.0\" cy=\"210.0\" r=\"2.0\" style=\"fill:rgb(0,0,0);stroke-width:0;stroke:none\"/>\n",
       "<line x1=\"280.0\" y1=\"210.0\" x2=\"280.0\" y2=\"193.790930824\" style=\"fill:none;stroke-width:0.5;stroke:rgb(0,0,0)\"/>\n",
       "<circle cx=\"280.0\" cy=\"120.0\" r=\"2.0\" style=\"fill:rgb(0,0,0);stroke-width:0;stroke:none\"/>\n",
       "<line x1=\"280.0\" y1=\"120.0\" x2=\"280.0\" y2=\"132.484405096\" style=\"fill:none;stroke-width:0.5;stroke:rgb(0,0,0)\"/>\n",
       "</svg></div>"
      ],
      "text/plain": [
       "<IPython.core.display.HTML object>"
      ]
     },
     "metadata": {},
     "output_type": "display_data"
    }
   ],
   "source": [
    "\"\"\"\n",
    "Iterating Over the Field\n",
    "\"\"\"\n",
    "for key,val in vec_field.items():\n",
    "    pt = Point(key[0],key[1])\n",
    "    vec = val\n",
    "    \n",
    "\n",
    "for key,val in vec_field.items(): \n",
    "    out.put([Point(key[0],key[1]), Segment(Point(key[0],key[1]),val)])\n",
    "    \n",
    "out.draw()\n",
    "out.clear()"
   ]
  },
  {
   "cell_type": "markdown",
   "metadata": {},
   "source": [
    "<img src=\"http://geometric-computation-images.s3-website-us-east-1.amazonaws.com/1.04.P08.jpg\" style=\"width: 200px; display: inline;\"><img src=\"http://geometric-computation-images.s3-website-us-east-1.amazonaws.com/1.04.P09.jpg\" style=\"width: 200px; display: inline;\"><img src=\"http://geometric-computation-images.s3-website-us-east-1.amazonaws.com/1.04.P10.jpg\" style=\"width: 200px; display: inline;\">"
   ]
  },
  {
   "cell_type": "markdown",
   "metadata": {},
   "source": [
    "Note the particular kind of object utilized as the key of this Dict; we do not retrieve Vecs related to a given ***Point object***, but rather to a given ***Tuple of two numbers***. A Point is a ***structured*** data type, while a Tuple of two numbers is an ***immutable collection of primitive***.\n",
    "\n",
    "\n",
    "In Python, dictionary keys that refer to a structured object are defined not by the particular attributes of that object, the coordinates of a Point for example, but rather by a unique identifier related to its address in memory. \n",
    "\n",
    "When it comes to keys, ***Dicts don't care about the value of structured objects, only about their identity***: a distinction may be drawn between two objects being ***identical*** as opposed to ***equal***."
   ]
  },
  {
   "cell_type": "code",
   "execution_count": 20,
   "metadata": {},
   "outputs": [
    {
     "name": "stdout",
     "output_type": "stream",
     "text": [
      "a & b are not identical,\n",
      "a & b are equal\n"
     ]
    }
   ],
   "source": [
    "\"\"\"\n",
    "Equal Non-Identical Objects\n",
    "Two variables are equal if the core attributes of their objects are equal, \n",
    "even if the two objects referred to are distinct. Note that structured data \n",
    "types, such as the geometric objects that comprise the Decod.es library, must \n",
    "explicitly define an equality comparison method in order to be compared in \n",
    "this way.\n",
    "\"\"\"\n",
    "pt_a = Point(2,2)\n",
    "pt_b = Point(2,2)\n",
    "if pt_a is pt_b: print( \"a & b are identical,\")\n",
    "if pt_a is not pt_b: print( \"a & b are not identical,\" )   \n",
    "if pt_a == pt_b: print( \"a & b are equal\")\n",
    "if pt_a != pt_b: print( \"a & b are not equal\")"
   ]
  },
  {
   "cell_type": "code",
   "execution_count": 21,
   "metadata": {},
   "outputs": [
    {
     "name": "stdout",
     "output_type": "stream",
     "text": [
      "a & c are identical,\n",
      "a & c are equal\n"
     ]
    }
   ],
   "source": [
    "\"\"\"\n",
    "Equal Identical Objects\n",
    "Two variables are identical if they refer to the same object in memory. \n",
    "They remain non-identical even if these two objects contain attributes \n",
    "that are exactly the same.\n",
    "\"\"\"\n",
    "pt_c = pt_a\n",
    "if pt_a is pt_c: print( \"a & c are identical,\")\n",
    "if pt_a is not pt_c: print (\"a & c are not identical,\")    \n",
    "if pt_a == pt_c: print (\"a & c are equal\")\n",
    "if pt_a != pt_c: print (\"a & c are not equal\" )  "
   ]
  },
  {
   "cell_type": "markdown",
   "metadata": {},
   "source": [
    "This distinction is important to understand when seeking to key a Dict with structured mutable data. \n",
    "\n",
    "For example, if we were to key Dict `dct` with `pt_a` from the code above, a call to `dict[pt_b]` would not successfully retrieve the desired value, while a call to `dict[pt_c]` would. Furthermore, if pt_a were to be re-directed to a new object, such as the new Point that would be created by the `pt_a = pt_a.projected()` method, then a call to `dict[pt_a]` would no longer retrieve the desired value."
   ]
  },
  {
   "cell_type": "code",
   "execution_count": 43,
   "metadata": {},
   "outputs": [
    {
     "name": "stdout",
     "output_type": "stream",
     "text": [
      "{   pt[0.0,0.0,0.0]: 'is in there!'}\n",
      "pt_a is in there!\n",
      "pt_b is not in there\n",
      "pt_c is not in there\n",
      "pt[0.0,0.0,0.0]\n",
      "pt_a is not in there\n"
     ]
    }
   ],
   "source": [
    "dct = {pt_a:\"is in there!\"}\n",
    "pp.pprint(dct)\n",
    "\n",
    "try:\n",
    "    print( \"pt_a \" + dct[pt_a] )\n",
    "except:\n",
    "    print( \"pt_a is not in there\" )\n",
    "\n",
    "try:\n",
    "    print( \"pt_b \" + dct[pt_b] )\n",
    "except:\n",
    "    print( \"pt_b is not in there\" )\n",
    "\n",
    "\n",
    "try:\n",
    "    print( \"pt_c \" + dct[pt_c] )\n",
    "except:\n",
    "    print( \"pt_c is not in there\" )\n",
    "\n",
    "    \n",
    "pt_a = pt_a.projected(Vec(0,1))\n",
    "print(pt_a)\n",
    "\n",
    "try:\n",
    "    print( \"pt_a \" + dct[pt_a] )\n",
    "except:\n",
    "    print( \"pt_a is not in there\" )"
   ]
  },
  {
   "cell_type": "markdown",
   "metadata": {},
   "source": [
    "Without a firm understanding of the object model, this behavior can be confounding. We can see why keying a Dict with simpler objects, such as a Tuple of three coordinates rather than a Point, is often the preferable approach."
   ]
  },
  {
   "cell_type": "markdown",
   "metadata": {},
   "source": [
    "There are cases, however, in which keying Dicts with structured objects can be useful.\n",
    "\n",
    "Imagine a routine that draws line segments between each Point in a given collection, and some number of nearby Points to form a “nearest-neighbor web”. Implemented in a straightforward way, such a routine would produce a large number of duplicate segments, as those Points appearing early in the List of `Point.sorted_by_distance()` for a given Point are very likely to reciprocate this relationship"
   ]
  },
  {
   "cell_type": "code",
   "execution_count": 44,
   "metadata": {},
   "outputs": [
    {
     "data": {
      "text/html": [
       "<div style=\"width:560.0px; height:360.0px; box-shadow: 2px 2px 8px 4px #ddd; margin: 8px;\"><svg width=\"560.0\" height=\"360.0\" xmlns=\"http://www.w3.org/2000/svg\" version=\"1.1\">\n",
       "<polyline points=\"130.0,330.0 190.0,330.0 190.0,270.0 130.0,270.0 130.0,330.0\" style=\"fill:rgb(249,249,249);stroke-width:1;stroke:rgb(255,255,255)\"/>\n",
       "<polyline points=\"190.0,330.0 250.0,330.0 250.0,270.0 190.0,270.0 190.0,330.0\" style=\"fill:rgb(249,249,249);stroke-width:1;stroke:rgb(255,255,255)\"/>\n",
       "<polyline points=\"250.0,330.0 310.0,330.0 310.0,270.0 250.0,270.0 250.0,330.0\" style=\"fill:rgb(249,249,249);stroke-width:1;stroke:rgb(255,255,255)\"/>\n",
       "<polyline points=\"310.0,330.0 370.0,330.0 370.0,270.0 310.0,270.0 310.0,330.0\" style=\"fill:rgb(249,249,249);stroke-width:1;stroke:rgb(255,255,255)\"/>\n",
       "<polyline points=\"370.0,330.0 430.0,330.0 430.0,270.0 370.0,270.0 370.0,330.0\" style=\"fill:rgb(249,249,249);stroke-width:1;stroke:rgb(255,255,255)\"/>\n",
       "<polyline points=\"130.0,270.0 190.0,270.0 190.0,210.0 130.0,210.0 130.0,270.0\" style=\"fill:rgb(249,249,249);stroke-width:1;stroke:rgb(255,255,255)\"/>\n",
       "<polyline points=\"190.0,270.0 250.0,270.0 250.0,210.0 190.0,210.0 190.0,270.0\" style=\"fill:rgb(249,249,249);stroke-width:1;stroke:rgb(255,255,255)\"/>\n",
       "<polyline points=\"250.0,270.0 310.0,270.0 310.0,210.0 250.0,210.0 250.0,270.0\" style=\"fill:rgb(249,249,249);stroke-width:1;stroke:rgb(255,255,255)\"/>\n",
       "<polyline points=\"310.0,270.0 370.0,270.0 370.0,210.0 310.0,210.0 310.0,270.0\" style=\"fill:rgb(249,249,249);stroke-width:1;stroke:rgb(255,255,255)\"/>\n",
       "<polyline points=\"370.0,270.0 430.0,270.0 430.0,210.0 370.0,210.0 370.0,270.0\" style=\"fill:rgb(249,249,249);stroke-width:1;stroke:rgb(255,255,255)\"/>\n",
       "<polyline points=\"130.0,210.0 190.0,210.0 190.0,150.0 130.0,150.0 130.0,210.0\" style=\"fill:rgb(249,249,249);stroke-width:1;stroke:rgb(255,255,255)\"/>\n",
       "<polyline points=\"190.0,210.0 250.0,210.0 250.0,150.0 190.0,150.0 190.0,210.0\" style=\"fill:rgb(249,249,249);stroke-width:1;stroke:rgb(255,255,255)\"/>\n",
       "<polyline points=\"250.0,210.0 310.0,210.0 310.0,150.0 250.0,150.0 250.0,210.0\" style=\"fill:rgb(249,249,249);stroke-width:1;stroke:rgb(255,255,255)\"/>\n",
       "<polyline points=\"310.0,210.0 370.0,210.0 370.0,150.0 310.0,150.0 310.0,210.0\" style=\"fill:rgb(249,249,249);stroke-width:1;stroke:rgb(255,255,255)\"/>\n",
       "<polyline points=\"370.0,210.0 430.0,210.0 430.0,150.0 370.0,150.0 370.0,210.0\" style=\"fill:rgb(249,249,249);stroke-width:1;stroke:rgb(255,255,255)\"/>\n",
       "<polyline points=\"130.0,150.0 190.0,150.0 190.0,90.0 130.0,90.0 130.0,150.0\" style=\"fill:rgb(249,249,249);stroke-width:1;stroke:rgb(255,255,255)\"/>\n",
       "<polyline points=\"190.0,150.0 250.0,150.0 250.0,90.0 190.0,90.0 190.0,150.0\" style=\"fill:rgb(249,249,249);stroke-width:1;stroke:rgb(255,255,255)\"/>\n",
       "<polyline points=\"250.0,150.0 310.0,150.0 310.0,90.0 250.0,90.0 250.0,150.0\" style=\"fill:rgb(249,249,249);stroke-width:1;stroke:rgb(255,255,255)\"/>\n",
       "<polyline points=\"310.0,150.0 370.0,150.0 370.0,90.0 310.0,90.0 310.0,150.0\" style=\"fill:rgb(249,249,249);stroke-width:1;stroke:rgb(255,255,255)\"/>\n",
       "<polyline points=\"370.0,150.0 430.0,150.0 430.0,90.0 370.0,90.0 370.0,150.0\" style=\"fill:rgb(249,249,249);stroke-width:1;stroke:rgb(255,255,255)\"/>\n",
       "<polyline points=\"130.0,90.0 190.0,90.0 190.0,30.0 130.0,30.0 130.0,90.0\" style=\"fill:rgb(249,249,249);stroke-width:1;stroke:rgb(255,255,255)\"/>\n",
       "<polyline points=\"190.0,90.0 250.0,90.0 250.0,30.0 190.0,30.0 190.0,90.0\" style=\"fill:rgb(249,249,249);stroke-width:1;stroke:rgb(255,255,255)\"/>\n",
       "<polyline points=\"250.0,90.0 310.0,90.0 310.0,30.0 250.0,30.0 250.0,90.0\" style=\"fill:rgb(249,249,249);stroke-width:1;stroke:rgb(255,255,255)\"/>\n",
       "<polyline points=\"310.0,90.0 370.0,90.0 370.0,30.0 310.0,30.0 310.0,90.0\" style=\"fill:rgb(249,249,249);stroke-width:1;stroke:rgb(255,255,255)\"/>\n",
       "<polyline points=\"370.0,90.0 430.0,90.0 430.0,30.0 370.0,30.0 370.0,90.0\" style=\"fill:rgb(249,249,249);stroke-width:1;stroke:rgb(255,255,255)\"/>\n",
       "<polyline points=\"130.0,330.0 190.0,330.0 190.0,270.0 130.0,270.0 130.0,330.0\" style=\"fill:rgb(249,249,249);stroke-width:1;stroke:rgb(255,255,255)\"/>\n",
       "<polyline points=\"190.0,330.0 250.0,330.0 250.0,270.0 190.0,270.0 190.0,330.0\" style=\"fill:rgb(249,249,249);stroke-width:1;stroke:rgb(255,255,255)\"/>\n",
       "<polyline points=\"250.0,330.0 310.0,330.0 310.0,270.0 250.0,270.0 250.0,330.0\" style=\"fill:rgb(249,249,249);stroke-width:1;stroke:rgb(255,255,255)\"/>\n",
       "<polyline points=\"310.0,330.0 370.0,330.0 370.0,270.0 310.0,270.0 310.0,330.0\" style=\"fill:rgb(249,249,249);stroke-width:1;stroke:rgb(255,255,255)\"/>\n",
       "<polyline points=\"370.0,330.0 430.0,330.0 430.0,270.0 370.0,270.0 370.0,330.0\" style=\"fill:rgb(249,249,249);stroke-width:1;stroke:rgb(255,255,255)\"/>\n",
       "<polyline points=\"130.0,270.0 190.0,270.0 190.0,210.0 130.0,210.0 130.0,270.0\" style=\"fill:rgb(249,249,249);stroke-width:1;stroke:rgb(255,255,255)\"/>\n",
       "<polyline points=\"190.0,270.0 250.0,270.0 250.0,210.0 190.0,210.0 190.0,270.0\" style=\"fill:rgb(249,249,249);stroke-width:1;stroke:rgb(255,255,255)\"/>\n",
       "<polyline points=\"250.0,270.0 310.0,270.0 310.0,210.0 250.0,210.0 250.0,270.0\" style=\"fill:rgb(249,249,249);stroke-width:1;stroke:rgb(255,255,255)\"/>\n",
       "<polyline points=\"310.0,270.0 370.0,270.0 370.0,210.0 310.0,210.0 310.0,270.0\" style=\"fill:rgb(249,249,249);stroke-width:1;stroke:rgb(255,255,255)\"/>\n",
       "<polyline points=\"370.0,270.0 430.0,270.0 430.0,210.0 370.0,210.0 370.0,270.0\" style=\"fill:rgb(249,249,249);stroke-width:1;stroke:rgb(255,255,255)\"/>\n",
       "<polyline points=\"130.0,210.0 190.0,210.0 190.0,150.0 130.0,150.0 130.0,210.0\" style=\"fill:rgb(249,249,249);stroke-width:1;stroke:rgb(255,255,255)\"/>\n",
       "<polyline points=\"190.0,210.0 250.0,210.0 250.0,150.0 190.0,150.0 190.0,210.0\" style=\"fill:rgb(249,249,249);stroke-width:1;stroke:rgb(255,255,255)\"/>\n",
       "<polyline points=\"250.0,210.0 310.0,210.0 310.0,150.0 250.0,150.0 250.0,210.0\" style=\"fill:rgb(249,249,249);stroke-width:1;stroke:rgb(255,255,255)\"/>\n",
       "<polyline points=\"310.0,210.0 370.0,210.0 370.0,150.0 310.0,150.0 310.0,210.0\" style=\"fill:rgb(249,249,249);stroke-width:1;stroke:rgb(255,255,255)\"/>\n",
       "<polyline points=\"370.0,210.0 430.0,210.0 430.0,150.0 370.0,150.0 370.0,210.0\" style=\"fill:rgb(249,249,249);stroke-width:1;stroke:rgb(255,255,255)\"/>\n",
       "<polyline points=\"130.0,150.0 190.0,150.0 190.0,90.0 130.0,90.0 130.0,150.0\" style=\"fill:rgb(249,249,249);stroke-width:1;stroke:rgb(255,255,255)\"/>\n",
       "<polyline points=\"190.0,150.0 250.0,150.0 250.0,90.0 190.0,90.0 190.0,150.0\" style=\"fill:rgb(249,249,249);stroke-width:1;stroke:rgb(255,255,255)\"/>\n",
       "<polyline points=\"250.0,150.0 310.0,150.0 310.0,90.0 250.0,90.0 250.0,150.0\" style=\"fill:rgb(249,249,249);stroke-width:1;stroke:rgb(255,255,255)\"/>\n",
       "<polyline points=\"310.0,150.0 370.0,150.0 370.0,90.0 310.0,90.0 310.0,150.0\" style=\"fill:rgb(249,249,249);stroke-width:1;stroke:rgb(255,255,255)\"/>\n",
       "<polyline points=\"370.0,150.0 430.0,150.0 430.0,90.0 370.0,90.0 370.0,150.0\" style=\"fill:rgb(249,249,249);stroke-width:1;stroke:rgb(255,255,255)\"/>\n",
       "<polyline points=\"130.0,90.0 190.0,90.0 190.0,30.0 130.0,30.0 130.0,90.0\" style=\"fill:rgb(249,249,249);stroke-width:1;stroke:rgb(255,255,255)\"/>\n",
       "<polyline points=\"190.0,90.0 250.0,90.0 250.0,30.0 190.0,30.0 190.0,90.0\" style=\"fill:rgb(249,249,249);stroke-width:1;stroke:rgb(255,255,255)\"/>\n",
       "<polyline points=\"250.0,90.0 310.0,90.0 310.0,30.0 250.0,30.0 250.0,90.0\" style=\"fill:rgb(249,249,249);stroke-width:1;stroke:rgb(255,255,255)\"/>\n",
       "<polyline points=\"310.0,90.0 370.0,90.0 370.0,30.0 310.0,30.0 310.0,90.0\" style=\"fill:rgb(249,249,249);stroke-width:1;stroke:rgb(255,255,255)\"/>\n",
       "<polyline points=\"370.0,90.0 430.0,90.0 430.0,30.0 370.0,30.0 370.0,90.0\" style=\"fill:rgb(249,249,249);stroke-width:1;stroke:rgb(255,255,255)\"/>\n",
       "<circle cx=\"280.0\" cy=\"180.0\" r=\"30.0\" style=\"fill:rgb(255,255,255);stroke-width:0;stroke:none\"/>\n",
       "<line x1=\"365.330070018\" y1=\"126.522393039\" x2=\"274.595871496\" y2=\"211.212713937\" style=\"fill:none;stroke-width:0.5;stroke:rgb(0,0,0)\"/>\n",
       "<line x1=\"187.338067031\" y1=\"272.143162876\" x2=\"274.595871496\" y2=\"211.212713937\" style=\"fill:none;stroke-width:0.5;stroke:rgb(0,0,0)\"/>\n",
       "<line x1=\"190.590795399\" y1=\"172.19135074\" x2=\"274.595871496\" y2=\"211.212713937\" style=\"fill:none;stroke-width:0.5;stroke:rgb(0,0,0)\"/>\n",
       "<line x1=\"173.494013095\" y1=\"143.896218209\" x2=\"190.590795399\" y2=\"172.19135074\" style=\"fill:none;stroke-width:0.5;stroke:rgb(0,0,0)\"/>\n",
       "<line x1=\"229.967666617\" y1=\"174.385419568\" x2=\"190.590795399\" y2=\"172.19135074\" style=\"fill:none;stroke-width:0.5;stroke:rgb(0,0,0)\"/>\n",
       "<line x1=\"187.338067031\" y1=\"272.143162876\" x2=\"190.590795399\" y2=\"172.19135074\" style=\"fill:none;stroke-width:0.5;stroke:rgb(0,0,0)\"/>\n",
       "<line x1=\"273.429506366\" y1=\"206.231737867\" x2=\"365.685567345\" y2=\"243.960633864\" style=\"fill:none;stroke-width:0.5;stroke:rgb(0,0,0)\"/>\n",
       "<line x1=\"274.233504282\" y1=\"239.942354375\" x2=\"365.685567345\" y2=\"243.960633864\" style=\"fill:none;stroke-width:0.5;stroke:rgb(0,0,0)\"/>\n",
       "<line x1=\"319.640375886\" y1=\"328.101666858\" x2=\"365.685567345\" y2=\"243.960633864\" style=\"fill:none;stroke-width:0.5;stroke:rgb(0,0,0)\"/>\n",
       "<line x1=\"365.685567345\" y1=\"243.960633864\" x2=\"379.103200651\" y2=\"116.414980519\" style=\"fill:none;stroke-width:0.5;stroke:rgb(0,0,0)\"/>\n",
       "<line x1=\"273.429506366\" y1=\"206.231737867\" x2=\"379.103200651\" y2=\"116.414980519\" style=\"fill:none;stroke-width:0.5;stroke:rgb(0,0,0)\"/>\n",
       "<line x1=\"325.579244554\" y1=\"103.312973974\" x2=\"379.103200651\" y2=\"116.414980519\" style=\"fill:none;stroke-width:0.5;stroke:rgb(0,0,0)\"/>\n",
       "<line x1=\"229.967666617\" y1=\"174.385419568\" x2=\"237.38737611\" y2=\"138.496922597\" style=\"fill:none;stroke-width:0.5;stroke:rgb(0,0,0)\"/>\n",
       "<line x1=\"265.95588411\" y1=\"169.80122294\" x2=\"237.38737611\" y2=\"138.496922597\" style=\"fill:none;stroke-width:0.5;stroke:rgb(0,0,0)\"/>\n",
       "<line x1=\"273.429506366\" y1=\"206.231737867\" x2=\"237.38737611\" y2=\"138.496922597\" style=\"fill:none;stroke-width:0.5;stroke:rgb(0,0,0)\"/>\n",
       "<line x1=\"229.967666617\" y1=\"174.385419568\" x2=\"173.494013095\" y2=\"143.896218209\" style=\"fill:none;stroke-width:0.5;stroke:rgb(0,0,0)\"/>\n",
       "<line x1=\"190.590795399\" y1=\"172.19135074\" x2=\"173.494013095\" y2=\"143.896218209\" style=\"fill:none;stroke-width:0.5;stroke:rgb(0,0,0)\"/>\n",
       "<line x1=\"237.38737611\" y1=\"138.496922597\" x2=\"173.494013095\" y2=\"143.896218209\" style=\"fill:none;stroke-width:0.5;stroke:rgb(0,0,0)\"/>\n",
       "<line x1=\"190.590795399\" y1=\"172.19135074\" x2=\"187.338067031\" y2=\"272.143162876\" style=\"fill:none;stroke-width:0.5;stroke:rgb(0,0,0)\"/>\n",
       "<line x1=\"274.595871496\" y1=\"211.212713937\" x2=\"187.338067031\" y2=\"272.143162876\" style=\"fill:none;stroke-width:0.5;stroke:rgb(0,0,0)\"/>\n",
       "<line x1=\"274.233504282\" y1=\"239.942354375\" x2=\"187.338067031\" y2=\"272.143162876\" style=\"fill:none;stroke-width:0.5;stroke:rgb(0,0,0)\"/>\n",
       "<line x1=\"265.95588411\" y1=\"169.80122294\" x2=\"229.967666617\" y2=\"174.385419568\" style=\"fill:none;stroke-width:0.5;stroke:rgb(0,0,0)\"/>\n",
       "<line x1=\"237.38737611\" y1=\"138.496922597\" x2=\"229.967666617\" y2=\"174.385419568\" style=\"fill:none;stroke-width:0.5;stroke:rgb(0,0,0)\"/>\n",
       "<line x1=\"173.494013095\" y1=\"143.896218209\" x2=\"229.967666617\" y2=\"174.385419568\" style=\"fill:none;stroke-width:0.5;stroke:rgb(0,0,0)\"/>\n",
       "<line x1=\"274.233504282\" y1=\"239.942354375\" x2=\"319.640375886\" y2=\"328.101666858\" style=\"fill:none;stroke-width:0.5;stroke:rgb(0,0,0)\"/>\n",
       "<line x1=\"365.685567345\" y1=\"243.960633864\" x2=\"319.640375886\" y2=\"328.101666858\" style=\"fill:none;stroke-width:0.5;stroke:rgb(0,0,0)\"/>\n",
       "<line x1=\"379.635532881\" y1=\"230.269093557\" x2=\"319.640375886\" y2=\"328.101666858\" style=\"fill:none;stroke-width:0.5;stroke:rgb(0,0,0)\"/>\n",
       "<line x1=\"190.590795399\" y1=\"172.19135074\" x2=\"141.242777433\" y2=\"61.3530520362\" style=\"fill:none;stroke-width:0.5;stroke:rgb(0,0,0)\"/>\n",
       "<line x1=\"173.494013095\" y1=\"143.896218209\" x2=\"141.242777433\" y2=\"61.3530520362\" style=\"fill:none;stroke-width:0.5;stroke:rgb(0,0,0)\"/>\n",
       "<line x1=\"274.595871496\" y1=\"211.212713937\" x2=\"141.242777433\" y2=\"61.3530520362\" style=\"fill:none;stroke-width:0.5;stroke:rgb(0,0,0)\"/>\n",
       "<line x1=\"379.635532881\" y1=\"230.269093557\" x2=\"385.418834825\" y2=\"306.301629672\" style=\"fill:none;stroke-width:0.5;stroke:rgb(0,0,0)\"/>\n",
       "<line x1=\"274.595871496\" y1=\"211.212713937\" x2=\"385.418834825\" y2=\"306.301629672\" style=\"fill:none;stroke-width:0.5;stroke:rgb(0,0,0)\"/>\n",
       "<line x1=\"424.033357818\" y1=\"154.305513639\" x2=\"385.418834825\" y2=\"306.301629672\" style=\"fill:none;stroke-width:0.5;stroke:rgb(0,0,0)\"/>\n",
       "<line x1=\"229.967666617\" y1=\"174.385419568\" x2=\"265.95588411\" y2=\"169.80122294\" style=\"fill:none;stroke-width:0.5;stroke:rgb(0,0,0)\"/>\n",
       "<line x1=\"293.907637041\" y1=\"196.63355828\" x2=\"265.95588411\" y2=\"169.80122294\" style=\"fill:none;stroke-width:0.5;stroke:rgb(0,0,0)\"/>\n",
       "<line x1=\"237.38737611\" y1=\"138.496922597\" x2=\"265.95588411\" y2=\"169.80122294\" style=\"fill:none;stroke-width:0.5;stroke:rgb(0,0,0)\"/>\n",
       "<line x1=\"293.907637041\" y1=\"196.63355828\" x2=\"325.579244554\" y2=\"103.312973974\" style=\"fill:none;stroke-width:0.5;stroke:rgb(0,0,0)\"/>\n",
       "<line x1=\"265.95588411\" y1=\"169.80122294\" x2=\"325.579244554\" y2=\"103.312973974\" style=\"fill:none;stroke-width:0.5;stroke:rgb(0,0,0)\"/>\n",
       "<line x1=\"229.967666617\" y1=\"174.385419568\" x2=\"325.579244554\" y2=\"103.312973974\" style=\"fill:none;stroke-width:0.5;stroke:rgb(0,0,0)\"/>\n",
       "<line x1=\"365.330070018\" y1=\"126.522393039\" x2=\"424.033357818\" y2=\"154.305513639\" style=\"fill:none;stroke-width:0.5;stroke:rgb(0,0,0)\"/>\n",
       "<line x1=\"379.635532881\" y1=\"230.269093557\" x2=\"424.033357818\" y2=\"154.305513639\" style=\"fill:none;stroke-width:0.5;stroke:rgb(0,0,0)\"/>\n",
       "<line x1=\"385.418834825\" y1=\"306.301629672\" x2=\"424.033357818\" y2=\"154.305513639\" style=\"fill:none;stroke-width:0.5;stroke:rgb(0,0,0)\"/>\n",
       "<line x1=\"293.907637041\" y1=\"196.63355828\" x2=\"379.635532881\" y2=\"230.269093557\" style=\"fill:none;stroke-width:0.5;stroke:rgb(0,0,0)\"/>\n",
       "<line x1=\"385.418834825\" y1=\"306.301629672\" x2=\"379.635532881\" y2=\"230.269093557\" style=\"fill:none;stroke-width:0.5;stroke:rgb(0,0,0)\"/>\n",
       "<line x1=\"365.685567345\" y1=\"243.960633864\" x2=\"379.635532881\" y2=\"230.269093557\" style=\"fill:none;stroke-width:0.5;stroke:rgb(0,0,0)\"/>\n",
       "<line x1=\"265.95588411\" y1=\"169.80122294\" x2=\"293.907637041\" y2=\"196.63355828\" style=\"fill:none;stroke-width:0.5;stroke:rgb(0,0,0)\"/>\n",
       "<line x1=\"274.233504282\" y1=\"239.942354375\" x2=\"293.907637041\" y2=\"196.63355828\" style=\"fill:none;stroke-width:0.5;stroke:rgb(0,0,0)\"/>\n",
       "<line x1=\"229.967666617\" y1=\"174.385419568\" x2=\"293.907637041\" y2=\"196.63355828\" style=\"fill:none;stroke-width:0.5;stroke:rgb(0,0,0)\"/>\n",
       "<line x1=\"274.233504282\" y1=\"239.942354375\" x2=\"273.429506366\" y2=\"206.231737867\" style=\"fill:none;stroke-width:0.5;stroke:rgb(0,0,0)\"/>\n",
       "<line x1=\"237.38737611\" y1=\"138.496922597\" x2=\"273.429506366\" y2=\"206.231737867\" style=\"fill:none;stroke-width:0.5;stroke:rgb(0,0,0)\"/>\n",
       "<line x1=\"265.95588411\" y1=\"169.80122294\" x2=\"273.429506366\" y2=\"206.231737867\" style=\"fill:none;stroke-width:0.5;stroke:rgb(0,0,0)\"/>\n",
       "<line x1=\"424.033357818\" y1=\"154.305513639\" x2=\"365.330070018\" y2=\"126.522393039\" style=\"fill:none;stroke-width:0.5;stroke:rgb(0,0,0)\"/>\n",
       "<line x1=\"274.595871496\" y1=\"211.212713937\" x2=\"365.330070018\" y2=\"126.522393039\" style=\"fill:none;stroke-width:0.5;stroke:rgb(0,0,0)\"/>\n",
       "<line x1=\"325.579244554\" y1=\"103.312973974\" x2=\"365.330070018\" y2=\"126.522393039\" style=\"fill:none;stroke-width:0.5;stroke:rgb(0,0,0)\"/>\n",
       "<line x1=\"273.429506366\" y1=\"206.231737867\" x2=\"235.4709045\" y2=\"309.583985112\" style=\"fill:none;stroke-width:0.5;stroke:rgb(0,0,0)\"/>\n",
       "<line x1=\"274.233504282\" y1=\"239.942354375\" x2=\"235.4709045\" y2=\"309.583985112\" style=\"fill:none;stroke-width:0.5;stroke:rgb(0,0,0)\"/>\n",
       "<line x1=\"319.640375886\" y1=\"328.101666858\" x2=\"235.4709045\" y2=\"309.583985112\" style=\"fill:none;stroke-width:0.5;stroke:rgb(0,0,0)\"/>\n",
       "<line x1=\"293.907637041\" y1=\"196.63355828\" x2=\"274.233504282\" y2=\"239.942354375\" style=\"fill:none;stroke-width:0.5;stroke:rgb(0,0,0)\"/>\n",
       "<line x1=\"265.95588411\" y1=\"169.80122294\" x2=\"274.233504282\" y2=\"239.942354375\" style=\"fill:none;stroke-width:0.5;stroke:rgb(0,0,0)\"/>\n",
       "<line x1=\"273.429506366\" y1=\"206.231737867\" x2=\"274.233504282\" y2=\"239.942354375\" style=\"fill:none;stroke-width:0.5;stroke:rgb(0,0,0)\"/>\n",
       "</svg></div>"
      ],
      "text/plain": [
       "<IPython.core.display.HTML object>"
      ]
     },
     "metadata": {},
     "output_type": "display_data"
    }
   ],
   "source": [
    "\"\"\"\n",
    "Nearest-Neighbor Web with Duplicates\n",
    "Using a simple List to store resulting segments, connections are drawn \n",
    "between each Point in a collection and a given number of nearby neighboring \n",
    "Points. This results in a number of overlapping Segments that can be \n",
    "difficult to identify.\n",
    "\"\"\"\n",
    "pts = [Point.random() * 5 for n in range(20)]\n",
    "\n",
    "cnxn_count = 3\n",
    "segs = []\n",
    "for pt in pts:\n",
    "    near_pts = Point.sorted_by_distance(pts,pt)[1:]\n",
    "    for n in range(cnxn_count):\n",
    "        segs.append( Segment(near_pts[n],pt ) )\n",
    "        \n",
    "out.put(segs)\n",
    "out.draw()\n",
    "out.clear()"
   ]
  },
  {
   "cell_type": "markdown",
   "metadata": {},
   "source": [
    "We find an approach for avoiding the creation of duplicate Segments by keying a Dict using a Tuple of start and end Points of each Segment. \n",
    "\n",
    "Here, each Point constructs Segments to some number of nearest neighbors only if the reciprocating Segment cannot be found in the Dict edges. A Tuple of two Points serves as the key and the concerns of equality versus identicality can be circumvented since the Points involved are neither modified nor re-assigned over the course of the routine."
   ]
  },
  {
   "cell_type": "code",
   "execution_count": null,
   "metadata": {
    "scrolled": true
   },
   "outputs": [],
   "source": [
    "\"\"\"\n",
    "A Unique Nearest-Neighbor Web\n",
    "Storing resulting Segments with its endpoints as a key, we can identify and \n",
    "avoid overlaps as Segments are created.\n",
    "\"\"\"\n",
    "edges = {}\n",
    "for pt in pts:\n",
    "    near_pts = Point.sorted_by_distance(pts,pt)[1:]\n",
    "    for n in range(cnxn_count):\n",
    "        if (pt,near_pts[n]) not in edges:\n",
    "            edges[(near_pts[n],pt)] = Segment(near_pts[n],pt)\n",
    "    \n",
    "segs = [Segment(edge[0],edge[1]) for edge in edges]\n",
    "\n",
    "out.put(segs)\n",
    "out.draw()\n",
    "out.clear()"
   ]
  },
  {
   "cell_type": "markdown",
   "metadata": {},
   "source": [
    "<img src=\"http://geometric-computation-images.s3-website-us-east-1.amazonaws.com/1.04.P11_100.jpg\" style=\"width: 600px; display: inline;\">"
   ]
  }
 ],
 "metadata": {
  "kernelspec": {
   "display_name": "Python 3",
   "language": "python",
   "name": "python3"
  },
  "language_info": {
   "codemirror_mode": {
    "name": "ipython",
    "version": 3
   },
   "file_extension": ".py",
   "mimetype": "text/x-python",
   "name": "python",
   "nbconvert_exporter": "python",
   "pygments_lexer": "ipython3",
   "version": "3.6.4"
  }
 },
 "nbformat": 4,
 "nbformat_minor": 2
}
