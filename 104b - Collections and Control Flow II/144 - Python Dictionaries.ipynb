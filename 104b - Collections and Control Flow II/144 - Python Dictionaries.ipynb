{
 "cells": [
  {
   "cell_type": "code",
   "execution_count": 12,
   "metadata": {},
   "outputs": [],
   "source": [
    "from decodes.core import *\n",
    "from decodes.io.jupyter_out import JupyterOut\n",
    "out = JupyterOut.unit_square( )\n",
    "from math import *"
   ]
  },
  {
   "cell_type": "markdown",
   "metadata": {},
   "source": [
    "# Python Dictionaries\n",
    "todo"
   ]
  },
  {
   "cell_type": "markdown",
   "metadata": {},
   "source": [
    "## Dict Construction"
   ]
  },
  {
   "cell_type": "code",
   "execution_count": 1,
   "metadata": {},
   "outputs": [],
   "source": [
    "\"\"\"\n",
    "A List of Case-Study Houses\n",
    "Given the Case-Study House dataset, sequence types offer an inappropriate storage format.\n",
    "\"\"\"\n",
    "case_studies = [\n",
    "    (1,\"Davidson\",1948,\"Feb 1948\",[34.148, -118.351]),\n",
    "    (\"Omega\",\"Neutra\",\"Oct 1945\"),\n",
    "    (\"Eames House\",\"Charles & Ray Eames\",1949,\"Dec 1949\",[-118.082, 34.132]),\n",
    "    (10,\"Nomland & Nomland\",1947,\"Oct 1947\",[34.125, -118.165]),\n",
    "    (\"Alpha\",\"Neutra\",\"Mar 1946\"),\n",
    "    (15,\"Davidson\",1947,\"Jan 1947\",[34.213, -118.207])\n",
    "]"
   ]
  },
  {
   "cell_type": "code",
   "execution_count": 2,
   "metadata": {},
   "outputs": [],
   "source": [
    "\"\"\"\n",
    "A Dict of Case-Study Houses\n",
    "In contrast with sequence types, an associative collection is a good choice for representing the Case-Study House dataset.\n",
    "\"\"\"\n",
    "case_studies = {\\\n",
    "    \"Omega\": {\\\n",
    "        \"architect\": \"Neutra\",\\\n",
    "        \"date_published\": \"Oct 1945\",\\\n",
    "        \"is_built\": False\\\n",
    "    },\\\n",
    "    \"Eames House\": {\\\n",
    "        \"architect\": \"Charles & Ray Eames\",\\\n",
    "        \"date_published\": \"Dec 1949\",\\\n",
    "        \"is_built\": True,\\\n",
    "        \"coordinates\": [-118.082612, 34.132265],\\\n",
    "        \"date_built\": 1949\\\n",
    "    }\n",
    "}"
   ]
  },
  {
   "cell_type": "markdown",
   "metadata": {},
   "source": [
    "<img src=\"http://geometric-computation-images.s3-website-us-east-1.amazonaws.com/1.04.D07.jpg\" style=\"width: 600px; display: inline;\">"
   ]
  },
  {
   "cell_type": "markdown",
   "metadata": {},
   "source": [
    "## Dict Access and Manipulation"
   ]
  },
  {
   "cell_type": "code",
   "execution_count": 4,
   "metadata": {},
   "outputs": [
    {
     "name": "stdout",
     "output_type": "stream",
     "text": [
      "dict_keys(['architect', 'date_published', 'is_built'])\n",
      "dict_values(['Neutra', 'Oct 1945', False])\n"
     ]
    }
   ],
   "source": [
    "\"\"\"\n",
    "Dict Key and Value Access\n",
    "We may retrieve the data contained within a Dict by requesting a list of its keys, a list of its values, or, as seen below, a list of tuples containing key-value pairs. Here, just the values of a specific sub-dict are retrieved.\n",
    "\"\"\"\n",
    "print( case_studies[\"Omega\"].keys() )\n",
    "print( case_studies[\"Omega\"].values() )"
   ]
  },
  {
   "cell_type": "code",
   "execution_count": 5,
   "metadata": {},
   "outputs": [
    {
     "name": "stdout",
     "output_type": "stream",
     "text": [
      "Eames House was built in  1949\n"
     ]
    }
   ],
   "source": [
    "\"\"\"\n",
    "Iteration over Keys\n",
    "Here, we iterate over a Dict of Dicts, operating only on those sub-dicts that meet a given criteria.\n",
    "\"\"\"\n",
    "for key in case_studies.keys():\n",
    "    if case_studies[key][\"is_built\"]:\n",
    "        print( key , \"was built in \" , case_studies[key][\"date_built\"] )"
   ]
  },
  {
   "cell_type": "code",
   "execution_count": 6,
   "metadata": {},
   "outputs": [
    {
     "name": "stdout",
     "output_type": "stream",
     "text": [
      "Eames House was built in  1949\n"
     ]
    }
   ],
   "source": [
    "\"\"\"\n",
    "Iteration over Keys and Values\n",
    "An alternative method to iterate over a Dict of Dicts, operating only on those sub-dicts that meet a given criteria. The result is identical to the script above.\n",
    "\"\"\"\n",
    "for key, val in case_studies.items():\n",
    "    # the 'in' operator determines the presence of a given key\n",
    "    if \"date_built\" in val:\n",
    "        print ( key , \"was built in \" , val[\"date_built\"] )"
   ]
  },
  {
   "cell_type": "markdown",
   "metadata": {},
   "source": [
    "## Exotic Keys"
   ]
  },
  {
   "cell_type": "markdown",
   "metadata": {},
   "source": [
    "<img src=\"http://geometric-computation-images.s3-website-us-east-1.amazonaws.com/1.04.P07.jpg\" style=\"width: 200px; display: inline;\">"
   ]
  },
  {
   "cell_type": "code",
   "execution_count": 7,
   "metadata": {},
   "outputs": [
    {
     "ename": "NameError",
     "evalue": "name 'apts' is not defined",
     "output_type": "error",
     "traceback": [
      "\u001b[1;31m---------------------------------------------------------------------------\u001b[0m",
      "\u001b[1;31mNameError\u001b[0m                                 Traceback (most recent call last)",
      "\u001b[1;32m<ipython-input-7-163e7723253a>\u001b[0m in \u001b[0;36m<module>\u001b[1;34m()\u001b[0m\n\u001b[0;32m      5\u001b[0m \u001b[1;31m# initialize a dictionary\u001b[0m\u001b[1;33m\u001b[0m\u001b[1;33m\u001b[0m\u001b[0m\n\u001b[0;32m      6\u001b[0m \u001b[0mvec_field\u001b[0m \u001b[1;33m=\u001b[0m \u001b[1;33m{\u001b[0m\u001b[1;33m}\u001b[0m\u001b[1;33m\u001b[0m\u001b[0m\n\u001b[1;32m----> 7\u001b[1;33m \u001b[1;32mfor\u001b[0m \u001b[0mapt\u001b[0m\u001b[1;33m,\u001b[0m \u001b[0mvec\u001b[0m \u001b[1;32min\u001b[0m \u001b[0mzip\u001b[0m\u001b[1;33m(\u001b[0m\u001b[0mapts\u001b[0m\u001b[1;33m,\u001b[0m\u001b[0mvecs\u001b[0m\u001b[1;33m)\u001b[0m\u001b[1;33m:\u001b[0m\u001b[1;33m\u001b[0m\u001b[0m\n\u001b[0m\u001b[0;32m      8\u001b[0m     \u001b[1;31m# math.floor() rounds down to the nearest integer\u001b[0m\u001b[1;33m\u001b[0m\u001b[1;33m\u001b[0m\u001b[0m\n\u001b[0;32m      9\u001b[0m     \u001b[0mx\u001b[0m\u001b[1;33m,\u001b[0m\u001b[0my\u001b[0m \u001b[1;33m=\u001b[0m \u001b[0mfloor\u001b[0m\u001b[1;33m(\u001b[0m\u001b[0mapt\u001b[0m\u001b[1;33m.\u001b[0m\u001b[0mx\u001b[0m\u001b[1;33m)\u001b[0m\u001b[1;33m,\u001b[0m \u001b[0mfloor\u001b[0m\u001b[1;33m(\u001b[0m\u001b[0mapt\u001b[0m\u001b[1;33m.\u001b[0m\u001b[0my\u001b[0m\u001b[1;33m)\u001b[0m\u001b[1;33m\u001b[0m\u001b[0m\n",
      "\u001b[1;31mNameError\u001b[0m: name 'apts' is not defined"
     ]
    }
   ],
   "source": [
    "\"\"\"\n",
    "Vector Field as Dict\n",
    "Given a list of Vecs and a corresponding list of Points that describe their \"anchor\" in a vector field, create a dictionary that stores the Vecs and keys them to a tuple that describes their coordinate location in the field. We may assume that anchor points are spaced one unit apart in x and y.\n",
    "\"\"\"\n",
    "# initialize a dictionary \n",
    "vec_field = {}\n",
    "for apt, vec in zip(apts,vecs):\n",
    "    # math.floor() rounds down to the nearest integer\n",
    "    x,y = floor(apt.x), floor(apt.y)\n",
    "    # each vector is paired with a tuple key\n",
    "    vec_field[(x,y)] = vec"
   ]
  },
  {
   "cell_type": "code",
   "execution_count": 13,
   "metadata": {},
   "outputs": [
    {
     "ename": "NameError",
     "evalue": "name 'pt' is not defined",
     "output_type": "error",
     "traceback": [
      "\u001b[1;31m---------------------------------------------------------------------------\u001b[0m",
      "\u001b[1;31mNameError\u001b[0m                                 Traceback (most recent call last)",
      "\u001b[1;32m<ipython-input-13-6406e69fcfa5>\u001b[0m in \u001b[0;36m<module>\u001b[1;34m()\u001b[0m\n\u001b[0;32m      3\u001b[0m \u001b[0mGiven\u001b[0m \u001b[0ma\u001b[0m \u001b[0mvector\u001b[0m \u001b[0mfield\u001b[0m \u001b[0mdescribed\u001b[0m \u001b[1;32mas\u001b[0m \u001b[0ma\u001b[0m \u001b[0mdict\u001b[0m \u001b[0mindexed\u001b[0m \u001b[0mby\u001b[0m \u001b[0mvector\u001b[0m \u001b[0manchors\u001b[0m\u001b[1;33m,\u001b[0m \u001b[0mretrieve\u001b[0m \u001b[1;32mfrom\u001b[0m \u001b[0mthe\u001b[0m \u001b[0mfield\u001b[0m \u001b[0mthe\u001b[0m \u001b[0mVec\u001b[0m \u001b[0mthat\u001b[0m \u001b[1;32mis\u001b[0m \u001b[0mnearest\u001b[0m \u001b[0mto\u001b[0m \u001b[0ma\u001b[0m \u001b[0mgiven\u001b[0m \u001b[0mPoint\u001b[0m\u001b[1;33m.\u001b[0m\u001b[1;33m\u001b[0m\u001b[0m\n\u001b[0;32m      4\u001b[0m \"\"\"\n\u001b[1;32m----> 5\u001b[1;33m \u001b[0mx\u001b[0m\u001b[1;33m,\u001b[0m\u001b[0my\u001b[0m \u001b[1;33m=\u001b[0m \u001b[0mmath\u001b[0m\u001b[1;33m.\u001b[0m\u001b[0mfloor\u001b[0m\u001b[1;33m(\u001b[0m\u001b[0mpt\u001b[0m\u001b[1;33m.\u001b[0m\u001b[0mx\u001b[0m\u001b[1;33m)\u001b[0m\u001b[1;33m,\u001b[0m\u001b[0mfloor\u001b[0m\u001b[1;33m(\u001b[0m\u001b[0mpt\u001b[0m\u001b[1;33m.\u001b[0m\u001b[0my\u001b[0m\u001b[1;33m)\u001b[0m\u001b[1;33m\u001b[0m\u001b[0m\n\u001b[0m\u001b[0;32m      6\u001b[0m \u001b[0mvec\u001b[0m \u001b[1;33m=\u001b[0m \u001b[0mvec_field\u001b[0m\u001b[1;33m[\u001b[0m\u001b[1;33m(\u001b[0m\u001b[0mx\u001b[0m\u001b[1;33m,\u001b[0m\u001b[0my\u001b[0m\u001b[1;33m)\u001b[0m\u001b[1;33m]\u001b[0m\u001b[1;33m\u001b[0m\u001b[0m\n",
      "\u001b[1;31mNameError\u001b[0m: name 'pt' is not defined"
     ]
    }
   ],
   "source": [
    "\"\"\"\n",
    "Retrieve a Vector from the Field\n",
    "Given a vector field described as a dict indexed by vector anchors, retrieve from the field the Vec that is nearest to a given Point.\n",
    "\"\"\"\n",
    "x,y = math.floor(pt.x),floor(pt.y)\n",
    "vec = vec_field[(x,y)]"
   ]
  },
  {
   "cell_type": "markdown",
   "metadata": {},
   "source": [
    "<img src=\"http://geometric-computation-images.s3-website-us-east-1.amazonaws.com/1.04.P08.jpg\" style=\"width: 200px; display: inline;\"><img src=\"http://geometric-computation-images.s3-website-us-east-1.amazonaws.com/1.04.P09.jpg\" style=\"width: 200px; display: inline;\"><img src=\"http://geometric-computation-images.s3-website-us-east-1.amazonaws.com/1.04.P10.jpg\" style=\"width: 200px; display: inline;\">"
   ]
  },
  {
   "cell_type": "code",
   "execution_count": 15,
   "metadata": {},
   "outputs": [
    {
     "name": "stdout",
     "output_type": "stream",
     "text": [
      "a & b are not identical,\n",
      "a & b are equal\n"
     ]
    }
   ],
   "source": [
    "\"\"\"\n",
    "Equal Non-Identical Objects\n",
    "Two variables are equal if the core attributes of their objects are equal, even if the two objects referred to are distinct. Note that structured data types, such as the geometric objects that comprise the Decod.es library, must explicitly define an equality comparison method in order to be compared in this way.\n",
    "\"\"\"\n",
    "pt_a = Point(2,2)\n",
    "pt_b = Point(2,2)\n",
    "if pt_a is pt_b: print( \"a & b are identical,\")\n",
    "if pt_a is not pt_b: print( \"a & b are not identical,\" )   \n",
    "if pt_a == pt_b: print( \"a & b are equal\")\n",
    "if pt_a != pt_b: print( \"a & b are not equal\")"
   ]
  },
  {
   "cell_type": "code",
   "execution_count": 16,
   "metadata": {},
   "outputs": [
    {
     "name": "stdout",
     "output_type": "stream",
     "text": [
      "a & c are identical,\n",
      "a & c are equal\n"
     ]
    }
   ],
   "source": [
    "\"\"\"\n",
    "Equal Identical Objects\n",
    "Two variables are identical if they refer to the same object in memory. They remain non-identical even if these two objects contain attributes that are exactly the same.\n",
    "\"\"\"\n",
    "pt_c = pt_a\n",
    "if pt_a is pt_c: print( \"a & c are identical,\")\n",
    "if pt_a is not pt_c: print (\"a & c are not identical,\")    \n",
    "if pt_a == pt_c: print (\"a & c are equal\")\n",
    "if pt_a != pt_c: print (\"a & c are not equal\" )  "
   ]
  },
  {
   "cell_type": "code",
   "execution_count": 17,
   "metadata": {},
   "outputs": [
    {
     "ename": "NameError",
     "evalue": "name 'pts' is not defined",
     "output_type": "error",
     "traceback": [
      "\u001b[1;31m---------------------------------------------------------------------------\u001b[0m",
      "\u001b[1;31mNameError\u001b[0m                                 Traceback (most recent call last)",
      "\u001b[1;32m<ipython-input-17-4ea42dc9bdb1>\u001b[0m in \u001b[0;36m<module>\u001b[1;34m()\u001b[0m\n\u001b[0;32m      4\u001b[0m \"\"\"\n\u001b[0;32m      5\u001b[0m \u001b[0msegs\u001b[0m \u001b[1;33m=\u001b[0m \u001b[1;33m[\u001b[0m\u001b[1;33m]\u001b[0m\u001b[1;33m\u001b[0m\u001b[0m\n\u001b[1;32m----> 6\u001b[1;33m \u001b[1;32mfor\u001b[0m \u001b[0mpt\u001b[0m \u001b[1;32min\u001b[0m \u001b[0mpts\u001b[0m\u001b[1;33m:\u001b[0m\u001b[1;33m\u001b[0m\u001b[0m\n\u001b[0m\u001b[0;32m      7\u001b[0m     \u001b[0mnear_pts\u001b[0m \u001b[1;33m=\u001b[0m \u001b[0mPoint\u001b[0m\u001b[1;33m.\u001b[0m\u001b[0msorted_by_distance\u001b[0m\u001b[1;33m(\u001b[0m\u001b[0mpts\u001b[0m\u001b[1;33m,\u001b[0m\u001b[0mpt\u001b[0m\u001b[1;33m)\u001b[0m\u001b[1;33m[\u001b[0m\u001b[1;36m1\u001b[0m\u001b[1;33m:\u001b[0m\u001b[1;33m]\u001b[0m\u001b[1;33m\u001b[0m\u001b[0m\n\u001b[0;32m      8\u001b[0m     \u001b[1;32mfor\u001b[0m \u001b[0mn\u001b[0m \u001b[1;32min\u001b[0m \u001b[0mrange\u001b[0m\u001b[1;33m(\u001b[0m\u001b[0mcount\u001b[0m\u001b[1;33m)\u001b[0m\u001b[1;33m:\u001b[0m\u001b[1;33m\u001b[0m\u001b[0m\n",
      "\u001b[1;31mNameError\u001b[0m: name 'pts' is not defined"
     ]
    }
   ],
   "source": [
    "\"\"\"\n",
    "Nearest-Neighbor Web with Duplicates\n",
    "Using a simple List to store resulting segments, connections are drawn between each Point in a collection and a given number of nearby neighboring Points. This results in a number of overlapping Segments that can be difficult to identify.\n",
    "\"\"\"\n",
    "segs = []\n",
    "for pt in pts:\n",
    "    near_pts = Point.sorted_by_distance(pts,pt)[1:]\n",
    "    for n in range(count):\n",
    "        segs.append( Segment(near_pts[n],pt ) )"
   ]
  },
  {
   "cell_type": "code",
   "execution_count": 18,
   "metadata": {},
   "outputs": [
    {
     "ename": "NameError",
     "evalue": "name 'pts' is not defined",
     "output_type": "error",
     "traceback": [
      "\u001b[1;31m---------------------------------------------------------------------------\u001b[0m",
      "\u001b[1;31mNameError\u001b[0m                                 Traceback (most recent call last)",
      "\u001b[1;32m<ipython-input-18-521d7370659d>\u001b[0m in \u001b[0;36m<module>\u001b[1;34m()\u001b[0m\n\u001b[0;32m      4\u001b[0m \"\"\"\n\u001b[0;32m      5\u001b[0m \u001b[0medges\u001b[0m \u001b[1;33m=\u001b[0m \u001b[1;33m{\u001b[0m\u001b[1;33m}\u001b[0m\u001b[1;33m\u001b[0m\u001b[0m\n\u001b[1;32m----> 6\u001b[1;33m \u001b[1;32mfor\u001b[0m \u001b[0mpt\u001b[0m \u001b[1;32min\u001b[0m \u001b[0mpts\u001b[0m\u001b[1;33m:\u001b[0m\u001b[1;33m\u001b[0m\u001b[0m\n\u001b[0m\u001b[0;32m      7\u001b[0m     \u001b[0mnear_pts\u001b[0m \u001b[1;33m=\u001b[0m \u001b[0mPoint\u001b[0m\u001b[1;33m.\u001b[0m\u001b[0msorted_by_distance\u001b[0m\u001b[1;33m(\u001b[0m\u001b[0mpts\u001b[0m\u001b[1;33m,\u001b[0m\u001b[0mpt\u001b[0m\u001b[1;33m)\u001b[0m\u001b[1;33m[\u001b[0m\u001b[1;36m1\u001b[0m\u001b[1;33m:\u001b[0m\u001b[1;33m]\u001b[0m\u001b[1;33m\u001b[0m\u001b[0m\n\u001b[0;32m      8\u001b[0m     \u001b[1;32mfor\u001b[0m \u001b[0mn\u001b[0m \u001b[1;32min\u001b[0m \u001b[0mrange\u001b[0m\u001b[1;33m(\u001b[0m\u001b[0mcount\u001b[0m\u001b[1;33m)\u001b[0m\u001b[1;33m:\u001b[0m\u001b[1;33m\u001b[0m\u001b[0m\n",
      "\u001b[1;31mNameError\u001b[0m: name 'pts' is not defined"
     ]
    }
   ],
   "source": [
    "\"\"\"\n",
    "A Unique Nearest-Neighbor Web\n",
    "Storing resulting Segments with its endpoints as a key, we can identify and avoid overlaps as Segments are created.\n",
    "\"\"\"\n",
    "edges = {}\n",
    "for pt in pts:\n",
    "    near_pts = Point.sorted_by_distance(pts,pt)[1:]\n",
    "    for n in range(count):\n",
    "        if (pt,near_pts[n]) not in edges:\n",
    "            edges[(near_pts[n],pt)] = Segment(near_pts[n],pt)\n",
    "    \n",
    "segs = [Segment(edge[0],edge[1]) for edge in edges]"
   ]
  },
  {
   "cell_type": "markdown",
   "metadata": {},
   "source": [
    "<img src=\"http://geometric-computation-images.s3-website-us-east-1.amazonaws.com/1.04.P11_100.jpg\" style=\"width: 600px; display: inline;\">"
   ]
  },
  {
   "cell_type": "code",
   "execution_count": null,
   "metadata": {},
   "outputs": [],
   "source": []
  }
 ],
 "metadata": {
  "kernelspec": {
   "display_name": "Python 3",
   "language": "python",
   "name": "python3"
  },
  "language_info": {
   "codemirror_mode": {
    "name": "ipython",
    "version": 3
   },
   "file_extension": ".py",
   "mimetype": "text/x-python",
   "name": "python",
   "nbconvert_exporter": "python",
   "pygments_lexer": "ipython3",
   "version": "3.6.4"
  }
 },
 "nbformat": 4,
 "nbformat_minor": 2
}
