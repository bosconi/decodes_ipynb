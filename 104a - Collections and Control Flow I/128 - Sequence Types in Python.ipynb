{
 "cells": [
  {
   "cell_type": "code",
   "execution_count": 2,
   "metadata": {},
   "outputs": [
    {
     "name": "stdout",
     "output_type": "stream",
     "text": [
      "http://decod.es/\tv0.2.3\n",
      "io loaded\n"
     ]
    }
   ],
   "source": [
    "from decodes.core import *\n",
    "from decodes.io.jupyter_out import JupyterOut\n",
    "out = JupyterOut.unit_square( )"
   ]
  },
  {
   "cell_type": "markdown",
   "metadata": {},
   "source": [
    "# Sequence Types in Python\n",
    "\n",
    "Linear types exhibit all the characteristics we expect in a collection in code: items are organized sequentially, arranged in the order in which they are received, and accessed via a numeric index.\n",
    "\n",
    "Before presenting the three Python sequence types - Strings, Lists, and Tuples - we first discuss the features, methods, and operators they hold in common. These common features include access, assignment, and manipulation via slicing."
   ]
  },
  {
   "cell_type": "markdown",
   "metadata": {},
   "source": [
    "## Basic Features of Sequences"
   ]
  },
  {
   "cell_type": "code",
   "execution_count": 1,
   "metadata": {},
   "outputs": [],
   "source": [
    "str_seq = 'civilization and its discotheques'\n",
    "fib_seq = [1,  1,  2,  3,  5,  8]"
   ]
  },
  {
   "cell_type": "markdown",
   "metadata": {},
   "source": [
    "<table style=\"width:600px\">\n",
    "    \n",
    "<tr>\n",
    "    <th colspan=\"3\" style=\"text-align:left\">*Operators and Methods Common to Sequence Types*</th>\n",
    "</tr>\n",
    "\n",
    "<tr>\n",
    "    <td style=\"width:20%\">Length<br>`len(seq)`</td>\n",
    "    <td style=\"width:60%\">Returns the number of items held within the sequence.</td>\n",
    "    <td style=\"width:20%\">`print len(str_seq)`<br>\\>>`33`</td>\n",
    "</tr>\n",
    "\n",
    "<tr>\n",
    "    <td style=\"width:20%\">Membership (`in`)<br>`item in seq`</td>\n",
    "    <td style=\"width:60%\">Returns the Boolean that results from testing for the presence of the given item.</td>\n",
    "    <td style=\"width:20%\">`print 'o' in str_seq`<br>\\>>`True`</td>\n",
    "</tr>\n",
    "\n",
    "<tr>\n",
    "    <td style=\"width:20%\">Index<br>`seq.index(item)`</td>\n",
    "    <td style=\"width:60%\">Returns the index of the first item in the sequence whose value is equal to the given item.</td>\n",
    "    <td style=\"width:20%\">`print str_seq.index('o')`<br>\\>>`10`</td>\n",
    "</tr>\n",
    "\n",
    "<tr>\n",
    "    <td style=\"width:20%\">Count<br>`seq.count(item)`</td>\n",
    "    <td style=\"width:60%\">Returns the number of items in this collection that are equal to a given item.</td>\n",
    "    <td style=\"width:20%\">`print str_seq.count('o')`<br>\\>>`2`</td>\n",
    "</tr>\n",
    "\n",
    "<tr>\n",
    "    <td style=\"width:20%\">Concatenation (`+`)<br>`seq + other_seq`</td>\n",
    "    <td style=\"width:60%\">Returns the combination of any given sequences strung together as a chain.</td>\n",
    "    <td style=\"width:20%\">`print fib_seq + [13, 21, 34]`<br>\\>>`[1, 1, 2, 3, 5, 8, 13, 21, 34]`</td>\n",
    "</tr>\n",
    "\n",
    "<tr>\n",
    "    <td style=\"width:20%\">Repetition (`*`)<br>`seq * Integer`</td>\n",
    "    <td style=\"width:60%\">Repeats an element a given number of times.</td>\n",
    "    <td style=\"width:20%\">`print [0,1] * 3`<br>\\>>`[0, 1, 0, 1, 0, 1]`</td>\n",
    "</tr>\n",
    "\n",
    "<tr>\n",
    "    <td style=\"width:20%\">Minimum<br>`min(seq)`</td>\n",
    "    <td style=\"width:60%\">Returns the smallest item found in the sequence.</td>\n",
    "    <td style=\"width:20%\">`print min(fib_seq)`<br>\\>>`1`</td>\n",
    "</tr>\n",
    "\n",
    "<tr>\n",
    "    <td style=\"width:20%\">Maximum<br>`max(seq)`</td>\n",
    "    <td style=\"width:60%\">Returns the largest item found in the sequence.</td>\n",
    "    <td style=\"width:20%\">`print max(fib_seq)`<br>\\>>`8`</td>\n",
    "</tr>\n",
    "\n",
    "</table>\n",
    "\n"
   ]
  },
  {
   "cell_type": "markdown",
   "metadata": {},
   "source": [
    "## Sequence Access via the Square-Bracket\n",
    "\n",
    "The square-bracket notation is the primary mechanism for accessing Strings, Lists, and Tuples in Python. Retrieving individual items in a sequence is called  ***indexing***, and may be generalized as:\n",
    "\n",
    "    sequence [ index ]\n",
    "\n",
    "Formally defined, the ***index*** of an item in a sequence is ***an Integer number that corresponds to the position of the item*** in the collection.\n",
    "\n"
   ]
  },
  {
   "cell_type": "code",
   "execution_count": 5,
   "metadata": {},
   "outputs": [
    {
     "name": "stdout",
     "output_type": "stream",
     "text": [
      "e\n"
     ]
    }
   ],
   "source": [
    "msg = \"i've got 99 problems\"\n",
    "print( msg[3] )"
   ]
  },
  {
   "cell_type": "markdown",
   "metadata": {},
   "source": [
    "Notice that we retrieved the “e” character, not the “v” character. This is because computers always start counting items with the number zero, so the indexing of collections starts with index `0`, the \"zeroth\" item, not index `1`, the \"first\" item."
   ]
  },
  {
   "cell_type": "code",
   "execution_count": 6,
   "metadata": {},
   "outputs": [
    {
     "name": "stdout",
     "output_type": "stream",
     "text": [
      "m\n"
     ]
    }
   ],
   "source": [
    "msg = \"i've got 99 problems\"\n",
    "print( msg[-2] )"
   ]
  },
  {
   "cell_type": "markdown",
   "metadata": {},
   "source": [
    "### Slicing\n",
    "\n",
    "The most common manipulation on a collection is defining a ***subset***, a general operation that may be understood to include the resizing, trimming, and selection of specific patterns of items from within a given collection.\n",
    "\n",
    "In Python we extract sub-collections by ***slicing***, which is done by enclosing more than one index within square-brackets, separated by colons.\n",
    "\n",
    "The syntax for a simple slice can be expressed as:\n",
    "\n",
    "    sequence [ start_index : end_index ]\n",
    "\n",
    "This expression results in the creation of ***a new collection*** containing a subset of elements from the old one. The first argument is inclusive and the second exclusive, such that the new sequence will start with the item at `start_index` and end with the one at `end_index-1`."
   ]
  },
  {
   "cell_type": "code",
   "execution_count": 7,
   "metadata": {},
   "outputs": [
    {
     "name": "stdout",
     "output_type": "stream",
     "text": [
      "got\n"
     ]
    }
   ],
   "source": [
    "msg = \"i've got 99 problems\"\n",
    "print ( msg[5:8] )"
   ]
  },
  {
   "cell_type": "markdown",
   "metadata": {},
   "source": [
    "Leaving out the start or end index results in the default value of `0`, or the total length of the collection to be respectively assumed. Negative indices are permitted, and are interpreted as referring to items starting at the end of the collection."
   ]
  },
  {
   "cell_type": "code",
   "execution_count": 8,
   "metadata": {},
   "outputs": [
    {
     "name": "stdout",
     "output_type": "stream",
     "text": [
      "i've got a problem\n"
     ]
    }
   ],
   "source": [
    "msg = \"i've got 99 problems\"\n",
    "print ( msg[:8] + ' a ' + msg[12:-1] )"
   ]
  },
  {
   "cell_type": "markdown",
   "metadata": {},
   "source": [
    "<table style=\"width:600px\">\n",
    "    \n",
    "<tr>\n",
    "    <th colspan=\"3\" style=\"text-align:left\">*Sequence Slicing*</th>\n",
    "</tr>\n",
    "\n",
    "<tr>\n",
    "    <td style=\"width:20%\">`seq[a:b]`</td>\n",
    "    <td style=\"width:60%\">Returns a new sequence that starts with item `seq[a]` and ends with item `seq[b-1]`.</td>\n",
    "    <td style=\"width:20%\">`print msg[5:8]`<br>\\>>`got`</td>\n",
    "</tr>\n",
    "\n",
    "<tr>\n",
    "    <td style=\"width:20%\">`seq[a:]`</td>\n",
    "    <td style=\"width:60%\">Returns a new sequence that starts with `seq[a]` and ends with `seq[-1]`.</td>\n",
    "    <td style=\"width:20%\">`print msg[:4]`<br>\\>>`i've`</td>\n",
    "</tr>\n",
    "<tr>\n",
    "    <td style=\"width:20%\">`seq[:b]`</td>\n",
    "    <td style=\"width:60%\">Returns a new sequence that starts with the first item in the given sequence and ends with item `seq[b-1]`.</td>\n",
    "    <td style=\"width:20%\">`print msg[-8:]`<br>\\>>`problems`</td>\n",
    "</tr>\n",
    "<tr>\n",
    "    <td style=\"width:20%\">`seq[:]`</td>\n",
    "    <td style=\"width:60%\">Returns an exact copy of the given sequence.</td>\n",
    "    <td style=\"width:20%\">`print msg[:]`<br>\\>>`i've got 99 problems`</td>\n",
    "</tr>\n",
    "<tr>\n",
    "    <td style=\"width:20%\">`seq[a:b:c]`</td>\n",
    "    <td style=\"width:60%\">Returns a new sequence that starts with item `seq[a]`, ends with item `seq[b-1]`, and contains items selected in steps of `c`.</td>\n",
    "    <td style=\"width:20%\">`print msg[12:19:2]`<br>\\>>`polm`</td>\n",
    "</tr>\n",
    "\n",
    "</table>"
   ]
  },
  {
   "cell_type": "markdown",
   "metadata": {},
   "source": [
    "Slicing can be put to use in a suprising array of applications. Consider the code below in which slicing is used to create new sub-collections containing properly-indexed start and end Points.\n"
   ]
  },
  {
   "cell_type": "code",
   "execution_count": 18,
   "metadata": {},
   "outputs": [],
   "source": [
    "\"\"\"\n",
    "Threading a Polyline\n",
    "Given a List of Points pts that lie along a non-periodic curve, creates \n",
    "Segments between sequential pairs of Points and appends them to a given \n",
    "List segs.\n",
    "\"\"\"\n",
    "# this is a list comprehension (we'll cover this syntax soon)\n",
    "# for now, we can just understand that a list of Points is constructed\n",
    "pts = [Point(t,math.sin(t)) for t in Interval.pi()/10]\n",
    "segs = []\n",
    "\n",
    "# start points include all but the last item\n",
    "spts = pts[:-1]\n",
    "# end points include all but the first item\n",
    "epts = pts[1:]\n",
    "\n",
    "for n in range(len(pts)-1): \n",
    "    seg = Segment(spts[n],epts[n])\n",
    "    segs.append(seg)\n",
    "\n",
    "out.put(segs)\n",
    "#out.draw()"
   ]
  },
  {
   "cell_type": "markdown",
   "metadata": {},
   "source": [
    "<img src=\"http://geometric-computation-images.s3-website-us-east-1.amazonaws.com/1.04.P12.jpg\" style=\"width: 200px; display: inline;\">"
   ]
  },
  {
   "cell_type": "markdown",
   "metadata": {},
   "source": [
    "Here, a series of Segments is threaded across a specific row of a given List of Points that approximates a grid."
   ]
  },
  {
   "cell_type": "code",
   "execution_count": 20,
   "metadata": {},
   "outputs": [
    {
     "ename": "IndexError",
     "evalue": "list index out of range",
     "output_type": "error",
     "traceback": [
      "\u001b[1;31m---------------------------------------------------------------------------\u001b[0m",
      "\u001b[1;31mIndexError\u001b[0m                                Traceback (most recent call last)",
      "\u001b[1;32m<ipython-input-20-19a21aba8def>\u001b[0m in \u001b[0;36m<module>\u001b[1;34m()\u001b[0m\n\u001b[0;32m     17\u001b[0m \u001b[0mepts\u001b[0m \u001b[1;33m=\u001b[0m \u001b[0mpts\u001b[0m\u001b[1;33m[\u001b[0m\u001b[0mnum\u001b[0m\u001b[1;33m+\u001b[0m\u001b[0mcnt\u001b[0m\u001b[1;33m:\u001b[0m\u001b[1;33m:\u001b[0m\u001b[0mcnt\u001b[0m\u001b[1;33m]\u001b[0m\u001b[1;33m\u001b[0m\u001b[0m\n\u001b[0;32m     18\u001b[0m \u001b[1;32mfor\u001b[0m \u001b[0mn\u001b[0m \u001b[1;32min\u001b[0m \u001b[0mrange\u001b[0m\u001b[1;33m(\u001b[0m\u001b[0mcnt\u001b[0m\u001b[1;33m-\u001b[0m\u001b[1;36m1\u001b[0m\u001b[1;33m)\u001b[0m\u001b[1;33m:\u001b[0m\u001b[1;33m\u001b[0m\u001b[0m\n\u001b[1;32m---> 19\u001b[1;33m     \u001b[0msegs\u001b[0m\u001b[1;33m.\u001b[0m\u001b[0mappend\u001b[0m\u001b[1;33m(\u001b[0m\u001b[0mSegment\u001b[0m\u001b[1;33m(\u001b[0m\u001b[0mspts\u001b[0m\u001b[1;33m[\u001b[0m\u001b[0mn\u001b[0m\u001b[1;33m]\u001b[0m\u001b[1;33m,\u001b[0m\u001b[0mepts\u001b[0m\u001b[1;33m[\u001b[0m\u001b[0mn\u001b[0m\u001b[1;33m]\u001b[0m\u001b[1;33m)\u001b[0m\u001b[1;33m)\u001b[0m\u001b[1;33m\u001b[0m\u001b[0m\n\u001b[0m\u001b[0;32m     20\u001b[0m \u001b[1;33m\u001b[0m\u001b[0m\n",
      "\u001b[1;31mIndexError\u001b[0m: list index out of range"
     ]
    }
   ],
   "source": [
    "\"\"\"\n",
    "Threading a Polyline through a Grid\n",
    "Given a List of Points pts that follow a grid of rows and columns, and \n",
    "given the number of Points per row, creates Segments between sequential \n",
    "pairs of Points that fall within a given column and appends them to a \n",
    "given List segs.\n",
    "\"\"\"\n",
    "\n",
    "segs = []\n",
    "\n",
    "# point count per row\n",
    "cnt = 4\n",
    "# index of the column along which to draw a line\n",
    "num = 1\n",
    "\n",
    "spts = pts[num::cnt]\n",
    "epts = pts[num+cnt::cnt]\n",
    "for n in range(cnt-1): \n",
    "    segs.append(Segment(spts[n],epts[n]))\n",
    "    "
   ]
  },
  {
   "cell_type": "markdown",
   "metadata": {},
   "source": [
    "<img src=\"http://geometric-computation-images.s3-website-us-east-1.amazonaws.com/1.04.P13.jpg\" style=\"width: 200px; display: inline;\">"
   ]
  },
  {
   "cell_type": "markdown",
   "metadata": {},
   "source": [
    "## Features Unique to Sequence Subclasses\n",
    "\n",
    "Certain collection types demand features not shared by other types. This section focuses on these differentiating features, which foreground the ways in which these types may be used in context.\n"
   ]
  },
  {
   "cell_type": "markdown",
   "metadata": {},
   "source": [
    "### Tuples\n",
    "\n",
    "The chief distinguishing characteristic of the Tuple sequence in Python is its ***immutability***. While we might be tempted to view the Tuple as a stripped-down List, consider its unique applications.\n",
    "\n",
    "#### Tuple Packing and Unpacking\n",
    "\n",
    "There is a syntactic construct that makes the Tuple one of the most frequently\n",
    "used collection types in Python: ***packing and unpacking***. Tuples are often used as a rudimentary way of grouping data. Python offers a special syntax for defining such collections, which results in the creation of a Tuple. \n",
    "\n",
    "Simply separating a series of identifiers by commas will create a Tuple, and is termed ***packing***, but the reverse assignment statement is also valid, and is known as ***unpacking***."
   ]
  },
  {
   "cell_type": "code",
   "execution_count": 26,
   "metadata": {},
   "outputs": [],
   "source": [
    "\"\"\"\n",
    "Tuple Packing and Unpacking\n",
    "In many cases, Tuples may be constructed with or without enclosing parenthesis.\n",
    "\"\"\"\n",
    "# a tuple is packed\n",
    "case_study = \"Eames House\", \"Charles and Ray Eames\", 1949\n",
    "# a tuple is unpacked\n",
    "name, architect, date_built = case_study"
   ]
  },
  {
   "cell_type": "markdown",
   "metadata": {},
   "source": [
    "<img src=\"http://geometric-computation-images.s3-website-us-east-1.amazonaws.com/1.04.P26.jpg\" style=\"width: 400px; display: inline;\">"
   ]
  },
  {
   "cell_type": "markdown",
   "metadata": {},
   "source": [
    "This same syntax may be employed in the construction of a loop that allows us to ***iterate over the values found in a series of unpacked Tuples***. The following code asks us to imagine a List of Tuples similar in structure to the case_study Tuple above. Running this code, we would observe one cycle of the loop for each Tuple in the given List."
   ]
  },
  {
   "cell_type": "code",
   "execution_count": 27,
   "metadata": {},
   "outputs": [
    {
     "ename": "NameError",
     "evalue": "name 'case_studies' is not defined",
     "output_type": "error",
     "traceback": [
      "\u001b[1;31m---------------------------------------------------------------------------\u001b[0m",
      "\u001b[1;31mNameError\u001b[0m                                 Traceback (most recent call last)",
      "\u001b[1;32m<ipython-input-27-5cc1fea0d46c>\u001b[0m in \u001b[0;36m<module>\u001b[1;34m()\u001b[0m\n\u001b[0;32m      5\u001b[0m \u001b[0mTuple\u001b[0m \u001b[0mto\u001b[0m \u001b[0mform\u001b[0m \u001b[0ma\u001b[0m \u001b[0mloop\u001b[0m\u001b[1;33m.\u001b[0m\u001b[1;33m\u001b[0m\u001b[0m\n\u001b[0;32m      6\u001b[0m \"\"\"\n\u001b[1;32m----> 7\u001b[1;33m \u001b[1;32mfor\u001b[0m \u001b[0mname\u001b[0m\u001b[1;33m,\u001b[0m \u001b[0marchitect\u001b[0m\u001b[1;33m,\u001b[0m \u001b[0mdate_built\u001b[0m \u001b[1;32min\u001b[0m \u001b[0mcase_studies\u001b[0m\u001b[1;33m:\u001b[0m\u001b[1;33m\u001b[0m\u001b[0m\n\u001b[0m\u001b[0;32m      8\u001b[0m     \u001b[1;32mprint\u001b[0m\u001b[1;33m(\u001b[0m \u001b[0mname\u001b[0m \u001b[1;33m+\u001b[0m \u001b[1;34m\" was built by \"\u001b[0m \u001b[1;33m+\u001b[0m \u001b[0marchitect\u001b[0m \u001b[1;33m+\u001b[0m \u001b[1;34m\" in \"\u001b[0m \u001b[1;33m+\u001b[0m \u001b[0mdate_built\u001b[0m \u001b[1;33m)\u001b[0m\u001b[1;33m\u001b[0m\u001b[0m\n",
      "\u001b[1;31mNameError\u001b[0m: name 'case_studies' is not defined"
     ]
    }
   ],
   "source": [
    "\"\"\"\n",
    "Iterating Unpacked Tuples\n",
    "Given a List of Tuples describing the Case Study Houses (as above), \n",
    "a concise syntax may be employed to iteratively unpack values from each \n",
    "Tuple to form a loop.\n",
    "\"\"\"\n",
    "for name, architect, date_built in case_studies:\n",
    "    print( name + \" was built by \" + architect + \" in \" + date_built )"
   ]
  },
  {
   "cell_type": "markdown",
   "metadata": {},
   "source": [
    "#### The Zip Function\n",
    "\n",
    "There is a common pattern in code that relies upon the iteration over unpacked Tuples, which presents a good opportunity to introduce a useful built-in function: the `zip()` function.\n",
    "\n",
    "The `zip()` function constructs coordinated Tuples. \n",
    "\n",
    "Given any number of collections of related objects, this function returns a single List containing groups of corresponding items expressed as Tuples. Typically, each of the given Lists contains the same number of items.\n"
   ]
  },
  {
   "cell_type": "markdown",
   "metadata": {},
   "source": [
    "<img src=\"http://geometric-computation-images.s3-website-us-east-1.amazonaws.com/1.04.P14.jpg\" style=\"width: 400px; display: inline;\">"
   ]
  },
  {
   "cell_type": "code",
   "execution_count": 28,
   "metadata": {},
   "outputs": [
    {
     "name": "stdout",
     "output_type": "stream",
     "text": [
      "[('a', 1), ('b', 2), ('c', 3), ('d', 4)]\n"
     ]
    }
   ],
   "source": [
    "\"\"\"\n",
    "The Zip Function\n",
    "Tuples containing corresponding values of any number of given collections \n",
    "are returned by the built-in zip function.\n",
    "\"\"\"\n",
    "letters = ['a','b','c','d']\n",
    "numbers = [1,2,3,4]\n",
    "print( zip(letters,numbers) )"
   ]
  },
  {
   "cell_type": "markdown",
   "metadata": {},
   "source": [
    "Combining the `zip()` function with Tuple unpacking results in a pithy code pattern for iterating over corresponding items in a set of collections."
   ]
  },
  {
   "cell_type": "code",
   "execution_count": 41,
   "metadata": {},
   "outputs": [
    {
     "name": "stdout",
     "output_type": "stream",
     "text": [
      "[pt[0,0.0,0], pt[1,2.09439510239,1], pt[2,4.18879020479,0]]\n"
     ]
    }
   ],
   "source": [
    "\"\"\"\n",
    "Iterating Corresponding Collections\n",
    "A common code pattern for iterating over corresponding items in several lists is to combine Tuple unpacking with the zip function\n",
    "\"\"\"\n",
    "\n",
    "x_crds = list(range(3))\n",
    "y_crds = Interval.twopi()/3\n",
    "z_crds = [0,1,0]\n",
    "\n",
    "pts = []\n",
    "for x,y,z in zip(x_crds,y_crds,z_crds):\n",
    "    pts.append(Point(x,y,z))\n",
    "    \n",
    "print( pts )"
   ]
  },
  {
   "cell_type": "markdown",
   "metadata": {},
   "source": [
    "### Strings\n",
    "\n",
    "Although not immediately apparent, Strings, like Tuples, are immutable. This property manifests when we attempt to manipulate a String using item assignment, such as `str[2] = “k”`, which raises an error.\n",
    "\n",
    "Presented here are three methods; the reciprocal methods `str.split()` and `str.join()`, and the immensely flexible method `str.format()`."
   ]
  },
  {
   "cell_type": "markdown",
   "metadata": {},
   "source": [
    "<table style=\"width:600px\">\n",
    "    \n",
    "<tr>\n",
    "    <th colspan=\"3\" style=\"text-align:left\">*Selected Methods of a Python String*</th>\n",
    "</tr>\n",
    "\n",
    "<tr>\n",
    "    <td style=\"width:20%\">Split<br>`str.split(sep)`</td>\n",
    "    <td style=\"width:60%\">Returns a List of Strings that results from dividing the calling String each time the given separator is encountered. </td>\n",
    "    <td style=\"width:20%\">`msg = \"i've got 99 problems\"`<br>`msg.split(\"o\")`<br>\\>>`[\"i've g\", \"t 99 pr\", \"blems\"]`</td>\n",
    "</tr>\n",
    "\n",
    "<tr>\n",
    "    <td style=\"width:20%\">Join<br>`str.join(seq)`</td>\n",
    "    <td style=\"width:60%\">Returns a single String that results from the concatenation of each of the items in a given List, using the calling String as a separator.\n",
    "</td>\n",
    "    <td style=\"width:20%\">`lst = [\"duck\", \"duck\", \"goose\"]`<br>`\"; \".join(lst)`<br>\\>>`\"duck; duck; goose\"`</td>\n",
    "</tr>\n",
    "\n",
    "\n",
    "<tr>\n",
    "    <td style=\"width:20%\">Format<br>`str.format()`</td>\n",
    "    <td style=\"width:60%\">Returns a new String as a modified version of a given String, with any number of given arguments inserted as indicated.</td>\n",
    "    <td style=\"width:20%\">`n = 99`<br>`\"i've got {} problems\".format(n)`<br>\\>>`\"i've got 99 problems\"`</td>\n",
    "</tr>\n",
    "\n",
    "</table>"
   ]
  },
  {
   "cell_type": "code",
   "execution_count": null,
   "metadata": {},
   "outputs": [],
   "source": [
    "\"\"\"\n",
    "String Split\n",
    "Given a List of Strings containing comma-separated values from a TMY file, \n",
    "here we sum the total amount of precipitation for the year by splitting each \n",
    "String by the comma character, selecting the proper column, and converting \n",
    "to an Integer value.\n",
    "\"\"\"\n",
    "precipitation_col = 65\n",
    "total = 0\n",
    "for str in tmy_lines:\n",
    "    # the built-in int function converts a string to an integer\n",
    "    total += int( str.split(\",\")[precipitation_col] )"
   ]
  },
  {
   "cell_type": "code",
   "execution_count": null,
   "metadata": {},
   "outputs": [],
   "source": [
    "\"\"\"\n",
    "String Join\n",
    "Given three Lists of coordinated hourly values for a year, here we construct \n",
    "a List of Strings containing semicolon-separated values for each hour of the \n",
    "year.\n",
    "\"\"\"\n",
    "tmy_lines = []\n",
    "for db, wb, dp in zip(dry_bulb_vals, wet_bulb_vals, dew_point_vals):\n",
    "    tmy_lines.append( \";\".join( [db,wb,dp] ) )"
   ]
  },
  {
   "cell_type": "code",
   "execution_count": null,
   "metadata": {},
   "outputs": [],
   "source": [
    "\"\"\"\n",
    "String Formatting\n",
    "The format method is used to produce a neatly-formatted String from a given \n",
    "template (which includes placeholders denoted by curly-brackets) and any \n",
    "number of arguments.\n",
    "\"\"\"\n",
    "for name, architect, date_built in case_studies:\n",
    "    print  \"{0} was built by {1} in {2}\".format(name, architect, date_built)"
   ]
  },
  {
   "cell_type": "markdown",
   "metadata": {},
   "source": [
    "### Lists\n",
    "\n",
    "The Python List is the collection type most dominantly used in Python. Many of the methods and operators relevant to a List, such as square-bracket access and slicing, are broadly relevant to sequence types in general. The feature that distinguishes a List among other sequence types is its mutability, and consequently a number of methods are provided for its in-place manipulation."
   ]
  },
  {
   "cell_type": "markdown",
   "metadata": {},
   "source": [
    "<table style=\"width:600px\">\n",
    "    \n",
    "<tr>\n",
    "    <th colspan=\"3\" style=\"text-align:left\">*Selected Methods of a Python List*</th>\n",
    "</tr>\n",
    "\n",
    "<tr>\n",
    "    <td style=\"width:20%\">Append<br>`lst.append(item)`</td>\n",
    "    <td style=\"width:60%\">Adds an item to the end of the List. Note that in this example, another collection is passed.</td>\n",
    "    <td style=\"width:20%\">`fib_seq.append(“duck”)`<br>\\>>`[1, 1, 2, 3, 5, 8, 'duck']`</td>\n",
    "</tr>\n",
    "\n",
    "<tr>\n",
    "    <td style=\"width:20%\">Extend<br>`lst.extend(seq)`</td>\n",
    "    <td style=\"width:60%\">Concatenates the List with another.</td>\n",
    "    <td style=\"width:20%\">`fib_seq.extend([13,21])`<br>\\>>`[1, 1, 2, 3, 5, 8, 13, 21]`</td>\n",
    "</tr>\n",
    "\n",
    "<tr>\n",
    "    <td style=\"width:20%\">Insert<br>`lst.insert(index, item)`</td>\n",
    "    <td style=\"width:60%\">Adds an item to the List at a given index.</td>\n",
    "    <td style=\"width:20%\">`fib_seq.insert(3, “duck”)`<br>\\>>`[1, 1, 2, 'duck', 3, 5, 8]`</td>\n",
    "</tr>\n",
    "\n",
    "<tr>\n",
    "    <td style=\"width:20%\">Remove<br>`lst.remove(item)`</td>\n",
    "    <td style=\"width:60%\">Removes the first item found whose value is equal to the given item.</td>\n",
    "    <td style=\"width:20%\">`fib_seq.remove(1)`<br>\\>>`[1, 2, 3, 5, 8]`</td>\n",
    "</tr>\n",
    "\n",
    "<tr>\n",
    "    <td style=\"width:20%\">Reverse<br>`lst.reverse()`</td>\n",
    "    <td style=\"width:60%\">Inverts the order of the List in place.</td>\n",
    "    <td style=\"width:20%\">`fib_seq.reverse(1)`<br>\\>>`[8, 5, 3, 2, 1, 1]`</td>\n",
    "</tr>\n",
    "\n",
    "<tr>\n",
    "    <td style=\"width:20%\">Pop<br>`lst.pop(index)`</td>\n",
    "    <td style=\"width:60%\">Removes and returns the item at the given index.</td>\n",
    "    <td style=\"width:20%\">`fib_seq.pop(4)`<br>\\>>`5`<br>`print fib_seq`<br>\\>>`[1, 1, 2, 3, 8]`</td>\n",
    "</tr>\n",
    "\n",
    "\n",
    "\n",
    "</table>"
   ]
  },
  {
   "cell_type": "markdown",
   "metadata": {},
   "source": [
    "## Sorting\n",
    "\n",
    "The arrangement of items in a sequence according to a specified order is an ubiquitous operation in many computational settings. Sorting can be highly straightforward or an intensely complicated endeavor.\n",
    "\n"
   ]
  },
  {
   "cell_type": "markdown",
   "metadata": {},
   "source": [
    "### Sorting Primitives\n",
    "\n",
    "Two routines that are part of the standard Python library handle a large number of rudimentary sorting needs. \n",
    "\n",
    "The `lst.sort()` method modifies an existing List of objects in-place, while the function `sorted(lst)` returns a new List entirely. Both result in arrangements of primitive objects in the order that we would expect: \n",
    "* Numbers are sorted sequentially\n",
    "* Strings are ordered alphabetically\n",
    "* Booleans are arranged from False to True"
   ]
  },
  {
   "cell_type": "code",
   "execution_count": 42,
   "metadata": {},
   "outputs": [
    {
     "name": "stdout",
     "output_type": "stream",
     "text": [
      "[1, 1, 2, 3, 5, 8]\n"
     ]
    }
   ],
   "source": [
    "\"\"\"\n",
    "Sort\n",
    "The sort method orders a List in place\n",
    "\"\"\"\n",
    "antifib = [8, 5, 3, 2, 1, 1]\n",
    "antifib.sort()\n",
    "print( antifib )"
   ]
  },
  {
   "cell_type": "code",
   "execution_count": 43,
   "metadata": {},
   "outputs": [
    {
     "name": "stdout",
     "output_type": "stream",
     "text": [
      "[1, 1, 2, 3, 5, 8]\n"
     ]
    }
   ],
   "source": [
    "\"\"\"\n",
    "Sorted\n",
    "The sorted method returns a new List\n",
    "\"\"\"\n",
    "antifib = [8, 5, 3, 2, 1, 1]\n",
    "fib = sorted(antifib)\n",
    "print( fib )"
   ]
  },
  {
   "cell_type": "markdown",
   "metadata": {},
   "source": [
    "### Sorting Tuples\n",
    "\n",
    "Just as a List of primitive objects can be sorted, so too can a List of Tuples. The protocol in this case is similar to alphabetization. Tuples are ordered by comparing first elements, and then, that comparison being equal, are ordered by second elements, and so on."
   ]
  },
  {
   "cell_type": "code",
   "execution_count": 45,
   "metadata": {},
   "outputs": [
    {
     "name": "stdout",
     "output_type": "stream",
     "text": [
      "[('a', 1), ('a', 2), ('b', 1), ('b', 2), ('b', 3)]\n"
     ]
    }
   ],
   "source": [
    "\"\"\"\n",
    "Sorting Tuples\n",
    "Tuples are sorted first by their first element, next by their second element, \n",
    "and so on.\n",
    "\"\"\"\n",
    "tups = [ ('a',2), ('b',3), ('a',1), ('b',1), ('b',2) ]\n",
    "print( sorted(tups) )"
   ]
  },
  {
   "cell_type": "markdown",
   "metadata": {},
   "source": [
    "### Sorting Arbitrary Objects\n",
    "\n",
    "To apply the sorting methods described above to arbitrary structured objects, such as Decod.es geometry, there must be a mechanism to allow comparison of two given objects."
   ]
  },
  {
   "cell_type": "code",
   "execution_count": 46,
   "metadata": {},
   "outputs": [
    {
     "name": "stdout",
     "output_type": "stream",
     "text": [
      "[vec[0,0,0.0], vec[2,1,0.0], vec[1,6,0.0], vec[6,10,0.0]]\n"
     ]
    }
   ],
   "source": [
    "\"\"\"\n",
    "Sorting Vecs\n",
    "Structured objects may define a comparison method that is applied when sorting. \n",
    "Vecs are compared by their length.\n",
    "\"\"\"\n",
    "vecs = [ Vec(1,6), Vec(2,1), Vec(0,0), Vec(6,10) ]\n",
    "print( sorted(vecs) )"
   ]
  },
  {
   "cell_type": "markdown",
   "metadata": {},
   "source": [
    "### Custom Sorting\n",
    "\n",
    "In the event that it is not possible or appropriate to modify the relevant class definition, there is the option to employ custom sorting. We discuss this in a later section. For now, we can use a pattern of code for performing a custom sort: ***decorate-sort-undecorate***."
   ]
  },
  {
   "cell_type": "markdown",
   "metadata": {},
   "source": [
    "#### Decorate-Sort-Undecorate\n",
    "\n",
    "This code pattern takes advantage of the way that Python handles the sorting of Tuples, and effectively allows for the customized sorting of arbitrary objects. \n",
    "\n",
    "As the name implies, a target List is first “decorated” by constructing Tuples in a way that allows it to be sorted as intended. These Tuples are then sorted, and then “undecorated” by stripping away the excess information. \n",
    "\n",
    "In this way, the decoration is not a modification of an object per se, but rather the definition of an entirely new List of Tuples of two items each: the first item a value that controls the sort order, and the second an item from the\n",
    "target List. \n",
    "\n",
    "This approach allows sorting via the standard `lst.sort()` method, without the need to define an custom sorting function."
   ]
  },
  {
   "cell_type": "markdown",
   "metadata": {},
   "source": [
    "<img src=\"http://geometric-computation-images.s3-website-us-east-1.amazonaws.com/1.04.D08.jpg\" style=\"width: 600px; display: inline;\">"
   ]
  },
  {
   "cell_type": "code",
   "execution_count": 6,
   "metadata": {},
   "outputs": [
    {
     "name": "stdout",
     "output_type": "stream",
     "text": [
      "[pt[0.528924626205,0.325830360012,-0.452811582184], pt[0.601601650669,0.530158272077,0.856134996367], pt[0.108725925534,0.937322233748,0.0407951593799]]\n"
     ]
    }
   ],
   "source": [
    "\"\"\"\n",
    "Sorting via Decorate-Sort-Undecorate\n",
    "To sort an arbitrary structured data type, or to sort by an arbitrary value, \n",
    "we may use the decorate-sort-undecorate idiom. Here, a given list of Points pts\n",
    "is sorted by distance to a common Point attr_pt.\n",
    "\"\"\"\n",
    "attr_pt = Point()\n",
    "pts = [Point.random() for n in range(3)]\n",
    "\n",
    "decorated_tups = []\n",
    "for pt in pts: \n",
    "    # each tuple pairs a numeric distance with a related Point\n",
    "    decorated_tups.append( (pt.dist(attr_pt), pt) )\n",
    "\n",
    "# {at breakpoint A} the tuples are sorted by their first value\n",
    "decorated_tups.sort()\n",
    "\n",
    "# the list of tuples is 'unpacked' to a regular list of points\n",
    "sorted_pts = []\n",
    "for tup in decorated_tups : \n",
    "    sorted_pts.append(tup[1])\n",
    "    \n",
    "    \n",
    "print(pts)    "
   ]
  },
  {
   "cell_type": "markdown",
   "metadata": {},
   "source": [
    "This exact procedure is implemented as the static method `Point.sorted_by_distance()`."
   ]
  }
 ],
 "metadata": {
  "kernelspec": {
   "display_name": "Python 2",
   "language": "python",
   "name": "python2"
  },
  "language_info": {
   "codemirror_mode": {
    "name": "ipython",
    "version": 2
   },
   "file_extension": ".py",
   "mimetype": "text/x-python",
   "name": "python",
   "nbconvert_exporter": "python",
   "pygments_lexer": "ipython2",
   "version": "2.7.10"
  }
 },
 "nbformat": 4,
 "nbformat_minor": 2
}
