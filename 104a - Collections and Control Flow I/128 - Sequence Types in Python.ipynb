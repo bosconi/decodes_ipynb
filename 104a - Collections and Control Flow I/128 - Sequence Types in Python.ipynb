{
 "cells": [
  {
   "cell_type": "code",
   "execution_count": 2,
   "metadata": {},
   "outputs": [
    {
     "name": "stdout",
     "output_type": "stream",
     "text": [
      "http://decod.es/\tv0.2.3\n",
      "io loaded\n"
     ]
    }
   ],
   "source": [
    "from decodes.core import *\n",
    "from decodes.io.jupyter_out import JupyterOut\n",
    "out = JupyterOut.unit_square( )"
   ]
  },
  {
   "cell_type": "markdown",
   "metadata": {},
   "source": [
    "# Sequence Types in Python\n",
    "todo"
   ]
  },
  {
   "cell_type": "markdown",
   "metadata": {},
   "source": [
    "## Basic Features of Sequences"
   ]
  },
  {
   "cell_type": "code",
   "execution_count": 1,
   "metadata": {},
   "outputs": [],
   "source": [
    "str_seq = 'civilization and its discotheques'\n",
    "fib_seq = [1,  1,  2,  3,  5,  8]"
   ]
  },
  {
   "cell_type": "markdown",
   "metadata": {},
   "source": [
    "## Sequence Access via the Square-Bracket"
   ]
  },
  {
   "cell_type": "code",
   "execution_count": 5,
   "metadata": {},
   "outputs": [
    {
     "name": "stdout",
     "output_type": "stream",
     "text": [
      "e\n"
     ]
    }
   ],
   "source": [
    "msg = \"i've got 99 problems\"\n",
    "print( msg[3] )"
   ]
  },
  {
   "cell_type": "code",
   "execution_count": 6,
   "metadata": {},
   "outputs": [
    {
     "name": "stdout",
     "output_type": "stream",
     "text": [
      "m\n"
     ]
    }
   ],
   "source": [
    "msg = \"i've got 99 problems\"\n",
    "print( msg[-2] )"
   ]
  },
  {
   "cell_type": "markdown",
   "metadata": {},
   "source": [
    "### Slicing"
   ]
  },
  {
   "cell_type": "code",
   "execution_count": 7,
   "metadata": {},
   "outputs": [
    {
     "name": "stdout",
     "output_type": "stream",
     "text": [
      "got\n"
     ]
    }
   ],
   "source": [
    "msg = \"i've got 99 problems\"\n",
    "print ( msg[5:8] )"
   ]
  },
  {
   "cell_type": "code",
   "execution_count": 8,
   "metadata": {},
   "outputs": [
    {
     "name": "stdout",
     "output_type": "stream",
     "text": [
      "i've got a problem\n"
     ]
    }
   ],
   "source": [
    "msg = \"i've got 99 problems\"\n",
    "print ( msg[:8] + ' a ' + msg[12:-1] )"
   ]
  },
  {
   "cell_type": "code",
   "execution_count": 18,
   "metadata": {},
   "outputs": [],
   "source": [
    "\"\"\"\n",
    "Threading a Polyline\n",
    "Given a List of Points pts that lie along a non-periodic curve, creates \n",
    "Segments between sequential pairs of Points and appends them to a given \n",
    "List segs.\n",
    "\"\"\"\n",
    "# this is a list comprehension (we'll cover this syntax soon)\n",
    "# for now, we can just understand that a list of Points is constructed\n",
    "pts = [Point(t,math.sin(t)) for t in Interval.pi()/10]\n",
    "segs = []\n",
    "\n",
    "# start points include all but the last item\n",
    "spts = pts[:-1]\n",
    "# end points include all but the first item\n",
    "epts = pts[1:]\n",
    "\n",
    "for n in range(len(pts)-1): \n",
    "    seg = Segment(spts[n],epts[n])\n",
    "    segs.append(seg)\n",
    "\n",
    "out.put(segs)\n",
    "#out.draw()"
   ]
  },
  {
   "cell_type": "markdown",
   "metadata": {},
   "source": [
    "<img src=\"http://geometric-computation-images.s3-website-us-east-1.amazonaws.com/1.04.P12.jpg\" style=\"width: 200px; display: inline;\">"
   ]
  },
  {
   "cell_type": "code",
   "execution_count": 20,
   "metadata": {},
   "outputs": [
    {
     "ename": "IndexError",
     "evalue": "list index out of range",
     "output_type": "error",
     "traceback": [
      "\u001b[1;31m---------------------------------------------------------------------------\u001b[0m",
      "\u001b[1;31mIndexError\u001b[0m                                Traceback (most recent call last)",
      "\u001b[1;32m<ipython-input-20-19a21aba8def>\u001b[0m in \u001b[0;36m<module>\u001b[1;34m()\u001b[0m\n\u001b[0;32m     17\u001b[0m \u001b[0mepts\u001b[0m \u001b[1;33m=\u001b[0m \u001b[0mpts\u001b[0m\u001b[1;33m[\u001b[0m\u001b[0mnum\u001b[0m\u001b[1;33m+\u001b[0m\u001b[0mcnt\u001b[0m\u001b[1;33m:\u001b[0m\u001b[1;33m:\u001b[0m\u001b[0mcnt\u001b[0m\u001b[1;33m]\u001b[0m\u001b[1;33m\u001b[0m\u001b[0m\n\u001b[0;32m     18\u001b[0m \u001b[1;32mfor\u001b[0m \u001b[0mn\u001b[0m \u001b[1;32min\u001b[0m \u001b[0mrange\u001b[0m\u001b[1;33m(\u001b[0m\u001b[0mcnt\u001b[0m\u001b[1;33m-\u001b[0m\u001b[1;36m1\u001b[0m\u001b[1;33m)\u001b[0m\u001b[1;33m:\u001b[0m\u001b[1;33m\u001b[0m\u001b[0m\n\u001b[1;32m---> 19\u001b[1;33m     \u001b[0msegs\u001b[0m\u001b[1;33m.\u001b[0m\u001b[0mappend\u001b[0m\u001b[1;33m(\u001b[0m\u001b[0mSegment\u001b[0m\u001b[1;33m(\u001b[0m\u001b[0mspts\u001b[0m\u001b[1;33m[\u001b[0m\u001b[0mn\u001b[0m\u001b[1;33m]\u001b[0m\u001b[1;33m,\u001b[0m\u001b[0mepts\u001b[0m\u001b[1;33m[\u001b[0m\u001b[0mn\u001b[0m\u001b[1;33m]\u001b[0m\u001b[1;33m)\u001b[0m\u001b[1;33m)\u001b[0m\u001b[1;33m\u001b[0m\u001b[0m\n\u001b[0m\u001b[0;32m     20\u001b[0m \u001b[1;33m\u001b[0m\u001b[0m\n",
      "\u001b[1;31mIndexError\u001b[0m: list index out of range"
     ]
    }
   ],
   "source": [
    "\"\"\"\n",
    "Threading a Polyline through a Grid\n",
    "Given a List of Points pts that follow a grid of rows and columns, and \n",
    "given the number of Points per row, creates Segments between sequential \n",
    "pairs of Points that fall within a given column and appends them to a \n",
    "given List segs.\n",
    "\"\"\"\n",
    "\n",
    "segs = []\n",
    "\n",
    "# point count per row\n",
    "cnt = 4\n",
    "# index of the column along which to draw a line\n",
    "num = 1\n",
    "\n",
    "spts = pts[num::cnt]\n",
    "epts = pts[num+cnt::cnt]\n",
    "for n in range(cnt-1): \n",
    "    segs.append(Segment(spts[n],epts[n]))\n",
    "    "
   ]
  },
  {
   "cell_type": "markdown",
   "metadata": {},
   "source": [
    "<img src=\"http://geometric-computation-images.s3-website-us-east-1.amazonaws.com/1.04.P13.jpg\" style=\"width: 200px; display: inline;\">"
   ]
  },
  {
   "cell_type": "markdown",
   "metadata": {},
   "source": [
    "## Features Unique to Sequence Subclasses\n"
   ]
  },
  {
   "cell_type": "markdown",
   "metadata": {},
   "source": [
    "### Tuples"
   ]
  },
  {
   "cell_type": "markdown",
   "metadata": {},
   "source": [
    "<img src=\"http://geometric-computation-images.s3-website-us-east-1.amazonaws.com/1.04.P26.jpg\" style=\"width: 400px; display: inline;\">"
   ]
  },
  {
   "cell_type": "code",
   "execution_count": 26,
   "metadata": {},
   "outputs": [],
   "source": [
    "\"\"\"\n",
    "Tuple Packing and Unpacking\n",
    "In many cases, Tuples may be constructed with or without enclosing parenthesis.\n",
    "\"\"\"\n",
    "# a tuple is packed\n",
    "case_study = \"Eames House\", \"Charles and Ray Eames\", 1949\n",
    "# a tuple is unpacked\n",
    "name, architect, date_built = case_study"
   ]
  },
  {
   "cell_type": "code",
   "execution_count": 27,
   "metadata": {},
   "outputs": [
    {
     "ename": "NameError",
     "evalue": "name 'case_studies' is not defined",
     "output_type": "error",
     "traceback": [
      "\u001b[1;31m---------------------------------------------------------------------------\u001b[0m",
      "\u001b[1;31mNameError\u001b[0m                                 Traceback (most recent call last)",
      "\u001b[1;32m<ipython-input-27-5cc1fea0d46c>\u001b[0m in \u001b[0;36m<module>\u001b[1;34m()\u001b[0m\n\u001b[0;32m      5\u001b[0m \u001b[0mTuple\u001b[0m \u001b[0mto\u001b[0m \u001b[0mform\u001b[0m \u001b[0ma\u001b[0m \u001b[0mloop\u001b[0m\u001b[1;33m.\u001b[0m\u001b[1;33m\u001b[0m\u001b[0m\n\u001b[0;32m      6\u001b[0m \"\"\"\n\u001b[1;32m----> 7\u001b[1;33m \u001b[1;32mfor\u001b[0m \u001b[0mname\u001b[0m\u001b[1;33m,\u001b[0m \u001b[0marchitect\u001b[0m\u001b[1;33m,\u001b[0m \u001b[0mdate_built\u001b[0m \u001b[1;32min\u001b[0m \u001b[0mcase_studies\u001b[0m\u001b[1;33m:\u001b[0m\u001b[1;33m\u001b[0m\u001b[0m\n\u001b[0m\u001b[0;32m      8\u001b[0m     \u001b[1;32mprint\u001b[0m\u001b[1;33m(\u001b[0m \u001b[0mname\u001b[0m \u001b[1;33m+\u001b[0m \u001b[1;34m\" was built by \"\u001b[0m \u001b[1;33m+\u001b[0m \u001b[0marchitect\u001b[0m \u001b[1;33m+\u001b[0m \u001b[1;34m\" in \"\u001b[0m \u001b[1;33m+\u001b[0m \u001b[0mdate_built\u001b[0m \u001b[1;33m)\u001b[0m\u001b[1;33m\u001b[0m\u001b[0m\n",
      "\u001b[1;31mNameError\u001b[0m: name 'case_studies' is not defined"
     ]
    }
   ],
   "source": [
    "\"\"\"\n",
    "Iterating Unpacked Tuples\n",
    "Given a List of Tuples describing the Case Study Houses (as above), \n",
    "a concise syntax may be employed to iteratively unpack values from each \n",
    "Tuple to form a loop.\n",
    "\"\"\"\n",
    "for name, architect, date_built in case_studies:\n",
    "    print( name + \" was built by \" + architect + \" in \" + date_built )"
   ]
  },
  {
   "cell_type": "markdown",
   "metadata": {},
   "source": [
    "<img src=\"http://geometric-computation-images.s3-website-us-east-1.amazonaws.com/1.04.P14.jpg\" style=\"width: 400px; display: inline;\">"
   ]
  },
  {
   "cell_type": "code",
   "execution_count": 28,
   "metadata": {},
   "outputs": [
    {
     "name": "stdout",
     "output_type": "stream",
     "text": [
      "[('a', 1), ('b', 2), ('c', 3), ('d', 4)]\n"
     ]
    }
   ],
   "source": [
    "\"\"\"\n",
    "The Zip Function\n",
    "Tuples containing corresponding values of any number of given collections \n",
    "are returned by the built-in zip function.\n",
    "\"\"\"\n",
    "letters = ['a','b','c','d']\n",
    "numbers = [1,2,3,4]\n",
    "print( zip(letters,numbers) )"
   ]
  },
  {
   "cell_type": "code",
   "execution_count": 41,
   "metadata": {},
   "outputs": [
    {
     "name": "stdout",
     "output_type": "stream",
     "text": [
      "[pt[0,0.0,0], pt[1,2.09439510239,1], pt[2,4.18879020479,0]]\n"
     ]
    }
   ],
   "source": [
    "\"\"\"\n",
    "Iterating Corresponding Collections\n",
    "A common code pattern for iterating over corresponding items in several lists is to combine Tuple unpacking with the zip function\n",
    "\"\"\"\n",
    "\n",
    "x_crds = list(range(3))\n",
    "y_crds = Interval.twopi()/3\n",
    "z_crds = [0,1,0]\n",
    "\n",
    "pts = []\n",
    "for x,y,z in zip(x_crds,y_crds,z_crds):\n",
    "    pts.append(Point(x,y,z))\n",
    "    \n",
    "print( pts )"
   ]
  },
  {
   "cell_type": "markdown",
   "metadata": {},
   "source": [
    "### Strings"
   ]
  },
  {
   "cell_type": "code",
   "execution_count": null,
   "metadata": {},
   "outputs": [],
   "source": [
    "\"\"\"\n",
    "String Split\n",
    "Given a List of Strings containing comma-separated values from a TMY file, \n",
    "here we sum the total amount of precipitation for the year by splitting each \n",
    "String by the comma character, selecting the proper column, and converting \n",
    "to an Integer value.\n",
    "\"\"\"\n",
    "precipitation_col = 65\n",
    "total = 0\n",
    "for str in tmy_lines:\n",
    "    # the built-in int function converts a string to an integer\n",
    "    total += int( str.split(\",\")[precipitation_col] )"
   ]
  },
  {
   "cell_type": "code",
   "execution_count": null,
   "metadata": {},
   "outputs": [],
   "source": [
    "\"\"\"\n",
    "String Join\n",
    "Given three Lists of coordinated hourly values for a year, here we construct \n",
    "a List of Strings containing semicolon-separated values for each hour of the \n",
    "year.\n",
    "\"\"\"\n",
    "tmy_lines = []\n",
    "for db, wb, dp in zip(dry_bulb_vals, wet_bulb_vals, dew_point_vals):\n",
    "    tmy_lines.append( \";\".join( [db,wb,dp] ) )"
   ]
  },
  {
   "cell_type": "code",
   "execution_count": null,
   "metadata": {},
   "outputs": [],
   "source": [
    "\"\"\"\n",
    "String Formatting\n",
    "The format method is used to produce a neatly-formatted String from a given \n",
    "template (which includes placeholders denoted by curly-brackets) and any \n",
    "number of arguments.\n",
    "\"\"\"\n",
    "for name, architect, date_built in case_studies:\n",
    "    print  \"{0} was built by {1} in {2}\".format(name, architect, date_built)"
   ]
  },
  {
   "cell_type": "markdown",
   "metadata": {},
   "source": [
    "### Lists"
   ]
  },
  {
   "cell_type": "markdown",
   "metadata": {},
   "source": [
    "## Sorting"
   ]
  },
  {
   "cell_type": "markdown",
   "metadata": {},
   "source": [
    "### Sorting Primitives"
   ]
  },
  {
   "cell_type": "code",
   "execution_count": 42,
   "metadata": {},
   "outputs": [
    {
     "name": "stdout",
     "output_type": "stream",
     "text": [
      "[1, 1, 2, 3, 5, 8]\n"
     ]
    }
   ],
   "source": [
    "\"\"\"\n",
    "Sort\n",
    "The sort method orders a List in place\n",
    "\"\"\"\n",
    "antifib = [8, 5, 3, 2, 1, 1]\n",
    "antifib.sort()\n",
    "print( antifib )"
   ]
  },
  {
   "cell_type": "code",
   "execution_count": 43,
   "metadata": {},
   "outputs": [
    {
     "name": "stdout",
     "output_type": "stream",
     "text": [
      "[1, 1, 2, 3, 5, 8]\n"
     ]
    }
   ],
   "source": [
    "\"\"\"\n",
    "Sorted\n",
    "The sorted method returns a new List\n",
    "\"\"\"\n",
    "antifib = [8, 5, 3, 2, 1, 1]\n",
    "fib = sorted(antifib)\n",
    "print( fib )"
   ]
  },
  {
   "cell_type": "markdown",
   "metadata": {},
   "source": [
    "### Sorting Tuples"
   ]
  },
  {
   "cell_type": "code",
   "execution_count": 45,
   "metadata": {},
   "outputs": [
    {
     "name": "stdout",
     "output_type": "stream",
     "text": [
      "[('a', 1), ('a', 2), ('b', 1), ('b', 2), ('b', 3)]\n"
     ]
    }
   ],
   "source": [
    "\"\"\"\n",
    "Sorting Tuples\n",
    "Tuples are sorted first by their first element, next by their second element, \n",
    "and so on.\n",
    "\"\"\"\n",
    "tups = [ ('a',2), ('b',3), ('a',1), ('b',1), ('b',2) ]\n",
    "print( sorted(tups) )"
   ]
  },
  {
   "cell_type": "markdown",
   "metadata": {},
   "source": [
    "### Sorting Arbitrary Objects"
   ]
  },
  {
   "cell_type": "code",
   "execution_count": 46,
   "metadata": {},
   "outputs": [
    {
     "name": "stdout",
     "output_type": "stream",
     "text": [
      "[vec[0,0,0.0], vec[2,1,0.0], vec[1,6,0.0], vec[6,10,0.0]]\n"
     ]
    }
   ],
   "source": [
    "\"\"\"\n",
    "Sorting Vecs\n",
    "Structured objects may define a comparison method that is applied when sorting. \n",
    "Vecs are compared by their length.\n",
    "\"\"\"\n",
    "vecs = [ Vec(1,6), Vec(2,1), Vec(0,0), Vec(6,10) ]\n",
    "print( sorted(vecs) )"
   ]
  },
  {
   "cell_type": "markdown",
   "metadata": {},
   "source": [
    "### Custom Sorting"
   ]
  },
  {
   "cell_type": "markdown",
   "metadata": {},
   "source": [
    "### Decorate-Sort-Undecorate"
   ]
  },
  {
   "cell_type": "markdown",
   "metadata": {},
   "source": [
    "<img src=\"http://geometric-computation-images.s3-website-us-east-1.amazonaws.com/1.04.D08.jpg\" style=\"width: 600px; display: inline;\">"
   ]
  },
  {
   "cell_type": "code",
   "execution_count": 47,
   "metadata": {},
   "outputs": [
    {
     "ename": "NameError",
     "evalue": "name 'attr_pt' is not defined",
     "output_type": "error",
     "traceback": [
      "\u001b[1;31m---------------------------------------------------------------------------\u001b[0m",
      "\u001b[1;31mNameError\u001b[0m                                 Traceback (most recent call last)",
      "\u001b[1;32m<ipython-input-47-bb9699427a81>\u001b[0m in \u001b[0;36m<module>\u001b[1;34m()\u001b[0m\n\u001b[0;32m      8\u001b[0m \u001b[1;32mfor\u001b[0m \u001b[0mpt\u001b[0m \u001b[1;32min\u001b[0m \u001b[0mpts\u001b[0m\u001b[1;33m:\u001b[0m\u001b[1;33m\u001b[0m\u001b[0m\n\u001b[0;32m      9\u001b[0m     \u001b[1;31m# each tuple pairs a numeric distance with a related Point\u001b[0m\u001b[1;33m\u001b[0m\u001b[1;33m\u001b[0m\u001b[0m\n\u001b[1;32m---> 10\u001b[1;33m     \u001b[0mdecorated_tups\u001b[0m\u001b[1;33m.\u001b[0m\u001b[0mappend\u001b[0m\u001b[1;33m(\u001b[0m \u001b[1;33m(\u001b[0m\u001b[0mpt\u001b[0m\u001b[1;33m.\u001b[0m\u001b[0mdist\u001b[0m\u001b[1;33m(\u001b[0m\u001b[0mattr_pt\u001b[0m\u001b[1;33m)\u001b[0m\u001b[1;33m,\u001b[0m \u001b[0mpt\u001b[0m\u001b[1;33m)\u001b[0m \u001b[1;33m)\u001b[0m\u001b[1;33m\u001b[0m\u001b[0m\n\u001b[0m\u001b[0;32m     11\u001b[0m \u001b[1;33m\u001b[0m\u001b[0m\n\u001b[0;32m     12\u001b[0m \u001b[1;31m# {at breakpoint A} the tuples are sorted by their first value\u001b[0m\u001b[1;33m\u001b[0m\u001b[1;33m\u001b[0m\u001b[0m\n",
      "\u001b[1;31mNameError\u001b[0m: name 'attr_pt' is not defined"
     ]
    }
   ],
   "source": [
    "\"\"\"\n",
    "Sorting via Decorate-Sort-Undecorate\n",
    "To sort an arbitrary structured data type, or to sort by an arbitrary value, \n",
    "we may use the decorate-sort-undecorate idiom. Here, a given list of Points pts\n",
    "is sorted by distance to a common Point attr_pt.\n",
    "\"\"\"\n",
    "decorated_tups = []\n",
    "for pt in pts: \n",
    "    # each tuple pairs a numeric distance with a related Point\n",
    "    decorated_tups.append( (pt.dist(attr_pt), pt) )\n",
    "\n",
    "# {at breakpoint A} the tuples are sorted by their first value\n",
    "decorated_tups.sort()\n",
    "\n",
    "# the list of tuples is 'unpacked' to a regular list of points\n",
    "sorted_pts = []\n",
    "for tup in decorated_tups : \n",
    "    sorted_pts.append(tup[1])\n",
    "    \n",
    "    \n",
    "    "
   ]
  },
  {
   "cell_type": "code",
   "execution_count": null,
   "metadata": {},
   "outputs": [],
   "source": []
  }
 ],
 "metadata": {
  "kernelspec": {
   "display_name": "Python 2",
   "language": "python",
   "name": "python2"
  },
  "language_info": {
   "codemirror_mode": {
    "name": "ipython",
    "version": 2
   },
   "file_extension": ".py",
   "mimetype": "text/x-python",
   "name": "python",
   "nbconvert_exporter": "python",
   "pygments_lexer": "ipython2",
   "version": "2.7.10"
  }
 },
 "nbformat": 4,
 "nbformat_minor": 2
}
