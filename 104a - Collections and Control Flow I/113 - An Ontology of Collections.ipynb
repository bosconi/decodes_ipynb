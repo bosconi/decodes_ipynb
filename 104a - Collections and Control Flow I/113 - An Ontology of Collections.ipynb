{
 "cells": [
  {
   "cell_type": "code",
   "execution_count": null,
   "metadata": {},
   "outputs": [],
   "source": [
    "from decodes.core import *\n",
    "from decodes.io.jupyter_out import JupyterOut\n",
    "out = JupyterOut.unit_square( )"
   ]
  },
  {
   "cell_type": "markdown",
   "metadata": {},
   "source": [
    "# An Ontology of Collections\n",
    "\n",
    "Most programming languages supply their users with a menu of built-in collection types, each offering a specific balance of useful features and efficient data processing."
   ]
  },
  {
   "cell_type": "markdown",
   "metadata": {},
   "source": [
    "## Linear, Associative, and Non-Indexed Collections\n",
    "\n",
    "One way of comparing different types of collections is to examine the way in which they store and provide access to data. \n",
    "\n",
    "* Some collections are ***arranged in a linear fashion***, stacking the objects they contain in orderly numbered rows, and providing access via a numeric index. \n",
    "* Some are ***organized by association***, arranging one set of objects in relation to another set of objects, and providing access via key-value pairs. \n",
    "* A more exotic breed of collections ***does not arrange objects in any particular order*** at all, but instead finds its utility in ensuring that each contained object is unique.\n"
   ]
  },
  {
   "cell_type": "markdown",
   "metadata": {},
   "source": [
    "### Linear Collections\n",
    "\n",
    "Most collections store data in a linear fashion, with a numeric index related to each item.\n",
    "\n",
    "The differences among these types primarily have to do with the methods they provide for adding and retrieving items. Some are designed to be flexible, while others only allow a narrow range of methods as to allow for more robust performance optimizations."
   ]
  },
  {
   "cell_type": "markdown",
   "metadata": {},
   "source": [
    "<img src=\"http://geometric-computation-images.s3-website-us-east-1.amazonaws.com/1.04.P04.jpg\" style=\"width: 200px; display: inline;\">"
   ]
  },
  {
   "cell_type": "markdown",
   "metadata": {},
   "source": [
    "### Associative Collections\n",
    "\n",
    "Another category describes those collections that do not store their items in a linear order, but through an ***association with some unique “key”***. This category captures any collection which provides access through such relationships, broadly termed ***associative arrays***."
   ]
  },
  {
   "cell_type": "markdown",
   "metadata": {},
   "source": [
    "<img src=\"http://geometric-computation-images.s3-website-us-east-1.amazonaws.com/1.04.P05.jpg\" style=\"width: 200px; display: inline;\">"
   ]
  },
  {
   "cell_type": "markdown",
   "metadata": {},
   "source": [
    "### Non-Indexed Collections\n",
    "\n",
    "Non-Indexed collections ***store items in no particular order at all***, or in a manner such that the order of items is not important. Such is the case in the Set type. Sets ***ensure that only unique items are permitted***."
   ]
  },
  {
   "cell_type": "markdown",
   "metadata": {},
   "source": [
    "<img src=\"http://geometric-computation-images.s3-website-us-east-1.amazonaws.com/1.04.P06.jpg\" style=\"width: 200px; display: inline;\">"
   ]
  },
  {
   "cell_type": "markdown",
   "metadata": {},
   "source": [
    "## Other Distinctions Among Collection Types\n",
    "\n",
    "While the defining characteristic of a collection in OOP tends to be the way in which data is stored, there are a number of other properties that impact our experience as we code.\n",
    "\n",
    "These are largely expressed as restrictions in terms of the size and type of the collection that are made in the service of increased performance."
   ]
  },
  {
   "cell_type": "markdown",
   "metadata": {},
   "source": [
    "### Fixed and Dynamically-Sized Collections\n",
    "\n",
    "In some programming contexts, certain kinds of collections must be assigned a fixed size at the time of construction. These are called ***fixed size*** collections. Python makes no such restriction."
   ]
  },
  {
   "cell_type": "markdown",
   "metadata": {},
   "source": [
    "### Typed and Non-Typed Collections\n",
    "\n",
    "Collections may be constructed such that they contain only certain categories of objects. In many programming contexts, the allowable type of a collection must be declared at construction. We call those that enforce this requirement ***strongly-typed***, and those that do not ***weakly-typed*** or ***non-typed***. \n",
    "\n",
    "Again, Python makes no such restrictions. Despite this freedom, we find in practice that collections are often homogeneous, containing just one type of object."
   ]
  },
  {
   "cell_type": "markdown",
   "metadata": {},
   "source": [
    "<img src=\"http://geometric-computation-images.s3-website-us-east-1.amazonaws.com/1.04.D02.jpg\" style=\"width: 600px; display: inline;\">"
   ]
  },
  {
   "cell_type": "code",
   "execution_count": null,
   "metadata": {},
   "outputs": [],
   "source": [
    "stuff = [Point(), Vec(), \"applesauce\"]\n",
    "print( stuff )"
   ]
  },
  {
   "cell_type": "markdown",
   "metadata": {},
   "source": [
    "### Mutable and Immutable Collections\n",
    "\n",
    "***Immutable*** objects in OOP are those that maintain a fixed state, such that once constructed they may not be altered. \n",
    "\n",
    "This property can apply to collections as well, again in the service of computational efficiency. There is one commonly-used collection type in Python that cannot be modified once created: the Tuple."
   ]
  },
  {
   "cell_type": "markdown",
   "metadata": {},
   "source": [
    "## Collections in Python\n",
    "\n",
    "Here we present the types of Python collections that will be employed throughout this class."
   ]
  },
  {
   "cell_type": "markdown",
   "metadata": {},
   "source": [
    "### Strings\n",
    "\n",
    "It is forgivable to think of a String as a single object – a word rather than a collection of letters and numbers – they are often implemented in programming languages, Python included, as a collection of a more primitive type of individual alphanumeric characters.\n",
    "\n",
    "Strings exhibit some of the behavior of a linear collection, and may be accessed using the same square-bracket notation."
   ]
  },
  {
   "cell_type": "markdown",
   "metadata": {},
   "source": [
    "<img src=\"http://geometric-computation-images.s3-website-us-east-1.amazonaws.com/1.04.D03.jpg\" style=\"width: 600px; display: inline;\">"
   ]
  },
  {
   "cell_type": "code",
   "execution_count": null,
   "metadata": {},
   "outputs": [],
   "source": [
    "str = \"dancing about\"\n",
    "print(str[0])"
   ]
  },
  {
   "cell_type": "markdown",
   "metadata": {},
   "source": [
    "### Lists\n",
    "\n",
    "Lists are the workhorse of Python collections, providing most of the features befitting a linear collection of elements.\n",
    "\n",
    "Syntactically, Lists are constructed by a series of values or references to objects separated by commas and enclosed by square brackets:\n",
    "\n",
    "    [ item, item, item ]\n",
    "    \n",
    "Items contained within a List may be accessed using the same square-bracket notation enclosing a numeric reference to the position of the desired item. This numeric reference is called an ***index***. Like most sequential collections, Lists are are indexed starting with `0`.\n",
    "\n",
    "    list [ index ]"
   ]
  },
  {
   "cell_type": "markdown",
   "metadata": {},
   "source": [
    "<img src=\"http://geometric-computation-images.s3-website-us-east-1.amazonaws.com/1.04.D04.jpg\" style=\"width: 600px; display: inline;\">"
   ]
  },
  {
   "cell_type": "code",
   "execution_count": null,
   "metadata": {},
   "outputs": [],
   "source": [
    "pts = [Point(0,0),Point(1,0),Point(0,1)]\n",
    "print( pts[1] )"
   ]
  },
  {
   "cell_type": "markdown",
   "metadata": {},
   "source": [
    "Items may be added to the end of an existing List using the `append()` method. \n",
    "\n",
    "The `pop()` method combines two common operations, simultaneously retrieving and removing a desired element from a given List."
   ]
  },
  {
   "cell_type": "code",
   "execution_count": null,
   "metadata": {},
   "outputs": [],
   "source": [
    "print( pts )\n",
    "\n",
    "pt = pts.pop(1)\n",
    "\n",
    "print( pt )\n",
    "print( pts )"
   ]
  },
  {
   "cell_type": "markdown",
   "metadata": {},
   "source": [
    "### Tuples\n",
    "\n",
    "A Tuple can be thought of as an immutable List, which is to say, a List that may not be altered once it has been created.\n",
    "\n",
    "Tuples are often employed as a structure through which functions may return more than one value. As such, this format often houses a heterogeneous assortment of objects of different types."
   ]
  },
  {
   "cell_type": "markdown",
   "metadata": {},
   "source": [
    "<img src=\"http://geometric-computation-images.s3-website-us-east-1.amazonaws.com/1.04.D05.jpg\" style=\"width: 600px; display: inline;\">"
   ]
  },
  {
   "cell_type": "code",
   "execution_count": null,
   "metadata": {},
   "outputs": [],
   "source": [
    "curvature = (0.125, 'osculating circle')\n",
    "print( curvature[0] )"
   ]
  },
  {
   "cell_type": "markdown",
   "metadata": {},
   "source": [
    "### Dictionaries\n",
    "\n",
    "The Python Dictionary, more commonly called a Dict, is the sole associative collection that we will consider. Associative collections ***store one set of objects in relation to another*** set of objects in ***key-value*** pairs. \n",
    "\n",
    "Syntactically, this mapping of keys to values is constructed by defining a comma-separated set of such relationships enclosed by curly-brackets (`{}`). Each pair is internally separated by a colon, while pairs are separated from one another by commas.\n",
    "\n",
    "    { key_a:value_a , key_b:value_b }\n",
    "    \n",
    "An existing Dict may be accessed in a similar manner to sequential collections: by enclosing the key of the desired object within square-brackets.\n",
    "\n",
    "    dict[key]\n",
    "    \n",
    "The keys of a Dict ***must be unique***, and are most often suggestively named Strings."
   ]
  },
  {
   "cell_type": "markdown",
   "metadata": {},
   "source": [
    "<img src=\"http://geometric-computation-images.s3-website-us-east-1.amazonaws.com/1.04.D06.jpg\" style=\"width: 600px; display: inline;\">"
   ]
  },
  {
   "cell_type": "code",
   "execution_count": null,
   "metadata": {},
   "outputs": [],
   "source": [
    "render_settings = {'diffuse_clr':Color(1,0,0), 'reflect':0.25, 'two_sided':True}\n",
    "\n",
    "if render_settings['two_sided']:\n",
    "    print( \"okay, let’s render both sides.\" )"
   ]
  },
  {
   "cell_type": "markdown",
   "metadata": {},
   "source": [
    "### Sets\n",
    "\n",
    "Sets are collections of unique elements, and are valued for their ability to enforce the restriction that, no matter the type of objects stored, no two objects are identical.\n",
    "\n",
    "Since Sets are unordered, retrieving items from a Set via an index or key is not possible. Instead, we most often access elements from a set using `set.pop()`, which removes and returns an arbitrary object."
   ]
  },
  {
   "cell_type": "markdown",
   "metadata": {},
   "source": [
    "<img src=\"http://geometric-computation-images.s3-website-us-east-1.amazonaws.com/1.04.C02.jpg\" style=\"width: 400px; display: inline;\">"
   ]
  },
  {
   "cell_type": "code",
   "execution_count": null,
   "metadata": {},
   "outputs": [],
   "source": [
    "pos_nums = set( range(0,10,2) )\n",
    "neg_nums = set( range(0,-10,-2) )\n",
    "\n",
    "print( pos_nums.intersection(neg_nums) )"
   ]
  }
 ],
 "metadata": {
  "kernelspec": {
   "display_name": "Python 2",
   "language": "python",
   "name": "python2"
  },
  "language_info": {
   "codemirror_mode": {
    "name": "ipython",
    "version": 2
   },
   "file_extension": ".py",
   "mimetype": "text/x-python",
   "name": "python",
   "nbconvert_exporter": "python",
   "pygments_lexer": "ipython2",
   "version": "2.7.10"
  }
 },
 "nbformat": 4,
 "nbformat_minor": 2
}
