{
 "cells": [
  {
   "cell_type": "code",
   "execution_count": null,
   "metadata": {},
   "outputs": [],
   "source": [
    "from decodes.core import *"
   ]
  },
  {
   "cell_type": "markdown",
   "metadata": {},
   "source": [
    "# Introduction to Collections and Control Flow\n",
    "\n",
    "\n",
    "To move beyond the composition of individual objects via linear series of instructions, we require a working understanding of two common concepts in imperative programming: \n",
    "* **collections**, those data structures that provide access to groups of objects \n",
    "* the **mechanisms of control flow**, which include those syntactical structures that manipulate the sequence in which subsequent statements in code are executed by the computer\n",
    "\n",
    "The pairing of these concepts may seem non-intuitive, but there exist a number of ways in which they depend upon one another. Many collection types are built for iteration, and have a number of related mechanisms of control flow built into them. Similarly, loops, which is a major category of control flow structure, are concerned with cycling through the items in a given collection until it is exhausted."
   ]
  },
  {
   "cell_type": "markdown",
   "metadata": {},
   "source": [
    "There are many different types of collections and organizational styles in any programming context.\n",
    "\n",
    "<img src=\"http://geometric-computation-images.s3-website-us-east-1.amazonaws.com/1.04.D01.jpg\" style=\"width: 600px; display: inline;\">"
   ]
  },
  {
   "cell_type": "code",
   "execution_count": null,
   "metadata": {},
   "outputs": [],
   "source": [
    "str = 'dancing about'\n",
    "pts = [Point(0,0),Point(1,0),Point(0,1)]\n",
    "curvature = (0.125, 'osculating circle')\n",
    "render_settings = {'diffuse_clr':Color(1,0,0), 'reflect':0.25, 'two_sided':True}"
   ]
  }
 ],
 "metadata": {
  "kernelspec": {
   "display_name": "Python 2",
   "language": "python",
   "name": "python2"
  },
  "language_info": {
   "codemirror_mode": {
    "name": "ipython",
    "version": 2
   },
   "file_extension": ".py",
   "mimetype": "text/x-python",
   "name": "python",
   "nbconvert_exporter": "python",
   "pygments_lexer": "ipython2",
   "version": "2.7.10"
  }
 },
 "nbformat": 4,
 "nbformat_minor": 2
}
