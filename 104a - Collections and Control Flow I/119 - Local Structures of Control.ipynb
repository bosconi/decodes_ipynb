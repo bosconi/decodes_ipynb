{
 "cells": [
  {
   "cell_type": "code",
   "execution_count": null,
   "metadata": {},
   "outputs": [],
   "source": [
    "from decodes.core import *\n",
    "from decodes.io.jupyter_out import JupyterOut\n",
    "out = JupyterOut.unit_square( )\n",
    "\n",
    "import random\n",
    "a_problem_has_come_along, the_cream_set_out_too_long, something_is_going_wrong, it_is_whipped_good, a_good_time_turned_around, you_ever_lived_it_down, someone_got_away = [random.choice([True,False]) for n in range(7)]"
   ]
  },
  {
   "cell_type": "markdown",
   "metadata": {},
   "source": [
    "# Local Structures of Control\n",
    "todo"
   ]
  },
  {
   "cell_type": "markdown",
   "metadata": {},
   "source": [
    "## Mechanisms of Choice (if, elif, else)\n"
   ]
  },
  {
   "cell_type": "code",
   "execution_count": null,
   "metadata": {},
   "outputs": [],
   "source": [
    "\"\"\"\n",
    "If-Statements\n",
    "The truth-value of an if-statement can be any expression which evaluates\n",
    "to a boolean, including a literal boolean, a comparison or logical operation, \n",
    "a variable, or any combination thereof.\n",
    "\"\"\"\n",
    "\n",
    "if 2+2==5:\n",
    "    print 'you’re such a dreamer.'\n",
    "if a_problem_has_come_along:\n",
    "    print 'you must whip it!'\n",
    "if the_cream_set_out_too_long or something_is_going_wrong:\n",
    "    print 'you must whip it!'\n"
   ]
  },
  {
   "cell_type": "code",
   "execution_count": null,
   "metadata": {},
   "outputs": [],
   "source": [
    "\"\"\"\n",
    "If-Else-Statements\n",
    "An if-else construction allows for one set of statements to execute when\n",
    "a given expression is True, and another set otherwise.\n",
    "\"\"\"\n",
    "\n",
    "if it_is_whipped_good:\n",
    "    print 'move ahead.'\n",
    "else:\n",
    "    print 'crack that whip!'\n"
   ]
  },
  {
   "cell_type": "code",
   "execution_count": null,
   "metadata": {},
   "outputs": [],
   "source": [
    "\"\"\"\n",
    "If-Elif-Else Statements\n",
    "Like the if-else statement, the if-elif-else construction allows for the\n",
    "conditional execution of statements, and may be expanded to include intricate\n",
    "chains of logic. An if statement may be followed by any number of elif\n",
    "statements, which may conclude with an else statement.\n",
    "\"\"\"\n",
    "\n",
    "if a_good_time_turned_around:\n",
    "    print 'you must whip it!'\n",
    "elif you_ever_lived_it_down:\n",
    "    print 'unless you whip it!'\n",
    "elif someone_got_away:\n",
    "    print 'not until they whip it!'\n",
    "else:\n",
    "    print 'crack that whip!'"
   ]
  },
  {
   "cell_type": "markdown",
   "metadata": {},
   "source": [
    "## Iteration by Condition (while)"
   ]
  },
  {
   "cell_type": "markdown",
   "metadata": {},
   "source": [
    "<img src=\"http://geometric-computation-images.s3-website-us-east-1.amazonaws.com/1.04.C01.jpg\" style=\"width: 400px; display: inline;\">"
   ]
  },
  {
   "cell_type": "code",
   "execution_count": null,
   "metadata": {},
   "outputs": [],
   "source": [
    "\"\"\"\n",
    "An Inflating Circle\n",
    "The while statement is used to repeatedly execute a block of code until \n",
    "some condition is met. Here, the radius of a given circle is progressively\n",
    "ncreased until it is larger than a given value. Note that the resulting \n",
    "radius will likely not be equal to the desired value, but rather will be \n",
    "slightly greater than it.\n",
    "\"\"\"\n",
    "\n",
    "class Circle2d(Geometry):   \n",
    "    def __init__(self,pt,radius):\n",
    "        self.cpt = pt\n",
    "        self.rad = radius\n",
    "        \n",
    "cir_a = Circle2d(Point(4,4), 1.5)\n",
    "\n",
    "while cir_a.rad < 10:\n",
    "    cir_a.rad += 1\n",
    "    print(cir_a.rad)"
   ]
  },
  {
   "cell_type": "markdown",
   "metadata": {},
   "source": [
    "<img src=\"http://geometric-computation-images.s3-website-us-east-1.amazonaws.com/1.04.P01.jpg\" style=\"width: 200px; display: inline;\">"
   ]
  },
  {
   "cell_type": "code",
   "execution_count": null,
   "metadata": {},
   "outputs": [],
   "source": [
    "\"\"\"\n",
    "Two Inflating Circles\n",
    "Here, a while statement is used to simultaneously \"inflate\" two circles \n",
    "until they overlap. The overlap between the two is calculated at each cycle \n",
    "of the loop, with a negative overlap value indicating that the two do not \n",
    "overlap at all, and instead are some distance apart.\n",
    "\"\"\"\n",
    "\n",
    "cir_a = Circle2d(Point(10,10), 1)\n",
    "cir_b = Circle2d(Point(0,0), 3)\n",
    "\n",
    "cpt_dist = cir_a.cpt.dist(cir_b.cpt)\n",
    "overlap = (cir_a.rad + cir_b.rad) - cpt_dist\n",
    "\n",
    "while overlap < 0:\n",
    "    cir_a.rad += 1\n",
    "    cir_b.rad += 1\n",
    "    overlap = (cir_a.rad + cir_b.rad) - cpt_dist\n",
    "    print(cir_a.rad, cir_b.rad)"
   ]
  },
  {
   "cell_type": "markdown",
   "metadata": {},
   "source": [
    "<img src=\"http://geometric-computation-images.s3-website-us-east-1.amazonaws.com/1.04.P02.jpg\" style=\"width: 200px; display: inline;\">"
   ]
  },
  {
   "cell_type": "code",
   "execution_count": null,
   "metadata": {},
   "outputs": [],
   "source": [
    "\"\"\"\n",
    "The Break Statement\n",
    "A loop may be halted at any time using the break statement.\n",
    "\"\"\"\n",
    "\n",
    "cir_a = Circle2d(Point(10,10), 1)\n",
    "\n",
    "while True:\n",
    "    cir_a.rad += 1\n",
    "    print(cir_a.rad)\n",
    "    if cir_a.rad > 10: break"
   ]
  },
  {
   "cell_type": "markdown",
   "metadata": {},
   "source": [
    "## Exceptions"
   ]
  },
  {
   "cell_type": "markdown",
   "metadata": {},
   "source": [
    "<img src=\"http://geometric-computation-images.s3-website-us-east-1.amazonaws.com/1.04.P03.jpg\" style=\"width: 200px; display: inline;\">"
   ]
  },
  {
   "cell_type": "code",
   "execution_count": null,
   "metadata": {},
   "outputs": [],
   "source": [
    "\"\"\"\n",
    "Error-Handled Frame Construction\n",
    "Given the ray_on_curve function defined previously, \n",
    "constructs a frame with error-handling.\n",
    "\"\"\"\n",
    "\n",
    "# a vector tangent to the curve\n",
    "tangent_ray = ray_on_curve(t)\n",
    "frame_x = tangent_ray.vec\n",
    "\n",
    "# try crossing with the world z-axis\n",
    "try:\n",
    "    frame_y = frame_x.cross(UZ)\n",
    "\n",
    "# if that fails, cross with the world x-axis\n",
    "except:\n",
    "    print \"curve tangent is parallel with z-axis, switching to x-axis\"\n",
    "    frame_y = frame_x.cross(UX)\n",
    "\n",
    "# we can be sure that a frame_y has been constructed \n",
    "frame_z = frame_x.cross(frame_y)"
   ]
  },
  {
   "cell_type": "code",
   "execution_count": null,
   "metadata": {},
   "outputs": [],
   "source": []
  }
 ],
 "metadata": {
  "kernelspec": {
   "display_name": "Python 2",
   "language": "python",
   "name": "python2"
  },
  "language_info": {
   "codemirror_mode": {
    "name": "ipython",
    "version": 2
   },
   "file_extension": ".py",
   "mimetype": "text/x-python",
   "name": "python",
   "nbconvert_exporter": "python",
   "pygments_lexer": "ipython2",
   "version": "2.7.10"
  }
 },
 "nbformat": 4,
 "nbformat_minor": 2
}
