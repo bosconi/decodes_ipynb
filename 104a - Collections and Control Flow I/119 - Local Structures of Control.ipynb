{
 "cells": [
  {
   "cell_type": "code",
   "execution_count": 1,
   "metadata": {},
   "outputs": [
    {
     "name": "stdout",
     "output_type": "stream",
     "text": [
      "http://decod.es/\tv0.2.3\n",
      "io loaded\n"
     ]
    }
   ],
   "source": [
    "from decodes.core import *\n",
    "from decodes.io.jupyter_out import JupyterOut\n",
    "out = JupyterOut.unit_square( )\n",
    "\n",
    "import random\n",
    "a_problem_has_come_along, the_cream_set_out_too_long, something_is_going_wrong, it_is_whipped_good, a_good_time_turned_around, you_ever_lived_it_down, someone_got_away = [random.choice([True,False]) for n in range(7)]"
   ]
  },
  {
   "cell_type": "markdown",
   "metadata": {},
   "source": [
    "# Local Structures of Control\n",
    "\n",
    "Control flow statements are those syntactical structures that alter the continuous stream of execution, diverting the shell to some distant codeblock or\n",
    "inducing it to execute the same set of statements repeatedly.\n",
    "\n",
    "We have seen some of these already. Conditional statements have allowed us to define blocks of code that execute only when a given condition is met. Loop statements have allowed us to author codeblocks that execute once for each item in a given collection.\n",
    "\n",
    "Presented here are three local structures of control that are prevalent in Python programming:\n",
    "\n",
    "* The `if` statement is expanded upon, bringing to bear a wider range of mechanisms of choice.\n",
    "* The `while` statement is introduced, which is a loop structure that is controlled by a given condition.\n",
    "* `try`, is briefly presented, which offers a mechanism for dealing with uncertainty and handling the inevitable errors that arise.\n"
   ]
  },
  {
   "cell_type": "markdown",
   "metadata": {},
   "source": [
    "## Mechanisms of Choice (if, elif, else)\n",
    "\n",
    "We have already seen the conditional statement put to good use in practice, but have not demonstrated its full versatility. \n",
    "\n",
    "The truth-value of a conditional if statement can be any expression, so long as it evaluates to a Boolean:"
   ]
  },
  {
   "cell_type": "code",
   "execution_count": 3,
   "metadata": {},
   "outputs": [
    {
     "name": "stdout",
     "output_type": "stream",
     "text": [
      "you must whip it!\n",
      "you must whip it!\n"
     ]
    }
   ],
   "source": [
    "\"\"\"\n",
    "If-Statements\n",
    "The truth-value of an if-statement can be any expression which evaluates\n",
    "to a boolean, including a literal boolean, a comparison or logical operation, \n",
    "a variable, or any combination thereof.\n",
    "\"\"\"\n",
    "\n",
    "if 2+2==5:\n",
    "    print('you’re such a dreamer.')\n",
    "if a_problem_has_come_along:\n",
    "    print ('you must whip it!')\n",
    "if the_cream_set_out_too_long or something_is_going_wrong:\n",
    "    print ('you must whip it!')\n"
   ]
  },
  {
   "cell_type": "markdown",
   "metadata": {},
   "source": [
    "This minimal form may be expanded through the application of two additional clauses, `else` and `elif` (short for else-if), which control the execution of their related codeblocks."
   ]
  },
  {
   "cell_type": "code",
   "execution_count": 4,
   "metadata": {},
   "outputs": [
    {
     "name": "stdout",
     "output_type": "stream",
     "text": [
      "crack that whip!\n"
     ]
    }
   ],
   "source": [
    "\"\"\"\n",
    "If-Else-Statements\n",
    "An if-else construction allows for one set of statements to execute when\n",
    "a given expression is True, and another set otherwise.\n",
    "\"\"\"\n",
    "\n",
    "if it_is_whipped_good:\n",
    "    print ('move ahead.')\n",
    "else:\n",
    "    print ('crack that whip!')\n"
   ]
  },
  {
   "cell_type": "code",
   "execution_count": 5,
   "metadata": {},
   "outputs": [
    {
     "name": "stdout",
     "output_type": "stream",
     "text": [
      "unless you whip it!\n"
     ]
    }
   ],
   "source": [
    "\"\"\"\n",
    "If-Elif-Else Statements\n",
    "Like the if-else statement, the if-elif-else construction allows for the\n",
    "conditional execution of statements, and may be expanded to include intricate\n",
    "chains of logic. An if statement may be followed by any number of elif\n",
    "statements, which may conclude with an else statement.\n",
    "\"\"\"\n",
    "\n",
    "if a_good_time_turned_around:\n",
    "    print ('you must whip it!')\n",
    "elif you_ever_lived_it_down:\n",
    "    print ('unless you whip it!')\n",
    "elif someone_got_away:\n",
    "    print ('not until they whip it!')\n",
    "else:\n",
    "    print ('crack that whip!')"
   ]
  },
  {
   "cell_type": "markdown",
   "metadata": {},
   "source": [
    "We may construct more baroque logical chains by nesting conditional statements. Operating on a single level, the most generic pattern is an `if`, followed by any number of `elif` statements, and concluded with an `else`.\n",
    "\n",
    "    if truth_value_a:\n",
    "        statements\n",
    "    elif truth_value_b:\n",
    "        statements\n",
    "    elif truth_value_c:\n",
    "        statements\n",
    "    ...\n",
    "    else:\n",
    "        statements"
   ]
  },
  {
   "cell_type": "markdown",
   "metadata": {},
   "source": [
    "## Iteration by Condition (while)\n",
    "\n",
    "There are times when it is desirable to control an iteration not by an existing collection, but by the satisfaction of some condition. \n",
    "\n",
    "The while structure will continue to execute so long as a truth-value expression remains true.\n",
    "\n",
    "The syntax of a while loop is similar to the for loop. At the start of each cycle, a truth-value expression is evaluated. If it evaluates to `True`, the loop continues, and if `False`, the loop exits.\n",
    "\n",
    "    while truth_value:\n",
    "        statements"
   ]
  },
  {
   "cell_type": "markdown",
   "metadata": {},
   "source": [
    "<img src=\"http://geometric-computation-images.s3-website-us-east-1.amazonaws.com/1.04.C01.jpg\" style=\"width: 400px; display: inline;\">"
   ]
  },
  {
   "cell_type": "markdown",
   "metadata": {},
   "source": [
    "Suppose we want circles of expanding radii but to also impose a maximum radius. A while loop is an appropriate way to achieve this."
   ]
  },
  {
   "cell_type": "code",
   "execution_count": 6,
   "metadata": {},
   "outputs": [
    {
     "name": "stdout",
     "output_type": "stream",
     "text": [
      "2.5\n",
      "3.5\n"
     ]
    }
   ],
   "source": [
    "\"\"\"\n",
    "An Inflating Circle\n",
    "The while statement is used to repeatedly execute a block of code until \n",
    "some condition is met. Here, the radius of a given circle is progressively\n",
    "ncreased until it is larger than a given value. Note that the resulting \n",
    "radius will likely not be equal to the desired value, but rather will be \n",
    "slightly greater than it.\n",
    "\"\"\"\n",
    "\n",
    "class Circle2d(Geometry):   \n",
    "    def __init__(self,pt,radius):\n",
    "        self.cpt = pt\n",
    "        self.rad = radius\n",
    "        \n",
    "cir_a = Circle2d(Point(4,4), 1.5)\n",
    "\n",
    "while cir_a.rad < 3:\n",
    "    cir_a.rad += 1\n",
    "    print(cir_a.rad)"
   ]
  },
  {
   "cell_type": "markdown",
   "metadata": {},
   "source": [
    "<img src=\"http://geometric-computation-images.s3-website-us-east-1.amazonaws.com/1.04.P01.jpg\" style=\"width: 200px; display: inline;\">"
   ]
  },
  {
   "cell_type": "markdown",
   "metadata": {},
   "source": [
    "Expanding upon this idea, we can construct the slightly more useful routine that increases the radii of two circles until they overlap."
   ]
  },
  {
   "cell_type": "code",
   "execution_count": 7,
   "metadata": {},
   "outputs": [
    {
     "name": "stdout",
     "output_type": "stream",
     "text": [
      "2 4\n",
      "3 5\n",
      "4 6\n",
      "5 7\n",
      "6 8\n",
      "7 9\n"
     ]
    }
   ],
   "source": [
    "\"\"\"\n",
    "Two Inflating Circles\n",
    "Here, a while statement is used to simultaneously \"inflate\" two circles \n",
    "until they overlap. The overlap between the two is calculated at each cycle \n",
    "of the loop, with a negative overlap value indicating that the two do not \n",
    "overlap at all, and instead are some distance apart.\n",
    "\"\"\"\n",
    "\n",
    "cir_a = Circle2d(Point(10,10), 1)\n",
    "cir_b = Circle2d(Point(0,0), 3)\n",
    "\n",
    "cpt_dist = cir_a.cpt.dist(cir_b.cpt)\n",
    "overlap = (cir_a.rad + cir_b.rad) - cpt_dist\n",
    "\n",
    "while overlap < 0:\n",
    "    cir_a.rad += 1\n",
    "    cir_b.rad += 1\n",
    "    overlap = (cir_a.rad + cir_b.rad) - cpt_dist\n",
    "    print(cir_a.rad, cir_b.rad)"
   ]
  },
  {
   "cell_type": "markdown",
   "metadata": {},
   "source": [
    "<img src=\"http://geometric-computation-images.s3-website-us-east-1.amazonaws.com/1.04.P02.jpg\" style=\"width: 200px; display: inline;\">"
   ]
  },
  {
   "cell_type": "markdown",
   "metadata": {},
   "source": [
    "What would happen if a condition we specify for a while loop is never met? Consider the following code, which generates an infinite loop that never exits.\n",
    "\n",
    "    while True:\n",
    "        hold_your_breath\n",
    "        \n",
    "Since the truth-value statement of this while loop never evaluates to `False`, the loop will never end, that is, unless the shell encounters a statement that explicitly calls for the loop to exit. Such is the function of the `break` statement, which can be used in `while` loops and `for` loops alike, and which forces the containing loop to reject any remaining statements and immediately exit."
   ]
  },
  {
   "cell_type": "code",
   "execution_count": null,
   "metadata": {},
   "outputs": [],
   "source": [
    "\"\"\"\n",
    "The Break Statement\n",
    "A loop may be halted at any time using the break statement.\n",
    "\"\"\"\n",
    "\n",
    "cir_a = Circle2d(Point(10,10), 1)\n",
    "\n",
    "while True:\n",
    "    cir_a.rad += 1\n",
    "    print(cir_a.rad)\n",
    "    if cir_a.rad > 10: \n",
    "        break"
   ]
  },
  {
   "cell_type": "markdown",
   "metadata": {},
   "source": [
    "## Exceptions\n",
    "\n",
    "The code we write is bound to fail.\n",
    "\n",
    "Central to writing robust code is the identification of error-prone areas, and the definition of routines able to recover from anticipated errors. An invaluable tool in this endeavor is a `try-except` structure.\n",
    "\n",
    "Such a structure defines two blocks of code: the first block contains statements that are prone to errors, and is denoted by the `try` keyword, while the second contains code that executes only if an error is raised within the previous block, and is denoted by the `except` keyword:\n",
    "\n",
    "    try:\n",
    "        error_prone_statements\n",
    "    except:\n",
    "        backup_statements"
   ]
  },
  {
   "cell_type": "markdown",
   "metadata": {},
   "source": [
    "<img src=\"http://geometric-computation-images.s3-website-us-east-1.amazonaws.com/1.04.P03.jpg\" style=\"width: 200px; display: inline;\">"
   ]
  },
  {
   "cell_type": "code",
   "execution_count": null,
   "metadata": {},
   "outputs": [],
   "source": [
    "\"\"\"\n",
    "Error-Handled Frame Construction\n",
    "Given the ray_on_curve function defined previously, \n",
    "constructs a frame with error-handling.\n",
    "\"\"\"\n",
    "\n",
    "# a vector tangent to the curve\n",
    "tangent_ray = ray_on_curve(t)\n",
    "frame_x = tangent_ray.vec\n",
    "\n",
    "# try crossing with the world z-axis\n",
    "try:\n",
    "    frame_y = frame_x.cross(Vec.uz())\n",
    "\n",
    "# if that fails, cross with the world x-axis\n",
    "except:\n",
    "    print \"curve tangent is parallel with z-axis, switching to x-axis\"\n",
    "    frame_y = frame_x.cross(Vec.ux())\n",
    "\n",
    "# we can be sure that a frame_y has been constructed \n",
    "frame_z = frame_x.cross(frame_y)"
   ]
  }
 ],
 "metadata": {
  "kernelspec": {
   "display_name": "Python 3",
   "language": "python",
   "name": "python3"
  },
  "language_info": {
   "codemirror_mode": {
    "name": "ipython",
    "version": 3
   },
   "file_extension": ".py",
   "mimetype": "text/x-python",
   "name": "python",
   "nbconvert_exporter": "python",
   "pygments_lexer": "ipython3",
   "version": "3.6.4"
  }
 },
 "nbformat": 4,
 "nbformat_minor": 2
}
