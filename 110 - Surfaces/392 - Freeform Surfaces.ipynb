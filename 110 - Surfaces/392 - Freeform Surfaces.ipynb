{
 "cells": [
  {
   "cell_type": "code",
   "execution_count": null,
   "metadata": {},
   "outputs": [],
   "source": [
    "from decodes.core import *\n",
    "from decodes.io.jupyter_out import JupyterOut\n",
    "import math\n",
    "\n",
    "out = JupyterOut.unit_square( )"
   ]
  },
  {
   "cell_type": "markdown",
   "metadata": {},
   "source": [
    "# Freeform Surfaces\n",
    "todo"
   ]
  },
  {
   "cell_type": "code",
   "execution_count": null,
   "metadata": {},
   "outputs": [],
   "source": [
    "\"\"\"\n",
    "Bezier Surface Construction\n",
    "Given a List of Lists of Points pts_grid, defines a Surface as a Bezier interpolation. Bezier \n",
    "curves are first constructed along each row of the given grid. Then, within the evaluation function, \n",
    "these curves are evaluated at the u-parameter to produce a column of Points that are used to \n",
    "construct a Bezier curve in the perpendicular direction. This curve may then be evaluated at the \n",
    "v-parameter to return a Point.\n",
    "\"\"\"\n",
    "# construct a u-Bezier for each row in the given grid\n",
    "crvs_row = [ Curve.bezier( pts_row ) for pts_row in pts_grid]\n",
    "\n",
    "def func(u,v):\n",
    "    # extract a column of Points by evaluation of u-parameter\n",
    "    pts_col = [ crv.eval(u) for crv in crvs_row ]\n",
    "    # construct a v-Bezier along this column of Points\n",
    "    crv_col = Curve.bezier(pts_col)\n",
    "    # evaluate the v-Bezier at v-parameter\n",
    "    return crv_col.eval(v)\n",
    "\n",
    "srf = Surface(func)"
   ]
  }
 ],
 "metadata": {
  "kernelspec": {
   "display_name": "Python 3",
   "language": "python",
   "name": "python3"
  },
  "language_info": {
   "codemirror_mode": {
    "name": "ipython",
    "version": 3
   },
   "file_extension": ".py",
   "mimetype": "text/x-python",
   "name": "python",
   "nbconvert_exporter": "python",
   "pygments_lexer": "ipython3",
   "version": "3.6.4"
  }
 },
 "nbformat": 4,
 "nbformat_minor": 2
}
