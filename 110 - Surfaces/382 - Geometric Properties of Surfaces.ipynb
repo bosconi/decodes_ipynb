{
 "cells": [
  {
   "cell_type": "code",
   "execution_count": null,
   "metadata": {},
   "outputs": [],
   "source": [
    "from decodes.core import *\n",
    "from decodes.io.jupyter_out import JupyterOut\n",
    "import math\n",
    "\n",
    "out = JupyterOut.unit_square( )"
   ]
  },
  {
   "cell_type": "markdown",
   "metadata": {},
   "source": [
    "# Geometric Properties of Surfaces\n",
    "todo"
   ]
  },
  {
   "cell_type": "markdown",
   "metadata": {},
   "source": [
    "## Tangent Vectors"
   ]
  },
  {
   "cell_type": "code",
   "execution_count": null,
   "metadata": {},
   "outputs": [],
   "source": [
    "\"\"\"\n",
    "Tangent Vectors by Nearest Neighbors\n",
    "Returns the evaluated Point and Vecs oriented toward the nearest neighbors along the u and v \n",
    "directions of a Surface.\n",
    "\"\"\"\n",
    "def nearest_neighbors(srf,u,v,include_negs = False):\n",
    "    pt = Point(srf.func(u,v))\n",
    "    \n",
    "    du, dv = srf.tol_u/100.0, srf.tol_v/100.0\n",
    "    vec_u = Vec( pt, srf.func( u+du, v ) )\n",
    "    vec_v = Vec( pt, srf.func( u, v+dv ) )\n",
    "    return pt, vec_u, vec_v"
   ]
  },
  {
   "cell_type": "markdown",
   "metadata": {},
   "source": [
    "<img src=\"http://geometric-computation-images.s3-website-us-east-1.amazonaws.com/1.12.P18.jpg\" style=\"width: 200px; display: inline;\">"
   ]
  },
  {
   "cell_type": "code",
   "execution_count": null,
   "metadata": {},
   "outputs": [],
   "source": [
    "\"\"\"\n",
    "Tangent Plane\n",
    "Evaluates a Surface and returns the tangent Plane associated with the location determined by the \n",
    "given u and v parameters.\n",
    "\"\"\"\n",
    "def tangent_plane(srf,u,v):\n",
    "    pt, vec_u, vec_v = srf.nearest_neighbors(u,v)\n",
    "    return Plane(pt, vec_u.cross(vec_v) )"
   ]
  },
  {
   "cell_type": "markdown",
   "metadata": {},
   "source": [
    "### Surface Area"
   ]
  },
  {
   "cell_type": "markdown",
   "metadata": {},
   "source": [
    "<img src=\"http://geometric-computation-images.s3-website-us-east-1.amazonaws.com/1.12.P19.jpg\" style=\"width: 600px; display: inline;\">"
   ]
  },
  {
   "cell_type": "markdown",
   "metadata": {},
   "source": [
    "### Normal Vector"
   ]
  },
  {
   "cell_type": "markdown",
   "metadata": {},
   "source": [
    "<img src=\"http://geometric-computation-images.s3-website-us-east-1.amazonaws.com/1.12.P20.jpg\" style=\"width: 200px; display: inline;\">"
   ]
  },
  {
   "cell_type": "markdown",
   "metadata": {},
   "source": [
    "<img src=\"http://geometric-computation-images.s3-website-us-east-1.amazonaws.com/1.12.P21.jpg\" style=\"width: 200px; display: inline;\">"
   ]
  },
  {
   "cell_type": "markdown",
   "metadata": {},
   "source": [
    "<img src=\"http://geometric-computation-images.s3-website-us-east-1.amazonaws.com/1.12.P22.jpg\" style=\"width: 200px; display: inline;\">"
   ]
  },
  {
   "cell_type": "markdown",
   "metadata": {},
   "source": [
    "<img src=\"http://geometric-computation-images.s3-website-us-east-1.amazonaws.com/1.12.P23.jpg\" style=\"width: 200px; display: inline;\">"
   ]
  },
  {
   "cell_type": "code",
   "execution_count": null,
   "metadata": {},
   "outputs": [],
   "source": [
    "\"\"\"\n",
    "Discrete Surface Unit Normal\n",
    "Given a Mesh ngbrs that describes the triangular faces that surround a Surface patch, this routine \n",
    "calculates the weighted sum of the face normals of the mesh in order to approximate the surface unit \n",
    "normal.\n",
    "\"\"\"\n",
    "normal = Vec(0,0,0)\n",
    "for face_idx in range(len(ngbrs.faces)):\n",
    "    pts = ngbrs.face_pts(face_idx)\n",
    "    face_area = 0.5*Vec(pts[0],pts[1]).cross(Vec(pts[0],pts[2])).length \n",
    "    normal = normal + ngbrs.face_normal(face_idx)*face_area\n",
    "\n",
    "normal = normal.normalized()"
   ]
  },
  {
   "cell_type": "markdown",
   "metadata": {},
   "source": [
    "## Curvature"
   ]
  },
  {
   "cell_type": "markdown",
   "metadata": {},
   "source": [
    "### The Osculating Paraboloid"
   ]
  },
  {
   "cell_type": "markdown",
   "metadata": {},
   "source": [
    "<img src=\"http://geometric-computation-images.s3-website-us-east-1.amazonaws.com/1.12.P30.jpg\" style=\"width: 600px; display: inline;\">"
   ]
  },
  {
   "cell_type": "markdown",
   "metadata": {},
   "source": [
    "### The Normal Curvatures"
   ]
  },
  {
   "cell_type": "markdown",
   "metadata": {},
   "source": [
    "<img src=\"http://geometric-computation-images.s3-website-us-east-1.amazonaws.com/1.12.P24.jpg\" style=\"width: 200px; display: inline;\">"
   ]
  },
  {
   "cell_type": "markdown",
   "metadata": {},
   "source": [
    "<img src=\"http://geometric-computation-images.s3-website-us-east-1.amazonaws.com/1.12.P25.jpg\" style=\"width: 200px; display: inline;\">"
   ]
  },
  {
   "cell_type": "markdown",
   "metadata": {},
   "source": [
    "<img src=\"http://geometric-computation-images.s3-website-us-east-1.amazonaws.com/1.12.P26.jpg\" style=\"width: 200px; display: inline;\">"
   ]
  },
  {
   "cell_type": "markdown",
   "metadata": {},
   "source": [
    "<img src=\"http://geometric-computation-images.s3-website-us-east-1.amazonaws.com/1.12.P27.jpg\" style=\"width: 200px; display: inline;\">"
   ]
  },
  {
   "cell_type": "markdown",
   "metadata": {},
   "source": [
    "<img src=\"http://geometric-computation-images.s3-website-us-east-1.amazonaws.com/1.12.P28.jpg\" style=\"width: 200px; display: inline;\">"
   ]
  },
  {
   "cell_type": "markdown",
   "metadata": {},
   "source": [
    "<img src=\"http://geometric-computation-images.s3-website-us-east-1.amazonaws.com/1.12.P29.jpg\" style=\"width: 200px; display: inline;\">"
   ]
  },
  {
   "cell_type": "markdown",
   "metadata": {},
   "source": [
    "### Mean and Gaussian Curvature"
   ]
  },
  {
   "cell_type": "code",
   "execution_count": null,
   "metadata": {},
   "outputs": [],
   "source": [
    "\"\"\"\n",
    "Gaussian Curvature Heat Map\n",
    "\"\"\"\n",
    "msh = surf.to_mesh(divs_u=res_u,divs_v=res_v)\n",
    "u_val = Interval(surf.u0, surf.u1).divide(res_u,True)\n",
    "v_val = Interval(surf.v0, surf.v1).divide(res_v,True)\n",
    "\n",
    "gaussian_curv = [surf.deval_curv(u,v,True)[3] for v in v_val for u in u_val]\n",
    "\n",
    "colorA, colorB, colorC = Color(.97,.97,.97), Color(1, 0, 0), Color(0, 0, 1)\n",
    "min_curv, max_curv = min(gaussian_curv), max(gaussian_curv)\n",
    "denom = max(abs(min(gaussian_curv)), abs(max(gaussian_curv)))\n",
    "\n",
    "meshes = Mesh.explode(msh)\n",
    "for i, mesh in enumerate(meshes):\n",
    "    if gaussian_curv[i] > 0: \n",
    "        mesh.set_color(Color.interpolate(colorA,colorB,gaussian_curv[i]/denom))\n",
    "    else: \n",
    "        mesh.set_color(Color.interpolate(colorA,colorC,-gaussian_curv[i]/denom))"
   ]
  }
 ],
 "metadata": {
  "kernelspec": {
   "display_name": "Python 3",
   "language": "python",
   "name": "python3"
  },
  "language_info": {
   "codemirror_mode": {
    "name": "ipython",
    "version": 3
   },
   "file_extension": ".py",
   "mimetype": "text/x-python",
   "name": "python",
   "nbconvert_exporter": "python",
   "pygments_lexer": "ipython3",
   "version": "3.6.4"
  }
 },
 "nbformat": 4,
 "nbformat_minor": 2
}
