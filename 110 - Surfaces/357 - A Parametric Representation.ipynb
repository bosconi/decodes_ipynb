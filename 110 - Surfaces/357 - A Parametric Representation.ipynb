{
 "cells": [
  {
   "cell_type": "code",
   "execution_count": 2,
   "metadata": {},
   "outputs": [
    {
     "name": "stdout",
     "output_type": "stream",
     "text": [
      "http://decod.es/\tv0.2.3\n",
      "io loaded\n"
     ]
    }
   ],
   "source": [
    "from decodes.core import *\n",
    "from decodes.io.jupyter_out import JupyterOut\n",
    "import math\n",
    "\n",
    "out = JupyterOut.unit_square( )"
   ]
  },
  {
   "cell_type": "markdown",
   "metadata": {},
   "source": [
    "# A Parametric Representation\n",
    "\n",
    "The parametric representation of surfaces has much in common with that of curves.\n",
    "\n",
    "Where a parameterized curve is described as a function that maps a single numeric interval onto points in space, a parameterized surface can be similarly expressed as ***a function that maps a domain in two dimensions onto points in space***. \n",
    "\n",
    "In other words, while each may be understood as ***a machine for the production of three-dimensional points***, a curve does so using a single parameter $t$, while a surface requires a pair of parameters $u,v$.\n"
   ]
  },
  {
   "cell_type": "markdown",
   "metadata": {},
   "source": [
    "<img src=\"http://geometric-computation-images.s3-website-us-east-1.amazonaws.com/1.12.P01.jpg\" style=\"width: 600px; display: inline;\">"
   ]
  },
  {
   "cell_type": "markdown",
   "metadata": {},
   "source": [
    "In mathematic notation, a parametric surface is denoted by a function $\\Phi$ that takes in two parameters $u$ and $v$ and produces a collection of points, denoted by $\\Phi(u,v)$, as the parameter pair $(u,v)$ varies in the two-dimensional domain. \n",
    "\n",
    "Just as we saw for a curve, three elements – *** a function, a domain, and a resulting set of points *** – constitute a parameterized surface. Expanded out in coordinates, any point on this surface can be written as:"
   ]
  },
  {
   "cell_type": "markdown",
   "metadata": {},
   "source": [
    "\\begin{align}\n",
    "\\Phi(u,v) = (x(u,v),y(u,v),z(u,v))\n",
    "\\end{align}"
   ]
  },
  {
   "cell_type": "markdown",
   "metadata": {},
   "source": [
    "One important simplification that we make in moving towards expressing a surface in code concerns the domain. \n",
    "\n",
    "Generally speaking, surface domains can take on arbitrary shapes in two dimensions. To simplify our implementation in code, ***we will restrict surface domains to be rectangular***.\n",
    "\n",
    "Working from this assumption, ***the domain may be represented by two intervals, one in $u$ and one in $v$***."
   ]
  },
  {
   "cell_type": "markdown",
   "metadata": {},
   "source": [
    "<img src=\"http://geometric-computation-images.s3-website-us-east-1.amazonaws.com/1.12.P02.jpg\" style=\"width: 600px; display: inline;\">"
   ]
  },
  {
   "cell_type": "markdown",
   "metadata": {},
   "source": [
    "The complete mathematical description of a parameterized surface can be written as:"
   ]
  },
  {
   "cell_type": "markdown",
   "metadata": {},
   "source": [
    "\\begin{align*}\n",
    "x = &\\ldots \\\\\n",
    "y = &\\ldots \\\\\n",
    "z = &\\ldots \\\\\n",
    "u\\colon u_{0} &\\rightarrow u_{1} \\\\\n",
    "v\\colon v_{0} &\\rightarrow v_{1}\n",
    "\\end{align*}"
   ]
  },
  {
   "cell_type": "markdown",
   "metadata": {},
   "source": [
    "In code, this may be expressed as:"
   ]
  },
  {
   "cell_type": "code",
   "execution_count": null,
   "metadata": {},
   "outputs": [],
   "source": [
    "def evaluate(u,v):\n",
    "    x = ...\n",
    "    y = ...\n",
    "    z = ...\n",
    "    return Point(x,y,z)"
   ]
  },
  {
   "cell_type": "code",
   "execution_count": null,
   "metadata": {},
   "outputs": [],
   "source": [
    "for u in Interval(u0,u1)/divs_u:\n",
    "    for v in Interval(v0,v1)/divs_v:\n",
    "        pts.append(evaluate(u,v))"
   ]
  },
  {
   "cell_type": "markdown",
   "metadata": {},
   "source": [
    "## Surface Objects in Decod.es\n",
    "\n",
    "Just as the basic elements of a surface are the same as a curve, so the basic attributes of a Decod.es Surface class parallel those exhibited by a Curve. \n",
    "\n",
    "Distinctions between these two are primarily a result of the pair of parameters called for by Surface evaluation, which precipitates the need for a pair of domain intervals and a pair of tolerance values."
   ]
  },
  {
   "cell_type": "markdown",
   "metadata": {},
   "source": [
    "<img src=\"http://geometric-computation-images.s3-website-us-east-1.amazonaws.com/3.00.D76 Surface Large.jpg\" style=\"width: 800px; display: inline;\">"
   ]
  },
  {
   "cell_type": "code",
   "execution_count": null,
   "metadata": {},
   "outputs": [],
   "source": [
    "\"\"\"\n",
    "Surface Class Construction\n",
    "Like a Curve, a Surface is constructed of an evaluation function and two tolerance values. The \n",
    "domain is expressed as a tuple of two Intervals. Note that in the Decod.es library, the tolerance \n",
    "arguments are optional, and default to fixed ration of the u and v domains.\n",
    "\"\"\"\n",
    "class Surface():\n",
    "    def __init__(self, function,  dom_u, dom_v, tol_u, tol_v):\n",
    "        self._func = function\n",
    "        self._dom = dom_u, dom_v\n",
    "        self._tol = tol_u, tol_v"
   ]
  },
  {
   "cell_type": "markdown",
   "metadata": {},
   "source": [
    "Surface initialization closely resembles the initialization of a Curve."
   ]
  },
  {
   "cell_type": "markdown",
   "metadata": {},
   "source": [
    "<table style=\"width:600px\">\n",
    "    <tr>\n",
    "        <th colspan=\"3\" style=\"text-align:left\">*Basic Surface Members and Methods*</th>\n",
    "    </tr>\n",
    "    <tr>\n",
    "        <td style=\"width:20%\">`srf._func`<br>`srf.func`</td>\n",
    "        <td style=\"width:20%\">Function</td>\n",
    "        <td style=\"width:60%\">A function that, given two parameters `u` and `v`, returns a Point in space.</td>\n",
    "    </tr>\n",
    "    <tr>\n",
    "        <td style=\"width:20%\">`srf._dom`<br>`srf.domain_u`<br>`srf.domain_v`</td>\n",
    "        <td style=\"width:20%\">(Interval,Interval)</td>\n",
    "        <td style=\"width:60%\">A pair of Intervals that describe valid `u` and `v` values to evaluate.</td>\n",
    "    </tr>\n",
    "    <tr>\n",
    "        <td style=\"width:20%\">`srf._tol`<br>`srf.tol_u`<br>`srf.tol_v`</td>\n",
    "        <td style=\"width:20%\">(Float,Float)</td>\n",
    "        <td style=\"width:60%\">A pair of values that describe the tolerance of the curve expressed in terms of the `u` and `v` domain Intervals.</td>\n",
    "    </tr>\n",
    "    <tr>\n",
    "        <td style=\"width:20%\">`srf.deval(u,v)`</td>\n",
    "        <td style=\"width:20%\">Point</td>\n",
    "        <td style=\"width:60%\">Given parameters `u` and `v`, returns a Point that falls on this Surface within the defined domain.</td>\n",
    "    </tr>\n",
    "    <tr>\n",
    "        <td style=\"width:20%\">`srf.eval(u,v)`</td>\n",
    "        <td style=\"width:20%\">Point</td>\n",
    "        <td style=\"width:60%\">Given parameters `u` and `v`, returns a Point that falls on this Surface within a normalized domain.</td>\n",
    "    </tr>    \n",
    "</table>"
   ]
  },
  {
   "cell_type": "markdown",
   "metadata": {},
   "source": [
    "<table style=\"width:600px\">\n",
    "    <tr>\n",
    "        <th colspan=\"3\" style=\"text-align:left\">*Basic Surface Properties*</th>\n",
    "    </tr>\n",
    "    <tr>\n",
    "        <td style=\"width:20%\">`srf.surrogate`</td>\n",
    "        <td style=\"width:20%\">Mesh</td>\n",
    "        <td style=\"width:60%\">Returns a Mesh representation of this Surface constructed from a sub-sampling of Points determined by `surf.tol_u`, `surf.tol_v`.</td>\n",
    "    </tr>\n",
    "    <tr>\n",
    "        <td style=\"width:20%\">`srf.u0`<br>`srf.u1`<br>`srf.v0`<br>`srf.v1`</td>\n",
    "        <td style=\"width:20%\">Float</td>\n",
    "        <td style=\"width:60%\">Returns the upper or lower bounds of the related `u` or `v` domain Interval.</td>\n",
    "    </tr>\n",
    "</table>"
   ]
  },
  {
   "cell_type": "markdown",
   "metadata": {},
   "source": [
    "<img src=\"http://geometric-computation-images.s3-website-us-east-1.amazonaws.com/1.12.P04.jpg\" style=\"width: 600px; display: inline;\">"
   ]
  },
  {
   "cell_type": "code",
   "execution_count": null,
   "metadata": {},
   "outputs": [],
   "source": [
    "\"\"\"\n",
    "Surface Evaluation\n",
    "Evaluates this Surface and returns a Point. u and v are float values that fall within the defined \n",
    "domain of this Surface.\n",
    "\"\"\"\n",
    "def deval(self,u,v):\n",
    "    return Point(self.func(u,v))"
   ]
  },
  {
   "cell_type": "code",
   "execution_count": null,
   "metadata": {},
   "outputs": [],
   "source": [
    "\"\"\"\n",
    "Surface Evaluation\n",
    "Evaluates this Surface and returns a Point. u and v are normalized float values (0-\\>1) which will \n",
    "be remapped to the domain defined by this Surface.\n",
    "\"\"\" \n",
    "def eval(self,u,v):\n",
    "    return self.deval(\n",
    "        Interval.remap(u,Interval(),self.domain_u),\n",
    "        Interval.remap(v,Interval(),self.domain_v)\n",
    "        )"
   ]
  },
  {
   "cell_type": "markdown",
   "metadata": {},
   "source": [
    "<img src=\"http://geometric-computation-images.s3-website-us-east-1.amazonaws.com/1.12.P05.jpg\" style=\"width: 600px; display: inline;\">"
   ]
  },
  {
   "cell_type": "code",
   "execution_count": null,
   "metadata": {},
   "outputs": [],
   "source": [
    "\"\"\"\n",
    "Isoparms\n",
    "Isoparametric Curves and PLines may be extracted from Surfaces using the methods seen below. Keyword \n",
    "arguments are passed to define the value of the fixed parameter, such that a u-isoparm is constructed\n",
    "with a fixed value for v, and vice-versa.\n",
    "\"\"\"\n",
    "# a curve for which u varies and v is fixed \n",
    "iso_u = surf.isocurve( v_val = 0.5 ) \n",
    "\n",
    "# a polyine for which u is fixed and v varies.\n",
    "iso_v = surf.isopolyline( u_val = 0.25, res = 20 ) "
   ]
  },
  {
   "cell_type": "markdown",
   "metadata": {},
   "source": [
    "<img src=\"http://geometric-computation-images.s3-website-us-east-1.amazonaws.com/1.12.P03.jpg\" style=\"width: 600px; display: inline;\">"
   ]
  },
  {
   "cell_type": "code",
   "execution_count": null,
   "metadata": {},
   "outputs": [],
   "source": [
    "\"\"\"\n",
    "Surface Mesh\n",
    "\"\"\"\n",
    "v_vals = Interval().divide(res_v,True)\n",
    "u_vals = Interval().divide(res_u,True)\n",
    "pts = [surf.eval(u,v) for v in v_vals for u in u_vals]\n",
    "msh = Mesh(pts)\n",
    "\n",
    "for j in range(res_v):\n",
    "    row = j*(res_u+1)\n",
    "    for i in range(res_u):\n",
    "        pi_0 = row+i\n",
    "        pi_1 = row+i+1\n",
    "        pi_2 = row+i+res_u+2\n",
    "        pi_3 = row+i+res_u+1\n",
    "        msh.add_face(pi_0,pi_1,pi_2,pi_3)"
   ]
  },
  {
   "cell_type": "markdown",
   "metadata": {},
   "source": [
    "## Crafting Parametric Surfaces\n",
    "\n",
    "Having defined the basic elements of a parameterized surface in code, we have all we need to construct our own Surfaces. \n",
    "\n",
    "As with Curves, all that this requires is the definition of a coordinate function and the specification of the appropriate pair of domain intervals. \n",
    "\n",
    "Such a format should ring familiar, since it recalls not only the format of a Curve, but also the Mathematical Monsters series of examples that we introduced earlier."
   ]
  },
  {
   "cell_type": "code",
   "execution_count": 7,
   "metadata": {},
   "outputs": [],
   "source": [
    "\"\"\"\n",
    "A Monstrous Surface\n",
    "The construction of Surfaces reflect the format we employed in an earlier series of examples. Here, \n",
    "a flower-like surface is defined. On its own, the Surface itself is difficult to visualize without \n",
    "extracting some form of discrete representation.\n",
    "\"\"\"\n",
    "a,b = 1,1\n",
    "\n",
    "ival_u, ival_v = Interval.twopi(), Interval.twopi()\n",
    "def func(u,v):\n",
    "    x = ( (a+1)*math.cos(u) + math.cos(u*(a+1)) ) * (v + 1)\n",
    "    y = ( (a+1)*math.sin(u) + math.sin(u*(a+1)) ) * (v + 1)\n",
    "    z = 3.0*math.sin(v*b)\n",
    "    return Point (x,y,z)\n",
    "    \n",
    "srf = Surface(func,ival_u, ival_v)"
   ]
  },
  {
   "cell_type": "markdown",
   "metadata": {},
   "source": [
    "The code below plots a Mesh along this Surface with an arbitrary density of faces.\n"
   ]
  },
  {
   "cell_type": "code",
   "execution_count": null,
   "metadata": {},
   "outputs": [],
   "source": [
    "\"\"\"\n",
    "Mesh Extraction from Surface\n",
    "A discrete Mesh may be extracted from a Surface as a surrogate. Here, we construct a Mesh version \n",
    "of the monstrous Surface defined above.\n",
    "\"\"\"\n",
    "srf.tol_u = srf.domain_u.delta / count_u\n",
    "srf.tol_v = srf.domain_v.delta / count_v\n",
    "msh = srf.surrogate"
   ]
  },
  {
   "cell_type": "markdown",
   "metadata": {},
   "source": [
    "<img src=\"http://geometric-computation-images.s3-website-us-east-1.amazonaws.com/1.12.P17.jpg\" style=\"width: 200px; display: inline;\">"
   ]
  },
  {
   "cell_type": "markdown",
   "metadata": {},
   "source": [
    "<img src=\"http://geometric-computation-images.s3-website-us-east-1.amazonaws.com/1.12.P16.jpg\" style=\"width: 200px; display: inline;\">"
   ]
  },
  {
   "cell_type": "code",
   "execution_count": null,
   "metadata": {},
   "outputs": [],
   "source": [
    "\"\"\"\n",
    "Orecchiette Surface Parametrization\n",
    "Based on work by George L. Legendre in Pasta by Design\n",
    "\"\"\"\n",
    "ival_u, ival_v = Interval(0,15), Interval(0,150)    \n",
    "def func (u, v):\n",
    "    upi,vpi = u*pi,v*pi\n",
    "    x = 2/3*v*cos(upi/75) + 0.3*cos(2/15*upi)\n",
    "    y = 10*sin(upi/75)\n",
    "    z = 0.1*cos(upi/3) + \n",
    "        5*(cos(vpi/30)**2) * (0.5 + 0.5*(cos(2*upi/75)))**4  + \n",
    "        1.5*(0.5 + 0.5*cos(2*upi/75))**5 * sin(vpi/30)**10\n",
    "    return Point(x,y,z)"
   ]
  },
  {
   "cell_type": "markdown",
   "metadata": {},
   "source": [
    "While appropriating existing surface parameterizations is a straightforward exploratory exercise, these methods on their own do not help us to compose surfaces that meet specific aims, or to craft our own parameterizations with precision.\n",
    "\n",
    "We must be able to discern the meaning of those parameters that drive known surfaces in order to effectively guide their modification, and should be able to craft our own parameterizations such that a desired set of properties is produced. Nothing develops this skill as effectively as familiarity with a wide variety of precedents.\n",
    "\n",
    "With this aim in mind, here we turn to examining some mathematical surfaces represented in a more familiar way, starting with a surface represented by a function $z = f(x,y)$ which maps a point in the x-y plane to a point above or below in space.\n",
    "\n",
    "\n",
    "\n",
    "\n"
   ]
  },
  {
   "cell_type": "markdown",
   "metadata": {},
   "source": [
    "<img src=\"http://geometric-computation-images.s3-website-us-east-1.amazonaws.com/1.12.E01.P01.jpg\" style=\"width: 200px; display: inline;\">"
   ]
  },
  {
   "cell_type": "markdown",
   "metadata": {},
   "source": [
    "When the given point is restricted to a rectangle, a mathematician would call such a surface a ***graph of the function***. \n",
    "\n",
    "This form can be easily parameterized by letting the domain be the rectangle in the plane, which is also the surface as seen from above. We may express a graph surface in the more familiar format of a parameterization function and domain by setting $u = x$ and $v = y$:"
   ]
  },
  {
   "cell_type": "markdown",
   "metadata": {},
   "source": [
    "\\begin{align*}\n",
    "x &= u\\\\\n",
    "y &= v\\\\\n",
    "z &= f(u,v)\\\\\n",
    "u\\colon a &\\rightarrow b \\\\\n",
    "v\\colon c &\\rightarrow d\n",
    "\\end{align*}"
   ]
  },
  {
   "cell_type": "markdown",
   "metadata": {},
   "source": [
    "In this format, the evaluation function for any graph surface produces a Point with `x` and `y` coordinates that match the given `u` and `v` arguments, and has a height given by the graph function."
   ]
  },
  {
   "cell_type": "markdown",
   "metadata": {},
   "source": [
    "<img src=\"http://geometric-computation-images.s3-website-us-east-1.amazonaws.com/1.12.E01.P02.jpg\" style=\"width: 600px; display: inline;\">"
   ]
  },
  {
   "cell_type": "markdown",
   "metadata": {},
   "source": [
    "<img src=\"http://geometric-computation-images.s3-website-us-east-1.amazonaws.com/1.12.E01.P03.jpg\" style=\"width: 200px; display: inline;\">"
   ]
  },
  {
   "cell_type": "code",
   "execution_count": null,
   "metadata": {},
   "outputs": [],
   "source": [
    "\"\"\"\n",
    "A Graph Surface\n",
    "Graph surfaces exhibit a direct relationship between their domains, which may be understood as \n",
    "rectangular patches on the x-y plane, and the resulting form, which conforms to this shape when \n",
    "viewed from above. Here we see the graph surface related to the \"product of lines\" function.\n",
    "\"\"\"\n",
    "ival_u, ival_v = Interval(a,b), Interval(c,d)    \n",
    "def func(u,v):\n",
    "    z = (u - a)*(u - b)*(v - c)*(v - d)\n",
    "    return Point(u,v,z)"
   ]
  },
  {
   "cell_type": "markdown",
   "metadata": {},
   "source": [
    "The graph surface is not the limit of what can be achieved within the constraints of a rectangular domain.\n",
    "\n",
    "***A rectangular domain need not produce a rectangular surface***.\n",
    "\n",
    "To see this clearly, we may consider how the alternate coordinate geometries allow us to describe a number of useful surfaces by parameterizations on a rectangular domain."
   ]
  },
  {
   "cell_type": "markdown",
   "metadata": {},
   "source": [
    "### Parameterization Using Alternate Coordinate Geometries\n",
    "\n",
    "Many of the most elemental parameterizations with which we should\n",
    "be familiar employ some modification of cylindrical and spherical\n",
    "coordinates.\n",
    "\n",
    "A basic literacy in\n",
    "these alternate ways of representing points in space enables access\n",
    "to a rich world of already-discovered surface parameterizations.\n",
    "\n",
    "#### Constant Surfaces\n",
    "The most immediate surfaces associated\n",
    "with these alternate systems of coordinates are the ***constant\n",
    "surfaces*** that result from ***setting one parameter to a constant value,\n",
    "while allowing the other two to vary.***"
   ]
  },
  {
   "cell_type": "markdown",
   "metadata": {},
   "source": [
    "<img src=\"http://geometric-computation-images.s3-website-us-east-1.amazonaws.com/1.12.E01.P04.jpg\" style=\"width: 600px; display: inline;\">"
   ]
  },
  {
   "cell_type": "code",
   "execution_count": null,
   "metadata": {},
   "outputs": [],
   "source": [
    "\"\"\" \n",
    "A Cylindrical Surface\n",
    "Rather than defining a Point directly in Cartesian coordinates, we may construct a cylindrical \n",
    "surface by plotting Points in cylindrical space.\n",
    "\"\"\"\n",
    "ival_u, ival_v = Interval.twopi(), Interval(0,h)\n",
    "def func(u,v):\n",
    "    return CS().eval_cyl(const, u, v)"
   ]
  },
  {
   "cell_type": "markdown",
   "metadata": {},
   "source": [
    "<img src=\"http://geometric-computation-images.s3-website-us-east-1.amazonaws.com/1.12.E01.P05.jpg\" style=\"width: 600px; display: inline;\">"
   ]
  },
  {
   "cell_type": "code",
   "execution_count": null,
   "metadata": {},
   "outputs": [],
   "source": [
    "\"\"\"\n",
    "Spherical Patch Surface\n",
    "By employing spherical coordinates, we can adjust the boundary parallels and meridians of a \n",
    "spherical patch. \n",
    "\"\"\"\n",
    "ival_u, ival_v = Interval(theta_0, theta_1), Interval(phi_0,phi_1)\n",
    "def func(u,v):\n",
    "    rho = const\n",
    "    theta, phi = u,v\n",
    "    return CS().eval_sph(rho,phi,theta)"
   ]
  },
  {
   "cell_type": "markdown",
   "metadata": {},
   "source": [
    "#### Modifications of Constant Surfaces\n",
    "\n",
    "Consider the considerable range of shapes that are\n",
    "made possible by making controlled modifications to the parameterizations of constant surfaces."
   ]
  },
  {
   "cell_type": "markdown",
   "metadata": {},
   "source": [
    "#### Helicoid"
   ]
  },
  {
   "cell_type": "markdown",
   "metadata": {},
   "source": [
    "<img src=\"http://geometric-computation-images.s3-website-us-east-1.amazonaws.com/1.12.E01.P07.jpg\" style=\"width: 200px; display: inline;\">"
   ]
  },
  {
   "cell_type": "code",
   "execution_count": null,
   "metadata": {},
   "outputs": [],
   "source": [
    "\"\"\"\n",
    "Helicoid\n",
    "Constructs a helix-like Surface given parameters r1, r2 that define the inner and outer radii, \n",
    "n that defines the number of turns, and b that relates to the overall height.\n",
    "\"\"\"\n",
    "ival_u, ival_v = Interval(0, 2*pi*n), Interval(r1,r2)\n",
    "def func(u,v):\n",
    "    return CS().eval_cyl( v, u, b*u )"
   ]
  },
  {
   "cell_type": "markdown",
   "metadata": {},
   "source": [
    "#### Catenoid"
   ]
  },
  {
   "cell_type": "markdown",
   "metadata": {},
   "source": [
    "<img src=\"http://geometric-computation-images.s3-website-us-east-1.amazonaws.com/1.12.E01.P08.jpg\" style=\"width: 200px; display: inline;\">"
   ]
  },
  {
   "cell_type": "code",
   "execution_count": null,
   "metadata": {},
   "outputs": [],
   "source": [
    "\"\"\"\n",
    "Catenoid\n",
    "Constructs an hourglass-like Surface given parameters h that defines the height, and c that defines \n",
    "the curvature and horizontal extents. \n",
    "\"\"\"\n",
    "ival_u, ival_v = Interval.twopi(), Interval(-h/2,h/2)   \n",
    "def func(u,v):\n",
    "    return CS().eval_cyl( cosh(v/c), u, v )"
   ]
  },
  {
   "cell_type": "markdown",
   "metadata": {},
   "source": [
    "#### Torus"
   ]
  },
  {
   "cell_type": "markdown",
   "metadata": {},
   "source": [
    "<img src=\"http://geometric-computation-images.s3-website-us-east-1.amazonaws.com/1.12.E01.P09.jpg\" style=\"width: 200px; display: inline;\">"
   ]
  },
  {
   "cell_type": "code",
   "execution_count": null,
   "metadata": {},
   "outputs": [],
   "source": [
    "\"\"\"\n",
    "Torus\n",
    "Constructs an doughnut-like Surface given parameters r1 (shown as R in equation) that defines the \n",
    "primary radius and r2 (shown as r) that defines the secondary radius.\n",
    "\"\"\"\n",
    "ival_u, ival_v = Interval(theta0,theta1), Interval.twopi()\n",
    "def func(u,v):\n",
    "    x = (r1 + r2*cos(v))*cos(u)\n",
    "    y = (r1 + r2*cos(v))*sin(u)\n",
    "    z = r2*sin(v)\n",
    "    return Point(x,y,z)"
   ]
  },
  {
   "cell_type": "markdown",
   "metadata": {},
   "source": [
    "#### Superellipsoid"
   ]
  },
  {
   "cell_type": "markdown",
   "metadata": {},
   "source": [
    "<img src=\"http://geometric-computation-images.s3-website-us-east-1.amazonaws.com/1.12.E01.P10.jpg\" style=\"width: 600px; display: inline;\">"
   ]
  },
  {
   "cell_type": "code",
   "execution_count": null,
   "metadata": {},
   "outputs": [],
   "source": [
    "\"\"\"\n",
    "Superellipsoid\n",
    "Constructs a pillow-like Surface given parameters dim_x, dim_y, and dim_z that describe the \n",
    "dimensions of the bounding box, and parameters m and n that describe the 'puffiness' of the \n",
    "resulting form.\n",
    "\"\"\"\n",
    "ival_u, ival_v = Interval.twopi(), Interval(0, pi)\n",
    "\n",
    "def sgn_pow(x, alpha):\n",
    "    if x == 0: return 0\n",
    "    return abs(x)**alpha * (x/abs(x))\n",
    "    \n",
    "def func(u,v):\n",
    "    x = sgn_pow(sin(v),m) * sgn_pow(cos(u),n)\n",
    "    y = sgn_pow(sin(v),m) * sgn_pow(sin(u),n)\n",
    "    z = sgn_pow(cos(v),m)\n",
    "    return Point(dim_x * x, dim_y * y, dim_z * z)"
   ]
  }
 ],
 "metadata": {
  "kernelspec": {
   "display_name": "Python 2",
   "language": "python",
   "name": "python2"
  },
  "language_info": {
   "codemirror_mode": {
    "name": "ipython",
    "version": 2
   },
   "file_extension": ".py",
   "mimetype": "text/x-python",
   "name": "python",
   "nbconvert_exporter": "python",
   "pygments_lexer": "ipython2",
   "version": "2.7.10"
  }
 },
 "nbformat": 4,
 "nbformat_minor": 2
}
