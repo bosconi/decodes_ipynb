{
 "cells": [
  {
   "cell_type": "code",
   "execution_count": null,
   "metadata": {},
   "outputs": [],
   "source": [
    "from decodes.core import *\n",
    "from decodes.io.jupyter_out import JupyterOut\n",
    "import math\n",
    "\n",
    "out = JupyterOut.unit_square( )"
   ]
  },
  {
   "cell_type": "markdown",
   "metadata": {},
   "source": [
    "# Classical Surfaces\n",
    "todo"
   ]
  },
  {
   "cell_type": "markdown",
   "metadata": {},
   "source": [
    "## Rotational Surfaces"
   ]
  },
  {
   "cell_type": "markdown",
   "metadata": {},
   "source": [
    "<img src=\"http://geometric-computation-images.s3-website-us-east-1.amazonaws.com/1.12.P06.jpg\" style=\"width: 200px; display: inline;\">"
   ]
  },
  {
   "cell_type": "code",
   "execution_count": null,
   "metadata": {},
   "outputs": [],
   "source": [
    "\"\"\"\n",
    "Rotational Surface\n",
    "The parameterization function for a rotational surface may be expressed as the plotting of a Point \n",
    "on a given Curve crv at parameter v, and the transformation of this Point by an Xform defined by an \n",
    "axis Ray and the evaluation of an Interval of allowable rotation angles by parameter u.\n",
    "\"\"\"\n",
    "def func(u,v):\n",
    "    pt = crv.eval(v)\n",
    "    angle = rot_ival.eval(u)\n",
    "    xf = Xform.rotation( axis=axis.vec, angle=angle, center=axis.spt )\n",
    "    return pt*xf "
   ]
  },
  {
   "cell_type": "markdown",
   "metadata": {},
   "source": [
    "<img src=\"http://geometric-computation-images.s3-website-us-east-1.amazonaws.com/1.12.P07.jpg\" style=\"width: 200px; display: inline;\">"
   ]
  },
  {
   "cell_type": "code",
   "execution_count": null,
   "metadata": {},
   "outputs": [],
   "source": [
    "\"\"\"\n",
    "Rotational Surface\n",
    "Rotational surfaces are encapsulated by the subclass RotationalSurface in a Decod.es extension. \n",
    "Expressing this class of Surfaces as its own subclass allows for certain properties to be defined \n",
    "in more specific ways.\n",
    "\"\"\"\n",
    "from decodes.extensions.classical_surfaces import *\n",
    "surf = RotationalSurface(crv, axis = axis, dom_u = rot_ival )\n",
    "\n",
    "# a Curve along an edge of the Surface\n",
    "srf.isocurve( v_val = 0.0 )\n",
    "# an Arc through the middle of the Surface\n",
    "srf.isocurve( u_val = rot_ival.eval(0.5) )"
   ]
  },
  {
   "cell_type": "markdown",
   "metadata": {},
   "source": [
    "## Translational Surfaces"
   ]
  },
  {
   "cell_type": "markdown",
   "metadata": {},
   "source": [
    "<img src=\"http://geometric-computation-images.s3-website-us-east-1.amazonaws.com/1.12.P08.jpg\" style=\"width: 200px; display: inline;\">"
   ]
  },
  {
   "cell_type": "code",
   "execution_count": null,
   "metadata": {},
   "outputs": [],
   "source": [
    "\"\"\"\n",
    "Extrusion Surface\n",
    "Constructed by translating a curve along the vector of a given Segment.\n",
    "\"\"\"\n",
    "origin = line.spt\n",
    "def func(u,v):\n",
    "    vec = line.eval(u) - origin\n",
    "    return crv.eval(v) + vec"
   ]
  },
  {
   "cell_type": "markdown",
   "metadata": {},
   "source": [
    "<img src=\"http://geometric-computation-images.s3-website-us-east-1.amazonaws.com/1.12.P09.jpg\" style=\"width: 200px; display: inline;\">"
   ]
  },
  {
   "cell_type": "code",
   "execution_count": null,
   "metadata": {},
   "outputs": [],
   "source": [
    "\"\"\"\n",
    "Translational Surface\n",
    "Constructed by translating a generator Curve along a directrix Curve\n",
    "\"\"\"\n",
    "def func(u,v):\n",
    "    vec = directrix.eval(u) - origin\n",
    "    return generator.eval(v) + vec"
   ]
  },
  {
   "cell_type": "markdown",
   "metadata": {},
   "source": [
    "<img src=\"http://geometric-computation-images.s3-website-us-east-1.amazonaws.com/1.12.P10.jpg\" style=\"width: 200px; display: inline;\">"
   ]
  },
  {
   "cell_type": "markdown",
   "metadata": {},
   "source": [
    "<img src=\"http://geometric-computation-images.s3-website-us-east-1.amazonaws.com/1.12.E06.P01.jpg\" style=\"width: 200px; display: inline;\">"
   ]
  },
  {
   "cell_type": "code",
   "execution_count": null,
   "metadata": {},
   "outputs": [],
   "source": [
    "\"\"\"\n",
    "Parabolic Sine Surface\n",
    "\"\"\"\n",
    "def func_gen(t):\n",
    "    return Point( t, 0, sin(t) )\n",
    "\n",
    "def func_dir(t):\n",
    "    return Point( 0, 2*t, -t*t )\n",
    "    \n",
    "generator = Curve( func_gen, Interval(0,4.5*pi) )\n",
    "directrix = Curve( func_dir, Interval(-2,2) )\n",
    "srf = TranslationalSurface( generator, directrix, Point() )"
   ]
  },
  {
   "cell_type": "markdown",
   "metadata": {},
   "source": [
    "<img src=\"http://geometric-computation-images.s3-website-us-east-1.amazonaws.com/1.12.E06.P02.jpg\" style=\"width: 200px; display: inline;\">"
   ]
  },
  {
   "cell_type": "code",
   "execution_count": null,
   "metadata": {},
   "outputs": [],
   "source": [
    "\"\"\"\n",
    "Skew Cosine Surface\n",
    "Constructs a hat-like Surface given parameters for the height hei, length len, and skew amount skw.\n",
    "\"\"\"\n",
    "def func_gen(t):\n",
    "    xf_rot = Xform.rotation( angle = skw*pi/4 )\n",
    "    return xf_rot*Point(t, 0, (hei/2)*(1-cos(2*pi*t/len)))\n",
    "\n",
    "def func_dir(t):\n",
    "    xf_rot = Xform.rotation( angle = -skw*pi/4 )\n",
    "    return xf_rot*Point(0, t, (hei/2)*(1-cos(2*pi*t/len)))\n",
    "\n",
    "generator = Curve( func_gen, Interval(0, len) )\n",
    "directrix = Curve( func_dir, Interval(0, len) )\n",
    "srf = TranslationalSurface( generator, directrix, Point() )"
   ]
  },
  {
   "cell_type": "markdown",
   "metadata": {},
   "source": [
    "<img src=\"http://geometric-computation-images.s3-website-us-east-1.amazonaws.com/1.12.E06.P03.jpg\" style=\"width: 200px; display: inline;\">"
   ]
  },
  {
   "cell_type": "code",
   "execution_count": null,
   "metadata": {},
   "outputs": [],
   "source": [
    "\"\"\"\n",
    "Elliptic Paraboloid\n",
    "Constructs a Surface given parameters for the length len, width wid, and height hei.\n",
    "\"\"\"\n",
    "def func_gen(t):\n",
    "    return Point( len*t, 0, hei*t*t )\n",
    "\n",
    "def func_dir(t):\n",
    "    return Point( 0, wid*t, hei*t*t )\n",
    "\n",
    "generator = Curve( func_gen, Interval(-1,1) )\n",
    "directrix = Curve( func_dir, Interval(-1,1) ) \n",
    "srf = TranslationalSurface( generator, directrix, Point() )"
   ]
  },
  {
   "cell_type": "markdown",
   "metadata": {},
   "source": [
    "<img src=\"http://geometric-computation-images.s3-website-us-east-1.amazonaws.com/1.12.E06.P04.jpg\" style=\"width: 200px; display: inline;\">"
   ]
  },
  {
   "cell_type": "code",
   "execution_count": null,
   "metadata": {},
   "outputs": [],
   "source": [
    "\"\"\"\n",
    "Hyperbolic Paraboloid\n",
    "Constructs a Surface given parameters for the length len, width wid, and height hei. Although the \n",
    "parameterization and the boundary conditions differ, this surface is identical to that constructed \n",
    "as a ruled surface by connecting two Segments.\n",
    "\"\"\"\n",
    "def func_gen(t):\n",
    "    return Point( len*t, 0, hei*t*t )\n",
    "\n",
    "def func_dir(t):\n",
    "    return Point( 0, wid*t, -hei*t*t )\n",
    "   \n",
    "generator = Curve( func_gen, Interval(-1,1) )\n",
    "directrix = Curve( func_dir, Interval(-1,1) )    \n",
    "srf = TranslationalSurface( generator, directrix, Point() )"
   ]
  },
  {
   "cell_type": "markdown",
   "metadata": {},
   "source": [
    "## Ruled Surfaces"
   ]
  },
  {
   "cell_type": "markdown",
   "metadata": {},
   "source": [
    "<img src=\"http://geometric-computation-images.s3-website-us-east-1.amazonaws.com/1.12.P11.jpg\" style=\"width: 600px; display: inline;\">"
   ]
  },
  {
   "cell_type": "code",
   "execution_count": null,
   "metadata": {},
   "outputs": [],
   "source": [
    "\"\"\"\n",
    "Base-Director Construction of a Ruled Surface \n",
    "Construction by moving a Segment of fixed length along a base curve with direction given by director\n",
    "\"\"\"\n",
    "def func(u,v):\n",
    "    return base_crv.eval(u) + director_crv.eval(u)*v"
   ]
  },
  {
   "cell_type": "markdown",
   "metadata": {},
   "source": [
    "<img src=\"http://geometric-computation-images.s3-website-us-east-1.amazonaws.com/1.12.P12.jpg\" style=\"width: 200px; display: inline;\">"
   ]
  },
  {
   "cell_type": "code",
   "execution_count": null,
   "metadata": {},
   "outputs": [],
   "source": [
    "\"\"\"\n",
    "Point-Pair Construction of a Ruled Surface\n",
    "Construction by connecting corresponding points along two curves\n",
    "\"\"\"\n",
    "def func(u,v):\n",
    "    ruling = Segment(crv_a.eval(u), crv_b.eval(u))\n",
    "    return ruling.eval(v)"
   ]
  },
  {
   "cell_type": "markdown",
   "metadata": {},
   "source": [
    "<img src=\"http://geometric-computation-images.s3-website-us-east-1.amazonaws.com/1.12.P13.jpg\" style=\"width: 600px; display: inline;\">"
   ]
  },
  {
   "cell_type": "markdown",
   "metadata": {},
   "source": [
    "<img src=\"http://geometric-computation-images.s3-website-us-east-1.amazonaws.com/1.12.E06.P07.jpg\" style=\"width: 200px; display: inline;\">"
   ]
  },
  {
   "cell_type": "code",
   "execution_count": null,
   "metadata": {},
   "outputs": [],
   "source": [
    "\"\"\"\n",
    "Conoid\n",
    "Given a desired height hei, width wid, and integer number of turns trns, a Conoid Surface is \n",
    "defined with a base Curve of a vertical line Segment, a director Curve of a unit circle.\n",
    "\"\"\"\n",
    "crv_base = Segment(Point(), Point(0, 0, hei)) \n",
    "crv_dirc = Curve.circle( ival = Interval(0, trns*two_pi) )\n",
    "\n",
    "def func(u,v):\n",
    "    return crv_base.eval(u) + crv_dirc.eval(u)*v\n",
    "    \n",
    "surf = Surface( func, Interval(), Interval(0,wid) ) "
   ]
  },
  {
   "cell_type": "markdown",
   "metadata": {},
   "source": [
    "<img src=\"http://geometric-computation-images.s3-website-us-east-1.amazonaws.com/1.12.E06.P08.jpg\" style=\"width: 200px; display: inline;\">"
   ]
  },
  {
   "cell_type": "code",
   "execution_count": null,
   "metadata": {},
   "outputs": [],
   "source": [
    "\"\"\"\n",
    "Mobius Band\n",
    "Given a base radius rad, and a width wid, a Mobius Band is constructed with a base Curve of a \n",
    "circle and a director Curve that resembles a spherical bow-tie. \n",
    "\"\"\"\n",
    "\n",
    "def func_dirc(t):\n",
    "    return Point( cos(t/2)*cos(t), cos(t/2)*sin(t), sin(t/2) )\n",
    "\n",
    "crv_base = Curve.circle(rad = rad)\n",
    "crv_dirc = Curve(func_dirc, Interval.twopi())\n",
    "\n",
    "def func(u,v):\n",
    "    return crv_base.eval(u) + crv_dirc.eval(u)*v\n",
    "    \n",
    "surf = Surface( func, Interval(), Interval(-v1,v1) ) "
   ]
  },
  {
   "cell_type": "markdown",
   "metadata": {},
   "source": [
    "<img src=\"http://geometric-computation-images.s3-website-us-east-1.amazonaws.com/1.12.E06.P06.jpg\" style=\"width: 200px; display: inline;\">"
   ]
  },
  {
   "cell_type": "code",
   "execution_count": null,
   "metadata": {},
   "outputs": [],
   "source": [
    "\"\"\"\n",
    "Torqued Ellipse\n",
    "Constructs a ruled surface between two perpendicular-facing ellipses given parameters for the length \n",
    "len, width wid, and height hei of each. Note that the center of ellipse B is shifted. Inspired by the \n",
    "Richard Serra sculpture series with same name.\n",
    "\"\"\"\n",
    "\n",
    "def func_a(t):\n",
    "    return Point( len*cos(t), wid*sin(t) )\n",
    "\n",
    "def func_b(t):\n",
    "    return Point( wid*cos(t)-0.5, len*sin(t), hei )\n",
    "    \n",
    "crv_a = Curve(func_a, Interval(0, 1.9*pi))\n",
    "crv_b = Curve(func_b, Interval(.1*pi, 2*pi))\n",
    "\n",
    "\n",
    "def func(u,v):\n",
    "    return Segment( crv_a.eval(u), crv_b.eval(u) ).eval(v)\n",
    "\n",
    "surf = Surface(func)"
   ]
  },
  {
   "cell_type": "markdown",
   "metadata": {},
   "source": [
    "<img src=\"http://geometric-computation-images.s3-website-us-east-1.amazonaws.com/1.12.E06.P05.jpg\" style=\"width: 200px; display: inline;\">"
   ]
  },
  {
   "cell_type": "code",
   "execution_count": null,
   "metadata": {},
   "outputs": [],
   "source": [
    "\"\"\"\n",
    "Hyperbolic Paraboloid\n",
    "Demonstrates the construction of a hyperbolic paraboloid as a ruled surface by connecting points on \n",
    "two line Segments. Although the parameterization and the boundary conditions differ, this surface is \n",
    "identical to that constructed via translation.\n",
    "\"\"\"\n",
    "crv_a = Segment(Point(len, 0, hei), Point(0, wid, -hei))\n",
    "crv_b = Segment(Point(0, -wid, -hei), Point(-len, 0, hei))\n",
    "\n",
    "def func(u,v):\n",
    "    return Segment( crv_a.eval(u), crv_b.eval(u) ).eval(v)\n",
    "\n",
    "surf = Surface(func)"
   ]
  },
  {
   "cell_type": "markdown",
   "metadata": {},
   "source": [
    "## Protean Classical Surfaces"
   ]
  },
  {
   "cell_type": "markdown",
   "metadata": {},
   "source": [
    "<img src=\"http://geometric-computation-images.s3-website-us-east-1.amazonaws.com/1.12.E06.P10.jpg\" style=\"width: 200px; display: inline;\">"
   ]
  },
  {
   "cell_type": "code",
   "execution_count": null,
   "metadata": {},
   "outputs": [],
   "source": [
    "\"\"\"\n",
    "Hyperboloid\n",
    "Constructed by connecting points on two circles\n",
    "\"\"\"\n",
    "#circle in plane\n",
    "crv_a = Curve.circle(Point(), rad))\n",
    "\n",
    "#circle at height with shifted startpoint\n",
    "def circle_twist(t):\n",
    "    x = rad*cos(t+twist)\n",
    "    y = rad*sin(t+twist)\n",
    "    #height expressed in terms of length and twist\n",
    "    z = sqrt(length*length-4*(sin(twist/2))**2) \n",
    "    return Point(x,y,z)\n",
    "\n",
    "crv_b = Curve(circle_twist, Interval.twopi()))"
   ]
  },
  {
   "cell_type": "markdown",
   "metadata": {},
   "source": [
    "<img src=\"http://geometric-computation-images.s3-website-us-east-1.amazonaws.com/1.12.E06.P11.jpg\" style=\"width: 600px; display: inline;\">"
   ]
  },
  {
   "cell_type": "code",
   "execution_count": null,
   "metadata": {},
   "outputs": [],
   "source": []
  }
 ],
 "metadata": {
  "kernelspec": {
   "display_name": "Python 3",
   "language": "python",
   "name": "python3"
  },
  "language_info": {
   "codemirror_mode": {
    "name": "ipython",
    "version": 3
   },
   "file_extension": ".py",
   "mimetype": "text/x-python",
   "name": "python",
   "nbconvert_exporter": "python",
   "pygments_lexer": "ipython3",
   "version": "3.6.4"
  }
 },
 "nbformat": 4,
 "nbformat_minor": 2
}
