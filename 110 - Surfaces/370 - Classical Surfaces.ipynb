{
 "cells": [
  {
   "cell_type": "code",
   "execution_count": null,
   "metadata": {},
   "outputs": [],
   "source": [
    "from decodes.core import *\n",
    "from decodes.io.jupyter_out import JupyterOut\n",
    "import math\n",
    "\n",
    "out = JupyterOut.unit_square( )"
   ]
  },
  {
   "cell_type": "markdown",
   "metadata": {},
   "source": [
    "# Classical Surfaces\n",
    "\n",
    "\n",
    "In this section, we introduce several classes of surface that can assist\n",
    "us in meeting some of the demanding dictates of realizing a form,\n",
    "and that possess desirable surface properties. \n",
    "\n",
    "Each of these are constructed by subjecting a\n",
    "number of initial curves to some form of transformation. \n",
    "\n",
    "Many classical\n",
    "surfaces may be described in terms of the lower-level curves that\n",
    "comprise them. \n",
    "\n",
    "As such, in this section we may expect to see surface\n",
    "parameterization functions that ***do not define coordinates in space\n",
    "directly***, but rather rely on the evaluation of a subsidiary curve or set\n",
    "of curves.\n",
    "\n",
    "We focus on just three categories of classical surface:\n",
    "* rotational\n",
    "* translational \n",
    "* ruled"
   ]
  },
  {
   "cell_type": "markdown",
   "metadata": {},
   "source": [
    "## Rotational Surfaces\n",
    "\n",
    "Rotational surfaces are those that are constructed by rotating a given guide curve about an axis."
   ]
  },
  {
   "cell_type": "markdown",
   "metadata": {},
   "source": [
    "<img src=\"http://geometric-computation-images.s3-website-us-east-1.amazonaws.com/1.12.P06.jpg\" style=\"width: 200px; display: inline;\">"
   ]
  },
  {
   "cell_type": "markdown",
   "metadata": {},
   "source": [
    "A generalized rotational surface can be defined as one with a parameterization function that relies upon three additional inputs: `crv`, the curve to be rotated; `axis`, a Ray describing the axis of rotation; and `rot_ival`, an Interval of allowable rotation angles. \n",
    "\n",
    "In the parameterization function below, a Point is constructed by first evaluating `crv`, and then subjecting the result to a rotation transformation."
   ]
  },
  {
   "cell_type": "code",
   "execution_count": null,
   "metadata": {},
   "outputs": [],
   "source": [
    "\"\"\"\n",
    "Rotational Surface\n",
    "The parameterization function for a rotational surface may be expressed as the plotting of a Point \n",
    "on a given Curve crv at parameter v, and the transformation of this Point by an Xform defined by an \n",
    "axis Ray and the evaluation of an Interval of allowable rotation angles by parameter u.\n",
    "\"\"\"\n",
    "def func(u,v):\n",
    "    pt = crv.eval(v)\n",
    "    angle = rot_ival.eval(u)\n",
    "    xf = Xform.rotation( axis=axis.vec, angle=angle, center=axis.spt )\n",
    "    return pt*xf "
   ]
  },
  {
   "cell_type": "markdown",
   "metadata": {},
   "source": [
    "<img src=\"http://geometric-computation-images.s3-website-us-east-1.amazonaws.com/1.12.P07.jpg\" style=\"width: 200px; display: inline;\">"
   ]
  },
  {
   "cell_type": "code",
   "execution_count": null,
   "metadata": {},
   "outputs": [],
   "source": [
    "\"\"\"\n",
    "Rotational Surface\n",
    "Rotational surfaces are encapsulated by the subclass RotationalSurface in a Decod.es extension. \n",
    "Expressing this class of Surfaces as its own subclass allows for certain properties to be defined \n",
    "in more specific ways.\n",
    "\"\"\"\n",
    "from decodes.extensions.classical_surfaces import *\n",
    "surf = RotationalSurface(crv, axis = axis, dom_u = rot_ival )\n",
    "\n",
    "# a Curve along an edge of the Surface\n",
    "srf.isocurve( v_val = 0.0 )\n",
    "# an Arc through the middle of the Surface\n",
    "srf.isocurve( u_val = rot_ival.eval(0.5) )"
   ]
  },
  {
   "cell_type": "markdown",
   "metadata": {},
   "source": [
    "## Translational Surfaces\n",
    "\n",
    "Translational surfaces are constructed by translating a curve - either linearly, or along another curve. \n",
    "\n",
    "The simplest translational surface is the former: an ***extrusion surface***,\n",
    "which results from a curve translated along a direction described by\n",
    "a line segment. Every point on such a surface is a result of translating\n",
    "a point on the curve by the vector of the segment."
   ]
  },
  {
   "cell_type": "markdown",
   "metadata": {},
   "source": [
    "<img src=\"http://geometric-computation-images.s3-website-us-east-1.amazonaws.com/1.12.P08.jpg\" style=\"width: 200px; display: inline;\">"
   ]
  },
  {
   "cell_type": "code",
   "execution_count": null,
   "metadata": {},
   "outputs": [],
   "source": [
    "\"\"\"\n",
    "Extrusion Surface\n",
    "Constructed by translating a curve along the vector of a given Segment.\n",
    "\"\"\"\n",
    "origin = line.spt\n",
    "def func(u,v):\n",
    "    vec = line.eval(u) - origin\n",
    "    return crv.eval(v) + vec"
   ]
  },
  {
   "cell_type": "markdown",
   "metadata": {},
   "source": [
    "This construction can be extended to the general case where the\n",
    "moving curve, called a ***generator***, is swept, not along a segment, but\n",
    "instead along another curve called the ***directrix***. If the origin denotes\n",
    "the intersection of the two, then any point can be constructed by\n",
    "translating a point on the generator by a vector determined by the\n",
    "directrix."
   ]
  },
  {
   "cell_type": "markdown",
   "metadata": {},
   "source": [
    "<img src=\"http://geometric-computation-images.s3-website-us-east-1.amazonaws.com/1.12.P09.jpg\" style=\"width: 200px; display: inline;\">"
   ]
  },
  {
   "cell_type": "code",
   "execution_count": null,
   "metadata": {},
   "outputs": [],
   "source": [
    "\"\"\"\n",
    "Translational Surface\n",
    "Constructed by translating a generator Curve along a directrix Curve\n",
    "\"\"\"\n",
    "def func(u,v):\n",
    "    vec = directrix.eval(u) - origin\n",
    "    return generator.eval(v) + vec"
   ]
  },
  {
   "cell_type": "markdown",
   "metadata": {},
   "source": [
    "<img src=\"http://geometric-computation-images.s3-website-us-east-1.amazonaws.com/1.12.P10.jpg\" style=\"width: 200px; display: inline;\">"
   ]
  },
  {
   "cell_type": "markdown",
   "metadata": {},
   "source": [
    "### Gallery of Translational Surfaces\n",
    "\n",
    "Translational surfaces require two input curves and a point of intersection. As implied by their name, the boundaries of this class of surface are translates of the two given curves, which makes it quite easy to envision the overall surface by defining two curves that align with the boundary edges and which meet at a point. The first two examples below are constructed in this way. An oft-used class of mathematical surfaces are the quadrics, many of which we have already seen such as the cone, sphere, cylinder as well as their elliptic and parabolic counterparts. A number of these quadrics can be constructed as translational surfaces, as evidenced by the second pair of examples below."
   ]
  },
  {
   "cell_type": "markdown",
   "metadata": {},
   "source": [
    "#### Parabolic Sine Surface"
   ]
  },
  {
   "cell_type": "markdown",
   "metadata": {},
   "source": [
    "<img src=\"http://geometric-computation-images.s3-website-us-east-1.amazonaws.com/1.12.E06.P01.jpg\" style=\"width: 200px; display: inline;\">"
   ]
  },
  {
   "cell_type": "code",
   "execution_count": null,
   "metadata": {},
   "outputs": [],
   "source": [
    "\"\"\"\n",
    "Parabolic Sine Surface\n",
    "\"\"\"\n",
    "def func_gen(t):\n",
    "    return Point( t, 0, sin(t) )\n",
    "\n",
    "def func_dir(t):\n",
    "    return Point( 0, 2*t, -t*t )\n",
    "    \n",
    "generator = Curve( func_gen, Interval(0,4.5*pi) )\n",
    "directrix = Curve( func_dir, Interval(-2,2) )\n",
    "srf = TranslationalSurface( generator, directrix, Point() )"
   ]
  },
  {
   "cell_type": "markdown",
   "metadata": {},
   "source": [
    "#### Skew Cosine Surface"
   ]
  },
  {
   "cell_type": "markdown",
   "metadata": {},
   "source": [
    "<img src=\"http://geometric-computation-images.s3-website-us-east-1.amazonaws.com/1.12.E06.P02.jpg\" style=\"width: 200px; display: inline;\">"
   ]
  },
  {
   "cell_type": "code",
   "execution_count": null,
   "metadata": {},
   "outputs": [],
   "source": [
    "\"\"\"\n",
    "Skew Cosine Surface\n",
    "Constructs a hat-like Surface given parameters for the height hei, length len, and skew amount skw.\n",
    "\"\"\"\n",
    "def func_gen(t):\n",
    "    xf_rot = Xform.rotation( angle = skw*pi/4 )\n",
    "    return xf_rot*Point(t, 0, (hei/2)*(1-cos(2*pi*t/len)))\n",
    "\n",
    "def func_dir(t):\n",
    "    xf_rot = Xform.rotation( angle = -skw*pi/4 )\n",
    "    return xf_rot*Point(0, t, (hei/2)*(1-cos(2*pi*t/len)))\n",
    "\n",
    "generator = Curve( func_gen, Interval(0, len) )\n",
    "directrix = Curve( func_dir, Interval(0, len) )\n",
    "srf = TranslationalSurface( generator, directrix, Point() )"
   ]
  },
  {
   "cell_type": "markdown",
   "metadata": {},
   "source": [
    "#### Elliptic Paraboloid"
   ]
  },
  {
   "cell_type": "markdown",
   "metadata": {},
   "source": [
    "<img src=\"http://geometric-computation-images.s3-website-us-east-1.amazonaws.com/1.12.E06.P03.jpg\" style=\"width: 200px; display: inline;\">"
   ]
  },
  {
   "cell_type": "code",
   "execution_count": null,
   "metadata": {},
   "outputs": [],
   "source": [
    "\"\"\"\n",
    "Elliptic Paraboloid\n",
    "Constructs a Surface given parameters for the length len, width wid, and height hei.\n",
    "\"\"\"\n",
    "def func_gen(t):\n",
    "    return Point( len*t, 0, hei*t*t )\n",
    "\n",
    "def func_dir(t):\n",
    "    return Point( 0, wid*t, hei*t*t )\n",
    "\n",
    "generator = Curve( func_gen, Interval(-1,1) )\n",
    "directrix = Curve( func_dir, Interval(-1,1) ) \n",
    "srf = TranslationalSurface( generator, directrix, Point() )"
   ]
  },
  {
   "cell_type": "markdown",
   "metadata": {},
   "source": [
    "#### Hyperbolic Paraboloid"
   ]
  },
  {
   "cell_type": "markdown",
   "metadata": {},
   "source": [
    "<img src=\"http://geometric-computation-images.s3-website-us-east-1.amazonaws.com/1.12.E06.P04.jpg\" style=\"width: 200px; display: inline;\">"
   ]
  },
  {
   "cell_type": "code",
   "execution_count": null,
   "metadata": {},
   "outputs": [],
   "source": [
    "\"\"\"\n",
    "Hyperbolic Paraboloid\n",
    "Constructs a Surface given parameters for the length len, width wid, and height hei. Although the \n",
    "parameterization and the boundary conditions differ, this surface is identical to that constructed \n",
    "as a ruled surface by connecting two Segments.\n",
    "\"\"\"\n",
    "def func_gen(t):\n",
    "    return Point( len*t, 0, hei*t*t )\n",
    "\n",
    "def func_dir(t):\n",
    "    return Point( 0, wid*t, -hei*t*t )\n",
    "   \n",
    "generator = Curve( func_gen, Interval(-1,1) )\n",
    "directrix = Curve( func_dir, Interval(-1,1) )    \n",
    "srf = TranslationalSurface( generator, directrix, Point() )"
   ]
  },
  {
   "cell_type": "markdown",
   "metadata": {},
   "source": [
    "## Ruled Surfaces\n",
    "\n",
    "A ruled surface is one that can be generated by moving a straight line\n",
    "in space along some set of guide curves. The straight lines are called\n",
    "the ***rulings*** of the surface. \n",
    "\n",
    "The two main ways of constructing such a\n",
    "surface reflect the two descriptions of a line: one that is defined by a\n",
    "point and direction, and the other by its endpoints."
   ]
  },
  {
   "cell_type": "markdown",
   "metadata": {},
   "source": [
    "### Base-Director Construction\n",
    "\n",
    "The first construction uses a directrix or base curve to describe the path of a point on the line, and a director curve which gives the direction of each ruling in the form of a unit vector at each point."
   ]
  },
  {
   "cell_type": "markdown",
   "metadata": {},
   "source": [
    "<img src=\"http://geometric-computation-images.s3-website-us-east-1.amazonaws.com/1.12.P11.jpg\" style=\"width: 600px; display: inline;\">"
   ]
  },
  {
   "cell_type": "code",
   "execution_count": null,
   "metadata": {},
   "outputs": [],
   "source": [
    "\"\"\"\n",
    "Base-Director Construction of a Ruled Surface \n",
    "Construction by moving a Segment of fixed length along a base curve with direction given by director\n",
    "\"\"\"\n",
    "def func(u,v):\n",
    "    return base_crv.eval(u) + director_crv.eval(u)*v"
   ]
  },
  {
   "cell_type": "markdown",
   "metadata": {},
   "source": [
    "### Point-Pair Construction\n",
    "\n",
    "Here, two given input curves are\n",
    "connected by corresponding points, which together determine the\n",
    "endpoints of each ruling."
   ]
  },
  {
   "cell_type": "markdown",
   "metadata": {},
   "source": [
    "<img src=\"http://geometric-computation-images.s3-website-us-east-1.amazonaws.com/1.12.P12.jpg\" style=\"width: 200px; display: inline;\">"
   ]
  },
  {
   "cell_type": "code",
   "execution_count": null,
   "metadata": {},
   "outputs": [],
   "source": [
    "\"\"\"\n",
    "Point-Pair Construction of a Ruled Surface\n",
    "Construction by connecting corresponding points along two curves\n",
    "\"\"\"\n",
    "def func(u,v):\n",
    "    ruling = Segment(crv_a.eval(u), crv_b.eval(u))\n",
    "    return ruling.eval(v)"
   ]
  },
  {
   "cell_type": "markdown",
   "metadata": {},
   "source": [
    "<img src=\"http://geometric-computation-images.s3-website-us-east-1.amazonaws.com/1.12.P13.jpg\" style=\"width: 600px; display: inline;\">"
   ]
  },
  {
   "cell_type": "markdown",
   "metadata": {},
   "source": [
    "### Gallery of Ruled Surfaces\n",
    "\n",
    "The range of forms in this remarkable class of surfaces belies the simplicity of its construction. Two constructions are demonstrated below. The first pair of Surfaces constructs rulings by two Curves: a base curve `crv_base` to describe the path of a point, and a director curve `crv_dirc` which gives the direction of each ruling. The second pair of Surfaces shown below constructs rulings more directly, by connecting matching pairs of points on two defined Curves, `crv_a` and `crv_b`. Note the alternative construction of the hyperbolic paraboloid, which may also be described as a translational surface."
   ]
  },
  {
   "cell_type": "markdown",
   "metadata": {},
   "source": [
    "#### Conoid"
   ]
  },
  {
   "cell_type": "markdown",
   "metadata": {},
   "source": [
    "<img src=\"http://geometric-computation-images.s3-website-us-east-1.amazonaws.com/1.12.E06.P07.jpg\" style=\"width: 200px; display: inline;\">"
   ]
  },
  {
   "cell_type": "code",
   "execution_count": null,
   "metadata": {},
   "outputs": [],
   "source": [
    "\"\"\"\n",
    "Conoid\n",
    "Given a desired height hei, width wid, and integer number of turns trns, a Conoid Surface is \n",
    "defined with a base Curve of a vertical line Segment, a director Curve of a unit circle.\n",
    "\"\"\"\n",
    "crv_base = Segment(Point(), Point(0, 0, hei)) \n",
    "crv_dirc = Curve.circle( ival = Interval(0, trns*two_pi) )\n",
    "\n",
    "def func(u,v):\n",
    "    return crv_base.eval(u) + crv_dirc.eval(u)*v\n",
    "    \n",
    "surf = Surface( func, Interval(), Interval(0,wid) ) "
   ]
  },
  {
   "cell_type": "markdown",
   "metadata": {},
   "source": [
    "#### Mobius Band"
   ]
  },
  {
   "cell_type": "markdown",
   "metadata": {},
   "source": [
    "<img src=\"http://geometric-computation-images.s3-website-us-east-1.amazonaws.com/1.12.E06.P08.jpg\" style=\"width: 200px; display: inline;\">"
   ]
  },
  {
   "cell_type": "code",
   "execution_count": null,
   "metadata": {},
   "outputs": [],
   "source": [
    "\"\"\"\n",
    "Mobius Band\n",
    "Given a base radius rad, and a width wid, a Mobius Band is constructed with a base Curve of a \n",
    "circle and a director Curve that resembles a spherical bow-tie. \n",
    "\"\"\"\n",
    "\n",
    "def func_dirc(t):\n",
    "    return Point( cos(t/2)*cos(t), cos(t/2)*sin(t), sin(t/2) )\n",
    "\n",
    "crv_base = Curve.circle(rad = rad)\n",
    "crv_dirc = Curve(func_dirc, Interval.twopi())\n",
    "\n",
    "def func(u,v):\n",
    "    return crv_base.eval(u) + crv_dirc.eval(u)*v\n",
    "    \n",
    "surf = Surface( func, Interval(), Interval(-v1,v1) ) "
   ]
  },
  {
   "cell_type": "markdown",
   "metadata": {},
   "source": [
    "#### Torqued Ellipse"
   ]
  },
  {
   "cell_type": "markdown",
   "metadata": {},
   "source": [
    "<img src=\"http://geometric-computation-images.s3-website-us-east-1.amazonaws.com/1.12.E06.P06.jpg\" style=\"width: 200px; display: inline;\">"
   ]
  },
  {
   "cell_type": "code",
   "execution_count": null,
   "metadata": {},
   "outputs": [],
   "source": [
    "\"\"\"\n",
    "Torqued Ellipse\n",
    "Constructs a ruled surface between two perpendicular-facing ellipses given parameters for the length \n",
    "len, width wid, and height hei of each. Note that the center of ellipse B is shifted. Inspired by the \n",
    "Richard Serra sculpture series with same name.\n",
    "\"\"\"\n",
    "\n",
    "def func_a(t):\n",
    "    return Point( len*cos(t), wid*sin(t) )\n",
    "\n",
    "def func_b(t):\n",
    "    return Point( wid*cos(t)-0.5, len*sin(t), hei )\n",
    "    \n",
    "crv_a = Curve(func_a, Interval(0, 1.9*pi))\n",
    "crv_b = Curve(func_b, Interval(.1*pi, 2*pi))\n",
    "\n",
    "\n",
    "def func(u,v):\n",
    "    return Segment( crv_a.eval(u), crv_b.eval(u) ).eval(v)\n",
    "\n",
    "surf = Surface(func)"
   ]
  },
  {
   "cell_type": "markdown",
   "metadata": {},
   "source": [
    "#### Hyperbolic Paraboloid"
   ]
  },
  {
   "cell_type": "markdown",
   "metadata": {},
   "source": [
    "<img src=\"http://geometric-computation-images.s3-website-us-east-1.amazonaws.com/1.12.E06.P05.jpg\" style=\"width: 200px; display: inline;\">"
   ]
  },
  {
   "cell_type": "code",
   "execution_count": null,
   "metadata": {},
   "outputs": [],
   "source": [
    "\"\"\"\n",
    "Hyperbolic Paraboloid\n",
    "Demonstrates the construction of a hyperbolic paraboloid as a ruled surface by connecting points on \n",
    "two line Segments. Although the parameterization and the boundary conditions differ, this surface is \n",
    "identical to that constructed via translation.\n",
    "\"\"\"\n",
    "crv_a = Segment(Point(len, 0, hei), Point(0, wid, -hei))\n",
    "crv_b = Segment(Point(0, -wid, -hei), Point(-len, 0, hei))\n",
    "\n",
    "def func(u,v):\n",
    "    return Segment( crv_a.eval(u), crv_b.eval(u) ).eval(v)\n",
    "\n",
    "surf = Surface(func)"
   ]
  },
  {
   "cell_type": "markdown",
   "metadata": {},
   "source": [
    "## Protean Classical Surfaces"
   ]
  },
  {
   "cell_type": "markdown",
   "metadata": {},
   "source": [
    "<img src=\"http://geometric-computation-images.s3-website-us-east-1.amazonaws.com/1.12.E06.P10.jpg\" style=\"width: 200px; display: inline;\">"
   ]
  },
  {
   "cell_type": "code",
   "execution_count": null,
   "metadata": {},
   "outputs": [],
   "source": [
    "\"\"\"\n",
    "Hyperboloid\n",
    "Constructed by connecting points on two circles\n",
    "\"\"\"\n",
    "#circle in plane\n",
    "crv_a = Curve.circle(Point(), rad))\n",
    "\n",
    "#circle at height with shifted startpoint\n",
    "def circle_twist(t):\n",
    "    x = rad*cos(t+twist)\n",
    "    y = rad*sin(t+twist)\n",
    "    #height expressed in terms of length and twist\n",
    "    z = sqrt(length*length-4*(sin(twist/2))**2) \n",
    "    return Point(x,y,z)\n",
    "\n",
    "crv_b = Curve(circle_twist, Interval.twopi()))"
   ]
  },
  {
   "cell_type": "markdown",
   "metadata": {},
   "source": [
    "<img src=\"http://geometric-computation-images.s3-website-us-east-1.amazonaws.com/1.12.E06.P11.jpg\" style=\"width: 600px; display: inline;\">"
   ]
  },
  {
   "cell_type": "code",
   "execution_count": null,
   "metadata": {},
   "outputs": [],
   "source": []
  }
 ],
 "metadata": {
  "kernelspec": {
   "display_name": "Python 2",
   "language": "python",
   "name": "python2"
  },
  "language_info": {
   "codemirror_mode": {
    "name": "ipython",
    "version": 2
   },
   "file_extension": ".py",
   "mimetype": "text/x-python",
   "name": "python",
   "nbconvert_exporter": "python",
   "pygments_lexer": "ipython2",
   "version": "2.7.10"
  }
 },
 "nbformat": 4,
 "nbformat_minor": 2
}
