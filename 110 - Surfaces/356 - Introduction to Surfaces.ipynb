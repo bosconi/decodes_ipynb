{
 "cells": [
  {
   "cell_type": "code",
   "execution_count": null,
   "metadata": {},
   "outputs": [],
   "source": [
    "from decodes.core import *\n",
    "from decodes.io.jupyter_out import JupyterOut\n",
    "import math\n",
    "\n",
    "out = JupyterOut.unit_square( )"
   ]
  },
  {
   "cell_type": "markdown",
   "metadata": {},
   "source": [
    "# Introduction to Surfaces"
   ]
  },
  {
   "cell_type": "markdown",
   "metadata": {},
   "source": [
    "The story of surfaces is a natural sequel to that of curves.\n",
    "\n",
    "The accessibility of complex surface forms has been greatly improved by the intuitive interfaces provided by modern CAD environments. Again, we find that such convenience can come at a cost.\n",
    "\n",
    "In years past, the mere graphical depiction of a surface required knowledge of its geometric construction. Highly specialized proficiencies were among the mainstays of technical drawing, and were required skills for a range of design disciplines.\n",
    "\n",
    "The rigor required by these graphic constructions instilled in the designer an innate understanding of the relationship between certain classes of form and the geometric properties they exhibit.\n",
    "\n",
    "While the exuberance enabled by software has all but severed this relationship between the production of forms and knowledge of their underlying geometric construction, it has not alleviated the importance of the latter.\n",
    "\n",
    "This is especially true when surfaces are valued for not only what they look like, but also for what they do.\n",
    "\n",
    "While the art of technical drawing by hand is all but lost, the geometric rigor it instilled has found new expression in a computational landscape.\n"
   ]
  },
  {
   "cell_type": "markdown",
   "metadata": {},
   "source": [
    "We continue the narrative begun in the previous chapter, and introduce here ***the craft of surface parameterization***.\n",
    "\n",
    "A parametric representation is once again employed as a lower-level description that can encompass a range of common surfaces.\n",
    "\n",
    "The transition to free-form surfaces here includes an intermediate step of introducing a special class of surfaces formed from kinematic actions on curves. These classical surfaces – rotational, translational and ruled – are easy to overlook in today’s landscape of “rubber sheet” NURBS surface modeling."
   ]
  },
  {
   "cell_type": "code",
   "execution_count": null,
   "metadata": {},
   "outputs": [],
   "source": []
  }
 ],
 "metadata": {
  "kernelspec": {
   "display_name": "Python 2",
   "language": "python",
   "name": "python2"
  },
  "language_info": {
   "codemirror_mode": {
    "name": "ipython",
    "version": 2
   },
   "file_extension": ".py",
   "mimetype": "text/x-python",
   "name": "python",
   "nbconvert_exporter": "python",
   "pygments_lexer": "ipython2",
   "version": "2.7.10"
  }
 },
 "nbformat": 4,
 "nbformat_minor": 2
}
